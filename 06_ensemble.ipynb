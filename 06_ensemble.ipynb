{
 "cells": [
  {
   "cell_type": "code",
   "execution_count": 58,
   "id": "ea6fc57c-105e-45bc-9260-bbd2d66dcb74",
   "metadata": {},
   "outputs": [
    {
     "name": "stdout",
     "output_type": "stream",
     "text": [
      "The autoreload extension is already loaded. To reload it, use:\n",
      "  %reload_ext autoreload\n"
     ]
    }
   ],
   "source": [
    "%load_ext autoreload\n",
    "%autoreload 2"
   ]
  },
  {
   "cell_type": "code",
   "execution_count": 69,
   "id": "00ba7cdf-3f46-48da-bb82-9d087df31d70",
   "metadata": {},
   "outputs": [
    {
     "data": {
      "text/plain": [
       "['_results/result_paper/net000_000.onnx',\n",
       " '_results/result_paper/net001_001.onnx',\n",
       " '_results/result_paper/net002_002.onnx',\n",
       " '_results/result_paper/net003_003.onnx',\n",
       " '_results/result_paper/net004_004.onnx',\n",
       " '_results/result_paper/net005_005.onnx',\n",
       " '_results/result_paper/net006_006.onnx',\n",
       " '_results/result_paper/net007_007.onnx',\n",
       " '_results/result_paper/net008_008.onnx',\n",
       " '_results/result_paper/net009_009.onnx',\n",
       " '_results/result_paper/net010_010.onnx',\n",
       " '_results/result_paper/net011_011.onnx',\n",
       " '_results/result_paper/net012_012.onnx',\n",
       " '_results/result_paper/net013_013.onnx',\n",
       " '_results/result_paper/net014_014.onnx',\n",
       " '_results/result_paper/net015_015.onnx',\n",
       " '_results/result_paper/net016_016.onnx',\n",
       " '_results/result_paper/net017_017.onnx',\n",
       " '_results/result_paper/net018_018.onnx',\n",
       " '_results/result_paper/net019_019.onnx',\n",
       " '_results/result_paper/net020_020.onnx',\n",
       " '_results/result_paper/net021_021.onnx',\n",
       " '_results/result_paper/net022_022.onnx',\n",
       " '_results/result_paper/net023_023.onnx',\n",
       " '_results/result_paper/net024_024.onnx',\n",
       " '_results/result_paper/net025_025.onnx',\n",
       " '_results/result_paper/net026_026.onnx',\n",
       " '_results/result_paper/net027_027.onnx',\n",
       " '_results/result_paper/net028_028.onnx',\n",
       " '_results/result_paper/net029_029.onnx',\n",
       " '_results/result_paper/net030_030.onnx',\n",
       " '_results/result_paper/net031_031.onnx',\n",
       " '_results/result_paper/net032_032.onnx',\n",
       " '_results/result_paper/net033_033.onnx',\n",
       " '_results/result_paper/net034_034.onnx',\n",
       " '_results/result_paper/net035_035.onnx',\n",
       " '_results/result_paper/net036_036.onnx',\n",
       " '_results/result_paper/net037_037.onnx',\n",
       " '_results/result_paper/net038_038.onnx',\n",
       " '_results/result_paper/net039_039.onnx',\n",
       " '_results/result_paper/net040_040.onnx',\n",
       " '_results/result_paper/net041_041.onnx',\n",
       " '_results/result_paper/net042_042.onnx',\n",
       " '_results/result_paper/net043_043.onnx',\n",
       " '_results/result_paper/net044_044.onnx',\n",
       " '_results/result_paper/net045_045.onnx',\n",
       " '_results/result_paper/net046_046.onnx',\n",
       " '_results/result_paper/net047_047.onnx',\n",
       " '_results/result_paper/net048_048.onnx',\n",
       " '_results/result_paper/net049_049.onnx',\n",
       " '_results/result_paper/net050_050.onnx',\n",
       " '_results/result_paper/net051_051.onnx',\n",
       " '_results/result_paper/net052_052.onnx',\n",
       " '_results/result_paper/net053_053.onnx',\n",
       " '_results/result_paper/net054_054.onnx',\n",
       " '_results/result_paper/net055_055.onnx',\n",
       " '_results/result_paper/net056_056.onnx',\n",
       " '_results/result_paper/net057_057.onnx']"
      ]
     },
     "execution_count": 69,
     "metadata": {},
     "output_type": "execute_result"
    }
   ],
   "source": [
    "from glob import glob\n",
    "models = sorted(glob('_results/result_paper/*.onnx'))\n",
    "models"
   ]
  },
  {
   "cell_type": "code",
   "execution_count": null,
   "id": "8f2d7c99-ff81-4e4b-8d6f-1747679a1407",
   "metadata": {
    "tags": []
   },
   "outputs": [
    {
     "name": "stderr",
     "output_type": "stream",
     "text": [
      "  0%|          | 0/2 [00:00<?, ?it/s]2022-08-10 08:05:59.930155 [W:onnxruntime:, execution_frame.cc:812 VerifyOutputSizes] Expected shape from model of {1,1000} does not match actual shape of {64,1000} for output 36\n",
      " 50%|█████     | 1/2 [00:00<00:00,  1.58it/s]2022-08-10 08:06:00.206948 [W:onnxruntime:, execution_frame.cc:812 VerifyOutputSizes] Expected shape from model of {1,1000} does not match actual shape of {27,1000} for output 36\n",
      "100%|██████████| 2/2 [00:00<00:00,  2.20it/s]\n",
      "  0%|          | 0/2 [00:00<?, ?it/s]2022-08-10 08:06:01.142758 [W:onnxruntime:, execution_frame.cc:812 VerifyOutputSizes] Expected shape from model of {1,1000} does not match actual shape of {64,1000} for output 36\n",
      " 50%|█████     | 1/2 [00:00<00:00,  1.38it/s]2022-08-10 08:06:01.524142 [W:onnxruntime:, execution_frame.cc:812 VerifyOutputSizes] Expected shape from model of {1,1000} does not match actual shape of {27,1000} for output 36\n",
      "100%|██████████| 2/2 [00:01<00:00,  1.81it/s]\n",
      "  0%|          | 0/2 [00:00<?, ?it/s]2022-08-10 08:06:02.555538 [W:onnxruntime:, execution_frame.cc:812 VerifyOutputSizes] Expected shape from model of {1,1000} does not match actual shape of {64,1000} for output 36\n",
      " 50%|█████     | 1/2 [00:00<00:00,  1.46it/s]"
     ]
    }
   ],
   "source": [
    "import onnxruntime as ort\n",
    "from tqdm import tqdm\n",
    "import torch\n",
    "import numpy as np\n",
    "from stitchnet.ensemble.ensemble import get_ensemble_accuracy\n",
    "\n",
    "dataset = load_cats_and_dogs_dset(\"test\")\n",
    "acc, indvaccs = get_ensemble_accuracy(models, dataset)"
   ]
  },
  {
   "cell_type": "code",
   "execution_count": null,
   "id": "bb635c8d-b818-4768-8458-2995f506551a",
   "metadata": {},
   "outputs": [],
   "source": [
    "with open('_results/ensemble.txt', 'w') as f:\n",
    "    f.write(f'{acc}\\n')\n",
    "    for indvacc in indvaccs:\n",
    "        f.write(f'{acc}\\n')"
   ]
  },
  {
   "cell_type": "code",
   "execution_count": null,
   "id": "987d713e-8f17-4f33-82e9-43869c4d2993",
   "metadata": {},
   "outputs": [],
   "source": []
  }
 ],
 "metadata": {
  "kernelspec": {
   "display_name": "stitchnet",
   "language": "python",
   "name": "stitchnet"
  },
  "language_info": {
   "codemirror_mode": {
    "name": "ipython",
    "version": 3
   },
   "file_extension": ".py",
   "mimetype": "text/x-python",
   "name": "python",
   "nbconvert_exporter": "python",
   "pygments_lexer": "ipython3",
   "version": "3.10.4"
  }
 },
 "nbformat": 4,
 "nbformat_minor": 5
}
