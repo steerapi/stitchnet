{
 "cells": [
  {
   "cell_type": "code",
   "execution_count": 1,
   "id": "f02463b7-9fb2-4fc9-b3d4-963da1093a32",
   "metadata": {},
   "outputs": [],
   "source": [
    "%load_ext autoreload\n",
    "%autoreload 2"
   ]
  },
  {
   "cell_type": "code",
   "execution_count": 2,
   "id": "4b8e43cb-85ac-4351-8641-bcbee78fe733",
   "metadata": {
    "collapsed": true,
    "jupyter": {
     "outputs_hidden": true
    },
    "tags": []
   },
   "outputs": [
    {
     "name": "stderr",
     "output_type": "stream",
     "text": [
      "/home/jupyter-steerapi/.conda/envs/stitchnet/lib/python3.10/site-packages/tqdm/auto.py:22: TqdmWarning: IProgress not found. Please update jupyter and ipywidgets. See https://ipywidgets.readthedocs.io/en/stable/user_install.html\n",
      "  from .autonotebook import tqdm as notebook_tqdm\n",
      "/home/jupyter-steerapi/.conda/envs/stitchnet/lib/python3.10/site-packages/torchvision/io/image.py:13: UserWarning: Failed to load image Python extension: /home/jupyter-steerapi/.conda/envs/stitchnet/lib/python3.10/site-packages/torchvision/image.so: undefined symbol: _ZN3c106detail19maybe_wrap_dim_slowEllb\n",
      "  warn(f\"Failed to load image Python extension: {e}\")\n"
     ]
    },
    {
     "name": "stdout",
     "output_type": "stream",
     "text": [
      "['_models/alexnet.onnx', '_models/densenet121.onnx', '_models/mobilenet_v3_small.onnx', '_models/resnet50.onnx', '_models/vgg16.onnx']\n"
     ]
    },
    {
     "name": "stderr",
     "output_type": "stream",
     "text": [
      "0it [00:00, ?it/s]"
     ]
    },
    {
     "name": "stdout",
     "output_type": "stream",
     "text": [
      "[POTENTIAL SPLIT LOCATIONS]: ['input.4', 'input.12', 'onnx::Conv_24', 'onnx::Conv_26', 'input.32', 'onnx::Gemm_33', 'onnx::Gemm_35']\n"
     ]
    },
    {
     "name": "stderr",
     "output_type": "stream",
     "text": [
      "/home/jupyter-steerapi/.conda/envs/stitchnet/lib/python3.10/site-packages/onnxruntime/capi/onnxruntime_inference_collection.py:54: UserWarning: Specified provider 'CUDAExecutionProvider' is not in available provider names.Available providers: 'CPUExecutionProvider'\n",
      "  warnings.warn(\n",
      "1it [00:15, 15.11s/it]"
     ]
    },
    {
     "name": "stdout",
     "output_type": "stream",
     "text": [
      "[POTENTIAL SPLIT LOCATIONS]: ['onnx::Conv_734', 'onnx::Conv_737', 'onnx::Conv_741', 'onnx::Conv_744', 'onnx::Conv_748', 'onnx::Conv_751', 'onnx::Conv_755', 'onnx::Conv_758', 'onnx::Conv_762', 'onnx::Conv_765', 'onnx::Conv_769', 'onnx::Conv_772', 'onnx::Conv_776', 'onnx::Conv_782', 'onnx::Conv_785', 'onnx::Conv_789', 'onnx::Conv_792', 'onnx::Conv_796', 'onnx::Conv_799', 'onnx::Conv_803', 'onnx::Conv_806', 'onnx::Conv_810', 'onnx::Conv_813', 'onnx::Conv_817', 'onnx::Conv_820', 'onnx::Conv_824', 'onnx::Conv_827', 'onnx::Conv_831', 'onnx::Conv_834', 'onnx::Conv_838', 'onnx::Conv_841', 'onnx::Conv_845', 'onnx::Conv_848', 'onnx::Conv_852', 'onnx::Conv_855', 'onnx::Conv_859', 'onnx::Conv_862', 'onnx::Conv_866', 'onnx::Conv_872', 'onnx::Conv_875', 'onnx::Conv_879', 'onnx::Conv_882', 'onnx::Conv_886', 'onnx::Conv_889', 'onnx::Conv_893', 'onnx::Conv_896', 'onnx::Conv_900', 'onnx::Conv_903', 'onnx::Conv_907', 'onnx::Conv_910', 'onnx::Conv_914', 'onnx::Conv_917', 'onnx::Conv_921', 'onnx::Conv_924', 'onnx::Conv_928', 'onnx::Conv_931', 'onnx::Conv_935', 'onnx::Conv_938', 'onnx::Conv_942', 'onnx::Conv_945', 'onnx::Conv_949', 'onnx::Conv_952', 'onnx::Conv_956', 'onnx::Conv_959', 'onnx::Conv_963', 'onnx::Conv_966', 'onnx::Conv_970', 'onnx::Conv_973', 'onnx::Conv_977', 'onnx::Conv_980', 'onnx::Conv_984', 'onnx::Conv_987', 'onnx::Conv_991', 'onnx::Conv_994', 'onnx::Conv_998', 'onnx::Conv_1001', 'onnx::Conv_1005', 'onnx::Conv_1008', 'onnx::Conv_1012', 'onnx::Conv_1015', 'onnx::Conv_1019', 'onnx::Conv_1022', 'onnx::Conv_1026', 'onnx::Conv_1029', 'onnx::Conv_1033', 'onnx::Conv_1036', 'onnx::Conv_1040', 'onnx::Conv_1046', 'onnx::Conv_1049', 'onnx::Conv_1053', 'onnx::Conv_1056', 'onnx::Conv_1060', 'onnx::Conv_1063', 'onnx::Conv_1067', 'onnx::Conv_1070', 'onnx::Conv_1074', 'onnx::Conv_1077', 'onnx::Conv_1081', 'onnx::Conv_1084', 'onnx::Conv_1088', 'onnx::Conv_1091', 'onnx::Conv_1095', 'onnx::Conv_1098', 'onnx::Conv_1102', 'onnx::Conv_1105', 'onnx::Conv_1109', 'onnx::Conv_1112', 'onnx::Conv_1116', 'onnx::Conv_1119', 'onnx::Conv_1123', 'onnx::Conv_1126', 'onnx::Conv_1130', 'onnx::Conv_1133', 'onnx::Conv_1137', 'onnx::Conv_1140', 'onnx::Conv_1144', 'onnx::Conv_1147', 'onnx::Conv_1151', 'onnx::Conv_1154', 'onnx::Gemm_1160']\n",
      "[WARNING]: 0 onnx::Conv_734 Input input.1 is undefined!\n",
      "[WARNING]: 1 onnx::Conv_737 Input input.1 is undefined!\n",
      "[WARNING]: 2 onnx::Conv_741 Input input.1 is undefined!\n",
      "[WARNING]: 3 onnx::Conv_744 Input input.1 is undefined!\n",
      "[WARNING]: 4 onnx::Conv_748 Input input.1 is undefined!\n",
      "[WARNING]: 5 onnx::Conv_751 Input input.1 is undefined!\n",
      "[WARNING]: 6 onnx::Conv_755 Input input.1 is undefined!\n",
      "[WARNING]: 7 onnx::Conv_758 Input input.1 is undefined!\n",
      "[WARNING]: 8 onnx::Conv_762 Input input.1 is undefined!\n",
      "[WARNING]: 9 onnx::Conv_765 Input input.1 is undefined!\n",
      "[WARNING]: 10 onnx::Conv_769 Input input.1 is undefined!\n",
      "[WARNING]: 11 onnx::Conv_772 Input input.1 is undefined!\n",
      "[WARNING]: 13 onnx::Conv_782 Input onnx::Conv_776 is undefined!\n",
      "[WARNING]: 14 onnx::Conv_785 Input onnx::Conv_776 is undefined!\n",
      "[WARNING]: 15 onnx::Conv_789 Input onnx::Conv_776 is undefined!\n",
      "[WARNING]: 16 onnx::Conv_792 Input onnx::Conv_776 is undefined!\n",
      "[WARNING]: 17 onnx::Conv_796 Input onnx::Conv_776 is undefined!\n",
      "[WARNING]: 18 onnx::Conv_799 Input onnx::Conv_776 is undefined!\n",
      "[WARNING]: 19 onnx::Conv_803 Input onnx::Conv_776 is undefined!\n",
      "[WARNING]: 20 onnx::Conv_806 Input onnx::Conv_776 is undefined!\n",
      "[WARNING]: 21 onnx::Conv_810 Input onnx::Conv_776 is undefined!\n",
      "[WARNING]: 22 onnx::Conv_813 Input onnx::Conv_776 is undefined!\n",
      "[WARNING]: 23 onnx::Conv_817 Input onnx::Conv_776 is undefined!\n",
      "[WARNING]: 24 onnx::Conv_820 Input onnx::Conv_776 is undefined!\n",
      "[WARNING]: 25 onnx::Conv_824 Input onnx::Conv_776 is undefined!\n",
      "[WARNING]: 26 onnx::Conv_827 Input onnx::Conv_776 is undefined!\n",
      "[WARNING]: 27 onnx::Conv_831 Input onnx::Conv_776 is undefined!\n",
      "[WARNING]: 28 onnx::Conv_834 Input onnx::Conv_776 is undefined!\n",
      "[WARNING]: 29 onnx::Conv_838 Input onnx::Conv_776 is undefined!\n",
      "[WARNING]: 30 onnx::Conv_841 Input onnx::Conv_776 is undefined!\n",
      "[WARNING]: 31 onnx::Conv_845 Input onnx::Conv_776 is undefined!\n",
      "[WARNING]: 32 onnx::Conv_848 Input onnx::Conv_776 is undefined!\n",
      "[WARNING]: 33 onnx::Conv_852 Input onnx::Conv_776 is undefined!\n",
      "[WARNING]: 34 onnx::Conv_855 Input onnx::Conv_776 is undefined!\n",
      "[WARNING]: 35 onnx::Conv_859 Input onnx::Conv_776 is undefined!\n",
      "[WARNING]: 36 onnx::Conv_862 Input onnx::Conv_776 is undefined!\n",
      "[WARNING]: 38 onnx::Conv_872 Input onnx::Conv_866 is undefined!\n",
      "[WARNING]: 39 onnx::Conv_875 Input onnx::Conv_866 is undefined!\n",
      "[WARNING]: 40 onnx::Conv_879 Input onnx::Conv_866 is undefined!\n",
      "[WARNING]: 41 onnx::Conv_882 Input onnx::Conv_866 is undefined!\n",
      "[WARNING]: 42 onnx::Conv_886 Input onnx::Conv_866 is undefined!\n",
      "[WARNING]: 43 onnx::Conv_889 Input onnx::Conv_866 is undefined!\n",
      "[WARNING]: 44 onnx::Conv_893 Input onnx::Conv_866 is undefined!\n",
      "[WARNING]: 45 onnx::Conv_896 Input onnx::Conv_866 is undefined!\n",
      "[WARNING]: 46 onnx::Conv_900 Input onnx::Conv_866 is undefined!\n",
      "[WARNING]: 47 onnx::Conv_903 Input onnx::Conv_866 is undefined!\n",
      "[WARNING]: 48 onnx::Conv_907 Input onnx::Conv_866 is undefined!\n",
      "[WARNING]: 49 onnx::Conv_910 Input onnx::Conv_866 is undefined!\n",
      "[WARNING]: 50 onnx::Conv_914 Input onnx::Conv_866 is undefined!\n",
      "[WARNING]: 51 onnx::Conv_917 Input onnx::Conv_866 is undefined!\n",
      "[WARNING]: 52 onnx::Conv_921 Input onnx::Conv_866 is undefined!\n",
      "[WARNING]: 53 onnx::Conv_924 Input onnx::Conv_866 is undefined!\n",
      "[WARNING]: 54 onnx::Conv_928 Input onnx::Conv_866 is undefined!\n",
      "[WARNING]: 55 onnx::Conv_931 Input onnx::Conv_866 is undefined!\n",
      "[WARNING]: 56 onnx::Conv_935 Input onnx::Conv_866 is undefined!\n",
      "[WARNING]: 57 onnx::Conv_938 Input onnx::Conv_866 is undefined!\n",
      "[WARNING]: 58 onnx::Conv_942 Input onnx::Conv_866 is undefined!\n",
      "[WARNING]: 59 onnx::Conv_945 Input onnx::Conv_866 is undefined!\n",
      "[WARNING]: 60 onnx::Conv_949 Input onnx::Conv_866 is undefined!\n",
      "[WARNING]: 61 onnx::Conv_952 Input onnx::Conv_866 is undefined!\n",
      "[WARNING]: 62 onnx::Conv_956 Input onnx::Conv_866 is undefined!\n",
      "[WARNING]: 63 onnx::Conv_959 Input onnx::Conv_866 is undefined!\n",
      "[WARNING]: 64 onnx::Conv_963 Input onnx::Conv_866 is undefined!\n",
      "[WARNING]: 65 onnx::Conv_966 Input onnx::Conv_866 is undefined!\n",
      "[WARNING]: 66 onnx::Conv_970 Input onnx::Conv_866 is undefined!\n",
      "[WARNING]: 67 onnx::Conv_973 Input onnx::Conv_866 is undefined!\n",
      "[WARNING]: 68 onnx::Conv_977 Input onnx::Conv_866 is undefined!\n",
      "[WARNING]: 69 onnx::Conv_980 Input onnx::Conv_866 is undefined!\n",
      "[WARNING]: 70 onnx::Conv_984 Input onnx::Conv_866 is undefined!\n",
      "[WARNING]: 71 onnx::Conv_987 Input onnx::Conv_866 is undefined!\n",
      "[WARNING]: 72 onnx::Conv_991 Input onnx::Conv_866 is undefined!\n",
      "[WARNING]: 73 onnx::Conv_994 Input onnx::Conv_866 is undefined!\n",
      "[WARNING]: 74 onnx::Conv_998 Input onnx::Conv_866 is undefined!\n",
      "[WARNING]: 75 onnx::Conv_1001 Input onnx::Conv_866 is undefined!\n",
      "[WARNING]: 76 onnx::Conv_1005 Input onnx::Conv_866 is undefined!\n",
      "[WARNING]: 77 onnx::Conv_1008 Input onnx::Conv_866 is undefined!\n",
      "[WARNING]: 78 onnx::Conv_1012 Input onnx::Conv_866 is undefined!\n",
      "[WARNING]: 79 onnx::Conv_1015 Input onnx::Conv_866 is undefined!\n",
      "[WARNING]: 80 onnx::Conv_1019 Input onnx::Conv_866 is undefined!\n",
      "[WARNING]: 81 onnx::Conv_1022 Input onnx::Conv_866 is undefined!\n",
      "[WARNING]: 82 onnx::Conv_1026 Input onnx::Conv_866 is undefined!\n",
      "[WARNING]: 83 onnx::Conv_1029 Input onnx::Conv_866 is undefined!\n",
      "[WARNING]: 84 onnx::Conv_1033 Input onnx::Conv_866 is undefined!\n",
      "[WARNING]: 85 onnx::Conv_1036 Input onnx::Conv_866 is undefined!\n",
      "[WARNING]: 87 onnx::Conv_1046 Input onnx::Conv_1040 is undefined!\n",
      "[WARNING]: 88 onnx::Conv_1049 Input onnx::Conv_1040 is undefined!\n",
      "[WARNING]: 89 onnx::Conv_1053 Input onnx::Conv_1040 is undefined!\n",
      "[WARNING]: 90 onnx::Conv_1056 Input onnx::Conv_1040 is undefined!\n",
      "[WARNING]: 91 onnx::Conv_1060 Input onnx::Conv_1040 is undefined!\n",
      "[WARNING]: 92 onnx::Conv_1063 Input onnx::Conv_1040 is undefined!\n",
      "[WARNING]: 93 onnx::Conv_1067 Input onnx::Conv_1040 is undefined!\n",
      "[WARNING]: 94 onnx::Conv_1070 Input onnx::Conv_1040 is undefined!\n",
      "[WARNING]: 95 onnx::Conv_1074 Input onnx::Conv_1040 is undefined!\n",
      "[WARNING]: 96 onnx::Conv_1077 Input onnx::Conv_1040 is undefined!\n",
      "[WARNING]: 97 onnx::Conv_1081 Input onnx::Conv_1040 is undefined!\n",
      "[WARNING]: 98 onnx::Conv_1084 Input onnx::Conv_1040 is undefined!\n",
      "[WARNING]: 99 onnx::Conv_1088 Input onnx::Conv_1040 is undefined!\n",
      "[WARNING]: 100 onnx::Conv_1091 Input onnx::Conv_1040 is undefined!\n",
      "[WARNING]: 101 onnx::Conv_1095 Input onnx::Conv_1040 is undefined!\n",
      "[WARNING]: 102 onnx::Conv_1098 Input onnx::Conv_1040 is undefined!\n",
      "[WARNING]: 103 onnx::Conv_1102 Input onnx::Conv_1040 is undefined!\n",
      "[WARNING]: 104 onnx::Conv_1105 Input onnx::Conv_1040 is undefined!\n",
      "[WARNING]: 105 onnx::Conv_1109 Input onnx::Conv_1040 is undefined!\n",
      "[WARNING]: 106 onnx::Conv_1112 Input onnx::Conv_1040 is undefined!\n",
      "[WARNING]: 107 onnx::Conv_1116 Input onnx::Conv_1040 is undefined!\n",
      "[WARNING]: 108 onnx::Conv_1119 Input onnx::Conv_1040 is undefined!\n",
      "[WARNING]: 109 onnx::Conv_1123 Input onnx::Conv_1040 is undefined!\n",
      "[WARNING]: 110 onnx::Conv_1126 Input onnx::Conv_1040 is undefined!\n",
      "[WARNING]: 111 onnx::Conv_1130 Input onnx::Conv_1040 is undefined!\n",
      "[WARNING]: 112 onnx::Conv_1133 Input onnx::Conv_1040 is undefined!\n",
      "[WARNING]: 113 onnx::Conv_1137 Input onnx::Conv_1040 is undefined!\n",
      "[WARNING]: 114 onnx::Conv_1140 Input onnx::Conv_1040 is undefined!\n",
      "[WARNING]: 115 onnx::Conv_1144 Input onnx::Conv_1040 is undefined!\n",
      "[WARNING]: 116 onnx::Conv_1147 Input onnx::Conv_1040 is undefined!\n",
      "[WARNING]: 117 onnx::Conv_1151 Input onnx::Conv_1040 is undefined!\n"
     ]
    },
    {
     "name": "stderr",
     "output_type": "stream",
     "text": [
      "2it [00:28, 14.11s/it]"
     ]
    },
    {
     "name": "stdout",
     "output_type": "stream",
     "text": [
      "[WARNING]: 118 onnx::Conv_1154 Input onnx::Conv_1040 is undefined!\n",
      "[POTENTIAL SPLIT LOCATIONS]: ['input.16', 'input.24', 'input.32', 'input.40', 'onnx::Conv_265', 'input.64', 'onnx::Conv_273', 'onnx::Conv_276', 'input.104', 'input.112', 'input.120', 'input.128', 'input.148', 'input.156', 'input.164', 'onnx::Conv_309', 'input.188', 'input.196', 'input.204', 'onnx::Conv_326', 'input.228', 'input.236', 'input.244', 'input.252', 'input.272', 'input.280', 'input.288', 'onnx::Conv_359', 'input.312', 'input.320', 'input.328', 'input.336', 'input.356', 'input.364', 'input.372', 'onnx::Conv_392', 'input.396', 'input.404', 'input.412', 'onnx::Conv_409', 'onnx::Gemm_415', 'onnx::Gemm_418']\n",
      "[WARNING]: 0 input.16 Input input.1 is undefined!\n",
      "[WARNING]: 1 input.24 Input input.1 is undefined!\n",
      "[WARNING]: 6 onnx::Conv_273 Input onnx::Conv_265 is undefined!\n",
      "[WARNING]: 8 input.104 Input onnx::Conv_276 is undefined!\n",
      "[WARNING]: 9 input.112 Input onnx::Conv_276 is undefined!\n",
      "[WARNING]: 12 input.148 Input input.120 is undefined!\n",
      "[WARNING]: 13 input.156 Input input.120 is undefined!\n",
      "[WARNING]: 14 input.164 Input input.120 is undefined!\n",
      "[WARNING]: 16 input.188 Input input.120 is undefined!\n",
      "[WARNING]: 17 input.196 Input input.120 is undefined!\n",
      "[WARNING]: 18 input.204 Input input.120 is undefined!\n",
      "[WARNING]: 20 input.228 Input onnx::Conv_326 is undefined!\n",
      "[WARNING]: 21 input.236 Input onnx::Conv_326 is undefined!\n",
      "[WARNING]: 24 input.272 Input input.244 is undefined!\n",
      "[WARNING]: 25 input.280 Input input.244 is undefined!\n",
      "[WARNING]: 26 input.288 Input input.244 is undefined!\n",
      "[WARNING]: 28 input.312 Input onnx::Conv_359 is undefined!\n",
      "[WARNING]: 29 input.320 Input onnx::Conv_359 is undefined!\n",
      "[WARNING]: 32 input.356 Input input.328 is undefined!\n",
      "[WARNING]: 33 input.364 Input input.328 is undefined!\n",
      "[WARNING]: 34 input.372 Input input.328 is undefined!\n",
      "[WARNING]: 36 input.396 Input input.328 is undefined!\n",
      "[WARNING]: 37 input.404 Input input.328 is undefined!\n",
      "[WARNING]: 38 input.412 Input input.328 is undefined!\n"
     ]
    },
    {
     "name": "stderr",
     "output_type": "stream",
     "text": [
      "3it [00:30,  8.35s/it]"
     ]
    },
    {
     "name": "stdout",
     "output_type": "stream",
     "text": [
      "[POTENTIAL SPLIT LOCATIONS]: ['input.8', 'onnx::Conv_327', 'onnx::Conv_330', 'input.8', 'input.36', 'onnx::Conv_339', 'onnx::Conv_342', 'input.60', 'onnx::Conv_349', 'onnx::Conv_352', 'input.84', 'onnx::Conv_359', 'onnx::Conv_362', 'input.84', 'input.112', 'onnx::Conv_371', 'onnx::Conv_374', 'input.136', 'onnx::Conv_381', 'onnx::Conv_384', 'input.160', 'onnx::Conv_391', 'onnx::Conv_394', 'input.184', 'onnx::Conv_401', 'onnx::Conv_404', 'input.184', 'input.212', 'onnx::Conv_413', 'onnx::Conv_416', 'input.236', 'onnx::Conv_423', 'onnx::Conv_426', 'input.260', 'onnx::Conv_433', 'onnx::Conv_436', 'input.284', 'onnx::Conv_443', 'onnx::Conv_446', 'input.308', 'onnx::Conv_453', 'onnx::Conv_456', 'input.332', 'onnx::Conv_463', 'onnx::Conv_466', 'input.332', 'input.360', 'onnx::Conv_475', 'onnx::Conv_478', 'input.384', 'onnx::Conv_485', 'onnx::Conv_488', 'onnx::Gemm_494']\n",
      "[WARNING]: 1 onnx::Conv_327 Input input.8 is undefined!\n",
      "[WARNING]: 2 onnx::Conv_330 Input input.8 is undefined!\n",
      "[WARNING]: 5 onnx::Conv_339 Input input.8 is undefined!\n",
      "[WARNING]: 6 onnx::Conv_342 Input input.8 is undefined!\n",
      "[WARNING]: 8 onnx::Conv_349 Input input.8 is undefined!\n",
      "[WARNING]: 9 onnx::Conv_352 Input input.8 is undefined!\n",
      "[WARNING]: 11 onnx::Conv_359 Input input.84 is undefined!\n",
      "[WARNING]: 12 onnx::Conv_362 Input input.84 is undefined!\n",
      "[WARNING]: 15 onnx::Conv_371 Input input.84 is undefined!\n",
      "[WARNING]: 16 onnx::Conv_374 Input input.84 is undefined!\n",
      "[WARNING]: 18 onnx::Conv_381 Input input.84 is undefined!\n",
      "[WARNING]: 19 onnx::Conv_384 Input input.84 is undefined!\n",
      "[WARNING]: 21 onnx::Conv_391 Input input.84 is undefined!\n",
      "[WARNING]: 22 onnx::Conv_394 Input input.84 is undefined!\n",
      "[WARNING]: 24 onnx::Conv_401 Input input.184 is undefined!\n",
      "[WARNING]: 25 onnx::Conv_404 Input input.184 is undefined!\n",
      "[WARNING]: 28 onnx::Conv_413 Input input.184 is undefined!\n",
      "[WARNING]: 29 onnx::Conv_416 Input input.184 is undefined!\n",
      "[WARNING]: 31 onnx::Conv_423 Input input.184 is undefined!\n",
      "[WARNING]: 32 onnx::Conv_426 Input input.184 is undefined!\n",
      "[WARNING]: 34 onnx::Conv_433 Input input.184 is undefined!\n",
      "[WARNING]: 35 onnx::Conv_436 Input input.184 is undefined!\n",
      "[WARNING]: 37 onnx::Conv_443 Input input.184 is undefined!\n",
      "[WARNING]: 38 onnx::Conv_446 Input input.184 is undefined!\n",
      "[WARNING]: 40 onnx::Conv_453 Input input.184 is undefined!\n",
      "[WARNING]: 41 onnx::Conv_456 Input input.184 is undefined!\n",
      "[WARNING]: 43 onnx::Conv_463 Input input.332 is undefined!\n",
      "[WARNING]: 44 onnx::Conv_466 Input input.332 is undefined!\n",
      "[WARNING]: 47 onnx::Conv_475 Input input.332 is undefined!\n",
      "[WARNING]: 48 onnx::Conv_478 Input input.332 is undefined!\n",
      "[WARNING]: 50 onnx::Conv_485 Input input.332 is undefined!\n",
      "[WARNING]: 51 onnx::Conv_488 Input input.332 is undefined!\n"
     ]
    },
    {
     "name": "stderr",
     "output_type": "stream",
     "text": [
      "4it [00:52, 14.05s/it]"
     ]
    },
    {
     "name": "stdout",
     "output_type": "stream",
     "text": [
      "[POTENTIAL SPLIT LOCATIONS]: ['onnx::Conv_34', 'input.8', 'onnx::Conv_39', 'input.20', 'onnx::Conv_44', 'onnx::Conv_46', 'input.36', 'onnx::Conv_51', 'onnx::Conv_53', 'input.52', 'onnx::Conv_58', 'onnx::Conv_60', 'onnx::Gemm_65', 'onnx::Gemm_67', 'onnx::Gemm_69']\n"
     ]
    },
    {
     "name": "stderr",
     "output_type": "stream",
     "text": [
      "5it [02:01, 24.40s/it]\n"
     ]
    }
   ],
   "source": [
    "from skl2onnx.helpers.onnx_helper import select_model_inputs_outputs\n",
    "from skl2onnx.helpers.onnx_helper import save_onnx_model\n",
    "from skl2onnx.helpers.onnx_helper import enumerate_model_node_outputs\n",
    "from skl2onnx.helpers.onnx_helper import load_onnx_model\n",
    "\n",
    "from stitchnet.stitchonnx.utils import change_input_dim, get_fragments, Net\n",
    "\n",
    "import numpy as np\n",
    "from tqdm import tqdm\n",
    "from glob import glob\n",
    "\n",
    "x = np.random.randn(1, 3, 224, 224).astype(np.float32)\n",
    "\n",
    "nets = []\n",
    "modelnames = sorted(glob('_models/*.onnx'))\n",
    "print(modelnames)\n",
    "for i,modelname in tqdm(enumerate(modelnames)):\n",
    "    model_onnx1 = load_onnx_model(modelname)\n",
    "    change_input_dim(model_onnx1)\n",
    "    fragments1 = get_fragments(model_onnx1, x, 1)\n",
    "    net1 = Net(fragments1, i)\n",
    "    nets.append(net1)"
   ]
  },
  {
   "cell_type": "code",
   "execution_count": 3,
   "id": "5c217cbf-abaa-4c41-a872-ae50644a0fe7",
   "metadata": {},
   "outputs": [
    {
     "name": "stdout",
     "output_type": "stream",
     "text": [
      "number of fragments 8\n",
      "number of fragments 5\n",
      "number of fragments 13\n",
      "number of fragments 6\n",
      "number of fragments 16\n"
     ]
    }
   ],
   "source": [
    "for net in nets:\n",
    "    print(\"number of fragments\", len(net))"
   ]
  },
  {
   "cell_type": "code",
   "execution_count": 6,
   "id": "3973d73a-6651-4d15-ad8b-323db0f54e9a",
   "metadata": {},
   "outputs": [],
   "source": [
    "from skl2onnx.helpers.onnx_helper import save_onnx_model\n",
    "import os\n",
    "import shutil\n",
    "\n",
    "shutil.rmtree(f\"_models/fragments\", ignore_errors=True)\n",
    "os.makedirs(f\"_models/fragments\", exist_ok=True)\n",
    "for i,net in enumerate(nets):\n",
    "    for j,fragment in enumerate(net):\n",
    "        folder = f\"_models/fragments/net{i:03}/\"\n",
    "        os.makedirs(folder, exist_ok = True)\n",
    "        filename = folder+f'fragment{j:03}.onnx'\n",
    "        save_onnx_model(fragment.fragment, filename)"
   ]
  },
  {
   "cell_type": "code",
   "execution_count": null,
   "id": "83547581-3e1b-4632-adde-61da750b9a56",
   "metadata": {},
   "outputs": [],
   "source": [
    "# from glob import glob\n",
    "# modelFiles = glob('_models/fragments/*.onnx')"
   ]
  }
 ],
 "metadata": {
  "kernelspec": {
   "display_name": "stitchnet",
   "language": "python",
   "name": "stitchnet"
  },
  "language_info": {
   "codemirror_mode": {
    "name": "ipython",
    "version": 3
   },
   "file_extension": ".py",
   "mimetype": "text/x-python",
   "name": "python",
   "nbconvert_exporter": "python",
   "pygments_lexer": "ipython3",
   "version": "3.10.5"
  }
 },
 "nbformat": 4,
 "nbformat_minor": 5
}
