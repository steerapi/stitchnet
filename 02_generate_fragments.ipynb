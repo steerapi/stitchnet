{
 "cells": [
  {
   "cell_type": "code",
   "execution_count": 1,
   "id": "f02463b7-9fb2-4fc9-b3d4-963da1093a32",
   "metadata": {},
   "outputs": [],
   "source": [
    "%load_ext autoreload\n",
    "%autoreload 2"
   ]
  },
  {
   "cell_type": "code",
   "execution_count": 2,
   "id": "4b8e43cb-85ac-4351-8641-bcbee78fe733",
   "metadata": {
    "collapsed": true,
    "jupyter": {
     "outputs_hidden": true
    },
    "tags": []
   },
   "outputs": [
    {
     "name": "stderr",
     "output_type": "stream",
     "text": [
      "0it [00:00, ?it/s]"
     ]
    },
    {
     "name": "stdout",
     "output_type": "stream",
     "text": [
      "[POTENTIAL SPLIT LOCATIONS]: ['onnx::Conv_608', 'onnx::Conv_611', 'input.15', 'onnx::Conv_618', 'input.27', 'input.27', 'onnx::Conv_628', 'input.27', 'onnx::Conv_634', 'onnx::Conv_637', 'input.55', 'input.63', 'input.63', 'onnx::Conv_653', 'input.63', 'onnx::Conv_659', 'onnx::Conv_662', 'input.91', 'input.99', 'input.99', 'onnx::Conv_678', 'input.99', 'onnx::Conv_684', 'onnx::Conv_687', 'input.127', 'input.135', 'input.135', 'onnx::Conv_703', 'onnx::Conv_706', 'input.155', 'input.155', 'onnx::Conv_717', 'onnx::Conv_720', 'input.155', 'onnx::Conv_726', 'onnx::Conv_729', 'onnx::Conv_732', 'onnx::Conv_735', 'input.195', 'input.203', 'input.203', 'onnx::Conv_751', 'onnx::Conv_754', 'input.203', 'onnx::Conv_760', 'onnx::Conv_763', 'onnx::Conv_766', 'onnx::Conv_769', 'input.243', 'input.251', 'input.251', 'onnx::Conv_785', 'onnx::Conv_788', 'input.251', 'onnx::Conv_794', 'onnx::Conv_797', 'onnx::Conv_800', 'onnx::Conv_803', 'input.291', 'input.299', 'input.299', 'onnx::Conv_819', 'onnx::Conv_822', 'input.299', 'onnx::Conv_828', 'onnx::Conv_831', 'onnx::Conv_834', 'onnx::Conv_837', 'input.339', 'input.347', 'onnx::Conv_850', 'input.347', 'onnx::Conv_856', 'onnx::Conv_859', 'onnx::Conv_862', 'input.375', 'input.375', 'onnx::Conv_873', 'onnx::Conv_873', 'input.375', 'onnx::Conv_882', 'onnx::Conv_885', 'onnx::Conv_885', 'input.411', 'input.419', 'input.419', 'onnx::Conv_904', 'onnx::Conv_904', 'input.419', 'onnx::Conv_913', 'onnx::Conv_916', 'onnx::Conv_916', 'input.455', 'onnx::Gemm_931']\n",
      "[WARNING]: 6 onnx::Conv_628 Input onnx::Conv_618 is undefined!\n",
      "[WARNING]: 8 onnx::Conv_634 Input onnx::Conv_618 is undefined!\n",
      "[WARNING]: 9 onnx::Conv_637 Input onnx::Conv_618 is undefined!\n",
      "[WARNING]: 10 input.55 Input onnx::Conv_618 is undefined!\n",
      "[WARNING]: 13 onnx::Conv_653 Input onnx::Conv_618 is undefined!\n",
      "[WARNING]: 15 onnx::Conv_659 Input onnx::Conv_618 is undefined!\n",
      "[WARNING]: 16 onnx::Conv_662 Input onnx::Conv_618 is undefined!\n",
      "[WARNING]: 17 input.91 Input onnx::Conv_618 is undefined!\n",
      "[WARNING]: 20 onnx::Conv_678 Input onnx::Conv_618 is undefined!\n",
      "[WARNING]: 22 onnx::Conv_684 Input onnx::Conv_618 is undefined!\n",
      "[WARNING]: 23 onnx::Conv_687 Input onnx::Conv_618 is undefined!\n",
      "[WARNING]: 24 input.127 Input onnx::Conv_618 is undefined!\n",
      "[WARNING]: 27 onnx::Conv_703 Input onnx::Conv_618 is undefined!\n",
      "[WARNING]: 28 onnx::Conv_706 Input onnx::Conv_618 is undefined!\n",
      "[WARNING]: 31 onnx::Conv_717 Input onnx::Conv_618 is undefined!\n",
      "[WARNING]: 32 onnx::Conv_720 Input onnx::Conv_618 is undefined!\n",
      "[WARNING]: 34 onnx::Conv_726 Input onnx::Conv_618 is undefined!\n",
      "[WARNING]: 35 onnx::Conv_729 Input onnx::Conv_618 is undefined!\n",
      "[WARNING]: 36 onnx::Conv_732 Input onnx::Conv_618 is undefined!\n",
      "[WARNING]: 37 onnx::Conv_735 Input onnx::Conv_618 is undefined!\n",
      "[WARNING]: 38 input.195 Input onnx::Conv_618 is undefined!\n",
      "[WARNING]: 41 onnx::Conv_751 Input onnx::Conv_618 is undefined!\n",
      "[WARNING]: 42 onnx::Conv_754 Input onnx::Conv_618 is undefined!\n",
      "[WARNING]: 44 onnx::Conv_760 Input onnx::Conv_618 is undefined!\n",
      "[WARNING]: 45 onnx::Conv_763 Input onnx::Conv_618 is undefined!\n",
      "[WARNING]: 46 onnx::Conv_766 Input onnx::Conv_618 is undefined!\n",
      "[WARNING]: 47 onnx::Conv_769 Input onnx::Conv_618 is undefined!\n",
      "[WARNING]: 48 input.243 Input onnx::Conv_618 is undefined!\n",
      "[WARNING]: 51 onnx::Conv_785 Input onnx::Conv_618 is undefined!\n",
      "[WARNING]: 52 onnx::Conv_788 Input onnx::Conv_618 is undefined!\n",
      "[WARNING]: 54 onnx::Conv_794 Input onnx::Conv_618 is undefined!\n",
      "[WARNING]: 55 onnx::Conv_797 Input onnx::Conv_618 is undefined!\n",
      "[WARNING]: 56 onnx::Conv_800 Input onnx::Conv_618 is undefined!\n",
      "[WARNING]: 57 onnx::Conv_803 Input onnx::Conv_618 is undefined!\n",
      "[WARNING]: 58 input.291 Input onnx::Conv_618 is undefined!\n",
      "[WARNING]: 61 onnx::Conv_819 Input onnx::Conv_618 is undefined!\n",
      "[WARNING]: 62 onnx::Conv_822 Input onnx::Conv_618 is undefined!\n",
      "[WARNING]: 64 onnx::Conv_828 Input onnx::Conv_618 is undefined!\n",
      "[WARNING]: 65 onnx::Conv_831 Input onnx::Conv_618 is undefined!\n",
      "[WARNING]: 66 onnx::Conv_834 Input onnx::Conv_618 is undefined!\n",
      "[WARNING]: 67 onnx::Conv_837 Input onnx::Conv_618 is undefined!\n",
      "[WARNING]: 68 input.339 Input onnx::Conv_618 is undefined!\n",
      "[WARNING]: 70 onnx::Conv_850 Input onnx::Conv_618 is undefined!\n",
      "[WARNING]: 72 onnx::Conv_856 Input onnx::Conv_618 is undefined!\n",
      "[WARNING]: 73 onnx::Conv_859 Input onnx::Conv_618 is undefined!\n",
      "[WARNING]: 74 onnx::Conv_862 Input onnx::Conv_618 is undefined!\n",
      "[WARNING]: 77 onnx::Conv_873 Input onnx::Conv_618 is undefined!\n",
      "[WARNING]: 78 onnx::Conv_873 Input onnx::Conv_618 is undefined!\n",
      "[WARNING]: 80 onnx::Conv_882 Input onnx::Conv_618 is undefined!\n",
      "[WARNING]: 81 onnx::Conv_885 Input onnx::Conv_618 is undefined!\n",
      "[WARNING]: 82 onnx::Conv_885 Input onnx::Conv_618 is undefined!\n",
      "[WARNING]: 83 input.411 Input onnx::Conv_618 is undefined!\n",
      "[WARNING]: 86 onnx::Conv_904 Input onnx::Conv_618 is undefined!\n",
      "[WARNING]: 87 onnx::Conv_904 Input onnx::Conv_618 is undefined!\n",
      "[WARNING]: 89 onnx::Conv_913 Input onnx::Conv_618 is undefined!\n",
      "[WARNING]: 90 onnx::Conv_916 Input onnx::Conv_618 is undefined!\n",
      "[WARNING]: 91 onnx::Conv_916 Input onnx::Conv_618 is undefined!\n",
      "[WARNING]: 92 input.455 Input onnx::Conv_618 is undefined!\n"
     ]
    },
    {
     "name": "stderr",
     "output_type": "stream",
     "text": [
      "1it [02:10, 130.04s/it]"
     ]
    },
    {
     "name": "stdout",
     "output_type": "stream",
     "text": [
      "[POTENTIAL SPLIT LOCATIONS]: ['input.8', 'onnx::Conv_327', 'onnx::Conv_330', 'input.8', 'input.36', 'onnx::Conv_339', 'onnx::Conv_342', 'input.60', 'onnx::Conv_349', 'onnx::Conv_352', 'input.84', 'onnx::Conv_359', 'onnx::Conv_362', 'input.84', 'input.112', 'onnx::Conv_371', 'onnx::Conv_374', 'input.136', 'onnx::Conv_381', 'onnx::Conv_384', 'input.160', 'onnx::Conv_391', 'onnx::Conv_394', 'input.184', 'onnx::Conv_401', 'onnx::Conv_404', 'input.184', 'input.212', 'onnx::Conv_413', 'onnx::Conv_416', 'input.236', 'onnx::Conv_423', 'onnx::Conv_426', 'input.260', 'onnx::Conv_433', 'onnx::Conv_436', 'input.284', 'onnx::Conv_443', 'onnx::Conv_446', 'input.308', 'onnx::Conv_453', 'onnx::Conv_456', 'input.332', 'onnx::Conv_463', 'onnx::Conv_466', 'input.332', 'input.360', 'onnx::Conv_475', 'onnx::Conv_478', 'input.384', 'onnx::Conv_485', 'onnx::Conv_488', 'onnx::Gemm_494']\n",
      "[WARNING]: 1 onnx::Conv_327 Input input.8 is undefined!\n",
      "[WARNING]: 2 onnx::Conv_330 Input input.8 is undefined!\n",
      "[WARNING]: 5 onnx::Conv_339 Input input.8 is undefined!\n",
      "[WARNING]: 6 onnx::Conv_342 Input input.8 is undefined!\n",
      "[WARNING]: 8 onnx::Conv_349 Input input.8 is undefined!\n",
      "[WARNING]: 9 onnx::Conv_352 Input input.8 is undefined!\n",
      "[WARNING]: 11 onnx::Conv_359 Input input.84 is undefined!\n",
      "[WARNING]: 12 onnx::Conv_362 Input input.84 is undefined!\n",
      "[WARNING]: 15 onnx::Conv_371 Input input.84 is undefined!\n",
      "[WARNING]: 16 onnx::Conv_374 Input input.84 is undefined!\n",
      "[WARNING]: 18 onnx::Conv_381 Input input.84 is undefined!\n",
      "[WARNING]: 19 onnx::Conv_384 Input input.84 is undefined!\n",
      "[WARNING]: 21 onnx::Conv_391 Input input.84 is undefined!\n",
      "[WARNING]: 22 onnx::Conv_394 Input input.84 is undefined!\n",
      "[WARNING]: 24 onnx::Conv_401 Input input.184 is undefined!\n",
      "[WARNING]: 25 onnx::Conv_404 Input input.184 is undefined!\n",
      "[WARNING]: 28 onnx::Conv_413 Input input.184 is undefined!\n",
      "[WARNING]: 29 onnx::Conv_416 Input input.184 is undefined!\n",
      "[WARNING]: 31 onnx::Conv_423 Input input.184 is undefined!\n",
      "[WARNING]: 32 onnx::Conv_426 Input input.184 is undefined!\n",
      "[WARNING]: 34 onnx::Conv_433 Input input.184 is undefined!\n",
      "[WARNING]: 35 onnx::Conv_436 Input input.184 is undefined!\n",
      "[WARNING]: 37 onnx::Conv_443 Input input.184 is undefined!\n",
      "[WARNING]: 38 onnx::Conv_446 Input input.184 is undefined!\n",
      "[WARNING]: 40 onnx::Conv_453 Input input.184 is undefined!\n",
      "[WARNING]: 41 onnx::Conv_456 Input input.184 is undefined!\n",
      "[WARNING]: 43 onnx::Conv_463 Input input.332 is undefined!\n",
      "[WARNING]: 44 onnx::Conv_466 Input input.332 is undefined!\n",
      "[WARNING]: 47 onnx::Conv_475 Input input.332 is undefined!\n",
      "[WARNING]: 48 onnx::Conv_478 Input input.332 is undefined!\n",
      "[WARNING]: 50 onnx::Conv_485 Input input.332 is undefined!\n",
      "[WARNING]: 51 onnx::Conv_488 Input input.332 is undefined!\n"
     ]
    },
    {
     "name": "stderr",
     "output_type": "stream",
     "text": [
      "2it [02:48, 76.29s/it] "
     ]
    },
    {
     "name": "stdout",
     "output_type": "stream",
     "text": [
      "[POTENTIAL SPLIT LOCATIONS]: ['input.16', 'onnx::Conv_372', 'input.24', 'input.32', 'input.52', 'onnx::Conv_389', 'input.60', 'input.68', 'input.88', 'onnx::Conv_406', 'input.96', 'onnx::Conv_412', 'input.120', 'onnx::Conv_424', 'input.128', 'input.136', 'input.156', 'onnx::Conv_441', 'input.164', 'onnx::Conv_447', 'input.188', 'onnx::Conv_459', 'input.196', 'input.204', 'input.224', 'onnx::Conv_476', 'input.232', 'onnx::Conv_482', 'input.256', 'onnx::Conv_494', 'input.264', 'onnx::Conv_500', 'input.288', 'onnx::Conv_512', 'input.296', 'input.304', 'input.324', 'onnx::Conv_529', 'input.332', 'onnx::Conv_535', 'input.356', 'onnx::Conv_547', 'input.364', 'onnx::Conv_553', 'input.388', 'onnx::Conv_565', 'input.396', 'input.404', 'input.424', 'onnx::Conv_582', 'input.432', 'onnx::Conv_588', 'input.456', 'onnx::Conv_600', 'input.464', 'onnx::Conv_606', 'input.488', 'onnx::Conv_618', 'input.496', 'onnx::Conv_624', 'input.520', 'onnx::Conv_636', 'input.528', 'input.536', 'input.548']\n",
      "[WARNING]: 0 input.16 Input input.1 is undefined!\n",
      "[WARNING]: 1 onnx::Conv_372 Input input.1 is undefined!\n",
      "[WARNING]: 4 input.52 Input input.32 is undefined!\n",
      "[WARNING]: 5 onnx::Conv_389 Input input.32 is undefined!\n",
      "[WARNING]: 8 input.88 Input input.60 is undefined!\n",
      "[WARNING]: 9 onnx::Conv_406 Input input.60 is undefined!\n",
      "[WARNING]: 10 input.96 Input input.60 is undefined!\n",
      "[WARNING]: 12 input.120 Input onnx::Conv_412 is undefined!\n",
      "[WARNING]: 13 onnx::Conv_424 Input onnx::Conv_412 is undefined!\n",
      "[WARNING]: 16 input.156 Input input.128 is undefined!\n",
      "[WARNING]: 17 onnx::Conv_441 Input input.128 is undefined!\n",
      "[WARNING]: 18 input.164 Input input.128 is undefined!\n",
      "[WARNING]: 20 input.188 Input onnx::Conv_447 is undefined!\n",
      "[WARNING]: 21 onnx::Conv_459 Input onnx::Conv_447 is undefined!\n",
      "[WARNING]: 24 input.224 Input input.196 is undefined!\n",
      "[WARNING]: 25 onnx::Conv_476 Input input.196 is undefined!\n",
      "[WARNING]: 26 input.232 Input input.196 is undefined!\n",
      "[WARNING]: 28 input.256 Input input.196 is undefined!\n",
      "[WARNING]: 29 onnx::Conv_494 Input input.196 is undefined!\n",
      "[WARNING]: 30 input.264 Input input.196 is undefined!\n",
      "[WARNING]: 32 input.288 Input onnx::Conv_500 is undefined!\n",
      "[WARNING]: 33 onnx::Conv_512 Input onnx::Conv_500 is undefined!\n",
      "[WARNING]: 36 input.324 Input input.296 is undefined!\n",
      "[WARNING]: 37 onnx::Conv_529 Input input.296 is undefined!\n",
      "[WARNING]: 38 input.332 Input input.296 is undefined!\n",
      "[WARNING]: 40 input.356 Input input.296 is undefined!\n",
      "[WARNING]: 41 onnx::Conv_547 Input input.296 is undefined!\n",
      "[WARNING]: 42 input.364 Input input.296 is undefined!\n",
      "[WARNING]: 44 input.388 Input onnx::Conv_553 is undefined!\n",
      "[WARNING]: 45 onnx::Conv_565 Input onnx::Conv_553 is undefined!\n",
      "[WARNING]: 48 input.424 Input input.396 is undefined!\n",
      "[WARNING]: 49 onnx::Conv_582 Input input.396 is undefined!\n",
      "[WARNING]: 50 input.432 Input input.396 is undefined!\n",
      "[WARNING]: 52 input.456 Input input.396 is undefined!\n",
      "[WARNING]: 53 onnx::Conv_600 Input input.396 is undefined!\n",
      "[WARNING]: 54 input.464 Input input.396 is undefined!\n",
      "[WARNING]: 56 input.488 Input input.396 is undefined!\n",
      "[WARNING]: 57 onnx::Conv_618 Input input.396 is undefined!\n",
      "[WARNING]: 58 input.496 Input input.396 is undefined!\n",
      "[WARNING]: 60 input.520 Input onnx::Conv_624 is undefined!\n",
      "[WARNING]: 61 onnx::Conv_636 Input onnx::Conv_624 is undefined!\n"
     ]
    },
    {
     "name": "stderr",
     "output_type": "stream",
     "text": [
      "3it [03:01, 47.13s/it]"
     ]
    },
    {
     "name": "stdout",
     "output_type": "stream",
     "text": [
      "[POTENTIAL SPLIT LOCATIONS]: ['input.16', 'input.24', 'input.32', 'input.40', 'onnx::Conv_265', 'input.64', 'onnx::Conv_273', 'onnx::Conv_276', 'input.104', 'input.112', 'input.120', 'input.128', 'input.148', 'input.156', 'input.164', 'onnx::Conv_309', 'input.188', 'input.196', 'input.204', 'onnx::Conv_326', 'input.228', 'input.236', 'input.244', 'input.252', 'input.272', 'input.280', 'input.288', 'onnx::Conv_359', 'input.312', 'input.320', 'input.328', 'input.336', 'input.356', 'input.364', 'input.372', 'onnx::Conv_392', 'input.396', 'input.404', 'input.412', 'onnx::Conv_409', 'onnx::Gemm_415', 'onnx::Gemm_418']\n",
      "[WARNING]: 0 input.16 Input input.1 is undefined!\n",
      "[WARNING]: 1 input.24 Input input.1 is undefined!\n",
      "[WARNING]: 6 onnx::Conv_273 Input onnx::Conv_265 is undefined!\n",
      "[WARNING]: 8 input.104 Input onnx::Conv_276 is undefined!\n",
      "[WARNING]: 9 input.112 Input onnx::Conv_276 is undefined!\n",
      "[WARNING]: 12 input.148 Input input.120 is undefined!\n",
      "[WARNING]: 13 input.156 Input input.120 is undefined!\n",
      "[WARNING]: 14 input.164 Input input.120 is undefined!\n",
      "[WARNING]: 16 input.188 Input input.120 is undefined!\n",
      "[WARNING]: 17 input.196 Input input.120 is undefined!\n",
      "[WARNING]: 18 input.204 Input input.120 is undefined!\n",
      "[WARNING]: 20 input.228 Input onnx::Conv_326 is undefined!\n",
      "[WARNING]: 21 input.236 Input onnx::Conv_326 is undefined!\n",
      "[WARNING]: 24 input.272 Input input.244 is undefined!\n",
      "[WARNING]: 25 input.280 Input input.244 is undefined!\n",
      "[WARNING]: 26 input.288 Input input.244 is undefined!\n",
      "[WARNING]: 28 input.312 Input onnx::Conv_359 is undefined!\n",
      "[WARNING]: 29 input.320 Input onnx::Conv_359 is undefined!\n",
      "[WARNING]: 32 input.356 Input input.328 is undefined!\n",
      "[WARNING]: 33 input.364 Input input.328 is undefined!\n",
      "[WARNING]: 34 input.372 Input input.328 is undefined!\n",
      "[WARNING]: 36 input.396 Input input.328 is undefined!\n",
      "[WARNING]: 37 input.404 Input input.328 is undefined!\n",
      "[WARNING]: 38 input.412 Input input.328 is undefined!\n"
     ]
    },
    {
     "name": "stderr",
     "output_type": "stream",
     "text": [
      "4it [03:04, 29.87s/it]"
     ]
    },
    {
     "name": "stdout",
     "output_type": "stream",
     "text": [
      "[POTENTIAL SPLIT LOCATIONS]: ['onnx::Conv_734', 'onnx::Conv_737', 'onnx::Conv_741', 'onnx::Conv_744', 'onnx::Conv_748', 'onnx::Conv_751', 'onnx::Conv_755', 'onnx::Conv_758', 'onnx::Conv_762', 'onnx::Conv_765', 'onnx::Conv_769', 'onnx::Conv_772', 'onnx::Conv_776', 'onnx::Conv_783', 'onnx::Conv_786', 'onnx::Conv_790', 'onnx::Conv_793', 'onnx::Conv_797', 'onnx::Conv_800', 'onnx::Conv_804', 'onnx::Conv_807', 'onnx::Conv_811', 'onnx::Conv_814', 'onnx::Conv_818', 'onnx::Conv_821', 'onnx::Conv_825', 'onnx::Conv_828', 'onnx::Conv_832', 'onnx::Conv_835', 'onnx::Conv_839', 'onnx::Conv_842', 'onnx::Conv_846', 'onnx::Conv_849', 'onnx::Conv_853', 'onnx::Conv_856', 'onnx::Conv_860', 'onnx::Conv_863', 'onnx::Conv_867', 'onnx::Conv_874', 'onnx::Conv_877', 'onnx::Conv_881', 'onnx::Conv_884', 'onnx::Conv_888', 'onnx::Conv_891', 'onnx::Conv_895', 'onnx::Conv_898', 'onnx::Conv_902', 'onnx::Conv_905', 'onnx::Conv_909', 'onnx::Conv_912', 'onnx::Conv_916', 'onnx::Conv_919', 'onnx::Conv_923', 'onnx::Conv_926', 'onnx::Conv_930', 'onnx::Conv_933', 'onnx::Conv_937', 'onnx::Conv_940', 'onnx::Conv_944', 'onnx::Conv_947', 'onnx::Conv_951', 'onnx::Conv_954', 'onnx::Conv_958', 'onnx::Conv_961', 'onnx::Conv_965', 'onnx::Conv_968', 'onnx::Conv_972', 'onnx::Conv_975', 'onnx::Conv_979', 'onnx::Conv_982', 'onnx::Conv_986', 'onnx::Conv_989', 'onnx::Conv_993', 'onnx::Conv_996', 'onnx::Conv_1000', 'onnx::Conv_1003', 'onnx::Conv_1007', 'onnx::Conv_1010', 'onnx::Conv_1014', 'onnx::Conv_1017', 'onnx::Conv_1021', 'onnx::Conv_1024', 'onnx::Conv_1028', 'onnx::Conv_1031', 'onnx::Conv_1035', 'onnx::Conv_1038', 'onnx::Conv_1042', 'onnx::Conv_1049', 'onnx::Conv_1052', 'onnx::Conv_1056', 'onnx::Conv_1059', 'onnx::Conv_1063', 'onnx::Conv_1066', 'onnx::Conv_1070', 'onnx::Conv_1073', 'onnx::Conv_1077', 'onnx::Conv_1080', 'onnx::Conv_1084', 'onnx::Conv_1087', 'onnx::Conv_1091', 'onnx::Conv_1094', 'onnx::Conv_1098', 'onnx::Conv_1101', 'onnx::Conv_1105', 'onnx::Conv_1108', 'onnx::Conv_1112', 'onnx::Conv_1115', 'onnx::Conv_1119', 'onnx::Conv_1122', 'onnx::Conv_1126', 'onnx::Conv_1129', 'onnx::Conv_1133', 'onnx::Conv_1136', 'onnx::Conv_1140', 'onnx::Conv_1143', 'onnx::Conv_1147', 'onnx::Conv_1150', 'onnx::Conv_1154', 'onnx::Conv_1157', 'onnx::Gemm_1163']\n",
      "[WARNING]: 0 onnx::Conv_734 Input input.1 is undefined!\n",
      "[WARNING]: 1 onnx::Conv_737 Input input.1 is undefined!\n",
      "[WARNING]: 2 onnx::Conv_741 Input input.1 is undefined!\n",
      "[WARNING]: 3 onnx::Conv_744 Input input.1 is undefined!\n",
      "[WARNING]: 4 onnx::Conv_748 Input input.1 is undefined!\n",
      "[WARNING]: 5 onnx::Conv_751 Input input.1 is undefined!\n",
      "[WARNING]: 6 onnx::Conv_755 Input input.1 is undefined!\n",
      "[WARNING]: 7 onnx::Conv_758 Input input.1 is undefined!\n",
      "[WARNING]: 8 onnx::Conv_762 Input input.1 is undefined!\n",
      "[WARNING]: 9 onnx::Conv_765 Input input.1 is undefined!\n",
      "[WARNING]: 10 onnx::Conv_769 Input input.1 is undefined!\n",
      "[WARNING]: 11 onnx::Conv_772 Input input.1 is undefined!\n",
      "[WARNING]: 13 onnx::Conv_783 Input onnx::Conv_776 is undefined!\n",
      "[WARNING]: 14 onnx::Conv_786 Input onnx::Conv_776 is undefined!\n",
      "[WARNING]: 15 onnx::Conv_790 Input onnx::Conv_776 is undefined!\n",
      "[WARNING]: 16 onnx::Conv_793 Input onnx::Conv_776 is undefined!\n",
      "[WARNING]: 17 onnx::Conv_797 Input onnx::Conv_776 is undefined!\n",
      "[WARNING]: 18 onnx::Conv_800 Input onnx::Conv_776 is undefined!\n",
      "[WARNING]: 19 onnx::Conv_804 Input onnx::Conv_776 is undefined!\n",
      "[WARNING]: 20 onnx::Conv_807 Input onnx::Conv_776 is undefined!\n",
      "[WARNING]: 21 onnx::Conv_811 Input onnx::Conv_776 is undefined!\n",
      "[WARNING]: 22 onnx::Conv_814 Input onnx::Conv_776 is undefined!\n",
      "[WARNING]: 23 onnx::Conv_818 Input onnx::Conv_776 is undefined!\n",
      "[WARNING]: 24 onnx::Conv_821 Input onnx::Conv_776 is undefined!\n",
      "[WARNING]: 25 onnx::Conv_825 Input onnx::Conv_776 is undefined!\n",
      "[WARNING]: 26 onnx::Conv_828 Input onnx::Conv_776 is undefined!\n",
      "[WARNING]: 27 onnx::Conv_832 Input onnx::Conv_776 is undefined!\n",
      "[WARNING]: 28 onnx::Conv_835 Input onnx::Conv_776 is undefined!\n",
      "[WARNING]: 29 onnx::Conv_839 Input onnx::Conv_776 is undefined!\n",
      "[WARNING]: 30 onnx::Conv_842 Input onnx::Conv_776 is undefined!\n",
      "[WARNING]: 31 onnx::Conv_846 Input onnx::Conv_776 is undefined!\n",
      "[WARNING]: 32 onnx::Conv_849 Input onnx::Conv_776 is undefined!\n",
      "[WARNING]: 33 onnx::Conv_853 Input onnx::Conv_776 is undefined!\n",
      "[WARNING]: 34 onnx::Conv_856 Input onnx::Conv_776 is undefined!\n",
      "[WARNING]: 35 onnx::Conv_860 Input onnx::Conv_776 is undefined!\n",
      "[WARNING]: 36 onnx::Conv_863 Input onnx::Conv_776 is undefined!\n",
      "[WARNING]: 38 onnx::Conv_874 Input onnx::Conv_867 is undefined!\n",
      "[WARNING]: 39 onnx::Conv_877 Input onnx::Conv_867 is undefined!\n",
      "[WARNING]: 40 onnx::Conv_881 Input onnx::Conv_867 is undefined!\n",
      "[WARNING]: 41 onnx::Conv_884 Input onnx::Conv_867 is undefined!\n",
      "[WARNING]: 42 onnx::Conv_888 Input onnx::Conv_867 is undefined!\n",
      "[WARNING]: 43 onnx::Conv_891 Input onnx::Conv_867 is undefined!\n",
      "[WARNING]: 44 onnx::Conv_895 Input onnx::Conv_867 is undefined!\n",
      "[WARNING]: 45 onnx::Conv_898 Input onnx::Conv_867 is undefined!\n",
      "[WARNING]: 46 onnx::Conv_902 Input onnx::Conv_867 is undefined!\n",
      "[WARNING]: 47 onnx::Conv_905 Input onnx::Conv_867 is undefined!\n",
      "[WARNING]: 48 onnx::Conv_909 Input onnx::Conv_867 is undefined!\n",
      "[WARNING]: 49 onnx::Conv_912 Input onnx::Conv_867 is undefined!\n",
      "[WARNING]: 50 onnx::Conv_916 Input onnx::Conv_867 is undefined!\n",
      "[WARNING]: 51 onnx::Conv_919 Input onnx::Conv_867 is undefined!\n",
      "[WARNING]: 52 onnx::Conv_923 Input onnx::Conv_867 is undefined!\n",
      "[WARNING]: 53 onnx::Conv_926 Input onnx::Conv_867 is undefined!\n",
      "[WARNING]: 54 onnx::Conv_930 Input onnx::Conv_867 is undefined!\n",
      "[WARNING]: 55 onnx::Conv_933 Input onnx::Conv_867 is undefined!\n",
      "[WARNING]: 56 onnx::Conv_937 Input onnx::Conv_867 is undefined!\n",
      "[WARNING]: 57 onnx::Conv_940 Input onnx::Conv_867 is undefined!\n",
      "[WARNING]: 58 onnx::Conv_944 Input onnx::Conv_867 is undefined!\n",
      "[WARNING]: 59 onnx::Conv_947 Input onnx::Conv_867 is undefined!\n",
      "[WARNING]: 60 onnx::Conv_951 Input onnx::Conv_867 is undefined!\n",
      "[WARNING]: 61 onnx::Conv_954 Input onnx::Conv_867 is undefined!\n",
      "[WARNING]: 62 onnx::Conv_958 Input onnx::Conv_867 is undefined!\n",
      "[WARNING]: 63 onnx::Conv_961 Input onnx::Conv_867 is undefined!\n",
      "[WARNING]: 64 onnx::Conv_965 Input onnx::Conv_867 is undefined!\n",
      "[WARNING]: 65 onnx::Conv_968 Input onnx::Conv_867 is undefined!\n",
      "[WARNING]: 66 onnx::Conv_972 Input onnx::Conv_867 is undefined!\n",
      "[WARNING]: 67 onnx::Conv_975 Input onnx::Conv_867 is undefined!\n",
      "[WARNING]: 68 onnx::Conv_979 Input onnx::Conv_867 is undefined!\n",
      "[WARNING]: 69 onnx::Conv_982 Input onnx::Conv_867 is undefined!\n",
      "[WARNING]: 70 onnx::Conv_986 Input onnx::Conv_867 is undefined!\n",
      "[WARNING]: 71 onnx::Conv_989 Input onnx::Conv_867 is undefined!\n",
      "[WARNING]: 72 onnx::Conv_993 Input onnx::Conv_867 is undefined!\n",
      "[WARNING]: 73 onnx::Conv_996 Input onnx::Conv_867 is undefined!\n",
      "[WARNING]: 74 onnx::Conv_1000 Input onnx::Conv_867 is undefined!\n",
      "[WARNING]: 75 onnx::Conv_1003 Input onnx::Conv_867 is undefined!\n",
      "[WARNING]: 76 onnx::Conv_1007 Input onnx::Conv_867 is undefined!\n",
      "[WARNING]: 77 onnx::Conv_1010 Input onnx::Conv_867 is undefined!\n",
      "[WARNING]: 78 onnx::Conv_1014 Input onnx::Conv_867 is undefined!\n",
      "[WARNING]: 79 onnx::Conv_1017 Input onnx::Conv_867 is undefined!\n",
      "[WARNING]: 80 onnx::Conv_1021 Input onnx::Conv_867 is undefined!\n",
      "[WARNING]: 81 onnx::Conv_1024 Input onnx::Conv_867 is undefined!\n",
      "[WARNING]: 82 onnx::Conv_1028 Input onnx::Conv_867 is undefined!\n",
      "[WARNING]: 83 onnx::Conv_1031 Input onnx::Conv_867 is undefined!\n",
      "[WARNING]: 84 onnx::Conv_1035 Input onnx::Conv_867 is undefined!\n",
      "[WARNING]: 85 onnx::Conv_1038 Input onnx::Conv_867 is undefined!\n",
      "[WARNING]: 87 onnx::Conv_1049 Input onnx::Conv_1042 is undefined!\n",
      "[WARNING]: 88 onnx::Conv_1052 Input onnx::Conv_1042 is undefined!\n",
      "[WARNING]: 89 onnx::Conv_1056 Input onnx::Conv_1042 is undefined!\n",
      "[WARNING]: 90 onnx::Conv_1059 Input onnx::Conv_1042 is undefined!\n",
      "[WARNING]: 91 onnx::Conv_1063 Input onnx::Conv_1042 is undefined!\n",
      "[WARNING]: 92 onnx::Conv_1066 Input onnx::Conv_1042 is undefined!\n",
      "[WARNING]: 93 onnx::Conv_1070 Input onnx::Conv_1042 is undefined!\n",
      "[WARNING]: 94 onnx::Conv_1073 Input onnx::Conv_1042 is undefined!\n",
      "[WARNING]: 95 onnx::Conv_1077 Input onnx::Conv_1042 is undefined!\n",
      "[WARNING]: 96 onnx::Conv_1080 Input onnx::Conv_1042 is undefined!\n",
      "[WARNING]: 97 onnx::Conv_1084 Input onnx::Conv_1042 is undefined!\n",
      "[WARNING]: 98 onnx::Conv_1087 Input onnx::Conv_1042 is undefined!\n",
      "[WARNING]: 99 onnx::Conv_1091 Input onnx::Conv_1042 is undefined!\n",
      "[WARNING]: 100 onnx::Conv_1094 Input onnx::Conv_1042 is undefined!\n",
      "[WARNING]: 101 onnx::Conv_1098 Input onnx::Conv_1042 is undefined!\n",
      "[WARNING]: 102 onnx::Conv_1101 Input onnx::Conv_1042 is undefined!\n",
      "[WARNING]: 103 onnx::Conv_1105 Input onnx::Conv_1042 is undefined!\n",
      "[WARNING]: 104 onnx::Conv_1108 Input onnx::Conv_1042 is undefined!\n",
      "[WARNING]: 105 onnx::Conv_1112 Input onnx::Conv_1042 is undefined!\n",
      "[WARNING]: 106 onnx::Conv_1115 Input onnx::Conv_1042 is undefined!\n",
      "[WARNING]: 107 onnx::Conv_1119 Input onnx::Conv_1042 is undefined!\n",
      "[WARNING]: 108 onnx::Conv_1122 Input onnx::Conv_1042 is undefined!\n",
      "[WARNING]: 109 onnx::Conv_1126 Input onnx::Conv_1042 is undefined!\n",
      "[WARNING]: 110 onnx::Conv_1129 Input onnx::Conv_1042 is undefined!\n",
      "[WARNING]: 111 onnx::Conv_1133 Input onnx::Conv_1042 is undefined!\n",
      "[WARNING]: 112 onnx::Conv_1136 Input onnx::Conv_1042 is undefined!\n",
      "[WARNING]: 113 onnx::Conv_1140 Input onnx::Conv_1042 is undefined!\n",
      "[WARNING]: 114 onnx::Conv_1143 Input onnx::Conv_1042 is undefined!\n",
      "[WARNING]: 115 onnx::Conv_1147 Input onnx::Conv_1042 is undefined!\n",
      "[WARNING]: 116 onnx::Conv_1150 Input onnx::Conv_1042 is undefined!\n",
      "[WARNING]: 117 onnx::Conv_1154 Input onnx::Conv_1042 is undefined!\n",
      "[WARNING]: 118 onnx::Conv_1157 Input onnx::Conv_1042 is undefined!\n"
     ]
    },
    {
     "name": "stderr",
     "output_type": "stream",
     "text": [
      "5it [03:55, 37.61s/it]"
     ]
    },
    {
     "name": "stdout",
     "output_type": "stream",
     "text": [
      "[POTENTIAL SPLIT LOCATIONS]: ['input.4', 'input.12', 'onnx::Conv_24', 'onnx::Conv_26', 'input.32', 'onnx::Gemm_33', 'onnx::Gemm_35']\n"
     ]
    },
    {
     "name": "stderr",
     "output_type": "stream",
     "text": [
      "6it [04:09, 29.38s/it]"
     ]
    },
    {
     "name": "stdout",
     "output_type": "stream",
     "text": [
      "[POTENTIAL SPLIT LOCATIONS]: ['onnx::Conv_34', 'input.8', 'onnx::Conv_39', 'input.20', 'onnx::Conv_44', 'onnx::Conv_46', 'input.36', 'onnx::Conv_51', 'onnx::Conv_53', 'input.52', 'onnx::Conv_58', 'onnx::Conv_60', 'onnx::Gemm_65', 'onnx::Gemm_67', 'onnx::Gemm_69']\n"
     ]
    },
    {
     "name": "stderr",
     "output_type": "stream",
     "text": [
      "7it [05:13, 44.86s/it]\n"
     ]
    }
   ],
   "source": [
    "from skl2onnx.helpers.onnx_helper import select_model_inputs_outputs\n",
    "from skl2onnx.helpers.onnx_helper import save_onnx_model\n",
    "from skl2onnx.helpers.onnx_helper import enumerate_model_node_outputs\n",
    "from skl2onnx.helpers.onnx_helper import load_onnx_model\n",
    "\n",
    "from stitchnet.stitchonnx.utils import change_input_dim, get_fragments, Net\n",
    "\n",
    "import numpy as np\n",
    "from tqdm import tqdm\n",
    "from glob import glob\n",
    "\n",
    "x = np.random.randn(1, 3, 224, 224).astype(np.float32)\n",
    "\n",
    "nets = []\n",
    "modelnames = glob('_models/*.onnx')\n",
    "for i,modelname in tqdm(enumerate(modelnames)):\n",
    "    model_onnx1 = load_onnx_model(modelname)\n",
    "    change_input_dim(model_onnx1)\n",
    "    fragments1 = get_fragments(model_onnx1, x, 1)\n",
    "    net1 = Net(fragments1, i)\n",
    "    nets.append(net1)"
   ]
  },
  {
   "cell_type": "code",
   "execution_count": 3,
   "id": "5c217cbf-abaa-4c41-a872-ae50644a0fe7",
   "metadata": {},
   "outputs": [
    {
     "name": "stdout",
     "output_type": "stream",
     "text": [
      "number of fragments 6\n",
      "number of fragments 6\n",
      "number of fragments 16\n",
      "number of fragments 13\n",
      "number of fragments 5\n",
      "number of fragments 8\n",
      "number of fragments 16\n"
     ]
    }
   ],
   "source": [
    "for net in nets:\n",
    "    print(\"number of fragments\", len(net))"
   ]
  },
  {
   "cell_type": "code",
   "execution_count": 8,
   "id": "3973d73a-6651-4d15-ad8b-323db0f54e9a",
   "metadata": {},
   "outputs": [],
   "source": [
    "from skl2onnx.helpers.onnx_helper import save_onnx_model\n",
    "import os\n",
    "\n",
    "for i,net in enumerate(nets):\n",
    "    for j,fragment in enumerate(net):\n",
    "        folder = f\"_models/fragments/net{i:03}/\"\n",
    "        os.makedirs(folder, exist_ok = True)\n",
    "        filename = folder+f'fragment{j:03}.onnx'\n",
    "        save_onnx_model(fragment.fragment, filename)"
   ]
  },
  {
   "cell_type": "code",
   "execution_count": null,
   "id": "83547581-3e1b-4632-adde-61da750b9a56",
   "metadata": {},
   "outputs": [],
   "source": [
    "# from glob import glob\n",
    "# modelFiles = glob('_models/fragments/*.onnx')"
   ]
  }
 ],
 "metadata": {
  "kernelspec": {
   "display_name": "Python 3 (ipykernel)",
   "language": "python",
   "name": "python3"
  },
  "language_info": {
   "codemirror_mode": {
    "name": "ipython",
    "version": 3
   },
   "file_extension": ".py",
   "mimetype": "text/x-python",
   "name": "python",
   "nbconvert_exporter": "python",
   "pygments_lexer": "ipython3",
   "version": "3.9.7"
  }
 },
 "nbformat": 4,
 "nbformat_minor": 5
}
