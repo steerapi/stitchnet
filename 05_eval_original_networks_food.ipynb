{
 "cells": [
  {
   "cell_type": "code",
   "execution_count": 1,
   "id": "c86b9e3e-a028-4919-b977-31368809ecc5",
   "metadata": {},
   "outputs": [],
   "source": [
    "%load_ext autoreload\n",
    "%autoreload 2"
   ]
  },
  {
   "cell_type": "code",
   "execution_count": 2,
   "id": "18ca3bcb-2aad-4360-a0ad-7714af4d569e",
   "metadata": {
    "tags": []
   },
   "outputs": [
    {
     "name": "stderr",
     "output_type": "stream",
     "text": [
      "Found cached dataset food101 (/home/jupyter-steerapi/.cache/huggingface/datasets/food101/default/0.0.0/7cebe41a80fb2da3f08fcbef769c8874073a86346f7fb96dc0847d4dfc318295)\n"
     ]
    },
    {
     "data": {
      "application/vnd.jupyter.widget-view+json": {
       "model_id": "9f8bcf1d7c384376bcf6c9d1cd6fc151",
       "version_major": 2,
       "version_minor": 0
      },
      "text/plain": [
       "  0%|          | 0/2 [00:00<?, ?it/s]"
      ]
     },
     "metadata": {},
     "output_type": "display_data"
    },
    {
     "name": "stderr",
     "output_type": "stream",
     "text": [
      "Could not find image processor class in the image processor config or the model config. Loading based on pattern matching with the model's feature extractor configuration.\n",
      "Loading cached shuffled indices for dataset at /home/jupyter-steerapi/.cache/huggingface/datasets/food101/default/0.0.0/7cebe41a80fb2da3f08fcbef769c8874073a86346f7fb96dc0847d4dfc318295/cache-463b34067ffe427e.arrow\n",
      "Loading cached shuffled indices for dataset at /home/jupyter-steerapi/.cache/huggingface/datasets/food101/default/0.0.0/7cebe41a80fb2da3f08fcbef769c8874073a86346f7fb96dc0847d4dfc318295/cache-31728fa0f16d1941.arrow\n",
      "Loading cached processed dataset at /home/jupyter-steerapi/.cache/huggingface/datasets/food101/default/0.0.0/7cebe41a80fb2da3f08fcbef769c8874073a86346f7fb96dc0847d4dfc318295/cache-72bf87a1369951f8.arrow\n",
      "Loading cached processed dataset at /home/jupyter-steerapi/.cache/huggingface/datasets/food101/default/0.0.0/7cebe41a80fb2da3f08fcbef769c8874073a86346f7fb96dc0847d4dfc318295/cache-83c43638744cba52.arrow\n",
      "0it [00:00, ?it/s]\n",
      "0it [00:00, ?it/s]\u001b[A\n",
      "1it [00:05,  5.05s/it]\u001b[A\n",
      "2it [00:05,  2.14s/it]\u001b[A"
     ]
    },
    {
     "name": "stdout",
     "output_type": "stream",
     "text": [
      "input.4 input.4 0.9999999403953552\n",
      "input.12 input.12 1.0\n"
     ]
    },
    {
     "name": "stderr",
     "output_type": "stream",
     "text": [
      "\n",
      "3it [00:05,  1.22s/it]\u001b[A\n",
      "4it [00:05,  1.27it/s]\u001b[A"
     ]
    },
    {
     "name": "stdout",
     "output_type": "stream",
     "text": [
      "onnx::Conv_24 onnx::Conv_24 1.0\n",
      "onnx::Conv_26 onnx::Conv_26 0.9999999403953552\n"
     ]
    },
    {
     "name": "stderr",
     "output_type": "stream",
     "text": [
      "\n",
      "5it [00:07,  1.41s/it]\u001b[A"
     ]
    },
    {
     "name": "stdout",
     "output_type": "stream",
     "text": [
      "input.32 input.32 0.9673847556114197\n"
     ]
    },
    {
     "name": "stderr",
     "output_type": "stream",
     "text": [
      "\n",
      "6it [00:10,  1.73s/it]\u001b[A"
     ]
    },
    {
     "name": "stdout",
     "output_type": "stream",
     "text": [
      "onnx::Gemm_33 onnx::Gemm_33 0.978696346282959\n"
     ]
    },
    {
     "name": "stderr",
     "output_type": "stream",
     "text": [
      "\n",
      "7it [00:11,  1.63s/it]\u001b[A"
     ]
    },
    {
     "name": "stdout",
     "output_type": "stream",
     "text": [
      "onnx::Gemm_35 onnx::Gemm_35 0.9033328294754028\n"
     ]
    },
    {
     "name": "stderr",
     "output_type": "stream",
     "text": [
      "\n",
      "\n",
      "  0%|          | 0/4 [00:00<?, ?it/s]\u001b[A2023-07-11 20:31:15.656472274 [W:onnxruntime:, execution_frame.cc:812 VerifyOutputSizes] Expected shape from model of {1,1000} does not match actual shape of {256,1000} for output 36\n",
      "\n",
      " 25%|██▌       | 1/4 [00:00<00:02,  1.29it/s]\u001b[A2023-07-11 20:31:15.755851629 [W:onnxruntime:, execution_frame.cc:812 VerifyOutputSizes] Expected shape from model of {1,1000} does not match actual shape of {256,1000} for output 36\n",
      "\n",
      " 50%|█████     | 2/4 [00:00<00:00,  2.56it/s]\u001b[A2023-07-11 20:31:15.847888312 [W:onnxruntime:, execution_frame.cc:812 VerifyOutputSizes] Expected shape from model of {1,1000} does not match actual shape of {256,1000} for output 36\n",
      "2023-07-11 20:31:16.026994488 [W:onnxruntime:, execution_frame.cc:812 VerifyOutputSizes] Expected shape from model of {1,1000} does not match actual shape of {232,1000} for output 36\n",
      "\n",
      "100%|██████████| 4/4 [00:01<00:00,  2.99it/s]\u001b[A\n"
     ]
    },
    {
     "name": "stdout",
     "output_type": "stream",
     "text": [
      "(1000, 1000) (1000,)\n"
     ]
    },
    {
     "name": "stderr",
     "output_type": "stream",
     "text": [
      "\n",
      "  0%|          | 0/1 [00:00<?, ?it/s]\u001b[A2023-07-11 20:31:16.992654269 [W:onnxruntime:, execution_frame.cc:812 VerifyOutputSizes] Expected shape from model of {1,1000} does not match actual shape of {250,1000} for output 36\n",
      "\n",
      "100%|██████████| 1/1 [00:00<00:00,  1.01it/s]\u001b[A\n",
      "\n",
      "  0%|          | 0/4 [00:00<?, ?it/s]\u001b[A2023-07-11 20:31:18.773631334 [W:onnxruntime:, execution_frame.cc:812 VerifyOutputSizes] Expected shape from model of {1,1000} does not match actual shape of {256,1000} for output 36\n",
      "\n",
      " 25%|██▌       | 1/4 [00:00<00:02,  1.26it/s]\u001b[A2023-07-11 20:31:18.879966656 [W:onnxruntime:, execution_frame.cc:812 VerifyOutputSizes] Expected shape from model of {1,1000} does not match actual shape of {256,1000} for output 36\n",
      "\n",
      " 50%|█████     | 2/4 [00:00<00:00,  2.50it/s]\u001b[A2023-07-11 20:31:18.974469145 [W:onnxruntime:, execution_frame.cc:812 VerifyOutputSizes] Expected shape from model of {1,1000} does not match actual shape of {256,1000} for output 36\n",
      "2023-07-11 20:31:19.154204879 [W:onnxruntime:, execution_frame.cc:812 VerifyOutputSizes] Expected shape from model of {1,1000} does not match actual shape of {232,1000} for output 36\n",
      "\n",
      "100%|██████████| 4/4 [00:01<00:00,  3.01it/s]\u001b[A\n"
     ]
    },
    {
     "name": "stdout",
     "output_type": "stream",
     "text": [
      "(1000, 1000) (1000,)\n"
     ]
    },
    {
     "name": "stderr",
     "output_type": "stream",
     "text": [
      "\n",
      "  0%|          | 0/4 [00:00<?, ?it/s]\u001b[A2023-07-11 20:31:20.023804739 [W:onnxruntime:, execution_frame.cc:812 VerifyOutputSizes] Expected shape from model of {1,1000} does not match actual shape of {256,1000} for output 36\n",
      "\n",
      " 25%|██▌       | 1/4 [00:00<00:02,  1.31it/s]\u001b[A2023-07-11 20:31:20.171936953 [W:onnxruntime:, execution_frame.cc:812 VerifyOutputSizes] Expected shape from model of {1,1000} does not match actual shape of {256,1000} for output 36\n",
      "\n",
      " 50%|█████     | 2/4 [00:00<00:00,  2.59it/s]\u001b[A2023-07-11 20:31:20.293816297 [W:onnxruntime:, execution_frame.cc:812 VerifyOutputSizes] Expected shape from model of {1,1000} does not match actual shape of {256,1000} for output 36\n",
      "\n",
      " 75%|███████▌  | 3/4 [00:01<00:00,  3.76it/s]\u001b[A2023-07-11 20:31:20.403489786 [W:onnxruntime:, execution_frame.cc:812 VerifyOutputSizes] Expected shape from model of {1,1000} does not match actual shape of {232,1000} for output 36\n",
      "\n",
      "100%|██████████| 4/4 [00:01<00:00,  3.03it/s]\u001b[A\n",
      "1it [00:20, 20.20s/it]"
     ]
    },
    {
     "name": "stdout",
     "output_type": "stream",
     "text": [
      "VALACC: 0.108 TRAINACC: 1.0\n"
     ]
    },
    {
     "name": "stderr",
     "output_type": "stream",
     "text": [
      "\n",
      "0it [00:00, ?it/s]\u001b[A\n",
      "1it [00:01,  1.08s/it]\u001b[A"
     ]
    },
    {
     "name": "stdout",
     "output_type": "stream",
     "text": [
      "onnx::Conv_776 onnx::Conv_776 0.9999999403953552\n"
     ]
    },
    {
     "name": "stderr",
     "output_type": "stream",
     "text": [
      "\n",
      "2it [00:01,  1.72it/s]\u001b[A"
     ]
    },
    {
     "name": "stdout",
     "output_type": "stream",
     "text": [
      "onnx::Conv_866 onnx::Conv_866 1.0000001192092896\n"
     ]
    },
    {
     "name": "stderr",
     "output_type": "stream",
     "text": [
      "\n",
      "3it [00:01,  2.27it/s]\u001b[A"
     ]
    },
    {
     "name": "stdout",
     "output_type": "stream",
     "text": [
      "onnx::Conv_1040 onnx::Conv_1040 1.0000001192092896\n"
     ]
    },
    {
     "name": "stderr",
     "output_type": "stream",
     "text": [
      "\n",
      "4it [00:01,  2.22it/s]\u001b[A\n"
     ]
    },
    {
     "name": "stdout",
     "output_type": "stream",
     "text": [
      "onnx::Gemm_1160 onnx::Gemm_1160 0.9980863928794861\n"
     ]
    },
    {
     "name": "stderr",
     "output_type": "stream",
     "text": [
      "\n",
      "  0%|          | 0/4 [00:00<?, ?it/s]\u001b[A2023-07-11 20:31:24.740645952 [W:onnxruntime:, execution_frame.cc:812 VerifyOutputSizes] Expected shape from model of {1,1000} does not match actual shape of {256,1000} for output 1161\n",
      "\n",
      " 25%|██▌       | 1/4 [00:01<00:04,  1.67s/it]\u001b[A2023-07-11 20:31:24.910059342 [W:onnxruntime:, execution_frame.cc:812 VerifyOutputSizes] Expected shape from model of {1,1000} does not match actual shape of {256,1000} for output 1161\n",
      "\n",
      " 50%|█████     | 2/4 [00:02<00:01,  1.11it/s]\u001b[A2023-07-11 20:31:25.181399144 [W:onnxruntime:, execution_frame.cc:812 VerifyOutputSizes] Expected shape from model of {1,1000} does not match actual shape of {256,1000} for output 1161\n",
      "\n",
      " 75%|███████▌  | 3/4 [00:02<00:00,  1.63it/s]\u001b[A2023-07-11 20:31:26.278877185 [W:onnxruntime:, execution_frame.cc:812 VerifyOutputSizes] Expected shape from model of {1,1000} does not match actual shape of {232,1000} for output 1161\n",
      "\n",
      "100%|██████████| 4/4 [00:03<00:00,  1.20it/s]\u001b[A\n"
     ]
    },
    {
     "name": "stdout",
     "output_type": "stream",
     "text": [
      "(1000, 1000) (1000,)\n"
     ]
    },
    {
     "name": "stderr",
     "output_type": "stream",
     "text": [
      "\n",
      "  0%|          | 0/1 [00:00<?, ?it/s]\u001b[A2023-07-11 20:31:27.953614071 [W:onnxruntime:, execution_frame.cc:812 VerifyOutputSizes] Expected shape from model of {1,1000} does not match actual shape of {250,1000} for output 1161\n",
      "\n",
      "100%|██████████| 1/1 [00:01<00:00,  1.75s/it]\u001b[A\n",
      "\n",
      "  0%|          | 0/4 [00:00<?, ?it/s]\u001b[A2023-07-11 20:31:30.053578946 [W:onnxruntime:, execution_frame.cc:812 VerifyOutputSizes] Expected shape from model of {1,1000} does not match actual shape of {256,1000} for output 1161\n",
      "\n",
      " 25%|██▌       | 1/4 [00:01<00:04,  1.64s/it]\u001b[A2023-07-11 20:31:30.227759634 [W:onnxruntime:, execution_frame.cc:812 VerifyOutputSizes] Expected shape from model of {1,1000} does not match actual shape of {256,1000} for output 1161\n",
      "\n",
      " 50%|█████     | 2/4 [00:02<00:01,  1.12it/s]\u001b[A2023-07-11 20:31:30.503933747 [W:onnxruntime:, execution_frame.cc:812 VerifyOutputSizes] Expected shape from model of {1,1000} does not match actual shape of {256,1000} for output 1161\n",
      "\n",
      " 75%|███████▌  | 3/4 [00:02<00:00,  1.64it/s]\u001b[A2023-07-11 20:31:31.604815399 [W:onnxruntime:, execution_frame.cc:812 VerifyOutputSizes] Expected shape from model of {1,1000} does not match actual shape of {232,1000} for output 1161\n",
      "\n",
      "100%|██████████| 4/4 [00:03<00:00,  1.20it/s]\u001b[A\n"
     ]
    },
    {
     "name": "stdout",
     "output_type": "stream",
     "text": [
      "(1000, 1000) (1000,)\n"
     ]
    },
    {
     "name": "stderr",
     "output_type": "stream",
     "text": [
      "\n",
      "  0%|          | 0/4 [00:00<?, ?it/s]\u001b[A2023-07-11 20:31:32.495231642 [W:onnxruntime:, execution_frame.cc:812 VerifyOutputSizes] Expected shape from model of {1,1000} does not match actual shape of {256,1000} for output 1161\n",
      "\n",
      " 25%|██▌       | 1/4 [00:00<00:02,  1.02it/s]\u001b[A2023-07-11 20:31:32.835646228 [W:onnxruntime:, execution_frame.cc:812 VerifyOutputSizes] Expected shape from model of {1,1000} does not match actual shape of {256,1000} for output 1161\n",
      "\n",
      " 50%|█████     | 2/4 [00:01<00:01,  1.72it/s]\u001b[A2023-07-11 20:31:33.126884304 [W:onnxruntime:, execution_frame.cc:812 VerifyOutputSizes] Expected shape from model of {1,1000} does not match actual shape of {256,1000} for output 1161\n",
      "\n",
      " 75%|███████▌  | 3/4 [00:01<00:00,  2.23it/s]\u001b[A2023-07-11 20:31:33.412560188 [W:onnxruntime:, execution_frame.cc:812 VerifyOutputSizes] Expected shape from model of {1,1000} does not match actual shape of {232,1000} for output 1161\n",
      "\n",
      "100%|██████████| 4/4 [00:02<00:00,  1.98it/s]\u001b[A\n",
      "2it [00:33, 16.05s/it]"
     ]
    },
    {
     "name": "stdout",
     "output_type": "stream",
     "text": [
      "VALACC: 0.168 TRAINACC: 1.0\n"
     ]
    },
    {
     "name": "stderr",
     "output_type": "stream",
     "text": [
      "\n",
      "0it [00:00, ?it/s]\u001b[A\n",
      "1it [00:00,  1.34it/s]\u001b[A\n",
      "3it [00:00,  3.87it/s]\u001b[A"
     ]
    },
    {
     "name": "stdout",
     "output_type": "stream",
     "text": [
      "input.32 input.32 1.0\n",
      "input.40 input.40 0.9999999403953552\n",
      "onnx::Conv_265 onnx::Conv_265 1.0\n"
     ]
    },
    {
     "name": "stderr",
     "output_type": "stream",
     "text": [
      "\n",
      "5it [00:01,  5.88it/s]\u001b[A"
     ]
    },
    {
     "name": "stdout",
     "output_type": "stream",
     "text": [
      "onnx::Conv_276 onnx::Conv_276 0.9999999403953552\n",
      "input.120 input.120 1.0000001192092896\n",
      "onnx::Conv_326 onnx::Conv_326 1.0\n"
     ]
    },
    {
     "name": "stderr",
     "output_type": "stream",
     "text": [
      "\n",
      "7it [00:01,  7.50it/s]\u001b[A"
     ]
    },
    {
     "name": "stdout",
     "output_type": "stream",
     "text": [
      "input.244 input.244 1.0\n",
      "onnx::Conv_359 onnx::Conv_359 1.0\n"
     ]
    },
    {
     "name": "stderr",
     "output_type": "stream",
     "text": [
      "\n",
      "9it [00:01,  8.02it/s]\u001b[A\n",
      "10it [00:01,  8.34it/s]\u001b[A"
     ]
    },
    {
     "name": "stdout",
     "output_type": "stream",
     "text": [
      "input.328 input.328 1.0\n",
      "onnx::Conv_409 onnx::Conv_409 1.0000001192092896\n"
     ]
    },
    {
     "name": "stderr",
     "output_type": "stream",
     "text": [
      "\n",
      "11it [00:01,  8.06it/s]\u001b[A\n",
      "12it [00:01,  6.26it/s]\u001b[A"
     ]
    },
    {
     "name": "stdout",
     "output_type": "stream",
     "text": [
      "onnx::Gemm_415 onnx::Gemm_415 1.0\n",
      "onnx::Gemm_418 onnx::Gemm_418 0.999646008014679\n"
     ]
    },
    {
     "name": "stderr",
     "output_type": "stream",
     "text": [
      "\n",
      "\n",
      "  0%|          | 0/4 [00:00<?, ?it/s]\u001b[A2023-07-11 20:31:37.124803398 [W:onnxruntime:, execution_frame.cc:812 VerifyOutputSizes] Expected shape from model of {1,1000} does not match actual shape of {256,1000} for output 419\n",
      "\n",
      " 25%|██▌       | 1/4 [00:01<00:03,  1.15s/it]\u001b[A2023-07-11 20:31:37.224083000 [W:onnxruntime:, execution_frame.cc:812 VerifyOutputSizes] Expected shape from model of {1,1000} does not match actual shape of {256,1000} for output 419\n",
      "\n",
      " 50%|█████     | 2/4 [00:01<00:01,  1.85it/s]\u001b[A2023-07-11 20:31:37.312998779 [W:onnxruntime:, execution_frame.cc:812 VerifyOutputSizes] Expected shape from model of {1,1000} does not match actual shape of {256,1000} for output 419\n",
      "2023-07-11 20:31:37.818277904 [W:onnxruntime:, execution_frame.cc:812 VerifyOutputSizes] Expected shape from model of {1,1000} does not match actual shape of {232,1000} for output 419\n",
      "\n",
      "100%|██████████| 4/4 [00:01<00:00,  2.02it/s]\u001b[A\n"
     ]
    },
    {
     "name": "stdout",
     "output_type": "stream",
     "text": [
      "(1000, 1000) (1000,)\n"
     ]
    },
    {
     "name": "stderr",
     "output_type": "stream",
     "text": [
      "\n",
      "  0%|          | 0/1 [00:00<?, ?it/s]\u001b[A2023-07-11 20:31:39.082840437 [W:onnxruntime:, execution_frame.cc:812 VerifyOutputSizes] Expected shape from model of {1,1000} does not match actual shape of {250,1000} for output 419\n",
      "\n",
      "100%|██████████| 1/1 [00:01<00:00,  1.34s/it]\u001b[A\n",
      "\n",
      "  0%|          | 0/4 [00:00<?, ?it/s]\u001b[A2023-07-11 20:31:40.585833385 [W:onnxruntime:, execution_frame.cc:812 VerifyOutputSizes] Expected shape from model of {1,1000} does not match actual shape of {256,1000} for output 419\n",
      "\n",
      " 25%|██▌       | 1/4 [00:01<00:03,  1.18s/it]\u001b[A2023-07-11 20:31:40.694630083 [W:onnxruntime:, execution_frame.cc:812 VerifyOutputSizes] Expected shape from model of {1,1000} does not match actual shape of {256,1000} for output 419\n",
      "\n",
      " 50%|█████     | 2/4 [00:01<00:01,  1.79it/s]\u001b[A2023-07-11 20:31:40.785791312 [W:onnxruntime:, execution_frame.cc:812 VerifyOutputSizes] Expected shape from model of {1,1000} does not match actual shape of {256,1000} for output 419\n",
      "2023-07-11 20:31:41.286591711 [W:onnxruntime:, execution_frame.cc:812 VerifyOutputSizes] Expected shape from model of {1,1000} does not match actual shape of {232,1000} for output 419\n",
      "\n",
      "100%|██████████| 4/4 [00:02<00:00,  1.98it/s]\u001b[A\n"
     ]
    },
    {
     "name": "stdout",
     "output_type": "stream",
     "text": [
      "(1000, 1000) (1000,)\n"
     ]
    },
    {
     "name": "stderr",
     "output_type": "stream",
     "text": [
      "\n",
      "  0%|          | 0/4 [00:00<?, ?it/s]\u001b[A2023-07-11 20:31:42.142715914 [W:onnxruntime:, execution_frame.cc:812 VerifyOutputSizes] Expected shape from model of {1,1000} does not match actual shape of {256,1000} for output 419\n",
      "\n",
      " 25%|██▌       | 1/4 [00:00<00:02,  1.33it/s]\u001b[A2023-07-11 20:31:42.273869834 [W:onnxruntime:, execution_frame.cc:812 VerifyOutputSizes] Expected shape from model of {1,1000} does not match actual shape of {256,1000} for output 419\n",
      "\n",
      " 50%|█████     | 2/4 [00:00<00:00,  2.67it/s]\u001b[A2023-07-11 20:31:42.381965161 [W:onnxruntime:, execution_frame.cc:812 VerifyOutputSizes] Expected shape from model of {1,1000} does not match actual shape of {256,1000} for output 419\n",
      "\n",
      " 75%|███████▌  | 3/4 [00:00<00:00,  3.97it/s]\u001b[A2023-07-11 20:31:42.480886121 [W:onnxruntime:, execution_frame.cc:812 VerifyOutputSizes] Expected shape from model of {1,1000} does not match actual shape of {232,1000} for output 419\n",
      "\n",
      "100%|██████████| 4/4 [00:01<00:00,  3.20it/s]\u001b[A\n",
      "3it [00:42, 12.78s/it]"
     ]
    },
    {
     "name": "stdout",
     "output_type": "stream",
     "text": [
      "VALACC: 0.188 TRAINACC: 1.0\n"
     ]
    },
    {
     "name": "stderr",
     "output_type": "stream",
     "text": [
      "\n",
      "0it [00:00, ?it/s]\u001b[A\n",
      "1it [00:01,  1.20s/it]\u001b[A\n",
      "2it [00:01,  1.64it/s]\u001b[A"
     ]
    },
    {
     "name": "stdout",
     "output_type": "stream",
     "text": [
      "input.8 input.8 1.0000001192092896\n",
      "input.84 input.84 1.0\n"
     ]
    },
    {
     "name": "stderr",
     "output_type": "stream",
     "text": [
      "\n",
      "3it [00:01,  1.96it/s]\u001b[A"
     ]
    },
    {
     "name": "stdout",
     "output_type": "stream",
     "text": [
      "input.184 input.184 1.0000001192092896\n"
     ]
    },
    {
     "name": "stderr",
     "output_type": "stream",
     "text": [
      "\n",
      "4it [00:02,  1.41it/s]\u001b[A"
     ]
    },
    {
     "name": "stdout",
     "output_type": "stream",
     "text": [
      "input.332 input.332 1.0\n"
     ]
    },
    {
     "name": "stderr",
     "output_type": "stream",
     "text": [
      "\n",
      "5it [00:03,  1.46it/s]\u001b[A"
     ]
    },
    {
     "name": "stdout",
     "output_type": "stream",
     "text": [
      "onnx::Gemm_494 onnx::Gemm_494 0.9901809096336365\n"
     ]
    },
    {
     "name": "stderr",
     "output_type": "stream",
     "text": [
      "\n",
      "\n",
      "  0%|          | 0/4 [00:00<?, ?it/s]\u001b[A2023-07-11 20:31:48.925644454 [W:onnxruntime:, execution_frame.cc:812 VerifyOutputSizes] Expected shape from model of {1,1000} does not match actual shape of {256,1000} for output 495\n",
      "\n",
      " 25%|██▌       | 1/4 [00:01<00:04,  1.59s/it]\u001b[A2023-07-11 20:31:49.114624472 [W:onnxruntime:, execution_frame.cc:812 VerifyOutputSizes] Expected shape from model of {1,1000} does not match actual shape of {256,1000} for output 495\n",
      "\n",
      " 50%|█████     | 2/4 [00:01<00:01,  1.15it/s]\u001b[A2023-07-11 20:31:49.370527309 [W:onnxruntime:, execution_frame.cc:812 VerifyOutputSizes] Expected shape from model of {1,1000} does not match actual shape of {256,1000} for output 495\n",
      "\n",
      " 75%|███████▌  | 3/4 [00:02<00:00,  1.70it/s]\u001b[A2023-07-11 20:31:50.338248137 [W:onnxruntime:, execution_frame.cc:812 VerifyOutputSizes] Expected shape from model of {1,1000} does not match actual shape of {232,1000} for output 495\n",
      "\n",
      "100%|██████████| 4/4 [00:03<00:00,  1.27it/s]\u001b[A\n"
     ]
    },
    {
     "name": "stdout",
     "output_type": "stream",
     "text": [
      "(1000, 1000) (1000,)\n"
     ]
    },
    {
     "name": "stderr",
     "output_type": "stream",
     "text": [
      "\n",
      "  0%|          | 0/1 [00:00<?, ?it/s]\u001b[A2023-07-11 20:31:51.996240491 [W:onnxruntime:, execution_frame.cc:812 VerifyOutputSizes] Expected shape from model of {1,1000} does not match actual shape of {250,1000} for output 495\n",
      "\n",
      "100%|██████████| 1/1 [00:01<00:00,  1.73s/it]\u001b[A\n",
      "\n",
      "  0%|          | 0/4 [00:00<?, ?it/s]\u001b[A2023-07-11 20:31:54.115580112 [W:onnxruntime:, execution_frame.cc:812 VerifyOutputSizes] Expected shape from model of {1,1000} does not match actual shape of {256,1000} for output 495\n",
      "\n",
      " 25%|██▌       | 1/4 [00:01<00:04,  1.56s/it]\u001b[A2023-07-11 20:31:54.298076396 [W:onnxruntime:, execution_frame.cc:812 VerifyOutputSizes] Expected shape from model of {1,1000} does not match actual shape of {256,1000} for output 495\n",
      "\n",
      " 50%|█████     | 2/4 [00:01<00:01,  1.17it/s]\u001b[A2023-07-11 20:31:54.556134425 [W:onnxruntime:, execution_frame.cc:812 VerifyOutputSizes] Expected shape from model of {1,1000} does not match actual shape of {256,1000} for output 495\n",
      "\n",
      " 75%|███████▌  | 3/4 [00:02<00:00,  1.72it/s]\u001b[A2023-07-11 20:31:55.502804564 [W:onnxruntime:, execution_frame.cc:812 VerifyOutputSizes] Expected shape from model of {1,1000} does not match actual shape of {232,1000} for output 495\n",
      "\n",
      "100%|██████████| 4/4 [00:03<00:00,  1.29it/s]\u001b[A\n"
     ]
    },
    {
     "name": "stdout",
     "output_type": "stream",
     "text": [
      "(1000, 1000) (1000,)\n"
     ]
    },
    {
     "name": "stderr",
     "output_type": "stream",
     "text": [
      "\n",
      "  0%|          | 0/4 [00:00<?, ?it/s]\u001b[A2023-07-11 20:31:56.441469453 [W:onnxruntime:, execution_frame.cc:812 VerifyOutputSizes] Expected shape from model of {1,1000} does not match actual shape of {256,1000} for output 495\n",
      "\n",
      " 25%|██▌       | 1/4 [00:01<00:03,  1.00s/it]\u001b[A2023-07-11 20:31:56.762086787 [W:onnxruntime:, execution_frame.cc:812 VerifyOutputSizes] Expected shape from model of {1,1000} does not match actual shape of {256,1000} for output 495\n",
      "\n",
      " 50%|█████     | 2/4 [00:01<00:01,  1.72it/s]\u001b[A2023-07-11 20:31:57.047342441 [W:onnxruntime:, execution_frame.cc:812 VerifyOutputSizes] Expected shape from model of {1,1000} does not match actual shape of {256,1000} for output 495\n",
      "\n",
      " 75%|███████▌  | 3/4 [00:01<00:00,  2.24it/s]\u001b[A2023-07-11 20:31:57.327873836 [W:onnxruntime:, execution_frame.cc:812 VerifyOutputSizes] Expected shape from model of {1,1000} does not match actual shape of {232,1000} for output 495\n",
      "\n",
      "100%|██████████| 4/4 [00:02<00:00,  1.97it/s]\u001b[A\n",
      "4it [00:57, 13.67s/it]"
     ]
    },
    {
     "name": "stdout",
     "output_type": "stream",
     "text": [
      "VALACC: 0.228 TRAINACC: 1.0\n"
     ]
    },
    {
     "name": "stderr",
     "output_type": "stream",
     "text": [
      "\n",
      "0it [00:00, ?it/s]\u001b[A\n",
      "1it [00:05,  5.45s/it]\u001b[A\n",
      "2it [00:05,  2.33s/it]\u001b[A"
     ]
    },
    {
     "name": "stdout",
     "output_type": "stream",
     "text": [
      "onnx::Conv_34 onnx::Conv_34 1.0\n",
      "input.8 input.8 0.9999998807907104\n"
     ]
    },
    {
     "name": "stderr",
     "output_type": "stream",
     "text": [
      "\n",
      "3it [00:05,  1.35s/it]\u001b[A\n",
      "4it [00:05,  1.15it/s]\u001b[A"
     ]
    },
    {
     "name": "stdout",
     "output_type": "stream",
     "text": [
      "onnx::Conv_39 onnx::Conv_39 1.0000001192092896\n",
      "input.20 input.20 1.0000001192092896\n"
     ]
    },
    {
     "name": "stderr",
     "output_type": "stream",
     "text": [
      "\n",
      "5it [00:06,  1.63it/s]\u001b[A\n",
      "6it [00:06,  2.14it/s]\u001b[A"
     ]
    },
    {
     "name": "stdout",
     "output_type": "stream",
     "text": [
      "onnx::Conv_44 onnx::Conv_44 0.9999999403953552\n",
      "onnx::Conv_46 onnx::Conv_46 1.0000001192092896\n"
     ]
    },
    {
     "name": "stderr",
     "output_type": "stream",
     "text": [
      "\n",
      "7it [00:06,  2.63it/s]\u001b[A"
     ]
    },
    {
     "name": "stdout",
     "output_type": "stream",
     "text": [
      "input.36 input.36 1.0\n"
     ]
    },
    {
     "name": "stderr",
     "output_type": "stream",
     "text": [
      "\n",
      "8it [00:06,  2.81it/s]\u001b[A"
     ]
    },
    {
     "name": "stdout",
     "output_type": "stream",
     "text": [
      "onnx::Conv_51 onnx::Conv_51 1.0\n"
     ]
    },
    {
     "name": "stderr",
     "output_type": "stream",
     "text": [
      "\n",
      "9it [00:07,  2.81it/s]\u001b[A"
     ]
    },
    {
     "name": "stdout",
     "output_type": "stream",
     "text": [
      "onnx::Conv_53 onnx::Conv_53 1.0\n"
     ]
    },
    {
     "name": "stderr",
     "output_type": "stream",
     "text": [
      "\n",
      "10it [00:07,  2.75it/s]\u001b[A"
     ]
    },
    {
     "name": "stdout",
     "output_type": "stream",
     "text": [
      "input.52 input.52 1.0\n"
     ]
    },
    {
     "name": "stderr",
     "output_type": "stream",
     "text": [
      "\n",
      "11it [00:07,  2.65it/s]\u001b[A"
     ]
    },
    {
     "name": "stdout",
     "output_type": "stream",
     "text": [
      "onnx::Conv_58 onnx::Conv_58 0.9999998807907104\n"
     ]
    },
    {
     "name": "stderr",
     "output_type": "stream",
     "text": [
      "\n",
      "12it [00:08,  2.53it/s]\u001b[A"
     ]
    },
    {
     "name": "stdout",
     "output_type": "stream",
     "text": [
      "onnx::Conv_60 onnx::Conv_60 0.9999998807907104\n"
     ]
    },
    {
     "name": "stderr",
     "output_type": "stream",
     "text": [
      "\n",
      "13it [00:22,  4.61s/it]\u001b[A"
     ]
    },
    {
     "name": "stdout",
     "output_type": "stream",
     "text": [
      "onnx::Gemm_65 onnx::Gemm_65 0.8761391639709473\n"
     ]
    },
    {
     "name": "stderr",
     "output_type": "stream",
     "text": [
      "\n",
      "14it [00:28,  4.91s/it]\u001b[A"
     ]
    },
    {
     "name": "stdout",
     "output_type": "stream",
     "text": [
      "onnx::Gemm_67 onnx::Gemm_67 0.9687729477882385\n"
     ]
    },
    {
     "name": "stderr",
     "output_type": "stream",
     "text": [
      "\n",
      "15it [00:30,  2.02s/it]\u001b[A"
     ]
    },
    {
     "name": "stdout",
     "output_type": "stream",
     "text": [
      "onnx::Gemm_69 onnx::Gemm_69 0.9588046669960022\n"
     ]
    },
    {
     "name": "stderr",
     "output_type": "stream",
     "text": [
      "\n",
      "\n",
      "  0%|          | 0/4 [00:00<?, ?it/s]\u001b[A2023-07-11 20:32:39.843822116 [W:onnxruntime:, execution_frame.cc:812 VerifyOutputSizes] Expected shape from model of {1,1000} does not match actual shape of {256,1000} for output 70\n",
      "\n",
      " 25%|██▌       | 1/4 [00:04<00:13,  4.53s/it]\u001b[A2023-07-11 20:32:39.952538015 [W:onnxruntime:, execution_frame.cc:812 VerifyOutputSizes] Expected shape from model of {1,1000} does not match actual shape of {256,1000} for output 70\n",
      "\n",
      " 50%|█████     | 2/4 [00:05<00:04,  2.17s/it]\u001b[A2023-07-11 20:32:40.475565112 [W:onnxruntime:, execution_frame.cc:812 VerifyOutputSizes] Expected shape from model of {1,1000} does not match actual shape of {256,1000} for output 70\n",
      "\n",
      " 75%|███████▌  | 3/4 [00:05<00:01,  1.42s/it]\u001b[A2023-07-11 20:32:44.076769215 [W:onnxruntime:, execution_frame.cc:812 VerifyOutputSizes] Expected shape from model of {1,1000} does not match actual shape of {232,1000} for output 70\n",
      "\n",
      "100%|██████████| 4/4 [00:08<00:00,  2.24s/it]\u001b[A\n"
     ]
    },
    {
     "name": "stdout",
     "output_type": "stream",
     "text": [
      "(1000, 1000) (1000,)\n"
     ]
    },
    {
     "name": "stderr",
     "output_type": "stream",
     "text": [
      "\n",
      "  0%|          | 0/1 [00:00<?, ?it/s]\u001b[A2023-07-11 20:32:48.561281935 [W:onnxruntime:, execution_frame.cc:812 VerifyOutputSizes] Expected shape from model of {1,1000} does not match actual shape of {250,1000} for output 70\n",
      "\n",
      "100%|██████████| 1/1 [00:04<00:00,  4.54s/it]\u001b[A\n",
      "\n",
      "  0%|          | 0/4 [00:00<?, ?it/s]\u001b[A2023-07-11 20:32:54.982846874 [W:onnxruntime:, execution_frame.cc:812 VerifyOutputSizes] Expected shape from model of {1,1000} does not match actual shape of {256,1000} for output 70\n",
      "\n",
      " 25%|██▌       | 1/4 [00:04<00:13,  4.54s/it]\u001b[A2023-07-11 20:32:55.086580196 [W:onnxruntime:, execution_frame.cc:812 VerifyOutputSizes] Expected shape from model of {1,1000} does not match actual shape of {256,1000} for output 70\n",
      "\n",
      " 50%|█████     | 2/4 [00:05<00:04,  2.17s/it]\u001b[A2023-07-11 20:32:55.597380998 [W:onnxruntime:, execution_frame.cc:812 VerifyOutputSizes] Expected shape from model of {1,1000} does not match actual shape of {256,1000} for output 70\n",
      "\n",
      " 75%|███████▌  | 3/4 [00:05<00:01,  1.41s/it]\u001b[A2023-07-11 20:32:59.246505705 [W:onnxruntime:, execution_frame.cc:812 VerifyOutputSizes] Expected shape from model of {1,1000} does not match actual shape of {232,1000} for output 70\n",
      "\n",
      "100%|██████████| 4/4 [00:09<00:00,  2.25s/it]\u001b[A\n"
     ]
    },
    {
     "name": "stdout",
     "output_type": "stream",
     "text": [
      "(1000, 1000) (1000,)\n"
     ]
    },
    {
     "name": "stderr",
     "output_type": "stream",
     "text": [
      "\n",
      "  0%|          | 0/4 [00:00<?, ?it/s]\u001b[A2023-07-11 20:33:00.395089155 [W:onnxruntime:, execution_frame.cc:812 VerifyOutputSizes] Expected shape from model of {1,1000} does not match actual shape of {256,1000} for output 70\n",
      "\n",
      " 25%|██▌       | 1/4 [00:01<00:04,  1.41s/it]\u001b[A2023-07-11 20:33:01.019088102 [W:onnxruntime:, execution_frame.cc:812 VerifyOutputSizes] Expected shape from model of {1,1000} does not match actual shape of {256,1000} for output 70\n",
      "\n",
      " 50%|█████     | 2/4 [00:01<00:01,  1.08it/s]\u001b[A2023-07-11 20:33:01.581975237 [W:onnxruntime:, execution_frame.cc:812 VerifyOutputSizes] Expected shape from model of {1,1000} does not match actual shape of {256,1000} for output 70\n",
      "\n",
      " 75%|███████▌  | 3/4 [00:02<00:00,  1.32it/s]\u001b[A2023-07-11 20:33:02.152990981 [W:onnxruntime:, execution_frame.cc:812 VerifyOutputSizes] Expected shape from model of {1,1000} does not match actual shape of {232,1000} for output 70\n",
      "\n",
      "100%|██████████| 4/4 [00:03<00:00,  1.20it/s]\u001b[A\n",
      "5it [02:02, 32.23s/it]"
     ]
    },
    {
     "name": "stdout",
     "output_type": "stream",
     "text": [
      "VALACC: 0.18 TRAINACC: 1.0\n"
     ]
    },
    {
     "name": "stderr",
     "output_type": "stream",
     "text": [
      "/home/jupyter-steerapi/.conda/envs/stitchnet/lib/python3.10/site-packages/onnx_tool/node_profilers.py:1127: UserWarning: node Reshape_99 cannot reshape array of size (197,1,2304,) into shape (197,12,64,) \n",
      "  warnings.warn(f'node {self.name} cannot reshape array of size {tuple2str(srcshape)} into shape {tuple2str(shape)} ')\n",
      "/home/jupyter-steerapi/.conda/envs/stitchnet/lib/python3.10/site-packages/onnx_tool/node_profilers.py:1127: UserWarning: node Reshape_101 cannot reshape array of size (197,1,2304,) into shape (197,12,64,) \n",
      "  warnings.warn(f'node {self.name} cannot reshape array of size {tuple2str(srcshape)} into shape {tuple2str(shape)} ')\n",
      "/home/jupyter-steerapi/.conda/envs/stitchnet/lib/python3.10/site-packages/onnx_tool/node_profilers.py:1127: UserWarning: node Reshape_102 cannot reshape array of size (197,1,2304,) into shape (197,12,64,) \n",
      "  warnings.warn(f'node {self.name} cannot reshape array of size {tuple2str(srcshape)} into shape {tuple2str(shape)} ')\n",
      "/home/jupyter-steerapi/.conda/envs/stitchnet/lib/python3.10/site-packages/onnx_tool/node_profilers.py:1127: UserWarning: node Reshape_171 cannot reshape array of size (197,1,2304,) into shape (197,12,64,) \n",
      "  warnings.warn(f'node {self.name} cannot reshape array of size {tuple2str(srcshape)} into shape {tuple2str(shape)} ')\n",
      "/home/jupyter-steerapi/.conda/envs/stitchnet/lib/python3.10/site-packages/onnx_tool/node_profilers.py:1127: UserWarning: node Reshape_173 cannot reshape array of size (197,1,2304,) into shape (197,12,64,) \n",
      "  warnings.warn(f'node {self.name} cannot reshape array of size {tuple2str(srcshape)} into shape {tuple2str(shape)} ')\n",
      "/home/jupyter-steerapi/.conda/envs/stitchnet/lib/python3.10/site-packages/onnx_tool/node_profilers.py:1127: UserWarning: node Reshape_174 cannot reshape array of size (197,1,2304,) into shape (197,12,64,) \n",
      "  warnings.warn(f'node {self.name} cannot reshape array of size {tuple2str(srcshape)} into shape {tuple2str(shape)} ')\n",
      "/home/jupyter-steerapi/.conda/envs/stitchnet/lib/python3.10/site-packages/onnx_tool/node_profilers.py:1127: UserWarning: node Reshape_243 cannot reshape array of size (197,1,2304,) into shape (197,12,64,) \n",
      "  warnings.warn(f'node {self.name} cannot reshape array of size {tuple2str(srcshape)} into shape {tuple2str(shape)} ')\n",
      "/home/jupyter-steerapi/.conda/envs/stitchnet/lib/python3.10/site-packages/onnx_tool/node_profilers.py:1127: UserWarning: node Reshape_245 cannot reshape array of size (197,1,2304,) into shape (197,12,64,) \n",
      "  warnings.warn(f'node {self.name} cannot reshape array of size {tuple2str(srcshape)} into shape {tuple2str(shape)} ')\n",
      "/home/jupyter-steerapi/.conda/envs/stitchnet/lib/python3.10/site-packages/onnx_tool/node_profilers.py:1127: UserWarning: node Reshape_246 cannot reshape array of size (197,1,2304,) into shape (197,12,64,) \n",
      "  warnings.warn(f'node {self.name} cannot reshape array of size {tuple2str(srcshape)} into shape {tuple2str(shape)} ')\n",
      "/home/jupyter-steerapi/.conda/envs/stitchnet/lib/python3.10/site-packages/onnx_tool/node_profilers.py:1127: UserWarning: node Reshape_315 cannot reshape array of size (197,1,2304,) into shape (197,12,64,) \n",
      "  warnings.warn(f'node {self.name} cannot reshape array of size {tuple2str(srcshape)} into shape {tuple2str(shape)} ')\n",
      "/home/jupyter-steerapi/.conda/envs/stitchnet/lib/python3.10/site-packages/onnx_tool/node_profilers.py:1127: UserWarning: node Reshape_317 cannot reshape array of size (197,1,2304,) into shape (197,12,64,) \n",
      "  warnings.warn(f'node {self.name} cannot reshape array of size {tuple2str(srcshape)} into shape {tuple2str(shape)} ')\n",
      "/home/jupyter-steerapi/.conda/envs/stitchnet/lib/python3.10/site-packages/onnx_tool/node_profilers.py:1127: UserWarning: node Reshape_318 cannot reshape array of size (197,1,2304,) into shape (197,12,64,) \n",
      "  warnings.warn(f'node {self.name} cannot reshape array of size {tuple2str(srcshape)} into shape {tuple2str(shape)} ')\n",
      "/home/jupyter-steerapi/.conda/envs/stitchnet/lib/python3.10/site-packages/onnx_tool/node_profilers.py:1127: UserWarning: node Reshape_387 cannot reshape array of size (197,1,2304,) into shape (197,12,64,) \n",
      "  warnings.warn(f'node {self.name} cannot reshape array of size {tuple2str(srcshape)} into shape {tuple2str(shape)} ')\n",
      "/home/jupyter-steerapi/.conda/envs/stitchnet/lib/python3.10/site-packages/onnx_tool/node_profilers.py:1127: UserWarning: node Reshape_389 cannot reshape array of size (197,1,2304,) into shape (197,12,64,) \n",
      "  warnings.warn(f'node {self.name} cannot reshape array of size {tuple2str(srcshape)} into shape {tuple2str(shape)} ')\n",
      "/home/jupyter-steerapi/.conda/envs/stitchnet/lib/python3.10/site-packages/onnx_tool/node_profilers.py:1127: UserWarning: node Reshape_390 cannot reshape array of size (197,1,2304,) into shape (197,12,64,) \n",
      "  warnings.warn(f'node {self.name} cannot reshape array of size {tuple2str(srcshape)} into shape {tuple2str(shape)} ')\n",
      "/home/jupyter-steerapi/.conda/envs/stitchnet/lib/python3.10/site-packages/onnx_tool/node_profilers.py:1127: UserWarning: node Reshape_459 cannot reshape array of size (197,1,2304,) into shape (197,12,64,) \n",
      "  warnings.warn(f'node {self.name} cannot reshape array of size {tuple2str(srcshape)} into shape {tuple2str(shape)} ')\n",
      "/home/jupyter-steerapi/.conda/envs/stitchnet/lib/python3.10/site-packages/onnx_tool/node_profilers.py:1127: UserWarning: node Reshape_461 cannot reshape array of size (197,1,2304,) into shape (197,12,64,) \n",
      "  warnings.warn(f'node {self.name} cannot reshape array of size {tuple2str(srcshape)} into shape {tuple2str(shape)} ')\n",
      "/home/jupyter-steerapi/.conda/envs/stitchnet/lib/python3.10/site-packages/onnx_tool/node_profilers.py:1127: UserWarning: node Reshape_462 cannot reshape array of size (197,1,2304,) into shape (197,12,64,) \n",
      "  warnings.warn(f'node {self.name} cannot reshape array of size {tuple2str(srcshape)} into shape {tuple2str(shape)} ')\n",
      "/home/jupyter-steerapi/.conda/envs/stitchnet/lib/python3.10/site-packages/onnx_tool/node_profilers.py:1127: UserWarning: node Reshape_531 cannot reshape array of size (197,1,2304,) into shape (197,12,64,) \n",
      "  warnings.warn(f'node {self.name} cannot reshape array of size {tuple2str(srcshape)} into shape {tuple2str(shape)} ')\n",
      "/home/jupyter-steerapi/.conda/envs/stitchnet/lib/python3.10/site-packages/onnx_tool/node_profilers.py:1127: UserWarning: node Reshape_533 cannot reshape array of size (197,1,2304,) into shape (197,12,64,) \n",
      "  warnings.warn(f'node {self.name} cannot reshape array of size {tuple2str(srcshape)} into shape {tuple2str(shape)} ')\n",
      "/home/jupyter-steerapi/.conda/envs/stitchnet/lib/python3.10/site-packages/onnx_tool/node_profilers.py:1127: UserWarning: node Reshape_534 cannot reshape array of size (197,1,2304,) into shape (197,12,64,) \n",
      "  warnings.warn(f'node {self.name} cannot reshape array of size {tuple2str(srcshape)} into shape {tuple2str(shape)} ')\n",
      "/home/jupyter-steerapi/.conda/envs/stitchnet/lib/python3.10/site-packages/onnx_tool/node_profilers.py:1127: UserWarning: node Reshape_603 cannot reshape array of size (197,1,2304,) into shape (197,12,64,) \n",
      "  warnings.warn(f'node {self.name} cannot reshape array of size {tuple2str(srcshape)} into shape {tuple2str(shape)} ')\n",
      "/home/jupyter-steerapi/.conda/envs/stitchnet/lib/python3.10/site-packages/onnx_tool/node_profilers.py:1127: UserWarning: node Reshape_605 cannot reshape array of size (197,1,2304,) into shape (197,12,64,) \n",
      "  warnings.warn(f'node {self.name} cannot reshape array of size {tuple2str(srcshape)} into shape {tuple2str(shape)} ')\n",
      "/home/jupyter-steerapi/.conda/envs/stitchnet/lib/python3.10/site-packages/onnx_tool/node_profilers.py:1127: UserWarning: node Reshape_606 cannot reshape array of size (197,1,2304,) into shape (197,12,64,) \n",
      "  warnings.warn(f'node {self.name} cannot reshape array of size {tuple2str(srcshape)} into shape {tuple2str(shape)} ')\n",
      "/home/jupyter-steerapi/.conda/envs/stitchnet/lib/python3.10/site-packages/onnx_tool/node_profilers.py:1127: UserWarning: node Reshape_675 cannot reshape array of size (197,1,2304,) into shape (197,12,64,) \n",
      "  warnings.warn(f'node {self.name} cannot reshape array of size {tuple2str(srcshape)} into shape {tuple2str(shape)} ')\n",
      "/home/jupyter-steerapi/.conda/envs/stitchnet/lib/python3.10/site-packages/onnx_tool/node_profilers.py:1127: UserWarning: node Reshape_677 cannot reshape array of size (197,1,2304,) into shape (197,12,64,) \n",
      "  warnings.warn(f'node {self.name} cannot reshape array of size {tuple2str(srcshape)} into shape {tuple2str(shape)} ')\n",
      "/home/jupyter-steerapi/.conda/envs/stitchnet/lib/python3.10/site-packages/onnx_tool/node_profilers.py:1127: UserWarning: node Reshape_678 cannot reshape array of size (197,1,2304,) into shape (197,12,64,) \n",
      "  warnings.warn(f'node {self.name} cannot reshape array of size {tuple2str(srcshape)} into shape {tuple2str(shape)} ')\n",
      "/home/jupyter-steerapi/.conda/envs/stitchnet/lib/python3.10/site-packages/onnx_tool/node_profilers.py:1127: UserWarning: node Reshape_747 cannot reshape array of size (197,1,2304,) into shape (197,12,64,) \n",
      "  warnings.warn(f'node {self.name} cannot reshape array of size {tuple2str(srcshape)} into shape {tuple2str(shape)} ')\n",
      "/home/jupyter-steerapi/.conda/envs/stitchnet/lib/python3.10/site-packages/onnx_tool/node_profilers.py:1127: UserWarning: node Reshape_749 cannot reshape array of size (197,1,2304,) into shape (197,12,64,) \n",
      "  warnings.warn(f'node {self.name} cannot reshape array of size {tuple2str(srcshape)} into shape {tuple2str(shape)} ')\n",
      "/home/jupyter-steerapi/.conda/envs/stitchnet/lib/python3.10/site-packages/onnx_tool/node_profilers.py:1127: UserWarning: node Reshape_750 cannot reshape array of size (197,1,2304,) into shape (197,12,64,) \n",
      "  warnings.warn(f'node {self.name} cannot reshape array of size {tuple2str(srcshape)} into shape {tuple2str(shape)} ')\n",
      "/home/jupyter-steerapi/.conda/envs/stitchnet/lib/python3.10/site-packages/onnx_tool/node_profilers.py:1127: UserWarning: node Reshape_819 cannot reshape array of size (197,1,2304,) into shape (197,12,64,) \n",
      "  warnings.warn(f'node {self.name} cannot reshape array of size {tuple2str(srcshape)} into shape {tuple2str(shape)} ')\n",
      "/home/jupyter-steerapi/.conda/envs/stitchnet/lib/python3.10/site-packages/onnx_tool/node_profilers.py:1127: UserWarning: node Reshape_821 cannot reshape array of size (197,1,2304,) into shape (197,12,64,) \n",
      "  warnings.warn(f'node {self.name} cannot reshape array of size {tuple2str(srcshape)} into shape {tuple2str(shape)} ')\n",
      "/home/jupyter-steerapi/.conda/envs/stitchnet/lib/python3.10/site-packages/onnx_tool/node_profilers.py:1127: UserWarning: node Reshape_822 cannot reshape array of size (197,1,2304,) into shape (197,12,64,) \n",
      "  warnings.warn(f'node {self.name} cannot reshape array of size {tuple2str(srcshape)} into shape {tuple2str(shape)} ')\n",
      "/home/jupyter-steerapi/.conda/envs/stitchnet/lib/python3.10/site-packages/onnx_tool/node_profilers.py:1127: UserWarning: node Reshape_891 cannot reshape array of size (197,1,2304,) into shape (197,12,64,) \n",
      "  warnings.warn(f'node {self.name} cannot reshape array of size {tuple2str(srcshape)} into shape {tuple2str(shape)} ')\n",
      "/home/jupyter-steerapi/.conda/envs/stitchnet/lib/python3.10/site-packages/onnx_tool/node_profilers.py:1127: UserWarning: node Reshape_893 cannot reshape array of size (197,1,2304,) into shape (197,12,64,) \n",
      "  warnings.warn(f'node {self.name} cannot reshape array of size {tuple2str(srcshape)} into shape {tuple2str(shape)} ')\n",
      "/home/jupyter-steerapi/.conda/envs/stitchnet/lib/python3.10/site-packages/onnx_tool/node_profilers.py:1127: UserWarning: node Reshape_894 cannot reshape array of size (197,1,2304,) into shape (197,12,64,) \n",
      "  warnings.warn(f'node {self.name} cannot reshape array of size {tuple2str(srcshape)} into shape {tuple2str(shape)} ')\n",
      "5it [02:03, 24.75s/it]\n"
     ]
    },
    {
     "ename": "InferenceError",
     "evalue": "[TypeInferenceError] Inferred elem type differs from existing elem type: (INT64) vs (FLOAT)",
     "output_type": "error",
     "traceback": [
      "\u001b[0;31m---------------------------------------------------------------------------\u001b[0m",
      "\u001b[0;31mInferenceError\u001b[0m                            Traceback (most recent call last)",
      "Input \u001b[0;32mIn [2]\u001b[0m, in \u001b[0;36m<cell line: 28>\u001b[0;34m()\u001b[0m\n\u001b[1;32m     33\u001b[0m model_onnx1 \u001b[38;5;241m=\u001b[39m load_onnx_model(modelname)\n\u001b[1;32m     34\u001b[0m macs, params \u001b[38;5;241m=\u001b[39m get_macs_params_onnx(model_onnx1)\n\u001b[0;32m---> 35\u001b[0m torch_model_1 \u001b[38;5;241m=\u001b[39m \u001b[43mconvert\u001b[49m\u001b[43m(\u001b[49m\u001b[43mmodel_onnx1\u001b[49m\u001b[43m)\u001b[49m\n\u001b[1;32m     36\u001b[0m \u001b[38;5;66;03m# valacc,trainacc = eval_original_model(torch_model_1, dataloaders)\u001b[39;00m\n\u001b[1;32m     37\u001b[0m \n\u001b[1;32m     38\u001b[0m \u001b[38;5;66;03m# get score\u001b[39;00m\n\u001b[1;32m     39\u001b[0m fragmentFiles \u001b[38;5;241m=\u001b[39m \u001b[38;5;28msorted\u001b[39m(glob(\u001b[38;5;124mf\u001b[39m\u001b[38;5;124m'\u001b[39m\u001b[38;5;124m_models/fragments/net\u001b[39m\u001b[38;5;132;01m{\u001b[39;00mi\u001b[38;5;132;01m:\u001b[39;00m\u001b[38;5;124m03\u001b[39m\u001b[38;5;132;01m}\u001b[39;00m\u001b[38;5;124m/*.onnx\u001b[39m\u001b[38;5;124m'\u001b[39m))\n",
      "File \u001b[0;32m~/.conda/envs/stitchnet/lib/python3.10/site-packages/onnx2torch/converter.py:71\u001b[0m, in \u001b[0;36mconvert\u001b[0;34m(onnx_model_or_path, save_input_names, attach_onnx_mapping)\u001b[0m\n\u001b[1;32m     38\u001b[0m \u001b[38;5;28;01mdef\u001b[39;00m \u001b[38;5;21mconvert\u001b[39m(  \u001b[38;5;66;03m# pylint: disable=too-many-locals, too-many-branches, too-many-statements\u001b[39;00m\n\u001b[1;32m     39\u001b[0m     onnx_model_or_path: Union[\u001b[38;5;28mstr\u001b[39m, Path, ModelProto],\n\u001b[1;32m     40\u001b[0m     save_input_names: \u001b[38;5;28mbool\u001b[39m \u001b[38;5;241m=\u001b[39m \u001b[38;5;28;01mFalse\u001b[39;00m,\n\u001b[1;32m     41\u001b[0m     attach_onnx_mapping: \u001b[38;5;28mbool\u001b[39m \u001b[38;5;241m=\u001b[39m \u001b[38;5;28;01mFalse\u001b[39;00m,\n\u001b[1;32m     42\u001b[0m ) \u001b[38;5;241m-\u001b[39m\u001b[38;5;241m>\u001b[39m fx\u001b[38;5;241m.\u001b[39mGraphModule:\n\u001b[1;32m     43\u001b[0m     \u001b[38;5;124;03m\"\"\"Convert model from onnx to PyTorch.\u001b[39;00m\n\u001b[1;32m     44\u001b[0m \n\u001b[1;32m     45\u001b[0m \u001b[38;5;124;03m    This function build torch.fx GraphModule from onnx ModelProto using operations from the converter registry.\u001b[39;00m\n\u001b[0;32m   (...)\u001b[0m\n\u001b[1;32m     68\u001b[0m \n\u001b[1;32m     69\u001b[0m \u001b[38;5;124;03m    \"\"\"\u001b[39;00m\n\u001b[0;32m---> 71\u001b[0m     onnx_model \u001b[38;5;241m=\u001b[39m \u001b[43msafe_shape_inference\u001b[49m\u001b[43m(\u001b[49m\u001b[43monnx_model_or_path\u001b[49m\u001b[43m)\u001b[49m\n\u001b[1;32m     73\u001b[0m     \u001b[38;5;28;01mif\u001b[39;00m onnx_model\u001b[38;5;241m.\u001b[39mir_version \u001b[38;5;241m<\u001b[39m \u001b[38;5;241m3\u001b[39m:\n\u001b[1;32m     74\u001b[0m         \u001b[38;5;28;01mraise\u001b[39;00m \u001b[38;5;167;01mNotImplementedError\u001b[39;00m(\u001b[38;5;124m'\u001b[39m\u001b[38;5;124mOnnx IR is too old (minimal supported version is 3).\u001b[39m\u001b[38;5;124m'\u001b[39m)\n",
      "File \u001b[0;32m~/.conda/envs/stitchnet/lib/python3.10/site-packages/onnx2torch/utils/safe_shape_inference.py:30\u001b[0m, in \u001b[0;36msafe_shape_inference\u001b[0;34m(onnx_model_or_path, output_path, **kwargs)\u001b[0m\n\u001b[1;32m     28\u001b[0m \u001b[38;5;28;01mif\u001b[39;00m \u001b[38;5;28misinstance\u001b[39m(onnx_model_or_path, ModelProto):\n\u001b[1;32m     29\u001b[0m     \u001b[38;5;28;01mif\u001b[39;00m \u001b[38;5;129;01mnot\u001b[39;00m _is_big_model(onnx_model_or_path):\n\u001b[0;32m---> 30\u001b[0m         \u001b[38;5;28;01mreturn\u001b[39;00m \u001b[43minfer_shapes\u001b[49m\u001b[43m(\u001b[49m\u001b[43monnx_model_or_path\u001b[49m\u001b[43m,\u001b[49m\u001b[43m \u001b[49m\u001b[38;5;241;43m*\u001b[39;49m\u001b[38;5;241;43m*\u001b[39;49m\u001b[43mkwargs\u001b[49m\u001b[43m)\u001b[49m\n\u001b[1;32m     32\u001b[0m     \u001b[38;5;28;01mwith\u001b[39;00m tempfile\u001b[38;5;241m.\u001b[39mTemporaryDirectory() \u001b[38;5;28;01mas\u001b[39;00m tmp_dir:\n\u001b[1;32m     33\u001b[0m         tmp_model_path \u001b[38;5;241m=\u001b[39m Path(tmp_dir) \u001b[38;5;241m/\u001b[39m \u001b[38;5;124m'\u001b[39m\u001b[38;5;124mmodel.onnx\u001b[39m\u001b[38;5;124m'\u001b[39m\n",
      "File \u001b[0;32m~/.conda/envs/stitchnet/lib/python3.10/site-packages/onnx/shape_inference.py:34\u001b[0m, in \u001b[0;36minfer_shapes\u001b[0;34m(model, check_type, strict_mode, data_prop)\u001b[0m\n\u001b[1;32m     32\u001b[0m \u001b[38;5;28;01mif\u001b[39;00m \u001b[38;5;28misinstance\u001b[39m(model, (ModelProto, \u001b[38;5;28mbytes\u001b[39m)):\n\u001b[1;32m     33\u001b[0m     model_str \u001b[38;5;241m=\u001b[39m model \u001b[38;5;28;01mif\u001b[39;00m \u001b[38;5;28misinstance\u001b[39m(model, \u001b[38;5;28mbytes\u001b[39m) \u001b[38;5;28;01melse\u001b[39;00m model\u001b[38;5;241m.\u001b[39mSerializeToString()\n\u001b[0;32m---> 34\u001b[0m     inferred_model_str \u001b[38;5;241m=\u001b[39m \u001b[43mC\u001b[49m\u001b[38;5;241;43m.\u001b[39;49m\u001b[43minfer_shapes\u001b[49m\u001b[43m(\u001b[49m\u001b[43mmodel_str\u001b[49m\u001b[43m,\u001b[49m\u001b[43m \u001b[49m\u001b[43mcheck_type\u001b[49m\u001b[43m,\u001b[49m\u001b[43m \u001b[49m\u001b[43mstrict_mode\u001b[49m\u001b[43m,\u001b[49m\u001b[43m \u001b[49m\u001b[43mdata_prop\u001b[49m\u001b[43m)\u001b[49m\n\u001b[1;32m     35\u001b[0m     \u001b[38;5;28;01mreturn\u001b[39;00m onnx\u001b[38;5;241m.\u001b[39mload_from_string(inferred_model_str)\n\u001b[1;32m     36\u001b[0m \u001b[38;5;28;01melif\u001b[39;00m \u001b[38;5;28misinstance\u001b[39m(model, \u001b[38;5;28mstr\u001b[39m):\n",
      "\u001b[0;31mInferenceError\u001b[0m: [TypeInferenceError] Inferred elem type differs from existing elem type: (INT64) vs (FLOAT)"
     ]
    }
   ],
   "source": [
    "# evaluate accuracy of the original networks before finetuning\n",
    "from onnx2torch import convert\n",
    "from stitchnet.stitchonnx.utils import accuracy_score_net,Net,get_score_net,load_cats_and_dogs_dset,load_dl,eval_original_model,get_macs_params_onnx,get_data_score\n",
    "from stitchnet.stitchonnx.utils import accuracy_score_net_plants\n",
    "from stitchnet.stitchonnx.utils import load_hf_train_val_dset\n",
    "from stitchnet.stitchonnx.viz import draw_stitchNet_fromTuples\n",
    "import torch\n",
    "import os\n",
    "from glob import glob\n",
    "from tqdm import tqdm\n",
    "from skl2onnx.helpers.onnx_helper import load_onnx_model\n",
    "from pathlib import Path\n",
    "data_score = get_data_score(32)\n",
    "\n",
    "batch_size = 32\n",
    "from stitchnet.stitchonnx.utils import load_hf_train_val_dset_with_test_split\n",
    "\n",
    "dataset_train, dataset_val = load_hf_train_val_dset_with_test_split('food101',train='train', val='validation',label=\"label\",num_train=1000, num_val=250)\n",
    "\n",
    "dataloaders = dict(\n",
    "    train=load_dl(dataset_train, batch_size, shuffle=True),\n",
    "    val=load_dl(dataset_val, batch_size, shuffle=False)\n",
    ")\n",
    "RESULT_NAME = f\"_results/original_food\"\n",
    "os.makedirs(RESULT_NAME, exist_ok=True)\n",
    "\n",
    "modelnames = sorted(glob('_models/*.onnx'))\n",
    "for i,modelname in tqdm(enumerate(modelnames)):\n",
    "    name = os.path.basename(modelname)\n",
    "    namewithoutext = os.path.splitext(name)[0]\n",
    "    # if os.path.exists(f'_results/original/{namewithoutext}.txt'):\n",
    "    #     continue\n",
    "    model_onnx1 = load_onnx_model(modelname)\n",
    "    macs, params = get_macs_params_onnx(model_onnx1)\n",
    "    torch_model_1 = convert(model_onnx1)\n",
    "    # valacc,trainacc = eval_original_model(torch_model_1, dataloaders)\n",
    "    \n",
    "    # get score\n",
    "    fragmentFiles = sorted(glob(f'_models/fragments/net{i:03}/*.onnx'))\n",
    "    onnxFragments = []\n",
    "    js = []\n",
    "    for j,fragmentFile in enumerate(fragmentFiles):\n",
    "        onnxFragment = load_onnx_model(fragmentFile)\n",
    "        onnxFragments.append(onnxFragment)\n",
    "        js.append((i,j))\n",
    "    net1 = Net(onnxFragments, i)\n",
    "    score = get_score_net(net1, data_score)\n",
    "    \n",
    "    valacc = accuracy_score_net_plants(Net([model_onnx1]), dataset_val, dataset_train, bs=256)\n",
    "    trainacc = accuracy_score_net_plants(Net([model_onnx1]), dataset_train, dataset_train, bs=256)\n",
    "    print('VALACC:', valacc, 'TRAINACC:', trainacc)\n",
    "    \n",
    "    with open(f'{RESULT_NAME}/{namewithoutext}.txt', 'w') as f:\n",
    "        f.write(f'{valacc},{trainacc},{macs},{params},{score},\"{tuple(js)}\"\\n')\n",
    "        \n",
    "    draw_stitchNet_fromTuples(js, name=f'{RESULT_NAME}/{namewithoutext}')\n",
    "        # f.write(f'{\",\".join([f\"{x:.4}\" for x in [valacc,trainacc,macs,params,score]])}\\n')\n",
    "    # break"
   ]
  },
  {
   "cell_type": "code",
   "execution_count": 3,
   "id": "d727faf3-c269-45b5-8326-9436b13b9957",
   "metadata": {},
   "outputs": [],
   "source": [
    "# from stitchnet.stitchonnx.utils import load_dl,load_onnx_model,load_cats_and_dogs_dset,execute_fragments,convert_imagenet_to_cat_dog_label\n",
    "# import numpy as np\n",
    "# from glob import glob\n",
    "# from tqdm import tqdm\n",
    "\n",
    "# dataset_val = load_cats_and_dogs_dset(\"test\")\n",
    "# fragmentFiles = sorted(glob(f'_models/fragments/net001/*.onnx'))\n",
    "# onnxFragments = []\n",
    "# js = []\n",
    "# for j,fragmentFile in enumerate(fragmentFiles):\n",
    "#     onnxFragment = load_onnx_model(fragmentFile)\n",
    "#     onnxFragments.append(onnxFragment)"
   ]
  },
  {
   "cell_type": "code",
   "execution_count": 4,
   "id": "88cda15d-653d-4378-9d1d-fbd043d5cbb5",
   "metadata": {},
   "outputs": [
    {
     "name": "stdout",
     "output_type": "stream",
     "text": [
      "DONE\n"
     ]
    }
   ],
   "source": [
    "print(\"DONE\")"
   ]
  },
  {
   "cell_type": "code",
   "execution_count": null,
   "id": "ed9b1d7a-0753-4cba-b750-37ab25add04e",
   "metadata": {},
   "outputs": [],
   "source": []
  }
 ],
 "metadata": {
  "kernelspec": {
   "display_name": "stitchnet",
   "language": "python",
   "name": "stitchnet"
  },
  "language_info": {
   "codemirror_mode": {
    "name": "ipython",
    "version": 3
   },
   "file_extension": ".py",
   "mimetype": "text/x-python",
   "name": "python",
   "nbconvert_exporter": "python",
   "pygments_lexer": "ipython3",
   "version": "3.10.5"
  }
 },
 "nbformat": 4,
 "nbformat_minor": 5
}
