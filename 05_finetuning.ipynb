{
 "cells": [
  {
   "cell_type": "code",
   "execution_count": 1,
   "id": "3f74a546-bf06-4329-8e6f-ad016fa37fe8",
   "metadata": {},
   "outputs": [],
   "source": [
    "%load_ext autoreload\n",
    "%autoreload 2"
   ]
  },
  {
   "cell_type": "code",
   "execution_count": null,
   "id": "3b052907-e09d-401a-8660-107ec775bc17",
   "metadata": {
    "tags": []
   },
   "outputs": [
    {
     "name": "stderr",
     "output_type": "stream",
     "text": [
      "0it [00:00, ?it/s]"
     ]
    },
    {
     "name": "stdout",
     "output_type": "stream",
     "text": [
      "Params to learn:\n",
      "\t Gemm_2.weight\n",
      "\t Gemm_2.bias\n",
      "Epoch 0/49\n",
      "----------\n",
      "train Loss: 0.6297 Acc: 0.6543\n"
     ]
    }
   ],
   "source": [
    "from skl2onnx.helpers.onnx_helper import select_model_inputs_outputs\n",
    "from skl2onnx.helpers.onnx_helper import save_onnx_model\n",
    "from skl2onnx.helpers.onnx_helper import enumerate_model_node_outputs\n",
    "from skl2onnx.helpers.onnx_helper import load_onnx_model\n",
    "\n",
    "from stitchnet.stitchonnx.utils import change_input_dim, get_fragments, Net\n",
    "\n",
    "import numpy as np\n",
    "from tqdm import tqdm\n",
    "from glob import glob\n",
    "from stitchnet.finetuning.finetune import finetune\n",
    "import os\n",
    "import torch\n",
    "\n",
    "num_classes = 2\n",
    "num_epochs = 50\n",
    "feature_extract = True\n",
    "batch_size = 64\n",
    "\n",
    "modelnames = sorted(glob('_models/*.onnx'))\n",
    "\n",
    "os.makedirs('_results/finetune', exist_ok=True)\n",
    "for i,modelname in tqdm(enumerate(modelnames)):\n",
    "    model_onnx1 = load_onnx_model(modelname)\n",
    "    model_ft, hist = finetune(model_onnx1, num_classes, num_epochs, batch_size, feature_extract)\n",
    "    name = os.path.basename(modelname)\n",
    "    namewithoutext = os.path.splitext(name)[0]\n",
    "    torch.onnx.export(model_ft, torch.ones(1,3,224,224), f'_results/finetune/{namewithoutext}_ft.onnx')\n",
    "    with open(f'_results/finetune/{namewithoutext}.txt', 'w') as f:\n",
    "        for line in hist:\n",
    "            f.write(f'{\",\".join([f\"{x:.4}\" for x in line])}\\n')    "
   ]
  },
  {
   "cell_type": "code",
   "execution_count": null,
   "id": "fdacfe6c-8a6b-4e46-a2eb-661b873542ca",
   "metadata": {},
   "outputs": [],
   "source": []
  }
 ],
 "metadata": {
  "kernelspec": {
   "display_name": "stitchnet",
   "language": "python",
   "name": "stitchnet"
  },
  "language_info": {
   "codemirror_mode": {
    "name": "ipython",
    "version": 3
   },
   "file_extension": ".py",
   "mimetype": "text/x-python",
   "name": "python",
   "nbconvert_exporter": "python",
   "pygments_lexer": "ipython3",
   "version": "3.10.4"
  }
 },
 "nbformat": 4,
 "nbformat_minor": 5
}
