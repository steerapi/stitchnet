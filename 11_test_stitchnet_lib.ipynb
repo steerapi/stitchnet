{
 "cells": [
  {
   "cell_type": "code",
   "execution_count": 1,
   "id": "0cfb13d8-1de5-4fbf-aa4a-1bf024bd3d14",
   "metadata": {},
   "outputs": [],
   "source": [
    "%load_ext autoreload\n",
    "%autoreload 2"
   ]
  },
  {
   "cell_type": "code",
   "execution_count": 2,
   "id": "a7a25ff4-b5bb-4f4f-ab7b-6394dd88991a",
   "metadata": {},
   "outputs": [],
   "source": [
    "from stitchnet import get_cache_folder, generate"
   ]
  },
  {
   "cell_type": "code",
   "execution_count": 3,
   "id": "e063aea4-078b-46e5-83b1-6768fb2d849c",
   "metadata": {
    "tags": []
   },
   "outputs": [
    {
     "name": "stderr",
     "output_type": "stream",
     "text": [
      "Found cached dataset beans (/home/jupyter-steerapi/.cache/huggingface/datasets/beans/default/0.0.0/90c755fb6db1c0ccdad02e897a37969dbf070bed3755d4391e269ff70642d791)\n"
     ]
    },
    {
     "data": {
      "application/vnd.jupyter.widget-view+json": {
       "model_id": "d47fc2f6901d4447a0e11bff3b03c20a",
       "version_major": 2,
       "version_minor": 0
      },
      "text/plain": [
       "  0%|          | 0/3 [00:00<?, ?it/s]"
      ]
     },
     "metadata": {},
     "output_type": "display_data"
    },
    {
     "name": "stderr",
     "output_type": "stream",
     "text": [
      "Could not find image processor class in the image processor config or the model config. Loading based on pattern matching with the model's feature extractor configuration.\n",
      "Loading cached shuffled indices for dataset at /home/jupyter-steerapi/.cache/huggingface/datasets/beans/default/0.0.0/90c755fb6db1c0ccdad02e897a37969dbf070bed3755d4391e269ff70642d791/cache-cac060a5360da545.arrow\n",
      "Loading cached processed dataset at /home/jupyter-steerapi/.cache/huggingface/datasets/beans/default/0.0.0/90c755fb6db1c0ccdad02e897a37969dbf070bed3755d4391e269ff70642d791/cache-5f0b2533f6c38720.arrow\n",
      "Loading cached processed dataset at /home/jupyter-steerapi/.cache/huggingface/datasets/beans/default/0.0.0/90c755fb6db1c0ccdad02e897a37969dbf070bed3755d4391e269ff70642d791/cache-940888201d588dc5.arrow\n",
      "Loading cached shuffled indices for dataset at /home/jupyter-steerapi/.cache/huggingface/datasets/beans/default/0.0.0/90c755fb6db1c0ccdad02e897a37969dbf070bed3755d4391e269ff70642d791/cache-fb581327019d6d2b.arrow\n",
      "Loading cached processed dataset at /home/jupyter-steerapi/.cache/huggingface/datasets/beans/default/0.0.0/90c755fb6db1c0ccdad02e897a37969dbf070bed3755d4391e269ff70642d791/cache-1ce4dec42b3db4e8.arrow\n",
      "Loading cached processed dataset at /home/jupyter-steerapi/.cache/huggingface/datasets/beans/default/0.0.0/90c755fb6db1c0ccdad02e897a37969dbf070bed3755d4391e269ff70642d791/cache-14bff30dd192ffba.arrow\n"
     ]
    }
   ],
   "source": [
    "from stitchnet import load_hf_dataset\n",
    "# load the beans dataset from huggingface\n",
    "dataset_train, dataset_val = load_hf_dataset('beans', train_split='validation', val_split='test', label_column='labels', seed=47)"
   ]
  },
  {
   "cell_type": "code",
   "execution_count": 4,
   "id": "ed608bc2-e683-4474-9c1e-0d93c3d14945",
   "metadata": {
    "tags": []
   },
   "outputs": [
    {
     "name": "stderr",
     "output_type": "stream",
     "text": [
      "100%|██████████| 32/32 [00:00<00:00, 52.85it/s]\n",
      "100%|██████████| 5/5 [00:00<00:00, 6230.40it/s]\n"
     ]
    },
    {
     "name": "stdout",
     "output_type": "stream",
     "text": [
      "['/home/jupyter-steerapi/.cache/stitchnet/_models/alexnet.onnx', '/home/jupyter-steerapi/.cache/stitchnet/_models/densenet121.onnx', '/home/jupyter-steerapi/.cache/stitchnet/_models/mobilenet_v3_small.onnx', '/home/jupyter-steerapi/.cache/stitchnet/_models/resnet50.onnx', '/home/jupyter-steerapi/.cache/stitchnet/_models/vgg16.onnx']\n"
     ]
    },
    {
     "name": "stderr",
     "output_type": "stream",
     "text": [
      "5it [00:00, 4738.26it/s]\n",
      "5it [00:01,  4.44it/s]\n",
      "/home/jupyter-steerapi/.conda/envs/stitchnet/lib/python3.10/site-packages/onnxruntime/capi/onnxruntime_inference_collection.py:65: UserWarning: Specified provider 'CUDAExecutionProvider' is not in available provider names.Available providers: 'CPUExecutionProvider'\n",
      "  warnings.warn(\n"
     ]
    },
    {
     "name": "stdout",
     "output_type": "stream",
     "text": [
      "potential next fragments before thresholding of 0: 2 ['1.0', '0.75']\n",
      "potential next fragments after thresholding of 0: 1 ['0.75']\n",
      "totalscore before thresholding of 0: 0.7485116720199585\n",
      "potential next fragments before thresholding of 0: 2 ['0.93', '0.7']\n",
      "potential next fragments after thresholding of 0: 1 ['0.93']\n",
      "totalscore before thresholding of 0: 0.6936578094513095\n",
      "potential next fragments before thresholding of 0: 2 ['0.96', '0.76']\n",
      "potential next fragments after thresholding of 0: 1 ['0.96']\n",
      "totalscore before thresholding of 0: 0.6687199394456858\n",
      "potential next fragments before thresholding of 0: 2 ['0.99', '0.77']\n",
      "potential next fragments after thresholding of 0: 1 ['0.77']\n",
      "totalscore before thresholding of 0: 0.5129298499647756\n"
     ]
    }
   ],
   "source": [
    "import numpy as np\n",
    "from tqdm import tqdm\n",
    "stitching_dataset = np.vstack([x['pixel_values'] for x in tqdm(dataset_train.select(range(32)))])\n",
    "score,net = generate(stitching_dataset, threshold=0, totalThreshold=0, maxDepth=10, K=2, sample=True)\n",
    "print(score, net)"
   ]
  },
  {
   "cell_type": "code",
   "execution_count": 11,
   "id": "12c90344-dc77-4961-96b3-489e9ae5366b",
   "metadata": {},
   "outputs": [
    {
     "data": {
      "text/plain": [
       "{'macs': 4488343528.0, 'params': 25653096}"
      ]
     },
     "execution_count": 11,
     "metadata": {},
     "output_type": "execute_result"
    }
   ],
   "source": [
    "net.get_macs_params()"
   ]
  },
  {
   "cell_type": "code",
   "execution_count": 12,
   "id": "b67e7404-f15f-4dd4-b942-597c72d8a566",
   "metadata": {},
   "outputs": [
    {
     "name": "stdout",
     "output_type": "stream",
     "text": [
      "saving to ./_results/net.onnx\n"
     ]
    }
   ],
   "source": [
    "net.save_onnx('./_results/net')"
   ]
  },
  {
   "cell_type": "code",
   "execution_count": 13,
   "id": "17d578ab-7248-4b09-b0d7-ca67c6f237a1",
   "metadata": {},
   "outputs": [
    {
     "name": "stdout",
     "output_type": "stream",
     "text": [
      "saving to ./_results/net.svg\n"
     ]
    }
   ],
   "source": [
    "net.draw_svg('./_results/net')"
   ]
  },
  {
   "cell_type": "code",
   "execution_count": 10,
   "id": "34960b6a-307c-439e-8313-53dfe368e94e",
   "metadata": {},
   "outputs": [
    {
     "name": "stderr",
     "output_type": "stream",
     "text": [
      "/home/jupyter-steerapi/.conda/envs/stitchnet/lib/python3.10/site-packages/onnxruntime/capi/onnxruntime_inference_collection.py:65: UserWarning: Specified provider 'CUDAExecutionProvider' is not in available provider names.Available providers: 'CPUExecutionProvider'\n",
      "  warnings.warn(\n",
      "100%|██████████| 5/5 [00:01<00:00,  4.05it/s]\n"
     ]
    }
   ],
   "source": [
    "net.fit(dataset_train, label_column=\"labels\")"
   ]
  },
  {
   "cell_type": "code",
   "execution_count": 11,
   "id": "36606c5a-ada5-47c4-b666-b45181d67753",
   "metadata": {},
   "outputs": [
    {
     "name": "stdout",
     "output_type": "stream",
     "text": [
      "torch.Size([1, 3, 224, 224])\n"
     ]
    }
   ],
   "source": [
    "for item in dataset_val:\n",
    "    print(item['pixel_values'].shape)\n",
    "    break"
   ]
  },
  {
   "cell_type": "code",
   "execution_count": 12,
   "id": "e2e8d2e3-5389-4cfc-9433-8f859d2ae750",
   "metadata": {},
   "outputs": [
    {
     "name": "stderr",
     "output_type": "stream",
     "text": [
      "100%|██████████| 4/4 [00:01<00:00,  2.04it/s]\n"
     ]
    },
    {
     "data": {
      "text/plain": [
       "{'accuracy': 0.7421875}"
      ]
     },
     "execution_count": 12,
     "metadata": {},
     "output_type": "execute_result"
    }
   ],
   "source": [
    "net.evaluate_dataset(dataset_val, label_column='labels')"
   ]
  },
  {
   "cell_type": "code",
   "execution_count": 13,
   "id": "04509231-d2ff-4c31-8456-1410e8ff8450",
   "metadata": {},
   "outputs": [
    {
     "name": "stderr",
     "output_type": "stream",
     "text": [
      "Could not find image processor class in the image processor config or the model config. Loading based on pattern matching with the model's feature extractor configuration.\n"
     ]
    },
    {
     "data": {
      "text/plain": [
       "[{'score': [0.2, 0.6, 0.2], 'label': 1}]"
      ]
     },
     "execution_count": 13,
     "metadata": {},
     "output_type": "execute_result"
    }
   ],
   "source": [
    "net.predict_files(['./_data/test.jpg'])"
   ]
  },
  {
   "cell_type": "code",
   "execution_count": null,
   "id": "dd9931dd-7193-424f-8ffd-f0dfe7c3bb68",
   "metadata": {},
   "outputs": [],
   "source": []
  }
 ],
 "metadata": {
  "kernelspec": {
   "display_name": "stitchnet",
   "language": "python",
   "name": "stitchnet"
  },
  "language_info": {
   "codemirror_mode": {
    "name": "ipython",
    "version": 3
   },
   "file_extension": ".py",
   "mimetype": "text/x-python",
   "name": "python",
   "nbconvert_exporter": "python",
   "pygments_lexer": "ipython3",
   "version": "3.10.5"
  }
 },
 "nbformat": 4,
 "nbformat_minor": 5
}
