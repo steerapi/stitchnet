{
 "cells": [
  {
   "cell_type": "code",
   "execution_count": 1,
   "id": "c86b9e3e-a028-4919-b977-31368809ecc5",
   "metadata": {},
   "outputs": [],
   "source": [
    "%load_ext autoreload\n",
    "%autoreload 2"
   ]
  },
  {
   "cell_type": "code",
   "execution_count": 2,
   "id": "18ca3bcb-2aad-4360-a0ad-7714af4d569e",
   "metadata": {
    "tags": []
   },
   "outputs": [
    {
     "name": "stderr",
     "output_type": "stream",
     "text": [
      "Found cached dataset beans (/home/jupyter-steerapi/.cache/huggingface/datasets/beans/default/0.0.0/90c755fb6db1c0ccdad02e897a37969dbf070bed3755d4391e269ff70642d791)\n"
     ]
    },
    {
     "data": {
      "application/vnd.jupyter.widget-view+json": {
       "model_id": "1c3be6989d33443b8c0fd39f26b8b1e6",
       "version_major": 2,
       "version_minor": 0
      },
      "text/plain": [
       "  0%|          | 0/3 [00:00<?, ?it/s]"
      ]
     },
     "metadata": {},
     "output_type": "display_data"
    },
    {
     "name": "stderr",
     "output_type": "stream",
     "text": [
      "Could not find image processor class in the image processor config or the model config. Loading based on pattern matching with the model's feature extractor configuration.\n",
      "Loading cached shuffled indices for dataset at /home/jupyter-steerapi/.cache/huggingface/datasets/beans/default/0.0.0/90c755fb6db1c0ccdad02e897a37969dbf070bed3755d4391e269ff70642d791/cache-cac060a5360da545.arrow\n",
      "Loading cached shuffled indices for dataset at /home/jupyter-steerapi/.cache/huggingface/datasets/beans/default/0.0.0/90c755fb6db1c0ccdad02e897a37969dbf070bed3755d4391e269ff70642d791/cache-fb581327019d6d2b.arrow\n",
      "Loading cached processed dataset at /home/jupyter-steerapi/.cache/huggingface/datasets/beans/default/0.0.0/90c755fb6db1c0ccdad02e897a37969dbf070bed3755d4391e269ff70642d791/cache-5f0b2533f6c38720.arrow\n",
      "Loading cached processed dataset at /home/jupyter-steerapi/.cache/huggingface/datasets/beans/default/0.0.0/90c755fb6db1c0ccdad02e897a37969dbf070bed3755d4391e269ff70642d791/cache-940888201d588dc5.arrow\n",
      "Loading cached processed dataset at /home/jupyter-steerapi/.cache/huggingface/datasets/beans/default/0.0.0/90c755fb6db1c0ccdad02e897a37969dbf070bed3755d4391e269ff70642d791/cache-1ce4dec42b3db4e8.arrow\n",
      "Loading cached processed dataset at /home/jupyter-steerapi/.cache/huggingface/datasets/beans/default/0.0.0/90c755fb6db1c0ccdad02e897a37969dbf070bed3755d4391e269ff70642d791/cache-14bff30dd192ffba.arrow\n"
     ]
    },
    {
     "name": "stdout",
     "output_type": "stream",
     "text": [
      "tensor([1, 0, 0, 1, 1, 2, 0, 2, 2, 0, 0, 2, 1, 0, 2, 0, 2, 0, 1, 1, 1, 1, 1, 2,\n",
      "        0, 1, 1, 0, 0, 0, 2, 2, 1, 2, 1, 1, 0, 1, 2, 0, 0, 0, 1, 1, 1, 2, 2, 0,\n",
      "        1, 1, 1, 0, 2, 0, 1, 1, 0, 2, 0, 0, 2, 2, 0, 0, 2, 2, 1, 2, 0, 2, 2, 1,\n",
      "        2, 0, 1, 2, 0, 2, 2, 2, 1, 1, 0, 1, 0, 0, 0, 2, 0, 1, 2, 1, 2, 2, 1, 1,\n",
      "        2, 1, 2, 2, 2, 1, 2, 0, 1, 0, 0, 2, 2, 1, 0, 0, 0, 0, 2, 0, 2, 2, 0, 1])\n"
     ]
    },
    {
     "name": "stderr",
     "output_type": "stream",
     "text": [
      "100%|██████████| 32/32 [00:01<00:00, 20.10it/s]\n",
      "0it [00:00, ?it/s]\n",
      "0it [00:00, ?it/s]\u001b[A"
     ]
    },
    {
     "name": "stdout",
     "output_type": "stream",
     "text": [
      "(32, 3, 224, 224)\n",
      "(32, 64, 27, 27)\n",
      "(32, 192, 13, 13)\n",
      "(32, 384, 13, 13)\n",
      "(32, 256, 13, 13)\n",
      "(32, 9216)\n",
      "(32, 4096)\n",
      "(32, 4096)\n"
     ]
    },
    {
     "name": "stderr",
     "output_type": "stream",
     "text": [
      "\n",
      "1it [00:05,  5.50s/it]\u001b[A\n",
      "2it [00:05,  2.33s/it]\u001b[A"
     ]
    },
    {
     "name": "stdout",
     "output_type": "stream",
     "text": [
      "input.4 input.4 1.0000001192092896\n",
      "input.12 input.12 1.0000001192092896\n"
     ]
    },
    {
     "name": "stderr",
     "output_type": "stream",
     "text": [
      "\n",
      "3it [00:05,  1.32s/it]\u001b[A\n",
      "4it [00:05,  1.17it/s]\u001b[A"
     ]
    },
    {
     "name": "stdout",
     "output_type": "stream",
     "text": [
      "onnx::Conv_24 onnx::Conv_24 0.9999999403953552\n",
      "onnx::Conv_26 onnx::Conv_26 1.0\n"
     ]
    },
    {
     "name": "stderr",
     "output_type": "stream",
     "text": [
      "\n",
      "5it [00:08,  1.47s/it]\u001b[A"
     ]
    },
    {
     "name": "stdout",
     "output_type": "stream",
     "text": [
      "input.32 input.32 0.9237907528877258\n"
     ]
    },
    {
     "name": "stderr",
     "output_type": "stream",
     "text": [
      "\n",
      "6it [00:10,  1.81s/it]\u001b[A"
     ]
    },
    {
     "name": "stdout",
     "output_type": "stream",
     "text": [
      "onnx::Gemm_33 onnx::Gemm_33 0.9649736881256104\n"
     ]
    },
    {
     "name": "stderr",
     "output_type": "stream",
     "text": [
      "\n",
      "7it [00:12,  1.73s/it]\u001b[A"
     ]
    },
    {
     "name": "stdout",
     "output_type": "stream",
     "text": [
      "onnx::Gemm_35 onnx::Gemm_35 0.9268311262130737\n"
     ]
    },
    {
     "name": "stderr",
     "output_type": "stream",
     "text": [
      "\n",
      "\n",
      "  0%|          | 0/9 [00:00<?, ?it/s]\u001b[A2023-07-13 19:23:24.848328946 [W:onnxruntime:, execution_frame.cc:812 VerifyOutputSizes] Expected shape from model of {1,1000} does not match actual shape of {16,1000} for output 36\n",
      "2023-07-13 19:23:24.853596297 [W:onnxruntime:, execution_frame.cc:812 VerifyOutputSizes] Expected shape from model of {1,1000} does not match actual shape of {16,1000} for output 36\n",
      "2023-07-13 19:23:24.858636051 [W:onnxruntime:, execution_frame.cc:812 VerifyOutputSizes] Expected shape from model of {1,1000} does not match actual shape of {16,1000} for output 36\n",
      "2023-07-13 19:23:24.863700225 [W:onnxruntime:, execution_frame.cc:812 VerifyOutputSizes] Expected shape from model of {1,1000} does not match actual shape of {16,1000} for output 36\n",
      "2023-07-13 19:23:24.868720621 [W:onnxruntime:, execution_frame.cc:812 VerifyOutputSizes] Expected shape from model of {1,1000} does not match actual shape of {16,1000} for output 36\n",
      "2023-07-13 19:23:24.873697543 [W:onnxruntime:, execution_frame.cc:812 VerifyOutputSizes] Expected shape from model of {1,1000} does not match actual shape of {16,1000} for output 36\n",
      "2023-07-13 19:23:24.881932207 [W:onnxruntime:, execution_frame.cc:812 VerifyOutputSizes] Expected shape from model of {1,1000} does not match actual shape of {16,1000} for output 36\n",
      "2023-07-13 19:23:24.886820328 [W:onnxruntime:, execution_frame.cc:812 VerifyOutputSizes] Expected shape from model of {1,1000} does not match actual shape of {16,1000} for output 36\n",
      "2023-07-13 19:23:24.902730684 [W:onnxruntime:, execution_frame.cc:812 VerifyOutputSizes] Expected shape from model of {1,1000} does not match actual shape of {5,1000} for output 36\n",
      "100%|██████████| 9/9 [00:00<00:00, 111.98it/s]\n"
     ]
    },
    {
     "name": "stdout",
     "output_type": "stream",
     "text": [
      "(133, 1000) (133,)\n"
     ]
    },
    {
     "name": "stderr",
     "output_type": "stream",
     "text": [
      "\n",
      "  0%|          | 0/8 [00:00<?, ?it/s]\u001b[A2023-07-13 19:23:29.354331432 [W:onnxruntime:, execution_frame.cc:812 VerifyOutputSizes] Expected shape from model of {1,1000} does not match actual shape of {16,1000} for output 36\n",
      "2023-07-13 19:23:29.364152986 [W:onnxruntime:, execution_frame.cc:812 VerifyOutputSizes] Expected shape from model of {1,1000} does not match actual shape of {16,1000} for output 36\n",
      "2023-07-13 19:23:29.371808132 [W:onnxruntime:, execution_frame.cc:812 VerifyOutputSizes] Expected shape from model of {1,1000} does not match actual shape of {16,1000} for output 36\n",
      "2023-07-13 19:23:29.379166966 [W:onnxruntime:, execution_frame.cc:812 VerifyOutputSizes] Expected shape from model of {1,1000} does not match actual shape of {16,1000} for output 36\n",
      "2023-07-13 19:23:29.386459944 [W:onnxruntime:, execution_frame.cc:812 VerifyOutputSizes] Expected shape from model of {1,1000} does not match actual shape of {16,1000} for output 36\n",
      "2023-07-13 19:23:29.393729017 [W:onnxruntime:, execution_frame.cc:812 VerifyOutputSizes] Expected shape from model of {1,1000} does not match actual shape of {16,1000} for output 36\n",
      "2023-07-13 19:23:29.401020440 [W:onnxruntime:, execution_frame.cc:812 VerifyOutputSizes] Expected shape from model of {1,1000} does not match actual shape of {16,1000} for output 36\n",
      "2023-07-13 19:23:29.408286008 [W:onnxruntime:, execution_frame.cc:812 VerifyOutputSizes] Expected shape from model of {1,1000} does not match actual shape of {16,1000} for output 36\n",
      "100%|██████████| 8/8 [00:00<00:00, 125.62it/s]"
     ]
    },
    {
     "name": "stdout",
     "output_type": "stream",
     "text": [
      "128\n"
     ]
    },
    {
     "name": "stderr",
     "output_type": "stream",
     "text": [
      "\n",
      "\n",
      "  0%|          | 0/9 [00:00<?, ?it/s]\u001b[A2023-07-13 19:23:34.925299629 [W:onnxruntime:, execution_frame.cc:812 VerifyOutputSizes] Expected shape from model of {1,1000} does not match actual shape of {16,1000} for output 36\n",
      "2023-07-13 19:23:34.930255289 [W:onnxruntime:, execution_frame.cc:812 VerifyOutputSizes] Expected shape from model of {1,1000} does not match actual shape of {16,1000} for output 36\n",
      "2023-07-13 19:23:34.935778513 [W:onnxruntime:, execution_frame.cc:812 VerifyOutputSizes] Expected shape from model of {1,1000} does not match actual shape of {16,1000} for output 36\n",
      "2023-07-13 19:23:34.940861422 [W:onnxruntime:, execution_frame.cc:812 VerifyOutputSizes] Expected shape from model of {1,1000} does not match actual shape of {16,1000} for output 36\n",
      "2023-07-13 19:23:34.946250636 [W:onnxruntime:, execution_frame.cc:812 VerifyOutputSizes] Expected shape from model of {1,1000} does not match actual shape of {16,1000} for output 36\n",
      "2023-07-13 19:23:34.951674689 [W:onnxruntime:, execution_frame.cc:812 VerifyOutputSizes] Expected shape from model of {1,1000} does not match actual shape of {16,1000} for output 36\n",
      "2023-07-13 19:23:34.957506282 [W:onnxruntime:, execution_frame.cc:812 VerifyOutputSizes] Expected shape from model of {1,1000} does not match actual shape of {16,1000} for output 36\n",
      "2023-07-13 19:23:34.962393697 [W:onnxruntime:, execution_frame.cc:812 VerifyOutputSizes] Expected shape from model of {1,1000} does not match actual shape of {16,1000} for output 36\n",
      "2023-07-13 19:23:34.978535915 [W:onnxruntime:, execution_frame.cc:812 VerifyOutputSizes] Expected shape from model of {1,1000} does not match actual shape of {5,1000} for output 36\n",
      "100%|██████████| 9/9 [00:00<00:00, 115.28it/s]\n"
     ]
    },
    {
     "name": "stdout",
     "output_type": "stream",
     "text": [
      "(133, 1000) (133,)\n"
     ]
    },
    {
     "name": "stderr",
     "output_type": "stream",
     "text": [
      "\n",
      "  0%|          | 0/9 [00:00<?, ?it/s]\u001b[A2023-07-13 19:23:40.052265043 [W:onnxruntime:, execution_frame.cc:812 VerifyOutputSizes] Expected shape from model of {1,1000} does not match actual shape of {16,1000} for output 36\n",
      "2023-07-13 19:23:40.061073983 [W:onnxruntime:, execution_frame.cc:812 VerifyOutputSizes] Expected shape from model of {1,1000} does not match actual shape of {16,1000} for output 36\n",
      "2023-07-13 19:23:40.069516063 [W:onnxruntime:, execution_frame.cc:812 VerifyOutputSizes] Expected shape from model of {1,1000} does not match actual shape of {16,1000} for output 36\n",
      "2023-07-13 19:23:40.077244389 [W:onnxruntime:, execution_frame.cc:812 VerifyOutputSizes] Expected shape from model of {1,1000} does not match actual shape of {16,1000} for output 36\n",
      "2023-07-13 19:23:40.084541232 [W:onnxruntime:, execution_frame.cc:812 VerifyOutputSizes] Expected shape from model of {1,1000} does not match actual shape of {16,1000} for output 36\n",
      "2023-07-13 19:23:40.091719659 [W:onnxruntime:, execution_frame.cc:812 VerifyOutputSizes] Expected shape from model of {1,1000} does not match actual shape of {16,1000} for output 36\n",
      "2023-07-13 19:23:40.098916329 [W:onnxruntime:, execution_frame.cc:812 VerifyOutputSizes] Expected shape from model of {1,1000} does not match actual shape of {16,1000} for output 36\n",
      "2023-07-13 19:23:40.106120032 [W:onnxruntime:, execution_frame.cc:812 VerifyOutputSizes] Expected shape from model of {1,1000} does not match actual shape of {16,1000} for output 36\n",
      "2023-07-13 19:23:40.117499266 [W:onnxruntime:, execution_frame.cc:812 VerifyOutputSizes] Expected shape from model of {1,1000} does not match actual shape of {5,1000} for output 36\n",
      "100%|██████████| 9/9 [00:00<00:00, 101.32it/s]\n",
      "1it [00:36, 36.54s/it]"
     ]
    },
    {
     "name": "stdout",
     "output_type": "stream",
     "text": [
      "133\n",
      "VALACC: 0.7421875 TRAINACC: 0.8796992481203008\n"
     ]
    },
    {
     "name": "stderr",
     "output_type": "stream",
     "text": [
      "\n",
      "0it [00:00, ?it/s]\u001b[A"
     ]
    },
    {
     "name": "stdout",
     "output_type": "stream",
     "text": [
      "(32, 3, 224, 224)\n",
      "(32, 256, 56, 56)\n",
      "(32, 512, 28, 28)\n",
      "(32, 1024, 14, 14)\n",
      "(32, 1024)\n"
     ]
    },
    {
     "name": "stderr",
     "output_type": "stream",
     "text": [
      "\n",
      "1it [00:01,  1.01s/it]\u001b[A"
     ]
    },
    {
     "name": "stdout",
     "output_type": "stream",
     "text": [
      "onnx::Conv_776 onnx::Conv_776 0.9999999403953552\n"
     ]
    },
    {
     "name": "stderr",
     "output_type": "stream",
     "text": [
      "\n",
      "2it [00:01,  1.78it/s]\u001b[A"
     ]
    },
    {
     "name": "stdout",
     "output_type": "stream",
     "text": [
      "onnx::Conv_866 onnx::Conv_866 1.0\n"
     ]
    },
    {
     "name": "stderr",
     "output_type": "stream",
     "text": [
      "\n",
      "3it [00:01,  2.26it/s]\u001b[A"
     ]
    },
    {
     "name": "stdout",
     "output_type": "stream",
     "text": [
      "onnx::Conv_1040 onnx::Conv_1040 1.0000001192092896\n"
     ]
    },
    {
     "name": "stderr",
     "output_type": "stream",
     "text": [
      "\n",
      "4it [00:01,  2.24it/s]\u001b[A"
     ]
    },
    {
     "name": "stdout",
     "output_type": "stream",
     "text": [
      "onnx::Gemm_1160 onnx::Gemm_1160 0.9975597858428955\n"
     ]
    },
    {
     "name": "stderr",
     "output_type": "stream",
     "text": [
      "\n",
      "\n",
      "  0%|          | 0/9 [00:00<?, ?it/s]\u001b[A2023-07-13 19:23:47.266628113 [W:onnxruntime:, execution_frame.cc:812 VerifyOutputSizes] Expected shape from model of {1,1000} does not match actual shape of {16,1000} for output 1161\n",
      "\n",
      " 11%|█         | 1/9 [00:00<00:02,  3.06it/s]\u001b[A2023-07-13 19:23:47.282150017 [W:onnxruntime:, execution_frame.cc:812 VerifyOutputSizes] Expected shape from model of {1,1000} does not match actual shape of {16,1000} for output 1161\n",
      "2023-07-13 19:23:47.301978543 [W:onnxruntime:, execution_frame.cc:812 VerifyOutputSizes] Expected shape from model of {1,1000} does not match actual shape of {16,1000} for output 1161\n",
      "2023-07-13 19:23:47.322016029 [W:onnxruntime:, execution_frame.cc:812 VerifyOutputSizes] Expected shape from model of {1,1000} does not match actual shape of {16,1000} for output 1161\n",
      "2023-07-13 19:23:47.342236225 [W:onnxruntime:, execution_frame.cc:812 VerifyOutputSizes] Expected shape from model of {1,1000} does not match actual shape of {16,1000} for output 1161\n",
      "2023-07-13 19:23:47.362272646 [W:onnxruntime:, execution_frame.cc:812 VerifyOutputSizes] Expected shape from model of {1,1000} does not match actual shape of {16,1000} for output 1161\n",
      "\n",
      " 67%|██████▋   | 6/9 [00:00<00:00, 17.17it/s]\u001b[A2023-07-13 19:23:47.384275513 [W:onnxruntime:, execution_frame.cc:812 VerifyOutputSizes] Expected shape from model of {1,1000} does not match actual shape of {16,1000} for output 1161\n",
      "2023-07-13 19:23:47.404327782 [W:onnxruntime:, execution_frame.cc:812 VerifyOutputSizes] Expected shape from model of {1,1000} does not match actual shape of {16,1000} for output 1161\n",
      "2023-07-13 19:23:47.680064617 [W:onnxruntime:, execution_frame.cc:812 VerifyOutputSizes] Expected shape from model of {1,1000} does not match actual shape of {5,1000} for output 1161\n",
      "\n",
      "100%|██████████| 9/9 [00:00<00:00, 12.10it/s]\u001b[A\n"
     ]
    },
    {
     "name": "stdout",
     "output_type": "stream",
     "text": [
      "(133, 1000) (133,)\n"
     ]
    },
    {
     "name": "stderr",
     "output_type": "stream",
     "text": [
      "\n",
      "  0%|          | 0/8 [00:00<?, ?it/s]\u001b[A2023-07-13 19:23:52.950342062 [W:onnxruntime:, execution_frame.cc:812 VerifyOutputSizes] Expected shape from model of {1,1000} does not match actual shape of {16,1000} for output 1161\n",
      "2023-07-13 19:23:52.971446558 [W:onnxruntime:, execution_frame.cc:812 VerifyOutputSizes] Expected shape from model of {1,1000} does not match actual shape of {16,1000} for output 1161\n",
      "2023-07-13 19:23:52.993943132 [W:onnxruntime:, execution_frame.cc:812 VerifyOutputSizes] Expected shape from model of {1,1000} does not match actual shape of {16,1000} for output 1161\n",
      "2023-07-13 19:23:53.016419628 [W:onnxruntime:, execution_frame.cc:812 VerifyOutputSizes] Expected shape from model of {1,1000} does not match actual shape of {16,1000} for output 1161\n",
      "2023-07-13 19:23:53.038799612 [W:onnxruntime:, execution_frame.cc:812 VerifyOutputSizes] Expected shape from model of {1,1000} does not match actual shape of {16,1000} for output 1161\n",
      "\n",
      " 62%|██████▎   | 5/8 [00:00<00:00, 43.04it/s]\u001b[A2023-07-13 19:23:53.062936285 [W:onnxruntime:, execution_frame.cc:812 VerifyOutputSizes] Expected shape from model of {1,1000} does not match actual shape of {16,1000} for output 1161\n",
      "2023-07-13 19:23:53.085422034 [W:onnxruntime:, execution_frame.cc:812 VerifyOutputSizes] Expected shape from model of {1,1000} does not match actual shape of {16,1000} for output 1161\n",
      "2023-07-13 19:23:53.107899782 [W:onnxruntime:, execution_frame.cc:812 VerifyOutputSizes] Expected shape from model of {1,1000} does not match actual shape of {16,1000} for output 1161\n",
      "100%|██████████| 8/8 [00:00<00:00, 43.27it/s]\n"
     ]
    },
    {
     "name": "stdout",
     "output_type": "stream",
     "text": [
      "128\n"
     ]
    },
    {
     "name": "stderr",
     "output_type": "stream",
     "text": [
      "\n",
      "  0%|          | 0/9 [00:00<?, ?it/s]\u001b[A2023-07-13 19:23:58.641640811 [W:onnxruntime:, execution_frame.cc:812 VerifyOutputSizes] Expected shape from model of {1,1000} does not match actual shape of {16,1000} for output 1161\n",
      "\n",
      " 11%|█         | 1/9 [00:00<00:02,  2.98it/s]\u001b[A2023-07-13 19:23:58.662362689 [W:onnxruntime:, execution_frame.cc:812 VerifyOutputSizes] Expected shape from model of {1,1000} does not match actual shape of {16,1000} for output 1161\n",
      "2023-07-13 19:23:58.678998963 [W:onnxruntime:, execution_frame.cc:812 VerifyOutputSizes] Expected shape from model of {1,1000} does not match actual shape of {16,1000} for output 1161\n",
      "2023-07-13 19:23:58.698706355 [W:onnxruntime:, execution_frame.cc:812 VerifyOutputSizes] Expected shape from model of {1,1000} does not match actual shape of {16,1000} for output 1161\n",
      "2023-07-13 19:23:58.718345493 [W:onnxruntime:, execution_frame.cc:812 VerifyOutputSizes] Expected shape from model of {1,1000} does not match actual shape of {16,1000} for output 1161\n",
      "2023-07-13 19:23:58.738006280 [W:onnxruntime:, execution_frame.cc:812 VerifyOutputSizes] Expected shape from model of {1,1000} does not match actual shape of {16,1000} for output 1161\n",
      "\n",
      " 67%|██████▋   | 6/9 [00:00<00:00, 16.86it/s]\u001b[A2023-07-13 19:23:58.759729259 [W:onnxruntime:, execution_frame.cc:812 VerifyOutputSizes] Expected shape from model of {1,1000} does not match actual shape of {16,1000} for output 1161\n",
      "2023-07-13 19:23:58.779346518 [W:onnxruntime:, execution_frame.cc:812 VerifyOutputSizes] Expected shape from model of {1,1000} does not match actual shape of {16,1000} for output 1161\n",
      "2023-07-13 19:23:59.077196893 [W:onnxruntime:, execution_frame.cc:812 VerifyOutputSizes] Expected shape from model of {1,1000} does not match actual shape of {5,1000} for output 1161\n",
      "\n",
      "100%|██████████| 9/9 [00:00<00:00, 11.61it/s]\u001b[A\n"
     ]
    },
    {
     "name": "stdout",
     "output_type": "stream",
     "text": [
      "(133, 1000) (133,)\n"
     ]
    },
    {
     "name": "stderr",
     "output_type": "stream",
     "text": [
      "\n",
      "  0%|          | 0/9 [00:00<?, ?it/s]\u001b[A2023-07-13 19:24:03.994591025 [W:onnxruntime:, execution_frame.cc:812 VerifyOutputSizes] Expected shape from model of {1,1000} does not match actual shape of {16,1000} for output 1161\n",
      "2023-07-13 19:24:04.018051201 [W:onnxruntime:, execution_frame.cc:812 VerifyOutputSizes] Expected shape from model of {1,1000} does not match actual shape of {16,1000} for output 1161\n",
      "2023-07-13 19:24:04.041283040 [W:onnxruntime:, execution_frame.cc:812 VerifyOutputSizes] Expected shape from model of {1,1000} does not match actual shape of {16,1000} for output 1161\n",
      "2023-07-13 19:24:04.063945953 [W:onnxruntime:, execution_frame.cc:812 VerifyOutputSizes] Expected shape from model of {1,1000} does not match actual shape of {16,1000} for output 1161\n",
      "\n",
      " 44%|████▍     | 4/9 [00:00<00:00, 38.03it/s]\u001b[A2023-07-13 19:24:04.090666944 [W:onnxruntime:, execution_frame.cc:812 VerifyOutputSizes] Expected shape from model of {1,1000} does not match actual shape of {16,1000} for output 1161\n",
      "2023-07-13 19:24:04.113922846 [W:onnxruntime:, execution_frame.cc:812 VerifyOutputSizes] Expected shape from model of {1,1000} does not match actual shape of {16,1000} for output 1161\n",
      "2023-07-13 19:24:04.136045044 [W:onnxruntime:, execution_frame.cc:812 VerifyOutputSizes] Expected shape from model of {1,1000} does not match actual shape of {16,1000} for output 1161\n",
      "2023-07-13 19:24:04.158722919 [W:onnxruntime:, execution_frame.cc:812 VerifyOutputSizes] Expected shape from model of {1,1000} does not match actual shape of {16,1000} for output 1161\n",
      "2023-07-13 19:24:04.179851074 [W:onnxruntime:, execution_frame.cc:812 VerifyOutputSizes] Expected shape from model of {1,1000} does not match actual shape of {5,1000} for output 1161\n",
      "\n",
      "100%|██████████| 9/9 [00:00<00:00, 41.46it/s]\u001b[A\n",
      "2it [01:00, 29.19s/it]"
     ]
    },
    {
     "name": "stdout",
     "output_type": "stream",
     "text": [
      "133\n",
      "VALACC: 0.765625 TRAINACC: 0.8345864661654135\n"
     ]
    },
    {
     "name": "stderr",
     "output_type": "stream",
     "text": [
      "\n",
      "0it [00:00, ?it/s]\u001b[A"
     ]
    },
    {
     "name": "stdout",
     "output_type": "stream",
     "text": [
      "(32, 3, 224, 224)\n",
      "(32, 16, 56, 56)\n",
      "(32, 16, 56, 56)\n",
      "(32, 72, 28, 28)\n",
      "(32, 24, 28, 28)\n",
      "(32, 96, 14, 14)\n",
      "(32, 40, 14, 14)\n",
      "(32, 120, 14, 14)\n",
      "(32, 48, 14, 14)\n",
      "(32, 288, 7, 7)\n"
     ]
    },
    {
     "name": "stderr",
     "output_type": "stream",
     "text": [
      "\n",
      "1it [00:00,  1.51it/s]\u001b[A"
     ]
    },
    {
     "name": "stdout",
     "output_type": "stream",
     "text": [
      "(32, 96, 7, 7)\n",
      "(32, 576)\n",
      "(32, 1024)\n",
      "input.32 input.32 1.0\n"
     ]
    },
    {
     "name": "stderr",
     "output_type": "stream",
     "text": [
      "\n",
      "3it [00:00,  4.16it/s]\u001b[A"
     ]
    },
    {
     "name": "stdout",
     "output_type": "stream",
     "text": [
      "input.40 input.40 1.0\n",
      "onnx::Conv_265 onnx::Conv_265 1.0\n",
      "onnx::Conv_276 onnx::Conv_276 1.0000001192092896\n"
     ]
    },
    {
     "name": "stderr",
     "output_type": "stream",
     "text": [
      "\n",
      "5it [00:01,  6.17it/s]\u001b[A\n",
      "7it [00:01,  7.79it/s]\u001b[A"
     ]
    },
    {
     "name": "stdout",
     "output_type": "stream",
     "text": [
      "input.120 input.120 0.9999999403953552\n",
      "onnx::Conv_326 onnx::Conv_326 0.9999999403953552\n",
      "input.244 input.244 1.0\n"
     ]
    },
    {
     "name": "stderr",
     "output_type": "stream",
     "text": [
      "\n",
      "9it [00:01,  8.30it/s]\u001b[A"
     ]
    },
    {
     "name": "stdout",
     "output_type": "stream",
     "text": [
      "onnx::Conv_359 onnx::Conv_359 0.9999998807907104\n",
      "input.328 input.328 0.9999999403953552\n"
     ]
    },
    {
     "name": "stderr",
     "output_type": "stream",
     "text": [
      "\n",
      "11it [00:01,  8.40it/s]\u001b[A"
     ]
    },
    {
     "name": "stdout",
     "output_type": "stream",
     "text": [
      "onnx::Conv_409 onnx::Conv_409 1.0000001192092896\n",
      "onnx::Gemm_415 onnx::Gemm_415 0.9999998807907104\n"
     ]
    },
    {
     "name": "stderr",
     "output_type": "stream",
     "text": [
      "\n",
      "12it [00:01,  6.56it/s]\u001b[A\n"
     ]
    },
    {
     "name": "stdout",
     "output_type": "stream",
     "text": [
      "onnx::Gemm_418 onnx::Gemm_418 0.9994912147521973\n"
     ]
    },
    {
     "name": "stderr",
     "output_type": "stream",
     "text": [
      "\n",
      "  0%|          | 0/9 [00:00<?, ?it/s]\u001b[A2023-07-13 19:24:12.361087348 [W:onnxruntime:, execution_frame.cc:812 VerifyOutputSizes] Expected shape from model of {1,1000} does not match actual shape of {16,1000} for output 419\n",
      "\n",
      " 11%|█         | 1/9 [00:00<00:02,  3.85it/s]\u001b[A2023-07-13 19:24:12.369190128 [W:onnxruntime:, execution_frame.cc:812 VerifyOutputSizes] Expected shape from model of {1,1000} does not match actual shape of {16,1000} for output 419\n",
      "2023-07-13 19:24:12.374757275 [W:onnxruntime:, execution_frame.cc:812 VerifyOutputSizes] Expected shape from model of {1,1000} does not match actual shape of {16,1000} for output 419\n",
      "2023-07-13 19:24:12.380019208 [W:onnxruntime:, execution_frame.cc:812 VerifyOutputSizes] Expected shape from model of {1,1000} does not match actual shape of {16,1000} for output 419\n",
      "2023-07-13 19:24:12.385353196 [W:onnxruntime:, execution_frame.cc:812 VerifyOutputSizes] Expected shape from model of {1,1000} does not match actual shape of {16,1000} for output 419\n",
      "2023-07-13 19:24:12.390549603 [W:onnxruntime:, execution_frame.cc:812 VerifyOutputSizes] Expected shape from model of {1,1000} does not match actual shape of {16,1000} for output 419\n",
      "2023-07-13 19:24:12.396484826 [W:onnxruntime:, execution_frame.cc:812 VerifyOutputSizes] Expected shape from model of {1,1000} does not match actual shape of {16,1000} for output 419\n",
      "2023-07-13 19:24:12.401711276 [W:onnxruntime:, execution_frame.cc:812 VerifyOutputSizes] Expected shape from model of {1,1000} does not match actual shape of {16,1000} for output 419\n",
      "2023-07-13 19:24:12.668931179 [W:onnxruntime:, execution_frame.cc:812 VerifyOutputSizes] Expected shape from model of {1,1000} does not match actual shape of {5,1000} for output 419\n",
      "\n",
      "100%|██████████| 9/9 [00:00<00:00, 15.74it/s]\u001b[A\n"
     ]
    },
    {
     "name": "stdout",
     "output_type": "stream",
     "text": [
      "(133, 1000) (133,)\n"
     ]
    },
    {
     "name": "stderr",
     "output_type": "stream",
     "text": [
      "\n",
      "  0%|          | 0/8 [00:00<?, ?it/s]\u001b[A2023-07-13 19:24:17.185503944 [W:onnxruntime:, execution_frame.cc:812 VerifyOutputSizes] Expected shape from model of {1,1000} does not match actual shape of {16,1000} for output 419\n",
      "2023-07-13 19:24:17.194406950 [W:onnxruntime:, execution_frame.cc:812 VerifyOutputSizes] Expected shape from model of {1,1000} does not match actual shape of {16,1000} for output 419\n",
      "2023-07-13 19:24:17.201841569 [W:onnxruntime:, execution_frame.cc:812 VerifyOutputSizes] Expected shape from model of {1,1000} does not match actual shape of {16,1000} for output 419\n",
      "2023-07-13 19:24:17.209401918 [W:onnxruntime:, execution_frame.cc:812 VerifyOutputSizes] Expected shape from model of {1,1000} does not match actual shape of {16,1000} for output 419\n",
      "2023-07-13 19:24:17.216793819 [W:onnxruntime:, execution_frame.cc:812 VerifyOutputSizes] Expected shape from model of {1,1000} does not match actual shape of {16,1000} for output 419\n",
      "2023-07-13 19:24:17.224094297 [W:onnxruntime:, execution_frame.cc:812 VerifyOutputSizes] Expected shape from model of {1,1000} does not match actual shape of {16,1000} for output 419\n",
      "2023-07-13 19:24:17.231349547 [W:onnxruntime:, execution_frame.cc:812 VerifyOutputSizes] Expected shape from model of {1,1000} does not match actual shape of {16,1000} for output 419\n",
      "2023-07-13 19:24:17.238621846 [W:onnxruntime:, execution_frame.cc:812 VerifyOutputSizes] Expected shape from model of {1,1000} does not match actual shape of {16,1000} for output 419\n",
      "100%|██████████| 8/8 [00:00<00:00, 126.50it/s]\n"
     ]
    },
    {
     "name": "stdout",
     "output_type": "stream",
     "text": [
      "128\n"
     ]
    },
    {
     "name": "stderr",
     "output_type": "stream",
     "text": [
      "\n",
      "  0%|          | 0/9 [00:00<?, ?it/s]\u001b[A2023-07-13 19:24:22.059187544 [W:onnxruntime:, execution_frame.cc:812 VerifyOutputSizes] Expected shape from model of {1,1000} does not match actual shape of {16,1000} for output 419\n",
      "\n",
      " 11%|█         | 1/9 [00:00<00:02,  3.79it/s]\u001b[A2023-07-13 19:24:22.067241403 [W:onnxruntime:, execution_frame.cc:812 VerifyOutputSizes] Expected shape from model of {1,1000} does not match actual shape of {16,1000} for output 419\n",
      "2023-07-13 19:24:22.072853018 [W:onnxruntime:, execution_frame.cc:812 VerifyOutputSizes] Expected shape from model of {1,1000} does not match actual shape of {16,1000} for output 419\n",
      "2023-07-13 19:24:22.078569877 [W:onnxruntime:, execution_frame.cc:812 VerifyOutputSizes] Expected shape from model of {1,1000} does not match actual shape of {16,1000} for output 419\n",
      "2023-07-13 19:24:22.084085160 [W:onnxruntime:, execution_frame.cc:812 VerifyOutputSizes] Expected shape from model of {1,1000} does not match actual shape of {16,1000} for output 419\n",
      "2023-07-13 19:24:22.089395705 [W:onnxruntime:, execution_frame.cc:812 VerifyOutputSizes] Expected shape from model of {1,1000} does not match actual shape of {16,1000} for output 419\n",
      "2023-07-13 19:24:22.094663736 [W:onnxruntime:, execution_frame.cc:812 VerifyOutputSizes] Expected shape from model of {1,1000} does not match actual shape of {16,1000} for output 419\n",
      "2023-07-13 19:24:22.099835695 [W:onnxruntime:, execution_frame.cc:812 VerifyOutputSizes] Expected shape from model of {1,1000} does not match actual shape of {16,1000} for output 419\n",
      "2023-07-13 19:24:22.336409133 [W:onnxruntime:, execution_frame.cc:812 VerifyOutputSizes] Expected shape from model of {1,1000} does not match actual shape of {5,1000} for output 419\n",
      "\n",
      "100%|██████████| 9/9 [00:00<00:00, 16.58it/s]\u001b[A\n"
     ]
    },
    {
     "name": "stdout",
     "output_type": "stream",
     "text": [
      "(133, 1000) (133,)\n"
     ]
    },
    {
     "name": "stderr",
     "output_type": "stream",
     "text": [
      "\n",
      "  0%|          | 0/9 [00:00<?, ?it/s]\u001b[A2023-07-13 19:24:26.480891728 [W:onnxruntime:, execution_frame.cc:812 VerifyOutputSizes] Expected shape from model of {1,1000} does not match actual shape of {16,1000} for output 419\n",
      "2023-07-13 19:24:26.489417164 [W:onnxruntime:, execution_frame.cc:812 VerifyOutputSizes] Expected shape from model of {1,1000} does not match actual shape of {16,1000} for output 419\n",
      "2023-07-13 19:24:26.496960763 [W:onnxruntime:, execution_frame.cc:812 VerifyOutputSizes] Expected shape from model of {1,1000} does not match actual shape of {16,1000} for output 419\n",
      "2023-07-13 19:24:26.507182765 [W:onnxruntime:, execution_frame.cc:812 VerifyOutputSizes] Expected shape from model of {1,1000} does not match actual shape of {16,1000} for output 419\n",
      "2023-07-13 19:24:26.514817480 [W:onnxruntime:, execution_frame.cc:812 VerifyOutputSizes] Expected shape from model of {1,1000} does not match actual shape of {16,1000} for output 419\n",
      "2023-07-13 19:24:26.522111302 [W:onnxruntime:, execution_frame.cc:812 VerifyOutputSizes] Expected shape from model of {1,1000} does not match actual shape of {16,1000} for output 419\n",
      "2023-07-13 19:24:26.529390122 [W:onnxruntime:, execution_frame.cc:812 VerifyOutputSizes] Expected shape from model of {1,1000} does not match actual shape of {16,1000} for output 419\n",
      "2023-07-13 19:24:26.536845515 [W:onnxruntime:, execution_frame.cc:812 VerifyOutputSizes] Expected shape from model of {1,1000} does not match actual shape of {16,1000} for output 419\n",
      "2023-07-13 19:24:26.542234909 [W:onnxruntime:, execution_frame.cc:812 VerifyOutputSizes] Expected shape from model of {1,1000} does not match actual shape of {5,1000} for output 419\n",
      "100%|██████████| 9/9 [00:00<00:00, 118.68it/s]\n",
      "3it [01:22, 26.06s/it]"
     ]
    },
    {
     "name": "stdout",
     "output_type": "stream",
     "text": [
      "133\n",
      "VALACC: 0.7109375 TRAINACC: 0.8571428571428571\n"
     ]
    },
    {
     "name": "stderr",
     "output_type": "stream",
     "text": [
      "\n",
      "0it [00:00, ?it/s]\u001b[A"
     ]
    },
    {
     "name": "stdout",
     "output_type": "stream",
     "text": [
      "(32, 3, 224, 224)\n",
      "(32, 64, 56, 56)\n",
      "(32, 256, 56, 56)\n",
      "(32, 512, 28, 28)\n",
      "(32, 1024, 14, 14)\n",
      "(32, 2048)\n"
     ]
    },
    {
     "name": "stderr",
     "output_type": "stream",
     "text": [
      "\n",
      "1it [00:01,  1.21s/it]\u001b[A\n",
      "2it [00:01,  1.64it/s]\u001b[A"
     ]
    },
    {
     "name": "stdout",
     "output_type": "stream",
     "text": [
      "input.8 input.8 1.0\n",
      "input.84 input.84 1.0\n"
     ]
    },
    {
     "name": "stderr",
     "output_type": "stream",
     "text": [
      "\n",
      "3it [00:01,  1.94it/s]\u001b[A"
     ]
    },
    {
     "name": "stdout",
     "output_type": "stream",
     "text": [
      "input.184 input.184 1.0000001192092896\n"
     ]
    },
    {
     "name": "stderr",
     "output_type": "stream",
     "text": [
      "\n",
      "4it [00:02,  1.39it/s]\u001b[A"
     ]
    },
    {
     "name": "stdout",
     "output_type": "stream",
     "text": [
      "input.332 input.332 1.0\n"
     ]
    },
    {
     "name": "stderr",
     "output_type": "stream",
     "text": [
      "\n",
      "5it [00:03,  1.44it/s]\u001b[A"
     ]
    },
    {
     "name": "stdout",
     "output_type": "stream",
     "text": [
      "onnx::Gemm_494 onnx::Gemm_494 0.9723002910614014\n"
     ]
    },
    {
     "name": "stderr",
     "output_type": "stream",
     "text": [
      "\n",
      "\n",
      "  0%|          | 0/9 [00:00<?, ?it/s]\u001b[A2023-07-13 19:24:35.463020794 [W:onnxruntime:, execution_frame.cc:812 VerifyOutputSizes] Expected shape from model of {1,1000} does not match actual shape of {16,1000} for output 495\n",
      "\n",
      " 11%|█         | 1/9 [00:00<00:01,  5.74it/s]\u001b[A2023-07-13 19:24:35.479826483 [W:onnxruntime:, execution_frame.cc:812 VerifyOutputSizes] Expected shape from model of {1,1000} does not match actual shape of {16,1000} for output 495\n",
      "2023-07-13 19:24:35.490867478 [W:onnxruntime:, execution_frame.cc:812 VerifyOutputSizes] Expected shape from model of {1,1000} does not match actual shape of {16,1000} for output 495\n",
      "2023-07-13 19:24:35.503020170 [W:onnxruntime:, execution_frame.cc:812 VerifyOutputSizes] Expected shape from model of {1,1000} does not match actual shape of {16,1000} for output 495\n",
      "2023-07-13 19:24:35.516179564 [W:onnxruntime:, execution_frame.cc:812 VerifyOutputSizes] Expected shape from model of {1,1000} does not match actual shape of {16,1000} for output 495\n",
      "2023-07-13 19:24:35.529306511 [W:onnxruntime:, execution_frame.cc:812 VerifyOutputSizes] Expected shape from model of {1,1000} does not match actual shape of {16,1000} for output 495\n",
      "2023-07-13 19:24:35.542339818 [W:onnxruntime:, execution_frame.cc:812 VerifyOutputSizes] Expected shape from model of {1,1000} does not match actual shape of {16,1000} for output 495\n",
      "2023-07-13 19:24:35.555461965 [W:onnxruntime:, execution_frame.cc:812 VerifyOutputSizes] Expected shape from model of {1,1000} does not match actual shape of {16,1000} for output 495\n",
      "2023-07-13 19:24:35.670199711 [W:onnxruntime:, execution_frame.cc:812 VerifyOutputSizes] Expected shape from model of {1,1000} does not match actual shape of {5,1000} for output 495\n",
      "\n",
      "100%|██████████| 9/9 [00:00<00:00, 23.51it/s]\u001b[A\n"
     ]
    },
    {
     "name": "stdout",
     "output_type": "stream",
     "text": [
      "(133, 1000) (133,)\n"
     ]
    },
    {
     "name": "stderr",
     "output_type": "stream",
     "text": [
      "\n",
      "  0%|          | 0/8 [00:00<?, ?it/s]\u001b[A2023-07-13 19:24:39.677025011 [W:onnxruntime:, execution_frame.cc:812 VerifyOutputSizes] Expected shape from model of {1,1000} does not match actual shape of {16,1000} for output 495\n",
      "2023-07-13 19:24:39.693217757 [W:onnxruntime:, execution_frame.cc:812 VerifyOutputSizes] Expected shape from model of {1,1000} does not match actual shape of {16,1000} for output 495\n",
      "2023-07-13 19:24:39.708308060 [W:onnxruntime:, execution_frame.cc:812 VerifyOutputSizes] Expected shape from model of {1,1000} does not match actual shape of {16,1000} for output 495\n",
      "2023-07-13 19:24:39.723694973 [W:onnxruntime:, execution_frame.cc:812 VerifyOutputSizes] Expected shape from model of {1,1000} does not match actual shape of {16,1000} for output 495\n",
      "2023-07-13 19:24:39.739003798 [W:onnxruntime:, execution_frame.cc:812 VerifyOutputSizes] Expected shape from model of {1,1000} does not match actual shape of {16,1000} for output 495\n",
      "2023-07-13 19:24:39.754315468 [W:onnxruntime:, execution_frame.cc:812 VerifyOutputSizes] Expected shape from model of {1,1000} does not match actual shape of {16,1000} for output 495\n",
      "\n",
      " 75%|███████▌  | 6/8 [00:00<00:00, 58.47it/s]\u001b[A2023-07-13 19:24:39.771425801 [W:onnxruntime:, execution_frame.cc:812 VerifyOutputSizes] Expected shape from model of {1,1000} does not match actual shape of {16,1000} for output 495\n",
      "2023-07-13 19:24:39.786759297 [W:onnxruntime:, execution_frame.cc:812 VerifyOutputSizes] Expected shape from model of {1,1000} does not match actual shape of {16,1000} for output 495\n",
      "100%|██████████| 8/8 [00:00<00:00, 59.14it/s]\n"
     ]
    },
    {
     "name": "stdout",
     "output_type": "stream",
     "text": [
      "128\n"
     ]
    },
    {
     "name": "stderr",
     "output_type": "stream",
     "text": [
      "\n",
      "  0%|          | 0/9 [00:00<?, ?it/s]\u001b[A2023-07-13 19:24:44.418024708 [W:onnxruntime:, execution_frame.cc:812 VerifyOutputSizes] Expected shape from model of {1,1000} does not match actual shape of {16,1000} for output 495\n",
      "\n",
      " 11%|█         | 1/9 [00:00<00:01,  6.25it/s]\u001b[A2023-07-13 19:24:44.430598026 [W:onnxruntime:, execution_frame.cc:812 VerifyOutputSizes] Expected shape from model of {1,1000} does not match actual shape of {16,1000} for output 495\n",
      "2023-07-13 19:24:44.442414422 [W:onnxruntime:, execution_frame.cc:812 VerifyOutputSizes] Expected shape from model of {1,1000} does not match actual shape of {16,1000} for output 495\n",
      "2023-07-13 19:24:44.455029391 [W:onnxruntime:, execution_frame.cc:812 VerifyOutputSizes] Expected shape from model of {1,1000} does not match actual shape of {16,1000} for output 495\n",
      "2023-07-13 19:24:44.468334149 [W:onnxruntime:, execution_frame.cc:812 VerifyOutputSizes] Expected shape from model of {1,1000} does not match actual shape of {16,1000} for output 495\n",
      "2023-07-13 19:24:44.481514660 [W:onnxruntime:, execution_frame.cc:812 VerifyOutputSizes] Expected shape from model of {1,1000} does not match actual shape of {16,1000} for output 495\n",
      "2023-07-13 19:24:44.494596099 [W:onnxruntime:, execution_frame.cc:812 VerifyOutputSizes] Expected shape from model of {1,1000} does not match actual shape of {16,1000} for output 495\n",
      "2023-07-13 19:24:44.507593694 [W:onnxruntime:, execution_frame.cc:812 VerifyOutputSizes] Expected shape from model of {1,1000} does not match actual shape of {16,1000} for output 495\n",
      "2023-07-13 19:24:44.622002588 [W:onnxruntime:, execution_frame.cc:812 VerifyOutputSizes] Expected shape from model of {1,1000} does not match actual shape of {5,1000} for output 495\n",
      "\n",
      "100%|██████████| 9/9 [00:00<00:00, 24.63it/s]\u001b[A\n"
     ]
    },
    {
     "name": "stdout",
     "output_type": "stream",
     "text": [
      "(133, 1000) (133,)\n"
     ]
    },
    {
     "name": "stderr",
     "output_type": "stream",
     "text": [
      "\n",
      "  0%|          | 0/9 [00:00<?, ?it/s]\u001b[A2023-07-13 19:24:48.742055700 [W:onnxruntime:, execution_frame.cc:812 VerifyOutputSizes] Expected shape from model of {1,1000} does not match actual shape of {16,1000} for output 495\n",
      "2023-07-13 19:24:48.757752221 [W:onnxruntime:, execution_frame.cc:812 VerifyOutputSizes] Expected shape from model of {1,1000} does not match actual shape of {16,1000} for output 495\n",
      "2023-07-13 19:24:48.773099561 [W:onnxruntime:, execution_frame.cc:812 VerifyOutputSizes] Expected shape from model of {1,1000} does not match actual shape of {16,1000} for output 495\n",
      "2023-07-13 19:24:48.788438858 [W:onnxruntime:, execution_frame.cc:812 VerifyOutputSizes] Expected shape from model of {1,1000} does not match actual shape of {16,1000} for output 495\n",
      "2023-07-13 19:24:48.803754209 [W:onnxruntime:, execution_frame.cc:812 VerifyOutputSizes] Expected shape from model of {1,1000} does not match actual shape of {16,1000} for output 495\n",
      "2023-07-13 19:24:48.819360756 [W:onnxruntime:, execution_frame.cc:812 VerifyOutputSizes] Expected shape from model of {1,1000} does not match actual shape of {16,1000} for output 495\n",
      "\n",
      " 67%|██████▋   | 6/9 [00:00<00:00, 57.95it/s]\u001b[A2023-07-13 19:24:48.836309765 [W:onnxruntime:, execution_frame.cc:812 VerifyOutputSizes] Expected shape from model of {1,1000} does not match actual shape of {16,1000} for output 495\n",
      "2023-07-13 19:24:48.851574063 [W:onnxruntime:, execution_frame.cc:812 VerifyOutputSizes] Expected shape from model of {1,1000} does not match actual shape of {16,1000} for output 495\n",
      "2023-07-13 19:24:48.864382768 [W:onnxruntime:, execution_frame.cc:812 VerifyOutputSizes] Expected shape from model of {1,1000} does not match actual shape of {5,1000} for output 495\n",
      "100%|██████████| 9/9 [00:00<00:00, 62.72it/s]\n",
      "4it [01:45, 24.59s/it]"
     ]
    },
    {
     "name": "stdout",
     "output_type": "stream",
     "text": [
      "133\n",
      "VALACC: 0.765625 TRAINACC: 0.8270676691729323\n"
     ]
    },
    {
     "name": "stderr",
     "output_type": "stream",
     "text": [
      "\n",
      "0it [00:00, ?it/s]\u001b[A"
     ]
    },
    {
     "name": "stdout",
     "output_type": "stream",
     "text": [
      "(32, 3, 224, 224)\n",
      "(32, 64, 224, 224)\n",
      "(32, 64, 112, 112)\n",
      "(32, 128, 112, 112)\n",
      "(32, 128, 56, 56)\n",
      "(32, 256, 56, 56)\n",
      "(32, 256, 56, 56)\n",
      "(32, 256, 28, 28)\n",
      "(32, 512, 28, 28)\n",
      "(32, 512, 28, 28)\n",
      "(32, 512, 14, 14)\n",
      "(32, 512, 14, 14)\n",
      "(32, 512, 14, 14)\n",
      "(32, 25088)\n",
      "(32, 4096)\n",
      "(32, 4096)\n"
     ]
    },
    {
     "name": "stderr",
     "output_type": "stream",
     "text": [
      "\n",
      "1it [00:06,  6.18s/it]\u001b[A\n",
      "2it [00:06,  2.63s/it]\u001b[A"
     ]
    },
    {
     "name": "stdout",
     "output_type": "stream",
     "text": [
      "onnx::Conv_34 onnx::Conv_34 1.0\n",
      "input.8 input.8 0.9999999403953552\n"
     ]
    },
    {
     "name": "stderr",
     "output_type": "stream",
     "text": [
      "\n",
      "3it [00:06,  1.53s/it]\u001b[A\n",
      "4it [00:06,  1.02it/s]\u001b[A"
     ]
    },
    {
     "name": "stdout",
     "output_type": "stream",
     "text": [
      "onnx::Conv_39 onnx::Conv_39 1.0\n",
      "input.20 input.20 1.0\n"
     ]
    },
    {
     "name": "stderr",
     "output_type": "stream",
     "text": [
      "\n",
      "5it [00:06,  1.45it/s]\u001b[A\n"
     ]
    },
    {
     "name": "stdout",
     "output_type": "stream",
     "text": [
      "onnx::Conv_44 onnx::Conv_44 0.9999999403953552\n",
      "onnx::Conv_46 onnx::Conv_46 1.0000001192092896\n"
     ]
    },
    {
     "name": "stderr",
     "output_type": "stream",
     "text": [
      "6it [00:07,  1.91it/s]\u001b[A\n",
      "7it [00:07,  2.36it/s]\u001b[A"
     ]
    },
    {
     "name": "stdout",
     "output_type": "stream",
     "text": [
      "input.36 input.36 1.0\n"
     ]
    },
    {
     "name": "stderr",
     "output_type": "stream",
     "text": [
      "\n",
      "8it [00:07,  2.57it/s]\u001b[A"
     ]
    },
    {
     "name": "stdout",
     "output_type": "stream",
     "text": [
      "onnx::Conv_51 onnx::Conv_51 1.0\n"
     ]
    },
    {
     "name": "stderr",
     "output_type": "stream",
     "text": [
      "\n",
      "9it [00:07,  2.62it/s]\u001b[A"
     ]
    },
    {
     "name": "stdout",
     "output_type": "stream",
     "text": [
      "onnx::Conv_53 onnx::Conv_53 1.0\n"
     ]
    },
    {
     "name": "stderr",
     "output_type": "stream",
     "text": [
      "\n",
      "10it [00:08,  2.61it/s]\u001b[A"
     ]
    },
    {
     "name": "stdout",
     "output_type": "stream",
     "text": [
      "input.52 input.52 1.0\n"
     ]
    },
    {
     "name": "stderr",
     "output_type": "stream",
     "text": [
      "\n",
      "11it [00:08,  2.53it/s]\u001b[A"
     ]
    },
    {
     "name": "stdout",
     "output_type": "stream",
     "text": [
      "onnx::Conv_58 onnx::Conv_58 1.0\n"
     ]
    },
    {
     "name": "stderr",
     "output_type": "stream",
     "text": [
      "\n",
      "12it [00:09,  2.44it/s]\u001b[A"
     ]
    },
    {
     "name": "stdout",
     "output_type": "stream",
     "text": [
      "onnx::Conv_60 onnx::Conv_60 1.0\n"
     ]
    },
    {
     "name": "stderr",
     "output_type": "stream",
     "text": [
      "\n",
      "13it [00:24,  4.84s/it]\u001b[A"
     ]
    },
    {
     "name": "stdout",
     "output_type": "stream",
     "text": [
      "onnx::Gemm_65 onnx::Gemm_65 0.8145530819892883\n"
     ]
    },
    {
     "name": "stderr",
     "output_type": "stream",
     "text": [
      "\n",
      "14it [00:30,  5.23s/it]\u001b[A"
     ]
    },
    {
     "name": "stdout",
     "output_type": "stream",
     "text": [
      "onnx::Gemm_67 onnx::Gemm_67 0.9708735942840576\n"
     ]
    },
    {
     "name": "stderr",
     "output_type": "stream",
     "text": [
      "\n",
      "15it [00:32,  2.17s/it]\u001b[A"
     ]
    },
    {
     "name": "stdout",
     "output_type": "stream",
     "text": [
      "onnx::Gemm_69 onnx::Gemm_69 0.9535234570503235\n"
     ]
    },
    {
     "name": "stderr",
     "output_type": "stream",
     "text": [
      "\n",
      "\n",
      "  0%|          | 0/9 [00:00<?, ?it/s]\u001b[A2023-07-13 19:25:35.388072982 [W:onnxruntime:, execution_frame.cc:812 VerifyOutputSizes] Expected shape from model of {1,1000} does not match actual shape of {16,1000} for output 70\n",
      "\n",
      " 11%|█         | 1/9 [00:00<00:01,  5.04it/s]\u001b[A2023-07-13 19:25:35.395920000 [W:onnxruntime:, execution_frame.cc:812 VerifyOutputSizes] Expected shape from model of {1,1000} does not match actual shape of {16,1000} for output 70\n",
      "2023-07-13 19:25:35.422326458 [W:onnxruntime:, execution_frame.cc:812 VerifyOutputSizes] Expected shape from model of {1,1000} does not match actual shape of {16,1000} for output 70\n",
      "2023-07-13 19:25:35.450732040 [W:onnxruntime:, execution_frame.cc:812 VerifyOutputSizes] Expected shape from model of {1,1000} does not match actual shape of {16,1000} for output 70\n",
      "2023-07-13 19:25:35.478261127 [W:onnxruntime:, execution_frame.cc:812 VerifyOutputSizes] Expected shape from model of {1,1000} does not match actual shape of {16,1000} for output 70\n",
      "\n",
      " 56%|█████▌    | 5/9 [00:00<00:00, 18.74it/s]\u001b[A2023-07-13 19:25:35.507661302 [W:onnxruntime:, execution_frame.cc:812 VerifyOutputSizes] Expected shape from model of {1,1000} does not match actual shape of {16,1000} for output 70\n",
      "2023-07-13 19:25:35.536564383 [W:onnxruntime:, execution_frame.cc:812 VerifyOutputSizes] Expected shape from model of {1,1000} does not match actual shape of {16,1000} for output 70\n",
      "2023-07-13 19:25:35.564380192 [W:onnxruntime:, execution_frame.cc:812 VerifyOutputSizes] Expected shape from model of {1,1000} does not match actual shape of {16,1000} for output 70\n",
      "2023-07-13 19:25:35.665701774 [W:onnxruntime:, execution_frame.cc:812 VerifyOutputSizes] Expected shape from model of {1,1000} does not match actual shape of {5,1000} for output 70\n",
      "\n",
      "100%|██████████| 9/9 [00:00<00:00, 18.83it/s]\u001b[A\n"
     ]
    },
    {
     "name": "stdout",
     "output_type": "stream",
     "text": [
      "(133, 1000) (133,)\n"
     ]
    },
    {
     "name": "stderr",
     "output_type": "stream",
     "text": [
      "\n",
      "  0%|          | 0/8 [00:00<?, ?it/s]\u001b[A2023-07-13 19:25:39.884702786 [W:onnxruntime:, execution_frame.cc:812 VerifyOutputSizes] Expected shape from model of {1,1000} does not match actual shape of {16,1000} for output 70\n",
      "2023-07-13 19:25:39.913372163 [W:onnxruntime:, execution_frame.cc:812 VerifyOutputSizes] Expected shape from model of {1,1000} does not match actual shape of {16,1000} for output 70\n",
      "2023-07-13 19:25:39.940943545 [W:onnxruntime:, execution_frame.cc:812 VerifyOutputSizes] Expected shape from model of {1,1000} does not match actual shape of {16,1000} for output 70\n",
      "2023-07-13 19:25:39.970808019 [W:onnxruntime:, execution_frame.cc:812 VerifyOutputSizes] Expected shape from model of {1,1000} does not match actual shape of {16,1000} for output 70\n",
      "\n",
      " 50%|█████     | 4/8 [00:00<00:00, 31.51it/s]\u001b[A2023-07-13 19:25:40.001477346 [W:onnxruntime:, execution_frame.cc:812 VerifyOutputSizes] Expected shape from model of {1,1000} does not match actual shape of {16,1000} for output 70\n",
      "2023-07-13 19:25:40.030959407 [W:onnxruntime:, execution_frame.cc:812 VerifyOutputSizes] Expected shape from model of {1,1000} does not match actual shape of {16,1000} for output 70\n",
      "2023-07-13 19:25:40.059681270 [W:onnxruntime:, execution_frame.cc:812 VerifyOutputSizes] Expected shape from model of {1,1000} does not match actual shape of {16,1000} for output 70\n",
      "2023-07-13 19:25:40.088839794 [W:onnxruntime:, execution_frame.cc:812 VerifyOutputSizes] Expected shape from model of {1,1000} does not match actual shape of {16,1000} for output 70\n",
      "\n",
      "100%|██████████| 8/8 [00:00<00:00, 32.39it/s]\u001b[A\n"
     ]
    },
    {
     "name": "stdout",
     "output_type": "stream",
     "text": [
      "128\n"
     ]
    },
    {
     "name": "stderr",
     "output_type": "stream",
     "text": [
      "\n",
      "  0%|          | 0/9 [00:00<?, ?it/s]\u001b[A2023-07-13 19:25:48.397579984 [W:onnxruntime:, execution_frame.cc:812 VerifyOutputSizes] Expected shape from model of {1,1000} does not match actual shape of {16,1000} for output 70\n",
      "\n",
      " 11%|█         | 1/9 [00:00<00:01,  5.26it/s]\u001b[A2023-07-13 19:25:48.407965333 [W:onnxruntime:, execution_frame.cc:812 VerifyOutputSizes] Expected shape from model of {1,1000} does not match actual shape of {16,1000} for output 70\n",
      "2023-07-13 19:25:48.433249934 [W:onnxruntime:, execution_frame.cc:812 VerifyOutputSizes] Expected shape from model of {1,1000} does not match actual shape of {16,1000} for output 70\n",
      "2023-07-13 19:25:48.459904235 [W:onnxruntime:, execution_frame.cc:812 VerifyOutputSizes] Expected shape from model of {1,1000} does not match actual shape of {16,1000} for output 70\n",
      "2023-07-13 19:25:48.487983595 [W:onnxruntime:, execution_frame.cc:812 VerifyOutputSizes] Expected shape from model of {1,1000} does not match actual shape of {16,1000} for output 70\n",
      "\n",
      " 56%|█████▌    | 5/9 [00:00<00:00, 19.14it/s]\u001b[A2023-07-13 19:25:48.517273475 [W:onnxruntime:, execution_frame.cc:812 VerifyOutputSizes] Expected shape from model of {1,1000} does not match actual shape of {16,1000} for output 70\n",
      "2023-07-13 19:25:48.545134061 [W:onnxruntime:, execution_frame.cc:812 VerifyOutputSizes] Expected shape from model of {1,1000} does not match actual shape of {16,1000} for output 70\n",
      "2023-07-13 19:25:48.572593776 [W:onnxruntime:, execution_frame.cc:812 VerifyOutputSizes] Expected shape from model of {1,1000} does not match actual shape of {16,1000} for output 70\n",
      "2023-07-13 19:25:48.676384901 [W:onnxruntime:, execution_frame.cc:812 VerifyOutputSizes] Expected shape from model of {1,1000} does not match actual shape of {5,1000} for output 70\n",
      "\n",
      "100%|██████████| 9/9 [00:00<00:00, 19.12it/s]\u001b[A\n"
     ]
    },
    {
     "name": "stdout",
     "output_type": "stream",
     "text": [
      "(133, 1000) (133,)\n"
     ]
    },
    {
     "name": "stderr",
     "output_type": "stream",
     "text": [
      "\n",
      "  0%|          | 0/9 [00:00<?, ?it/s]\u001b[A2023-07-13 19:25:53.964816865 [W:onnxruntime:, execution_frame.cc:812 VerifyOutputSizes] Expected shape from model of {1,1000} does not match actual shape of {16,1000} for output 70\n",
      "2023-07-13 19:25:53.994825644 [W:onnxruntime:, execution_frame.cc:812 VerifyOutputSizes] Expected shape from model of {1,1000} does not match actual shape of {16,1000} for output 70\n",
      "2023-07-13 19:25:54.024171082 [W:onnxruntime:, execution_frame.cc:812 VerifyOutputSizes] Expected shape from model of {1,1000} does not match actual shape of {16,1000} for output 70\n",
      "\n",
      " 33%|███▎      | 3/9 [00:00<00:00, 28.63it/s]\u001b[A2023-07-13 19:25:54.055578656 [W:onnxruntime:, execution_frame.cc:812 VerifyOutputSizes] Expected shape from model of {1,1000} does not match actual shape of {16,1000} for output 70\n",
      "2023-07-13 19:25:54.084773992 [W:onnxruntime:, execution_frame.cc:812 VerifyOutputSizes] Expected shape from model of {1,1000} does not match actual shape of {16,1000} for output 70\n",
      "2023-07-13 19:25:54.113742781 [W:onnxruntime:, execution_frame.cc:812 VerifyOutputSizes] Expected shape from model of {1,1000} does not match actual shape of {16,1000} for output 70\n",
      "2023-07-13 19:25:54.143376694 [W:onnxruntime:, execution_frame.cc:812 VerifyOutputSizes] Expected shape from model of {1,1000} does not match actual shape of {16,1000} for output 70\n",
      "\n",
      " 78%|███████▊  | 7/9 [00:00<00:00, 31.57it/s]\u001b[A2023-07-13 19:25:54.174597617 [W:onnxruntime:, execution_frame.cc:812 VerifyOutputSizes] Expected shape from model of {1,1000} does not match actual shape of {16,1000} for output 70\n",
      "2023-07-13 19:25:54.202005455 [W:onnxruntime:, execution_frame.cc:812 VerifyOutputSizes] Expected shape from model of {1,1000} does not match actual shape of {5,1000} for output 70\n",
      "100%|██████████| 9/9 [00:00<00:00, 33.94it/s]\n",
      "5it [02:50, 39.32s/it]"
     ]
    },
    {
     "name": "stdout",
     "output_type": "stream",
     "text": [
      "133\n",
      "VALACC: 0.7890625 TRAINACC: 0.8421052631578947\n"
     ]
    },
    {
     "name": "stderr",
     "output_type": "stream",
     "text": [
      "/home/jupyter-steerapi/.conda/envs/stitchnet/lib/python3.10/site-packages/onnx_tool/node_profilers.py:1127: UserWarning: node Reshape_99 cannot reshape array of size (197,1,2304,) into shape (197,12,64,) \n",
      "  warnings.warn(f'node {self.name} cannot reshape array of size {tuple2str(srcshape)} into shape {tuple2str(shape)} ')\n",
      "/home/jupyter-steerapi/.conda/envs/stitchnet/lib/python3.10/site-packages/onnx_tool/node_profilers.py:1127: UserWarning: node Reshape_101 cannot reshape array of size (197,1,2304,) into shape (197,12,64,) \n",
      "  warnings.warn(f'node {self.name} cannot reshape array of size {tuple2str(srcshape)} into shape {tuple2str(shape)} ')\n",
      "/home/jupyter-steerapi/.conda/envs/stitchnet/lib/python3.10/site-packages/onnx_tool/node_profilers.py:1127: UserWarning: node Reshape_102 cannot reshape array of size (197,1,2304,) into shape (197,12,64,) \n",
      "  warnings.warn(f'node {self.name} cannot reshape array of size {tuple2str(srcshape)} into shape {tuple2str(shape)} ')\n",
      "/home/jupyter-steerapi/.conda/envs/stitchnet/lib/python3.10/site-packages/onnx_tool/node_profilers.py:1127: UserWarning: node Reshape_171 cannot reshape array of size (197,1,2304,) into shape (197,12,64,) \n",
      "  warnings.warn(f'node {self.name} cannot reshape array of size {tuple2str(srcshape)} into shape {tuple2str(shape)} ')\n",
      "/home/jupyter-steerapi/.conda/envs/stitchnet/lib/python3.10/site-packages/onnx_tool/node_profilers.py:1127: UserWarning: node Reshape_173 cannot reshape array of size (197,1,2304,) into shape (197,12,64,) \n",
      "  warnings.warn(f'node {self.name} cannot reshape array of size {tuple2str(srcshape)} into shape {tuple2str(shape)} ')\n",
      "/home/jupyter-steerapi/.conda/envs/stitchnet/lib/python3.10/site-packages/onnx_tool/node_profilers.py:1127: UserWarning: node Reshape_174 cannot reshape array of size (197,1,2304,) into shape (197,12,64,) \n",
      "  warnings.warn(f'node {self.name} cannot reshape array of size {tuple2str(srcshape)} into shape {tuple2str(shape)} ')\n",
      "/home/jupyter-steerapi/.conda/envs/stitchnet/lib/python3.10/site-packages/onnx_tool/node_profilers.py:1127: UserWarning: node Reshape_243 cannot reshape array of size (197,1,2304,) into shape (197,12,64,) \n",
      "  warnings.warn(f'node {self.name} cannot reshape array of size {tuple2str(srcshape)} into shape {tuple2str(shape)} ')\n",
      "/home/jupyter-steerapi/.conda/envs/stitchnet/lib/python3.10/site-packages/onnx_tool/node_profilers.py:1127: UserWarning: node Reshape_245 cannot reshape array of size (197,1,2304,) into shape (197,12,64,) \n",
      "  warnings.warn(f'node {self.name} cannot reshape array of size {tuple2str(srcshape)} into shape {tuple2str(shape)} ')\n",
      "/home/jupyter-steerapi/.conda/envs/stitchnet/lib/python3.10/site-packages/onnx_tool/node_profilers.py:1127: UserWarning: node Reshape_246 cannot reshape array of size (197,1,2304,) into shape (197,12,64,) \n",
      "  warnings.warn(f'node {self.name} cannot reshape array of size {tuple2str(srcshape)} into shape {tuple2str(shape)} ')\n",
      "/home/jupyter-steerapi/.conda/envs/stitchnet/lib/python3.10/site-packages/onnx_tool/node_profilers.py:1127: UserWarning: node Reshape_315 cannot reshape array of size (197,1,2304,) into shape (197,12,64,) \n",
      "  warnings.warn(f'node {self.name} cannot reshape array of size {tuple2str(srcshape)} into shape {tuple2str(shape)} ')\n",
      "/home/jupyter-steerapi/.conda/envs/stitchnet/lib/python3.10/site-packages/onnx_tool/node_profilers.py:1127: UserWarning: node Reshape_317 cannot reshape array of size (197,1,2304,) into shape (197,12,64,) \n",
      "  warnings.warn(f'node {self.name} cannot reshape array of size {tuple2str(srcshape)} into shape {tuple2str(shape)} ')\n",
      "/home/jupyter-steerapi/.conda/envs/stitchnet/lib/python3.10/site-packages/onnx_tool/node_profilers.py:1127: UserWarning: node Reshape_318 cannot reshape array of size (197,1,2304,) into shape (197,12,64,) \n",
      "  warnings.warn(f'node {self.name} cannot reshape array of size {tuple2str(srcshape)} into shape {tuple2str(shape)} ')\n",
      "/home/jupyter-steerapi/.conda/envs/stitchnet/lib/python3.10/site-packages/onnx_tool/node_profilers.py:1127: UserWarning: node Reshape_387 cannot reshape array of size (197,1,2304,) into shape (197,12,64,) \n",
      "  warnings.warn(f'node {self.name} cannot reshape array of size {tuple2str(srcshape)} into shape {tuple2str(shape)} ')\n",
      "/home/jupyter-steerapi/.conda/envs/stitchnet/lib/python3.10/site-packages/onnx_tool/node_profilers.py:1127: UserWarning: node Reshape_389 cannot reshape array of size (197,1,2304,) into shape (197,12,64,) \n",
      "  warnings.warn(f'node {self.name} cannot reshape array of size {tuple2str(srcshape)} into shape {tuple2str(shape)} ')\n",
      "/home/jupyter-steerapi/.conda/envs/stitchnet/lib/python3.10/site-packages/onnx_tool/node_profilers.py:1127: UserWarning: node Reshape_390 cannot reshape array of size (197,1,2304,) into shape (197,12,64,) \n",
      "  warnings.warn(f'node {self.name} cannot reshape array of size {tuple2str(srcshape)} into shape {tuple2str(shape)} ')\n",
      "/home/jupyter-steerapi/.conda/envs/stitchnet/lib/python3.10/site-packages/onnx_tool/node_profilers.py:1127: UserWarning: node Reshape_459 cannot reshape array of size (197,1,2304,) into shape (197,12,64,) \n",
      "  warnings.warn(f'node {self.name} cannot reshape array of size {tuple2str(srcshape)} into shape {tuple2str(shape)} ')\n",
      "/home/jupyter-steerapi/.conda/envs/stitchnet/lib/python3.10/site-packages/onnx_tool/node_profilers.py:1127: UserWarning: node Reshape_461 cannot reshape array of size (197,1,2304,) into shape (197,12,64,) \n",
      "  warnings.warn(f'node {self.name} cannot reshape array of size {tuple2str(srcshape)} into shape {tuple2str(shape)} ')\n",
      "/home/jupyter-steerapi/.conda/envs/stitchnet/lib/python3.10/site-packages/onnx_tool/node_profilers.py:1127: UserWarning: node Reshape_462 cannot reshape array of size (197,1,2304,) into shape (197,12,64,) \n",
      "  warnings.warn(f'node {self.name} cannot reshape array of size {tuple2str(srcshape)} into shape {tuple2str(shape)} ')\n",
      "/home/jupyter-steerapi/.conda/envs/stitchnet/lib/python3.10/site-packages/onnx_tool/node_profilers.py:1127: UserWarning: node Reshape_531 cannot reshape array of size (197,1,2304,) into shape (197,12,64,) \n",
      "  warnings.warn(f'node {self.name} cannot reshape array of size {tuple2str(srcshape)} into shape {tuple2str(shape)} ')\n",
      "/home/jupyter-steerapi/.conda/envs/stitchnet/lib/python3.10/site-packages/onnx_tool/node_profilers.py:1127: UserWarning: node Reshape_533 cannot reshape array of size (197,1,2304,) into shape (197,12,64,) \n",
      "  warnings.warn(f'node {self.name} cannot reshape array of size {tuple2str(srcshape)} into shape {tuple2str(shape)} ')\n",
      "/home/jupyter-steerapi/.conda/envs/stitchnet/lib/python3.10/site-packages/onnx_tool/node_profilers.py:1127: UserWarning: node Reshape_534 cannot reshape array of size (197,1,2304,) into shape (197,12,64,) \n",
      "  warnings.warn(f'node {self.name} cannot reshape array of size {tuple2str(srcshape)} into shape {tuple2str(shape)} ')\n",
      "/home/jupyter-steerapi/.conda/envs/stitchnet/lib/python3.10/site-packages/onnx_tool/node_profilers.py:1127: UserWarning: node Reshape_603 cannot reshape array of size (197,1,2304,) into shape (197,12,64,) \n",
      "  warnings.warn(f'node {self.name} cannot reshape array of size {tuple2str(srcshape)} into shape {tuple2str(shape)} ')\n",
      "/home/jupyter-steerapi/.conda/envs/stitchnet/lib/python3.10/site-packages/onnx_tool/node_profilers.py:1127: UserWarning: node Reshape_605 cannot reshape array of size (197,1,2304,) into shape (197,12,64,) \n",
      "  warnings.warn(f'node {self.name} cannot reshape array of size {tuple2str(srcshape)} into shape {tuple2str(shape)} ')\n",
      "/home/jupyter-steerapi/.conda/envs/stitchnet/lib/python3.10/site-packages/onnx_tool/node_profilers.py:1127: UserWarning: node Reshape_606 cannot reshape array of size (197,1,2304,) into shape (197,12,64,) \n",
      "  warnings.warn(f'node {self.name} cannot reshape array of size {tuple2str(srcshape)} into shape {tuple2str(shape)} ')\n",
      "/home/jupyter-steerapi/.conda/envs/stitchnet/lib/python3.10/site-packages/onnx_tool/node_profilers.py:1127: UserWarning: node Reshape_675 cannot reshape array of size (197,1,2304,) into shape (197,12,64,) \n",
      "  warnings.warn(f'node {self.name} cannot reshape array of size {tuple2str(srcshape)} into shape {tuple2str(shape)} ')\n",
      "/home/jupyter-steerapi/.conda/envs/stitchnet/lib/python3.10/site-packages/onnx_tool/node_profilers.py:1127: UserWarning: node Reshape_677 cannot reshape array of size (197,1,2304,) into shape (197,12,64,) \n",
      "  warnings.warn(f'node {self.name} cannot reshape array of size {tuple2str(srcshape)} into shape {tuple2str(shape)} ')\n",
      "/home/jupyter-steerapi/.conda/envs/stitchnet/lib/python3.10/site-packages/onnx_tool/node_profilers.py:1127: UserWarning: node Reshape_678 cannot reshape array of size (197,1,2304,) into shape (197,12,64,) \n",
      "  warnings.warn(f'node {self.name} cannot reshape array of size {tuple2str(srcshape)} into shape {tuple2str(shape)} ')\n",
      "/home/jupyter-steerapi/.conda/envs/stitchnet/lib/python3.10/site-packages/onnx_tool/node_profilers.py:1127: UserWarning: node Reshape_747 cannot reshape array of size (197,1,2304,) into shape (197,12,64,) \n",
      "  warnings.warn(f'node {self.name} cannot reshape array of size {tuple2str(srcshape)} into shape {tuple2str(shape)} ')\n",
      "/home/jupyter-steerapi/.conda/envs/stitchnet/lib/python3.10/site-packages/onnx_tool/node_profilers.py:1127: UserWarning: node Reshape_749 cannot reshape array of size (197,1,2304,) into shape (197,12,64,) \n",
      "  warnings.warn(f'node {self.name} cannot reshape array of size {tuple2str(srcshape)} into shape {tuple2str(shape)} ')\n",
      "/home/jupyter-steerapi/.conda/envs/stitchnet/lib/python3.10/site-packages/onnx_tool/node_profilers.py:1127: UserWarning: node Reshape_750 cannot reshape array of size (197,1,2304,) into shape (197,12,64,) \n",
      "  warnings.warn(f'node {self.name} cannot reshape array of size {tuple2str(srcshape)} into shape {tuple2str(shape)} ')\n",
      "/home/jupyter-steerapi/.conda/envs/stitchnet/lib/python3.10/site-packages/onnx_tool/node_profilers.py:1127: UserWarning: node Reshape_819 cannot reshape array of size (197,1,2304,) into shape (197,12,64,) \n",
      "  warnings.warn(f'node {self.name} cannot reshape array of size {tuple2str(srcshape)} into shape {tuple2str(shape)} ')\n",
      "/home/jupyter-steerapi/.conda/envs/stitchnet/lib/python3.10/site-packages/onnx_tool/node_profilers.py:1127: UserWarning: node Reshape_821 cannot reshape array of size (197,1,2304,) into shape (197,12,64,) \n",
      "  warnings.warn(f'node {self.name} cannot reshape array of size {tuple2str(srcshape)} into shape {tuple2str(shape)} ')\n",
      "/home/jupyter-steerapi/.conda/envs/stitchnet/lib/python3.10/site-packages/onnx_tool/node_profilers.py:1127: UserWarning: node Reshape_822 cannot reshape array of size (197,1,2304,) into shape (197,12,64,) \n",
      "  warnings.warn(f'node {self.name} cannot reshape array of size {tuple2str(srcshape)} into shape {tuple2str(shape)} ')\n",
      "/home/jupyter-steerapi/.conda/envs/stitchnet/lib/python3.10/site-packages/onnx_tool/node_profilers.py:1127: UserWarning: node Reshape_891 cannot reshape array of size (197,1,2304,) into shape (197,12,64,) \n",
      "  warnings.warn(f'node {self.name} cannot reshape array of size {tuple2str(srcshape)} into shape {tuple2str(shape)} ')\n",
      "/home/jupyter-steerapi/.conda/envs/stitchnet/lib/python3.10/site-packages/onnx_tool/node_profilers.py:1127: UserWarning: node Reshape_893 cannot reshape array of size (197,1,2304,) into shape (197,12,64,) \n",
      "  warnings.warn(f'node {self.name} cannot reshape array of size {tuple2str(srcshape)} into shape {tuple2str(shape)} ')\n",
      "/home/jupyter-steerapi/.conda/envs/stitchnet/lib/python3.10/site-packages/onnx_tool/node_profilers.py:1127: UserWarning: node Reshape_894 cannot reshape array of size (197,1,2304,) into shape (197,12,64,) \n",
      "  warnings.warn(f'node {self.name} cannot reshape array of size {tuple2str(srcshape)} into shape {tuple2str(shape)} ')\n",
      "5it [02:51, 34.38s/it]\n"
     ]
    },
    {
     "ename": "InferenceError",
     "evalue": "[TypeInferenceError] Inferred elem type differs from existing elem type: (INT64) vs (FLOAT)",
     "output_type": "error",
     "traceback": [
      "\u001b[0;31m---------------------------------------------------------------------------\u001b[0m",
      "\u001b[0;31mInferenceError\u001b[0m                            Traceback (most recent call last)",
      "Input \u001b[0;32mIn [2]\u001b[0m, in \u001b[0;36m<cell line: 46>\u001b[0;34m()\u001b[0m\n\u001b[1;32m     51\u001b[0m model_onnx1 \u001b[38;5;241m=\u001b[39m load_onnx_model(modelname)\n\u001b[1;32m     52\u001b[0m macs, params \u001b[38;5;241m=\u001b[39m get_macs_params_onnx(model_onnx1)\n\u001b[0;32m---> 53\u001b[0m torch_model_1 \u001b[38;5;241m=\u001b[39m \u001b[43mconvert\u001b[49m\u001b[43m(\u001b[49m\u001b[43mmodel_onnx1\u001b[49m\u001b[43m)\u001b[49m\n\u001b[1;32m     54\u001b[0m \u001b[38;5;66;03m# valacc,trainacc = eval_original_model(torch_model_1, dataloaders)\u001b[39;00m\n\u001b[1;32m     55\u001b[0m \n\u001b[1;32m     56\u001b[0m \u001b[38;5;66;03m# get score\u001b[39;00m\n\u001b[1;32m     57\u001b[0m fragmentFiles \u001b[38;5;241m=\u001b[39m \u001b[38;5;28msorted\u001b[39m(glob(\u001b[38;5;124mf\u001b[39m\u001b[38;5;124m'\u001b[39m\u001b[38;5;124m_models/fragments/net\u001b[39m\u001b[38;5;132;01m{\u001b[39;00mi\u001b[38;5;132;01m:\u001b[39;00m\u001b[38;5;124m03\u001b[39m\u001b[38;5;132;01m}\u001b[39;00m\u001b[38;5;124m/*.onnx\u001b[39m\u001b[38;5;124m'\u001b[39m))\n",
      "File \u001b[0;32m~/.conda/envs/stitchnet/lib/python3.10/site-packages/onnx2torch/converter.py:71\u001b[0m, in \u001b[0;36mconvert\u001b[0;34m(onnx_model_or_path, save_input_names, attach_onnx_mapping)\u001b[0m\n\u001b[1;32m     38\u001b[0m \u001b[38;5;28;01mdef\u001b[39;00m \u001b[38;5;21mconvert\u001b[39m(  \u001b[38;5;66;03m# pylint: disable=too-many-locals, too-many-branches, too-many-statements\u001b[39;00m\n\u001b[1;32m     39\u001b[0m     onnx_model_or_path: Union[\u001b[38;5;28mstr\u001b[39m, Path, ModelProto],\n\u001b[1;32m     40\u001b[0m     save_input_names: \u001b[38;5;28mbool\u001b[39m \u001b[38;5;241m=\u001b[39m \u001b[38;5;28;01mFalse\u001b[39;00m,\n\u001b[1;32m     41\u001b[0m     attach_onnx_mapping: \u001b[38;5;28mbool\u001b[39m \u001b[38;5;241m=\u001b[39m \u001b[38;5;28;01mFalse\u001b[39;00m,\n\u001b[1;32m     42\u001b[0m ) \u001b[38;5;241m-\u001b[39m\u001b[38;5;241m>\u001b[39m fx\u001b[38;5;241m.\u001b[39mGraphModule:\n\u001b[1;32m     43\u001b[0m     \u001b[38;5;124;03m\"\"\"Convert model from onnx to PyTorch.\u001b[39;00m\n\u001b[1;32m     44\u001b[0m \n\u001b[1;32m     45\u001b[0m \u001b[38;5;124;03m    This function build torch.fx GraphModule from onnx ModelProto using operations from the converter registry.\u001b[39;00m\n\u001b[0;32m   (...)\u001b[0m\n\u001b[1;32m     68\u001b[0m \n\u001b[1;32m     69\u001b[0m \u001b[38;5;124;03m    \"\"\"\u001b[39;00m\n\u001b[0;32m---> 71\u001b[0m     onnx_model \u001b[38;5;241m=\u001b[39m \u001b[43msafe_shape_inference\u001b[49m\u001b[43m(\u001b[49m\u001b[43monnx_model_or_path\u001b[49m\u001b[43m)\u001b[49m\n\u001b[1;32m     73\u001b[0m     \u001b[38;5;28;01mif\u001b[39;00m onnx_model\u001b[38;5;241m.\u001b[39mir_version \u001b[38;5;241m<\u001b[39m \u001b[38;5;241m3\u001b[39m:\n\u001b[1;32m     74\u001b[0m         \u001b[38;5;28;01mraise\u001b[39;00m \u001b[38;5;167;01mNotImplementedError\u001b[39;00m(\u001b[38;5;124m'\u001b[39m\u001b[38;5;124mOnnx IR is too old (minimal supported version is 3).\u001b[39m\u001b[38;5;124m'\u001b[39m)\n",
      "File \u001b[0;32m~/.conda/envs/stitchnet/lib/python3.10/site-packages/onnx2torch/utils/safe_shape_inference.py:30\u001b[0m, in \u001b[0;36msafe_shape_inference\u001b[0;34m(onnx_model_or_path, output_path, **kwargs)\u001b[0m\n\u001b[1;32m     28\u001b[0m \u001b[38;5;28;01mif\u001b[39;00m \u001b[38;5;28misinstance\u001b[39m(onnx_model_or_path, ModelProto):\n\u001b[1;32m     29\u001b[0m     \u001b[38;5;28;01mif\u001b[39;00m \u001b[38;5;129;01mnot\u001b[39;00m _is_big_model(onnx_model_or_path):\n\u001b[0;32m---> 30\u001b[0m         \u001b[38;5;28;01mreturn\u001b[39;00m \u001b[43minfer_shapes\u001b[49m\u001b[43m(\u001b[49m\u001b[43monnx_model_or_path\u001b[49m\u001b[43m,\u001b[49m\u001b[43m \u001b[49m\u001b[38;5;241;43m*\u001b[39;49m\u001b[38;5;241;43m*\u001b[39;49m\u001b[43mkwargs\u001b[49m\u001b[43m)\u001b[49m\n\u001b[1;32m     32\u001b[0m     \u001b[38;5;28;01mwith\u001b[39;00m tempfile\u001b[38;5;241m.\u001b[39mTemporaryDirectory() \u001b[38;5;28;01mas\u001b[39;00m tmp_dir:\n\u001b[1;32m     33\u001b[0m         tmp_model_path \u001b[38;5;241m=\u001b[39m Path(tmp_dir) \u001b[38;5;241m/\u001b[39m \u001b[38;5;124m'\u001b[39m\u001b[38;5;124mmodel.onnx\u001b[39m\u001b[38;5;124m'\u001b[39m\n",
      "File \u001b[0;32m~/.conda/envs/stitchnet/lib/python3.10/site-packages/onnx/shape_inference.py:34\u001b[0m, in \u001b[0;36minfer_shapes\u001b[0;34m(model, check_type, strict_mode, data_prop)\u001b[0m\n\u001b[1;32m     32\u001b[0m \u001b[38;5;28;01mif\u001b[39;00m \u001b[38;5;28misinstance\u001b[39m(model, (ModelProto, \u001b[38;5;28mbytes\u001b[39m)):\n\u001b[1;32m     33\u001b[0m     model_str \u001b[38;5;241m=\u001b[39m model \u001b[38;5;28;01mif\u001b[39;00m \u001b[38;5;28misinstance\u001b[39m(model, \u001b[38;5;28mbytes\u001b[39m) \u001b[38;5;28;01melse\u001b[39;00m model\u001b[38;5;241m.\u001b[39mSerializeToString()\n\u001b[0;32m---> 34\u001b[0m     inferred_model_str \u001b[38;5;241m=\u001b[39m \u001b[43mC\u001b[49m\u001b[38;5;241;43m.\u001b[39;49m\u001b[43minfer_shapes\u001b[49m\u001b[43m(\u001b[49m\u001b[43mmodel_str\u001b[49m\u001b[43m,\u001b[49m\u001b[43m \u001b[49m\u001b[43mcheck_type\u001b[49m\u001b[43m,\u001b[49m\u001b[43m \u001b[49m\u001b[43mstrict_mode\u001b[49m\u001b[43m,\u001b[49m\u001b[43m \u001b[49m\u001b[43mdata_prop\u001b[49m\u001b[43m)\u001b[49m\n\u001b[1;32m     35\u001b[0m     \u001b[38;5;28;01mreturn\u001b[39;00m onnx\u001b[38;5;241m.\u001b[39mload_from_string(inferred_model_str)\n\u001b[1;32m     36\u001b[0m \u001b[38;5;28;01melif\u001b[39;00m \u001b[38;5;28misinstance\u001b[39m(model, \u001b[38;5;28mstr\u001b[39m):\n",
      "\u001b[0;31mInferenceError\u001b[0m: [TypeInferenceError] Inferred elem type differs from existing elem type: (INT64) vs (FLOAT)"
     ]
    }
   ],
   "source": [
    "# evaluate accuracy of the original networks before finetuning\n",
    "from onnx2torch import convert\n",
    "from stitchnet.stitchonnx.utils import accuracy_score_net,Net,get_score_net,load_cats_and_dogs_dset,load_dl,eval_original_model,get_macs_params_onnx,get_data_score\n",
    "from stitchnet.stitchonnx.utils import accuracy_score_net_plants\n",
    "from stitchnet.stitchonnx.utils import load_hf_train_val_dset\n",
    "from stitchnet.stitchonnx.viz import draw_stitchNet_fromTuples\n",
    "import torch\n",
    "import os\n",
    "from glob import glob\n",
    "from tqdm import tqdm\n",
    "from skl2onnx.helpers.onnx_helper import load_onnx_model\n",
    "from pathlib import Path\n",
    "import numpy as np\n",
    "# data_score = get_data_score(32)\n",
    "STITCH_BATCH_SIZE = 32\n",
    "\n",
    "EVAL_BATCH_SIZE = 16\n",
    "from stitchnet.stitchonnx.utils import load_hf_train_val_dset_with_test_split\n",
    "\n",
    "dataset_train, dataset_val = load_hf_train_val_dset_with_test_split('beans', \n",
    "                                                                    train='validation', \n",
    "                                                                    val='test', \n",
    "                                                                    label='labels', \n",
    "                                                                    seed=47)\n",
    "\n",
    "print(dataset_train['labels'][0:120])\n",
    "# from transformers import AutoProcessor\n",
    "from tqdm import tqdm\n",
    "# p = AutoProcessor.from_pretrained('microsoft/resnet-50')\n",
    "inps = []\n",
    "# tgts = []\n",
    "# for x in tqdm(dataset_train.take(STITCH_BATCH_SIZE)):\n",
    "for x in tqdm(dataset_train.select(range(STITCH_BATCH_SIZE))):\n",
    "    try:\n",
    "        inps += x['pixel_values']\n",
    "        # inps += p(x['image'])['pixel_values']\n",
    "        # tgts += [x['label']]\n",
    "    except:\n",
    "        pass\n",
    "data_score = np.stack(inps)\n",
    "\n",
    "dataloaders = dict(\n",
    "    train=load_dl(dataset_train, EVAL_BATCH_SIZE, shuffle=True),\n",
    "    val=load_dl(dataset_val, EVAL_BATCH_SIZE, shuffle=False)\n",
    ")\n",
    "RESULT_NAME = f\"_results/original_beans\"\n",
    "os.makedirs(RESULT_NAME, exist_ok=True)\n",
    "\n",
    "modelnames = sorted(glob('_models/*.onnx'))\n",
    "for i,modelname in tqdm(enumerate(modelnames)):\n",
    "    name = os.path.basename(modelname)\n",
    "    namewithoutext = os.path.splitext(name)[0]\n",
    "    # if os.path.exists(f'_results/original/{namewithoutext}.txt'):\n",
    "    #     continue\n",
    "    model_onnx1 = load_onnx_model(modelname)\n",
    "    macs, params = get_macs_params_onnx(model_onnx1)\n",
    "    torch_model_1 = convert(model_onnx1)\n",
    "    # valacc,trainacc = eval_original_model(torch_model_1, dataloaders)\n",
    "    \n",
    "    # get score\n",
    "    fragmentFiles = sorted(glob(f'_models/fragments/net{i:03}/*.onnx'))\n",
    "    onnxFragments = []\n",
    "    js = []\n",
    "    for j,fragmentFile in enumerate(fragmentFiles):\n",
    "        onnxFragment = load_onnx_model(fragmentFile)\n",
    "        onnxFragments.append(onnxFragment)\n",
    "        js.append((i,j))\n",
    "    net1 = Net(onnxFragments, i)\n",
    "    score = get_score_net(net1, data_score)\n",
    "    \n",
    "    valacc = accuracy_score_net_plants(Net([model_onnx1]), dataset_val, dataset_train, bs=EVAL_BATCH_SIZE)\n",
    "    trainacc = accuracy_score_net_plants(Net([model_onnx1]), dataset_train, dataset_train, bs=EVAL_BATCH_SIZE)\n",
    "    print('VALACC:', valacc, 'TRAINACC:', trainacc)\n",
    "    \n",
    "    with open(f'{RESULT_NAME}/{namewithoutext}.txt', 'w') as f:\n",
    "        f.write(f'{valacc},{trainacc},{macs},{params},{score},\"{tuple(js)}\"\\n')\n",
    "        \n",
    "    draw_stitchNet_fromTuples(js, name=f'{RESULT_NAME}/{namewithoutext}')\n",
    "        # f.write(f'{\",\".join([f\"{x:.4}\" for x in [valacc,trainacc,macs,params,score]])}\\n')\n",
    "    # break"
   ]
  },
  {
   "cell_type": "code",
   "execution_count": null,
   "id": "d727faf3-c269-45b5-8326-9436b13b9957",
   "metadata": {},
   "outputs": [],
   "source": [
    "# from stitchnet.stitchonnx.utils import load_dl,load_onnx_model,load_cats_and_dogs_dset,execute_fragments,convert_imagenet_to_cat_dog_label\n",
    "# import numpy as np\n",
    "# from glob import glob\n",
    "# from tqdm import tqdm\n",
    "\n",
    "# dataset_val = load_cats_and_dogs_dset(\"test\")\n",
    "# fragmentFiles = sorted(glob(f'_models/fragments/net001/*.onnx'))\n",
    "# onnxFragments = []\n",
    "# js = []\n",
    "# for j,fragmentFile in enumerate(fragmentFiles):\n",
    "#     onnxFragment = load_onnx_model(fragmentFile)\n",
    "#     onnxFragments.append(onnxFragment)"
   ]
  },
  {
   "cell_type": "code",
   "execution_count": null,
   "id": "88cda15d-653d-4378-9d1d-fbd043d5cbb5",
   "metadata": {},
   "outputs": [],
   "source": [
    "print(\"DONE\")"
   ]
  },
  {
   "cell_type": "code",
   "execution_count": null,
   "id": "ed9b1d7a-0753-4cba-b750-37ab25add04e",
   "metadata": {},
   "outputs": [],
   "source": []
  }
 ],
 "metadata": {
  "kernelspec": {
   "display_name": "stitchnet",
   "language": "python",
   "name": "stitchnet"
  },
  "language_info": {
   "codemirror_mode": {
    "name": "ipython",
    "version": 3
   },
   "file_extension": ".py",
   "mimetype": "text/x-python",
   "name": "python",
   "nbconvert_exporter": "python",
   "pygments_lexer": "ipython3",
   "version": "3.10.5"
  }
 },
 "nbformat": 4,
 "nbformat_minor": 5
}
