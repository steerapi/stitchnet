{
 "cells": [
  {
   "cell_type": "code",
   "execution_count": 1,
   "id": "f02463b7-9fb2-4fc9-b3d4-963da1093a32",
   "metadata": {},
   "outputs": [],
   "source": [
    "%load_ext autoreload\n",
    "%autoreload 2"
   ]
  },
  {
   "cell_type": "code",
   "execution_count": 2,
   "id": "4b8e43cb-85ac-4351-8641-bcbee78fe733",
   "metadata": {
    "tags": []
   },
   "outputs": [],
   "source": [
    "import torch\n",
    "import os\n",
    "os.makedirs(\"_models\", exist_ok=True)\n",
    "\n",
    "modelpaths = [\n",
    "    (\"resnet50\", \"_models/resnet50.onnx\"),\n",
    "    (\"alexnet\", \"_models/alexnet.onnx\"),\n",
    "    (\"densenet121\", \"_models/densenet121.onnx\"),\n",
    "    (\"inception_v3\", \"_models/inception_v3.onnx\"),\n",
    "    (\"mobilenet_v3_small\", \"_models/mobilenet_v3_small.onnx\"),\n",
    "    (\"vgg16\", \"_models/vgg16.onnx\"),\n",
    "    (\"resnet50\", \"_models/resnet50.onnx\"),\n",
    "]\n",
    "for modelpath in modelpaths:\n",
    "    if not os.path.exists(modelpath[1]):\n",
    "        model = torch.hub.load(\"pytorch/vision\", modelpath[0], weights=\"IMAGENET1K_V1\")\n",
    "        model.eval()\n",
    "        torch.onnx.export(model, torch.ones(1,3,224,224), modelpath[1], verbose=True)"
   ]
  }
 ],
 "metadata": {
  "kernelspec": {
   "display_name": "Python 3 (ipykernel)",
   "language": "python",
   "name": "python3"
  },
  "language_info": {
   "codemirror_mode": {
    "name": "ipython",
    "version": 3
   },
   "file_extension": ".py",
   "mimetype": "text/x-python",
   "name": "python",
   "nbconvert_exporter": "python",
   "pygments_lexer": "ipython3",
   "version": "3.9.7"
  }
 },
 "nbformat": 4,
 "nbformat_minor": 5
}
