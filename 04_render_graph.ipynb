{
 "cells": [
  {
   "cell_type": "code",
   "execution_count": 1,
   "id": "5d85534e-7a67-4f38-a235-3fcb73b99029",
   "metadata": {},
   "outputs": [],
   "source": [
    "%load_ext autoreload\n",
    "%autoreload 2"
   ]
  },
  {
   "cell_type": "code",
   "execution_count": 14,
   "id": "b6355e9a-04bb-4012-b382-3af49adddedd",
   "metadata": {},
   "outputs": [
    {
     "name": "stdout",
     "output_type": "stream",
     "text": [
      "Stopping http://0.0.0.0:8081\n",
      "Serving '_models/mobilenet_v3_small.onnx' at http://0.0.0.0:8081\n",
      "Stopping http://0.0.0.0:8081\n",
      "Serving '_models/inception_v3.onnx' at http://0.0.0.0:8081\n",
      "Stopping http://0.0.0.0:8081\n",
      "Serving '_models/vgg16.onnx' at http://0.0.0.0:8081\n",
      "error Node is either not visible or not an HTMLElement\n",
      "Stopping http://0.0.0.0:8081\n",
      "Serving '_models/densenet121.onnx' at http://0.0.0.0:8081\n",
      "Stopping http://0.0.0.0:8081\n",
      "Serving '_models/alexnet.onnx' at http://0.0.0.0:8081\n",
      "Stopping http://0.0.0.0:8081\n",
      "Serving '_models/resnet50.onnx' at http://0.0.0.0:8081\n"
     ]
    }
   ],
   "source": [
    "import os\n",
    "from glob import glob\n",
    "from stitchnet.stitchonnx.render import start_netron,render_graph \n",
    "modelFiles = glob('_models/*.onnx')\n",
    "for filename in modelFiles:\n",
    "    if os.path.exists(f'{filename}.svg'):\n",
    "        continue\n",
    "    start_netron(filename)\n",
    "    try:\n",
    "        await render_graph(os.path.dirname(filename))\n",
    "    except Exception as e:\n",
    "        print('error', e)\n",
    "        pass"
   ]
  },
  {
   "cell_type": "code",
   "execution_count": 10,
   "id": "a04f7942-4eb2-40fa-b55f-8ce1f65784d3",
   "metadata": {
    "collapsed": true,
    "jupyter": {
     "outputs_hidden": true
    },
    "tags": []
   },
   "outputs": [
    {
     "name": "stdout",
     "output_type": "stream",
     "text": [
      "Serving '_models/fragments/net001/fragment002.onnx' at http://0.0.0.0:8081\n"
     ]
    },
    {
     "name": "stderr",
     "output_type": "stream",
     "text": [
      "[INFO] Starting Chromium download.\n",
      "100%|██████████| 86.8M/86.8M [00:03<00:00, 23.9Mb/s]\n",
      "[INFO] Beginning extraction\n",
      "[INFO] Chromium extracted to: /Users/surat/Library/Application Support/pyppeteer/local-chromium/588429\n"
     ]
    },
    {
     "name": "stdout",
     "output_type": "stream",
     "text": [
      "Stopping http://0.0.0.0:8081\n",
      "Serving '_models/fragments/net001/fragment003.onnx' at http://0.0.0.0:8081\n",
      "Stopping http://0.0.0.0:8081\n",
      "Serving '_models/fragments/net001/fragment004.onnx' at http://0.0.0.0:8081\n",
      "Stopping http://0.0.0.0:8081\n",
      "Serving '_models/fragments/net001/fragment005.onnx' at http://0.0.0.0:8081\n",
      "Stopping http://0.0.0.0:8081\n",
      "Serving '_models/fragments/net001/fragment000.onnx' at http://0.0.0.0:8081\n",
      "Stopping http://0.0.0.0:8081\n",
      "Serving '_models/fragments/net001/fragment001.onnx' at http://0.0.0.0:8081\n",
      "Stopping http://0.0.0.0:8081\n",
      "Serving '_models/fragments/net000/fragment002.onnx' at http://0.0.0.0:8081\n",
      "Stopping http://0.0.0.0:8081\n",
      "Serving '_models/fragments/net000/fragment003.onnx' at http://0.0.0.0:8081\n",
      "Stopping http://0.0.0.0:8081\n",
      "Serving '_models/fragments/net000/fragment008.onnx' at http://0.0.0.0:8081\n",
      "Stopping http://0.0.0.0:8081\n",
      "Serving '_models/fragments/net000/fragment012.onnx' at http://0.0.0.0:8081\n",
      "Stopping http://0.0.0.0:8081\n",
      "Serving '_models/fragments/net000/fragment004.onnx' at http://0.0.0.0:8081\n",
      "Stopping http://0.0.0.0:8081\n",
      "Serving '_models/fragments/net000/fragment005.onnx' at http://0.0.0.0:8081\n",
      "Stopping http://0.0.0.0:8081\n",
      "Serving '_models/fragments/net000/fragment009.onnx' at http://0.0.0.0:8081\n",
      "Stopping http://0.0.0.0:8081\n",
      "Serving '_models/fragments/net000/fragment006.onnx' at http://0.0.0.0:8081\n",
      "Stopping http://0.0.0.0:8081\n",
      "Serving '_models/fragments/net000/fragment010.onnx' at http://0.0.0.0:8081\n",
      "Stopping http://0.0.0.0:8081\n",
      "Serving '_models/fragments/net000/fragment011.onnx' at http://0.0.0.0:8081\n",
      "Stopping http://0.0.0.0:8081\n",
      "Serving '_models/fragments/net000/fragment007.onnx' at http://0.0.0.0:8081\n",
      "Stopping http://0.0.0.0:8081\n",
      "Serving '_models/fragments/net000/fragment000.onnx' at http://0.0.0.0:8081\n",
      "Stopping http://0.0.0.0:8081\n",
      "Serving '_models/fragments/net000/fragment001.onnx' at http://0.0.0.0:8081\n",
      "Stopping http://0.0.0.0:8081\n",
      "Serving '_models/fragments/net005/fragment002.onnx' at http://0.0.0.0:8081\n",
      "Stopping http://0.0.0.0:8081\n",
      "Serving '_models/fragments/net005/fragment003.onnx' at http://0.0.0.0:8081\n",
      "Stopping http://0.0.0.0:8081\n",
      "Serving '_models/fragments/net005/fragment004.onnx' at http://0.0.0.0:8081\n",
      "Stopping http://0.0.0.0:8081\n",
      "Serving '_models/fragments/net005/fragment005.onnx' at http://0.0.0.0:8081\n",
      "Stopping http://0.0.0.0:8081\n",
      "Serving '_models/fragments/net005/fragment000.onnx' at http://0.0.0.0:8081\n",
      "Stopping http://0.0.0.0:8081\n",
      "Serving '_models/fragments/net005/fragment001.onnx' at http://0.0.0.0:8081\n",
      "Stopping http://0.0.0.0:8081\n",
      "Serving '_models/fragments/net002/fragment014.onnx' at http://0.0.0.0:8081\n",
      "Stopping http://0.0.0.0:8081\n",
      "Serving '_models/fragments/net002/fragment002.onnx' at http://0.0.0.0:8081\n",
      "Stopping http://0.0.0.0:8081\n",
      "Serving '_models/fragments/net002/fragment003.onnx' at http://0.0.0.0:8081\n",
      "Stopping http://0.0.0.0:8081\n",
      "Serving '_models/fragments/net002/fragment015.onnx' at http://0.0.0.0:8081\n",
      "Stopping http://0.0.0.0:8081\n",
      "Serving '_models/fragments/net002/fragment008.onnx' at http://0.0.0.0:8081\n",
      "Stopping http://0.0.0.0:8081\n",
      "Serving '_models/fragments/net002/fragment012.onnx' at http://0.0.0.0:8081\n",
      "Stopping http://0.0.0.0:8081\n",
      "Serving '_models/fragments/net002/fragment004.onnx' at http://0.0.0.0:8081\n",
      "Stopping http://0.0.0.0:8081\n",
      "Serving '_models/fragments/net002/fragment005.onnx' at http://0.0.0.0:8081\n",
      "Stopping http://0.0.0.0:8081\n",
      "Serving '_models/fragments/net002/fragment013.onnx' at http://0.0.0.0:8081\n",
      "Stopping http://0.0.0.0:8081\n",
      "Serving '_models/fragments/net002/fragment009.onnx' at http://0.0.0.0:8081\n",
      "Stopping http://0.0.0.0:8081\n",
      "Serving '_models/fragments/net002/fragment006.onnx' at http://0.0.0.0:8081\n",
      "Stopping http://0.0.0.0:8081\n",
      "Serving '_models/fragments/net002/fragment010.onnx' at http://0.0.0.0:8081\n",
      "Stopping http://0.0.0.0:8081\n",
      "Serving '_models/fragments/net002/fragment011.onnx' at http://0.0.0.0:8081\n",
      "Stopping http://0.0.0.0:8081\n",
      "Serving '_models/fragments/net002/fragment007.onnx' at http://0.0.0.0:8081\n",
      "Stopping http://0.0.0.0:8081\n",
      "Serving '_models/fragments/net002/fragment000.onnx' at http://0.0.0.0:8081\n",
      "Stopping http://0.0.0.0:8081\n",
      "Serving '_models/fragments/net002/fragment001.onnx' at http://0.0.0.0:8081\n",
      "Stopping http://0.0.0.0:8081\n",
      "Serving '_models/fragments/net003/fragment002.onnx' at http://0.0.0.0:8081\n",
      "Stopping http://0.0.0.0:8081\n",
      "Serving '_models/fragments/net003/fragment003.onnx' at http://0.0.0.0:8081\n",
      "Stopping http://0.0.0.0:8081\n",
      "Serving '_models/fragments/net003/fragment004.onnx' at http://0.0.0.0:8081\n",
      "Stopping http://0.0.0.0:8081\n",
      "Serving '_models/fragments/net003/fragment000.onnx' at http://0.0.0.0:8081\n",
      "Stopping http://0.0.0.0:8081\n",
      "Serving '_models/fragments/net003/fragment001.onnx' at http://0.0.0.0:8081\n",
      "Stopping http://0.0.0.0:8081\n",
      "Serving '_models/fragments/net004/fragment002.onnx' at http://0.0.0.0:8081\n",
      "Stopping http://0.0.0.0:8081\n",
      "Serving '_models/fragments/net004/fragment003.onnx' at http://0.0.0.0:8081\n",
      "Stopping http://0.0.0.0:8081\n",
      "Serving '_models/fragments/net004/fragment004.onnx' at http://0.0.0.0:8081\n",
      "Stopping http://0.0.0.0:8081\n",
      "Serving '_models/fragments/net004/fragment005.onnx' at http://0.0.0.0:8081\n",
      "Stopping http://0.0.0.0:8081\n",
      "Serving '_models/fragments/net004/fragment006.onnx' at http://0.0.0.0:8081\n",
      "Stopping http://0.0.0.0:8081\n",
      "Serving '_models/fragments/net004/fragment007.onnx' at http://0.0.0.0:8081\n",
      "Stopping http://0.0.0.0:8081\n",
      "Serving '_models/fragments/net004/fragment000.onnx' at http://0.0.0.0:8081\n",
      "Stopping http://0.0.0.0:8081\n",
      "Serving '_models/fragments/net004/fragment001.onnx' at http://0.0.0.0:8081\n"
     ]
    }
   ],
   "source": [
    "import os\n",
    "from glob import glob\n",
    "from stitchnet.stitchonnx.render import start_netron,render_graph \n",
    "modelFiles = glob('_models/fragments/**/*.onnx', recursive=True)\n",
    "for filename in modelFiles:\n",
    "    if os.path.exists(f'{filename}.svg'):\n",
    "        continue\n",
    "    start_netron(filename)\n",
    "    try:\n",
    "        await render_graph(os.path.dirname(filename))\n",
    "    except Exception as e:\n",
    "        print('error', e)\n",
    "        pass"
   ]
  },
  {
   "cell_type": "code",
   "execution_count": 8,
   "id": "4a7d3e67-aff6-426e-90aa-b415ed030711",
   "metadata": {},
   "outputs": [],
   "source": [
    "# use for rendering individual file\n",
    "# import os\n",
    "# from glob import glob\n",
    "# from stitchnet.stitchonnx.render import start_netron,render_graph \n",
    "\n",
    "# filename = '_models/vgg16.onnx'\n",
    "# if not os.path.exists(f'{filename}.svg'):\n",
    "#     start_netron(filename)\n",
    "#     try:\n",
    "#         await render_graph(os.path.dirname(filename))\n",
    "#     except Exception as e:\n",
    "#         print('error', e)\n",
    "#         pass"
   ]
  },
  {
   "cell_type": "code",
   "execution_count": null,
   "id": "ce063493-9036-4e55-89bd-bcc793932d06",
   "metadata": {},
   "outputs": [],
   "source": []
  }
 ],
 "metadata": {
  "kernelspec": {
   "display_name": "stitchnet",
   "language": "python",
   "name": "stitchnet"
  },
  "language_info": {
   "codemirror_mode": {
    "name": "ipython",
    "version": 3
   },
   "file_extension": ".py",
   "mimetype": "text/x-python",
   "name": "python",
   "nbconvert_exporter": "python",
   "pygments_lexer": "ipython3",
   "version": "3.10.4"
  }
 },
 "nbformat": 4,
 "nbformat_minor": 5
}
