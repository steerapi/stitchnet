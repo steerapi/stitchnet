{
 "cells": [
  {
   "cell_type": "code",
   "execution_count": null,
   "id": "5d85534e-7a67-4f38-a235-3fcb73b99029",
   "metadata": {},
   "outputs": [],
   "source": [
    "%load_ext autoreload\n",
    "%autoreload 2"
   ]
  },
  {
   "cell_type": "code",
   "execution_count": null,
   "id": "b6355e9a-04bb-4012-b382-3af49adddedd",
   "metadata": {
    "tags": []
   },
   "outputs": [],
   "source": [
    "import os\n",
    "from glob import glob\n",
    "from stitchnet.stitchonnx.render import start_netron,render_graph \n",
    "modelFiles = glob('_models/*.onnx')\n",
    "for filename in modelFiles:\n",
    "    if os.path.exists(f'{filename}.svg'):\n",
    "        continue\n",
    "    start_netron(filename)\n",
    "    try:\n",
    "        await render_graph(os.path.dirname(filename))\n",
    "    except Exception as e:\n",
    "        print('error', e)\n",
    "        pass"
   ]
  },
  {
   "cell_type": "code",
   "execution_count": null,
   "id": "a04f7942-4eb2-40fa-b55f-8ce1f65784d3",
   "metadata": {
    "tags": []
   },
   "outputs": [],
   "source": [
    "import os\n",
    "from glob import glob\n",
    "from stitchnet.stitchonnx.render import start_netron,render_graph \n",
    "modelFiles = glob('_models/fragments/**/*.onnx', recursive=True)\n",
    "for filename in modelFiles:\n",
    "    if os.path.exists(f'{filename}.svg'):\n",
    "        continue\n",
    "    start_netron(filename)\n",
    "    try:\n",
    "        await render_graph(os.path.dirname(filename))\n",
    "    except Exception as e:\n",
    "        print('error', e)\n",
    "        pass"
   ]
  },
  {
   "cell_type": "code",
   "execution_count": null,
   "id": "4a7d3e67-aff6-426e-90aa-b415ed030711",
   "metadata": {},
   "outputs": [],
   "source": [
    "# use for rendering individual file\n",
    "# import os\n",
    "# from glob import glob\n",
    "# from stitchnet.stitchonnx.render import start_netron,render_graph \n",
    "\n",
    "# filename = '_models/vgg16.onnx'\n",
    "# if not os.path.exists(f'{filename}.svg'):\n",
    "#     start_netron(filename)\n",
    "#     try:\n",
    "#         await render_graph(os.path.dirname(filename))\n",
    "#     except Exception as e:\n",
    "#         print('error', e)\n",
    "#         pass"
   ]
  },
  {
   "cell_type": "code",
   "execution_count": null,
   "id": "ce063493-9036-4e55-89bd-bcc793932d06",
   "metadata": {},
   "outputs": [],
   "source": []
  }
 ],
 "metadata": {
  "kernelspec": {
   "display_name": "stitchnet",
   "language": "python",
   "name": "stitchnet"
  },
  "language_info": {
   "codemirror_mode": {
    "name": "ipython",
    "version": 3
   },
   "file_extension": ".py",
   "mimetype": "text/x-python",
   "name": "python",
   "nbconvert_exporter": "python",
   "pygments_lexer": "ipython3",
   "version": "3.10.4"
  }
 },
 "nbformat": 4,
 "nbformat_minor": 5
}
