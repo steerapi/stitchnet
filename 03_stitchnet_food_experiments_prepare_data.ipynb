{
 "cells": [
  {
   "cell_type": "code",
   "execution_count": 1,
   "id": "f02463b7-9fb2-4fc9-b3d4-963da1093a32",
   "metadata": {},
   "outputs": [],
   "source": [
    "%load_ext autoreload\n",
    "%autoreload 2"
   ]
  },
  {
   "cell_type": "code",
   "execution_count": 15,
   "id": "40ed3dd1-d7b0-4087-89d5-b74139834e66",
   "metadata": {},
   "outputs": [
    {
     "name": "stderr",
     "output_type": "stream",
     "text": [
      "\n",
      "KeyboardInterrupt\n",
      "\n"
     ]
    }
   ],
   "source": [
    "# prepare dataset, run once only\n",
    "\n",
    "from datasets import load_from_disk, load_dataset\n",
    "\n",
    "from stitchnet.stitchonnx.utils import load_hf_train_val_dset_with_test_split\n",
    "\n",
    "dataset_train, dataset_val = load_hf_train_val_dset_with_test_split('food101',train='train', val='validation',label=\"label\",num_train=10000, num_val=1000)\n",
    "\n",
    "dataset_train.save_to_disk('./_data/food101/train')\n",
    "dataset_val.save_to_disk('./_data/food101/validation')\n",
    "\n",
    "dataset_train = load_from_disk('./_data/food101/train', keep_in_memory=True)\n",
    "dataset_val = load_from_disk('./_data/food101/validation', keep_in_memory=True)\n",
    "\n",
    "import numpy as np\n",
    "\n",
    "for i in range(5):\n",
    "    SELECTED_LABELS = np.random.choice(range(101), 3).tolist()\n",
    "    \n",
    "    subset_dataset_train = dataset_train.filter(lambda example: example['label'] in SELECTED_LABELS)\n",
    "    subset_dataset_val = dataset_val.filter(lambda example: example['label'] in SELECTED_LABELS)\n",
    "\n",
    "    subset_dataset_train.save_to_disk(f'./_data/food101_set{i}/train')\n",
    "    subset_dataset_val.save_to_disk(f'./_data/food101_set{i}/validation')"
   ]
  }
 ],
 "metadata": {
  "kernelspec": {
   "display_name": "stitchnet",
   "language": "python",
   "name": "stitchnet"
  },
  "language_info": {
   "codemirror_mode": {
    "name": "ipython",
    "version": 3
   },
   "file_extension": ".py",
   "mimetype": "text/x-python",
   "name": "python",
   "nbconvert_exporter": "python",
   "pygments_lexer": "ipython3",
   "version": "3.10.5"
  }
 },
 "nbformat": 4,
 "nbformat_minor": 5
}
