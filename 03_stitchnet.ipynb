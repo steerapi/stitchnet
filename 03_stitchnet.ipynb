{
 "cells": [
  {
   "cell_type": "code",
   "execution_count": 4,
   "id": "f02463b7-9fb2-4fc9-b3d4-963da1093a32",
   "metadata": {},
   "outputs": [
    {
     "name": "stdout",
     "output_type": "stream",
     "text": [
      "The autoreload extension is already loaded. To reload it, use:\n",
      "  %reload_ext autoreload\n"
     ]
    }
   ],
   "source": [
    "%load_ext autoreload\n",
    "%autoreload 2"
   ]
  },
  {
   "cell_type": "code",
   "execution_count": 5,
   "id": "46146e10-04f2-4fa4-a001-24fdf1398844",
   "metadata": {
    "tags": []
   },
   "outputs": [],
   "source": [
    "from skl2onnx.helpers.onnx_helper import load_onnx_model\n",
    "from stitchnet.stitchonnx.utils import Net\n",
    "from glob import glob\n",
    "from pathlib import Path\n",
    "\n",
    "netsFiles = sorted(glob('_models/fragments/net*'))\n",
    "nets = []\n",
    "for i,netsFile in enumerate(netsFiles):\n",
    "    fragmentFiles = sorted(glob(str(Path(netsFile)/'fragment*.onnx')))\n",
    "    onnxFragments = []\n",
    "    for fragmentFile in fragmentFiles:\n",
    "        onnxFragment = load_onnx_model(fragmentFile)\n",
    "        onnxFragments.append(onnxFragment)\n",
    "    net1 = Net(onnxFragments, i)\n",
    "    nets.append(net1)"
   ]
  },
  {
   "cell_type": "code",
   "execution_count": 6,
   "id": "991aecb8-aee4-4bc0-a464-0b308014566d",
   "metadata": {},
   "outputs": [],
   "source": [
    "from stitchnet.stitchonnx.utils import load_cats_and_dogs_dset,convert_imagenet_to_cat_dog_label\n",
    "from stitchnet.stitchonnx.utils import accuracy_score_model,accuracy_score_net,load_dl\n",
    "from stitchnet.stitchonnx.utils import generate_networks, ScoreMapper\n",
    "from stitchnet.stitchonnx.report import Report\n",
    "from stitchnet.stitchonnx.utils import evalulate_stitchnet\n",
    "\n",
    "from tqdm import tqdm\n",
    "import torch\n",
    "import numpy as np\n",
    "import os\n",
    "from collections import defaultdict\n",
    "import hashlib\n",
    "import random\n",
    "\n",
    "random.seed(51)\n",
    "np.random.seed(24)\n",
    "torch.manual_seed(77)\n",
    "\n",
    "STITCH_BATCH_SIZE = 32 # todo study the effect\n",
    "EVAL_BATCH_SIZE = 64\n",
    "MAX_DEPTH = 10\n",
    "THRESOULD = 0.8\n",
    "TOTAL_THRESOULD = 0.6\n",
    "\n",
    "RESULT_NAME = \"result_paper_32_t2\"\n",
    "\n",
    "dataset_train = load_cats_and_dogs_dset(\"train\")\n",
    "dataset_val = load_cats_and_dogs_dset(\"test\")\n",
    "\n",
    "dl_score = load_dl(dataset_train, STITCH_BATCH_SIZE)\n",
    "data_score,t = next(iter(dl_score))\n",
    "data_score = data_score.numpy()"
   ]
  },
  {
   "cell_type": "code",
   "execution_count": 7,
   "id": "fb5e71f2-1d9c-416f-b0ab-b90f1ebc76ba",
   "metadata": {},
   "outputs": [],
   "source": [
    "# range(1)\n",
    "k = 0\n",
    "if os.path.exists(f'./_results/{RESULT_NAME}.txt'):\n",
    "    with open(f'./_results/{RESULT_NAME}.txt', 'r') as f:\n",
    "        k = len(f.read().split('\\n'))"
   ]
  },
  {
   "cell_type": "code",
   "execution_count": 8,
   "id": "5ef687c5-6b30-4c10-8536-e0eb218da7f0",
   "metadata": {
    "collapsed": true,
    "jupyter": {
     "outputs_hidden": true
    },
    "tags": []
   },
   "outputs": [
    {
     "name": "stderr",
     "output_type": "stream",
     "text": [
      "/opt/anaconda3/envs/stitchnet/lib/python3.10/site-packages/onnxruntime/capi/onnxruntime_inference_collection.py:54: UserWarning: Specified provider 'CUDAExecutionProvider' is not in available provider names.Available providers: 'CPUExecutionProvider'\n",
      "  warnings.warn(\n"
     ]
    },
    {
     "name": "stdout",
     "output_type": "stream",
     "text": [
      "current depth: 1\n"
     ]
    },
    {
     "name": "stderr",
     "output_type": "stream",
     "text": [
      "100%|██████████| 5/5 [00:18<00:00,  3.64s/it]\n"
     ]
    },
    {
     "name": "stdout",
     "output_type": "stream",
     "text": [
      "potential next fragments: 43\n",
      "potential next fragments after thresholding of 0.8: 1 ['1.0']\n",
      "totalscore 0.9999999403953552\n",
      "epoch 0 loss 1.1021206590245772e-09\n",
      "epoch 1 loss 2.515985115720738e-10\n",
      "epoch 2 loss 1.4094161655475326e-10\n",
      "epoch 3 loss 1.2066557385959242e-10\n",
      "epoch 4 loss 1.1312103364983035e-10\n",
      "epoch 5 loss 1.0917467265540176e-10\n",
      "epoch 6 loss 1.0701414879986353e-10\n",
      "epoch 7 loss 1.0490820405647417e-10\n",
      "epoch 8 loss 1.0395160757177913e-10\n",
      "epoch 9 loss 1.0331025229013881e-10\n",
      "WARNING: defualt optimization passes will be enlarged to all fuse and elimination passes in the next version\n",
      "current depth: 2\n"
     ]
    },
    {
     "name": "stderr",
     "output_type": "stream",
     "text": [
      "100%|██████████| 5/5 [00:20<00:00,  4.06s/it]\n"
     ]
    },
    {
     "name": "stdout",
     "output_type": "stream",
     "text": [
      "potential next fragments: 43\n",
      "potential next fragments after thresholding of 0.8: 1 ['1.0']\n",
      "totalscore 0.9999999403953552\n",
      "epoch 0 loss 1.4161169699074361e-08\n",
      "epoch 1 loss 8.154985462721477e-09\n",
      "epoch 2 loss 5.937603408288399e-09\n",
      "epoch 3 loss 3.91035195282566e-09\n",
      "epoch 4 loss 2.7502432363049463e-09\n",
      "epoch 5 loss 2.0420628238995296e-09\n",
      "epoch 6 loss 1.7096155392083298e-09\n",
      "epoch 7 loss 1.5257760603940396e-09\n",
      "epoch 8 loss 1.389880936180574e-09\n",
      "epoch 9 loss 1.3227698174144673e-09\n",
      "WARNING: defualt optimization passes will be enlarged to all fuse and elimination passes in the next version\n",
      "current depth: 3\n"
     ]
    },
    {
     "name": "stderr",
     "output_type": "stream",
     "text": [
      "100%|██████████| 5/5 [01:15<00:00, 15.07s/it]\n"
     ]
    },
    {
     "name": "stdout",
     "output_type": "stream",
     "text": [
      "potential next fragments: 43\n",
      "potential next fragments after thresholding of 0.8: 1 ['1.0']\n",
      "totalscore 0.9999998211860728\n",
      "epoch 0 loss 1.0312195184554739e-08\n",
      "epoch 1 loss 7.172059280459959e-09\n",
      "epoch 2 loss 5.7216500045425814e-09\n",
      "epoch 3 loss 4.890972739239254e-09\n",
      "epoch 4 loss 4.299391422761246e-09\n",
      "epoch 5 loss 3.903454979366515e-09\n",
      "epoch 6 loss 3.680777108483731e-09\n",
      "epoch 7 loss 3.523843738831284e-09\n",
      "epoch 8 loss 3.3999648172463967e-09\n",
      "epoch 9 loss 3.3418277901670166e-09\n",
      "WARNING: defualt optimization passes will be enlarged to all fuse and elimination passes in the next version\n",
      "current depth: 4\n"
     ]
    },
    {
     "name": "stderr",
     "output_type": "stream",
     "text": [
      "100%|██████████| 5/5 [00:36<00:00,  7.26s/it]\n"
     ]
    },
    {
     "name": "stdout",
     "output_type": "stream",
     "text": [
      "potential next fragments: 43\n",
      "potential next fragments after thresholding of 0.8: 1 ['1.0']\n",
      "totalscore 0.9999998211860728\n",
      "epoch 0 loss 8.066449525428583e-09\n",
      "epoch 1 loss 5.911099113145826e-09\n",
      "epoch 2 loss 4.830813650483327e-09\n",
      "epoch 3 loss 4.107846171043561e-09\n",
      "epoch 4 loss 3.6322298016122833e-09\n",
      "epoch 5 loss 3.317325922176872e-09\n",
      "epoch 6 loss 3.163223876128659e-09\n",
      "epoch 7 loss 3.0344293442186755e-09\n",
      "epoch 8 loss 2.970644553488724e-09\n",
      "epoch 9 loss 2.91954038591121e-09\n",
      "WARNING: defualt optimization passes will be enlarged to all fuse and elimination passes in the next version\n",
      "current depth: 5\n"
     ]
    },
    {
     "name": "stderr",
     "output_type": "stream",
     "text": [
      "100%|██████████| 5/5 [00:03<00:00,  1.27it/s]\n"
     ]
    },
    {
     "name": "stdout",
     "output_type": "stream",
     "text": [
      "potential next fragments: 43\n",
      "potential next fragments after thresholding of 0.8: 24 ['0.96', '0.9', '0.9', '0.89', '0.88', '0.87', '0.86', '0.85', '0.84', '0.84', '0.83', '0.83', '0.83', '0.82', '0.82', '0.81', '0.81', '0.81', '0.81', '0.81', '0.81', '0.8', '0.8', '0.8']\n",
      "totalscore 0.9599217248102679\n",
      "epoch 0 loss 0.0\n",
      "epoch 1 loss 0.0\n",
      "epoch 2 loss 0.0\n",
      "epoch 3 loss 0.0\n",
      "epoch 4 loss 0.0\n",
      "epoch 5 loss 0.0\n",
      "epoch 6 loss 0.0\n",
      "epoch 7 loss 0.0\n",
      "epoch 8 loss 0.0\n",
      "epoch 9 loss 0.0\n",
      "WARNING: defualt optimization passes will be enlarged to all fuse and elimination passes in the next version\n",
      "current depth: 6\n"
     ]
    },
    {
     "name": "stderr",
     "output_type": "stream",
     "text": [
      "100%|██████████| 5/5 [00:03<00:00,  1.28it/s]\n"
     ]
    },
    {
     "name": "stdout",
     "output_type": "stream",
     "text": [
      "potential next fragments: 43\n",
      "potential next fragments after thresholding of 0.8: 7 ['0.96', '0.92', '0.89', '0.85', '0.85', '0.82', '0.81']\n",
      "totalscore 0.9227771745065375\n",
      "epoch 0 loss 0.0\n",
      "epoch 1 loss 0.0\n",
      "epoch 2 loss 0.0\n",
      "epoch 3 loss 0.0\n",
      "epoch 4 loss 0.0\n",
      "epoch 5 loss 0.0\n",
      "epoch 6 loss 0.0\n",
      "epoch 7 loss 0.0\n",
      "epoch 8 loss 0.0\n",
      "epoch 9 loss 0.0\n",
      "WARNING: defualt optimization passes will be enlarged to all fuse and elimination passes in the next version\n",
      "current depth: 7\n"
     ]
    },
    {
     "name": "stderr",
     "output_type": "stream",
     "text": [
      "100%|██████████| 5/5 [00:03<00:00,  1.28it/s]\n"
     ]
    },
    {
     "name": "stdout",
     "output_type": "stream",
     "text": [
      "potential next fragments: 43\n",
      "potential next fragments after thresholding of 0.8: 5 ['0.92', '0.9', '0.86', '0.83', '0.82']\n",
      "totalscore 0.8521041443314901\n",
      "epoch 0 loss 0.0\n",
      "epoch 1 loss 0.0\n",
      "epoch 2 loss 0.0\n",
      "epoch 3 loss 0.0\n",
      "epoch 4 loss 0.0\n",
      "epoch 5 loss 0.0\n",
      "epoch 6 loss 0.0\n",
      "epoch 7 loss 0.0\n",
      "epoch 8 loss 0.0\n",
      "epoch 9 loss 0.0\n",
      "WARNING: defualt optimization passes will be enlarged to all fuse and elimination passes in the next version\n",
      "current depth: 8\n"
     ]
    },
    {
     "name": "stderr",
     "output_type": "stream",
     "text": [
      "100%|██████████| 5/5 [00:03<00:00,  1.28it/s]\n"
     ]
    },
    {
     "name": "stdout",
     "output_type": "stream",
     "text": [
      "potential next fragments: 43\n",
      "potential next fragments after thresholding of 0.8: 7 ['0.94', '0.93', '0.84', '0.84', '0.84', '0.81', '0.8']\n",
      "totalscore 0.8015195622159862\n",
      "epoch 0 loss 0.0\n",
      "epoch 1 loss 0.0\n",
      "epoch 2 loss 0.0\n",
      "epoch 3 loss 0.0\n",
      "epoch 4 loss 0.0\n",
      "epoch 5 loss 0.0\n",
      "epoch 6 loss 0.0\n",
      "epoch 7 loss 0.0\n",
      "epoch 8 loss 0.0\n",
      "epoch 9 loss 0.0\n",
      "WARNING: defualt optimization passes will be enlarged to all fuse and elimination passes in the next version\n"
     ]
    },
    {
     "name": "stderr",
     "output_type": "stream",
     "text": [
      "  0%|          | 0/80 [00:00<?, ?it/s]/opt/anaconda3/envs/stitchnet/lib/python3.10/site-packages/onnxruntime/capi/onnxruntime_inference_collection.py:54: UserWarning: Specified provider 'CUDAExecutionProvider' is not in available provider names.Available providers: 'CPUExecutionProvider'\n",
      "  warnings.warn(\n",
      "100%|██████████| 80/80 [01:14<00:00,  1.08it/s]\n"
     ]
    },
    {
     "name": "stdout",
     "output_type": "stream",
     "text": [
      "len(self.fragments) 1\n",
      "saving to _results/result_paper_32_t2/net000_000\n",
      "totalscore 0.7946168304306919\n",
      "epoch 0 loss 0.0\n",
      "epoch 1 loss 0.0\n",
      "epoch 2 loss 0.0\n",
      "epoch 3 loss 0.0\n",
      "epoch 4 loss 0.0\n",
      "epoch 5 loss 0.0\n",
      "epoch 6 loss 0.0\n",
      "epoch 7 loss 0.0\n",
      "epoch 8 loss 0.0\n",
      "epoch 9 loss 0.0\n",
      "WARNING: defualt optimization passes will be enlarged to all fuse and elimination passes in the next version\n",
      "current depth: 9\n"
     ]
    },
    {
     "name": "stderr",
     "output_type": "stream",
     "text": [
      "100%|██████████| 5/5 [00:03<00:00,  1.26it/s]\n"
     ]
    },
    {
     "name": "stdout",
     "output_type": "stream",
     "text": [
      "potential next fragments: 5\n",
      "potential next fragments after thresholding of 0.8: 3 ['0.95', '0.84', '0.8']\n",
      "totalscore 0.7550076072454284\n",
      "epoch 0 loss 0.0\n",
      "epoch 1 loss 0.0\n",
      "epoch 2 loss 0.0\n",
      "epoch 3 loss 0.0\n",
      "epoch 4 loss 0.0\n",
      "epoch 5 loss 0.0\n",
      "epoch 6 loss 0.0\n",
      "epoch 7 loss 0.0\n",
      "epoch 8 loss 0.0\n",
      "epoch 9 loss 0.0\n",
      "WARNING: defualt optimization passes will be enlarged to all fuse and elimination passes in the next version\n"
     ]
    },
    {
     "name": "stderr",
     "output_type": "stream",
     "text": [
      "  0%|          | 0/80 [00:00<?, ?it/s]/opt/anaconda3/envs/stitchnet/lib/python3.10/site-packages/onnxruntime/capi/onnxruntime_inference_collection.py:54: UserWarning: Specified provider 'CUDAExecutionProvider' is not in available provider names.Available providers: 'CPUExecutionProvider'\n",
      "  warnings.warn(\n",
      "100%|██████████| 80/80 [01:17<00:00,  1.03it/s]\n"
     ]
    },
    {
     "name": "stdout",
     "output_type": "stream",
     "text": [
      "len(self.fragments) 1\n",
      "saving to _results/result_paper_32_t2/net001_001\n",
      "totalscore 0.6648261758059761\n",
      "epoch 0 loss 0.0\n",
      "epoch 1 loss 0.0\n",
      "epoch 2 loss 0.0\n",
      "epoch 3 loss 0.0\n",
      "epoch 4 loss 0.0\n",
      "epoch 5 loss 0.0\n",
      "epoch 6 loss 0.0\n",
      "epoch 7 loss 0.0\n",
      "epoch 8 loss 0.0\n",
      "epoch 9 loss 0.0\n",
      "WARNING: defualt optimization passes will be enlarged to all fuse and elimination passes in the next version\n"
     ]
    },
    {
     "name": "stderr",
     "output_type": "stream",
     "text": [
      "  0%|          | 0/80 [00:00<?, ?it/s]/opt/anaconda3/envs/stitchnet/lib/python3.10/site-packages/onnxruntime/capi/onnxruntime_inference_collection.py:54: UserWarning: Specified provider 'CUDAExecutionProvider' is not in available provider names.Available providers: 'CPUExecutionProvider'\n",
      "  warnings.warn(\n",
      "100%|██████████| 80/80 [01:17<00:00,  1.03it/s]\n"
     ]
    },
    {
     "name": "stdout",
     "output_type": "stream",
     "text": [
      "len(self.fragments) 1\n",
      "saving to _results/result_paper_32_t2/net002_002\n",
      "totalscore 0.6382995674906884\n",
      "epoch 0 loss 0.0\n",
      "epoch 1 loss 0.0\n",
      "epoch 2 loss 0.0\n",
      "epoch 3 loss 0.0\n",
      "epoch 4 loss 0.0\n",
      "epoch 5 loss 0.0\n",
      "epoch 6 loss 0.0\n",
      "epoch 7 loss 0.0\n",
      "epoch 8 loss 0.0\n",
      "epoch 9 loss 0.0\n",
      "WARNING: defualt optimization passes will be enlarged to all fuse and elimination passes in the next version\n"
     ]
    },
    {
     "name": "stderr",
     "output_type": "stream",
     "text": [
      "  0%|          | 0/80 [00:00<?, ?it/s]/opt/anaconda3/envs/stitchnet/lib/python3.10/site-packages/onnxruntime/capi/onnxruntime_inference_collection.py:54: UserWarning: Specified provider 'CUDAExecutionProvider' is not in available provider names.Available providers: 'CPUExecutionProvider'\n",
      "  warnings.warn(\n",
      "100%|██████████| 80/80 [01:18<00:00,  1.02it/s]\n"
     ]
    },
    {
     "name": "stdout",
     "output_type": "stream",
     "text": [
      "len(self.fragments) 1\n",
      "saving to _results/result_paper_32_t2/net003_003\n",
      "totalscore 0.7199501662427129\n",
      "epoch 0 loss 0.0\n",
      "epoch 1 loss 0.0\n",
      "epoch 2 loss 0.0\n",
      "epoch 3 loss 0.0\n",
      "epoch 4 loss 0.0\n",
      "epoch 5 loss 0.0\n",
      "epoch 6 loss 0.0\n",
      "epoch 7 loss 0.0\n",
      "epoch 8 loss 0.0\n",
      "epoch 9 loss 0.0\n",
      "WARNING: defualt optimization passes will be enlarged to all fuse and elimination passes in the next version\n",
      "current depth: 9\n"
     ]
    },
    {
     "name": "stderr",
     "output_type": "stream",
     "text": [
      "100%|██████████| 5/5 [00:04<00:00,  1.20it/s]\n"
     ]
    },
    {
     "name": "stdout",
     "output_type": "stream",
     "text": [
      "potential next fragments: 5\n",
      "potential next fragments after thresholding of 0.8: 5 ['0.98', '0.87', '0.86', '0.85', '0.83']\n",
      "totalscore 0.7041203493663745\n",
      "epoch 0 loss 0.0\n",
      "epoch 1 loss 0.0\n",
      "epoch 2 loss 0.0\n",
      "epoch 3 loss 0.0\n",
      "epoch 4 loss 0.0\n",
      "epoch 5 loss 0.0\n",
      "epoch 6 loss 0.0\n",
      "epoch 7 loss 0.0\n",
      "epoch 8 loss 0.0\n",
      "epoch 9 loss 0.0\n",
      "WARNING: defualt optimization passes will be enlarged to all fuse and elimination passes in the next version\n"
     ]
    },
    {
     "name": "stderr",
     "output_type": "stream",
     "text": [
      "  0%|          | 0/80 [00:00<?, ?it/s]/opt/anaconda3/envs/stitchnet/lib/python3.10/site-packages/onnxruntime/capi/onnxruntime_inference_collection.py:54: UserWarning: Specified provider 'CUDAExecutionProvider' is not in available provider names.Available providers: 'CPUExecutionProvider'\n",
      "  warnings.warn(\n",
      "100%|██████████| 80/80 [01:17<00:00,  1.03it/s]\n"
     ]
    },
    {
     "name": "stdout",
     "output_type": "stream",
     "text": [
      "len(self.fragments) 1\n",
      "saving to _results/result_paper_32_t2/net004_004\n",
      "totalscore 0.6295796677317751\n",
      "epoch 0 loss 0.0\n",
      "epoch 1 loss 0.0\n",
      "epoch 2 loss 0.0\n",
      "epoch 3 loss 0.0\n",
      "epoch 4 loss 0.0\n",
      "epoch 5 loss 0.0\n",
      "epoch 6 loss 0.0\n",
      "epoch 7 loss 0.0\n",
      "epoch 8 loss 0.0\n",
      "epoch 9 loss 0.0\n",
      "WARNING: defualt optimization passes will be enlarged to all fuse and elimination passes in the next version\n"
     ]
    },
    {
     "name": "stderr",
     "output_type": "stream",
     "text": [
      "  0%|          | 0/80 [00:00<?, ?it/s]/opt/anaconda3/envs/stitchnet/lib/python3.10/site-packages/onnxruntime/capi/onnxruntime_inference_collection.py:54: UserWarning: Specified provider 'CUDAExecutionProvider' is not in available provider names.Available providers: 'CPUExecutionProvider'\n",
      "  warnings.warn(\n",
      "100%|██████████| 80/80 [01:20<00:00,  1.00s/it]\n"
     ]
    },
    {
     "name": "stdout",
     "output_type": "stream",
     "text": [
      "len(self.fragments) 1\n",
      "saving to _results/result_paper_32_t2/net005_005\n",
      "totalscore 0.6210087363773821\n",
      "epoch 0 loss 0.0\n",
      "epoch 1 loss 0.0\n",
      "epoch 2 loss 0.0\n",
      "epoch 3 loss 0.0\n",
      "epoch 4 loss 0.0\n",
      "epoch 5 loss 0.0\n",
      "epoch 6 loss 0.0\n",
      "epoch 7 loss 0.0\n",
      "epoch 8 loss 0.0\n",
      "epoch 9 loss 0.0\n",
      "WARNING: defualt optimization passes will be enlarged to all fuse and elimination passes in the next version\n"
     ]
    },
    {
     "name": "stderr",
     "output_type": "stream",
     "text": [
      "  0%|          | 0/80 [00:00<?, ?it/s]/opt/anaconda3/envs/stitchnet/lib/python3.10/site-packages/onnxruntime/capi/onnxruntime_inference_collection.py:54: UserWarning: Specified provider 'CUDAExecutionProvider' is not in available provider names.Available providers: 'CPUExecutionProvider'\n",
      "  warnings.warn(\n",
      "100%|██████████| 80/80 [01:17<00:00,  1.03it/s]\n"
     ]
    },
    {
     "name": "stdout",
     "output_type": "stream",
     "text": [
      "len(self.fragments) 1\n",
      "saving to _results/result_paper_32_t2/net006_006\n",
      "totalscore 0.6132023318766566\n",
      "epoch 0 loss 0.0\n",
      "epoch 1 loss 0.0\n",
      "epoch 2 loss 0.0\n",
      "epoch 3 loss 0.0\n",
      "epoch 4 loss 0.0\n",
      "epoch 5 loss 0.0\n",
      "epoch 6 loss 0.0\n",
      "epoch 7 loss 0.0\n",
      "epoch 8 loss 0.0\n",
      "epoch 9 loss 0.0\n",
      "WARNING: defualt optimization passes will be enlarged to all fuse and elimination passes in the next version\n"
     ]
    },
    {
     "name": "stderr",
     "output_type": "stream",
     "text": [
      "  0%|          | 0/80 [00:00<?, ?it/s]/opt/anaconda3/envs/stitchnet/lib/python3.10/site-packages/onnxruntime/capi/onnxruntime_inference_collection.py:54: UserWarning: Specified provider 'CUDAExecutionProvider' is not in available provider names.Available providers: 'CPUExecutionProvider'\n",
      "  warnings.warn(\n",
      "100%|██████████| 80/80 [01:18<00:00,  1.03it/s]\n"
     ]
    },
    {
     "name": "stdout",
     "output_type": "stream",
     "text": [
      "len(self.fragments) 1\n",
      "saving to _results/result_paper_32_t2/net007_007\n",
      "totalscore 0.719151859006244\n",
      "epoch 0 loss 0.0\n",
      "epoch 1 loss 0.0\n",
      "epoch 2 loss 0.0\n",
      "epoch 3 loss 0.0\n",
      "epoch 4 loss 0.0\n",
      "epoch 5 loss 0.0\n",
      "epoch 6 loss 0.0\n",
      "epoch 7 loss 0.0\n",
      "epoch 8 loss 0.0\n",
      "epoch 9 loss 0.0\n",
      "WARNING: defualt optimization passes will be enlarged to all fuse and elimination passes in the next version\n"
     ]
    },
    {
     "name": "stderr",
     "output_type": "stream",
     "text": [
      "  0%|          | 0/80 [00:00<?, ?it/s]/opt/anaconda3/envs/stitchnet/lib/python3.10/site-packages/onnxruntime/capi/onnxruntime_inference_collection.py:54: UserWarning: Specified provider 'CUDAExecutionProvider' is not in available provider names.Available providers: 'CPUExecutionProvider'\n",
      "  warnings.warn(\n",
      "100%|██████████| 80/80 [01:15<00:00,  1.06it/s]\n"
     ]
    },
    {
     "name": "stdout",
     "output_type": "stream",
     "text": [
      "len(self.fragments) 1\n",
      "saving to _results/result_paper_32_t2/net008_008\n",
      "totalscore 0.7151875459234506\n",
      "epoch 0 loss 0.0\n",
      "epoch 1 loss 0.0\n",
      "epoch 2 loss 0.0\n",
      "epoch 3 loss 0.0\n",
      "epoch 4 loss 0.0\n",
      "epoch 5 loss 0.0\n",
      "epoch 6 loss 0.0\n",
      "epoch 7 loss 0.0\n",
      "epoch 8 loss 0.0\n",
      "epoch 9 loss 0.0\n",
      "WARNING: defualt optimization passes will be enlarged to all fuse and elimination passes in the next version\n",
      "current depth: 9\n"
     ]
    },
    {
     "name": "stderr",
     "output_type": "stream",
     "text": [
      "100%|██████████| 5/5 [00:04<00:00,  1.23it/s]\n"
     ]
    },
    {
     "name": "stdout",
     "output_type": "stream",
     "text": [
      "potential next fragments: 5\n",
      "potential next fragments after thresholding of 0.8: 2 ['0.92', '0.84']\n",
      "totalscore 0.659395280360457\n",
      "epoch 0 loss 0.0\n",
      "epoch 1 loss 0.0\n",
      "epoch 2 loss 0.0\n",
      "epoch 3 loss 0.0\n",
      "epoch 4 loss 0.0\n",
      "epoch 5 loss 0.0\n",
      "epoch 6 loss 0.0\n",
      "epoch 7 loss 0.0\n",
      "epoch 8 loss 0.0\n",
      "epoch 9 loss 0.0\n",
      "WARNING: defualt optimization passes will be enlarged to all fuse and elimination passes in the next version\n"
     ]
    },
    {
     "name": "stderr",
     "output_type": "stream",
     "text": [
      "  0%|          | 0/80 [00:00<?, ?it/s]/opt/anaconda3/envs/stitchnet/lib/python3.10/site-packages/onnxruntime/capi/onnxruntime_inference_collection.py:54: UserWarning: Specified provider 'CUDAExecutionProvider' is not in available provider names.Available providers: 'CPUExecutionProvider'\n",
      "  warnings.warn(\n",
      "100%|██████████| 80/80 [01:18<00:00,  1.02it/s]\n"
     ]
    },
    {
     "name": "stdout",
     "output_type": "stream",
     "text": [
      "len(self.fragments) 1\n",
      "saving to _results/result_paper_32_t2/net009_009\n",
      "totalscore 0.602301566703987\n",
      "epoch 0 loss 0.0\n",
      "epoch 1 loss 0.0\n",
      "epoch 2 loss 0.0\n",
      "epoch 3 loss 0.0\n",
      "epoch 4 loss 0.0\n",
      "epoch 5 loss 0.0\n",
      "epoch 6 loss 0.0\n",
      "epoch 7 loss 0.0\n",
      "epoch 8 loss 0.0\n",
      "epoch 9 loss 0.0\n",
      "WARNING: defualt optimization passes will be enlarged to all fuse and elimination passes in the next version\n"
     ]
    },
    {
     "name": "stderr",
     "output_type": "stream",
     "text": [
      "  0%|          | 0/80 [00:00<?, ?it/s]/opt/anaconda3/envs/stitchnet/lib/python3.10/site-packages/onnxruntime/capi/onnxruntime_inference_collection.py:54: UserWarning: Specified provider 'CUDAExecutionProvider' is not in available provider names.Available providers: 'CPUExecutionProvider'\n",
      "  warnings.warn(\n",
      "100%|██████████| 80/80 [01:18<00:00,  1.01it/s]\n"
     ]
    },
    {
     "name": "stdout",
     "output_type": "stream",
     "text": [
      "len(self.fragments) 1\n",
      "saving to _results/result_paper_32_t2/net010_010\n",
      "totalscore 0.6883818333723597\n",
      "ERROR Input and output must have the same number of spatial dimensions, but got input with with spatial dimensions of [] and output size of (56, 56). Please provide input tensor in (N, C, d1, d2, ...,dK) format and output size in (o1, o2, ...,oK) format.\n",
      "totalscore 0.6859395251855623\n"
     ]
    },
    {
     "name": "stderr",
     "output_type": "stream",
     "text": [
      "Traceback (most recent call last):\n",
      "  File \"/Users/surat/NSTDA/stitchnet/stitchnet/stitchnet/stitchonnx/utils.py\", line 963, in recursive_stitching\n",
      "    newcurr_fragment = stitch_fragments(curr, nextf, data)\n",
      "  File \"/Users/surat/NSTDA/stitchnet/stitchnet/stitchnet/stitchonnx/utils.py\", line 658, in stitch_fragments\n",
      "    nw = adjust_w(tX, tY, w)\n",
      "  File \"/Users/surat/NSTDA/stitchnet/stitchnet/stitchnet/stitchonnx/utils.py\", line 613, in adjust_w\n",
      "    return adjust_w_conv(tX, tY, w)\n",
      "  File \"/Users/surat/NSTDA/stitchnet/stitchnet/stitchnet/stitchonnx/utils.py\", line 590, in adjust_w_conv\n",
      "    tX = up(tX)\n",
      "  File \"/opt/anaconda3/envs/stitchnet/lib/python3.10/site-packages/torch/nn/modules/module.py\", line 1130, in _call_impl\n",
      "    return forward_call(*input, **kwargs)\n",
      "  File \"/opt/anaconda3/envs/stitchnet/lib/python3.10/site-packages/torch/nn/modules/upsampling.py\", line 153, in forward\n",
      "    return F.interpolate(input, self.size, self.scale_factor, self.mode, self.align_corners,\n",
      "  File \"/opt/anaconda3/envs/stitchnet/lib/python3.10/site-packages/torch/nn/functional.py\", line 3854, in interpolate\n",
      "    raise ValueError(\n",
      "ValueError: Input and output must have the same number of spatial dimensions, but got input with with spatial dimensions of [] and output size of (56, 56). Please provide input tensor in (N, C, d1, d2, ...,dK) format and output size in (o1, o2, ...,oK) format.\n"
     ]
    },
    {
     "name": "stdout",
     "output_type": "stream",
     "text": [
      "ERROR Input and output must have the same number of spatial dimensions, but got input with with spatial dimensions of [] and output size of (14, 14). Please provide input tensor in (N, C, d1, d2, ...,dK) format and output size in (o1, o2, ...,oK) format.\n",
      "totalscore 0.8282994178292351\n"
     ]
    },
    {
     "name": "stderr",
     "output_type": "stream",
     "text": [
      "Traceback (most recent call last):\n",
      "  File \"/Users/surat/NSTDA/stitchnet/stitchnet/stitchnet/stitchonnx/utils.py\", line 963, in recursive_stitching\n",
      "    newcurr_fragment = stitch_fragments(curr, nextf, data)\n",
      "  File \"/Users/surat/NSTDA/stitchnet/stitchnet/stitchnet/stitchonnx/utils.py\", line 658, in stitch_fragments\n",
      "    nw = adjust_w(tX, tY, w)\n",
      "  File \"/Users/surat/NSTDA/stitchnet/stitchnet/stitchnet/stitchonnx/utils.py\", line 613, in adjust_w\n",
      "    return adjust_w_conv(tX, tY, w)\n",
      "  File \"/Users/surat/NSTDA/stitchnet/stitchnet/stitchnet/stitchonnx/utils.py\", line 590, in adjust_w_conv\n",
      "    tX = up(tX)\n",
      "  File \"/opt/anaconda3/envs/stitchnet/lib/python3.10/site-packages/torch/nn/modules/module.py\", line 1130, in _call_impl\n",
      "    return forward_call(*input, **kwargs)\n",
      "  File \"/opt/anaconda3/envs/stitchnet/lib/python3.10/site-packages/torch/nn/modules/upsampling.py\", line 153, in forward\n",
      "    return F.interpolate(input, self.size, self.scale_factor, self.mode, self.align_corners,\n",
      "  File \"/opt/anaconda3/envs/stitchnet/lib/python3.10/site-packages/torch/nn/functional.py\", line 3854, in interpolate\n",
      "    raise ValueError(\n",
      "ValueError: Input and output must have the same number of spatial dimensions, but got input with with spatial dimensions of [] and output size of (14, 14). Please provide input tensor in (N, C, d1, d2, ...,dK) format and output size in (o1, o2, ...,oK) format.\n"
     ]
    },
    {
     "name": "stdout",
     "output_type": "stream",
     "text": [
      "epoch 0 loss 0.0\n",
      "epoch 1 loss 0.0\n",
      "epoch 2 loss 0.0\n",
      "epoch 3 loss 0.0\n",
      "epoch 4 loss 0.0\n",
      "epoch 5 loss 0.0\n",
      "epoch 6 loss 0.0\n",
      "epoch 7 loss 0.0\n",
      "epoch 8 loss 0.0\n",
      "epoch 9 loss 0.0\n",
      "WARNING: defualt optimization passes will be enlarged to all fuse and elimination passes in the next version\n"
     ]
    },
    {
     "name": "stderr",
     "output_type": "stream",
     "text": [
      "  0%|          | 0/80 [00:00<?, ?it/s]/opt/anaconda3/envs/stitchnet/lib/python3.10/site-packages/onnxruntime/capi/onnxruntime_inference_collection.py:54: UserWarning: Specified provider 'CUDAExecutionProvider' is not in available provider names.Available providers: 'CPUExecutionProvider'\n",
      "  warnings.warn(\n",
      "100%|██████████| 80/80 [01:11<00:00,  1.12it/s]\n"
     ]
    },
    {
     "name": "stdout",
     "output_type": "stream",
     "text": [
      "len(self.fragments) 1\n",
      "saving to _results/result_paper_32_t2/net011_011\n",
      "totalscore 0.7941476416363451\n",
      "epoch 0 loss 0.0\n",
      "epoch 1 loss 0.0\n",
      "epoch 2 loss 0.0\n",
      "epoch 3 loss 0.0\n",
      "epoch 4 loss 0.0\n",
      "epoch 5 loss 0.0\n",
      "epoch 6 loss 0.0\n",
      "epoch 7 loss 0.0\n",
      "epoch 8 loss 0.0\n",
      "epoch 9 loss 0.0\n",
      "WARNING: defualt optimization passes will be enlarged to all fuse and elimination passes in the next version\n"
     ]
    },
    {
     "name": "stderr",
     "output_type": "stream",
     "text": [
      "  0%|          | 0/80 [00:00<?, ?it/s]/opt/anaconda3/envs/stitchnet/lib/python3.10/site-packages/onnxruntime/capi/onnxruntime_inference_collection.py:54: UserWarning: Specified provider 'CUDAExecutionProvider' is not in available provider names.Available providers: 'CPUExecutionProvider'\n",
      "  warnings.warn(\n",
      "100%|██████████| 80/80 [01:10<00:00,  1.14it/s]\n"
     ]
    },
    {
     "name": "stdout",
     "output_type": "stream",
     "text": [
      "len(self.fragments) 1\n",
      "saving to _results/result_paper_32_t2/net012_012\n",
      "totalscore 0.7641833179163031\n",
      "epoch 0 loss 0.0\n",
      "epoch 1 loss 0.0\n",
      "epoch 2 loss 0.0\n",
      "epoch 3 loss 0.0\n",
      "epoch 4 loss 0.0\n",
      "epoch 5 loss 0.0\n",
      "epoch 6 loss 0.0\n",
      "epoch 7 loss 0.0\n",
      "epoch 8 loss 0.0\n",
      "epoch 9 loss 0.0\n",
      "WARNING: defualt optimization passes will be enlarged to all fuse and elimination passes in the next version\n",
      "current depth: 8\n"
     ]
    },
    {
     "name": "stderr",
     "output_type": "stream",
     "text": [
      "100%|██████████| 5/5 [00:04<00:00,  1.22it/s]\n"
     ]
    },
    {
     "name": "stdout",
     "output_type": "stream",
     "text": [
      "potential next fragments: 43\n",
      "potential next fragments after thresholding of 0.8: 9 ['0.97', '0.91', '0.91', '0.88', '0.87', '0.83', '0.83', '0.81', '0.8']\n",
      "totalscore 0.7443715613514712\n",
      "epoch 0 loss 0.0\n",
      "epoch 1 loss 0.0\n",
      "epoch 2 loss 0.0\n",
      "epoch 3 loss 0.0\n",
      "epoch 4 loss 0.0\n",
      "epoch 5 loss 0.0\n",
      "epoch 6 loss 0.0\n",
      "epoch 7 loss 0.0\n",
      "epoch 8 loss 0.0\n",
      "epoch 9 loss 0.0\n",
      "WARNING: defualt optimization passes will be enlarged to all fuse and elimination passes in the next version\n",
      "current depth: 9\n"
     ]
    },
    {
     "name": "stderr",
     "output_type": "stream",
     "text": [
      "100%|██████████| 5/5 [00:04<00:00,  1.18it/s]\n"
     ]
    },
    {
     "name": "stdout",
     "output_type": "stream",
     "text": [
      "potential next fragments: 5\n",
      "potential next fragments after thresholding of 0.8: 2 ['0.91', '0.83']\n",
      "totalscore 0.681057711902699\n",
      "epoch 0 loss 0.0\n",
      "epoch 1 loss 0.0\n",
      "epoch 2 loss 0.0\n",
      "epoch 3 loss 0.0\n",
      "epoch 4 loss 0.0\n",
      "epoch 5 loss 0.0\n",
      "epoch 6 loss 0.0\n",
      "epoch 7 loss 0.0\n",
      "epoch 8 loss 0.0\n",
      "epoch 9 loss 0.0\n",
      "WARNING: defualt optimization passes will be enlarged to all fuse and elimination passes in the next version\n"
     ]
    },
    {
     "name": "stderr",
     "output_type": "stream",
     "text": [
      "  0%|          | 0/80 [00:00<?, ?it/s]/opt/anaconda3/envs/stitchnet/lib/python3.10/site-packages/onnxruntime/capi/onnxruntime_inference_collection.py:54: UserWarning: Specified provider 'CUDAExecutionProvider' is not in available provider names.Available providers: 'CPUExecutionProvider'\n",
      "  warnings.warn(\n",
      "100%|██████████| 80/80 [01:16<00:00,  1.04it/s]\n"
     ]
    },
    {
     "name": "stdout",
     "output_type": "stream",
     "text": [
      "len(self.fragments) 1\n",
      "saving to _results/result_paper_32_t2/net013_013\n",
      "totalscore 0.6160869394007416\n",
      "epoch 0 loss 0.0\n",
      "epoch 1 loss 0.0\n",
      "epoch 2 loss 0.0\n",
      "epoch 3 loss 0.0\n",
      "epoch 4 loss 0.0\n",
      "epoch 5 loss 0.0\n",
      "epoch 6 loss 0.0\n",
      "epoch 7 loss 0.0\n",
      "epoch 8 loss 0.0\n",
      "epoch 9 loss 0.0\n",
      "WARNING: defualt optimization passes will be enlarged to all fuse and elimination passes in the next version\n"
     ]
    },
    {
     "name": "stderr",
     "output_type": "stream",
     "text": [
      "  0%|          | 0/80 [00:00<?, ?it/s]/opt/anaconda3/envs/stitchnet/lib/python3.10/site-packages/onnxruntime/capi/onnxruntime_inference_collection.py:54: UserWarning: Specified provider 'CUDAExecutionProvider' is not in available provider names.Available providers: 'CPUExecutionProvider'\n",
      "  warnings.warn(\n",
      "100%|██████████| 80/80 [01:17<00:00,  1.03it/s]\n"
     ]
    },
    {
     "name": "stdout",
     "output_type": "stream",
     "text": [
      "len(self.fragments) 1\n",
      "saving to _results/result_paper_32_t2/net014_014\n",
      "totalscore 0.698322286200759\n",
      "epoch 0 loss 0.0\n",
      "epoch 1 loss 0.0\n",
      "epoch 2 loss 0.0\n",
      "epoch 3 loss 0.0\n",
      "epoch 4 loss 0.0\n",
      "epoch 5 loss 0.0\n",
      "epoch 6 loss 0.0\n",
      "epoch 7 loss 0.0\n",
      "epoch 8 loss 0.0\n",
      "epoch 9 loss 0.0\n",
      "WARNING: defualt optimization passes will be enlarged to all fuse and elimination passes in the next version\n"
     ]
    },
    {
     "name": "stderr",
     "output_type": "stream",
     "text": [
      "  0%|          | 0/80 [00:00<?, ?it/s]/opt/anaconda3/envs/stitchnet/lib/python3.10/site-packages/onnxruntime/capi/onnxruntime_inference_collection.py:54: UserWarning: Specified provider 'CUDAExecutionProvider' is not in available provider names.Available providers: 'CPUExecutionProvider'\n",
      "  warnings.warn(\n",
      "100%|██████████| 80/80 [01:22<00:00,  1.03s/it]\n"
     ]
    },
    {
     "name": "stdout",
     "output_type": "stream",
     "text": [
      "len(self.fragments) 1\n",
      "saving to _results/result_paper_32_t2/net015_015\n",
      "totalscore 0.693666325725905\n",
      "epoch 0 loss 0.0\n",
      "epoch 1 loss 0.0\n",
      "epoch 2 loss 0.0\n",
      "epoch 3 loss 0.0\n",
      "epoch 4 loss 0.0\n",
      "epoch 5 loss 0.0\n",
      "epoch 6 loss 0.0\n",
      "epoch 7 loss 0.0\n",
      "epoch 8 loss 0.0\n",
      "epoch 9 loss 0.0\n",
      "WARNING: defualt optimization passes will be enlarged to all fuse and elimination passes in the next version\n",
      "current depth: 9\n"
     ]
    },
    {
     "name": "stderr",
     "output_type": "stream",
     "text": [
      "100%|██████████| 5/5 [00:04<00:00,  1.00it/s]\n"
     ]
    },
    {
     "name": "stdout",
     "output_type": "stream",
     "text": [
      "potential next fragments: 5\n",
      "potential next fragments after thresholding of 0.8: 2 ['0.9', '0.83']\n",
      "totalscore 0.6222784490168638\n",
      "epoch 0 loss 0.0\n",
      "epoch 1 loss 0.0\n",
      "epoch 2 loss 0.0\n",
      "epoch 3 loss 0.0\n",
      "epoch 4 loss 0.0\n",
      "epoch 5 loss 0.0\n",
      "epoch 6 loss 0.0\n",
      "epoch 7 loss 0.0\n",
      "epoch 8 loss 0.0\n",
      "epoch 9 loss 0.0\n",
      "WARNING: defualt optimization passes will be enlarged to all fuse and elimination passes in the next version\n"
     ]
    },
    {
     "name": "stderr",
     "output_type": "stream",
     "text": [
      "  0%|          | 0/80 [00:00<?, ?it/s]/opt/anaconda3/envs/stitchnet/lib/python3.10/site-packages/onnxruntime/capi/onnxruntime_inference_collection.py:54: UserWarning: Specified provider 'CUDAExecutionProvider' is not in available provider names.Available providers: 'CPUExecutionProvider'\n",
      "  warnings.warn(\n",
      "100%|██████████| 80/80 [01:28<00:00,  1.11s/it]\n"
     ]
    },
    {
     "name": "stdout",
     "output_type": "stream",
     "text": [
      "len(self.fragments) 1\n",
      "saving to _results/result_paper_32_t2/net016_016\n",
      "totalscore 0.6717778137448541\n",
      "epoch 0 loss 0.0\n",
      "epoch 1 loss 0.0\n",
      "epoch 2 loss 0.0\n",
      "epoch 3 loss 0.0\n",
      "epoch 4 loss 0.0\n",
      "epoch 5 loss 0.0\n",
      "epoch 6 loss 0.0\n",
      "epoch 7 loss 0.0\n",
      "epoch 8 loss 0.0\n",
      "epoch 9 loss 0.0\n",
      "WARNING: defualt optimization passes will be enlarged to all fuse and elimination passes in the next version\n",
      "current depth: 9\n"
     ]
    },
    {
     "name": "stderr",
     "output_type": "stream",
     "text": [
      "100%|██████████| 5/5 [00:04<00:00,  1.17it/s]\n"
     ]
    },
    {
     "name": "stdout",
     "output_type": "stream",
     "text": [
      "potential next fragments: 5\n",
      "potential next fragments after thresholding of 0.8: 5 ['0.93', '0.86', '0.83', '0.82', '0.81']\n",
      "totalscore 0.6265617067503039\n",
      "epoch 0 loss 0.0\n",
      "epoch 1 loss 0.0\n",
      "epoch 2 loss 0.0\n",
      "epoch 3 loss 0.0\n",
      "epoch 4 loss 0.0\n",
      "epoch 5 loss 0.0\n",
      "epoch 6 loss 0.0\n",
      "epoch 7 loss 0.0\n",
      "epoch 8 loss 0.0\n",
      "epoch 9 loss 0.0\n",
      "WARNING: defualt optimization passes will be enlarged to all fuse and elimination passes in the next version\n"
     ]
    },
    {
     "name": "stderr",
     "output_type": "stream",
     "text": [
      "  0%|          | 0/80 [00:00<?, ?it/s]/opt/anaconda3/envs/stitchnet/lib/python3.10/site-packages/onnxruntime/capi/onnxruntime_inference_collection.py:54: UserWarning: Specified provider 'CUDAExecutionProvider' is not in available provider names.Available providers: 'CPUExecutionProvider'\n",
      "  warnings.warn(\n",
      "100%|██████████| 80/80 [01:18<00:00,  1.02it/s]\n"
     ]
    },
    {
     "name": "stdout",
     "output_type": "stream",
     "text": [
      "len(self.fragments) 1\n",
      "saving to _results/result_paper_32_t2/net017_017\n",
      "totalscore 0.6658045797989941\n",
      "epoch 0 loss 0.0\n",
      "epoch 1 loss 0.0\n",
      "epoch 2 loss 0.0\n",
      "epoch 3 loss 0.0\n",
      "epoch 4 loss 0.0\n",
      "epoch 5 loss 0.0\n",
      "epoch 6 loss 0.0\n",
      "epoch 7 loss 0.0\n",
      "epoch 8 loss 0.0\n",
      "epoch 9 loss 0.0\n",
      "WARNING: defualt optimization passes will be enlarged to all fuse and elimination passes in the next version\n",
      "current depth: 9\n"
     ]
    },
    {
     "name": "stderr",
     "output_type": "stream",
     "text": [
      "100%|██████████| 5/5 [00:03<00:00,  1.26it/s]\n"
     ]
    },
    {
     "name": "stdout",
     "output_type": "stream",
     "text": [
      "potential next fragments: 5\n",
      "potential next fragments after thresholding of 0.8: 4 ['0.98', '0.87', '0.87', '0.84']\n",
      "totalscore 0.6518123470975322\n",
      "epoch 0 loss 0.0\n",
      "epoch 1 loss 0.0\n",
      "epoch 2 loss 0.0\n",
      "epoch 3 loss 0.0\n",
      "epoch 4 loss 0.0\n",
      "epoch 5 loss 0.0\n",
      "epoch 6 loss 0.0\n",
      "epoch 7 loss 0.0\n",
      "epoch 8 loss 0.0\n",
      "epoch 9 loss 0.0\n",
      "WARNING: defualt optimization passes will be enlarged to all fuse and elimination passes in the next version\n"
     ]
    },
    {
     "name": "stderr",
     "output_type": "stream",
     "text": [
      "  0%|          | 0/80 [00:00<?, ?it/s]/opt/anaconda3/envs/stitchnet/lib/python3.10/site-packages/onnxruntime/capi/onnxruntime_inference_collection.py:54: UserWarning: Specified provider 'CUDAExecutionProvider' is not in available provider names.Available providers: 'CPUExecutionProvider'\n",
      "  warnings.warn(\n",
      "100%|██████████| 80/80 [01:17<00:00,  1.04it/s]\n"
     ]
    },
    {
     "name": "stdout",
     "output_type": "stream",
     "text": [
      "len(self.fragments) 1\n",
      "saving to _results/result_paper_32_t2/net018_018\n",
      "totalscore 0.6347444829527502\n",
      "epoch 0 loss 0.0\n",
      "epoch 1 loss 0.0\n",
      "epoch 2 loss 0.0\n",
      "epoch 3 loss 0.0\n",
      "epoch 4 loss 0.0\n",
      "epoch 5 loss 0.0\n",
      "epoch 6 loss 0.0\n",
      "epoch 7 loss 0.0\n",
      "epoch 8 loss 0.0\n",
      "epoch 9 loss 0.0\n",
      "WARNING: defualt optimization passes will be enlarged to all fuse and elimination passes in the next version\n"
     ]
    },
    {
     "name": "stderr",
     "output_type": "stream",
     "text": [
      "  0%|          | 0/80 [00:00<?, ?it/s]/opt/anaconda3/envs/stitchnet/lib/python3.10/site-packages/onnxruntime/capi/onnxruntime_inference_collection.py:54: UserWarning: Specified provider 'CUDAExecutionProvider' is not in available provider names.Available providers: 'CPUExecutionProvider'\n",
      "  warnings.warn(\n",
      "100%|██████████| 80/80 [01:13<00:00,  1.09it/s]\n"
     ]
    },
    {
     "name": "stdout",
     "output_type": "stream",
     "text": [
      "len(self.fragments) 1\n",
      "saving to _results/result_paper_32_t2/net019_019\n",
      "totalscore 0.6347234393724043\n",
      "ERROR Input and output must have the same number of spatial dimensions, but got input with with spatial dimensions of [] and output size of (14, 14). Please provide input tensor in (N, C, d1, d2, ...,dK) format and output size in (o1, o2, ...,oK) format.\n",
      "totalscore 0.621587553702386\n"
     ]
    },
    {
     "name": "stderr",
     "output_type": "stream",
     "text": [
      "Traceback (most recent call last):\n",
      "  File \"/Users/surat/NSTDA/stitchnet/stitchnet/stitchnet/stitchonnx/utils.py\", line 963, in recursive_stitching\n",
      "    newcurr_fragment = stitch_fragments(curr, nextf, data)\n",
      "  File \"/Users/surat/NSTDA/stitchnet/stitchnet/stitchnet/stitchonnx/utils.py\", line 658, in stitch_fragments\n",
      "    nw = adjust_w(tX, tY, w)\n",
      "  File \"/Users/surat/NSTDA/stitchnet/stitchnet/stitchnet/stitchonnx/utils.py\", line 613, in adjust_w\n",
      "    return adjust_w_conv(tX, tY, w)\n",
      "  File \"/Users/surat/NSTDA/stitchnet/stitchnet/stitchnet/stitchonnx/utils.py\", line 590, in adjust_w_conv\n",
      "    tX = up(tX)\n",
      "  File \"/opt/anaconda3/envs/stitchnet/lib/python3.10/site-packages/torch/nn/modules/module.py\", line 1130, in _call_impl\n",
      "    return forward_call(*input, **kwargs)\n",
      "  File \"/opt/anaconda3/envs/stitchnet/lib/python3.10/site-packages/torch/nn/modules/upsampling.py\", line 153, in forward\n",
      "    return F.interpolate(input, self.size, self.scale_factor, self.mode, self.align_corners,\n",
      "  File \"/opt/anaconda3/envs/stitchnet/lib/python3.10/site-packages/torch/nn/functional.py\", line 3854, in interpolate\n",
      "    raise ValueError(\n",
      "ValueError: Input and output must have the same number of spatial dimensions, but got input with with spatial dimensions of [] and output size of (14, 14). Please provide input tensor in (N, C, d1, d2, ...,dK) format and output size in (o1, o2, ...,oK) format.\n"
     ]
    },
    {
     "name": "stdout",
     "output_type": "stream",
     "text": [
      "epoch 0 loss 0.0\n",
      "epoch 1 loss 0.0\n",
      "epoch 2 loss 0.0\n",
      "epoch 3 loss 0.0\n",
      "epoch 4 loss 0.0\n",
      "epoch 5 loss 0.0\n",
      "epoch 6 loss 0.0\n",
      "epoch 7 loss 0.0\n",
      "epoch 8 loss 0.0\n",
      "epoch 9 loss 0.0\n",
      "WARNING: defualt optimization passes will be enlarged to all fuse and elimination passes in the next version\n",
      "current depth: 9\n"
     ]
    },
    {
     "name": "stderr",
     "output_type": "stream",
     "text": [
      "100%|██████████| 5/5 [00:03<00:00,  1.25it/s]\n"
     ]
    },
    {
     "name": "stdout",
     "output_type": "stream",
     "text": [
      "potential next fragments: 5\n",
      "potential next fragments after thresholding of 0.8: 5 ['1.0', '0.9', '0.88', '0.86', '0.86']\n",
      "totalscore 0.6212604806692866\n",
      "epoch 0 loss 0.0\n",
      "epoch 1 loss 0.0\n",
      "epoch 2 loss 0.0\n",
      "epoch 3 loss 0.0\n",
      "epoch 4 loss 0.0\n",
      "epoch 5 loss 0.0\n",
      "epoch 6 loss 0.0\n",
      "epoch 7 loss 0.0\n",
      "epoch 8 loss 0.0\n",
      "epoch 9 loss 0.0\n",
      "WARNING: defualt optimization passes will be enlarged to all fuse and elimination passes in the next version\n"
     ]
    },
    {
     "name": "stderr",
     "output_type": "stream",
     "text": [
      "  0%|          | 0/80 [00:00<?, ?it/s]/opt/anaconda3/envs/stitchnet/lib/python3.10/site-packages/onnxruntime/capi/onnxruntime_inference_collection.py:54: UserWarning: Specified provider 'CUDAExecutionProvider' is not in available provider names.Available providers: 'CPUExecutionProvider'\n",
      "  warnings.warn(\n",
      "100%|██████████| 80/80 [01:14<00:00,  1.07it/s]\n"
     ]
    },
    {
     "name": "stdout",
     "output_type": "stream",
     "text": [
      "len(self.fragments) 1\n",
      "saving to _results/result_paper_32_t2/net020_020\n",
      "totalscore 0.6149272149740181\n",
      "ERROR Input and output must have the same number of spatial dimensions, but got input with with spatial dimensions of [] and output size of (14, 14). Please provide input tensor in (N, C, d1, d2, ...,dK) format and output size in (o1, o2, ...,oK) format.\n",
      "totalscore 0.753046662303135\n"
     ]
    },
    {
     "name": "stderr",
     "output_type": "stream",
     "text": [
      "Traceback (most recent call last):\n",
      "  File \"/Users/surat/NSTDA/stitchnet/stitchnet/stitchnet/stitchonnx/utils.py\", line 963, in recursive_stitching\n",
      "    newcurr_fragment = stitch_fragments(curr, nextf, data)\n",
      "  File \"/Users/surat/NSTDA/stitchnet/stitchnet/stitchnet/stitchonnx/utils.py\", line 658, in stitch_fragments\n",
      "    nw = adjust_w(tX, tY, w)\n",
      "  File \"/Users/surat/NSTDA/stitchnet/stitchnet/stitchnet/stitchonnx/utils.py\", line 613, in adjust_w\n",
      "    return adjust_w_conv(tX, tY, w)\n",
      "  File \"/Users/surat/NSTDA/stitchnet/stitchnet/stitchnet/stitchonnx/utils.py\", line 590, in adjust_w_conv\n",
      "    tX = up(tX)\n",
      "  File \"/opt/anaconda3/envs/stitchnet/lib/python3.10/site-packages/torch/nn/modules/module.py\", line 1130, in _call_impl\n",
      "    return forward_call(*input, **kwargs)\n",
      "  File \"/opt/anaconda3/envs/stitchnet/lib/python3.10/site-packages/torch/nn/modules/upsampling.py\", line 153, in forward\n",
      "    return F.interpolate(input, self.size, self.scale_factor, self.mode, self.align_corners,\n",
      "  File \"/opt/anaconda3/envs/stitchnet/lib/python3.10/site-packages/torch/nn/functional.py\", line 3854, in interpolate\n",
      "    raise ValueError(\n",
      "ValueError: Input and output must have the same number of spatial dimensions, but got input with with spatial dimensions of [] and output size of (14, 14). Please provide input tensor in (N, C, d1, d2, ...,dK) format and output size in (o1, o2, ...,oK) format.\n"
     ]
    },
    {
     "name": "stdout",
     "output_type": "stream",
     "text": [
      "ERROR Input and output must have the same number of spatial dimensions, but got input with with spatial dimensions of [] and output size of (14, 14). Please provide input tensor in (N, C, d1, d2, ...,dK) format and output size in (o1, o2, ...,oK) format.\n",
      "totalscore 0.8820393007286825\n"
     ]
    },
    {
     "name": "stderr",
     "output_type": "stream",
     "text": [
      "Traceback (most recent call last):\n",
      "  File \"/Users/surat/NSTDA/stitchnet/stitchnet/stitchnet/stitchonnx/utils.py\", line 963, in recursive_stitching\n",
      "    newcurr_fragment = stitch_fragments(curr, nextf, data)\n",
      "  File \"/Users/surat/NSTDA/stitchnet/stitchnet/stitchnet/stitchonnx/utils.py\", line 658, in stitch_fragments\n",
      "    nw = adjust_w(tX, tY, w)\n",
      "  File \"/Users/surat/NSTDA/stitchnet/stitchnet/stitchnet/stitchonnx/utils.py\", line 613, in adjust_w\n",
      "    return adjust_w_conv(tX, tY, w)\n",
      "  File \"/Users/surat/NSTDA/stitchnet/stitchnet/stitchnet/stitchonnx/utils.py\", line 590, in adjust_w_conv\n",
      "    tX = up(tX)\n",
      "  File \"/opt/anaconda3/envs/stitchnet/lib/python3.10/site-packages/torch/nn/modules/module.py\", line 1130, in _call_impl\n",
      "    return forward_call(*input, **kwargs)\n",
      "  File \"/opt/anaconda3/envs/stitchnet/lib/python3.10/site-packages/torch/nn/modules/upsampling.py\", line 153, in forward\n",
      "    return F.interpolate(input, self.size, self.scale_factor, self.mode, self.align_corners,\n",
      "  File \"/opt/anaconda3/envs/stitchnet/lib/python3.10/site-packages/torch/nn/functional.py\", line 3854, in interpolate\n",
      "    raise ValueError(\n",
      "ValueError: Input and output must have the same number of spatial dimensions, but got input with with spatial dimensions of [] and output size of (14, 14). Please provide input tensor in (N, C, d1, d2, ...,dK) format and output size in (o1, o2, ...,oK) format.\n"
     ]
    },
    {
     "name": "stdout",
     "output_type": "stream",
     "text": [
      "epoch 0 loss 0.0\n",
      "epoch 1 loss 0.0\n",
      "epoch 2 loss 0.0\n",
      "epoch 3 loss 0.0\n",
      "epoch 4 loss 0.0\n",
      "epoch 5 loss 0.0\n",
      "epoch 6 loss 0.0\n",
      "epoch 7 loss 0.0\n",
      "epoch 8 loss 0.0\n",
      "epoch 9 loss 0.0\n",
      "WARNING: defualt optimization passes will be enlarged to all fuse and elimination passes in the next version\n"
     ]
    },
    {
     "name": "stderr",
     "output_type": "stream",
     "text": [
      "  0%|          | 0/80 [00:00<?, ?it/s]/opt/anaconda3/envs/stitchnet/lib/python3.10/site-packages/onnxruntime/capi/onnxruntime_inference_collection.py:54: UserWarning: Specified provider 'CUDAExecutionProvider' is not in available provider names.Available providers: 'CPUExecutionProvider'\n",
      "  warnings.warn(\n",
      "100%|██████████| 80/80 [01:06<00:00,  1.20it/s]\n"
     ]
    },
    {
     "name": "stdout",
     "output_type": "stream",
     "text": [
      "len(self.fragments) 1\n",
      "saving to _results/result_paper_32_t2/net021_021\n",
      "totalscore 0.8562661032881098\n",
      "epoch 0 loss 0.0\n",
      "epoch 1 loss 0.0\n",
      "epoch 2 loss 0.0\n",
      "epoch 3 loss 0.0\n",
      "epoch 4 loss 0.0\n",
      "epoch 5 loss 0.0\n",
      "epoch 6 loss 0.0\n",
      "epoch 7 loss 0.0\n",
      "epoch 8 loss 0.0\n",
      "epoch 9 loss 0.0\n",
      "WARNING: defualt optimization passes will be enlarged to all fuse and elimination passes in the next version\n",
      "current depth: 7\n"
     ]
    },
    {
     "name": "stderr",
     "output_type": "stream",
     "text": [
      "100%|██████████| 5/5 [00:04<00:00,  1.19it/s]\n"
     ]
    },
    {
     "name": "stdout",
     "output_type": "stream",
     "text": [
      "potential next fragments: 43\n",
      "potential next fragments after thresholding of 0.8: 11 ['0.97', '0.9', '0.88', '0.84', '0.82', '0.81', '0.81', '0.81', '0.81', '0.81', '0.8']\n",
      "totalscore 0.8289565322041867\n",
      "epoch 0 loss 0.0\n",
      "epoch 1 loss 0.0\n",
      "epoch 2 loss 0.0\n",
      "epoch 3 loss 0.0\n",
      "epoch 4 loss 0.0\n",
      "epoch 5 loss 0.0\n",
      "epoch 6 loss 0.0\n",
      "epoch 7 loss 0.0\n",
      "epoch 8 loss 0.0\n",
      "epoch 9 loss 0.0\n",
      "WARNING: defualt optimization passes will be enlarged to all fuse and elimination passes in the next version\n",
      "current depth: 8\n"
     ]
    },
    {
     "name": "stderr",
     "output_type": "stream",
     "text": [
      "100%|██████████| 5/5 [00:04<00:00,  1.17it/s]\n"
     ]
    },
    {
     "name": "stdout",
     "output_type": "stream",
     "text": [
      "potential next fragments: 43\n",
      "potential next fragments after thresholding of 0.8: 5 ['0.93', '0.92', '0.85', '0.83', '0.8']\n",
      "totalscore 0.76703945955657\n",
      "epoch 0 loss 0.0\n",
      "epoch 1 loss 0.0\n",
      "epoch 2 loss 0.0\n",
      "epoch 3 loss 0.0\n",
      "epoch 4 loss 0.0\n",
      "epoch 5 loss 0.0\n",
      "epoch 6 loss 0.0\n",
      "epoch 7 loss 0.0\n",
      "epoch 8 loss 0.0\n",
      "epoch 9 loss 0.0\n",
      "WARNING: defualt optimization passes will be enlarged to all fuse and elimination passes in the next version\n"
     ]
    },
    {
     "name": "stderr",
     "output_type": "stream",
     "text": [
      "  0%|          | 0/80 [00:00<?, ?it/s]/opt/anaconda3/envs/stitchnet/lib/python3.10/site-packages/onnxruntime/capi/onnxruntime_inference_collection.py:54: UserWarning: Specified provider 'CUDAExecutionProvider' is not in available provider names.Available providers: 'CPUExecutionProvider'\n",
      "  warnings.warn(\n",
      "100%|██████████| 80/80 [04:24<00:00,  3.30s/it]\n"
     ]
    },
    {
     "name": "stdout",
     "output_type": "stream",
     "text": [
      "len(self.fragments) 1\n",
      "saving to _results/result_paper_32_t2/net022_022\n",
      "totalscore 0.7650976599328646\n",
      "epoch 0 loss 0.0\n",
      "epoch 1 loss 0.0\n",
      "epoch 2 loss 0.0\n",
      "epoch 3 loss 0.0\n",
      "epoch 4 loss 0.0\n",
      "epoch 5 loss 0.0\n",
      "epoch 6 loss 0.0\n",
      "epoch 7 loss 0.0\n",
      "epoch 8 loss 0.0\n",
      "epoch 9 loss 0.0\n",
      "WARNING: defualt optimization passes will be enlarged to all fuse and elimination passes in the next version\n",
      "current depth: 9\n"
     ]
    },
    {
     "name": "stderr",
     "output_type": "stream",
     "text": [
      "100%|██████████| 5/5 [00:03<00:00,  1.28it/s]\n"
     ]
    },
    {
     "name": "stdout",
     "output_type": "stream",
     "text": [
      "potential next fragments: 5\n",
      "potential next fragments after thresholding of 0.8: 3 ['0.94', '0.82', '0.82']\n",
      "totalscore 0.7190145381970916\n",
      "epoch 0 loss 0.0\n",
      "epoch 1 loss 0.0\n",
      "epoch 2 loss 0.0\n",
      "epoch 3 loss 0.0\n",
      "epoch 4 loss 0.0\n",
      "epoch 5 loss 0.0\n",
      "epoch 6 loss 0.0\n",
      "epoch 7 loss 0.0\n",
      "epoch 8 loss 0.0\n",
      "epoch 9 loss 0.0\n",
      "WARNING: defualt optimization passes will be enlarged to all fuse and elimination passes in the next version\n"
     ]
    },
    {
     "name": "stderr",
     "output_type": "stream",
     "text": [
      "  0%|          | 0/80 [00:00<?, ?it/s]/opt/anaconda3/envs/stitchnet/lib/python3.10/site-packages/onnxruntime/capi/onnxruntime_inference_collection.py:54: UserWarning: Specified provider 'CUDAExecutionProvider' is not in available provider names.Available providers: 'CPUExecutionProvider'\n",
      "  warnings.warn(\n",
      "100%|██████████| 80/80 [01:27<00:00,  1.09s/it]\n"
     ]
    },
    {
     "name": "stdout",
     "output_type": "stream",
     "text": [
      "len(self.fragments) 1\n",
      "saving to _results/result_paper_32_t2/net023_023\n",
      "totalscore 0.6276231416572368\n",
      "epoch 0 loss 0.0\n",
      "epoch 1 loss 0.0\n",
      "epoch 2 loss 0.0\n",
      "epoch 3 loss 0.0\n",
      "epoch 4 loss 0.0\n",
      "epoch 5 loss 0.0\n",
      "epoch 6 loss 0.0\n",
      "epoch 7 loss 0.0\n",
      "epoch 8 loss 0.0\n",
      "epoch 9 loss 0.0\n",
      "WARNING: defualt optimization passes will be enlarged to all fuse and elimination passes in the next version\n"
     ]
    },
    {
     "name": "stderr",
     "output_type": "stream",
     "text": [
      "  0%|          | 0/80 [00:00<?, ?it/s]/opt/anaconda3/envs/stitchnet/lib/python3.10/site-packages/onnxruntime/capi/onnxruntime_inference_collection.py:54: UserWarning: Specified provider 'CUDAExecutionProvider' is not in available provider names.Available providers: 'CPUExecutionProvider'\n",
      "  warnings.warn(\n",
      "100%|██████████| 80/80 [01:16<00:00,  1.04it/s]\n"
     ]
    },
    {
     "name": "stdout",
     "output_type": "stream",
     "text": [
      "len(self.fragments) 1\n",
      "saving to _results/result_paper_32_t2/net024_024\n",
      "totalscore 0.624670186365153\n",
      "epoch 0 loss 0.0\n",
      "epoch 1 loss 0.0\n",
      "epoch 2 loss 0.0\n",
      "epoch 3 loss 0.0\n",
      "epoch 4 loss 0.0\n",
      "epoch 5 loss 0.0\n",
      "epoch 6 loss 0.0\n",
      "epoch 7 loss 0.0\n",
      "epoch 8 loss 0.0\n",
      "epoch 9 loss 0.0\n",
      "WARNING: defualt optimization passes will be enlarged to all fuse and elimination passes in the next version\n"
     ]
    },
    {
     "name": "stderr",
     "output_type": "stream",
     "text": [
      "  0%|          | 0/80 [00:00<?, ?it/s]/opt/anaconda3/envs/stitchnet/lib/python3.10/site-packages/onnxruntime/capi/onnxruntime_inference_collection.py:54: UserWarning: Specified provider 'CUDAExecutionProvider' is not in available provider names.Available providers: 'CPUExecutionProvider'\n",
      "  warnings.warn(\n",
      "100%|██████████| 80/80 [01:17<00:00,  1.04it/s]\n"
     ]
    },
    {
     "name": "stdout",
     "output_type": "stream",
     "text": [
      "len(self.fragments) 1\n",
      "saving to _results/result_paper_32_t2/net025_025\n",
      "totalscore 0.7047572989339008\n",
      "epoch 0 loss 0.0\n",
      "epoch 1 loss 0.0\n",
      "epoch 2 loss 0.0\n",
      "epoch 3 loss 0.0\n",
      "epoch 4 loss 0.0\n",
      "epoch 5 loss 0.0\n",
      "epoch 6 loss 0.0\n",
      "epoch 7 loss 0.0\n",
      "epoch 8 loss 0.0\n",
      "epoch 9 loss 0.0\n",
      "WARNING: defualt optimization passes will be enlarged to all fuse and elimination passes in the next version\n",
      "current depth: 9\n"
     ]
    },
    {
     "name": "stderr",
     "output_type": "stream",
     "text": [
      "100%|██████████| 5/5 [00:04<00:00,  1.14it/s]\n"
     ]
    },
    {
     "name": "stdout",
     "output_type": "stream",
     "text": [
      "potential next fragments: 5\n",
      "potential next fragments after thresholding of 0.8: 5 ['0.97', '0.88', '0.87', '0.85', '0.82']\n",
      "totalscore 0.6848849700304728\n",
      "epoch 0 loss 0.0\n",
      "epoch 1 loss 0.0\n",
      "epoch 2 loss 0.0\n",
      "epoch 3 loss 0.0\n",
      "epoch 4 loss 0.0\n",
      "epoch 5 loss 0.0\n",
      "epoch 6 loss 0.0\n",
      "epoch 7 loss 0.0\n",
      "epoch 8 loss 0.0\n",
      "epoch 9 loss 0.0\n",
      "WARNING: defualt optimization passes will be enlarged to all fuse and elimination passes in the next version\n"
     ]
    },
    {
     "name": "stderr",
     "output_type": "stream",
     "text": [
      "  0%|          | 0/80 [00:00<?, ?it/s]/opt/anaconda3/envs/stitchnet/lib/python3.10/site-packages/onnxruntime/capi/onnxruntime_inference_collection.py:54: UserWarning: Specified provider 'CUDAExecutionProvider' is not in available provider names.Available providers: 'CPUExecutionProvider'\n",
      "  warnings.warn(\n",
      "100%|██████████| 80/80 [01:16<00:00,  1.04it/s]\n"
     ]
    },
    {
     "name": "stdout",
     "output_type": "stream",
     "text": [
      "len(self.fragments) 1\n",
      "saving to _results/result_paper_32_t2/net026_026\n",
      "totalscore 0.6178417256737097\n",
      "epoch 0 loss 0.0\n",
      "epoch 1 loss 0.0\n",
      "epoch 2 loss 0.0\n",
      "epoch 3 loss 0.0\n",
      "epoch 4 loss 0.0\n",
      "epoch 5 loss 0.0\n",
      "epoch 6 loss 0.0\n",
      "epoch 7 loss 0.0\n",
      "epoch 8 loss 0.0\n",
      "epoch 9 loss 0.0\n",
      "WARNING: defualt optimization passes will be enlarged to all fuse and elimination passes in the next version\n"
     ]
    },
    {
     "name": "stderr",
     "output_type": "stream",
     "text": [
      "  0%|          | 0/80 [00:00<?, ?it/s]/opt/anaconda3/envs/stitchnet/lib/python3.10/site-packages/onnxruntime/capi/onnxruntime_inference_collection.py:54: UserWarning: Specified provider 'CUDAExecutionProvider' is not in available provider names.Available providers: 'CPUExecutionProvider'\n",
      "  warnings.warn(\n",
      "100%|██████████| 80/80 [01:19<00:00,  1.01it/s]\n"
     ]
    },
    {
     "name": "stdout",
     "output_type": "stream",
     "text": [
      "len(self.fragments) 1\n",
      "saving to _results/result_paper_32_t2/net027_027\n",
      "totalscore 0.6134841073917368\n",
      "epoch 0 loss 0.0\n",
      "epoch 1 loss 0.0\n",
      "epoch 2 loss 0.0\n",
      "epoch 3 loss 0.0\n",
      "epoch 4 loss 0.0\n",
      "epoch 5 loss 0.0\n",
      "epoch 6 loss 0.0\n",
      "epoch 7 loss 0.0\n",
      "epoch 8 loss 0.0\n",
      "epoch 9 loss 0.0\n",
      "WARNING: defualt optimization passes will be enlarged to all fuse and elimination passes in the next version\n"
     ]
    },
    {
     "name": "stderr",
     "output_type": "stream",
     "text": [
      "  0%|          | 0/80 [00:00<?, ?it/s]/opt/anaconda3/envs/stitchnet/lib/python3.10/site-packages/onnxruntime/capi/onnxruntime_inference_collection.py:54: UserWarning: Specified provider 'CUDAExecutionProvider' is not in available provider names.Available providers: 'CPUExecutionProvider'\n",
      "  warnings.warn(\n",
      "100%|██████████| 80/80 [01:19<00:00,  1.01it/s]\n"
     ]
    },
    {
     "name": "stdout",
     "output_type": "stream",
     "text": [
      "len(self.fragments) 1\n",
      "saving to _results/result_paper_32_t2/net028_028\n",
      "totalscore 0.6005847826715492\n",
      "epoch 0 loss 0.0\n",
      "epoch 1 loss 0.0\n",
      "epoch 2 loss 0.0\n",
      "epoch 3 loss 0.0\n",
      "epoch 4 loss 0.0\n",
      "epoch 5 loss 0.0\n",
      "epoch 6 loss 0.0\n",
      "epoch 7 loss 0.0\n",
      "epoch 8 loss 0.0\n",
      "epoch 9 loss 0.0\n",
      "WARNING: defualt optimization passes will be enlarged to all fuse and elimination passes in the next version\n"
     ]
    },
    {
     "name": "stderr",
     "output_type": "stream",
     "text": [
      "  0%|          | 0/80 [00:00<?, ?it/s]/opt/anaconda3/envs/stitchnet/lib/python3.10/site-packages/onnxruntime/capi/onnxruntime_inference_collection.py:54: UserWarning: Specified provider 'CUDAExecutionProvider' is not in available provider names.Available providers: 'CPUExecutionProvider'\n",
      "  warnings.warn(\n",
      "100%|██████████| 80/80 [01:19<00:00,  1.01it/s]\n"
     ]
    },
    {
     "name": "stdout",
     "output_type": "stream",
     "text": [
      "len(self.fragments) 1\n",
      "saving to _results/result_paper_32_t2/net029_029\n",
      "totalscore 0.6875838353051436\n",
      "epoch 0 loss 0.0\n",
      "epoch 1 loss 0.0\n",
      "epoch 2 loss 0.0\n",
      "epoch 3 loss 0.0\n",
      "epoch 4 loss 0.0\n",
      "epoch 5 loss 0.0\n",
      "epoch 6 loss 0.0\n",
      "epoch 7 loss 0.0\n",
      "epoch 8 loss 0.0\n",
      "epoch 9 loss 0.0\n",
      "WARNING: defualt optimization passes will be enlarged to all fuse and elimination passes in the next version\n"
     ]
    },
    {
     "name": "stderr",
     "output_type": "stream",
     "text": [
      "  0%|          | 0/80 [00:00<?, ?it/s]/opt/anaconda3/envs/stitchnet/lib/python3.10/site-packages/onnxruntime/capi/onnxruntime_inference_collection.py:54: UserWarning: Specified provider 'CUDAExecutionProvider' is not in available provider names.Available providers: 'CPUExecutionProvider'\n",
      "  warnings.warn(\n",
      "100%|██████████| 80/80 [01:17<00:00,  1.03it/s]\n"
     ]
    },
    {
     "name": "stdout",
     "output_type": "stream",
     "text": [
      "len(self.fragments) 1\n",
      "saving to _results/result_paper_32_t2/net030_030\n",
      "totalscore 0.6660070816289211\n",
      "epoch 0 loss 0.0\n",
      "epoch 1 loss 0.0\n",
      "epoch 2 loss 0.0\n",
      "epoch 3 loss 0.0\n",
      "epoch 4 loss 0.0\n",
      "epoch 5 loss 0.0\n",
      "epoch 6 loss 0.0\n",
      "epoch 7 loss 0.0\n",
      "epoch 8 loss 0.0\n",
      "epoch 9 loss 0.0\n",
      "WARNING: defualt optimization passes will be enlarged to all fuse and elimination passes in the next version\n"
     ]
    },
    {
     "name": "stderr",
     "output_type": "stream",
     "text": [
      "  0%|          | 0/80 [00:00<?, ?it/s]/opt/anaconda3/envs/stitchnet/lib/python3.10/site-packages/onnxruntime/capi/onnxruntime_inference_collection.py:54: UserWarning: Specified provider 'CUDAExecutionProvider' is not in available provider names.Available providers: 'CPUExecutionProvider'\n",
      "  warnings.warn(\n",
      "100%|██████████| 80/80 [01:20<00:00,  1.00s/it]\n"
     ]
    },
    {
     "name": "stdout",
     "output_type": "stream",
     "text": [
      "len(self.fragments) 1\n",
      "saving to _results/result_paper_32_t2/net031_031\n",
      "totalscore 0.7692696787748363\n",
      "epoch 0 loss 0.0\n",
      "epoch 1 loss 0.0\n",
      "epoch 2 loss 0.0\n",
      "epoch 3 loss 0.0\n",
      "epoch 4 loss 0.0\n",
      "epoch 5 loss 0.0\n",
      "epoch 6 loss 0.0\n",
      "epoch 7 loss 0.0\n",
      "epoch 8 loss 0.0\n",
      "epoch 9 loss 0.0\n",
      "WARNING: defualt optimization passes will be enlarged to all fuse and elimination passes in the next version\n"
     ]
    },
    {
     "name": "stderr",
     "output_type": "stream",
     "text": [
      "  0%|          | 0/80 [00:00<?, ?it/s]/opt/anaconda3/envs/stitchnet/lib/python3.10/site-packages/onnxruntime/capi/onnxruntime_inference_collection.py:54: UserWarning: Specified provider 'CUDAExecutionProvider' is not in available provider names.Available providers: 'CPUExecutionProvider'\n",
      "  warnings.warn(\n",
      "100%|██████████| 80/80 [01:12<00:00,  1.10it/s]\n"
     ]
    },
    {
     "name": "stdout",
     "output_type": "stream",
     "text": [
      "len(self.fragments) 1\n",
      "saving to _results/result_paper_32_t2/net032_032\n",
      "totalscore 0.7519642108887274\n",
      "epoch 0 loss 0.0\n",
      "epoch 1 loss 0.0\n",
      "epoch 2 loss 0.0\n",
      "epoch 3 loss 0.0\n",
      "epoch 4 loss 0.0\n",
      "epoch 5 loss 0.0\n",
      "epoch 6 loss 0.0\n",
      "epoch 7 loss 0.0\n",
      "epoch 8 loss 0.0\n",
      "epoch 9 loss 0.0\n",
      "WARNING: defualt optimization passes will be enlarged to all fuse and elimination passes in the next version\n",
      "current depth: 8\n"
     ]
    },
    {
     "name": "stderr",
     "output_type": "stream",
     "text": [
      "100%|██████████| 5/5 [00:05<00:00,  1.04s/it]\n"
     ]
    },
    {
     "name": "stdout",
     "output_type": "stream",
     "text": [
      "potential next fragments: 43\n",
      "potential next fragments after thresholding of 0.8: 10 ['0.98', '0.92', '0.9', '0.85', '0.85', '0.82', '0.82', '0.82', '0.82', '0.8']\n",
      "totalscore 0.7341360265083876\n",
      "epoch 0 loss 0.0\n",
      "epoch 1 loss 0.0\n",
      "epoch 2 loss 0.0\n",
      "epoch 3 loss 0.0\n",
      "epoch 4 loss 0.0\n",
      "epoch 5 loss 0.0\n",
      "epoch 6 loss 0.0\n",
      "epoch 7 loss 0.0\n",
      "epoch 8 loss 0.0\n",
      "epoch 9 loss 0.0\n",
      "WARNING: defualt optimization passes will be enlarged to all fuse and elimination passes in the next version\n",
      "current depth: 9\n"
     ]
    },
    {
     "name": "stderr",
     "output_type": "stream",
     "text": [
      "100%|██████████| 5/5 [00:04<00:00,  1.23it/s]\n"
     ]
    },
    {
     "name": "stdout",
     "output_type": "stream",
     "text": [
      "potential next fragments: 5\n",
      "potential next fragments after thresholding of 0.8: 3 ['0.91', '0.83', '0.82']\n",
      "totalscore 0.666973268566727\n",
      "epoch 0 loss 0.0\n",
      "epoch 1 loss 0.0\n",
      "epoch 2 loss 0.0\n",
      "epoch 3 loss 0.0\n",
      "epoch 4 loss 0.0\n",
      "epoch 5 loss 0.0\n",
      "epoch 6 loss 0.0\n",
      "epoch 7 loss 0.0\n",
      "epoch 8 loss 0.0\n",
      "epoch 9 loss 0.0\n",
      "WARNING: defualt optimization passes will be enlarged to all fuse and elimination passes in the next version\n"
     ]
    },
    {
     "name": "stderr",
     "output_type": "stream",
     "text": [
      "  0%|          | 0/80 [00:00<?, ?it/s]/opt/anaconda3/envs/stitchnet/lib/python3.10/site-packages/onnxruntime/capi/onnxruntime_inference_collection.py:54: UserWarning: Specified provider 'CUDAExecutionProvider' is not in available provider names.Available providers: 'CPUExecutionProvider'\n",
      "  warnings.warn(\n",
      "100%|██████████| 80/80 [01:21<00:00,  1.01s/it]\n"
     ]
    },
    {
     "name": "stdout",
     "output_type": "stream",
     "text": [
      "len(self.fragments) 1\n",
      "saving to _results/result_paper_32_t2/net033_033\n",
      "totalscore 0.6115970994109694\n",
      "epoch 0 loss 0.0\n",
      "epoch 1 loss 0.0\n",
      "epoch 2 loss 0.0\n",
      "epoch 3 loss 0.0\n",
      "epoch 4 loss 0.0\n",
      "epoch 5 loss 0.0\n",
      "epoch 6 loss 0.0\n",
      "epoch 7 loss 0.0\n",
      "epoch 8 loss 0.0\n",
      "epoch 9 loss 0.0\n",
      "WARNING: defualt optimization passes will be enlarged to all fuse and elimination passes in the next version\n"
     ]
    },
    {
     "name": "stderr",
     "output_type": "stream",
     "text": [
      "  0%|          | 0/80 [00:00<?, ?it/s]/opt/anaconda3/envs/stitchnet/lib/python3.10/site-packages/onnxruntime/capi/onnxruntime_inference_collection.py:54: UserWarning: Specified provider 'CUDAExecutionProvider' is not in available provider names.Available providers: 'CPUExecutionProvider'\n",
      "  warnings.warn(\n",
      "100%|██████████| 80/80 [01:24<00:00,  1.06s/it]\n"
     ]
    },
    {
     "name": "stdout",
     "output_type": "stream",
     "text": [
      "len(self.fragments) 1\n",
      "saving to _results/result_paper_32_t2/net034_034\n",
      "totalscore 0.6020716134741784\n",
      "epoch 0 loss 0.0\n",
      "epoch 1 loss 0.0\n",
      "epoch 2 loss 0.0\n",
      "epoch 3 loss 0.0\n",
      "epoch 4 loss 0.0\n",
      "epoch 5 loss 0.0\n",
      "epoch 6 loss 0.0\n",
      "epoch 7 loss 0.0\n",
      "epoch 8 loss 0.0\n",
      "epoch 9 loss 0.0\n",
      "WARNING: defualt optimization passes will be enlarged to all fuse and elimination passes in the next version\n"
     ]
    },
    {
     "name": "stderr",
     "output_type": "stream",
     "text": [
      "  0%|          | 0/80 [00:00<?, ?it/s]/opt/anaconda3/envs/stitchnet/lib/python3.10/site-packages/onnxruntime/capi/onnxruntime_inference_collection.py:54: UserWarning: Specified provider 'CUDAExecutionProvider' is not in available provider names.Available providers: 'CPUExecutionProvider'\n",
      "  warnings.warn(\n",
      "100%|██████████| 80/80 [01:21<00:00,  1.02s/it]\n"
     ]
    },
    {
     "name": "stdout",
     "output_type": "stream",
     "text": [
      "len(self.fragments) 1\n",
      "saving to _results/result_paper_32_t2/net035_035\n",
      "totalscore 0.6909245697474082\n",
      "epoch 0 loss 0.0\n",
      "epoch 1 loss 0.0\n",
      "epoch 2 loss 0.0\n",
      "epoch 3 loss 0.0\n",
      "epoch 4 loss 0.0\n",
      "epoch 5 loss 0.0\n",
      "epoch 6 loss 0.0\n",
      "epoch 7 loss 0.0\n",
      "epoch 8 loss 0.0\n",
      "epoch 9 loss 0.0\n",
      "WARNING: defualt optimization passes will be enlarged to all fuse and elimination passes in the next version\n",
      "current depth: 9\n"
     ]
    },
    {
     "name": "stderr",
     "output_type": "stream",
     "text": [
      "100%|██████████| 5/5 [00:04<00:00,  1.10it/s]\n"
     ]
    },
    {
     "name": "stdout",
     "output_type": "stream",
     "text": [
      "potential next fragments: 5\n",
      "potential next fragments after thresholding of 0.8: 2 ['0.93', '0.84']\n",
      "totalscore 0.6392968977400602\n",
      "epoch 0 loss 0.0\n",
      "epoch 1 loss 0.0\n",
      "epoch 2 loss 0.0\n",
      "epoch 3 loss 0.0\n",
      "epoch 4 loss 0.0\n",
      "epoch 5 loss 0.0\n",
      "epoch 6 loss 0.0\n",
      "epoch 7 loss 0.0\n",
      "epoch 8 loss 0.0\n",
      "epoch 9 loss 0.0\n",
      "WARNING: defualt optimization passes will be enlarged to all fuse and elimination passes in the next version\n"
     ]
    },
    {
     "name": "stderr",
     "output_type": "stream",
     "text": [
      "  0%|          | 0/80 [00:00<?, ?it/s]/opt/anaconda3/envs/stitchnet/lib/python3.10/site-packages/onnxruntime/capi/onnxruntime_inference_collection.py:54: UserWarning: Specified provider 'CUDAExecutionProvider' is not in available provider names.Available providers: 'CPUExecutionProvider'\n",
      "  warnings.warn(\n",
      "100%|██████████| 80/80 [01:20<00:00,  1.01s/it]\n"
     ]
    },
    {
     "name": "stdout",
     "output_type": "stream",
     "text": [
      "len(self.fragments) 1\n",
      "saving to _results/result_paper_32_t2/net036_036\n",
      "totalscore 0.6769821486085508\n",
      "epoch 0 loss 0.0\n",
      "epoch 1 loss 0.0\n",
      "epoch 2 loss 0.0\n",
      "epoch 3 loss 0.0\n",
      "epoch 4 loss 0.0\n",
      "epoch 5 loss 0.0\n",
      "epoch 6 loss 0.0\n",
      "epoch 7 loss 0.0\n",
      "epoch 8 loss 0.0\n",
      "epoch 9 loss 0.0\n",
      "WARNING: defualt optimization passes will be enlarged to all fuse and elimination passes in the next version\n"
     ]
    },
    {
     "name": "stderr",
     "output_type": "stream",
     "text": [
      "  0%|          | 0/80 [00:00<?, ?it/s]/opt/anaconda3/envs/stitchnet/lib/python3.10/site-packages/onnxruntime/capi/onnxruntime_inference_collection.py:54: UserWarning: Specified provider 'CUDAExecutionProvider' is not in available provider names.Available providers: 'CPUExecutionProvider'\n",
      "  warnings.warn(\n",
      "100%|██████████| 80/80 [01:15<00:00,  1.06it/s]\n"
     ]
    },
    {
     "name": "stdout",
     "output_type": "stream",
     "text": [
      "len(self.fragments) 1\n",
      "saving to _results/result_paper_32_t2/net037_037\n",
      "totalscore 0.6404608326872856\n",
      "epoch 0 loss 0.0\n",
      "epoch 1 loss 0.0\n",
      "epoch 2 loss 0.0\n",
      "epoch 3 loss 0.0\n",
      "epoch 4 loss 0.0\n",
      "epoch 5 loss 0.0\n",
      "epoch 6 loss 0.0\n",
      "epoch 7 loss 0.0\n",
      "epoch 8 loss 0.0\n",
      "epoch 9 loss 0.0\n",
      "WARNING: defualt optimization passes will be enlarged to all fuse and elimination passes in the next version\n"
     ]
    },
    {
     "name": "stderr",
     "output_type": "stream",
     "text": [
      "  0%|          | 0/80 [00:00<?, ?it/s]/opt/anaconda3/envs/stitchnet/lib/python3.10/site-packages/onnxruntime/capi/onnxruntime_inference_collection.py:54: UserWarning: Specified provider 'CUDAExecutionProvider' is not in available provider names.Available providers: 'CPUExecutionProvider'\n",
      "  warnings.warn(\n",
      "100%|██████████| 80/80 [01:17<00:00,  1.03it/s]\n"
     ]
    },
    {
     "name": "stdout",
     "output_type": "stream",
     "text": [
      "len(self.fragments) 1\n",
      "saving to _results/result_paper_32_t2/net038_038\n",
      "totalscore 0.6398346894686422\n",
      "ERROR Input and output must have the same number of spatial dimensions, but got input with with spatial dimensions of [] and output size of (14, 14). Please provide input tensor in (N, C, d1, d2, ...,dK) format and output size in (o1, o2, ...,oK) format.\n",
      "totalscore 0.6175485177614642\n"
     ]
    },
    {
     "name": "stderr",
     "output_type": "stream",
     "text": [
      "Traceback (most recent call last):\n",
      "  File \"/Users/surat/NSTDA/stitchnet/stitchnet/stitchnet/stitchonnx/utils.py\", line 963, in recursive_stitching\n",
      "    newcurr_fragment = stitch_fragments(curr, nextf, data)\n",
      "  File \"/Users/surat/NSTDA/stitchnet/stitchnet/stitchnet/stitchonnx/utils.py\", line 658, in stitch_fragments\n",
      "    nw = adjust_w(tX, tY, w)\n",
      "  File \"/Users/surat/NSTDA/stitchnet/stitchnet/stitchnet/stitchonnx/utils.py\", line 613, in adjust_w\n",
      "    return adjust_w_conv(tX, tY, w)\n",
      "  File \"/Users/surat/NSTDA/stitchnet/stitchnet/stitchnet/stitchonnx/utils.py\", line 590, in adjust_w_conv\n",
      "    tX = up(tX)\n",
      "  File \"/opt/anaconda3/envs/stitchnet/lib/python3.10/site-packages/torch/nn/modules/module.py\", line 1130, in _call_impl\n",
      "    return forward_call(*input, **kwargs)\n",
      "  File \"/opt/anaconda3/envs/stitchnet/lib/python3.10/site-packages/torch/nn/modules/upsampling.py\", line 153, in forward\n",
      "    return F.interpolate(input, self.size, self.scale_factor, self.mode, self.align_corners,\n",
      "  File \"/opt/anaconda3/envs/stitchnet/lib/python3.10/site-packages/torch/nn/functional.py\", line 3854, in interpolate\n",
      "    raise ValueError(\n",
      "ValueError: Input and output must have the same number of spatial dimensions, but got input with with spatial dimensions of [] and output size of (14, 14). Please provide input tensor in (N, C, d1, d2, ...,dK) format and output size in (o1, o2, ...,oK) format.\n"
     ]
    },
    {
     "name": "stdout",
     "output_type": "stream",
     "text": [
      "ERROR Input and output must have the same number of spatial dimensions, but got input with with spatial dimensions of [] and output size of (14, 14). Please provide input tensor in (N, C, d1, d2, ...,dK) format and output size in (o1, o2, ...,oK) format.\n",
      "totalscore 0.6161186970873094\n"
     ]
    },
    {
     "name": "stderr",
     "output_type": "stream",
     "text": [
      "Traceback (most recent call last):\n",
      "  File \"/Users/surat/NSTDA/stitchnet/stitchnet/stitchnet/stitchonnx/utils.py\", line 963, in recursive_stitching\n",
      "    newcurr_fragment = stitch_fragments(curr, nextf, data)\n",
      "  File \"/Users/surat/NSTDA/stitchnet/stitchnet/stitchnet/stitchonnx/utils.py\", line 658, in stitch_fragments\n",
      "    nw = adjust_w(tX, tY, w)\n",
      "  File \"/Users/surat/NSTDA/stitchnet/stitchnet/stitchnet/stitchonnx/utils.py\", line 613, in adjust_w\n",
      "    return adjust_w_conv(tX, tY, w)\n",
      "  File \"/Users/surat/NSTDA/stitchnet/stitchnet/stitchnet/stitchonnx/utils.py\", line 590, in adjust_w_conv\n",
      "    tX = up(tX)\n",
      "  File \"/opt/anaconda3/envs/stitchnet/lib/python3.10/site-packages/torch/nn/modules/module.py\", line 1130, in _call_impl\n",
      "    return forward_call(*input, **kwargs)\n",
      "  File \"/opt/anaconda3/envs/stitchnet/lib/python3.10/site-packages/torch/nn/modules/upsampling.py\", line 153, in forward\n",
      "    return F.interpolate(input, self.size, self.scale_factor, self.mode, self.align_corners,\n",
      "  File \"/opt/anaconda3/envs/stitchnet/lib/python3.10/site-packages/torch/nn/functional.py\", line 3854, in interpolate\n",
      "    raise ValueError(\n",
      "ValueError: Input and output must have the same number of spatial dimensions, but got input with with spatial dimensions of [] and output size of (14, 14). Please provide input tensor in (N, C, d1, d2, ...,dK) format and output size in (o1, o2, ...,oK) format.\n"
     ]
    },
    {
     "name": "stdout",
     "output_type": "stream",
     "text": [
      "epoch 0 loss 0.0\n",
      "epoch 1 loss 0.0\n",
      "epoch 2 loss 0.0\n",
      "epoch 3 loss 0.0\n",
      "epoch 4 loss 0.0\n",
      "epoch 5 loss 0.0\n",
      "epoch 6 loss 0.0\n",
      "epoch 7 loss 0.0\n",
      "epoch 8 loss 0.0\n",
      "epoch 9 loss 0.0\n",
      "WARNING: defualt optimization passes will be enlarged to all fuse and elimination passes in the next version\n",
      "current depth: 9\n"
     ]
    },
    {
     "name": "stderr",
     "output_type": "stream",
     "text": [
      "100%|██████████| 5/5 [00:06<00:00,  1.36s/it]\n"
     ]
    },
    {
     "name": "stdout",
     "output_type": "stream",
     "text": [
      "potential next fragments: 5\n",
      "potential next fragments after thresholding of 0.8: 5 ['0.94', '0.88', '0.86', '0.85', '0.81']\n",
      "totalscore 0.6156603172235251\n",
      "epoch 0 loss 0.0\n",
      "epoch 1 loss 0.0\n",
      "epoch 2 loss 0.0\n",
      "epoch 3 loss 0.0\n",
      "epoch 4 loss 0.0\n",
      "epoch 5 loss 0.0\n",
      "epoch 6 loss 0.0\n",
      "epoch 7 loss 0.0\n",
      "epoch 8 loss 0.0\n",
      "epoch 9 loss 0.0\n",
      "WARNING: defualt optimization passes will be enlarged to all fuse and elimination passes in the next version\n",
      "current depth: 9\n"
     ]
    },
    {
     "name": "stderr",
     "output_type": "stream",
     "text": [
      "100%|██████████| 5/5 [00:04<00:00,  1.21it/s]\n"
     ]
    },
    {
     "name": "stdout",
     "output_type": "stream",
     "text": [
      "potential next fragments: 5\n",
      "potential next fragments after thresholding of 0.8: 4 ['0.95', '0.87', '0.86', '0.84']\n",
      "totalscore 0.6152416035550522\n",
      "epoch 0 loss 0.0\n",
      "epoch 1 loss 0.0\n",
      "epoch 2 loss 0.0\n",
      "epoch 3 loss 0.0\n",
      "epoch 4 loss 0.0\n",
      "epoch 5 loss 0.0\n",
      "epoch 6 loss 0.0\n",
      "epoch 7 loss 0.0\n",
      "epoch 8 loss 0.0\n",
      "epoch 9 loss 0.0\n",
      "WARNING: defualt optimization passes will be enlarged to all fuse and elimination passes in the next version\n",
      "current depth: 9\n"
     ]
    },
    {
     "name": "stderr",
     "output_type": "stream",
     "text": [
      "100%|██████████| 5/5 [00:03<00:00,  1.25it/s]\n"
     ]
    },
    {
     "name": "stdout",
     "output_type": "stream",
     "text": [
      "potential next fragments: 5\n",
      "potential next fragments after thresholding of 0.8: 5 ['1.0', '0.9', '0.88', '0.86', '0.86']\n",
      "totalscore 0.6148773846282345\n",
      "epoch 0 loss 0.0\n",
      "epoch 1 loss 0.0\n",
      "epoch 2 loss 0.0\n",
      "epoch 3 loss 0.0\n",
      "epoch 4 loss 0.0\n",
      "epoch 5 loss 0.0\n",
      "epoch 6 loss 0.0\n",
      "epoch 7 loss 0.0\n",
      "epoch 8 loss 0.0\n",
      "epoch 9 loss 0.0\n",
      "WARNING: defualt optimization passes will be enlarged to all fuse and elimination passes in the next version\n"
     ]
    },
    {
     "name": "stderr",
     "output_type": "stream",
     "text": [
      "  0%|          | 0/80 [00:00<?, ?it/s]/opt/anaconda3/envs/stitchnet/lib/python3.10/site-packages/onnxruntime/capi/onnxruntime_inference_collection.py:54: UserWarning: Specified provider 'CUDAExecutionProvider' is not in available provider names.Available providers: 'CPUExecutionProvider'\n",
      "  warnings.warn(\n",
      "100%|██████████| 80/80 [01:16<00:00,  1.05it/s]\n"
     ]
    },
    {
     "name": "stdout",
     "output_type": "stream",
     "text": [
      "len(self.fragments) 1\n",
      "saving to _results/result_paper_32_t2/net039_039\n",
      "totalscore 0.6027116127131961\n",
      "ERROR Input and output must have the same number of spatial dimensions, but got input with with spatial dimensions of [] and output size of (13, 13). Please provide input tensor in (N, C, d1, d2, ...,dK) format and output size in (o1, o2, ...,oK) format.\n",
      "totalscore 0.7169776395807806\n"
     ]
    },
    {
     "name": "stderr",
     "output_type": "stream",
     "text": [
      "Traceback (most recent call last):\n",
      "  File \"/Users/surat/NSTDA/stitchnet/stitchnet/stitchnet/stitchonnx/utils.py\", line 963, in recursive_stitching\n",
      "    newcurr_fragment = stitch_fragments(curr, nextf, data)\n",
      "  File \"/Users/surat/NSTDA/stitchnet/stitchnet/stitchnet/stitchonnx/utils.py\", line 658, in stitch_fragments\n",
      "    nw = adjust_w(tX, tY, w)\n",
      "  File \"/Users/surat/NSTDA/stitchnet/stitchnet/stitchnet/stitchonnx/utils.py\", line 613, in adjust_w\n",
      "    return adjust_w_conv(tX, tY, w)\n",
      "  File \"/Users/surat/NSTDA/stitchnet/stitchnet/stitchnet/stitchonnx/utils.py\", line 590, in adjust_w_conv\n",
      "    tX = up(tX)\n",
      "  File \"/opt/anaconda3/envs/stitchnet/lib/python3.10/site-packages/torch/nn/modules/module.py\", line 1130, in _call_impl\n",
      "    return forward_call(*input, **kwargs)\n",
      "  File \"/opt/anaconda3/envs/stitchnet/lib/python3.10/site-packages/torch/nn/modules/upsampling.py\", line 153, in forward\n",
      "    return F.interpolate(input, self.size, self.scale_factor, self.mode, self.align_corners,\n",
      "  File \"/opt/anaconda3/envs/stitchnet/lib/python3.10/site-packages/torch/nn/functional.py\", line 3854, in interpolate\n",
      "    raise ValueError(\n",
      "ValueError: Input and output must have the same number of spatial dimensions, but got input with with spatial dimensions of [] and output size of (13, 13). Please provide input tensor in (N, C, d1, d2, ...,dK) format and output size in (o1, o2, ...,oK) format.\n"
     ]
    },
    {
     "name": "stdout",
     "output_type": "stream",
     "text": [
      "epoch 0 loss 0.0\n",
      "epoch 1 loss 0.0\n",
      "epoch 2 loss 0.0\n",
      "epoch 3 loss 0.0\n",
      "epoch 4 loss 0.0\n",
      "epoch 5 loss 0.0\n",
      "epoch 6 loss 0.0\n",
      "epoch 7 loss 0.0\n",
      "epoch 8 loss 0.0\n",
      "epoch 9 loss 0.0\n",
      "WARNING: defualt optimization passes will be enlarged to all fuse and elimination passes in the next version\n",
      "current depth: 8\n"
     ]
    },
    {
     "name": "stderr",
     "output_type": "stream",
     "text": [
      "100%|██████████| 5/5 [00:04<00:00,  1.03it/s]\n"
     ]
    },
    {
     "name": "stdout",
     "output_type": "stream",
     "text": [
      "potential next fragments: 43\n",
      "potential next fragments after thresholding of 0.8: 7 ['0.96', '0.94', '0.89', '0.87', '0.86', '0.82', '0.81']\n",
      "totalscore 0.6915510517608603\n",
      "epoch 0 loss 0.0\n",
      "epoch 1 loss 0.0\n",
      "epoch 2 loss 0.0\n",
      "epoch 3 loss 0.0\n",
      "epoch 4 loss 0.0\n",
      "epoch 5 loss 0.0\n",
      "epoch 6 loss 0.0\n",
      "epoch 7 loss 0.0\n",
      "epoch 8 loss 0.0\n",
      "epoch 9 loss 0.0\n",
      "WARNING: defualt optimization passes will be enlarged to all fuse and elimination passes in the next version\n"
     ]
    },
    {
     "name": "stderr",
     "output_type": "stream",
     "text": [
      "  0%|          | 0/80 [00:00<?, ?it/s]/opt/anaconda3/envs/stitchnet/lib/python3.10/site-packages/onnxruntime/capi/onnxruntime_inference_collection.py:54: UserWarning: Specified provider 'CUDAExecutionProvider' is not in available provider names.Available providers: 'CPUExecutionProvider'\n",
      "  warnings.warn(\n",
      "100%|██████████| 80/80 [01:13<00:00,  1.08it/s]\n"
     ]
    },
    {
     "name": "stdout",
     "output_type": "stream",
     "text": [
      "len(self.fragments) 1\n",
      "saving to _results/result_paper_32_t2/net040_040\n",
      "totalscore 0.6738984237216413\n",
      "epoch 0 loss 0.0\n",
      "epoch 1 loss 0.0\n",
      "epoch 2 loss 0.0\n",
      "epoch 3 loss 0.0\n",
      "epoch 4 loss 0.0\n",
      "epoch 5 loss 0.0\n",
      "epoch 6 loss 0.0\n",
      "epoch 7 loss 0.0\n",
      "epoch 8 loss 0.0\n",
      "epoch 9 loss 0.0\n",
      "WARNING: defualt optimization passes will be enlarged to all fuse and elimination passes in the next version\n",
      "current depth: 9\n"
     ]
    },
    {
     "name": "stderr",
     "output_type": "stream",
     "text": [
      "100%|██████████| 5/5 [00:04<00:00,  1.09it/s]\n"
     ]
    },
    {
     "name": "stdout",
     "output_type": "stream",
     "text": [
      "potential next fragments: 5\n",
      "potential next fragments after thresholding of 0.8: 5 ['0.98', '0.89', '0.86', '0.85', '0.82']\n",
      "totalscore 0.6583645360009955\n",
      "epoch 0 loss 0.0\n",
      "epoch 1 loss 0.0\n",
      "epoch 2 loss 0.0\n",
      "epoch 3 loss 0.0\n",
      "epoch 4 loss 0.0\n",
      "epoch 5 loss 0.0\n",
      "epoch 6 loss 0.0\n",
      "epoch 7 loss 0.0\n",
      "epoch 8 loss 0.0\n",
      "epoch 9 loss 0.0\n",
      "WARNING: defualt optimization passes will be enlarged to all fuse and elimination passes in the next version\n"
     ]
    },
    {
     "name": "stderr",
     "output_type": "stream",
     "text": [
      "  0%|          | 0/80 [00:00<?, ?it/s]/opt/anaconda3/envs/stitchnet/lib/python3.10/site-packages/onnxruntime/capi/onnxruntime_inference_collection.py:54: UserWarning: Specified provider 'CUDAExecutionProvider' is not in available provider names.Available providers: 'CPUExecutionProvider'\n",
      "  warnings.warn(\n",
      "100%|██████████| 80/80 [01:17<00:00,  1.04it/s]\n"
     ]
    },
    {
     "name": "stdout",
     "output_type": "stream",
     "text": [
      "len(self.fragments) 1\n",
      "saving to _results/result_paper_32_t2/net041_041\n",
      "totalscore 0.6381591489771993\n",
      "epoch 0 loss 0.0\n",
      "epoch 1 loss 0.0\n",
      "epoch 2 loss 0.0\n",
      "epoch 3 loss 0.0\n",
      "epoch 4 loss 0.0\n",
      "epoch 5 loss 0.0\n",
      "epoch 6 loss 0.0\n",
      "epoch 7 loss 0.0\n",
      "epoch 8 loss 0.0\n",
      "epoch 9 loss 0.0\n",
      "WARNING: defualt optimization passes will be enlarged to all fuse and elimination passes in the next version\n"
     ]
    },
    {
     "name": "stderr",
     "output_type": "stream",
     "text": [
      "  0%|          | 0/80 [00:00<?, ?it/s]/opt/anaconda3/envs/stitchnet/lib/python3.10/site-packages/onnxruntime/capi/onnxruntime_inference_collection.py:54: UserWarning: Specified provider 'CUDAExecutionProvider' is not in available provider names.Available providers: 'CPUExecutionProvider'\n",
      "  warnings.warn(\n",
      "100%|██████████| 80/80 [01:17<00:00,  1.03it/s]\n"
     ]
    },
    {
     "name": "stdout",
     "output_type": "stream",
     "text": [
      "len(self.fragments) 1\n",
      "saving to _results/result_paper_32_t2/net042_042\n",
      "totalscore 0.6206162649252094\n",
      "epoch 0 loss 0.0\n",
      "epoch 1 loss 0.0\n",
      "epoch 2 loss 0.0\n",
      "epoch 3 loss 0.0\n",
      "epoch 4 loss 0.0\n",
      "epoch 5 loss 0.0\n",
      "epoch 6 loss 0.0\n",
      "epoch 7 loss 0.0\n",
      "epoch 8 loss 0.0\n",
      "epoch 9 loss 0.0\n",
      "WARNING: defualt optimization passes will be enlarged to all fuse and elimination passes in the next version\n"
     ]
    },
    {
     "name": "stderr",
     "output_type": "stream",
     "text": [
      "  0%|          | 0/80 [00:00<?, ?it/s]/opt/anaconda3/envs/stitchnet/lib/python3.10/site-packages/onnxruntime/capi/onnxruntime_inference_collection.py:54: UserWarning: Specified provider 'CUDAExecutionProvider' is not in available provider names.Available providers: 'CPUExecutionProvider'\n",
      "  warnings.warn(\n",
      "100%|██████████| 80/80 [01:21<00:00,  1.02s/it]\n"
     ]
    },
    {
     "name": "stdout",
     "output_type": "stream",
     "text": [
      "len(self.fragments) 1\n",
      "saving to _results/result_paper_32_t2/net043_043\n",
      "totalscore 0.6142721821182999\n",
      "epoch 0 loss 0.0\n",
      "epoch 1 loss 0.0\n",
      "epoch 2 loss 0.0\n",
      "epoch 3 loss 0.0\n",
      "epoch 4 loss 0.0\n",
      "epoch 5 loss 0.0\n",
      "epoch 6 loss 0.0\n",
      "epoch 7 loss 0.0\n",
      "epoch 8 loss 0.0\n",
      "epoch 9 loss 0.0\n",
      "WARNING: defualt optimization passes will be enlarged to all fuse and elimination passes in the next version\n"
     ]
    },
    {
     "name": "stderr",
     "output_type": "stream",
     "text": [
      "  0%|          | 0/80 [00:00<?, ?it/s]/opt/anaconda3/envs/stitchnet/lib/python3.10/site-packages/onnxruntime/capi/onnxruntime_inference_collection.py:54: UserWarning: Specified provider 'CUDAExecutionProvider' is not in available provider names.Available providers: 'CPUExecutionProvider'\n",
      "  warnings.warn(\n",
      "100%|██████████| 80/80 [01:18<00:00,  1.02it/s]\n"
     ]
    },
    {
     "name": "stdout",
     "output_type": "stream",
     "text": [
      "len(self.fragments) 1\n",
      "saving to _results/result_paper_32_t2/net044_044\n",
      "totalscore 0.7007984658526156\n",
      "epoch 0 loss 0.0\n",
      "epoch 1 loss 0.0\n",
      "epoch 2 loss 0.0\n",
      "epoch 3 loss 0.0\n",
      "epoch 4 loss 0.0\n",
      "epoch 5 loss 0.0\n",
      "epoch 6 loss 0.0\n",
      "epoch 7 loss 0.0\n",
      "epoch 8 loss 0.0\n",
      "epoch 9 loss 0.0\n",
      "WARNING: defualt optimization passes will be enlarged to all fuse and elimination passes in the next version\n"
     ]
    },
    {
     "name": "stderr",
     "output_type": "stream",
     "text": [
      "  0%|          | 0/80 [00:00<?, ?it/s]/opt/anaconda3/envs/stitchnet/lib/python3.10/site-packages/onnxruntime/capi/onnxruntime_inference_collection.py:54: UserWarning: Specified provider 'CUDAExecutionProvider' is not in available provider names.Available providers: 'CPUExecutionProvider'\n",
      "  warnings.warn(\n",
      "100%|██████████| 80/80 [01:09<00:00,  1.14it/s]\n"
     ]
    },
    {
     "name": "stdout",
     "output_type": "stream",
     "text": [
      "len(self.fragments) 1\n",
      "saving to _results/result_paper_32_t2/net045_045\n",
      "totalscore 0.696146607627133\n",
      "ERROR Input and output must have the same number of spatial dimensions, but got input with with spatial dimensions of [] and output size of (14, 14). Please provide input tensor in (N, C, d1, d2, ...,dK) format and output size in (o1, o2, ...,oK) format.\n",
      "totalscore 0.6944828892584248\n"
     ]
    },
    {
     "name": "stderr",
     "output_type": "stream",
     "text": [
      "Traceback (most recent call last):\n",
      "  File \"/Users/surat/NSTDA/stitchnet/stitchnet/stitchnet/stitchonnx/utils.py\", line 963, in recursive_stitching\n",
      "    newcurr_fragment = stitch_fragments(curr, nextf, data)\n",
      "  File \"/Users/surat/NSTDA/stitchnet/stitchnet/stitchnet/stitchonnx/utils.py\", line 658, in stitch_fragments\n",
      "    nw = adjust_w(tX, tY, w)\n",
      "  File \"/Users/surat/NSTDA/stitchnet/stitchnet/stitchnet/stitchonnx/utils.py\", line 613, in adjust_w\n",
      "    return adjust_w_conv(tX, tY, w)\n",
      "  File \"/Users/surat/NSTDA/stitchnet/stitchnet/stitchnet/stitchonnx/utils.py\", line 590, in adjust_w_conv\n",
      "    tX = up(tX)\n",
      "  File \"/opt/anaconda3/envs/stitchnet/lib/python3.10/site-packages/torch/nn/modules/module.py\", line 1130, in _call_impl\n",
      "    return forward_call(*input, **kwargs)\n",
      "  File \"/opt/anaconda3/envs/stitchnet/lib/python3.10/site-packages/torch/nn/modules/upsampling.py\", line 153, in forward\n",
      "    return F.interpolate(input, self.size, self.scale_factor, self.mode, self.align_corners,\n",
      "  File \"/opt/anaconda3/envs/stitchnet/lib/python3.10/site-packages/torch/nn/functional.py\", line 3854, in interpolate\n",
      "    raise ValueError(\n",
      "ValueError: Input and output must have the same number of spatial dimensions, but got input with with spatial dimensions of [] and output size of (14, 14). Please provide input tensor in (N, C, d1, d2, ...,dK) format and output size in (o1, o2, ...,oK) format.\n"
     ]
    },
    {
     "name": "stdout",
     "output_type": "stream",
     "text": [
      "ERROR Input and output must have the same number of spatial dimensions, but got input with with spatial dimensions of [] and output size of (13, 13). Please provide input tensor in (N, C, d1, d2, ...,dK) format and output size in (o1, o2, ...,oK) format.\n",
      "totalscore 0.693755707857193\n"
     ]
    },
    {
     "name": "stderr",
     "output_type": "stream",
     "text": [
      "Traceback (most recent call last):\n",
      "  File \"/Users/surat/NSTDA/stitchnet/stitchnet/stitchnet/stitchonnx/utils.py\", line 963, in recursive_stitching\n",
      "    newcurr_fragment = stitch_fragments(curr, nextf, data)\n",
      "  File \"/Users/surat/NSTDA/stitchnet/stitchnet/stitchnet/stitchonnx/utils.py\", line 658, in stitch_fragments\n",
      "    nw = adjust_w(tX, tY, w)\n",
      "  File \"/Users/surat/NSTDA/stitchnet/stitchnet/stitchnet/stitchonnx/utils.py\", line 613, in adjust_w\n",
      "    return adjust_w_conv(tX, tY, w)\n",
      "  File \"/Users/surat/NSTDA/stitchnet/stitchnet/stitchnet/stitchonnx/utils.py\", line 590, in adjust_w_conv\n",
      "    tX = up(tX)\n",
      "  File \"/opt/anaconda3/envs/stitchnet/lib/python3.10/site-packages/torch/nn/modules/module.py\", line 1130, in _call_impl\n",
      "    return forward_call(*input, **kwargs)\n",
      "  File \"/opt/anaconda3/envs/stitchnet/lib/python3.10/site-packages/torch/nn/modules/upsampling.py\", line 153, in forward\n",
      "    return F.interpolate(input, self.size, self.scale_factor, self.mode, self.align_corners,\n",
      "  File \"/opt/anaconda3/envs/stitchnet/lib/python3.10/site-packages/torch/nn/functional.py\", line 3854, in interpolate\n",
      "    raise ValueError(\n",
      "ValueError: Input and output must have the same number of spatial dimensions, but got input with with spatial dimensions of [] and output size of (13, 13). Please provide input tensor in (N, C, d1, d2, ...,dK) format and output size in (o1, o2, ...,oK) format.\n"
     ]
    },
    {
     "name": "stdout",
     "output_type": "stream",
     "text": [
      "ERROR Input and output must have the same number of spatial dimensions, but got input with with spatial dimensions of [] and output size of (13, 13). Please provide input tensor in (N, C, d1, d2, ...,dK) format and output size in (o1, o2, ...,oK) format.\n",
      "totalscore 0.6937494812898888\n"
     ]
    },
    {
     "name": "stderr",
     "output_type": "stream",
     "text": [
      "Traceback (most recent call last):\n",
      "  File \"/Users/surat/NSTDA/stitchnet/stitchnet/stitchnet/stitchonnx/utils.py\", line 963, in recursive_stitching\n",
      "    newcurr_fragment = stitch_fragments(curr, nextf, data)\n",
      "  File \"/Users/surat/NSTDA/stitchnet/stitchnet/stitchnet/stitchonnx/utils.py\", line 658, in stitch_fragments\n",
      "    nw = adjust_w(tX, tY, w)\n",
      "  File \"/Users/surat/NSTDA/stitchnet/stitchnet/stitchnet/stitchonnx/utils.py\", line 613, in adjust_w\n",
      "    return adjust_w_conv(tX, tY, w)\n",
      "  File \"/Users/surat/NSTDA/stitchnet/stitchnet/stitchnet/stitchonnx/utils.py\", line 590, in adjust_w_conv\n",
      "    tX = up(tX)\n",
      "  File \"/opt/anaconda3/envs/stitchnet/lib/python3.10/site-packages/torch/nn/modules/module.py\", line 1130, in _call_impl\n",
      "    return forward_call(*input, **kwargs)\n",
      "  File \"/opt/anaconda3/envs/stitchnet/lib/python3.10/site-packages/torch/nn/modules/upsampling.py\", line 153, in forward\n",
      "    return F.interpolate(input, self.size, self.scale_factor, self.mode, self.align_corners,\n",
      "  File \"/opt/anaconda3/envs/stitchnet/lib/python3.10/site-packages/torch/nn/functional.py\", line 3854, in interpolate\n",
      "    raise ValueError(\n",
      "ValueError: Input and output must have the same number of spatial dimensions, but got input with with spatial dimensions of [] and output size of (13, 13). Please provide input tensor in (N, C, d1, d2, ...,dK) format and output size in (o1, o2, ...,oK) format.\n"
     ]
    },
    {
     "name": "stdout",
     "output_type": "stream",
     "text": [
      "epoch 0 loss 0.0\n",
      "epoch 1 loss 0.0\n",
      "epoch 2 loss 0.0\n",
      "epoch 3 loss 0.0\n",
      "epoch 4 loss 0.0\n",
      "epoch 5 loss 0.0\n",
      "epoch 6 loss 0.0\n",
      "epoch 7 loss 0.0\n",
      "epoch 8 loss 0.0\n",
      "epoch 9 loss 0.0\n",
      "WARNING: defualt optimization passes will be enlarged to all fuse and elimination passes in the next version\n",
      "current depth: 8\n"
     ]
    },
    {
     "name": "stderr",
     "output_type": "stream",
     "text": [
      "100%|██████████| 5/5 [00:05<00:00,  1.03s/it]\n"
     ]
    },
    {
     "name": "stdout",
     "output_type": "stream",
     "text": [
      "potential next fragments: 43\n",
      "potential next fragments after thresholding of 0.8: 9 ['1.0', '0.95', '0.89', '0.87', '0.87', '0.87', '0.85', '0.83', '0.82']\n",
      "totalscore 0.6931805784776709\n",
      "epoch 0 loss 0.0\n",
      "epoch 1 loss 0.0\n",
      "epoch 2 loss 0.0\n",
      "epoch 3 loss 0.0\n",
      "epoch 4 loss 0.0\n",
      "epoch 5 loss 0.0\n",
      "epoch 6 loss 0.0\n",
      "epoch 7 loss 0.0\n",
      "epoch 8 loss 0.0\n",
      "epoch 9 loss 0.0\n",
      "WARNING: defualt optimization passes will be enlarged to all fuse and elimination passes in the next version\n"
     ]
    },
    {
     "name": "stderr",
     "output_type": "stream",
     "text": [
      "  0%|          | 0/80 [00:00<?, ?it/s]/opt/anaconda3/envs/stitchnet/lib/python3.10/site-packages/onnxruntime/capi/onnxruntime_inference_collection.py:54: UserWarning: Specified provider 'CUDAExecutionProvider' is not in available provider names.Available providers: 'CPUExecutionProvider'\n",
      "  warnings.warn(\n",
      "100%|██████████| 80/80 [01:14<00:00,  1.07it/s]\n"
     ]
    },
    {
     "name": "stdout",
     "output_type": "stream",
     "text": [
      "len(self.fragments) 1\n",
      "saving to _results/result_paper_32_t2/net046_046\n",
      "totalscore 0.6566788345580652\n",
      "epoch 0 loss 0.0\n",
      "epoch 1 loss 0.0\n",
      "epoch 2 loss 0.0\n",
      "epoch 3 loss 0.0\n",
      "epoch 4 loss 0.0\n",
      "epoch 5 loss 0.0\n",
      "epoch 6 loss 0.0\n",
      "epoch 7 loss 0.0\n",
      "epoch 8 loss 0.0\n",
      "epoch 9 loss 0.0\n",
      "WARNING: defualt optimization passes will be enlarged to all fuse and elimination passes in the next version\n",
      "current depth: 9\n"
     ]
    },
    {
     "name": "stderr",
     "output_type": "stream",
     "text": [
      "100%|██████████| 5/5 [00:04<00:00,  1.02it/s]\n"
     ]
    },
    {
     "name": "stdout",
     "output_type": "stream",
     "text": [
      "potential next fragments: 5\n",
      "potential next fragments after thresholding of 0.8: 5 ['1.0', '0.89', '0.88', '0.86', '0.83']\n",
      "totalscore 0.656247029847269\n",
      "epoch 0 loss 0.0\n",
      "epoch 1 loss 0.0\n",
      "epoch 2 loss 0.0\n",
      "epoch 3 loss 0.0\n",
      "epoch 4 loss 0.0\n",
      "epoch 5 loss 0.0\n",
      "epoch 6 loss 0.0\n",
      "epoch 7 loss 0.0\n",
      "epoch 8 loss 0.0\n",
      "epoch 9 loss 0.0\n",
      "WARNING: defualt optimization passes will be enlarged to all fuse and elimination passes in the next version\n"
     ]
    },
    {
     "name": "stderr",
     "output_type": "stream",
     "text": [
      "  0%|          | 0/80 [00:00<?, ?it/s]/opt/anaconda3/envs/stitchnet/lib/python3.10/site-packages/onnxruntime/capi/onnxruntime_inference_collection.py:54: UserWarning: Specified provider 'CUDAExecutionProvider' is not in available provider names.Available providers: 'CPUExecutionProvider'\n",
      "  warnings.warn(\n",
      "100%|██████████| 80/80 [01:12<00:00,  1.10it/s]\n"
     ]
    },
    {
     "name": "stdout",
     "output_type": "stream",
     "text": [
      "len(self.fragments) 1\n",
      "saving to _results/result_paper_32_t2/net047_047\n",
      "totalscore 0.6202708326558529\n",
      "epoch 0 loss 0.0\n",
      "epoch 1 loss 0.0\n",
      "epoch 2 loss 0.0\n",
      "epoch 3 loss 0.0\n",
      "epoch 4 loss 0.0\n",
      "epoch 5 loss 0.0\n",
      "epoch 6 loss 0.0\n",
      "epoch 7 loss 0.0\n",
      "epoch 8 loss 0.0\n",
      "epoch 9 loss 0.0\n",
      "WARNING: defualt optimization passes will be enlarged to all fuse and elimination passes in the next version\n"
     ]
    },
    {
     "name": "stderr",
     "output_type": "stream",
     "text": [
      "  0%|          | 0/80 [00:00<?, ?it/s]/opt/anaconda3/envs/stitchnet/lib/python3.10/site-packages/onnxruntime/capi/onnxruntime_inference_collection.py:54: UserWarning: Specified provider 'CUDAExecutionProvider' is not in available provider names.Available providers: 'CPUExecutionProvider'\n",
      "  warnings.warn(\n",
      "100%|██████████| 80/80 [01:09<00:00,  1.15it/s]\n"
     ]
    },
    {
     "name": "stdout",
     "output_type": "stream",
     "text": [
      "len(self.fragments) 1\n",
      "saving to _results/result_paper_32_t2/net048_048\n",
      "totalscore 0.606382748093104\n",
      "epoch 0 loss 0.0\n",
      "epoch 1 loss 0.0\n",
      "epoch 2 loss 0.0\n",
      "epoch 3 loss 0.0\n",
      "epoch 4 loss 0.0\n",
      "epoch 5 loss 0.0\n",
      "epoch 6 loss 0.0\n",
      "epoch 7 loss 0.0\n",
      "epoch 8 loss 0.0\n",
      "epoch 9 loss 0.0\n",
      "WARNING: defualt optimization passes will be enlarged to all fuse and elimination passes in the next version\n"
     ]
    },
    {
     "name": "stderr",
     "output_type": "stream",
     "text": [
      "  0%|          | 0/80 [00:00<?, ?it/s]/opt/anaconda3/envs/stitchnet/lib/python3.10/site-packages/onnxruntime/capi/onnxruntime_inference_collection.py:54: UserWarning: Specified provider 'CUDAExecutionProvider' is not in available provider names.Available providers: 'CPUExecutionProvider'\n",
      "  warnings.warn(\n",
      "100%|██████████| 80/80 [01:11<00:00,  1.12it/s]\n"
     ]
    },
    {
     "name": "stdout",
     "output_type": "stream",
     "text": [
      "len(self.fragments) 1\n",
      "saving to _results/result_paper_32_t2/net049_049\n",
      "totalscore 0.6033615011769908\n",
      "epoch 0 loss 0.0\n",
      "epoch 1 loss 0.0\n",
      "epoch 2 loss 0.0\n",
      "epoch 3 loss 0.0\n",
      "epoch 4 loss 0.0\n",
      "epoch 5 loss 0.0\n",
      "epoch 6 loss 0.0\n",
      "epoch 7 loss 0.0\n",
      "epoch 8 loss 0.0\n",
      "epoch 9 loss 0.0\n",
      "WARNING: defualt optimization passes will be enlarged to all fuse and elimination passes in the next version\n",
      "current depth: 9\n"
     ]
    },
    {
     "name": "stderr",
     "output_type": "stream",
     "text": [
      "100%|██████████| 5/5 [00:04<00:00,  1.03it/s]\n"
     ]
    },
    {
     "name": "stdout",
     "output_type": "stream",
     "text": [
      "potential next fragments: 5\n",
      "potential next fragments after thresholding of 0.8: 5 ['0.97', '0.89', '0.86', '0.86', '0.82']\n",
      "totalscore 0.6010060003923435\n",
      "epoch 0 loss 0.0\n",
      "epoch 1 loss 0.0\n",
      "epoch 2 loss 0.0\n",
      "epoch 3 loss 0.0\n",
      "epoch 4 loss 0.0\n",
      "epoch 5 loss 0.0\n",
      "epoch 6 loss 0.0\n",
      "epoch 7 loss 0.0\n",
      "epoch 8 loss 0.0\n",
      "epoch 9 loss 0.0\n",
      "WARNING: defualt optimization passes will be enlarged to all fuse and elimination passes in the next version\n"
     ]
    },
    {
     "name": "stderr",
     "output_type": "stream",
     "text": [
      "  0%|          | 0/80 [00:00<?, ?it/s]/opt/anaconda3/envs/stitchnet/lib/python3.10/site-packages/onnxruntime/capi/onnxruntime_inference_collection.py:54: UserWarning: Specified provider 'CUDAExecutionProvider' is not in available provider names.Available providers: 'CPUExecutionProvider'\n",
      "  warnings.warn(\n",
      "100%|██████████| 80/80 [01:12<00:00,  1.10it/s]\n"
     ]
    },
    {
     "name": "stdout",
     "output_type": "stream",
     "text": [
      "len(self.fragments) 1\n",
      "saving to _results/result_paper_32_t2/net050_050\n",
      "totalscore 0.6907504194216136\n",
      "epoch 0 loss 0.0\n",
      "epoch 1 loss 0.0\n",
      "epoch 2 loss 0.0\n",
      "epoch 3 loss 0.0\n",
      "epoch 4 loss 0.0\n",
      "epoch 5 loss 0.0\n",
      "epoch 6 loss 0.0\n",
      "epoch 7 loss 0.0\n",
      "epoch 8 loss 0.0\n",
      "epoch 9 loss 0.0\n",
      "WARNING: defualt optimization passes will be enlarged to all fuse and elimination passes in the next version\n",
      "current depth: 8\n"
     ]
    },
    {
     "name": "stderr",
     "output_type": "stream",
     "text": [
      "100%|██████████| 5/5 [00:04<00:00,  1.10it/s]\n"
     ]
    },
    {
     "name": "stdout",
     "output_type": "stream",
     "text": [
      "potential next fragments: 43\n",
      "potential next fragments after thresholding of 0.8: 8 ['0.97', '0.94', '0.88', '0.87', '0.87', '0.83', '0.82', '0.82']\n",
      "totalscore 0.6710724173793617\n",
      "epoch 0 loss 0.0\n",
      "epoch 1 loss 0.0\n",
      "epoch 2 loss 0.0\n",
      "epoch 3 loss 0.0\n",
      "epoch 4 loss 0.0\n",
      "epoch 5 loss 0.0\n",
      "epoch 6 loss 0.0\n",
      "epoch 7 loss 0.0\n",
      "epoch 8 loss 0.0\n",
      "epoch 9 loss 0.0\n",
      "WARNING: defualt optimization passes will be enlarged to all fuse and elimination passes in the next version\n",
      "current depth: 9\n"
     ]
    },
    {
     "name": "stderr",
     "output_type": "stream",
     "text": [
      "100%|██████████| 5/5 [00:03<00:00,  1.30it/s]\n"
     ]
    },
    {
     "name": "stdout",
     "output_type": "stream",
     "text": [
      "potential next fragments: 5\n",
      "potential next fragments after thresholding of 0.8: 5 ['0.97', '0.87', '0.86', '0.84', '0.8']\n",
      "totalscore 0.6528906969074159\n",
      "epoch 0 loss 0.0\n",
      "epoch 1 loss 0.0\n",
      "epoch 2 loss 0.0\n",
      "epoch 3 loss 0.0\n",
      "epoch 4 loss 0.0\n",
      "epoch 5 loss 0.0\n",
      "epoch 6 loss 0.0\n",
      "epoch 7 loss 0.0\n",
      "epoch 8 loss 0.0\n",
      "epoch 9 loss 0.0\n",
      "WARNING: defualt optimization passes will be enlarged to all fuse and elimination passes in the next version\n"
     ]
    },
    {
     "name": "stderr",
     "output_type": "stream",
     "text": [
      "  0%|          | 0/80 [00:00<?, ?it/s]/opt/anaconda3/envs/stitchnet/lib/python3.10/site-packages/onnxruntime/capi/onnxruntime_inference_collection.py:54: UserWarning: Specified provider 'CUDAExecutionProvider' is not in available provider names.Available providers: 'CPUExecutionProvider'\n",
      "  warnings.warn(\n",
      "100%|██████████| 80/80 [01:27<00:00,  1.10s/it]\n"
     ]
    },
    {
     "name": "stdout",
     "output_type": "stream",
     "text": [
      "len(self.fragments) 1\n",
      "saving to _results/result_paper_32_t2/net051_051\n",
      "totalscore 0.652682273413176\n",
      "epoch 0 loss 0.0\n",
      "epoch 1 loss 0.0\n",
      "epoch 2 loss 0.0\n",
      "epoch 3 loss 0.0\n",
      "epoch 4 loss 0.0\n",
      "epoch 5 loss 0.0\n",
      "epoch 6 loss 0.0\n",
      "epoch 7 loss 0.0\n",
      "epoch 8 loss 0.0\n",
      "epoch 9 loss 0.0\n",
      "WARNING: defualt optimization passes will be enlarged to all fuse and elimination passes in the next version\n"
     ]
    },
    {
     "name": "stderr",
     "output_type": "stream",
     "text": [
      "  0%|          | 0/80 [00:00<?, ?it/s]/opt/anaconda3/envs/stitchnet/lib/python3.10/site-packages/onnxruntime/capi/onnxruntime_inference_collection.py:54: UserWarning: Specified provider 'CUDAExecutionProvider' is not in available provider names.Available providers: 'CPUExecutionProvider'\n",
      "  warnings.warn(\n",
      "100%|██████████| 80/80 [01:46<00:00,  1.33s/it]\n"
     ]
    },
    {
     "name": "stdout",
     "output_type": "stream",
     "text": [
      "len(self.fragments) 1\n",
      "saving to _results/result_paper_32_t2/net052_052\n",
      "totalscore 0.6064855937698379\n",
      "epoch 0 loss 0.0\n",
      "epoch 1 loss 0.0\n",
      "epoch 2 loss 0.0\n",
      "epoch 3 loss 0.0\n",
      "epoch 4 loss 0.0\n",
      "epoch 5 loss 0.0\n",
      "epoch 6 loss 0.0\n",
      "epoch 7 loss 0.0\n",
      "epoch 8 loss 0.0\n",
      "epoch 9 loss 0.0\n",
      "WARNING: defualt optimization passes will be enlarged to all fuse and elimination passes in the next version\n"
     ]
    },
    {
     "name": "stderr",
     "output_type": "stream",
     "text": [
      "  0%|          | 0/80 [00:00<?, ?it/s]/opt/anaconda3/envs/stitchnet/lib/python3.10/site-packages/onnxruntime/capi/onnxruntime_inference_collection.py:54: UserWarning: Specified provider 'CUDAExecutionProvider' is not in available provider names.Available providers: 'CPUExecutionProvider'\n",
      "  warnings.warn(\n",
      "100%|██████████| 80/80 [03:20<00:00,  2.51s/it]\n"
     ]
    },
    {
     "name": "stdout",
     "output_type": "stream",
     "text": [
      "len(self.fragments) 1\n",
      "saving to _results/result_paper_32_t2/net053_053\n",
      "totalscore 0.600471485945502\n",
      "epoch 0 loss 0.0\n",
      "epoch 1 loss 0.0\n",
      "epoch 2 loss 0.0\n",
      "epoch 3 loss 0.0\n",
      "epoch 4 loss 0.0\n",
      "epoch 5 loss 0.0\n",
      "epoch 6 loss 0.0\n",
      "epoch 7 loss 0.0\n",
      "epoch 8 loss 0.0\n",
      "epoch 9 loss 0.0\n",
      "WARNING: defualt optimization passes will be enlarged to all fuse and elimination passes in the next version\n",
      "current depth: 9\n"
     ]
    },
    {
     "name": "stderr",
     "output_type": "stream",
     "text": [
      "100%|██████████| 5/5 [00:10<00:00,  2.06s/it]\n"
     ]
    },
    {
     "name": "stdout",
     "output_type": "stream",
     "text": [
      "potential next fragments: 5\n",
      "potential next fragments after thresholding of 0.8: 3 ['0.93', '0.88', '0.83']\n",
      "totalscore 0.6887870602607498\n",
      "epoch 0 loss 0.0\n",
      "epoch 1 loss 0.0\n",
      "epoch 2 loss 0.0\n",
      "epoch 3 loss 0.0\n",
      "epoch 4 loss 0.0\n",
      "epoch 5 loss 0.0\n",
      "epoch 6 loss 0.0\n",
      "epoch 7 loss 0.0\n",
      "epoch 8 loss 0.0\n",
      "epoch 9 loss 0.0\n",
      "WARNING: defualt optimization passes will be enlarged to all fuse and elimination passes in the next version\n"
     ]
    },
    {
     "name": "stderr",
     "output_type": "stream",
     "text": [
      "  0%|          | 0/80 [00:00<?, ?it/s]/opt/anaconda3/envs/stitchnet/lib/python3.10/site-packages/onnxruntime/capi/onnxruntime_inference_collection.py:54: UserWarning: Specified provider 'CUDAExecutionProvider' is not in available provider names.Available providers: 'CPUExecutionProvider'\n",
      "  warnings.warn(\n",
      "100%|██████████| 80/80 [03:28<00:00,  2.61s/it]\n"
     ]
    },
    {
     "name": "stdout",
     "output_type": "stream",
     "text": [
      "len(self.fragments) 1\n",
      "saving to _results/result_paper_32_t2/net054_054\n",
      "totalscore 0.8125657101585801\n",
      "epoch 0 loss 0.0\n",
      "epoch 1 loss 0.0\n",
      "epoch 2 loss 0.0\n",
      "epoch 3 loss 0.0\n",
      "epoch 4 loss 0.0\n",
      "epoch 5 loss 0.0\n",
      "epoch 6 loss 0.0\n",
      "epoch 7 loss 0.0\n",
      "epoch 8 loss 0.0\n",
      "epoch 9 loss 0.0\n",
      "WARNING: defualt optimization passes will be enlarged to all fuse and elimination passes in the next version\n",
      "current depth: 7\n"
     ]
    },
    {
     "name": "stderr",
     "output_type": "stream",
     "text": [
      "100%|██████████| 5/5 [00:14<00:00,  2.83s/it]\n"
     ]
    },
    {
     "name": "stdout",
     "output_type": "stream",
     "text": [
      "potential next fragments: 43\n",
      "potential next fragments after thresholding of 0.8: 7 ['0.97', '0.94', '0.88', '0.86', '0.85', '0.82', '0.81']\n",
      "totalscore 0.7845223105644759\n",
      "epoch 0 loss 0.0\n",
      "epoch 1 loss 0.0\n",
      "epoch 2 loss 0.0\n",
      "epoch 3 loss 0.0\n",
      "epoch 4 loss 0.0\n",
      "epoch 5 loss 0.0\n",
      "epoch 6 loss 0.0\n",
      "epoch 7 loss 0.0\n",
      "epoch 8 loss 0.0\n",
      "epoch 9 loss 0.0\n",
      "WARNING: defualt optimization passes will be enlarged to all fuse and elimination passes in the next version\n"
     ]
    },
    {
     "name": "stderr",
     "output_type": "stream",
     "text": [
      "  0%|          | 0/80 [00:00<?, ?it/s]/opt/anaconda3/envs/stitchnet/lib/python3.10/site-packages/onnxruntime/capi/onnxruntime_inference_collection.py:54: UserWarning: Specified provider 'CUDAExecutionProvider' is not in available provider names.Available providers: 'CPUExecutionProvider'\n",
      "  warnings.warn(\n",
      "100%|██████████| 80/80 [04:04<00:00,  3.06s/it]\n"
     ]
    },
    {
     "name": "stdout",
     "output_type": "stream",
     "text": [
      "len(self.fragments) 1\n",
      "saving to _results/result_paper_32_t2/net055_055\n",
      "totalscore 0.7651400805817032\n",
      "epoch 0 loss 0.0\n",
      "epoch 1 loss 0.0\n",
      "epoch 2 loss 0.0\n",
      "epoch 3 loss 0.0\n",
      "epoch 4 loss 0.0\n",
      "epoch 5 loss 0.0\n",
      "epoch 6 loss 0.0\n",
      "epoch 7 loss 0.0\n",
      "epoch 8 loss 0.0\n",
      "epoch 9 loss 0.0\n",
      "WARNING: defualt optimization passes will be enlarged to all fuse and elimination passes in the next version\n",
      "current depth: 8\n"
     ]
    },
    {
     "name": "stderr",
     "output_type": "stream",
     "text": [
      "100%|██████████| 5/5 [00:08<00:00,  1.75s/it]\n"
     ]
    },
    {
     "name": "stdout",
     "output_type": "stream",
     "text": [
      "potential next fragments: 43\n",
      "potential next fragments after thresholding of 0.8: 7 ['0.97', '0.95', '0.88', '0.87', '0.83', '0.83', '0.81']\n",
      "totalscore 0.7436174237351394\n",
      "epoch 0 loss 0.0\n",
      "epoch 1 loss 0.0\n",
      "epoch 2 loss 0.0\n",
      "epoch 3 loss 0.0\n",
      "epoch 4 loss 0.0\n",
      "epoch 5 loss 0.0\n",
      "epoch 6 loss 0.0\n",
      "epoch 7 loss 0.0\n",
      "epoch 8 loss 0.0\n",
      "epoch 9 loss 0.0\n",
      "WARNING: defualt optimization passes will be enlarged to all fuse and elimination passes in the next version\n"
     ]
    },
    {
     "name": "stderr",
     "output_type": "stream",
     "text": [
      "  0%|          | 0/80 [00:00<?, ?it/s]/opt/anaconda3/envs/stitchnet/lib/python3.10/site-packages/onnxruntime/capi/onnxruntime_inference_collection.py:54: UserWarning: Specified provider 'CUDAExecutionProvider' is not in available provider names.Available providers: 'CPUExecutionProvider'\n",
      "  warnings.warn(\n",
      "100%|██████████| 80/80 [03:46<00:00,  2.83s/it]\n"
     ]
    },
    {
     "name": "stdout",
     "output_type": "stream",
     "text": [
      "len(self.fragments) 1\n",
      "saving to _results/result_paper_32_t2/net056_056\n",
      "totalscore 0.7254892142270192\n",
      "epoch 0 loss 0.0\n",
      "epoch 1 loss 0.0\n",
      "epoch 2 loss 0.0\n",
      "epoch 3 loss 0.0\n",
      "epoch 4 loss 0.0\n",
      "epoch 5 loss 0.0\n",
      "epoch 6 loss 0.0\n",
      "epoch 7 loss 0.0\n",
      "epoch 8 loss 0.0\n",
      "epoch 9 loss 0.0\n",
      "WARNING: defualt optimization passes will be enlarged to all fuse and elimination passes in the next version\n",
      "current depth: 9\n"
     ]
    },
    {
     "name": "stderr",
     "output_type": "stream",
     "text": [
      "100%|██████████| 5/5 [00:09<00:00,  1.85s/it]\n"
     ]
    },
    {
     "name": "stdout",
     "output_type": "stream",
     "text": [
      "potential next fragments: 5\n",
      "potential next fragments after thresholding of 0.8: 5 ['0.97', '0.87', '0.86', '0.86', '0.83']\n",
      "totalscore 0.7042962247622709\n",
      "epoch 0 loss 0.0\n",
      "epoch 1 loss 0.0\n",
      "epoch 2 loss 0.0\n",
      "epoch 3 loss 0.0\n",
      "epoch 4 loss 0.0\n",
      "epoch 5 loss 0.0\n",
      "epoch 6 loss 0.0\n",
      "epoch 7 loss 0.0\n",
      "epoch 8 loss 0.0\n",
      "epoch 9 loss 0.0\n",
      "WARNING: defualt optimization passes will be enlarged to all fuse and elimination passes in the next version\n"
     ]
    },
    {
     "name": "stderr",
     "output_type": "stream",
     "text": [
      "  0%|          | 0/80 [00:00<?, ?it/s]/opt/anaconda3/envs/stitchnet/lib/python3.10/site-packages/onnxruntime/capi/onnxruntime_inference_collection.py:54: UserWarning: Specified provider 'CUDAExecutionProvider' is not in available provider names.Available providers: 'CPUExecutionProvider'\n",
      "  warnings.warn(\n",
      "100%|██████████| 80/80 [03:37<00:00,  2.72s/it]\n"
     ]
    },
    {
     "name": "stdout",
     "output_type": "stream",
     "text": [
      "len(self.fragments) 1\n",
      "saving to _results/result_paper_32_t2/net057_057\n",
      "totalscore 0.6339277904616107\n",
      "epoch 0 loss 0.0\n",
      "epoch 1 loss 0.0\n",
      "epoch 2 loss 0.0\n",
      "epoch 3 loss 0.0\n",
      "epoch 4 loss 0.0\n",
      "epoch 5 loss 0.0\n",
      "epoch 6 loss 0.0\n",
      "epoch 7 loss 0.0\n",
      "epoch 8 loss 0.0\n",
      "epoch 9 loss 0.0\n",
      "WARNING: defualt optimization passes will be enlarged to all fuse and elimination passes in the next version\n"
     ]
    },
    {
     "name": "stderr",
     "output_type": "stream",
     "text": [
      "  0%|          | 0/80 [00:00<?, ?it/s]/opt/anaconda3/envs/stitchnet/lib/python3.10/site-packages/onnxruntime/capi/onnxruntime_inference_collection.py:54: UserWarning: Specified provider 'CUDAExecutionProvider' is not in available provider names.Available providers: 'CPUExecutionProvider'\n",
      "  warnings.warn(\n",
      "100%|██████████| 80/80 [03:58<00:00,  2.98s/it]\n"
     ]
    },
    {
     "name": "stdout",
     "output_type": "stream",
     "text": [
      "len(self.fragments) 1\n",
      "saving to _results/result_paper_32_t2/net058_058\n",
      "totalscore 0.6250970178302414\n",
      "epoch 0 loss 0.0\n",
      "epoch 1 loss 0.0\n",
      "epoch 2 loss 0.0\n",
      "epoch 3 loss 0.0\n",
      "epoch 4 loss 0.0\n",
      "epoch 5 loss 0.0\n",
      "epoch 6 loss 0.0\n",
      "epoch 7 loss 0.0\n",
      "epoch 8 loss 0.0\n",
      "epoch 9 loss 0.0\n",
      "WARNING: defualt optimization passes will be enlarged to all fuse and elimination passes in the next version\n"
     ]
    },
    {
     "name": "stderr",
     "output_type": "stream",
     "text": [
      "  0%|          | 0/80 [00:00<?, ?it/s]/opt/anaconda3/envs/stitchnet/lib/python3.10/site-packages/onnxruntime/capi/onnxruntime_inference_collection.py:54: UserWarning: Specified provider 'CUDAExecutionProvider' is not in available provider names.Available providers: 'CPUExecutionProvider'\n",
      "  warnings.warn(\n",
      "100%|██████████| 80/80 [03:54<00:00,  2.93s/it]\n"
     ]
    },
    {
     "name": "stdout",
     "output_type": "stream",
     "text": [
      "len(self.fragments) 1\n",
      "saving to _results/result_paper_32_t2/net059_059\n",
      "totalscore 0.6225137957581471\n",
      "epoch 0 loss 0.0\n",
      "epoch 1 loss 0.0\n",
      "epoch 2 loss 0.0\n",
      "epoch 3 loss 0.0\n",
      "epoch 4 loss 0.0\n",
      "epoch 5 loss 0.0\n",
      "epoch 6 loss 0.0\n",
      "epoch 7 loss 0.0\n",
      "epoch 8 loss 0.0\n",
      "epoch 9 loss 0.0\n",
      "WARNING: defualt optimization passes will be enlarged to all fuse and elimination passes in the next version\n"
     ]
    },
    {
     "name": "stderr",
     "output_type": "stream",
     "text": [
      "  0%|          | 0/80 [00:00<?, ?it/s]/opt/anaconda3/envs/stitchnet/lib/python3.10/site-packages/onnxruntime/capi/onnxruntime_inference_collection.py:54: UserWarning: Specified provider 'CUDAExecutionProvider' is not in available provider names.Available providers: 'CPUExecutionProvider'\n",
      "  warnings.warn(\n",
      "100%|██████████| 80/80 [04:04<00:00,  3.06s/it]\n"
     ]
    },
    {
     "name": "stdout",
     "output_type": "stream",
     "text": [
      "len(self.fragments) 1\n",
      "saving to _results/result_paper_32_t2/net060_060\n",
      "totalscore 0.6021313442176571\n",
      "epoch 0 loss 0.0\n",
      "epoch 1 loss 0.0\n",
      "epoch 2 loss 0.0\n",
      "epoch 3 loss 0.0\n",
      "epoch 4 loss 0.0\n",
      "epoch 5 loss 0.0\n",
      "epoch 6 loss 0.0\n",
      "epoch 7 loss 0.0\n",
      "epoch 8 loss 0.0\n",
      "epoch 9 loss 0.0\n",
      "WARNING: defualt optimization passes will be enlarged to all fuse and elimination passes in the next version\n"
     ]
    },
    {
     "name": "stderr",
     "output_type": "stream",
     "text": [
      "  0%|          | 0/80 [00:00<?, ?it/s]/opt/anaconda3/envs/stitchnet/lib/python3.10/site-packages/onnxruntime/capi/onnxruntime_inference_collection.py:54: UserWarning: Specified provider 'CUDAExecutionProvider' is not in available provider names.Available providers: 'CPUExecutionProvider'\n",
      "  warnings.warn(\n",
      "100%|██████████| 80/80 [03:30<00:00,  2.63s/it]\n"
     ]
    },
    {
     "name": "stdout",
     "output_type": "stream",
     "text": [
      "len(self.fragments) 1\n",
      "saving to _results/result_paper_32_t2/net061_061\n",
      "totalscore 0.6716128634883226\n",
      "epoch 0 loss 0.0\n",
      "epoch 1 loss 0.0\n",
      "epoch 2 loss 0.0\n",
      "epoch 3 loss 0.0\n",
      "epoch 4 loss 0.0\n",
      "epoch 5 loss 0.0\n",
      "epoch 6 loss 0.0\n",
      "epoch 7 loss 0.0\n",
      "epoch 8 loss 0.0\n",
      "epoch 9 loss 0.0\n",
      "WARNING: defualt optimization passes will be enlarged to all fuse and elimination passes in the next version\n"
     ]
    },
    {
     "name": "stderr",
     "output_type": "stream",
     "text": [
      "  0%|          | 0/80 [00:00<?, ?it/s]/opt/anaconda3/envs/stitchnet/lib/python3.10/site-packages/onnxruntime/capi/onnxruntime_inference_collection.py:54: UserWarning: Specified provider 'CUDAExecutionProvider' is not in available provider names.Available providers: 'CPUExecutionProvider'\n",
      "  warnings.warn(\n",
      "100%|██████████| 80/80 [04:52<00:00,  3.65s/it]\n"
     ]
    },
    {
     "name": "stdout",
     "output_type": "stream",
     "text": [
      "len(self.fragments) 1\n",
      "saving to _results/result_paper_32_t2/net062_062\n",
      "totalscore 0.664014281614784\n",
      "epoch 0 loss 0.0\n",
      "epoch 1 loss 0.0\n",
      "epoch 2 loss 0.0\n",
      "epoch 3 loss 0.0\n",
      "epoch 4 loss 0.0\n",
      "epoch 5 loss 0.0\n",
      "epoch 6 loss 0.0\n",
      "epoch 7 loss 0.0\n",
      "epoch 8 loss 0.0\n",
      "epoch 9 loss 0.0\n",
      "WARNING: defualt optimization passes will be enlarged to all fuse and elimination passes in the next version\n"
     ]
    },
    {
     "name": "stderr",
     "output_type": "stream",
     "text": [
      "  0%|          | 0/80 [00:00<?, ?it/s]/opt/anaconda3/envs/stitchnet/lib/python3.10/site-packages/onnxruntime/capi/onnxruntime_inference_collection.py:54: UserWarning: Specified provider 'CUDAExecutionProvider' is not in available provider names.Available providers: 'CPUExecutionProvider'\n",
      "  warnings.warn(\n",
      "100%|██████████| 80/80 [03:28<00:00,  2.60s/it]\n"
     ]
    },
    {
     "name": "stdout",
     "output_type": "stream",
     "text": [
      "len(self.fragments) 1\n",
      "saving to _results/result_paper_32_t2/net063_063\n",
      "totalscore 0.6341166936129092\n",
      "epoch 0 loss 0.0\n",
      "epoch 1 loss 0.0\n",
      "epoch 2 loss 0.0\n",
      "epoch 3 loss 0.0\n",
      "epoch 4 loss 0.0\n",
      "epoch 5 loss 0.0\n",
      "epoch 6 loss 0.0\n",
      "epoch 7 loss 0.0\n",
      "epoch 8 loss 0.0\n",
      "epoch 9 loss 0.0\n",
      "WARNING: defualt optimization passes will be enlarged to all fuse and elimination passes in the next version\n",
      "current depth: 9\n"
     ]
    },
    {
     "name": "stderr",
     "output_type": "stream",
     "text": [
      "100%|██████████| 5/5 [00:12<00:00,  2.45s/it]\n"
     ]
    },
    {
     "name": "stdout",
     "output_type": "stream",
     "text": [
      "potential next fragments: 5\n",
      "potential next fragments after thresholding of 0.8: 5 ['1.0', '0.9', '0.89', '0.86', '0.85']\n",
      "totalscore 0.6337091739034095\n",
      "epoch 0 loss 0.0\n",
      "epoch 1 loss 0.0\n",
      "epoch 2 loss 0.0\n",
      "epoch 3 loss 0.0\n",
      "epoch 4 loss 0.0\n",
      "epoch 5 loss 0.0\n",
      "epoch 6 loss 0.0\n",
      "epoch 7 loss 0.0\n",
      "epoch 8 loss 0.0\n",
      "epoch 9 loss 0.0\n",
      "WARNING: defualt optimization passes will be enlarged to all fuse and elimination passes in the next version\n"
     ]
    },
    {
     "name": "stderr",
     "output_type": "stream",
     "text": [
      "  0%|          | 0/80 [00:00<?, ?it/s]/opt/anaconda3/envs/stitchnet/lib/python3.10/site-packages/onnxruntime/capi/onnxruntime_inference_collection.py:54: UserWarning: Specified provider 'CUDAExecutionProvider' is not in available provider names.Available providers: 'CPUExecutionProvider'\n",
      "  warnings.warn(\n",
      "100%|██████████| 80/80 [03:43<00:00,  2.79s/it]\n"
     ]
    },
    {
     "name": "stdout",
     "output_type": "stream",
     "text": [
      "len(self.fragments) 1\n",
      "saving to _results/result_paper_32_t2/net064_064\n",
      "totalscore 0.6324261284054824\n",
      "epoch 0 loss 0.0\n",
      "epoch 1 loss 0.0\n",
      "epoch 2 loss 0.0\n",
      "epoch 3 loss 0.0\n",
      "epoch 4 loss 0.0\n",
      "epoch 5 loss 0.0\n",
      "epoch 6 loss 0.0\n",
      "epoch 7 loss 0.0\n",
      "epoch 8 loss 0.0\n",
      "epoch 9 loss 0.0\n",
      "WARNING: defualt optimization passes will be enlarged to all fuse and elimination passes in the next version\n"
     ]
    },
    {
     "name": "stderr",
     "output_type": "stream",
     "text": [
      "  0%|          | 0/80 [00:00<?, ?it/s]/opt/anaconda3/envs/stitchnet/lib/python3.10/site-packages/onnxruntime/capi/onnxruntime_inference_collection.py:54: UserWarning: Specified provider 'CUDAExecutionProvider' is not in available provider names.Available providers: 'CPUExecutionProvider'\n",
      "  warnings.warn(\n",
      "100%|██████████| 80/80 [03:39<00:00,  2.75s/it]\n"
     ]
    },
    {
     "name": "stdout",
     "output_type": "stream",
     "text": [
      "len(self.fragments) 1\n",
      "saving to _results/result_paper_32_t2/net065_065\n",
      "totalscore 0.6165667669511072\n",
      "epoch 0 loss 0.0\n",
      "epoch 1 loss 0.0\n",
      "epoch 2 loss 0.0\n",
      "epoch 3 loss 0.0\n",
      "epoch 4 loss 0.0\n",
      "epoch 5 loss 0.0\n",
      "epoch 6 loss 0.0\n",
      "epoch 7 loss 0.0\n",
      "epoch 8 loss 0.0\n",
      "epoch 9 loss 0.0\n",
      "WARNING: defualt optimization passes will be enlarged to all fuse and elimination passes in the next version\n"
     ]
    },
    {
     "name": "stderr",
     "output_type": "stream",
     "text": [
      "  0%|          | 0/80 [00:00<?, ?it/s]/opt/anaconda3/envs/stitchnet/lib/python3.10/site-packages/onnxruntime/capi/onnxruntime_inference_collection.py:54: UserWarning: Specified provider 'CUDAExecutionProvider' is not in available provider names.Available providers: 'CPUExecutionProvider'\n",
      "  warnings.warn(\n",
      "100%|██████████| 80/80 [04:26<00:00,  3.33s/it]\n"
     ]
    },
    {
     "name": "stdout",
     "output_type": "stream",
     "text": [
      "len(self.fragments) 1\n",
      "saving to _results/result_paper_32_t2/net066_066\n",
      "totalscore 0.7146028443702781\n",
      "epoch 0 loss 0.0\n",
      "epoch 1 loss 0.0\n",
      "epoch 2 loss 0.0\n",
      "epoch 3 loss 0.0\n",
      "epoch 4 loss 0.0\n",
      "epoch 5 loss 0.0\n",
      "epoch 6 loss 0.0\n",
      "epoch 7 loss 0.0\n",
      "epoch 8 loss 0.0\n",
      "epoch 9 loss 0.0\n",
      "WARNING: defualt optimization passes will be enlarged to all fuse and elimination passes in the next version\n"
     ]
    },
    {
     "name": "stderr",
     "output_type": "stream",
     "text": [
      "  0%|          | 0/80 [00:00<?, ?it/s]/opt/anaconda3/envs/stitchnet/lib/python3.10/site-packages/onnxruntime/capi/onnxruntime_inference_collection.py:54: UserWarning: Specified provider 'CUDAExecutionProvider' is not in available provider names.Available providers: 'CPUExecutionProvider'\n",
      "  warnings.warn(\n",
      "100%|██████████| 80/80 [01:11<00:00,  1.11it/s]\n"
     ]
    },
    {
     "name": "stdout",
     "output_type": "stream",
     "text": [
      "len(self.fragments) 1\n",
      "saving to _results/result_paper_32_t2/net067_067\n",
      "totalscore 0.7001630251560473\n",
      "epoch 0 loss 0.0\n",
      "epoch 1 loss 0.0\n",
      "epoch 2 loss 0.0\n",
      "epoch 3 loss 0.0\n",
      "epoch 4 loss 0.0\n",
      "epoch 5 loss 0.0\n",
      "epoch 6 loss 0.0\n",
      "epoch 7 loss 0.0\n",
      "epoch 8 loss 0.0\n",
      "epoch 9 loss 0.0\n",
      "WARNING: defualt optimization passes will be enlarged to all fuse and elimination passes in the next version\n"
     ]
    },
    {
     "name": "stderr",
     "output_type": "stream",
     "text": [
      "  0%|          | 0/80 [00:00<?, ?it/s]/opt/anaconda3/envs/stitchnet/lib/python3.10/site-packages/onnxruntime/capi/onnxruntime_inference_collection.py:54: UserWarning: Specified provider 'CUDAExecutionProvider' is not in available provider names.Available providers: 'CPUExecutionProvider'\n",
      "  warnings.warn(\n",
      "100%|██████████| 80/80 [01:10<00:00,  1.14it/s]\n"
     ]
    },
    {
     "name": "stdout",
     "output_type": "stream",
     "text": [
      "len(self.fragments) 1\n",
      "saving to _results/result_paper_32_t2/net068_068\n",
      "totalscore 0.6937556223649389\n",
      "epoch 0 loss 0.0\n",
      "epoch 1 loss 0.0\n",
      "epoch 2 loss 0.0\n",
      "epoch 3 loss 0.0\n",
      "epoch 4 loss 0.0\n",
      "epoch 5 loss 0.0\n",
      "epoch 6 loss 0.0\n",
      "epoch 7 loss 0.0\n",
      "epoch 8 loss 0.0\n",
      "epoch 9 loss 0.0\n",
      "WARNING: defualt optimization passes will be enlarged to all fuse and elimination passes in the next version\n"
     ]
    },
    {
     "name": "stderr",
     "output_type": "stream",
     "text": [
      "  0%|          | 0/80 [00:00<?, ?it/s]/opt/anaconda3/envs/stitchnet/lib/python3.10/site-packages/onnxruntime/capi/onnxruntime_inference_collection.py:54: UserWarning: Specified provider 'CUDAExecutionProvider' is not in available provider names.Available providers: 'CPUExecutionProvider'\n",
      "  warnings.warn(\n",
      "100%|██████████| 80/80 [01:11<00:00,  1.12it/s]\n"
     ]
    },
    {
     "name": "stdout",
     "output_type": "stream",
     "text": [
      "len(self.fragments) 1\n",
      "saving to _results/result_paper_32_t2/net069_069\n",
      "totalscore 0.6638799656561256\n",
      "epoch 0 loss 0.0\n",
      "epoch 1 loss 0.0\n",
      "epoch 2 loss 0.0\n",
      "epoch 3 loss 0.0\n",
      "epoch 4 loss 0.0\n",
      "epoch 5 loss 0.0\n",
      "epoch 6 loss 0.0\n",
      "epoch 7 loss 0.0\n",
      "epoch 8 loss 0.0\n",
      "epoch 9 loss 0.0\n",
      "WARNING: defualt optimization passes will be enlarged to all fuse and elimination passes in the next version\n",
      "current depth: 8\n"
     ]
    },
    {
     "name": "stderr",
     "output_type": "stream",
     "text": [
      "100%|██████████| 5/5 [00:04<00:00,  1.17it/s]\n"
     ]
    },
    {
     "name": "stdout",
     "output_type": "stream",
     "text": [
      "potential next fragments: 43\n",
      "potential next fragments after thresholding of 0.8: 12 ['1.0', '0.94', '0.89', '0.89', '0.88', '0.86', '0.85', '0.83', '0.82', '0.82', '0.81', '0.8']\n",
      "totalscore 0.6634685133697098\n",
      "epoch 0 loss 0.0\n",
      "epoch 1 loss 0.0\n",
      "epoch 2 loss 0.0\n",
      "epoch 3 loss 0.0\n",
      "epoch 4 loss 0.0\n",
      "epoch 5 loss 0.0\n",
      "epoch 6 loss 0.0\n",
      "epoch 7 loss 0.0\n",
      "epoch 8 loss 0.0\n",
      "epoch 9 loss 0.0\n",
      "WARNING: defualt optimization passes will be enlarged to all fuse and elimination passes in the next version\n"
     ]
    },
    {
     "name": "stderr",
     "output_type": "stream",
     "text": [
      "  0%|          | 0/80 [00:00<?, ?it/s]/opt/anaconda3/envs/stitchnet/lib/python3.10/site-packages/onnxruntime/capi/onnxruntime_inference_collection.py:54: UserWarning: Specified provider 'CUDAExecutionProvider' is not in available provider names.Available providers: 'CPUExecutionProvider'\n",
      "  warnings.warn(\n",
      "100%|██████████| 80/80 [01:14<00:00,  1.07it/s]\n"
     ]
    },
    {
     "name": "stdout",
     "output_type": "stream",
     "text": [
      "len(self.fragments) 1\n",
      "saving to _results/result_paper_32_t2/net070_070\n",
      "totalscore 0.6267191130648877\n",
      "epoch 0 loss 0.0\n",
      "epoch 1 loss 0.0\n",
      "epoch 2 loss 0.0\n",
      "epoch 3 loss 0.0\n",
      "epoch 4 loss 0.0\n",
      "epoch 5 loss 0.0\n",
      "epoch 6 loss 0.0\n",
      "epoch 7 loss 0.0\n",
      "epoch 8 loss 0.0\n",
      "epoch 9 loss 0.0\n",
      "WARNING: defualt optimization passes will be enlarged to all fuse and elimination passes in the next version\n",
      "current depth: 9\n"
     ]
    },
    {
     "name": "stderr",
     "output_type": "stream",
     "text": [
      "100%|██████████| 5/5 [00:04<00:00,  1.15it/s]\n"
     ]
    },
    {
     "name": "stdout",
     "output_type": "stream",
     "text": [
      "potential next fragments: 5\n",
      "potential next fragments after thresholding of 0.8: 5 ['1.0', '0.89', '0.88', '0.87', '0.84']\n",
      "totalscore 0.6264275170458232\n",
      "epoch 0 loss 0.0\n",
      "epoch 1 loss 0.0\n",
      "epoch 2 loss 0.0\n",
      "epoch 3 loss 0.0\n",
      "epoch 4 loss 0.0\n",
      "epoch 5 loss 0.0\n",
      "epoch 6 loss 0.0\n",
      "epoch 7 loss 0.0\n",
      "epoch 8 loss 0.0\n",
      "epoch 9 loss 0.0\n",
      "WARNING: defualt optimization passes will be enlarged to all fuse and elimination passes in the next version\n"
     ]
    },
    {
     "name": "stderr",
     "output_type": "stream",
     "text": [
      "  0%|          | 0/80 [00:00<?, ?it/s]/opt/anaconda3/envs/stitchnet/lib/python3.10/site-packages/onnxruntime/capi/onnxruntime_inference_collection.py:54: UserWarning: Specified provider 'CUDAExecutionProvider' is not in available provider names.Available providers: 'CPUExecutionProvider'\n",
      "  warnings.warn(\n",
      "100%|██████████| 80/80 [01:14<00:00,  1.07it/s]\n"
     ]
    },
    {
     "name": "stdout",
     "output_type": "stream",
     "text": [
      "len(self.fragments) 1\n",
      "saving to _results/result_paper_32_t2/net071_071\n",
      "totalscore 0.6599983761078388\n",
      "epoch 0 loss 0.0\n",
      "epoch 1 loss 0.0\n",
      "epoch 2 loss 0.0\n",
      "epoch 3 loss 0.0\n",
      "epoch 4 loss 0.0\n",
      "epoch 5 loss 0.0\n",
      "epoch 6 loss 0.0\n",
      "epoch 7 loss 0.0\n",
      "epoch 8 loss 0.0\n",
      "epoch 9 loss 0.0\n",
      "WARNING: defualt optimization passes will be enlarged to all fuse and elimination passes in the next version\n",
      "current depth: 8\n"
     ]
    },
    {
     "name": "stderr",
     "output_type": "stream",
     "text": [
      "100%|██████████| 5/5 [00:04<00:00,  1.23it/s]\n"
     ]
    },
    {
     "name": "stdout",
     "output_type": "stream",
     "text": [
      "potential next fragments: 43\n",
      "potential next fragments after thresholding of 0.8: 9 ['0.97', '0.95', '0.88', '0.85', '0.84', '0.84', '0.83', '0.81', '0.8']\n",
      "totalscore 0.6379019920669607\n",
      "epoch 0 loss 0.0\n",
      "epoch 1 loss 0.0\n",
      "epoch 2 loss 0.0\n",
      "epoch 3 loss 0.0\n",
      "epoch 4 loss 0.0\n",
      "epoch 5 loss 0.0\n",
      "epoch 6 loss 0.0\n",
      "epoch 7 loss 0.0\n",
      "epoch 8 loss 0.0\n",
      "epoch 9 loss 0.0\n",
      "WARNING: defualt optimization passes will be enlarged to all fuse and elimination passes in the next version\n",
      "current depth: 9\n"
     ]
    },
    {
     "name": "stderr",
     "output_type": "stream",
     "text": [
      "100%|██████████| 5/5 [00:04<00:00,  1.24it/s]\n"
     ]
    },
    {
     "name": "stdout",
     "output_type": "stream",
     "text": [
      "potential next fragments: 5\n",
      "potential next fragments after thresholding of 0.8: 4 ['0.97', '0.88', '0.86', '0.84']\n",
      "totalscore 0.6176636455952104\n",
      "epoch 0 loss 0.0\n",
      "epoch 1 loss 0.0\n",
      "epoch 2 loss 0.0\n",
      "epoch 3 loss 0.0\n",
      "epoch 4 loss 0.0\n",
      "epoch 5 loss 0.0\n",
      "epoch 6 loss 0.0\n",
      "epoch 7 loss 0.0\n",
      "epoch 8 loss 0.0\n",
      "epoch 9 loss 0.0\n",
      "WARNING: defualt optimization passes will be enlarged to all fuse and elimination passes in the next version\n"
     ]
    },
    {
     "name": "stderr",
     "output_type": "stream",
     "text": [
      "  0%|          | 0/80 [00:00<?, ?it/s]/opt/anaconda3/envs/stitchnet/lib/python3.10/site-packages/onnxruntime/capi/onnxruntime_inference_collection.py:54: UserWarning: Specified provider 'CUDAExecutionProvider' is not in available provider names.Available providers: 'CPUExecutionProvider'\n",
      "  warnings.warn(\n",
      "100%|██████████| 80/80 [01:17<00:00,  1.03it/s]\n"
     ]
    },
    {
     "name": "stdout",
     "output_type": "stream",
     "text": [
      "len(self.fragments) 1\n",
      "saving to _results/result_paper_32_t2/net072_072\n",
      "totalscore 0.6248682836152548\n",
      "epoch 0 loss 0.0\n",
      "epoch 1 loss 0.0\n",
      "epoch 2 loss 0.0\n",
      "epoch 3 loss 0.0\n",
      "epoch 4 loss 0.0\n",
      "epoch 5 loss 0.0\n",
      "epoch 6 loss 0.0\n",
      "epoch 7 loss 0.0\n",
      "epoch 8 loss 0.0\n",
      "epoch 9 loss 0.0\n",
      "WARNING: defualt optimization passes will be enlarged to all fuse and elimination passes in the next version\n"
     ]
    },
    {
     "name": "stderr",
     "output_type": "stream",
     "text": [
      "  0%|          | 0/80 [00:00<?, ?it/s]/opt/anaconda3/envs/stitchnet/lib/python3.10/site-packages/onnxruntime/capi/onnxruntime_inference_collection.py:54: UserWarning: Specified provider 'CUDAExecutionProvider' is not in available provider names.Available providers: 'CPUExecutionProvider'\n",
      "  warnings.warn(\n",
      "100%|██████████| 80/80 [01:15<00:00,  1.05it/s]\n"
     ]
    },
    {
     "name": "stdout",
     "output_type": "stream",
     "text": [
      "len(self.fragments) 1\n",
      "saving to _results/result_paper_32_t2/net073_073\n",
      "totalscore 0.8117151401736059\n",
      "epoch 0 loss 0.0\n",
      "epoch 1 loss 0.0\n",
      "epoch 2 loss 0.0\n",
      "epoch 3 loss 0.0\n",
      "epoch 4 loss 0.0\n",
      "epoch 5 loss 0.0\n",
      "epoch 6 loss 0.0\n",
      "epoch 7 loss 0.0\n",
      "epoch 8 loss 0.0\n",
      "epoch 9 loss 0.0\n",
      "WARNING: defualt optimization passes will be enlarged to all fuse and elimination passes in the next version\n"
     ]
    },
    {
     "name": "stderr",
     "output_type": "stream",
     "text": [
      "  0%|          | 0/80 [00:00<?, ?it/s]/opt/anaconda3/envs/stitchnet/lib/python3.10/site-packages/onnxruntime/capi/onnxruntime_inference_collection.py:54: UserWarning: Specified provider 'CUDAExecutionProvider' is not in available provider names.Available providers: 'CPUExecutionProvider'\n",
      "  warnings.warn(\n",
      "100%|██████████| 80/80 [01:09<00:00,  1.15it/s]\n"
     ]
    },
    {
     "name": "stdout",
     "output_type": "stream",
     "text": [
      "len(self.fragments) 1\n",
      "saving to _results/result_paper_32_t2/net074_074\n",
      "totalscore 0.7854007957588717\n",
      "ERROR Input and output must have the same number of spatial dimensions, but got input with with spatial dimensions of [] and output size of (13, 13). Please provide input tensor in (N, C, d1, d2, ...,dK) format and output size in (o1, o2, ...,oK) format.\n",
      "totalscore 0.7763068603369835\n"
     ]
    },
    {
     "name": "stderr",
     "output_type": "stream",
     "text": [
      "Traceback (most recent call last):\n",
      "  File \"/Users/surat/NSTDA/stitchnet/stitchnet/stitchnet/stitchonnx/utils.py\", line 963, in recursive_stitching\n",
      "    newcurr_fragment = stitch_fragments(curr, nextf, data)\n",
      "  File \"/Users/surat/NSTDA/stitchnet/stitchnet/stitchnet/stitchonnx/utils.py\", line 658, in stitch_fragments\n",
      "    nw = adjust_w(tX, tY, w)\n",
      "  File \"/Users/surat/NSTDA/stitchnet/stitchnet/stitchnet/stitchonnx/utils.py\", line 613, in adjust_w\n",
      "    return adjust_w_conv(tX, tY, w)\n",
      "  File \"/Users/surat/NSTDA/stitchnet/stitchnet/stitchnet/stitchonnx/utils.py\", line 590, in adjust_w_conv\n",
      "    tX = up(tX)\n",
      "  File \"/opt/anaconda3/envs/stitchnet/lib/python3.10/site-packages/torch/nn/modules/module.py\", line 1130, in _call_impl\n",
      "    return forward_call(*input, **kwargs)\n",
      "  File \"/opt/anaconda3/envs/stitchnet/lib/python3.10/site-packages/torch/nn/modules/upsampling.py\", line 153, in forward\n",
      "    return F.interpolate(input, self.size, self.scale_factor, self.mode, self.align_corners,\n",
      "  File \"/opt/anaconda3/envs/stitchnet/lib/python3.10/site-packages/torch/nn/functional.py\", line 3854, in interpolate\n",
      "    raise ValueError(\n",
      "ValueError: Input and output must have the same number of spatial dimensions, but got input with with spatial dimensions of [] and output size of (13, 13). Please provide input tensor in (N, C, d1, d2, ...,dK) format and output size in (o1, o2, ...,oK) format.\n"
     ]
    },
    {
     "name": "stdout",
     "output_type": "stream",
     "text": [
      "ERROR Input and output must have the same number of spatial dimensions, but got input with with spatial dimensions of [] and output size of (14, 14). Please provide input tensor in (N, C, d1, d2, ...,dK) format and output size in (o1, o2, ...,oK) format.\n",
      "totalscore 0.9025444562653455\n"
     ]
    },
    {
     "name": "stderr",
     "output_type": "stream",
     "text": [
      "Traceback (most recent call last):\n",
      "  File \"/Users/surat/NSTDA/stitchnet/stitchnet/stitchnet/stitchonnx/utils.py\", line 963, in recursive_stitching\n",
      "    newcurr_fragment = stitch_fragments(curr, nextf, data)\n",
      "  File \"/Users/surat/NSTDA/stitchnet/stitchnet/stitchnet/stitchonnx/utils.py\", line 658, in stitch_fragments\n",
      "    nw = adjust_w(tX, tY, w)\n",
      "  File \"/Users/surat/NSTDA/stitchnet/stitchnet/stitchnet/stitchonnx/utils.py\", line 613, in adjust_w\n",
      "    return adjust_w_conv(tX, tY, w)\n",
      "  File \"/Users/surat/NSTDA/stitchnet/stitchnet/stitchnet/stitchonnx/utils.py\", line 590, in adjust_w_conv\n",
      "    tX = up(tX)\n",
      "  File \"/opt/anaconda3/envs/stitchnet/lib/python3.10/site-packages/torch/nn/modules/module.py\", line 1130, in _call_impl\n",
      "    return forward_call(*input, **kwargs)\n",
      "  File \"/opt/anaconda3/envs/stitchnet/lib/python3.10/site-packages/torch/nn/modules/upsampling.py\", line 153, in forward\n",
      "    return F.interpolate(input, self.size, self.scale_factor, self.mode, self.align_corners,\n",
      "  File \"/opt/anaconda3/envs/stitchnet/lib/python3.10/site-packages/torch/nn/functional.py\", line 3854, in interpolate\n",
      "    raise ValueError(\n",
      "ValueError: Input and output must have the same number of spatial dimensions, but got input with with spatial dimensions of [] and output size of (14, 14). Please provide input tensor in (N, C, d1, d2, ...,dK) format and output size in (o1, o2, ...,oK) format.\n"
     ]
    },
    {
     "name": "stdout",
     "output_type": "stream",
     "text": [
      "ERROR Input and output must have the same number of spatial dimensions, but got input with with spatial dimensions of [] and output size of (14, 14). Please provide input tensor in (N, C, d1, d2, ...,dK) format and output size in (o1, o2, ...,oK) format.\n",
      "totalscore 0.8968134110903377\n"
     ]
    },
    {
     "name": "stderr",
     "output_type": "stream",
     "text": [
      "Traceback (most recent call last):\n",
      "  File \"/Users/surat/NSTDA/stitchnet/stitchnet/stitchnet/stitchonnx/utils.py\", line 963, in recursive_stitching\n",
      "    newcurr_fragment = stitch_fragments(curr, nextf, data)\n",
      "  File \"/Users/surat/NSTDA/stitchnet/stitchnet/stitchnet/stitchonnx/utils.py\", line 658, in stitch_fragments\n",
      "    nw = adjust_w(tX, tY, w)\n",
      "  File \"/Users/surat/NSTDA/stitchnet/stitchnet/stitchnet/stitchonnx/utils.py\", line 613, in adjust_w\n",
      "    return adjust_w_conv(tX, tY, w)\n",
      "  File \"/Users/surat/NSTDA/stitchnet/stitchnet/stitchnet/stitchonnx/utils.py\", line 590, in adjust_w_conv\n",
      "    tX = up(tX)\n",
      "  File \"/opt/anaconda3/envs/stitchnet/lib/python3.10/site-packages/torch/nn/modules/module.py\", line 1130, in _call_impl\n",
      "    return forward_call(*input, **kwargs)\n",
      "  File \"/opt/anaconda3/envs/stitchnet/lib/python3.10/site-packages/torch/nn/modules/upsampling.py\", line 153, in forward\n",
      "    return F.interpolate(input, self.size, self.scale_factor, self.mode, self.align_corners,\n",
      "  File \"/opt/anaconda3/envs/stitchnet/lib/python3.10/site-packages/torch/nn/functional.py\", line 3854, in interpolate\n",
      "    raise ValueError(\n",
      "ValueError: Input and output must have the same number of spatial dimensions, but got input with with spatial dimensions of [] and output size of (14, 14). Please provide input tensor in (N, C, d1, d2, ...,dK) format and output size in (o1, o2, ...,oK) format.\n"
     ]
    },
    {
     "name": "stdout",
     "output_type": "stream",
     "text": [
      "epoch 0 loss 0.0\n",
      "epoch 1 loss 0.0\n",
      "epoch 2 loss 0.0\n",
      "epoch 3 loss 0.0\n",
      "epoch 4 loss 0.0\n",
      "epoch 5 loss 0.0\n",
      "epoch 6 loss 0.0\n",
      "epoch 7 loss 0.0\n",
      "epoch 8 loss 0.0\n",
      "epoch 9 loss 0.0\n",
      "WARNING: defualt optimization passes will be enlarged to all fuse and elimination passes in the next version\n",
      "current depth: 6\n"
     ]
    },
    {
     "name": "stderr",
     "output_type": "stream",
     "text": [
      "100%|██████████| 5/5 [00:04<00:00,  1.20it/s]\n"
     ]
    },
    {
     "name": "stdout",
     "output_type": "stream",
     "text": [
      "potential next fragments: 43\n",
      "potential next fragments after thresholding of 0.8: 5 ['0.91', '0.88', '0.87', '0.84', '0.84']\n",
      "totalscore 0.8145115674566831\n",
      "epoch 0 loss 0.0\n",
      "epoch 1 loss 0.0\n",
      "epoch 2 loss 0.0\n",
      "epoch 3 loss 0.0\n",
      "epoch 4 loss 0.0\n",
      "epoch 5 loss 0.0\n",
      "epoch 6 loss 0.0\n",
      "epoch 7 loss 0.0\n",
      "epoch 8 loss 0.0\n",
      "epoch 9 loss 0.0\n",
      "WARNING: defualt optimization passes will be enlarged to all fuse and elimination passes in the next version\n",
      "current depth: 7\n"
     ]
    },
    {
     "name": "stderr",
     "output_type": "stream",
     "text": [
      "100%|██████████| 5/5 [00:04<00:00,  1.23it/s]\n"
     ]
    },
    {
     "name": "stdout",
     "output_type": "stream",
     "text": [
      "potential next fragments: 43\n",
      "potential next fragments after thresholding of 0.8: 6 ['0.94', '0.92', '0.87', '0.84', '0.82', '0.81']\n",
      "totalscore 0.7664456142650772\n",
      "epoch 0 loss 0.0\n",
      "epoch 1 loss 0.0\n",
      "epoch 2 loss 0.0\n",
      "epoch 3 loss 0.0\n",
      "epoch 4 loss 0.0\n",
      "epoch 5 loss 0.0\n",
      "epoch 6 loss 0.0\n",
      "epoch 7 loss 0.0\n",
      "epoch 8 loss 0.0\n",
      "epoch 9 loss 0.0\n",
      "WARNING: defualt optimization passes will be enlarged to all fuse and elimination passes in the next version\n"
     ]
    },
    {
     "name": "stderr",
     "output_type": "stream",
     "text": [
      "  0%|          | 0/80 [00:00<?, ?it/s]/opt/anaconda3/envs/stitchnet/lib/python3.10/site-packages/onnxruntime/capi/onnxruntime_inference_collection.py:54: UserWarning: Specified provider 'CUDAExecutionProvider' is not in available provider names.Available providers: 'CPUExecutionProvider'\n",
      "  warnings.warn(\n",
      "100%|██████████| 80/80 [01:14<00:00,  1.08it/s]\n"
     ]
    },
    {
     "name": "stdout",
     "output_type": "stream",
     "text": [
      "len(self.fragments) 1\n",
      "saving to _results/result_paper_32_t2/net075_075\n",
      "totalscore 0.7459425873828616\n",
      "epoch 0 loss 0.0\n",
      "epoch 1 loss 0.0\n",
      "epoch 2 loss 0.0\n",
      "epoch 3 loss 0.0\n",
      "epoch 4 loss 0.0\n",
      "epoch 5 loss 0.0\n",
      "epoch 6 loss 0.0\n",
      "epoch 7 loss 0.0\n",
      "epoch 8 loss 0.0\n",
      "epoch 9 loss 0.0\n",
      "WARNING: defualt optimization passes will be enlarged to all fuse and elimination passes in the next version\n",
      "current depth: 8\n"
     ]
    },
    {
     "name": "stderr",
     "output_type": "stream",
     "text": [
      "100%|██████████| 5/5 [00:04<00:00,  1.25it/s]\n"
     ]
    },
    {
     "name": "stdout",
     "output_type": "stream",
     "text": [
      "potential next fragments: 43\n",
      "potential next fragments after thresholding of 0.8: 6 ['0.94', '0.94', '0.87', '0.85', '0.84', '0.84']\n",
      "totalscore 0.7021298621178349\n",
      "epoch 0 loss 0.0\n",
      "epoch 1 loss 0.0\n",
      "epoch 2 loss 0.0\n",
      "epoch 3 loss 0.0\n",
      "epoch 4 loss 0.0\n",
      "epoch 5 loss 0.0\n",
      "epoch 6 loss 0.0\n",
      "epoch 7 loss 0.0\n",
      "epoch 8 loss 0.0\n",
      "epoch 9 loss 0.0\n",
      "WARNING: defualt optimization passes will be enlarged to all fuse and elimination passes in the next version\n",
      "current depth: 9\n"
     ]
    },
    {
     "name": "stderr",
     "output_type": "stream",
     "text": [
      "100%|██████████| 5/5 [00:03<00:00,  1.26it/s]\n"
     ]
    },
    {
     "name": "stdout",
     "output_type": "stream",
     "text": [
      "potential next fragments: 5\n",
      "potential next fragments after thresholding of 0.8: 3 ['0.91', '0.85', '0.81']\n",
      "totalscore 0.6413720332317052\n",
      "epoch 0 loss 0.0\n",
      "epoch 1 loss 0.0\n",
      "epoch 2 loss 0.0\n",
      "epoch 3 loss 0.0\n",
      "epoch 4 loss 0.0\n",
      "epoch 5 loss 0.0\n",
      "epoch 6 loss 0.0\n",
      "epoch 7 loss 0.0\n",
      "epoch 8 loss 0.0\n",
      "epoch 9 loss 0.0\n",
      "WARNING: defualt optimization passes will be enlarged to all fuse and elimination passes in the next version\n"
     ]
    },
    {
     "name": "stderr",
     "output_type": "stream",
     "text": [
      "  0%|          | 0/80 [00:00<?, ?it/s]/opt/anaconda3/envs/stitchnet/lib/python3.10/site-packages/onnxruntime/capi/onnxruntime_inference_collection.py:54: UserWarning: Specified provider 'CUDAExecutionProvider' is not in available provider names.Available providers: 'CPUExecutionProvider'\n",
      "  warnings.warn(\n",
      "100%|██████████| 80/80 [01:19<00:00,  1.01it/s]\n"
     ]
    },
    {
     "name": "stdout",
     "output_type": "stream",
     "text": [
      "len(self.fragments) 1\n",
      "saving to _results/result_paper_32_t2/net076_076\n",
      "totalscore 0.7006467550941589\n",
      "epoch 0 loss 0.0\n",
      "epoch 1 loss 0.0\n",
      "epoch 2 loss 0.0\n",
      "epoch 3 loss 0.0\n",
      "epoch 4 loss 0.0\n",
      "epoch 5 loss 0.0\n",
      "epoch 6 loss 0.0\n",
      "epoch 7 loss 0.0\n",
      "epoch 8 loss 0.0\n",
      "epoch 9 loss 0.0\n",
      "WARNING: defualt optimization passes will be enlarged to all fuse and elimination passes in the next version\n"
     ]
    },
    {
     "name": "stderr",
     "output_type": "stream",
     "text": [
      "  0%|          | 0/80 [00:00<?, ?it/s]/opt/anaconda3/envs/stitchnet/lib/python3.10/site-packages/onnxruntime/capi/onnxruntime_inference_collection.py:54: UserWarning: Specified provider 'CUDAExecutionProvider' is not in available provider names.Available providers: 'CPUExecutionProvider'\n",
      "  warnings.warn(\n",
      "100%|██████████| 80/80 [01:18<00:00,  1.01it/s]\n"
     ]
    },
    {
     "name": "stdout",
     "output_type": "stream",
     "text": [
      "len(self.fragments) 1\n",
      "saving to _results/result_paper_32_t2/net077_077\n",
      "totalscore 0.6497074064666009\n",
      "epoch 0 loss 0.0\n",
      "epoch 1 loss 0.0\n",
      "epoch 2 loss 0.0\n",
      "epoch 3 loss 0.0\n",
      "epoch 4 loss 0.0\n",
      "epoch 5 loss 0.0\n",
      "epoch 6 loss 0.0\n",
      "epoch 7 loss 0.0\n",
      "epoch 8 loss 0.0\n",
      "epoch 9 loss 0.0\n",
      "WARNING: defualt optimization passes will be enlarged to all fuse and elimination passes in the next version\n",
      "current depth: 9\n"
     ]
    },
    {
     "name": "stderr",
     "output_type": "stream",
     "text": [
      "100%|██████████| 5/5 [00:04<00:00,  1.09it/s]\n"
     ]
    },
    {
     "name": "stdout",
     "output_type": "stream",
     "text": [
      "potential next fragments: 5\n",
      "potential next fragments after thresholding of 0.8: 4 ['0.97', '0.87', '0.87', '0.83']\n",
      "totalscore 0.6300444161916811\n",
      "epoch 0 loss 0.0\n",
      "epoch 1 loss 0.0\n",
      "epoch 2 loss 0.0\n",
      "epoch 3 loss 0.0\n",
      "epoch 4 loss 0.0\n",
      "epoch 5 loss 0.0\n",
      "epoch 6 loss 0.0\n",
      "epoch 7 loss 0.0\n",
      "epoch 8 loss 0.0\n",
      "epoch 9 loss 0.0\n",
      "WARNING: defualt optimization passes will be enlarged to all fuse and elimination passes in the next version\n"
     ]
    },
    {
     "name": "stderr",
     "output_type": "stream",
     "text": [
      "  0%|          | 0/80 [00:00<?, ?it/s]/opt/anaconda3/envs/stitchnet/lib/python3.10/site-packages/onnxruntime/capi/onnxruntime_inference_collection.py:54: UserWarning: Specified provider 'CUDAExecutionProvider' is not in available provider names.Available providers: 'CPUExecutionProvider'\n",
      "  warnings.warn(\n",
      "100%|██████████| 80/80 [01:17<00:00,  1.03it/s]\n"
     ]
    },
    {
     "name": "stdout",
     "output_type": "stream",
     "text": [
      "len(self.fragments) 1\n",
      "saving to _results/result_paper_32_t2/net078_078\n",
      "totalscore 0.6322390494169865\n",
      "epoch 0 loss 0.0\n",
      "epoch 1 loss 0.0\n",
      "epoch 2 loss 0.0\n",
      "epoch 3 loss 0.0\n",
      "epoch 4 loss 0.0\n",
      "epoch 5 loss 0.0\n",
      "epoch 6 loss 0.0\n",
      "epoch 7 loss 0.0\n",
      "epoch 8 loss 0.0\n",
      "epoch 9 loss 0.0\n",
      "WARNING: defualt optimization passes will be enlarged to all fuse and elimination passes in the next version\n"
     ]
    },
    {
     "name": "stderr",
     "output_type": "stream",
     "text": [
      "  0%|          | 0/80 [00:00<?, ?it/s]/opt/anaconda3/envs/stitchnet/lib/python3.10/site-packages/onnxruntime/capi/onnxruntime_inference_collection.py:54: UserWarning: Specified provider 'CUDAExecutionProvider' is not in available provider names.Available providers: 'CPUExecutionProvider'\n",
      "  warnings.warn(\n",
      "100%|██████████| 80/80 [01:11<00:00,  1.12it/s]\n"
     ]
    },
    {
     "name": "stdout",
     "output_type": "stream",
     "text": [
      "len(self.fragments) 1\n",
      "saving to _results/result_paper_32_t2/net079_079\n",
      "totalscore 0.6239586019584207\n",
      "epoch 0 loss 0.0\n",
      "epoch 1 loss 0.0\n",
      "epoch 2 loss 0.0\n",
      "epoch 3 loss 0.0\n",
      "epoch 4 loss 0.0\n",
      "epoch 5 loss 0.0\n",
      "epoch 6 loss 0.0\n",
      "epoch 7 loss 0.0\n",
      "epoch 8 loss 0.0\n",
      "epoch 9 loss 0.0\n",
      "WARNING: defualt optimization passes will be enlarged to all fuse and elimination passes in the next version\n"
     ]
    },
    {
     "name": "stderr",
     "output_type": "stream",
     "text": [
      "  0%|          | 0/80 [00:00<?, ?it/s]/opt/anaconda3/envs/stitchnet/lib/python3.10/site-packages/onnxruntime/capi/onnxruntime_inference_collection.py:54: UserWarning: Specified provider 'CUDAExecutionProvider' is not in available provider names.Available providers: 'CPUExecutionProvider'\n",
      "  warnings.warn(\n",
      "100%|██████████| 80/80 [01:04<00:00,  1.24it/s]\n"
     ]
    },
    {
     "name": "stdout",
     "output_type": "stream",
     "text": [
      "len(self.fragments) 1\n",
      "saving to _results/result_paper_32_t2/net080_080\n",
      "totalscore 0.6233598370128967\n",
      "epoch 0 loss 0.0\n",
      "epoch 1 loss 0.0\n",
      "epoch 2 loss 0.0\n",
      "epoch 3 loss 0.0\n",
      "epoch 4 loss 0.0\n",
      "epoch 5 loss 0.0\n",
      "epoch 6 loss 0.0\n",
      "epoch 7 loss 0.0\n",
      "epoch 8 loss 0.0\n",
      "epoch 9 loss 0.0\n",
      "WARNING: defualt optimization passes will be enlarged to all fuse and elimination passes in the next version\n",
      "current depth: 9\n"
     ]
    },
    {
     "name": "stderr",
     "output_type": "stream",
     "text": [
      "100%|██████████| 5/5 [00:03<00:00,  1.28it/s]\n"
     ]
    },
    {
     "name": "stdout",
     "output_type": "stream",
     "text": [
      "potential next fragments: 5\n",
      "potential next fragments after thresholding of 0.8: 3 ['0.91', '0.84', '0.82']\n",
      "totalscore 0.7091973107756594\n",
      "epoch 0 loss 0.0\n",
      "epoch 1 loss 0.0\n",
      "epoch 2 loss 0.0\n",
      "epoch 3 loss 0.0\n",
      "epoch 4 loss 0.0\n",
      "epoch 5 loss 0.0\n",
      "epoch 6 loss 0.0\n",
      "epoch 7 loss 0.0\n",
      "epoch 8 loss 0.0\n",
      "epoch 9 loss 0.0\n",
      "WARNING: defualt optimization passes will be enlarged to all fuse and elimination passes in the next version\n",
      "current depth: 8\n"
     ]
    },
    {
     "name": "stderr",
     "output_type": "stream",
     "text": [
      "100%|██████████| 5/5 [00:03<00:00,  1.34it/s]\n"
     ]
    },
    {
     "name": "stdout",
     "output_type": "stream",
     "text": [
      "potential next fragments: 43\n",
      "potential next fragments after thresholding of 0.8: 8 ['0.98', '0.92', '0.91', '0.83', '0.83', '0.83', '0.82', '0.8']\n",
      "totalscore 0.6919850511378938\n",
      "epoch 0 loss 0.0\n",
      "epoch 1 loss 0.0\n",
      "epoch 2 loss 0.0\n",
      "epoch 3 loss 0.0\n",
      "epoch 4 loss 0.0\n",
      "epoch 5 loss 0.0\n",
      "epoch 6 loss 0.0\n",
      "epoch 7 loss 0.0\n",
      "epoch 8 loss 0.0\n",
      "epoch 9 loss 0.0\n",
      "WARNING: defualt optimization passes will be enlarged to all fuse and elimination passes in the next version\n",
      "current depth: 9\n"
     ]
    },
    {
     "name": "stderr",
     "output_type": "stream",
     "text": [
      "100%|██████████| 5/5 [00:03<00:00,  1.33it/s]\n"
     ]
    },
    {
     "name": "stdout",
     "output_type": "stream",
     "text": [
      "potential next fragments: 5\n",
      "potential next fragments after thresholding of 0.8: 2 ['0.94', '0.85']\n",
      "totalscore 0.6523349460564053\n",
      "epoch 0 loss 0.0\n",
      "epoch 1 loss 0.0\n",
      "epoch 2 loss 0.0\n",
      "epoch 3 loss 0.0\n",
      "epoch 4 loss 0.0\n",
      "epoch 5 loss 0.0\n",
      "epoch 6 loss 0.0\n",
      "epoch 7 loss 0.0\n",
      "epoch 8 loss 0.0\n",
      "epoch 9 loss 0.0\n",
      "WARNING: defualt optimization passes will be enlarged to all fuse and elimination passes in the next version\n"
     ]
    },
    {
     "name": "stderr",
     "output_type": "stream",
     "text": [
      "  0%|          | 0/80 [00:00<?, ?it/s]/opt/anaconda3/envs/stitchnet/lib/python3.10/site-packages/onnxruntime/capi/onnxruntime_inference_collection.py:54: UserWarning: Specified provider 'CUDAExecutionProvider' is not in available provider names.Available providers: 'CPUExecutionProvider'\n",
      "  warnings.warn(\n",
      "100%|██████████| 80/80 [01:07<00:00,  1.18it/s]\n"
     ]
    },
    {
     "name": "stdout",
     "output_type": "stream",
     "text": [
      "len(self.fragments) 1\n",
      "saving to _results/result_paper_32_t2/net081_081\n",
      "totalscore 0.6499389042021193\n",
      "epoch 0 loss 0.0\n",
      "epoch 1 loss 0.0\n",
      "epoch 2 loss 0.0\n",
      "epoch 3 loss 0.0\n",
      "epoch 4 loss 0.0\n",
      "epoch 5 loss 0.0\n",
      "epoch 6 loss 0.0\n",
      "epoch 7 loss 0.0\n",
      "epoch 8 loss 0.0\n",
      "epoch 9 loss 0.0\n",
      "WARNING: defualt optimization passes will be enlarged to all fuse and elimination passes in the next version\n",
      "current depth: 9\n"
     ]
    },
    {
     "name": "stderr",
     "output_type": "stream",
     "text": [
      "100%|██████████| 5/5 [00:03<00:00,  1.30it/s]\n"
     ]
    },
    {
     "name": "stdout",
     "output_type": "stream",
     "text": [
      "potential next fragments: 5\n",
      "potential next fragments after thresholding of 0.8: 2 ['0.95', '0.82']\n",
      "totalscore 0.6168034100846294\n",
      "epoch 0 loss 0.0\n",
      "epoch 1 loss 0.0\n",
      "epoch 2 loss 0.0\n",
      "epoch 3 loss 0.0\n",
      "epoch 4 loss 0.0\n",
      "epoch 5 loss 0.0\n",
      "epoch 6 loss 0.0\n",
      "epoch 7 loss 0.0\n",
      "epoch 8 loss 0.0\n",
      "epoch 9 loss 0.0\n",
      "WARNING: defualt optimization passes will be enlarged to all fuse and elimination passes in the next version\n"
     ]
    },
    {
     "name": "stderr",
     "output_type": "stream",
     "text": [
      "  0%|          | 0/80 [00:00<?, ?it/s]/opt/anaconda3/envs/stitchnet/lib/python3.10/site-packages/onnxruntime/capi/onnxruntime_inference_collection.py:54: UserWarning: Specified provider 'CUDAExecutionProvider' is not in available provider names.Available providers: 'CPUExecutionProvider'\n",
      "  warnings.warn(\n",
      "100%|██████████| 80/80 [01:08<00:00,  1.17it/s]\n"
     ]
    },
    {
     "name": "stdout",
     "output_type": "stream",
     "text": [
      "len(self.fragments) 1\n",
      "saving to _results/result_paper_32_t2/net082_082\n",
      "totalscore 0.643063917230071\n",
      "epoch 0 loss 0.0\n",
      "epoch 1 loss 0.0\n",
      "epoch 2 loss 0.0\n",
      "epoch 3 loss 0.0\n",
      "epoch 4 loss 0.0\n",
      "epoch 5 loss 0.0\n",
      "epoch 6 loss 0.0\n",
      "epoch 7 loss 0.0\n",
      "epoch 8 loss 0.0\n",
      "epoch 9 loss 0.0\n",
      "WARNING: defualt optimization passes will be enlarged to all fuse and elimination passes in the next version\n"
     ]
    },
    {
     "name": "stderr",
     "output_type": "stream",
     "text": [
      "  0%|          | 0/80 [00:00<?, ?it/s]/opt/anaconda3/envs/stitchnet/lib/python3.10/site-packages/onnxruntime/capi/onnxruntime_inference_collection.py:54: UserWarning: Specified provider 'CUDAExecutionProvider' is not in available provider names.Available providers: 'CPUExecutionProvider'\n",
      "  warnings.warn(\n",
      "100%|██████████| 80/80 [01:03<00:00,  1.26it/s]\n"
     ]
    },
    {
     "name": "stdout",
     "output_type": "stream",
     "text": [
      "len(self.fragments) 1\n",
      "saving to _results/result_paper_32_t2/net083_083\n",
      "totalscore 0.68450632974518\n",
      "epoch 0 loss 0.0\n",
      "epoch 1 loss 0.0\n",
      "epoch 2 loss 0.0\n",
      "epoch 3 loss 0.0\n",
      "epoch 4 loss 0.0\n",
      "epoch 5 loss 0.0\n",
      "epoch 6 loss 0.0\n",
      "epoch 7 loss 0.0\n",
      "epoch 8 loss 0.0\n",
      "epoch 9 loss 0.0\n",
      "WARNING: defualt optimization passes will be enlarged to all fuse and elimination passes in the next version\n"
     ]
    },
    {
     "name": "stderr",
     "output_type": "stream",
     "text": [
      "  0%|          | 0/80 [00:00<?, ?it/s]/opt/anaconda3/envs/stitchnet/lib/python3.10/site-packages/onnxruntime/capi/onnxruntime_inference_collection.py:54: UserWarning: Specified provider 'CUDAExecutionProvider' is not in available provider names.Available providers: 'CPUExecutionProvider'\n",
      "  warnings.warn(\n",
      "100%|██████████| 80/80 [01:00<00:00,  1.32it/s]\n"
     ]
    },
    {
     "name": "stdout",
     "output_type": "stream",
     "text": [
      "len(self.fragments) 1\n",
      "saving to _results/result_paper_32_t2/net084_084\n",
      "totalscore 0.6686139703039368\n",
      "epoch 0 loss 0.0\n",
      "epoch 1 loss 0.0\n",
      "epoch 2 loss 0.0\n",
      "epoch 3 loss 0.0\n",
      "epoch 4 loss 0.0\n",
      "epoch 5 loss 0.0\n",
      "epoch 6 loss 0.0\n",
      "epoch 7 loss 0.0\n",
      "epoch 8 loss 0.0\n",
      "epoch 9 loss 0.0\n",
      "WARNING: defualt optimization passes will be enlarged to all fuse and elimination passes in the next version\n"
     ]
    },
    {
     "name": "stderr",
     "output_type": "stream",
     "text": [
      "  0%|          | 0/80 [00:00<?, ?it/s]/opt/anaconda3/envs/stitchnet/lib/python3.10/site-packages/onnxruntime/capi/onnxruntime_inference_collection.py:54: UserWarning: Specified provider 'CUDAExecutionProvider' is not in available provider names.Available providers: 'CPUExecutionProvider'\n",
      "  warnings.warn(\n",
      "100%|██████████| 80/80 [01:00<00:00,  1.32it/s]\n"
     ]
    },
    {
     "name": "stdout",
     "output_type": "stream",
     "text": [
      "len(self.fragments) 1\n",
      "saving to _results/result_paper_32_t2/net085_085\n",
      "totalscore 0.656432817045596\n",
      "epoch 0 loss 0.0\n",
      "epoch 1 loss 0.0\n",
      "epoch 2 loss 0.0\n",
      "epoch 3 loss 0.0\n",
      "epoch 4 loss 0.0\n",
      "epoch 5 loss 0.0\n",
      "epoch 6 loss 0.0\n",
      "epoch 7 loss 0.0\n",
      "epoch 8 loss 0.0\n",
      "epoch 9 loss 0.0\n",
      "WARNING: defualt optimization passes will be enlarged to all fuse and elimination passes in the next version\n",
      "current depth: 8\n"
     ]
    },
    {
     "name": "stderr",
     "output_type": "stream",
     "text": [
      "100%|██████████| 5/5 [00:03<00:00,  1.34it/s]\n"
     ]
    },
    {
     "name": "stdout",
     "output_type": "stream",
     "text": [
      "potential next fragments: 43\n",
      "potential next fragments after thresholding of 0.8: 7 ['0.98', '0.94', '0.89', '0.86', '0.84', '0.83', '0.83']\n",
      "totalscore 0.64211715514041\n",
      "epoch 0 loss 0.0\n",
      "epoch 1 loss 0.0\n",
      "epoch 2 loss 0.0\n",
      "epoch 3 loss 0.0\n",
      "epoch 4 loss 0.0\n",
      "epoch 5 loss 0.0\n",
      "epoch 6 loss 0.0\n",
      "epoch 7 loss 0.0\n",
      "epoch 8 loss 0.0\n",
      "epoch 9 loss 0.0\n",
      "WARNING: defualt optimization passes will be enlarged to all fuse and elimination passes in the next version\n"
     ]
    },
    {
     "name": "stderr",
     "output_type": "stream",
     "text": [
      "  0%|          | 0/80 [00:00<?, ?it/s]/opt/anaconda3/envs/stitchnet/lib/python3.10/site-packages/onnxruntime/capi/onnxruntime_inference_collection.py:54: UserWarning: Specified provider 'CUDAExecutionProvider' is not in available provider names.Available providers: 'CPUExecutionProvider'\n",
      "  warnings.warn(\n",
      "100%|██████████| 80/80 [01:04<00:00,  1.23it/s]\n"
     ]
    },
    {
     "name": "stdout",
     "output_type": "stream",
     "text": [
      "len(self.fragments) 1\n",
      "saving to _results/result_paper_32_t2/net086_086\n",
      "totalscore 0.6187157067112227\n",
      "epoch 0 loss 0.0\n",
      "epoch 1 loss 0.0\n",
      "epoch 2 loss 0.0\n",
      "epoch 3 loss 0.0\n",
      "epoch 4 loss 0.0\n",
      "epoch 5 loss 0.0\n",
      "epoch 6 loss 0.0\n",
      "epoch 7 loss 0.0\n",
      "epoch 8 loss 0.0\n",
      "epoch 9 loss 0.0\n",
      "WARNING: defualt optimization passes will be enlarged to all fuse and elimination passes in the next version\n",
      "current depth: 9\n"
     ]
    },
    {
     "name": "stderr",
     "output_type": "stream",
     "text": [
      "100%|██████████| 5/5 [00:03<00:00,  1.28it/s]\n"
     ]
    },
    {
     "name": "stdout",
     "output_type": "stream",
     "text": [
      "potential next fragments: 5\n",
      "potential next fragments after thresholding of 0.8: 4 ['0.97', '0.88', '0.87', '0.83']\n",
      "totalscore 0.7902186444573644\n",
      "epoch 0 loss 0.0\n",
      "epoch 1 loss 0.0\n",
      "epoch 2 loss 0.0\n",
      "epoch 3 loss 0.0\n",
      "epoch 4 loss 0.0\n",
      "epoch 5 loss 0.0\n",
      "epoch 6 loss 0.0\n",
      "epoch 7 loss 0.0\n",
      "epoch 8 loss 0.0\n",
      "epoch 9 loss 0.0\n",
      "WARNING: defualt optimization passes will be enlarged to all fuse and elimination passes in the next version\n"
     ]
    },
    {
     "name": "stderr",
     "output_type": "stream",
     "text": [
      "  0%|          | 0/80 [00:00<?, ?it/s]/opt/anaconda3/envs/stitchnet/lib/python3.10/site-packages/onnxruntime/capi/onnxruntime_inference_collection.py:54: UserWarning: Specified provider 'CUDAExecutionProvider' is not in available provider names.Available providers: 'CPUExecutionProvider'\n",
      "  warnings.warn(\n",
      "100%|██████████| 80/80 [00:57<00:00,  1.40it/s]\n"
     ]
    },
    {
     "name": "stdout",
     "output_type": "stream",
     "text": [
      "len(self.fragments) 1\n",
      "saving to _results/result_paper_32_t2/net087_087\n",
      "totalscore 0.7763382876191973\n",
      "epoch 0 loss 0.0\n",
      "epoch 1 loss 0.0\n",
      "epoch 2 loss 0.0\n",
      "epoch 3 loss 0.0\n",
      "epoch 4 loss 0.0\n",
      "epoch 5 loss 0.0\n",
      "epoch 6 loss 0.0\n",
      "epoch 7 loss 0.0\n",
      "epoch 8 loss 0.0\n",
      "epoch 9 loss 0.0\n",
      "WARNING: defualt optimization passes will be enlarged to all fuse and elimination passes in the next version\n"
     ]
    },
    {
     "name": "stderr",
     "output_type": "stream",
     "text": [
      "  0%|          | 0/80 [00:00<?, ?it/s]/opt/anaconda3/envs/stitchnet/lib/python3.10/site-packages/onnxruntime/capi/onnxruntime_inference_collection.py:54: UserWarning: Specified provider 'CUDAExecutionProvider' is not in available provider names.Available providers: 'CPUExecutionProvider'\n",
      "  warnings.warn(\n",
      "100%|██████████| 80/80 [00:56<00:00,  1.41it/s]\n"
     ]
    },
    {
     "name": "stdout",
     "output_type": "stream",
     "text": [
      "len(self.fragments) 1\n",
      "saving to _results/result_paper_32_t2/net088_088\n",
      "totalscore 0.756451384201586\n",
      "epoch 0 loss 0.0\n",
      "epoch 1 loss 0.0\n",
      "epoch 2 loss 0.0\n",
      "epoch 3 loss 0.0\n",
      "epoch 4 loss 0.0\n",
      "epoch 5 loss 0.0\n",
      "epoch 6 loss 0.0\n",
      "epoch 7 loss 0.0\n",
      "epoch 8 loss 0.0\n",
      "epoch 9 loss 0.0\n",
      "WARNING: defualt optimization passes will be enlarged to all fuse and elimination passes in the next version\n",
      "current depth: 7\n"
     ]
    },
    {
     "name": "stderr",
     "output_type": "stream",
     "text": [
      "100%|██████████| 5/5 [00:03<00:00,  1.30it/s]\n"
     ]
    },
    {
     "name": "stdout",
     "output_type": "stream",
     "text": [
      "potential next fragments: 43\n",
      "potential next fragments after thresholding of 0.8: 8 ['0.98', '0.92', '0.91', '0.85', '0.85', '0.84', '0.83', '0.81']\n",
      "totalscore 0.7380814443523913\n",
      "epoch 0 loss 0.0\n",
      "epoch 1 loss 0.0\n",
      "epoch 2 loss 0.0\n",
      "epoch 3 loss 0.0\n",
      "epoch 4 loss 0.0\n",
      "epoch 5 loss 0.0\n",
      "epoch 6 loss 0.0\n",
      "epoch 7 loss 0.0\n",
      "epoch 8 loss 0.0\n",
      "epoch 9 loss 0.0\n",
      "WARNING: defualt optimization passes will be enlarged to all fuse and elimination passes in the next version\n",
      "current depth: 8\n"
     ]
    },
    {
     "name": "stderr",
     "output_type": "stream",
     "text": [
      "100%|██████████| 5/5 [00:03<00:00,  1.35it/s]\n"
     ]
    },
    {
     "name": "stdout",
     "output_type": "stream",
     "text": [
      "potential next fragments: 43\n",
      "potential next fragments after thresholding of 0.8: 8 ['0.89', '0.88', '0.86', '0.85', '0.81', '0.81', '0.81', '0.81']\n",
      "totalscore 0.6591183489076394\n",
      "epoch 0 loss 0.0\n",
      "epoch 1 loss 0.0\n",
      "epoch 2 loss 0.0\n",
      "epoch 3 loss 0.0\n",
      "epoch 4 loss 0.0\n",
      "epoch 5 loss 0.0\n",
      "epoch 6 loss 0.0\n",
      "epoch 7 loss 0.0\n",
      "epoch 8 loss 0.0\n",
      "epoch 9 loss 0.0\n",
      "WARNING: defualt optimization passes will be enlarged to all fuse and elimination passes in the next version\n",
      "current depth: 9\n"
     ]
    },
    {
     "name": "stderr",
     "output_type": "stream",
     "text": [
      "100%|██████████| 5/5 [00:03<00:00,  1.36it/s]\n"
     ]
    },
    {
     "name": "stdout",
     "output_type": "stream",
     "text": [
      "potential next fragments: 5\n",
      "potential next fragments after thresholding of 0.8: 2 ['0.93', '0.85']\n",
      "totalscore 0.6149966067295691\n",
      "epoch 0 loss 0.0\n",
      "epoch 1 loss 0.0\n",
      "epoch 2 loss 0.0\n",
      "epoch 3 loss 0.0\n",
      "epoch 4 loss 0.0\n",
      "epoch 5 loss 0.0\n",
      "epoch 6 loss 0.0\n",
      "epoch 7 loss 0.0\n",
      "epoch 8 loss 0.0\n",
      "epoch 9 loss 0.0\n",
      "WARNING: defualt optimization passes will be enlarged to all fuse and elimination passes in the next version\n"
     ]
    },
    {
     "name": "stderr",
     "output_type": "stream",
     "text": [
      "  0%|          | 0/80 [00:00<?, ?it/s]/opt/anaconda3/envs/stitchnet/lib/python3.10/site-packages/onnxruntime/capi/onnxruntime_inference_collection.py:54: UserWarning: Specified provider 'CUDAExecutionProvider' is not in available provider names.Available providers: 'CPUExecutionProvider'\n",
      "  warnings.warn(\n",
      "100%|██████████| 80/80 [01:06<00:00,  1.21it/s]\n"
     ]
    },
    {
     "name": "stdout",
     "output_type": "stream",
     "text": [
      "len(self.fragments) 1\n",
      "saving to _results/result_paper_32_t2/net089_089\n",
      "totalscore 0.6504597624274329\n",
      "epoch 0 loss 0.0\n",
      "epoch 1 loss 0.0\n",
      "epoch 2 loss 0.0\n",
      "epoch 3 loss 0.0\n",
      "epoch 4 loss 0.0\n",
      "epoch 5 loss 0.0\n",
      "epoch 6 loss 0.0\n",
      "epoch 7 loss 0.0\n",
      "epoch 8 loss 0.0\n",
      "epoch 9 loss 0.0\n",
      "WARNING: defualt optimization passes will be enlarged to all fuse and elimination passes in the next version\n"
     ]
    },
    {
     "name": "stderr",
     "output_type": "stream",
     "text": [
      "  0%|          | 0/80 [00:00<?, ?it/s]/opt/anaconda3/envs/stitchnet/lib/python3.10/site-packages/onnxruntime/capi/onnxruntime_inference_collection.py:54: UserWarning: Specified provider 'CUDAExecutionProvider' is not in available provider names.Available providers: 'CPUExecutionProvider'\n",
      "  warnings.warn(\n",
      "100%|██████████| 80/80 [01:03<00:00,  1.26it/s]\n"
     ]
    },
    {
     "name": "stdout",
     "output_type": "stream",
     "text": [
      "len(self.fragments) 1\n",
      "saving to _results/result_paper_32_t2/net090_090\n",
      "totalscore 0.6312579258210338\n",
      "epoch 0 loss 0.0\n",
      "epoch 1 loss 0.0\n",
      "epoch 2 loss 0.0\n",
      "epoch 3 loss 0.0\n",
      "epoch 4 loss 0.0\n",
      "epoch 5 loss 0.0\n",
      "epoch 6 loss 0.0\n",
      "epoch 7 loss 0.0\n",
      "epoch 8 loss 0.0\n",
      "epoch 9 loss 0.0\n",
      "WARNING: defualt optimization passes will be enlarged to all fuse and elimination passes in the next version\n",
      "current depth: 9\n"
     ]
    },
    {
     "name": "stderr",
     "output_type": "stream",
     "text": [
      "100%|██████████| 5/5 [00:03<00:00,  1.34it/s]\n"
     ]
    },
    {
     "name": "stdout",
     "output_type": "stream",
     "text": [
      "potential next fragments: 5\n",
      "potential next fragments after thresholding of 0.8: 4 ['0.97', '0.89', '0.87', '0.85']\n",
      "totalscore 0.6119800303048833\n",
      "epoch 0 loss 0.0\n",
      "epoch 1 loss 0.0\n",
      "epoch 2 loss 0.0\n",
      "epoch 3 loss 0.0\n",
      "epoch 4 loss 0.0\n",
      "epoch 5 loss 0.0\n",
      "epoch 6 loss 0.0\n",
      "epoch 7 loss 0.0\n",
      "epoch 8 loss 0.0\n",
      "epoch 9 loss 0.0\n",
      "WARNING: defualt optimization passes will be enlarged to all fuse and elimination passes in the next version\n"
     ]
    },
    {
     "name": "stderr",
     "output_type": "stream",
     "text": [
      "  0%|          | 0/80 [00:00<?, ?it/s]/opt/anaconda3/envs/stitchnet/lib/python3.10/site-packages/onnxruntime/capi/onnxruntime_inference_collection.py:54: UserWarning: Specified provider 'CUDAExecutionProvider' is not in available provider names.Available providers: 'CPUExecutionProvider'\n",
      "  warnings.warn(\n",
      "100%|██████████| 80/80 [01:06<00:00,  1.20it/s]\n"
     ]
    },
    {
     "name": "stdout",
     "output_type": "stream",
     "text": [
      "len(self.fragments) 1\n",
      "saving to _results/result_paper_32_t2/net091_091\n",
      "totalscore 0.6279315208817177\n",
      "epoch 0 loss 0.0\n",
      "epoch 1 loss 0.0\n",
      "epoch 2 loss 0.0\n",
      "epoch 3 loss 0.0\n",
      "epoch 4 loss 0.0\n",
      "epoch 5 loss 0.0\n",
      "epoch 6 loss 0.0\n",
      "epoch 7 loss 0.0\n",
      "epoch 8 loss 0.0\n",
      "epoch 9 loss 0.0\n",
      "WARNING: defualt optimization passes will be enlarged to all fuse and elimination passes in the next version\n",
      "current depth: 9\n"
     ]
    },
    {
     "name": "stderr",
     "output_type": "stream",
     "text": [
      "100%|██████████| 5/5 [00:03<00:00,  1.30it/s]\n"
     ]
    },
    {
     "name": "stdout",
     "output_type": "stream",
     "text": [
      "potential next fragments: 5\n",
      "potential next fragments after thresholding of 0.8: 2 ['0.92', '0.84']\n",
      "totalscore 0.6004451709739593\n",
      "epoch 0 loss 0.0\n",
      "epoch 1 loss 0.0\n",
      "epoch 2 loss 0.0\n",
      "epoch 3 loss 0.0\n",
      "epoch 4 loss 0.0\n",
      "epoch 5 loss 0.0\n",
      "epoch 6 loss 0.0\n",
      "epoch 7 loss 0.0\n",
      "epoch 8 loss 0.0\n",
      "epoch 9 loss 0.0\n",
      "WARNING: defualt optimization passes will be enlarged to all fuse and elimination passes in the next version\n"
     ]
    },
    {
     "name": "stderr",
     "output_type": "stream",
     "text": [
      "  0%|          | 0/80 [00:00<?, ?it/s]/opt/anaconda3/envs/stitchnet/lib/python3.10/site-packages/onnxruntime/capi/onnxruntime_inference_collection.py:54: UserWarning: Specified provider 'CUDAExecutionProvider' is not in available provider names.Available providers: 'CPUExecutionProvider'\n",
      "  warnings.warn(\n",
      "100%|██████████| 80/80 [01:03<00:00,  1.26it/s]\n"
     ]
    },
    {
     "name": "stdout",
     "output_type": "stream",
     "text": [
      "len(self.fragments) 1\n",
      "saving to _results/result_paper_32_t2/net092_092\n",
      "totalscore 0.6939886109973525\n",
      "epoch 0 loss 0.0\n",
      "epoch 1 loss 0.0\n",
      "epoch 2 loss 0.0\n",
      "epoch 3 loss 0.0\n",
      "epoch 4 loss 0.0\n",
      "epoch 5 loss 0.0\n",
      "epoch 6 loss 0.0\n",
      "epoch 7 loss 0.0\n",
      "epoch 8 loss 0.0\n",
      "epoch 9 loss 0.0\n",
      "WARNING: defualt optimization passes will be enlarged to all fuse and elimination passes in the next version\n"
     ]
    },
    {
     "name": "stderr",
     "output_type": "stream",
     "text": [
      "  0%|          | 0/80 [00:00<?, ?it/s]/opt/anaconda3/envs/stitchnet/lib/python3.10/site-packages/onnxruntime/capi/onnxruntime_inference_collection.py:54: UserWarning: Specified provider 'CUDAExecutionProvider' is not in available provider names.Available providers: 'CPUExecutionProvider'\n",
      "  warnings.warn(\n",
      "100%|██████████| 80/80 [01:00<00:00,  1.31it/s]\n"
     ]
    },
    {
     "name": "stdout",
     "output_type": "stream",
     "text": [
      "len(self.fragments) 1\n",
      "saving to _results/result_paper_32_t2/net093_093\n",
      "totalscore 0.6855319928839492\n",
      "epoch 0 loss 0.0\n",
      "epoch 1 loss 0.0\n",
      "epoch 2 loss 0.0\n",
      "epoch 3 loss 0.0\n",
      "epoch 4 loss 0.0\n",
      "epoch 5 loss 0.0\n",
      "epoch 6 loss 0.0\n",
      "epoch 7 loss 0.0\n",
      "epoch 8 loss 0.0\n",
      "epoch 9 loss 0.0\n",
      "WARNING: defualt optimization passes will be enlarged to all fuse and elimination passes in the next version\n",
      "current depth: 8\n"
     ]
    },
    {
     "name": "stderr",
     "output_type": "stream",
     "text": [
      "100%|██████████| 5/5 [00:03<00:00,  1.31it/s]\n"
     ]
    },
    {
     "name": "stdout",
     "output_type": "stream",
     "text": [
      "potential next fragments: 43\n",
      "potential next fragments after thresholding of 0.8: 10 ['0.98', '0.89', '0.89', '0.86', '0.84', '0.84', '0.81', '0.81', '0.81', '0.8']\n",
      "totalscore 0.6712906239896212\n",
      "epoch 0 loss 0.0\n",
      "epoch 1 loss 0.0\n",
      "epoch 2 loss 0.0\n",
      "epoch 3 loss 0.0\n",
      "epoch 4 loss 0.0\n",
      "epoch 5 loss 0.0\n",
      "epoch 6 loss 0.0\n",
      "epoch 7 loss 0.0\n",
      "epoch 8 loss 0.0\n",
      "epoch 9 loss 0.0\n",
      "WARNING: defualt optimization passes will be enlarged to all fuse and elimination passes in the next version\n",
      "current depth: 9\n"
     ]
    },
    {
     "name": "stderr",
     "output_type": "stream",
     "text": [
      "100%|██████████| 5/5 [00:03<00:00,  1.37it/s]\n"
     ]
    },
    {
     "name": "stdout",
     "output_type": "stream",
     "text": [
      "potential next fragments: 5\n",
      "potential next fragments after thresholding of 0.8: 2 ['0.92', '0.87']\n",
      "totalscore 0.618046003266949\n",
      "epoch 0 loss 0.0\n",
      "epoch 1 loss 0.0\n",
      "epoch 2 loss 0.0\n",
      "epoch 3 loss 0.0\n",
      "epoch 4 loss 0.0\n",
      "epoch 5 loss 0.0\n",
      "epoch 6 loss 0.0\n",
      "epoch 7 loss 0.0\n",
      "epoch 8 loss 0.0\n",
      "epoch 9 loss 0.0\n",
      "WARNING: defualt optimization passes will be enlarged to all fuse and elimination passes in the next version\n"
     ]
    },
    {
     "name": "stderr",
     "output_type": "stream",
     "text": [
      "  0%|          | 0/80 [00:00<?, ?it/s]/opt/anaconda3/envs/stitchnet/lib/python3.10/site-packages/onnxruntime/capi/onnxruntime_inference_collection.py:54: UserWarning: Specified provider 'CUDAExecutionProvider' is not in available provider names.Available providers: 'CPUExecutionProvider'\n",
      "  warnings.warn(\n",
      "100%|██████████| 80/80 [01:05<00:00,  1.21it/s]\n"
     ]
    },
    {
     "name": "stdout",
     "output_type": "stream",
     "text": [
      "len(self.fragments) 1\n",
      "saving to _results/result_paper_32_t2/net094_094\n",
      "totalscore 0.6114532406941368\n",
      "epoch 0 loss 0.0\n",
      "epoch 1 loss 0.0\n",
      "epoch 2 loss 0.0\n",
      "epoch 3 loss 0.0\n",
      "epoch 4 loss 0.0\n",
      "epoch 5 loss 0.0\n",
      "epoch 6 loss 0.0\n",
      "epoch 7 loss 0.0\n",
      "epoch 8 loss 0.0\n",
      "epoch 9 loss 0.0\n",
      "WARNING: defualt optimization passes will be enlarged to all fuse and elimination passes in the next version\n",
      "current depth: 9\n"
     ]
    },
    {
     "name": "stderr",
     "output_type": "stream",
     "text": [
      "100%|██████████| 5/5 [00:03<00:00,  1.33it/s]\n"
     ]
    },
    {
     "name": "stdout",
     "output_type": "stream",
     "text": [
      "potential next fragments: 5\n",
      "potential next fragments after thresholding of 0.8: 3 ['0.94', '0.82', '0.8']\n",
      "totalscore 0.6094169381952376\n",
      "epoch 0 loss 0.0\n",
      "epoch 1 loss 0.0\n",
      "epoch 2 loss 0.0\n",
      "epoch 3 loss 0.0\n",
      "epoch 4 loss 0.0\n",
      "epoch 5 loss 0.0\n",
      "epoch 6 loss 0.0\n",
      "epoch 7 loss 0.0\n",
      "epoch 8 loss 0.0\n",
      "epoch 9 loss 0.0\n",
      "WARNING: defualt optimization passes will be enlarged to all fuse and elimination passes in the next version\n"
     ]
    },
    {
     "name": "stderr",
     "output_type": "stream",
     "text": [
      "  0%|          | 0/80 [00:00<?, ?it/s]/opt/anaconda3/envs/stitchnet/lib/python3.10/site-packages/onnxruntime/capi/onnxruntime_inference_collection.py:54: UserWarning: Specified provider 'CUDAExecutionProvider' is not in available provider names.Available providers: 'CPUExecutionProvider'\n",
      "  warnings.warn(\n",
      "100%|██████████| 80/80 [01:03<00:00,  1.26it/s]\n"
     ]
    },
    {
     "name": "stdout",
     "output_type": "stream",
     "text": [
      "len(self.fragments) 1\n",
      "saving to _results/result_paper_32_t2/net095_095\n",
      "totalscore 0.641949510782526\n",
      "epoch 0 loss 0.0\n",
      "epoch 1 loss 0.0\n",
      "epoch 2 loss 0.0\n",
      "epoch 3 loss 0.0\n",
      "epoch 4 loss 0.0\n",
      "epoch 5 loss 0.0\n",
      "epoch 6 loss 0.0\n",
      "epoch 7 loss 0.0\n",
      "epoch 8 loss 0.0\n",
      "epoch 9 loss 0.0\n",
      "WARNING: defualt optimization passes will be enlarged to all fuse and elimination passes in the next version\n"
     ]
    },
    {
     "name": "stderr",
     "output_type": "stream",
     "text": [
      "  0%|          | 0/80 [00:00<?, ?it/s]/opt/anaconda3/envs/stitchnet/lib/python3.10/site-packages/onnxruntime/capi/onnxruntime_inference_collection.py:54: UserWarning: Specified provider 'CUDAExecutionProvider' is not in available provider names.Available providers: 'CPUExecutionProvider'\n",
      "  warnings.warn(\n",
      "100%|██████████| 80/80 [00:59<00:00,  1.34it/s]\n"
     ]
    },
    {
     "name": "stdout",
     "output_type": "stream",
     "text": [
      "len(self.fragments) 1\n",
      "saving to _results/result_paper_32_t2/net096_096\n",
      "totalscore 0.6410709707898855\n",
      "epoch 0 loss 0.0\n",
      "epoch 1 loss 0.0\n",
      "epoch 2 loss 0.0\n",
      "epoch 3 loss 0.0\n",
      "epoch 4 loss 0.0\n",
      "epoch 5 loss 0.0\n",
      "epoch 6 loss 0.0\n",
      "epoch 7 loss 0.0\n",
      "epoch 8 loss 0.0\n",
      "epoch 9 loss 0.0\n",
      "WARNING: defualt optimization passes will be enlarged to all fuse and elimination passes in the next version\n",
      "current depth: 8\n"
     ]
    },
    {
     "name": "stderr",
     "output_type": "stream",
     "text": [
      "100%|██████████| 5/5 [00:03<00:00,  1.36it/s]\n"
     ]
    },
    {
     "name": "stdout",
     "output_type": "stream",
     "text": [
      "potential next fragments: 43\n",
      "potential next fragments after thresholding of 0.8: 7 ['0.97', '0.94', '0.88', '0.87', '0.86', '0.83', '0.81']\n",
      "totalscore 0.6224747260548134\n",
      "epoch 0 loss 0.0\n",
      "epoch 1 loss 0.0\n",
      "epoch 2 loss 0.0\n",
      "epoch 3 loss 0.0\n",
      "epoch 4 loss 0.0\n",
      "epoch 5 loss 0.0\n",
      "epoch 6 loss 0.0\n",
      "epoch 7 loss 0.0\n",
      "epoch 8 loss 0.0\n",
      "epoch 9 loss 0.0\n",
      "WARNING: defualt optimization passes will be enlarged to all fuse and elimination passes in the next version\n"
     ]
    },
    {
     "name": "stderr",
     "output_type": "stream",
     "text": [
      "  0%|          | 0/80 [00:00<?, ?it/s]/opt/anaconda3/envs/stitchnet/lib/python3.10/site-packages/onnxruntime/capi/onnxruntime_inference_collection.py:54: UserWarning: Specified provider 'CUDAExecutionProvider' is not in available provider names.Available providers: 'CPUExecutionProvider'\n",
      "  warnings.warn(\n",
      "100%|██████████| 80/80 [01:02<00:00,  1.28it/s]\n"
     ]
    },
    {
     "name": "stdout",
     "output_type": "stream",
     "text": [
      "len(self.fragments) 1\n",
      "saving to _results/result_paper_32_t2/net097_097\n",
      "totalscore 0.6015750574226444\n",
      "epoch 0 loss 0.0\n",
      "epoch 1 loss 0.0\n",
      "epoch 2 loss 0.0\n",
      "epoch 3 loss 0.0\n",
      "epoch 4 loss 0.0\n",
      "epoch 5 loss 0.0\n",
      "epoch 6 loss 0.0\n",
      "epoch 7 loss 0.0\n",
      "epoch 8 loss 0.0\n",
      "epoch 9 loss 0.0\n",
      "WARNING: defualt optimization passes will be enlarged to all fuse and elimination passes in the next version\n",
      "current depth: 9\n"
     ]
    },
    {
     "name": "stderr",
     "output_type": "stream",
     "text": [
      "100%|██████████| 5/5 [00:03<00:00,  1.37it/s]\n"
     ]
    },
    {
     "name": "stdout",
     "output_type": "stream",
     "text": [
      "potential next fragments: 5\n",
      "potential next fragments after thresholding of 0.8: 4 ['0.96', '0.89', '0.86', '0.86']\n",
      "totalscore 0.632706963461439\n",
      "ERROR Input and output must have the same number of spatial dimensions, but got input with with spatial dimensions of [] and output size of (13, 13). Please provide input tensor in (N, C, d1, d2, ...,dK) format and output size in (o1, o2, ...,oK) format.\n",
      "totalscore 0.6297087907464981\n"
     ]
    },
    {
     "name": "stderr",
     "output_type": "stream",
     "text": [
      "Traceback (most recent call last):\n",
      "  File \"/Users/surat/NSTDA/stitchnet/stitchnet/stitchnet/stitchonnx/utils.py\", line 963, in recursive_stitching\n",
      "    newcurr_fragment = stitch_fragments(curr, nextf, data)\n",
      "  File \"/Users/surat/NSTDA/stitchnet/stitchnet/stitchnet/stitchonnx/utils.py\", line 658, in stitch_fragments\n",
      "    nw = adjust_w(tX, tY, w)\n",
      "  File \"/Users/surat/NSTDA/stitchnet/stitchnet/stitchnet/stitchonnx/utils.py\", line 613, in adjust_w\n",
      "    return adjust_w_conv(tX, tY, w)\n",
      "  File \"/Users/surat/NSTDA/stitchnet/stitchnet/stitchnet/stitchonnx/utils.py\", line 590, in adjust_w_conv\n",
      "    tX = up(tX)\n",
      "  File \"/opt/anaconda3/envs/stitchnet/lib/python3.10/site-packages/torch/nn/modules/module.py\", line 1130, in _call_impl\n",
      "    return forward_call(*input, **kwargs)\n",
      "  File \"/opt/anaconda3/envs/stitchnet/lib/python3.10/site-packages/torch/nn/modules/upsampling.py\", line 153, in forward\n",
      "    return F.interpolate(input, self.size, self.scale_factor, self.mode, self.align_corners,\n",
      "  File \"/opt/anaconda3/envs/stitchnet/lib/python3.10/site-packages/torch/nn/functional.py\", line 3854, in interpolate\n",
      "    raise ValueError(\n",
      "ValueError: Input and output must have the same number of spatial dimensions, but got input with with spatial dimensions of [] and output size of (13, 13). Please provide input tensor in (N, C, d1, d2, ...,dK) format and output size in (o1, o2, ...,oK) format.\n"
     ]
    },
    {
     "name": "stdout",
     "output_type": "stream",
     "text": [
      "ERROR Input and output must have the same number of spatial dimensions, but got input with with spatial dimensions of [] and output size of (14, 14). Please provide input tensor in (N, C, d1, d2, ...,dK) format and output size in (o1, o2, ...,oK) format.\n",
      "totalscore 0.6158081553997666\n"
     ]
    },
    {
     "name": "stderr",
     "output_type": "stream",
     "text": [
      "Traceback (most recent call last):\n",
      "  File \"/Users/surat/NSTDA/stitchnet/stitchnet/stitchnet/stitchonnx/utils.py\", line 963, in recursive_stitching\n",
      "    newcurr_fragment = stitch_fragments(curr, nextf, data)\n",
      "  File \"/Users/surat/NSTDA/stitchnet/stitchnet/stitchnet/stitchonnx/utils.py\", line 658, in stitch_fragments\n",
      "    nw = adjust_w(tX, tY, w)\n",
      "  File \"/Users/surat/NSTDA/stitchnet/stitchnet/stitchnet/stitchonnx/utils.py\", line 613, in adjust_w\n",
      "    return adjust_w_conv(tX, tY, w)\n",
      "  File \"/Users/surat/NSTDA/stitchnet/stitchnet/stitchnet/stitchonnx/utils.py\", line 590, in adjust_w_conv\n",
      "    tX = up(tX)\n",
      "  File \"/opt/anaconda3/envs/stitchnet/lib/python3.10/site-packages/torch/nn/modules/module.py\", line 1130, in _call_impl\n",
      "    return forward_call(*input, **kwargs)\n",
      "  File \"/opt/anaconda3/envs/stitchnet/lib/python3.10/site-packages/torch/nn/modules/upsampling.py\", line 153, in forward\n",
      "    return F.interpolate(input, self.size, self.scale_factor, self.mode, self.align_corners,\n",
      "  File \"/opt/anaconda3/envs/stitchnet/lib/python3.10/site-packages/torch/nn/functional.py\", line 3854, in interpolate\n",
      "    raise ValueError(\n",
      "ValueError: Input and output must have the same number of spatial dimensions, but got input with with spatial dimensions of [] and output size of (14, 14). Please provide input tensor in (N, C, d1, d2, ...,dK) format and output size in (o1, o2, ...,oK) format.\n"
     ]
    },
    {
     "name": "stdout",
     "output_type": "stream",
     "text": [
      "epoch 0 loss 0.0\n",
      "epoch 1 loss 0.0\n",
      "epoch 2 loss 0.0\n",
      "epoch 3 loss 0.0\n",
      "epoch 4 loss 0.0\n",
      "epoch 5 loss 0.0\n",
      "epoch 6 loss 0.0\n",
      "epoch 7 loss 0.0\n",
      "epoch 8 loss 0.0\n",
      "epoch 9 loss 0.0\n",
      "WARNING: defualt optimization passes will be enlarged to all fuse and elimination passes in the next version\n"
     ]
    },
    {
     "name": "stderr",
     "output_type": "stream",
     "text": [
      "  0%|          | 0/80 [00:00<?, ?it/s]/opt/anaconda3/envs/stitchnet/lib/python3.10/site-packages/onnxruntime/capi/onnxruntime_inference_collection.py:54: UserWarning: Specified provider 'CUDAExecutionProvider' is not in available provider names.Available providers: 'CPUExecutionProvider'\n",
      "  warnings.warn(\n",
      "100%|██████████| 80/80 [00:59<00:00,  1.34it/s]\n"
     ]
    },
    {
     "name": "stdout",
     "output_type": "stream",
     "text": [
      "len(self.fragments) 1\n",
      "saving to _results/result_paper_32_t2/net098_098\n",
      "totalscore 0.7489742044392632\n",
      "epoch 0 loss 0.0\n",
      "epoch 1 loss 0.0\n",
      "epoch 2 loss 0.0\n",
      "epoch 3 loss 0.0\n",
      "epoch 4 loss 0.0\n",
      "epoch 5 loss 0.0\n",
      "epoch 6 loss 0.0\n",
      "epoch 7 loss 0.0\n",
      "epoch 8 loss 0.0\n",
      "epoch 9 loss 0.0\n",
      "WARNING: defualt optimization passes will be enlarged to all fuse and elimination passes in the next version\n",
      "current depth: 7\n"
     ]
    },
    {
     "name": "stderr",
     "output_type": "stream",
     "text": [
      "100%|██████████| 5/5 [00:03<00:00,  1.35it/s]\n"
     ]
    },
    {
     "name": "stdout",
     "output_type": "stream",
     "text": [
      "potential next fragments: 43\n",
      "potential next fragments after thresholding of 0.8: 6 ['0.97', '0.94', '0.88', '0.86', '0.84', '0.82']\n",
      "totalscore 0.728827740757531\n",
      "epoch 0 loss 0.0\n",
      "epoch 1 loss 0.0\n",
      "epoch 2 loss 0.0\n",
      "epoch 3 loss 0.0\n",
      "epoch 4 loss 0.0\n",
      "epoch 5 loss 0.0\n",
      "epoch 6 loss 0.0\n",
      "epoch 7 loss 0.0\n",
      "epoch 8 loss 0.0\n",
      "epoch 9 loss 0.0\n",
      "WARNING: defualt optimization passes will be enlarged to all fuse and elimination passes in the next version\n"
     ]
    },
    {
     "name": "stderr",
     "output_type": "stream",
     "text": [
      "  0%|          | 0/80 [00:00<?, ?it/s]/opt/anaconda3/envs/stitchnet/lib/python3.10/site-packages/onnxruntime/capi/onnxruntime_inference_collection.py:54: UserWarning: Specified provider 'CUDAExecutionProvider' is not in available provider names.Available providers: 'CPUExecutionProvider'\n",
      "  warnings.warn(\n",
      "100%|██████████| 80/80 [00:59<00:00,  1.34it/s]\n"
     ]
    },
    {
     "name": "stdout",
     "output_type": "stream",
     "text": [
      "len(self.fragments) 1\n",
      "saving to _results/result_paper_32_t2/net099_099\n",
      "totalscore 0.7027456313630509\n",
      "epoch 0 loss 0.0\n",
      "epoch 1 loss 0.0\n",
      "epoch 2 loss 0.0\n",
      "epoch 3 loss 0.0\n",
      "epoch 4 loss 0.0\n",
      "epoch 5 loss 0.0\n",
      "epoch 6 loss 0.0\n",
      "epoch 7 loss 0.0\n",
      "epoch 8 loss 0.0\n",
      "epoch 9 loss 0.0\n",
      "WARNING: defualt optimization passes will be enlarged to all fuse and elimination passes in the next version\n",
      "current depth: 8\n"
     ]
    },
    {
     "name": "stderr",
     "output_type": "stream",
     "text": [
      "100%|██████████| 5/5 [00:03<00:00,  1.35it/s]\n"
     ]
    },
    {
     "name": "stdout",
     "output_type": "stream",
     "text": [
      "potential next fragments: 43\n",
      "potential next fragments after thresholding of 0.8: 7 ['0.97', '0.93', '0.89', '0.86', '0.85', '0.82', '0.81']\n",
      "totalscore 0.684773594563962\n",
      "epoch 0 loss 0.0\n",
      "epoch 1 loss 0.0\n",
      "epoch 2 loss 0.0\n",
      "epoch 3 loss 0.0\n",
      "epoch 4 loss 0.0\n",
      "epoch 5 loss 0.0\n",
      "epoch 6 loss 0.0\n",
      "epoch 7 loss 0.0\n",
      "epoch 8 loss 0.0\n",
      "epoch 9 loss 0.0\n",
      "WARNING: defualt optimization passes will be enlarged to all fuse and elimination passes in the next version\n"
     ]
    },
    {
     "name": "stderr",
     "output_type": "stream",
     "text": [
      "  0%|          | 0/80 [00:00<?, ?it/s]/opt/anaconda3/envs/stitchnet/lib/python3.10/site-packages/onnxruntime/capi/onnxruntime_inference_collection.py:54: UserWarning: Specified provider 'CUDAExecutionProvider' is not in available provider names.Available providers: 'CPUExecutionProvider'\n",
      "  warnings.warn(\n",
      "100%|██████████| 80/80 [01:03<00:00,  1.26it/s]\n"
     ]
    },
    {
     "name": "stdout",
     "output_type": "stream",
     "text": [
      "len(self.fragments) 1\n",
      "saving to _results/result_paper_32_t2/net100_100\n",
      "totalscore 0.6536957320060192\n",
      "epoch 0 loss 0.0\n",
      "epoch 1 loss 0.0\n",
      "epoch 2 loss 0.0\n",
      "epoch 3 loss 0.0\n",
      "epoch 4 loss 0.0\n",
      "epoch 5 loss 0.0\n",
      "epoch 6 loss 0.0\n",
      "epoch 7 loss 0.0\n",
      "epoch 8 loss 0.0\n",
      "epoch 9 loss 0.0\n",
      "WARNING: defualt optimization passes will be enlarged to all fuse and elimination passes in the next version\n",
      "current depth: 9\n"
     ]
    },
    {
     "name": "stderr",
     "output_type": "stream",
     "text": [
      "100%|██████████| 5/5 [00:03<00:00,  1.34it/s]\n"
     ]
    },
    {
     "name": "stdout",
     "output_type": "stream",
     "text": [
      "potential next fragments: 5\n",
      "potential next fragments after thresholding of 0.8: 5 ['0.97', '0.88', '0.86', '0.86', '0.83']\n",
      "totalscore 0.6344589654097406\n",
      "epoch 0 loss 0.0\n",
      "epoch 1 loss 0.0\n",
      "epoch 2 loss 0.0\n",
      "epoch 3 loss 0.0\n",
      "epoch 4 loss 0.0\n",
      "epoch 5 loss 0.0\n",
      "epoch 6 loss 0.0\n",
      "epoch 7 loss 0.0\n",
      "epoch 8 loss 0.0\n",
      "epoch 9 loss 0.0\n",
      "WARNING: defualt optimization passes will be enlarged to all fuse and elimination passes in the next version\n"
     ]
    },
    {
     "name": "stderr",
     "output_type": "stream",
     "text": [
      "  0%|          | 0/80 [00:00<?, ?it/s]/opt/anaconda3/envs/stitchnet/lib/python3.10/site-packages/onnxruntime/capi/onnxruntime_inference_collection.py:54: UserWarning: Specified provider 'CUDAExecutionProvider' is not in available provider names.Available providers: 'CPUExecutionProvider'\n",
      "  warnings.warn(\n",
      "100%|██████████| 80/80 [01:05<00:00,  1.22it/s]\n"
     ]
    },
    {
     "name": "stdout",
     "output_type": "stream",
     "text": [
      "len(self.fragments) 1\n",
      "saving to _results/result_paper_32_t2/net101_101\n",
      "totalscore 0.6243410128935091\n",
      "epoch 0 loss 0.0\n",
      "epoch 1 loss 0.0\n",
      "epoch 2 loss 0.0\n",
      "epoch 3 loss 0.0\n",
      "epoch 4 loss 0.0\n",
      "epoch 5 loss 0.0\n",
      "epoch 6 loss 0.0\n",
      "epoch 7 loss 0.0\n",
      "epoch 8 loss 0.0\n",
      "epoch 9 loss 0.0\n",
      "WARNING: defualt optimization passes will be enlarged to all fuse and elimination passes in the next version\n"
     ]
    },
    {
     "name": "stderr",
     "output_type": "stream",
     "text": [
      "  0%|          | 0/80 [00:00<?, ?it/s]/opt/anaconda3/envs/stitchnet/lib/python3.10/site-packages/onnxruntime/capi/onnxruntime_inference_collection.py:54: UserWarning: Specified provider 'CUDAExecutionProvider' is not in available provider names.Available providers: 'CPUExecutionProvider'\n",
      "  warnings.warn(\n",
      "100%|██████████| 80/80 [01:02<00:00,  1.28it/s]\n"
     ]
    },
    {
     "name": "stdout",
     "output_type": "stream",
     "text": [
      "len(self.fragments) 1\n",
      "saving to _results/result_paper_32_t2/net102_102\n",
      "totalscore 0.6060554107331361\n",
      "epoch 0 loss 0.0\n",
      "epoch 1 loss 0.0\n",
      "epoch 2 loss 0.0\n",
      "epoch 3 loss 0.0\n",
      "epoch 4 loss 0.0\n",
      "epoch 5 loss 0.0\n",
      "epoch 6 loss 0.0\n",
      "epoch 7 loss 0.0\n",
      "epoch 8 loss 0.0\n",
      "epoch 9 loss 0.0\n",
      "WARNING: defualt optimization passes will be enlarged to all fuse and elimination passes in the next version\n"
     ]
    },
    {
     "name": "stderr",
     "output_type": "stream",
     "text": [
      "  0%|          | 0/80 [00:00<?, ?it/s]/opt/anaconda3/envs/stitchnet/lib/python3.10/site-packages/onnxruntime/capi/onnxruntime_inference_collection.py:54: UserWarning: Specified provider 'CUDAExecutionProvider' is not in available provider names.Available providers: 'CPUExecutionProvider'\n",
      "  warnings.warn(\n",
      "100%|██████████| 80/80 [01:02<00:00,  1.28it/s]\n"
     ]
    },
    {
     "name": "stdout",
     "output_type": "stream",
     "text": [
      "len(self.fragments) 1\n",
      "saving to _results/result_paper_32_t2/net103_103\n",
      "totalscore 0.6003806149033968\n",
      "epoch 0 loss 0.0\n",
      "epoch 1 loss 0.0\n",
      "epoch 2 loss 0.0\n",
      "epoch 3 loss 0.0\n",
      "epoch 4 loss 0.0\n",
      "epoch 5 loss 0.0\n",
      "epoch 6 loss 0.0\n",
      "epoch 7 loss 0.0\n",
      "epoch 8 loss 0.0\n",
      "epoch 9 loss 0.0\n",
      "WARNING: defualt optimization passes will be enlarged to all fuse and elimination passes in the next version\n"
     ]
    },
    {
     "name": "stderr",
     "output_type": "stream",
     "text": [
      "  0%|          | 0/80 [00:00<?, ?it/s]/opt/anaconda3/envs/stitchnet/lib/python3.10/site-packages/onnxruntime/capi/onnxruntime_inference_collection.py:54: UserWarning: Specified provider 'CUDAExecutionProvider' is not in available provider names.Available providers: 'CPUExecutionProvider'\n",
      "  warnings.warn(\n",
      "100%|██████████| 80/80 [01:02<00:00,  1.27it/s]\n"
     ]
    },
    {
     "name": "stdout",
     "output_type": "stream",
     "text": [
      "len(self.fragments) 1\n",
      "saving to _results/result_paper_32_t2/net104_104\n",
      "totalscore 0.6571686132595939\n",
      "epoch 0 loss 0.0\n",
      "epoch 1 loss 0.0\n",
      "epoch 2 loss 0.0\n",
      "epoch 3 loss 0.0\n",
      "epoch 4 loss 0.0\n",
      "epoch 5 loss 0.0\n",
      "epoch 6 loss 0.0\n",
      "epoch 7 loss 0.0\n",
      "epoch 8 loss 0.0\n",
      "epoch 9 loss 0.0\n",
      "WARNING: defualt optimization passes will be enlarged to all fuse and elimination passes in the next version\n"
     ]
    },
    {
     "name": "stderr",
     "output_type": "stream",
     "text": [
      "  0%|          | 0/80 [00:00<?, ?it/s]/opt/anaconda3/envs/stitchnet/lib/python3.10/site-packages/onnxruntime/capi/onnxruntime_inference_collection.py:54: UserWarning: Specified provider 'CUDAExecutionProvider' is not in available provider names.Available providers: 'CPUExecutionProvider'\n",
      "  warnings.warn(\n",
      "100%|██████████| 80/80 [00:59<00:00,  1.34it/s]\n"
     ]
    },
    {
     "name": "stdout",
     "output_type": "stream",
     "text": [
      "len(self.fragments) 1\n",
      "saving to _results/result_paper_32_t2/net105_105\n",
      "totalscore 0.644833577191619\n",
      "epoch 0 loss 0.0\n",
      "epoch 1 loss 0.0\n",
      "epoch 2 loss 0.0\n",
      "epoch 3 loss 0.0\n",
      "epoch 4 loss 0.0\n",
      "epoch 5 loss 0.0\n",
      "epoch 6 loss 0.0\n",
      "epoch 7 loss 0.0\n",
      "epoch 8 loss 0.0\n",
      "epoch 9 loss 0.0\n",
      "WARNING: defualt optimization passes will be enlarged to all fuse and elimination passes in the next version\n"
     ]
    },
    {
     "name": "stderr",
     "output_type": "stream",
     "text": [
      "  0%|          | 0/80 [00:00<?, ?it/s]/opt/anaconda3/envs/stitchnet/lib/python3.10/site-packages/onnxruntime/capi/onnxruntime_inference_collection.py:54: UserWarning: Specified provider 'CUDAExecutionProvider' is not in available provider names.Available providers: 'CPUExecutionProvider'\n",
      "  warnings.warn(\n",
      "100%|██████████| 80/80 [00:59<00:00,  1.34it/s]\n"
     ]
    },
    {
     "name": "stdout",
     "output_type": "stream",
     "text": [
      "len(self.fragments) 1\n",
      "saving to _results/result_paper_32_t2/net106_106\n",
      "totalscore 0.6285544795455016\n",
      "epoch 0 loss 0.0\n",
      "epoch 1 loss 0.0\n",
      "epoch 2 loss 0.0\n",
      "epoch 3 loss 0.0\n",
      "epoch 4 loss 0.0\n",
      "epoch 5 loss 0.0\n",
      "epoch 6 loss 0.0\n",
      "epoch 7 loss 0.0\n",
      "epoch 8 loss 0.0\n",
      "epoch 9 loss 0.0\n",
      "WARNING: defualt optimization passes will be enlarged to all fuse and elimination passes in the next version\n"
     ]
    },
    {
     "name": "stderr",
     "output_type": "stream",
     "text": [
      "  0%|          | 0/80 [00:00<?, ?it/s]/opt/anaconda3/envs/stitchnet/lib/python3.10/site-packages/onnxruntime/capi/onnxruntime_inference_collection.py:54: UserWarning: Specified provider 'CUDAExecutionProvider' is not in available provider names.Available providers: 'CPUExecutionProvider'\n",
      "  warnings.warn(\n",
      "100%|██████████| 80/80 [00:59<00:00,  1.34it/s]\n"
     ]
    },
    {
     "name": "stdout",
     "output_type": "stream",
     "text": [
      "len(self.fragments) 1\n",
      "saving to _results/result_paper_32_t2/net107_107\n",
      "totalscore 0.6120992678625551\n",
      "epoch 0 loss 0.0\n",
      "epoch 1 loss 0.0\n",
      "epoch 2 loss 0.0\n",
      "epoch 3 loss 0.0\n",
      "epoch 4 loss 0.0\n",
      "epoch 5 loss 0.0\n",
      "epoch 6 loss 0.0\n",
      "epoch 7 loss 0.0\n",
      "epoch 8 loss 0.0\n",
      "epoch 9 loss 0.0\n",
      "WARNING: defualt optimization passes will be enlarged to all fuse and elimination passes in the next version\n",
      "current depth: 8\n"
     ]
    },
    {
     "name": "stderr",
     "output_type": "stream",
     "text": [
      "100%|██████████| 5/5 [00:03<00:00,  1.29it/s]\n"
     ]
    },
    {
     "name": "stdout",
     "output_type": "stream",
     "text": [
      "potential next fragments: 43\n",
      "potential next fragments after thresholding of 0.8: 10 ['1.0', '0.94', '0.89', '0.88', '0.88', '0.87', '0.85', '0.85', '0.83', '0.81']\n",
      "totalscore 0.6117641626952068\n",
      "epoch 0 loss 0.0\n",
      "epoch 1 loss 0.0\n",
      "epoch 2 loss 0.0\n",
      "epoch 3 loss 0.0\n",
      "epoch 4 loss 0.0\n",
      "epoch 5 loss 0.0\n",
      "epoch 6 loss 0.0\n",
      "epoch 7 loss 0.0\n",
      "epoch 8 loss 0.0\n",
      "epoch 9 loss 0.0\n",
      "WARNING: defualt optimization passes will be enlarged to all fuse and elimination passes in the next version\n"
     ]
    },
    {
     "name": "stderr",
     "output_type": "stream",
     "text": [
      "  0%|          | 0/80 [00:00<?, ?it/s]/opt/anaconda3/envs/stitchnet/lib/python3.10/site-packages/onnxruntime/capi/onnxruntime_inference_collection.py:54: UserWarning: Specified provider 'CUDAExecutionProvider' is not in available provider names.Available providers: 'CPUExecutionProvider'\n",
      "  warnings.warn(\n",
      "100%|██████████| 80/80 [00:59<00:00,  1.34it/s]\n",
      "Traceback (most recent call last):\n",
      "  File \"/Users/surat/NSTDA/stitchnet/stitchnet/stitchnet/stitchonnx/utils.py\", line 963, in recursive_stitching\n",
      "    newcurr_fragment = stitch_fragments(curr, nextf, data)\n",
      "  File \"/Users/surat/NSTDA/stitchnet/stitchnet/stitchnet/stitchonnx/utils.py\", line 658, in stitch_fragments\n",
      "    nw = adjust_w(tX, tY, w)\n",
      "  File \"/Users/surat/NSTDA/stitchnet/stitchnet/stitchnet/stitchonnx/utils.py\", line 613, in adjust_w\n",
      "    return adjust_w_conv(tX, tY, w)\n",
      "  File \"/Users/surat/NSTDA/stitchnet/stitchnet/stitchnet/stitchonnx/utils.py\", line 590, in adjust_w_conv\n",
      "    tX = up(tX)\n",
      "  File \"/opt/anaconda3/envs/stitchnet/lib/python3.10/site-packages/torch/nn/modules/module.py\", line 1130, in _call_impl\n",
      "    return forward_call(*input, **kwargs)\n",
      "  File \"/opt/anaconda3/envs/stitchnet/lib/python3.10/site-packages/torch/nn/modules/upsampling.py\", line 153, in forward\n",
      "    return F.interpolate(input, self.size, self.scale_factor, self.mode, self.align_corners,\n",
      "  File \"/opt/anaconda3/envs/stitchnet/lib/python3.10/site-packages/torch/nn/functional.py\", line 3854, in interpolate\n",
      "    raise ValueError(\n",
      "ValueError: Input and output must have the same number of spatial dimensions, but got input with with spatial dimensions of [] and output size of (13, 13). Please provide input tensor in (N, C, d1, d2, ...,dK) format and output size in (o1, o2, ...,oK) format.\n"
     ]
    },
    {
     "name": "stdout",
     "output_type": "stream",
     "text": [
      "len(self.fragments) 1\n",
      "saving to _results/result_paper_32_t2/net108_108\n",
      "totalscore 0.8926025821084905\n",
      "ERROR Input and output must have the same number of spatial dimensions, but got input with with spatial dimensions of [] and output size of (13, 13). Please provide input tensor in (N, C, d1, d2, ...,dK) format and output size in (o1, o2, ...,oK) format.\n",
      "totalscore 0.8831439227204242\n",
      "ERROR Input and output must have the same number of spatial dimensions, but got input with with spatial dimensions of [] and output size of (14, 14). Please provide input tensor in (N, C, d1, d2, ...,dK) format and output size in (o1, o2, ...,oK) format.\n",
      "totalscore 0.8675244687453647\n",
      "ERROR Input and output must have the same number of spatial dimensions, but got input with with spatial dimensions of [] and output size of (13, 13). Please provide input tensor in (N, C, d1, d2, ...,dK) format and output size in (o1, o2, ...,oK) format.\n",
      "totalscore 0.8575153605612255\n"
     ]
    },
    {
     "name": "stderr",
     "output_type": "stream",
     "text": [
      "Traceback (most recent call last):\n",
      "  File \"/Users/surat/NSTDA/stitchnet/stitchnet/stitchnet/stitchonnx/utils.py\", line 963, in recursive_stitching\n",
      "    newcurr_fragment = stitch_fragments(curr, nextf, data)\n",
      "  File \"/Users/surat/NSTDA/stitchnet/stitchnet/stitchnet/stitchonnx/utils.py\", line 658, in stitch_fragments\n",
      "    nw = adjust_w(tX, tY, w)\n",
      "  File \"/Users/surat/NSTDA/stitchnet/stitchnet/stitchnet/stitchonnx/utils.py\", line 613, in adjust_w\n",
      "    return adjust_w_conv(tX, tY, w)\n",
      "  File \"/Users/surat/NSTDA/stitchnet/stitchnet/stitchnet/stitchonnx/utils.py\", line 590, in adjust_w_conv\n",
      "    tX = up(tX)\n",
      "  File \"/opt/anaconda3/envs/stitchnet/lib/python3.10/site-packages/torch/nn/modules/module.py\", line 1130, in _call_impl\n",
      "    return forward_call(*input, **kwargs)\n",
      "  File \"/opt/anaconda3/envs/stitchnet/lib/python3.10/site-packages/torch/nn/modules/upsampling.py\", line 153, in forward\n",
      "    return F.interpolate(input, self.size, self.scale_factor, self.mode, self.align_corners,\n",
      "  File \"/opt/anaconda3/envs/stitchnet/lib/python3.10/site-packages/torch/nn/functional.py\", line 3854, in interpolate\n",
      "    raise ValueError(\n",
      "ValueError: Input and output must have the same number of spatial dimensions, but got input with with spatial dimensions of [] and output size of (14, 14). Please provide input tensor in (N, C, d1, d2, ...,dK) format and output size in (o1, o2, ...,oK) format.\n",
      "Traceback (most recent call last):\n",
      "  File \"/Users/surat/NSTDA/stitchnet/stitchnet/stitchnet/stitchonnx/utils.py\", line 963, in recursive_stitching\n",
      "    newcurr_fragment = stitch_fragments(curr, nextf, data)\n",
      "  File \"/Users/surat/NSTDA/stitchnet/stitchnet/stitchnet/stitchonnx/utils.py\", line 658, in stitch_fragments\n",
      "    nw = adjust_w(tX, tY, w)\n",
      "  File \"/Users/surat/NSTDA/stitchnet/stitchnet/stitchnet/stitchonnx/utils.py\", line 613, in adjust_w\n",
      "    return adjust_w_conv(tX, tY, w)\n",
      "  File \"/Users/surat/NSTDA/stitchnet/stitchnet/stitchnet/stitchonnx/utils.py\", line 590, in adjust_w_conv\n",
      "    tX = up(tX)\n",
      "  File \"/opt/anaconda3/envs/stitchnet/lib/python3.10/site-packages/torch/nn/modules/module.py\", line 1130, in _call_impl\n",
      "    return forward_call(*input, **kwargs)\n",
      "  File \"/opt/anaconda3/envs/stitchnet/lib/python3.10/site-packages/torch/nn/modules/upsampling.py\", line 153, in forward\n",
      "    return F.interpolate(input, self.size, self.scale_factor, self.mode, self.align_corners,\n",
      "  File \"/opt/anaconda3/envs/stitchnet/lib/python3.10/site-packages/torch/nn/functional.py\", line 3854, in interpolate\n",
      "    raise ValueError(\n",
      "ValueError: Input and output must have the same number of spatial dimensions, but got input with with spatial dimensions of [] and output size of (13, 13). Please provide input tensor in (N, C, d1, d2, ...,dK) format and output size in (o1, o2, ...,oK) format.\n"
     ]
    },
    {
     "name": "stdout",
     "output_type": "stream",
     "text": [
      "ERROR Input and output must have the same number of spatial dimensions, but got input with with spatial dimensions of [] and output size of (14, 14). Please provide input tensor in (N, C, d1, d2, ...,dK) format and output size in (o1, o2, ...,oK) format.\n",
      "totalscore 0.8539544605097927\n"
     ]
    },
    {
     "name": "stderr",
     "output_type": "stream",
     "text": [
      "Traceback (most recent call last):\n",
      "  File \"/Users/surat/NSTDA/stitchnet/stitchnet/stitchnet/stitchonnx/utils.py\", line 963, in recursive_stitching\n",
      "    newcurr_fragment = stitch_fragments(curr, nextf, data)\n",
      "  File \"/Users/surat/NSTDA/stitchnet/stitchnet/stitchnet/stitchonnx/utils.py\", line 658, in stitch_fragments\n",
      "    nw = adjust_w(tX, tY, w)\n",
      "  File \"/Users/surat/NSTDA/stitchnet/stitchnet/stitchnet/stitchonnx/utils.py\", line 613, in adjust_w\n",
      "    return adjust_w_conv(tX, tY, w)\n",
      "  File \"/Users/surat/NSTDA/stitchnet/stitchnet/stitchnet/stitchonnx/utils.py\", line 590, in adjust_w_conv\n",
      "    tX = up(tX)\n",
      "  File \"/opt/anaconda3/envs/stitchnet/lib/python3.10/site-packages/torch/nn/modules/module.py\", line 1130, in _call_impl\n",
      "    return forward_call(*input, **kwargs)\n",
      "  File \"/opt/anaconda3/envs/stitchnet/lib/python3.10/site-packages/torch/nn/modules/upsampling.py\", line 153, in forward\n",
      "    return F.interpolate(input, self.size, self.scale_factor, self.mode, self.align_corners,\n",
      "  File \"/opt/anaconda3/envs/stitchnet/lib/python3.10/site-packages/torch/nn/functional.py\", line 3854, in interpolate\n",
      "    raise ValueError(\n",
      "ValueError: Input and output must have the same number of spatial dimensions, but got input with with spatial dimensions of [] and output size of (14, 14). Please provide input tensor in (N, C, d1, d2, ...,dK) format and output size in (o1, o2, ...,oK) format.\n"
     ]
    },
    {
     "name": "stdout",
     "output_type": "stream",
     "text": [
      "epoch 0 loss 0.0\n",
      "epoch 1 loss 0.0\n",
      "epoch 2 loss 0.0\n",
      "epoch 3 loss 0.0\n",
      "epoch 4 loss 0.0\n",
      "epoch 5 loss 0.0\n",
      "epoch 6 loss 0.0\n",
      "epoch 7 loss 0.0\n",
      "epoch 8 loss 0.0\n",
      "epoch 9 loss 0.0\n",
      "WARNING: defualt optimization passes will be enlarged to all fuse and elimination passes in the next version\n",
      "current depth: 6\n"
     ]
    },
    {
     "name": "stderr",
     "output_type": "stream",
     "text": [
      "100%|██████████| 5/5 [00:03<00:00,  1.35it/s]\n"
     ]
    },
    {
     "name": "stdout",
     "output_type": "stream",
     "text": [
      "potential next fragments: 43\n",
      "potential next fragments after thresholding of 0.8: 10 ['0.97', '0.94', '0.87', '0.85', '0.85', '0.84', '0.83', '0.82', '0.82', '0.8']\n",
      "totalscore 0.8320086682350505\n",
      "epoch 0 loss 0.0\n",
      "epoch 1 loss 0.0\n",
      "epoch 2 loss 0.0\n",
      "epoch 3 loss 0.0\n",
      "epoch 4 loss 0.0\n",
      "epoch 5 loss 0.0\n",
      "epoch 6 loss 0.0\n",
      "epoch 7 loss 0.0\n",
      "epoch 8 loss 0.0\n",
      "epoch 9 loss 0.0\n",
      "WARNING: defualt optimization passes will be enlarged to all fuse and elimination passes in the next version\n",
      "current depth: 7\n"
     ]
    },
    {
     "name": "stderr",
     "output_type": "stream",
     "text": [
      "100%|██████████| 5/5 [00:03<00:00,  1.37it/s]\n"
     ]
    },
    {
     "name": "stdout",
     "output_type": "stream",
     "text": [
      "potential next fragments: 43\n",
      "potential next fragments after thresholding of 0.8: 6 ['0.97', '0.95', '0.88', '0.86', '0.84', '0.83']\n",
      "totalscore 0.8071914541119085\n",
      "epoch 0 loss 0.0\n",
      "epoch 1 loss 0.0\n",
      "epoch 2 loss 0.0\n",
      "epoch 3 loss 0.0\n",
      "epoch 4 loss 0.0\n",
      "epoch 5 loss 0.0\n",
      "epoch 6 loss 0.0\n",
      "epoch 7 loss 0.0\n",
      "epoch 8 loss 0.0\n",
      "epoch 9 loss 0.0\n",
      "WARNING: defualt optimization passes will be enlarged to all fuse and elimination passes in the next version\n"
     ]
    },
    {
     "name": "stderr",
     "output_type": "stream",
     "text": [
      "  0%|          | 0/80 [00:00<?, ?it/s]/opt/anaconda3/envs/stitchnet/lib/python3.10/site-packages/onnxruntime/capi/onnxruntime_inference_collection.py:54: UserWarning: Specified provider 'CUDAExecutionProvider' is not in available provider names.Available providers: 'CPUExecutionProvider'\n",
      "  warnings.warn(\n",
      "100%|██████████| 80/80 [00:59<00:00,  1.34it/s]\n"
     ]
    },
    {
     "name": "stdout",
     "output_type": "stream",
     "text": [
      "len(self.fragments) 1\n",
      "saving to _results/result_paper_32_t2/net109_109\n",
      "totalscore 0.7892635520295653\n",
      "epoch 0 loss 0.0\n",
      "epoch 1 loss 0.0\n",
      "epoch 2 loss 0.0\n",
      "epoch 3 loss 0.0\n",
      "epoch 4 loss 0.0\n",
      "epoch 5 loss 0.0\n",
      "epoch 6 loss 0.0\n",
      "epoch 7 loss 0.0\n",
      "epoch 8 loss 0.0\n",
      "epoch 9 loss 0.0\n",
      "WARNING: defualt optimization passes will be enlarged to all fuse and elimination passes in the next version\n",
      "current depth: 8\n"
     ]
    },
    {
     "name": "stderr",
     "output_type": "stream",
     "text": [
      "100%|██████████| 5/5 [00:03<00:00,  1.37it/s]\n"
     ]
    },
    {
     "name": "stdout",
     "output_type": "stream",
     "text": [
      "potential next fragments: 43\n",
      "potential next fragments after thresholding of 0.8: 7 ['0.96', '0.94', '0.86', '0.86', '0.85', '0.84', '0.82']\n",
      "totalscore 0.7613407201778952\n",
      "epoch 0 loss 0.0\n",
      "epoch 1 loss 0.0\n",
      "epoch 2 loss 0.0\n",
      "epoch 3 loss 0.0\n",
      "epoch 4 loss 0.0\n",
      "epoch 5 loss 0.0\n",
      "epoch 6 loss 0.0\n",
      "epoch 7 loss 0.0\n",
      "epoch 8 loss 0.0\n",
      "epoch 9 loss 0.0\n",
      "WARNING: defualt optimization passes will be enlarged to all fuse and elimination passes in the next version\n"
     ]
    },
    {
     "name": "stderr",
     "output_type": "stream",
     "text": [
      "  0%|          | 0/80 [00:00<?, ?it/s]/opt/anaconda3/envs/stitchnet/lib/python3.10/site-packages/onnxruntime/capi/onnxruntime_inference_collection.py:54: UserWarning: Specified provider 'CUDAExecutionProvider' is not in available provider names.Available providers: 'CPUExecutionProvider'\n",
      "  warnings.warn(\n",
      "100%|██████████| 80/80 [01:02<00:00,  1.28it/s]\n"
     ]
    },
    {
     "name": "stdout",
     "output_type": "stream",
     "text": [
      "len(self.fragments) 1\n",
      "saving to _results/result_paper_32_t2/net110_110\n",
      "totalscore 0.7380692473586069\n",
      "epoch 0 loss 0.0\n",
      "epoch 1 loss 0.0\n",
      "epoch 2 loss 0.0\n",
      "epoch 3 loss 0.0\n",
      "epoch 4 loss 0.0\n",
      "epoch 5 loss 0.0\n",
      "epoch 6 loss 0.0\n",
      "epoch 7 loss 0.0\n",
      "epoch 8 loss 0.0\n",
      "epoch 9 loss 0.0\n",
      "WARNING: defualt optimization passes will be enlarged to all fuse and elimination passes in the next version\n",
      "current depth: 9\n"
     ]
    },
    {
     "name": "stderr",
     "output_type": "stream",
     "text": [
      "100%|██████████| 5/5 [00:03<00:00,  1.36it/s]\n"
     ]
    },
    {
     "name": "stdout",
     "output_type": "stream",
     "text": [
      "potential next fragments: 5\n",
      "potential next fragments after thresholding of 0.8: 5 ['0.98', '0.9', '0.87', '0.84', '0.83']\n",
      "totalscore 0.7211897765579526\n",
      "epoch 0 loss 0.0\n",
      "epoch 1 loss 0.0\n",
      "epoch 2 loss 0.0\n",
      "epoch 3 loss 0.0\n",
      "epoch 4 loss 0.0\n",
      "epoch 5 loss 0.0\n",
      "epoch 6 loss 0.0\n",
      "epoch 7 loss 0.0\n",
      "epoch 8 loss 0.0\n",
      "epoch 9 loss 0.0\n",
      "WARNING: defualt optimization passes will be enlarged to all fuse and elimination passes in the next version\n"
     ]
    },
    {
     "name": "stderr",
     "output_type": "stream",
     "text": [
      "  0%|          | 0/80 [00:00<?, ?it/s]/opt/anaconda3/envs/stitchnet/lib/python3.10/site-packages/onnxruntime/capi/onnxruntime_inference_collection.py:54: UserWarning: Specified provider 'CUDAExecutionProvider' is not in available provider names.Available providers: 'CPUExecutionProvider'\n",
      "  warnings.warn(\n",
      "100%|██████████| 80/80 [01:05<00:00,  1.22it/s]\n"
     ]
    },
    {
     "name": "stdout",
     "output_type": "stream",
     "text": [
      "len(self.fragments) 1\n",
      "saving to _results/result_paper_32_t2/net111_111\n",
      "totalscore 0.6620969133128116\n",
      "epoch 0 loss 0.0\n",
      "epoch 1 loss 0.0\n",
      "epoch 2 loss 0.0\n",
      "epoch 3 loss 0.0\n",
      "epoch 4 loss 0.0\n",
      "epoch 5 loss 0.0\n",
      "epoch 6 loss 0.0\n",
      "epoch 7 loss 0.0\n",
      "epoch 8 loss 0.0\n",
      "epoch 9 loss 0.0\n",
      "WARNING: defualt optimization passes will be enlarged to all fuse and elimination passes in the next version\n"
     ]
    },
    {
     "name": "stderr",
     "output_type": "stream",
     "text": [
      "  0%|          | 0/80 [00:00<?, ?it/s]/opt/anaconda3/envs/stitchnet/lib/python3.10/site-packages/onnxruntime/capi/onnxruntime_inference_collection.py:54: UserWarning: Specified provider 'CUDAExecutionProvider' is not in available provider names.Available providers: 'CPUExecutionProvider'\n",
      "  warnings.warn(\n",
      "100%|██████████| 80/80 [01:06<00:00,  1.21it/s]\n"
     ]
    },
    {
     "name": "stdout",
     "output_type": "stream",
     "text": [
      "len(self.fragments) 1\n",
      "saving to _results/result_paper_32_t2/net112_112\n",
      "totalscore 0.640751998486573\n",
      "epoch 0 loss 0.0\n",
      "epoch 1 loss 0.0\n",
      "epoch 2 loss 0.0\n",
      "epoch 3 loss 0.0\n",
      "epoch 4 loss 0.0\n",
      "epoch 5 loss 0.0\n",
      "epoch 6 loss 0.0\n",
      "epoch 7 loss 0.0\n",
      "epoch 8 loss 0.0\n",
      "epoch 9 loss 0.0\n",
      "WARNING: defualt optimization passes will be enlarged to all fuse and elimination passes in the next version\n"
     ]
    },
    {
     "name": "stderr",
     "output_type": "stream",
     "text": [
      "  0%|          | 0/80 [00:00<?, ?it/s]/opt/anaconda3/envs/stitchnet/lib/python3.10/site-packages/onnxruntime/capi/onnxruntime_inference_collection.py:54: UserWarning: Specified provider 'CUDAExecutionProvider' is not in available provider names.Available providers: 'CPUExecutionProvider'\n",
      "  warnings.warn(\n",
      "100%|██████████| 80/80 [01:05<00:00,  1.22it/s]\n"
     ]
    },
    {
     "name": "stdout",
     "output_type": "stream",
     "text": [
      "len(self.fragments) 1\n",
      "saving to _results/result_paper_32_t2/net113_113\n",
      "totalscore 0.6223301117164491\n",
      "epoch 0 loss 0.0\n",
      "epoch 1 loss 0.0\n",
      "epoch 2 loss 0.0\n",
      "epoch 3 loss 0.0\n",
      "epoch 4 loss 0.0\n",
      "epoch 5 loss 0.0\n",
      "epoch 6 loss 0.0\n",
      "epoch 7 loss 0.0\n",
      "epoch 8 loss 0.0\n",
      "epoch 9 loss 0.0\n",
      "WARNING: defualt optimization passes will be enlarged to all fuse and elimination passes in the next version\n"
     ]
    },
    {
     "name": "stderr",
     "output_type": "stream",
     "text": [
      "  0%|          | 0/80 [00:00<?, ?it/s]/opt/anaconda3/envs/stitchnet/lib/python3.10/site-packages/onnxruntime/capi/onnxruntime_inference_collection.py:54: UserWarning: Specified provider 'CUDAExecutionProvider' is not in available provider names.Available providers: 'CPUExecutionProvider'\n",
      "  warnings.warn(\n",
      "100%|██████████| 80/80 [01:05<00:00,  1.22it/s]\n"
     ]
    },
    {
     "name": "stdout",
     "output_type": "stream",
     "text": [
      "len(self.fragments) 1\n",
      "saving to _results/result_paper_32_t2/net114_114\n",
      "totalscore 0.6142098707965495\n",
      "epoch 0 loss 0.0\n",
      "epoch 1 loss 0.0\n",
      "epoch 2 loss 0.0\n",
      "epoch 3 loss 0.0\n",
      "epoch 4 loss 0.0\n",
      "epoch 5 loss 0.0\n",
      "epoch 6 loss 0.0\n",
      "epoch 7 loss 0.0\n",
      "epoch 8 loss 0.0\n",
      "epoch 9 loss 0.0\n",
      "WARNING: defualt optimization passes will be enlarged to all fuse and elimination passes in the next version\n"
     ]
    },
    {
     "name": "stderr",
     "output_type": "stream",
     "text": [
      "  0%|          | 0/80 [00:00<?, ?it/s]/opt/anaconda3/envs/stitchnet/lib/python3.10/site-packages/onnxruntime/capi/onnxruntime_inference_collection.py:54: UserWarning: Specified provider 'CUDAExecutionProvider' is not in available provider names.Available providers: 'CPUExecutionProvider'\n",
      "  warnings.warn(\n",
      "100%|██████████| 80/80 [01:05<00:00,  1.22it/s]\n"
     ]
    },
    {
     "name": "stdout",
     "output_type": "stream",
     "text": [
      "len(self.fragments) 1\n",
      "saving to _results/result_paper_32_t2/net115_115\n",
      "totalscore 0.6803422090593406\n",
      "epoch 0 loss 0.0\n",
      "epoch 1 loss 0.0\n",
      "epoch 2 loss 0.0\n",
      "epoch 3 loss 0.0\n",
      "epoch 4 loss 0.0\n",
      "epoch 5 loss 0.0\n",
      "epoch 6 loss 0.0\n",
      "epoch 7 loss 0.0\n",
      "epoch 8 loss 0.0\n",
      "epoch 9 loss 0.0\n",
      "WARNING: defualt optimization passes will be enlarged to all fuse and elimination passes in the next version\n"
     ]
    },
    {
     "name": "stderr",
     "output_type": "stream",
     "text": [
      "  0%|          | 0/80 [00:00<?, ?it/s]/opt/anaconda3/envs/stitchnet/lib/python3.10/site-packages/onnxruntime/capi/onnxruntime_inference_collection.py:54: UserWarning: Specified provider 'CUDAExecutionProvider' is not in available provider names.Available providers: 'CPUExecutionProvider'\n",
      "  warnings.warn(\n",
      "100%|██████████| 80/80 [01:02<00:00,  1.28it/s]\n"
     ]
    },
    {
     "name": "stdout",
     "output_type": "stream",
     "text": [
      "len(self.fragments) 1\n",
      "saving to _results/result_paper_32_t2/net116_116\n",
      "totalscore 0.6799670820082325\n",
      "epoch 0 loss 0.0\n",
      "epoch 1 loss 0.0\n",
      "epoch 2 loss 0.0\n",
      "epoch 3 loss 0.0\n",
      "epoch 4 loss 0.0\n",
      "epoch 5 loss 0.0\n",
      "epoch 6 loss 0.0\n",
      "epoch 7 loss 0.0\n",
      "epoch 8 loss 0.0\n",
      "epoch 9 loss 0.0\n",
      "WARNING: defualt optimization passes will be enlarged to all fuse and elimination passes in the next version\n"
     ]
    },
    {
     "name": "stderr",
     "output_type": "stream",
     "text": [
      "  0%|          | 0/80 [00:00<?, ?it/s]/opt/anaconda3/envs/stitchnet/lib/python3.10/site-packages/onnxruntime/capi/onnxruntime_inference_collection.py:54: UserWarning: Specified provider 'CUDAExecutionProvider' is not in available provider names.Available providers: 'CPUExecutionProvider'\n",
      "  warnings.warn(\n",
      "100%|██████████| 80/80 [01:02<00:00,  1.27it/s]\n"
     ]
    },
    {
     "name": "stdout",
     "output_type": "stream",
     "text": [
      "len(self.fragments) 1\n",
      "saving to _results/result_paper_32_t2/net117_117\n",
      "totalscore 0.6721327412504966\n",
      "epoch 0 loss 0.0\n",
      "epoch 1 loss 0.0\n",
      "epoch 2 loss 0.0\n",
      "epoch 3 loss 0.0\n",
      "epoch 4 loss 0.0\n",
      "epoch 5 loss 0.0\n",
      "epoch 6 loss 0.0\n",
      "epoch 7 loss 0.0\n",
      "epoch 8 loss 0.0\n",
      "epoch 9 loss 0.0\n",
      "WARNING: defualt optimization passes will be enlarged to all fuse and elimination passes in the next version\n"
     ]
    },
    {
     "name": "stderr",
     "output_type": "stream",
     "text": [
      "  0%|          | 0/80 [00:00<?, ?it/s]/opt/anaconda3/envs/stitchnet/lib/python3.10/site-packages/onnxruntime/capi/onnxruntime_inference_collection.py:54: UserWarning: Specified provider 'CUDAExecutionProvider' is not in available provider names.Available providers: 'CPUExecutionProvider'\n",
      "  warnings.warn(\n",
      "100%|██████████| 80/80 [01:04<00:00,  1.24it/s]\n"
     ]
    },
    {
     "name": "stdout",
     "output_type": "stream",
     "text": [
      "len(self.fragments) 1\n",
      "saving to _results/result_paper_32_t2/net118_118\n",
      "totalscore 0.6616966916346615\n",
      "epoch 0 loss 0.0\n",
      "epoch 1 loss 0.0\n",
      "epoch 2 loss 0.0\n",
      "epoch 3 loss 0.0\n",
      "epoch 4 loss 0.0\n",
      "epoch 5 loss 0.0\n",
      "epoch 6 loss 0.0\n",
      "epoch 7 loss 0.0\n",
      "epoch 8 loss 0.0\n",
      "epoch 9 loss 0.0\n",
      "WARNING: defualt optimization passes will be enlarged to all fuse and elimination passes in the next version\n",
      "current depth: 9\n"
     ]
    },
    {
     "name": "stderr",
     "output_type": "stream",
     "text": [
      "100%|██████████| 5/5 [00:03<00:00,  1.30it/s]\n"
     ]
    },
    {
     "name": "stdout",
     "output_type": "stream",
     "text": [
      "potential next fragments: 5\n",
      "potential next fragments after thresholding of 0.8: 5 ['1.0', '0.9', '0.89', '0.87', '0.85']\n",
      "totalscore 0.6612335059698553\n",
      "epoch 0 loss 0.0\n",
      "epoch 1 loss 0.0\n",
      "epoch 2 loss 0.0\n",
      "epoch 3 loss 0.0\n",
      "epoch 4 loss 0.0\n",
      "epoch 5 loss 0.0\n",
      "epoch 6 loss 0.0\n",
      "epoch 7 loss 0.0\n",
      "epoch 8 loss 0.0\n",
      "epoch 9 loss 0.0\n",
      "WARNING: defualt optimization passes will be enlarged to all fuse and elimination passes in the next version\n"
     ]
    },
    {
     "name": "stderr",
     "output_type": "stream",
     "text": [
      "  0%|          | 0/80 [00:00<?, ?it/s]/opt/anaconda3/envs/stitchnet/lib/python3.10/site-packages/onnxruntime/capi/onnxruntime_inference_collection.py:54: UserWarning: Specified provider 'CUDAExecutionProvider' is not in available provider names.Available providers: 'CPUExecutionProvider'\n",
      "  warnings.warn(\n",
      "100%|██████████| 80/80 [01:07<00:00,  1.18it/s]\n"
     ]
    },
    {
     "name": "stdout",
     "output_type": "stream",
     "text": [
      "len(self.fragments) 1\n",
      "saving to _results/result_paper_32_t2/net119_119\n",
      "totalscore 0.6444115390127028\n",
      "epoch 0 loss 0.0\n",
      "epoch 1 loss 0.0\n",
      "epoch 2 loss 0.0\n",
      "epoch 3 loss 0.0\n",
      "epoch 4 loss 0.0\n",
      "epoch 5 loss 0.0\n",
      "epoch 6 loss 0.0\n",
      "epoch 7 loss 0.0\n",
      "epoch 8 loss 0.0\n",
      "epoch 9 loss 0.0\n",
      "WARNING: defualt optimization passes will be enlarged to all fuse and elimination passes in the next version\n"
     ]
    },
    {
     "name": "stderr",
     "output_type": "stream",
     "text": [
      "  0%|          | 0/80 [00:00<?, ?it/s]/opt/anaconda3/envs/stitchnet/lib/python3.10/site-packages/onnxruntime/capi/onnxruntime_inference_collection.py:54: UserWarning: Specified provider 'CUDAExecutionProvider' is not in available provider names.Available providers: 'CPUExecutionProvider'\n",
      "  warnings.warn(\n",
      "100%|██████████| 80/80 [01:08<00:00,  1.17it/s]\n"
     ]
    },
    {
     "name": "stdout",
     "output_type": "stream",
     "text": [
      "len(self.fragments) 1\n",
      "saving to _results/result_paper_32_t2/net120_120\n",
      "totalscore 0.7341247062368453\n",
      "epoch 0 loss 0.0\n",
      "epoch 1 loss 0.0\n",
      "epoch 2 loss 0.0\n",
      "epoch 3 loss 0.0\n",
      "epoch 4 loss 0.0\n",
      "epoch 5 loss 0.0\n",
      "epoch 6 loss 0.0\n",
      "epoch 7 loss 0.0\n",
      "epoch 8 loss 0.0\n",
      "epoch 9 loss 0.0\n",
      "WARNING: defualt optimization passes will be enlarged to all fuse and elimination passes in the next version\n"
     ]
    },
    {
     "name": "stderr",
     "output_type": "stream",
     "text": [
      "  0%|          | 0/80 [00:00<?, ?it/s]/opt/anaconda3/envs/stitchnet/lib/python3.10/site-packages/onnxruntime/capi/onnxruntime_inference_collection.py:54: UserWarning: Specified provider 'CUDAExecutionProvider' is not in available provider names.Available providers: 'CPUExecutionProvider'\n",
      "  warnings.warn(\n",
      "100%|██████████| 80/80 [01:02<00:00,  1.28it/s]\n"
     ]
    },
    {
     "name": "stdout",
     "output_type": "stream",
     "text": [
      "len(self.fragments) 1\n",
      "saving to _results/result_paper_32_t2/net121_121\n",
      "totalscore 0.7192249652808635\n",
      "epoch 0 loss 0.0\n",
      "epoch 1 loss 0.0\n",
      "epoch 2 loss 0.0\n",
      "epoch 3 loss 0.0\n",
      "epoch 4 loss 0.0\n",
      "epoch 5 loss 0.0\n",
      "epoch 6 loss 0.0\n",
      "epoch 7 loss 0.0\n",
      "epoch 8 loss 0.0\n",
      "epoch 9 loss 0.0\n",
      "WARNING: defualt optimization passes will be enlarged to all fuse and elimination passes in the next version\n"
     ]
    },
    {
     "name": "stderr",
     "output_type": "stream",
     "text": [
      "  0%|          | 0/80 [00:00<?, ?it/s]/opt/anaconda3/envs/stitchnet/lib/python3.10/site-packages/onnxruntime/capi/onnxruntime_inference_collection.py:54: UserWarning: Specified provider 'CUDAExecutionProvider' is not in available provider names.Available providers: 'CPUExecutionProvider'\n",
      "  warnings.warn(\n",
      "100%|██████████| 80/80 [01:01<00:00,  1.29it/s]\n"
     ]
    },
    {
     "name": "stdout",
     "output_type": "stream",
     "text": [
      "len(self.fragments) 1\n",
      "saving to _results/result_paper_32_t2/net122_122\n",
      "totalscore 0.702009446261312\n",
      "epoch 0 loss 0.0\n",
      "epoch 1 loss 0.0\n",
      "epoch 2 loss 0.0\n",
      "epoch 3 loss 0.0\n",
      "epoch 4 loss 0.0\n",
      "epoch 5 loss 0.0\n",
      "epoch 6 loss 0.0\n",
      "epoch 7 loss 0.0\n",
      "epoch 8 loss 0.0\n",
      "epoch 9 loss 0.0\n",
      "WARNING: defualt optimization passes will be enlarged to all fuse and elimination passes in the next version\n"
     ]
    },
    {
     "name": "stderr",
     "output_type": "stream",
     "text": [
      "  0%|          | 0/80 [00:00<?, ?it/s]/opt/anaconda3/envs/stitchnet/lib/python3.10/site-packages/onnxruntime/capi/onnxruntime_inference_collection.py:54: UserWarning: Specified provider 'CUDAExecutionProvider' is not in available provider names.Available providers: 'CPUExecutionProvider'\n",
      "  warnings.warn(\n",
      "100%|██████████| 80/80 [01:06<00:00,  1.21it/s]\n"
     ]
    },
    {
     "name": "stdout",
     "output_type": "stream",
     "text": [
      "len(self.fragments) 1\n",
      "saving to _results/result_paper_32_t2/net123_123\n",
      "totalscore 0.6876392938001128\n",
      "epoch 0 loss 0.0\n",
      "epoch 1 loss 0.0\n",
      "epoch 2 loss 0.0\n",
      "epoch 3 loss 0.0\n",
      "epoch 4 loss 0.0\n",
      "epoch 5 loss 0.0\n",
      "epoch 6 loss 0.0\n",
      "epoch 7 loss 0.0\n",
      "epoch 8 loss 0.0\n",
      "epoch 9 loss 0.0\n",
      "WARNING: defualt optimization passes will be enlarged to all fuse and elimination passes in the next version\n",
      "current depth: 8\n"
     ]
    },
    {
     "name": "stderr",
     "output_type": "stream",
     "text": [
      "100%|██████████| 5/5 [00:04<00:00,  1.21it/s]\n"
     ]
    },
    {
     "name": "stdout",
     "output_type": "stream",
     "text": [
      "potential next fragments: 43\n",
      "potential next fragments after thresholding of 0.8: 9 ['1.0', '0.95', '0.9', '0.9', '0.89', '0.86', '0.86', '0.85', '0.84']\n",
      "totalscore 0.6871394634833372\n",
      "epoch 0 loss 0.0\n",
      "epoch 1 loss 0.0\n",
      "epoch 2 loss 0.0\n",
      "epoch 3 loss 0.0\n",
      "epoch 4 loss 0.0\n",
      "epoch 5 loss 0.0\n",
      "epoch 6 loss 0.0\n",
      "epoch 7 loss 0.0\n",
      "epoch 8 loss 0.0\n",
      "epoch 9 loss 0.0\n",
      "WARNING: defualt optimization passes will be enlarged to all fuse and elimination passes in the next version\n"
     ]
    },
    {
     "name": "stderr",
     "output_type": "stream",
     "text": [
      "  0%|          | 0/80 [00:00<?, ?it/s]/opt/anaconda3/envs/stitchnet/lib/python3.10/site-packages/onnxruntime/capi/onnxruntime_inference_collection.py:54: UserWarning: Specified provider 'CUDAExecutionProvider' is not in available provider names.Available providers: 'CPUExecutionProvider'\n",
      "  warnings.warn(\n",
      "100%|██████████| 80/80 [01:01<00:00,  1.31it/s]\n"
     ]
    },
    {
     "name": "stdout",
     "output_type": "stream",
     "text": [
      "len(self.fragments) 1\n",
      "saving to _results/result_paper_32_t2/net124_124\n",
      "totalscore 0.6518805845175237\n",
      "epoch 0 loss 0.0\n",
      "epoch 1 loss 0.0\n",
      "epoch 2 loss 0.0\n",
      "epoch 3 loss 0.0\n",
      "epoch 4 loss 0.0\n",
      "epoch 5 loss 0.0\n",
      "epoch 6 loss 0.0\n",
      "epoch 7 loss 0.0\n",
      "epoch 8 loss 0.0\n",
      "epoch 9 loss 0.0\n",
      "WARNING: defualt optimization passes will be enlarged to all fuse and elimination passes in the next version\n",
      "current depth: 9\n"
     ]
    },
    {
     "name": "stderr",
     "output_type": "stream",
     "text": [
      "100%|██████████| 5/5 [00:03<00:00,  1.30it/s]\n"
     ]
    },
    {
     "name": "stdout",
     "output_type": "stream",
     "text": [
      "potential next fragments: 5\n",
      "potential next fragments after thresholding of 0.8: 5 ['1.0', '0.89', '0.86', '0.85', '0.82']\n",
      "totalscore 0.6516884459952302\n",
      "epoch 0 loss 0.0\n",
      "epoch 1 loss 0.0\n",
      "epoch 2 loss 0.0\n",
      "epoch 3 loss 0.0\n",
      "epoch 4 loss 0.0\n",
      "epoch 5 loss 0.0\n",
      "epoch 6 loss 0.0\n",
      "epoch 7 loss 0.0\n",
      "epoch 8 loss 0.0\n",
      "epoch 9 loss 0.0\n",
      "WARNING: defualt optimization passes will be enlarged to all fuse and elimination passes in the next version\n"
     ]
    },
    {
     "name": "stderr",
     "output_type": "stream",
     "text": [
      "  0%|          | 0/80 [00:00<?, ?it/s]/opt/anaconda3/envs/stitchnet/lib/python3.10/site-packages/onnxruntime/capi/onnxruntime_inference_collection.py:54: UserWarning: Specified provider 'CUDAExecutionProvider' is not in available provider names.Available providers: 'CPUExecutionProvider'\n",
      "  warnings.warn(\n",
      "100%|██████████| 80/80 [00:59<00:00,  1.35it/s]\n"
     ]
    },
    {
     "name": "stdout",
     "output_type": "stream",
     "text": [
      "len(self.fragments) 1\n",
      "saving to _results/result_paper_32_t2/net125_125\n",
      "totalscore 0.616891396694341\n",
      "epoch 0 loss 0.0\n",
      "epoch 1 loss 0.0\n",
      "epoch 2 loss 0.0\n",
      "epoch 3 loss 0.0\n",
      "epoch 4 loss 0.0\n",
      "epoch 5 loss 0.0\n",
      "epoch 6 loss 0.0\n",
      "epoch 7 loss 0.0\n",
      "epoch 8 loss 0.0\n",
      "epoch 9 loss 0.0\n",
      "WARNING: defualt optimization passes will be enlarged to all fuse and elimination passes in the next version\n"
     ]
    },
    {
     "name": "stderr",
     "output_type": "stream",
     "text": [
      "  0%|          | 0/80 [00:00<?, ?it/s]/opt/anaconda3/envs/stitchnet/lib/python3.10/site-packages/onnxruntime/capi/onnxruntime_inference_collection.py:54: UserWarning: Specified provider 'CUDAExecutionProvider' is not in available provider names.Available providers: 'CPUExecutionProvider'\n",
      "  warnings.warn(\n",
      "100%|██████████| 80/80 [05:29<00:00,  4.12s/it]  \n"
     ]
    },
    {
     "name": "stdout",
     "output_type": "stream",
     "text": [
      "len(self.fragments) 1\n",
      "saving to _results/result_paper_32_t2/net126_126\n",
      "totalscore 0.6161724935572978\n",
      "epoch 0 loss 0.0\n",
      "epoch 1 loss 0.0\n",
      "epoch 2 loss 0.0\n",
      "epoch 3 loss 0.0\n",
      "epoch 4 loss 0.0\n",
      "epoch 5 loss 0.0\n",
      "epoch 6 loss 0.0\n",
      "epoch 7 loss 0.0\n",
      "epoch 8 loss 0.0\n",
      "epoch 9 loss 0.0\n",
      "WARNING: defualt optimization passes will be enlarged to all fuse and elimination passes in the next version\n"
     ]
    },
    {
     "name": "stderr",
     "output_type": "stream",
     "text": [
      "  0%|          | 0/80 [00:00<?, ?it/s]/opt/anaconda3/envs/stitchnet/lib/python3.10/site-packages/onnxruntime/capi/onnxruntime_inference_collection.py:54: UserWarning: Specified provider 'CUDAExecutionProvider' is not in available provider names.Available providers: 'CPUExecutionProvider'\n",
      "  warnings.warn(\n",
      "100%|██████████| 80/80 [01:01<00:00,  1.31it/s]\n"
     ]
    },
    {
     "name": "stdout",
     "output_type": "stream",
     "text": [
      "len(self.fragments) 1\n",
      "saving to _results/result_paper_32_t2/net127_127\n",
      "totalscore 0.6124546904925925\n",
      "epoch 0 loss 0.0\n",
      "epoch 1 loss 0.0\n",
      "epoch 2 loss 0.0\n",
      "epoch 3 loss 0.0\n",
      "epoch 4 loss 0.0\n",
      "epoch 5 loss 0.0\n",
      "epoch 6 loss 0.0\n",
      "epoch 7 loss 0.0\n",
      "epoch 8 loss 0.0\n",
      "epoch 9 loss 0.0\n",
      "WARNING: defualt optimization passes will be enlarged to all fuse and elimination passes in the next version\n",
      "current depth: 9\n"
     ]
    },
    {
     "name": "stderr",
     "output_type": "stream",
     "text": [
      "100%|██████████| 5/5 [00:03<00:00,  1.33it/s]\n"
     ]
    },
    {
     "name": "stdout",
     "output_type": "stream",
     "text": [
      "potential next fragments: 5\n",
      "potential next fragments after thresholding of 0.8: 5 ['0.96', '0.87', '0.87', '0.84', '0.83']\n",
      "totalscore 0.8034344178433985\n",
      "epoch 0 loss 0.0\n",
      "epoch 1 loss 0.0\n",
      "epoch 2 loss 0.0\n",
      "epoch 3 loss 0.0\n",
      "epoch 4 loss 0.0\n",
      "epoch 5 loss 0.0\n",
      "epoch 6 loss 0.0\n",
      "epoch 7 loss 0.0\n",
      "epoch 8 loss 0.0\n",
      "epoch 9 loss 0.0\n",
      "WARNING: defualt optimization passes will be enlarged to all fuse and elimination passes in the next version\n"
     ]
    },
    {
     "name": "stderr",
     "output_type": "stream",
     "text": [
      "  0%|          | 0/80 [00:00<?, ?it/s]/opt/anaconda3/envs/stitchnet/lib/python3.10/site-packages/onnxruntime/capi/onnxruntime_inference_collection.py:54: UserWarning: Specified provider 'CUDAExecutionProvider' is not in available provider names.Available providers: 'CPUExecutionProvider'\n",
      "  warnings.warn(\n",
      "100%|██████████| 80/80 [00:59<00:00,  1.34it/s]\n"
     ]
    },
    {
     "name": "stdout",
     "output_type": "stream",
     "text": [
      "len(self.fragments) 1\n",
      "saving to _results/result_paper_32_t2/net128_128\n",
      "totalscore 0.7415580519590604\n",
      "epoch 0 loss 0.0\n",
      "epoch 1 loss 0.0\n",
      "epoch 2 loss 0.0\n",
      "epoch 3 loss 0.0\n",
      "epoch 4 loss 0.0\n",
      "epoch 5 loss 0.0\n",
      "epoch 6 loss 0.0\n",
      "epoch 7 loss 0.0\n",
      "epoch 8 loss 0.0\n",
      "epoch 9 loss 0.0\n",
      "WARNING: defualt optimization passes will be enlarged to all fuse and elimination passes in the next version\n"
     ]
    },
    {
     "name": "stderr",
     "output_type": "stream",
     "text": [
      "  0%|          | 0/80 [00:00<?, ?it/s]/opt/anaconda3/envs/stitchnet/lib/python3.10/site-packages/onnxruntime/capi/onnxruntime_inference_collection.py:54: UserWarning: Specified provider 'CUDAExecutionProvider' is not in available provider names.Available providers: 'CPUExecutionProvider'\n",
      "  warnings.warn(\n",
      "100%|██████████| 80/80 [00:58<00:00,  1.38it/s]\n"
     ]
    },
    {
     "name": "stdout",
     "output_type": "stream",
     "text": [
      "len(self.fragments) 1\n",
      "saving to _results/result_paper_32_t2/net129_129\n",
      "totalscore 0.7280016421712664\n",
      "epoch 0 loss 0.0\n",
      "epoch 1 loss 0.0\n",
      "epoch 2 loss 0.0\n",
      "epoch 3 loss 0.0\n",
      "epoch 4 loss 0.0\n",
      "epoch 5 loss 0.0\n",
      "epoch 6 loss 0.0\n",
      "epoch 7 loss 0.0\n",
      "epoch 8 loss 0.0\n",
      "epoch 9 loss 0.0\n",
      "WARNING: defualt optimization passes will be enlarged to all fuse and elimination passes in the next version\n",
      "current depth: 7\n"
     ]
    },
    {
     "name": "stderr",
     "output_type": "stream",
     "text": [
      "100%|██████████| 5/5 [00:03<00:00,  1.25it/s]\n"
     ]
    },
    {
     "name": "stdout",
     "output_type": "stream",
     "text": [
      "potential next fragments: 43\n",
      "potential next fragments after thresholding of 0.8: 6 ['0.95', '0.92', '0.87', '0.86', '0.81', '0.81']\n",
      "totalscore 0.6951633632364631\n",
      "epoch 0 loss 0.0\n",
      "epoch 1 loss 0.0\n",
      "epoch 2 loss 0.0\n",
      "epoch 3 loss 0.0\n",
      "epoch 4 loss 0.0\n",
      "epoch 5 loss 0.0\n",
      "epoch 6 loss 0.0\n",
      "epoch 7 loss 0.0\n",
      "epoch 8 loss 0.0\n",
      "epoch 9 loss 0.0\n",
      "WARNING: defualt optimization passes will be enlarged to all fuse and elimination passes in the next version\n"
     ]
    },
    {
     "name": "stderr",
     "output_type": "stream",
     "text": [
      "  0%|          | 0/80 [00:00<?, ?it/s]/opt/anaconda3/envs/stitchnet/lib/python3.10/site-packages/onnxruntime/capi/onnxruntime_inference_collection.py:54: UserWarning: Specified provider 'CUDAExecutionProvider' is not in available provider names.Available providers: 'CPUExecutionProvider'\n",
      "  warnings.warn(\n",
      "100%|██████████| 80/80 [01:01<00:00,  1.31it/s]\n"
     ]
    },
    {
     "name": "stdout",
     "output_type": "stream",
     "text": [
      "len(self.fragments) 1\n",
      "saving to _results/result_paper_32_t2/net130_130\n",
      "totalscore 0.6724702859813024\n",
      "epoch 0 loss 0.0\n",
      "epoch 1 loss 0.0\n",
      "epoch 2 loss 0.0\n",
      "epoch 3 loss 0.0\n",
      "epoch 4 loss 0.0\n",
      "epoch 5 loss 0.0\n",
      "epoch 6 loss 0.0\n",
      "epoch 7 loss 0.0\n",
      "epoch 8 loss 0.0\n",
      "epoch 9 loss 0.0\n",
      "WARNING: defualt optimization passes will be enlarged to all fuse and elimination passes in the next version\n",
      "current depth: 8\n"
     ]
    },
    {
     "name": "stderr",
     "output_type": "stream",
     "text": [
      "100%|██████████| 5/5 [00:03<00:00,  1.31it/s]\n"
     ]
    },
    {
     "name": "stdout",
     "output_type": "stream",
     "text": [
      "potential next fragments: 43\n",
      "potential next fragments after thresholding of 0.8: 6 ['0.92', '0.91', '0.86', '0.86', '0.82', '0.81']\n",
      "totalscore 0.6169195924737806\n",
      "epoch 0 loss 0.0\n",
      "epoch 1 loss 0.0\n",
      "epoch 2 loss 0.0\n",
      "epoch 3 loss 0.0\n",
      "epoch 4 loss 0.0\n",
      "epoch 5 loss 0.0\n",
      "epoch 6 loss 0.0\n",
      "epoch 7 loss 0.0\n",
      "epoch 8 loss 0.0\n",
      "epoch 9 loss 0.0\n",
      "WARNING: defualt optimization passes will be enlarged to all fuse and elimination passes in the next version\n",
      "current depth: 9\n"
     ]
    },
    {
     "name": "stderr",
     "output_type": "stream",
     "text": [
      "100%|██████████| 5/5 [00:03<00:00,  1.37it/s]\n"
     ]
    },
    {
     "name": "stdout",
     "output_type": "stream",
     "text": [
      "potential next fragments: 5\n",
      "potential next fragments after thresholding of 0.8: 3 ['0.93', '0.82', '0.81']\n",
      "totalscore 0.6099278673946696\n",
      "epoch 0 loss 0.0\n",
      "epoch 1 loss 0.0\n",
      "epoch 2 loss 0.0\n",
      "epoch 3 loss 0.0\n",
      "epoch 4 loss 0.0\n",
      "epoch 5 loss 0.0\n",
      "epoch 6 loss 0.0\n",
      "epoch 7 loss 0.0\n",
      "epoch 8 loss 0.0\n",
      "epoch 9 loss 0.0\n",
      "WARNING: defualt optimization passes will be enlarged to all fuse and elimination passes in the next version\n"
     ]
    },
    {
     "name": "stderr",
     "output_type": "stream",
     "text": [
      "  0%|          | 0/80 [00:00<?, ?it/s]/opt/anaconda3/envs/stitchnet/lib/python3.10/site-packages/onnxruntime/capi/onnxruntime_inference_collection.py:54: UserWarning: Specified provider 'CUDAExecutionProvider' is not in available provider names.Available providers: 'CPUExecutionProvider'\n",
      "  warnings.warn(\n",
      "100%|██████████| 80/80 [01:03<00:00,  1.27it/s]\n"
     ]
    },
    {
     "name": "stdout",
     "output_type": "stream",
     "text": [
      "len(self.fragments) 1\n",
      "saving to _results/result_paper_32_t2/net131_131\n",
      "totalscore 0.6369896341998946\n",
      "epoch 0 loss 0.0\n",
      "epoch 1 loss 0.0\n",
      "epoch 2 loss 0.0\n",
      "epoch 3 loss 0.0\n",
      "epoch 4 loss 0.0\n",
      "epoch 5 loss 0.0\n",
      "epoch 6 loss 0.0\n",
      "epoch 7 loss 0.0\n",
      "epoch 8 loss 0.0\n",
      "epoch 9 loss 0.0\n",
      "WARNING: defualt optimization passes will be enlarged to all fuse and elimination passes in the next version\n"
     ]
    },
    {
     "name": "stderr",
     "output_type": "stream",
     "text": [
      "  0%|          | 0/80 [00:00<?, ?it/s]/opt/anaconda3/envs/stitchnet/lib/python3.10/site-packages/onnxruntime/capi/onnxruntime_inference_collection.py:54: UserWarning: Specified provider 'CUDAExecutionProvider' is not in available provider names.Available providers: 'CPUExecutionProvider'\n",
      "  warnings.warn(\n",
      "100%|██████████| 80/80 [01:01<00:00,  1.30it/s]\n"
     ]
    },
    {
     "name": "stdout",
     "output_type": "stream",
     "text": [
      "len(self.fragments) 1\n",
      "saving to _results/result_paper_32_t2/net132_132\n",
      "totalscore 0.6268244720717844\n",
      "epoch 0 loss 0.0\n",
      "epoch 1 loss 0.0\n",
      "epoch 2 loss 0.0\n",
      "epoch 3 loss 0.0\n",
      "epoch 4 loss 0.0\n",
      "epoch 5 loss 0.0\n",
      "epoch 6 loss 0.0\n",
      "epoch 7 loss 0.0\n",
      "epoch 8 loss 0.0\n",
      "epoch 9 loss 0.0\n",
      "WARNING: defualt optimization passes will be enlarged to all fuse and elimination passes in the next version\n",
      "current depth: 8\n"
     ]
    },
    {
     "name": "stderr",
     "output_type": "stream",
     "text": [
      "100%|██████████| 5/5 [00:03<00:00,  1.28it/s]\n"
     ]
    },
    {
     "name": "stdout",
     "output_type": "stream",
     "text": [
      "potential next fragments: 43\n",
      "potential next fragments after thresholding of 0.8: 8 ['0.97', '0.93', '0.88', '0.85', '0.83', '0.83', '0.82', '0.8']\n",
      "totalscore 0.6082420576606893\n",
      "epoch 0 loss 0.0\n",
      "epoch 1 loss 0.0\n",
      "epoch 2 loss 0.0\n",
      "epoch 3 loss 0.0\n",
      "epoch 4 loss 0.0\n",
      "epoch 5 loss 0.0\n",
      "epoch 6 loss 0.0\n",
      "epoch 7 loss 0.0\n",
      "epoch 8 loss 0.0\n",
      "epoch 9 loss 0.0\n",
      "WARNING: defualt optimization passes will be enlarged to all fuse and elimination passes in the next version\n",
      "current depth: 9\n"
     ]
    },
    {
     "name": "stderr",
     "output_type": "stream",
     "text": [
      "100%|██████████| 5/5 [00:03<00:00,  1.32it/s]\n"
     ]
    },
    {
     "name": "stdout",
     "output_type": "stream",
     "text": [
      "potential next fragments: 5\n",
      "potential next fragments after thresholding of 0.8: 3 ['0.91', '0.85', '0.83']\n",
      "totalscore 0.7273837203926715\n",
      "epoch 0 loss 0.0\n",
      "epoch 1 loss 0.0\n",
      "epoch 2 loss 0.0\n",
      "epoch 3 loss 0.0\n",
      "epoch 4 loss 0.0\n",
      "epoch 5 loss 0.0\n",
      "epoch 6 loss 0.0\n",
      "epoch 7 loss 0.0\n",
      "epoch 8 loss 0.0\n",
      "epoch 9 loss 0.0\n",
      "WARNING: defualt optimization passes will be enlarged to all fuse and elimination passes in the next version\n"
     ]
    },
    {
     "name": "stderr",
     "output_type": "stream",
     "text": [
      "  0%|          | 0/80 [00:00<?, ?it/s]/opt/anaconda3/envs/stitchnet/lib/python3.10/site-packages/onnxruntime/capi/onnxruntime_inference_collection.py:54: UserWarning: Specified provider 'CUDAExecutionProvider' is not in available provider names.Available providers: 'CPUExecutionProvider'\n",
      "  warnings.warn(\n",
      "100%|██████████| 80/80 [00:57<00:00,  1.39it/s]\n"
     ]
    },
    {
     "name": "stdout",
     "output_type": "stream",
     "text": [
      "len(self.fragments) 1\n",
      "saving to _results/result_paper_32_t2/net133_133\n",
      "totalscore 0.7161797907336331\n",
      "epoch 0 loss 0.0\n",
      "epoch 1 loss 0.0\n",
      "epoch 2 loss 0.0\n",
      "epoch 3 loss 0.0\n",
      "epoch 4 loss 0.0\n",
      "epoch 5 loss 0.0\n",
      "epoch 6 loss 0.0\n",
      "epoch 7 loss 0.0\n",
      "epoch 8 loss 0.0\n",
      "epoch 9 loss 0.0\n",
      "WARNING: defualt optimization passes will be enlarged to all fuse and elimination passes in the next version\n"
     ]
    },
    {
     "name": "stderr",
     "output_type": "stream",
     "text": [
      "  0%|          | 0/80 [00:00<?, ?it/s]/opt/anaconda3/envs/stitchnet/lib/python3.10/site-packages/onnxruntime/capi/onnxruntime_inference_collection.py:54: UserWarning: Specified provider 'CUDAExecutionProvider' is not in available provider names.Available providers: 'CPUExecutionProvider'\n",
      "  warnings.warn(\n",
      "100%|██████████| 80/80 [00:56<00:00,  1.41it/s]\n"
     ]
    },
    {
     "name": "stdout",
     "output_type": "stream",
     "text": [
      "len(self.fragments) 1\n",
      "saving to _results/result_paper_32_t2/net134_134\n",
      "totalscore 0.7097853692178748\n",
      "epoch 0 loss 0.0\n",
      "epoch 1 loss 0.0\n",
      "epoch 2 loss 0.0\n",
      "epoch 3 loss 0.0\n",
      "epoch 4 loss 0.0\n",
      "epoch 5 loss 0.0\n",
      "epoch 6 loss 0.0\n",
      "epoch 7 loss 0.0\n",
      "epoch 8 loss 0.0\n",
      "epoch 9 loss 0.0\n",
      "WARNING: defualt optimization passes will be enlarged to all fuse and elimination passes in the next version\n",
      "current depth: 7\n"
     ]
    },
    {
     "name": "stderr",
     "output_type": "stream",
     "text": [
      "100%|██████████| 5/5 [00:03<00:00,  1.35it/s]\n"
     ]
    },
    {
     "name": "stdout",
     "output_type": "stream",
     "text": [
      "potential next fragments: 43\n",
      "potential next fragments after thresholding of 0.8: 9 ['0.97', '0.95', '0.87', '0.84', '0.84', '0.83', '0.82', '0.81', '0.8']\n",
      "totalscore 0.6858770749193587\n",
      "epoch 0 loss 0.0\n",
      "epoch 1 loss 0.0\n",
      "epoch 2 loss 0.0\n",
      "epoch 3 loss 0.0\n",
      "epoch 4 loss 0.0\n",
      "epoch 5 loss 0.0\n",
      "epoch 6 loss 0.0\n",
      "epoch 7 loss 0.0\n",
      "epoch 8 loss 0.0\n",
      "epoch 9 loss 0.0\n",
      "WARNING: defualt optimization passes will be enlarged to all fuse and elimination passes in the next version\n",
      "current depth: 8\n"
     ]
    },
    {
     "name": "stderr",
     "output_type": "stream",
     "text": [
      "100%|██████████| 5/5 [00:03<00:00,  1.35it/s]\n"
     ]
    },
    {
     "name": "stdout",
     "output_type": "stream",
     "text": [
      "potential next fragments: 43\n",
      "potential next fragments after thresholding of 0.8: 6 ['0.97', '0.93', '0.89', '0.86', '0.86', '0.82']\n",
      "totalscore 0.6682310017795605\n",
      "epoch 0 loss 0.0\n",
      "epoch 1 loss 0.0\n",
      "epoch 2 loss 0.0\n",
      "epoch 3 loss 0.0\n",
      "epoch 4 loss 0.0\n",
      "epoch 5 loss 0.0\n",
      "epoch 6 loss 0.0\n",
      "epoch 7 loss 0.0\n",
      "epoch 8 loss 0.0\n",
      "epoch 9 loss 0.0\n",
      "WARNING: defualt optimization passes will be enlarged to all fuse and elimination passes in the next version\n"
     ]
    },
    {
     "name": "stderr",
     "output_type": "stream",
     "text": [
      "  0%|          | 0/80 [00:00<?, ?it/s]/opt/anaconda3/envs/stitchnet/lib/python3.10/site-packages/onnxruntime/capi/onnxruntime_inference_collection.py:54: UserWarning: Specified provider 'CUDAExecutionProvider' is not in available provider names.Available providers: 'CPUExecutionProvider'\n",
      "  warnings.warn(\n",
      "100%|██████████| 80/80 [01:05<00:00,  1.23it/s]\n"
     ]
    },
    {
     "name": "stdout",
     "output_type": "stream",
     "text": [
      "len(self.fragments) 1\n",
      "saving to _results/result_paper_32_t2/net135_135\n",
      "totalscore 0.6399816271569294\n",
      "epoch 0 loss 0.0\n",
      "epoch 1 loss 0.0\n",
      "epoch 2 loss 0.0\n",
      "epoch 3 loss 0.0\n",
      "epoch 4 loss 0.0\n",
      "epoch 5 loss 0.0\n",
      "epoch 6 loss 0.0\n",
      "epoch 7 loss 0.0\n",
      "epoch 8 loss 0.0\n",
      "epoch 9 loss 0.0\n",
      "WARNING: defualt optimization passes will be enlarged to all fuse and elimination passes in the next version\n",
      "current depth: 9\n"
     ]
    },
    {
     "name": "stderr",
     "output_type": "stream",
     "text": [
      "100%|██████████| 5/5 [00:03<00:00,  1.36it/s]\n"
     ]
    },
    {
     "name": "stdout",
     "output_type": "stream",
     "text": [
      "potential next fragments: 5\n",
      "potential next fragments after thresholding of 0.8: 4 ['0.97', '0.9', '0.87', '0.84']\n",
      "totalscore 0.6194309933776856\n",
      "epoch 0 loss 0.0\n",
      "epoch 1 loss 0.0\n",
      "epoch 2 loss 0.0\n",
      "epoch 3 loss 0.0\n",
      "epoch 4 loss 0.0\n",
      "epoch 5 loss 0.0\n",
      "epoch 6 loss 0.0\n",
      "epoch 7 loss 0.0\n",
      "epoch 8 loss 0.0\n",
      "epoch 9 loss 0.0\n",
      "WARNING: defualt optimization passes will be enlarged to all fuse and elimination passes in the next version\n"
     ]
    },
    {
     "name": "stderr",
     "output_type": "stream",
     "text": [
      "  0%|          | 0/80 [00:00<?, ?it/s]/opt/anaconda3/envs/stitchnet/lib/python3.10/site-packages/onnxruntime/capi/onnxruntime_inference_collection.py:54: UserWarning: Specified provider 'CUDAExecutionProvider' is not in available provider names.Available providers: 'CPUExecutionProvider'\n",
      "  warnings.warn(\n",
      "100%|██████████| 80/80 [01:06<00:00,  1.20it/s]\n"
     ]
    },
    {
     "name": "stdout",
     "output_type": "stream",
     "text": [
      "len(self.fragments) 1\n",
      "saving to _results/result_paper_32_t2/net136_136\n",
      "totalscore 0.6117516712275181\n",
      "epoch 0 loss 0.0\n",
      "epoch 1 loss 0.0\n",
      "epoch 2 loss 0.0\n",
      "epoch 3 loss 0.0\n",
      "epoch 4 loss 0.0\n",
      "epoch 5 loss 0.0\n",
      "epoch 6 loss 0.0\n",
      "epoch 7 loss 0.0\n",
      "epoch 8 loss 0.0\n",
      "epoch 9 loss 0.0\n",
      "WARNING: defualt optimization passes will be enlarged to all fuse and elimination passes in the next version\n"
     ]
    },
    {
     "name": "stderr",
     "output_type": "stream",
     "text": [
      "  0%|          | 0/80 [00:00<?, ?it/s]/opt/anaconda3/envs/stitchnet/lib/python3.10/site-packages/onnxruntime/capi/onnxruntime_inference_collection.py:54: UserWarning: Specified provider 'CUDAExecutionProvider' is not in available provider names.Available providers: 'CPUExecutionProvider'\n",
      "  warnings.warn(\n",
      "100%|██████████| 80/80 [01:03<00:00,  1.26it/s]\n"
     ]
    },
    {
     "name": "stdout",
     "output_type": "stream",
     "text": [
      "len(self.fragments) 1\n",
      "saving to _results/result_paper_32_t2/net137_137\n",
      "totalscore 0.6707551647635182\n",
      "epoch 0 loss 0.0\n",
      "epoch 1 loss 0.0\n",
      "epoch 2 loss 0.0\n",
      "epoch 3 loss 0.0\n",
      "epoch 4 loss 0.0\n",
      "epoch 5 loss 0.0\n",
      "epoch 6 loss 0.0\n",
      "epoch 7 loss 0.0\n",
      "epoch 8 loss 0.0\n",
      "epoch 9 loss 0.0\n",
      "WARNING: defualt optimization passes will be enlarged to all fuse and elimination passes in the next version\n"
     ]
    },
    {
     "name": "stderr",
     "output_type": "stream",
     "text": [
      "  0%|          | 0/80 [00:00<?, ?it/s]/opt/anaconda3/envs/stitchnet/lib/python3.10/site-packages/onnxruntime/capi/onnxruntime_inference_collection.py:54: UserWarning: Specified provider 'CUDAExecutionProvider' is not in available provider names.Available providers: 'CPUExecutionProvider'\n",
      "  warnings.warn(\n",
      "100%|██████████| 80/80 [01:00<00:00,  1.33it/s]\n"
     ]
    },
    {
     "name": "stdout",
     "output_type": "stream",
     "text": [
      "len(self.fragments) 1\n",
      "saving to _results/result_paper_32_t2/net138_138\n",
      "totalscore 0.6156040243489974\n",
      "epoch 0 loss 0.0\n",
      "epoch 1 loss 0.0\n",
      "epoch 2 loss 0.0\n",
      "epoch 3 loss 0.0\n",
      "epoch 4 loss 0.0\n",
      "epoch 5 loss 0.0\n",
      "epoch 6 loss 0.0\n",
      "epoch 7 loss 0.0\n",
      "epoch 8 loss 0.0\n",
      "epoch 9 loss 0.0\n",
      "WARNING: defualt optimization passes will be enlarged to all fuse and elimination passes in the next version\n"
     ]
    },
    {
     "name": "stderr",
     "output_type": "stream",
     "text": [
      "  0%|          | 0/80 [00:00<?, ?it/s]/opt/anaconda3/envs/stitchnet/lib/python3.10/site-packages/onnxruntime/capi/onnxruntime_inference_collection.py:54: UserWarning: Specified provider 'CUDAExecutionProvider' is not in available provider names.Available providers: 'CPUExecutionProvider'\n",
      "  warnings.warn(\n",
      " 92%|█████████▎| 74/80 [00:57<00:04,  1.30it/s]\n",
      "Traceback (most recent call last):\n",
      "  File \"/var/folders/t9/yqdtb7bs2zv99b4dfp4q014m0000gp/T/ipykernel_10000/954954804.py\", line 11, in <cell line: 4>\n",
      "    report.evaluate(nets, net, netname, s, dataset_val)\n",
      "  File \"/Users/surat/NSTDA/stitchnet/stitchnet/stitchnet/stitchonnx/report.py\", line 14, in evaluate\n",
      "    accuracy = accuracy_score_net(net, dataset, bs=self.bs)\n",
      "  File \"/Users/surat/NSTDA/stitchnet/stitchnet/stitchnet/stitchonnx/utils.py\", line 1129, in accuracy_score_net\n",
      "    y = evalulate_stitchnet(net, x)\n",
      "  File \"/Users/surat/NSTDA/stitchnet/stitchnet/stitchnet/stitchonnx/utils.py\", line 1034, in evalulate_stitchnet\n",
      "    outputs = ort_sess1.run(None, inputs)\n",
      "  File \"/opt/anaconda3/envs/stitchnet/lib/python3.10/site-packages/onnxruntime/capi/onnxruntime_inference_collection.py\", line 200, in run\n",
      "    return self._sess.run(output_names, input_feed, run_options)\n",
      "KeyboardInterrupt\n",
      "\n",
      "KeyboardInterrupt\n",
      "\n"
     ]
    }
   ],
   "source": [
    "from tqdm import tqdm\n",
    "\n",
    "scoreMapper = ScoreMapper(nets, data_score)\n",
    "with Report(EVAL_BATCH_SIZE, f'./_results/{RESULT_NAME}.txt', 'w') as report:\n",
    "    # for _ in tqdm(range(50)):\n",
    "    generator = generate_networks(nets, scoreMapper, data_score, \n",
    "                          threshold=THRESOULD, totalThreshold=TOTAL_THRESOULD, \n",
    "                          maxDepth=MAX_DEPTH, sample=False)\n",
    "    for i,(s,net) in enumerate(generator):\n",
    "        netname = f\"_results/{RESULT_NAME}/net{k:03}_{i:03}\"\n",
    "        report.evaluate(nets, net, netname, s, dataset_val)\n",
    "        net.save(netname)\n",
    "        k += 1"
   ]
  },
  {
   "cell_type": "code",
   "execution_count": null,
   "id": "23f5379f-6aaa-4d32-85aa-bd0a8a100cd0",
   "metadata": {},
   "outputs": [],
   "source": []
  }
 ],
 "metadata": {
  "kernelspec": {
   "display_name": "stitchnet",
   "language": "python",
   "name": "stitchnet"
  },
  "language_info": {
   "codemirror_mode": {
    "name": "ipython",
    "version": 3
   },
   "file_extension": ".py",
   "mimetype": "text/x-python",
   "name": "python",
   "nbconvert_exporter": "python",
   "pygments_lexer": "ipython3",
   "version": "3.10.4"
  }
 },
 "nbformat": 4,
 "nbformat_minor": 5
}
