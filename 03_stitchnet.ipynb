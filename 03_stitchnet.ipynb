{
 "cells": [
  {
   "cell_type": "code",
   "execution_count": 1,
   "id": "f02463b7-9fb2-4fc9-b3d4-963da1093a32",
   "metadata": {},
   "outputs": [],
   "source": [
    "%load_ext autoreload\n",
    "%autoreload 2"
   ]
  },
  {
   "cell_type": "code",
   "execution_count": 2,
   "id": "46146e10-04f2-4fa4-a001-24fdf1398844",
   "metadata": {
    "tags": []
   },
   "outputs": [],
   "source": [
    "from skl2onnx.helpers.onnx_helper import load_onnx_model\n",
    "from stitchnet.stitchonnx.utils import Net\n",
    "from glob import glob\n",
    "from pathlib import Path\n",
    "\n",
    "netsFiles = sorted(glob('_models/fragments/net*'))\n",
    "nets = []\n",
    "for i,netsFile in enumerate(netsFiles):\n",
    "    fragmentFiles = sorted(glob(str(Path(netsFile)/'fragment*.onnx')))\n",
    "    onnxFragments = []\n",
    "    for fragmentFile in fragmentFiles:\n",
    "        onnxFragment = load_onnx_model(fragmentFile)\n",
    "        onnxFragments.append(onnxFragment)\n",
    "    net1 = Net(onnxFragments, i)\n",
    "    nets.append(net1)"
   ]
  },
  {
   "cell_type": "code",
   "execution_count": 3,
   "id": "991aecb8-aee4-4bc0-a464-0b308014566d",
   "metadata": {},
   "outputs": [],
   "source": [
    "from stitchnet.stitchonnx.utils import load_cats_and_dogs_dset,convert_imagenet_to_cat_dog_label\n",
    "from stitchnet.stitchonnx.utils import accuracy_score_model,accuracy_score_net,load_dl\n",
    "from stitchnet.stitchonnx.utils import generate_networks, ScoreMapper\n",
    "from stitchnet.stitchonnx.report import Report\n",
    "from stitchnet.stitchonnx.utils import evalulate_stitchnet\n",
    "\n",
    "from tqdm import tqdm\n",
    "import torch\n",
    "import numpy as np\n",
    "import os\n",
    "from collections import defaultdict\n",
    "import hashlib\n",
    "\n",
    "STITCH_BATCH_SIZE = 64\n",
    "RESULT_NAME = \"result\"\n",
    "\n",
    "dataset_train = load_cats_and_dogs_dset(\"train\")\n",
    "dataset_val = load_cats_and_dogs_dset(\"test\")\n",
    "\n",
    "dl_score = load_dl(dataset_train, STITCH_BATCH_SIZE)\n",
    "data_score,t = next(iter(dl_score))\n",
    "data_score = data_score.numpy()"
   ]
  },
  {
   "cell_type": "code",
   "execution_count": null,
   "id": "2b3267da-cf7a-47a0-8ea7-31cc3d2f057e",
   "metadata": {},
   "outputs": [
    {
     "name": "stderr",
     "output_type": "stream",
     "text": [
      "100%|██████████| 7/7 [00:19<00:00,  2.78s/it]\n"
     ]
    },
    {
     "name": "stdout",
     "output_type": "stream",
     "text": [
      "potential next fragments: 63\n",
      "potential next fragments after thresholding of 0.9: 1\n",
      "totalscore 1.0000001192092896\n",
      "WARNING: defualt optimization passes will be enlarged to all fuse and elimination passes in the next version\n"
     ]
    },
    {
     "name": "stderr",
     "output_type": "stream",
     "text": [
      "100%|██████████| 7/7 [00:07<00:00,  1.11s/it]\n"
     ]
    },
    {
     "name": "stdout",
     "output_type": "stream",
     "text": [
      "potential next fragments: 63\n",
      "potential next fragments after thresholding of 0.9: 1\n",
      "totalscore 0.9999999999999858\n",
      "WARNING: defualt optimization passes will be enlarged to all fuse and elimination passes in the next version\n"
     ]
    },
    {
     "name": "stderr",
     "output_type": "stream",
     "text": [
      "100%|██████████| 7/7 [00:08<00:00,  1.17s/it]\n"
     ]
    },
    {
     "name": "stdout",
     "output_type": "stream",
     "text": [
      "potential next fragments: 63\n",
      "potential next fragments after thresholding of 0.9: 1\n",
      "totalscore 0.9999999999999858\n",
      "WARNING: defualt optimization passes will be enlarged to all fuse and elimination passes in the next version\n"
     ]
    },
    {
     "name": "stderr",
     "output_type": "stream",
     "text": [
      "100%|██████████| 7/7 [00:09<00:00,  1.33s/it]\n"
     ]
    },
    {
     "name": "stdout",
     "output_type": "stream",
     "text": [
      "potential next fragments: 63\n",
      "potential next fragments after thresholding of 0.9: 1\n",
      "totalscore 0.999999940395341\n",
      "WARNING: defualt optimization passes will be enlarged to all fuse and elimination passes in the next version\n"
     ]
    },
    {
     "name": "stderr",
     "output_type": "stream",
     "text": [
      "100%|██████████| 7/7 [00:05<00:00,  1.19it/s]\n"
     ]
    },
    {
     "name": "stdout",
     "output_type": "stream",
     "text": [
      "potential next fragments: 63\n",
      "potential next fragments after thresholding of 0.9: 1\n",
      "totalscore 0.9856819518993947\n",
      "WARNING: defualt optimization passes will be enlarged to all fuse and elimination passes in the next version\n"
     ]
    },
    {
     "name": "stderr",
     "output_type": "stream",
     "text": [
      "100%|██████████| 26/26 [00:24<00:00,  1.05it/s]\n",
      "100%|██████████| 7/7 [00:07<00:00,  1.09s/it]\n"
     ]
    },
    {
     "name": "stdout",
     "output_type": "stream",
     "text": [
      "potential next fragments: 63\n",
      "potential next fragments after thresholding of 0.9: 1\n",
      "totalscore 1.0\n",
      "WARNING: defualt optimization passes will be enlarged to all fuse and elimination passes in the next version\n"
     ]
    },
    {
     "name": "stderr",
     "output_type": "stream",
     "text": [
      "100%|██████████| 7/7 [00:37<00:00,  5.41s/it]\n"
     ]
    },
    {
     "name": "stdout",
     "output_type": "stream",
     "text": [
      "potential next fragments: 63\n",
      "potential next fragments after thresholding of 0.9: 1\n",
      "totalscore 1.0000001192092896\n",
      "WARNING: defualt optimization passes will be enlarged to all fuse and elimination passes in the next version\n"
     ]
    },
    {
     "name": "stderr",
     "output_type": "stream",
     "text": [
      "100%|██████████| 7/7 [01:48<00:00, 15.47s/it]\n"
     ]
    },
    {
     "name": "stdout",
     "output_type": "stream",
     "text": [
      "potential next fragments: 63\n",
      "potential next fragments after thresholding of 0.9: 1\n",
      "totalscore 0.9999999999999858\n",
      "WARNING: defualt optimization passes will be enlarged to all fuse and elimination passes in the next version\n"
     ]
    },
    {
     "name": "stderr",
     "output_type": "stream",
     "text": [
      " 57%|█████▋    | 4/7 [01:25<00:55, 18.49s/it]"
     ]
    }
   ],
   "source": [
    "scoreMapper = ScoreMapper(nets, data_score)\n",
    "generator = generate_networks(nets, scoreMapper, data_score, threshold=0.9, totalThreshold=0.8)\n",
    "    \n",
    "with Report(STITCH_BATCH_SIZE, f'./_results/{RESULT_NAME}.txt', 'w') as report:\n",
    "    for i,(s,net) in enumerate(generator):\n",
    "        netname = f\"_results/{RESULT_NAME}/net{i:03}\"\n",
    "        report.evaluate(nets, net, netname, s, dataset_val)   "
   ]
  },
  {
   "cell_type": "code",
   "execution_count": 51,
   "id": "90483d35-8f27-46f9-af98-73489f09080a",
   "metadata": {},
   "outputs": [],
   "source": [
    "# nets[0][0].fragment.graph.input"
   ]
  },
  {
   "cell_type": "code",
   "execution_count": 49,
   "id": "1a87d5b1-8e20-4238-94c6-1eea58077b78",
   "metadata": {},
   "outputs": [],
   "source": [
    "# from stitchnet.stitchonnx.utils import list_net_ops\n",
    "# list_net_ops(nets[0])"
   ]
  },
  {
   "cell_type": "code",
   "execution_count": null,
   "id": "35e610d2-69ce-410d-913c-8b3b977e6ea3",
   "metadata": {},
   "outputs": [],
   "source": []
  }
 ],
 "metadata": {
  "kernelspec": {
   "display_name": "Python 3 (ipykernel)",
   "language": "python",
   "name": "python3"
  },
  "language_info": {
   "codemirror_mode": {
    "name": "ipython",
    "version": 3
   },
   "file_extension": ".py",
   "mimetype": "text/x-python",
   "name": "python",
   "nbconvert_exporter": "python",
   "pygments_lexer": "ipython3",
   "version": "3.9.7"
  }
 },
 "nbformat": 4,
 "nbformat_minor": 5
}
