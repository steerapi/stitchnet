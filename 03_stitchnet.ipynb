{
 "cells": [
  {
   "cell_type": "code",
   "execution_count": 1,
   "id": "f02463b7-9fb2-4fc9-b3d4-963da1093a32",
   "metadata": {},
   "outputs": [],
   "source": [
    "%load_ext autoreload\n",
    "%autoreload 2"
   ]
  },
  {
   "cell_type": "code",
   "execution_count": 2,
   "id": "46146e10-04f2-4fa4-a001-24fdf1398844",
   "metadata": {
    "tags": []
   },
   "outputs": [
    {
     "name": "stderr",
     "output_type": "stream",
     "text": [
      "/opt/anaconda3/envs/stitchnet/lib/python3.10/site-packages/tqdm/auto.py:22: TqdmWarning: IProgress not found. Please update jupyter and ipywidgets. See https://ipywidgets.readthedocs.io/en/stable/user_install.html\n",
      "  from .autonotebook import tqdm as notebook_tqdm\n"
     ]
    }
   ],
   "source": [
    "from skl2onnx.helpers.onnx_helper import load_onnx_model\n",
    "from stitchnet.stitchonnx.utils import Net\n",
    "from glob import glob\n",
    "from pathlib import Path\n",
    "\n",
    "netsFiles = sorted(glob('_models/fragments/net*'))\n",
    "nets = []\n",
    "for i,netsFile in enumerate(netsFiles):\n",
    "    fragmentFiles = sorted(glob(str(Path(netsFile)/'fragment*.onnx')))\n",
    "    onnxFragments = []\n",
    "    for fragmentFile in fragmentFiles:\n",
    "        onnxFragment = load_onnx_model(fragmentFile)\n",
    "        onnxFragments.append(onnxFragment)\n",
    "    net1 = Net(onnxFragments, i)\n",
    "    nets.append(net1)"
   ]
  },
  {
   "cell_type": "code",
   "execution_count": 3,
   "id": "991aecb8-aee4-4bc0-a464-0b308014566d",
   "metadata": {},
   "outputs": [],
   "source": [
    "from stitchnet.stitchonnx.utils import load_cats_and_dogs_dset,convert_imagenet_to_cat_dog_label\n",
    "from stitchnet.stitchonnx.utils import accuracy_score_model,accuracy_score_net,load_dl\n",
    "from stitchnet.stitchonnx.utils import generate_networks, ScoreMapper\n",
    "from stitchnet.stitchonnx.report import Report\n",
    "from stitchnet.stitchonnx.utils import evalulate_stitchnet\n",
    "\n",
    "from tqdm import tqdm\n",
    "import torch\n",
    "import numpy as np\n",
    "import os\n",
    "from collections import defaultdict\n",
    "import hashlib\n",
    "\n",
    "STITCH_BATCH_SIZE = 64\n",
    "EVAL_BATCH_SIZE = 64\n",
    "MAX_DEPTH = 10\n",
    "THRESOULD = 0.8\n",
    "TOTAL_THRESOULD = 0.5\n",
    "\n",
    "RESULT_NAME = \"result\"\n",
    "\n",
    "dataset_train = load_cats_and_dogs_dset(\"train\")\n",
    "dataset_val = load_cats_and_dogs_dset(\"test\")\n",
    "\n",
    "dl_score = load_dl(dataset_train, STITCH_BATCH_SIZE)\n",
    "data_score,t = next(iter(dl_score))\n",
    "data_score = data_score.numpy()"
   ]
  },
  {
   "cell_type": "code",
   "execution_count": 4,
   "id": "fb5e71f2-1d9c-416f-b0ab-b90f1ebc76ba",
   "metadata": {},
   "outputs": [],
   "source": [
    "# range(1)\n",
    "k = 0\n",
    "if os.path.exists(f'./_results/{RESULT_NAME}.txt'):\n",
    "    with open(f'./_results/{RESULT_NAME}.txt', 'r') as f:\n",
    "        k = len(f.read().split('\\n'))"
   ]
  },
  {
   "cell_type": "code",
   "execution_count": 5,
   "id": "5ef687c5-6b30-4c10-8536-e0eb218da7f0",
   "metadata": {
    "collapsed": true,
    "jupyter": {
     "outputs_hidden": true
    },
    "tags": []
   },
   "outputs": [
    {
     "name": "stderr",
     "output_type": "stream",
     "text": [
      "/opt/anaconda3/envs/stitchnet/lib/python3.10/site-packages/onnxruntime/capi/onnxruntime_inference_collection.py:54: UserWarning: Specified provider 'CUDAExecutionProvider' is not in available provider names.Available providers: 'CPUExecutionProvider'\n",
      "  warnings.warn(\n"
     ]
    },
    {
     "name": "stdout",
     "output_type": "stream",
     "text": [
      "current depth: 1\n"
     ]
    },
    {
     "name": "stderr",
     "output_type": "stream",
     "text": [
      "100%|██████████| 6/6 [00:26<00:00,  4.49s/it]\n"
     ]
    },
    {
     "name": "stdout",
     "output_type": "stream",
     "text": [
      "potential next fragments: 48\n",
      "potential next fragments after thresholding of 0.8: 2 ['1.0', '0.95']\n",
      "totalscore 0.9999998807907104\n",
      "WARNING: defualt optimization passes will be enlarged to all fuse and elimination passes in the next version\n",
      "current depth: 2\n"
     ]
    },
    {
     "name": "stderr",
     "output_type": "stream",
     "text": [
      "100%|██████████| 6/6 [00:06<00:00,  1.09s/it]\n"
     ]
    },
    {
     "name": "stdout",
     "output_type": "stream",
     "text": [
      "potential next fragments: 48\n",
      "potential next fragments after thresholding of 0.8: 2 ['1.0', '0.91']\n",
      "totalscore 0.9999998211860728\n",
      "WARNING: defualt optimization passes will be enlarged to all fuse and elimination passes in the next version\n",
      "current depth: 3\n"
     ]
    },
    {
     "name": "stderr",
     "output_type": "stream",
     "text": [
      "100%|██████████| 6/6 [00:08<00:00,  1.48s/it]\n"
     ]
    },
    {
     "name": "stdout",
     "output_type": "stream",
     "text": [
      "potential next fragments: 48\n",
      "potential next fragments after thresholding of 0.8: 1 ['1.0']\n",
      "totalscore 0.9999997615814387\n",
      "WARNING: defualt optimization passes will be enlarged to all fuse and elimination passes in the next version\n",
      "current depth: 4\n"
     ]
    },
    {
     "name": "stderr",
     "output_type": "stream",
     "text": [
      "100%|██████████| 6/6 [00:06<00:00,  1.15s/it]\n"
     ]
    },
    {
     "name": "stdout",
     "output_type": "stream",
     "text": [
      "potential next fragments: 48\n",
      "potential next fragments after thresholding of 0.8: 1 ['1.0']\n",
      "totalscore 0.9999996423721775\n",
      "WARNING: defualt optimization passes will be enlarged to all fuse and elimination passes in the next version\n",
      "current depth: 5\n"
     ]
    },
    {
     "name": "stderr",
     "output_type": "stream",
     "text": [
      "100%|██████████| 6/6 [00:09<00:00,  1.64s/it]\n"
     ]
    },
    {
     "name": "stdout",
     "output_type": "stream",
     "text": [
      "potential next fragments: 48\n",
      "potential next fragments after thresholding of 0.8: 1 ['1.0']\n",
      "totalscore 0.9999996423721775\n",
      "WARNING: defualt optimization passes will be enlarged to all fuse and elimination passes in the next version\n",
      "current depth: 6\n"
     ]
    },
    {
     "name": "stderr",
     "output_type": "stream",
     "text": [
      "100%|██████████| 6/6 [00:07<00:00,  1.27s/it]\n"
     ]
    },
    {
     "name": "stdout",
     "output_type": "stream",
     "text": [
      "potential next fragments: 48\n",
      "potential next fragments after thresholding of 0.8: 1 ['1.0']\n",
      "totalscore 0.9999995827675541\n",
      "WARNING: defualt optimization passes will be enlarged to all fuse and elimination passes in the next version\n",
      "current depth: 7\n"
     ]
    },
    {
     "name": "stderr",
     "output_type": "stream",
     "text": [
      "100%|██████████| 6/6 [00:12<00:00,  2.04s/it]\n"
     ]
    },
    {
     "name": "stdout",
     "output_type": "stream",
     "text": [
      "potential next fragments: 48\n",
      "potential next fragments after thresholding of 0.8: 1 ['1.0']\n",
      "totalscore 0.9999995827675541\n",
      "WARNING: defualt optimization passes will be enlarged to all fuse and elimination passes in the next version\n",
      "current depth: 8\n"
     ]
    },
    {
     "name": "stderr",
     "output_type": "stream",
     "text": [
      "100%|██████████| 6/6 [00:07<00:00,  1.32s/it]\n"
     ]
    },
    {
     "name": "stdout",
     "output_type": "stream",
     "text": [
      "potential next fragments: 48\n",
      "potential next fragments after thresholding of 0.8: 1 ['1.0']\n",
      "totalscore 0.9999995827675541\n",
      "WARNING: defualt optimization passes will be enlarged to all fuse and elimination passes in the next version\n",
      "current depth: 9\n"
     ]
    },
    {
     "name": "stderr",
     "output_type": "stream",
     "text": [
      "100%|██████████| 6/6 [00:42<00:00,  7.09s/it]\n"
     ]
    },
    {
     "name": "stdout",
     "output_type": "stream",
     "text": [
      "potential next fragments: 6\n",
      "potential next fragments after thresholding of 0.8: 0 []\n",
      "totalscore 0.9086229314061356\n",
      "WARNING: defualt optimization passes will be enlarged to all fuse and elimination passes in the next version\n",
      "current depth: 3\n"
     ]
    },
    {
     "name": "stderr",
     "output_type": "stream",
     "text": [
      "100%|██████████| 6/6 [00:06<00:00,  1.11s/it]\n"
     ]
    },
    {
     "name": "stdout",
     "output_type": "stream",
     "text": [
      "potential next fragments: 48\n",
      "potential next fragments after thresholding of 0.8: 0 []\n",
      "totalscore 0.9464309215545654\n",
      "WARNING: defualt optimization passes will be enlarged to all fuse and elimination passes in the next version\n",
      "current depth: 2\n"
     ]
    },
    {
     "name": "stderr",
     "output_type": "stream",
     "text": [
      "100%|██████████| 6/6 [00:09<00:00,  1.52s/it]\n"
     ]
    },
    {
     "name": "stdout",
     "output_type": "stream",
     "text": [
      "potential next fragments: 48\n",
      "potential next fragments after thresholding of 0.8: 1 ['0.98']\n",
      "totalscore 0.9294937662631639\n",
      "WARNING: defualt optimization passes will be enlarged to all fuse and elimination passes in the next version\n",
      "current depth: 3\n"
     ]
    },
    {
     "name": "stderr",
     "output_type": "stream",
     "text": [
      "100%|██████████| 6/6 [00:07<00:00,  1.21s/it]\n"
     ]
    },
    {
     "name": "stdout",
     "output_type": "stream",
     "text": [
      "potential next fragments: 48\n",
      "potential next fragments after thresholding of 0.8: 1 ['0.94']\n",
      "totalscore 0.8764485939911356\n",
      "WARNING: defualt optimization passes will be enlarged to all fuse and elimination passes in the next version\n",
      "current depth: 4\n"
     ]
    },
    {
     "name": "stderr",
     "output_type": "stream",
     "text": [
      "100%|██████████| 6/6 [00:10<00:00,  1.69s/it]\n"
     ]
    },
    {
     "name": "stdout",
     "output_type": "stream",
     "text": [
      "potential next fragments: 48\n",
      "potential next fragments after thresholding of 0.8: 1 ['0.97']\n",
      "totalscore 0.8462751617300172\n",
      "WARNING: defualt optimization passes will be enlarged to all fuse and elimination passes in the next version\n",
      "current depth: 5\n"
     ]
    },
    {
     "name": "stderr",
     "output_type": "stream",
     "text": [
      "100%|██████████| 6/6 [00:07<00:00,  1.29s/it]\n"
     ]
    },
    {
     "name": "stdout",
     "output_type": "stream",
     "text": [
      "potential next fragments: 48\n",
      "potential next fragments after thresholding of 0.8: 1 ['0.95']\n",
      "totalscore 0.8040404360600626\n",
      "WARNING: defualt optimization passes will be enlarged to all fuse and elimination passes in the next version\n",
      "current depth: 6\n"
     ]
    },
    {
     "name": "stderr",
     "output_type": "stream",
     "text": [
      "100%|██████████| 6/6 [00:11<00:00,  1.99s/it]\n"
     ]
    },
    {
     "name": "stdout",
     "output_type": "stream",
     "text": [
      "potential next fragments: 48\n",
      "potential next fragments after thresholding of 0.8: 1 ['0.95']\n",
      "totalscore 0.7650874620774455\n",
      "WARNING: defualt optimization passes will be enlarged to all fuse and elimination passes in the next version\n",
      "current depth: 7\n"
     ]
    },
    {
     "name": "stderr",
     "output_type": "stream",
     "text": [
      "100%|██████████| 6/6 [00:07<00:00,  1.30s/it]\n"
     ]
    },
    {
     "name": "stdout",
     "output_type": "stream",
     "text": [
      "potential next fragments: 48\n",
      "potential next fragments after thresholding of 0.8: 1 ['0.95']\n",
      "totalscore 0.7299467911399931\n",
      "WARNING: defualt optimization passes will be enlarged to all fuse and elimination passes in the next version\n",
      "current depth: 8\n"
     ]
    },
    {
     "name": "stderr",
     "output_type": "stream",
     "text": [
      "100%|██████████| 6/6 [00:40<00:00,  6.79s/it]\n"
     ]
    },
    {
     "name": "stdout",
     "output_type": "stream",
     "text": [
      "potential next fragments: 48\n",
      "potential next fragments after thresholding of 0.8: 1 ['0.97']\n",
      "totalscore 0.7076118468183776\n",
      "WARNING: defualt optimization passes will be enlarged to all fuse and elimination passes in the next version\n",
      "current depth: 9\n"
     ]
    },
    {
     "name": "stderr",
     "output_type": "stream",
     "text": [
      "100%|██████████| 6/6 [00:09<00:00,  1.63s/it]\n"
     ]
    },
    {
     "name": "stdout",
     "output_type": "stream",
     "text": [
      "potential next fragments: 6\n",
      "potential next fragments after thresholding of 0.8: 0 []\n",
      "current depth: 1\n"
     ]
    },
    {
     "name": "stderr",
     "output_type": "stream",
     "text": [
      "100%|██████████| 6/6 [00:07<00:00,  1.28s/it]\n"
     ]
    },
    {
     "name": "stdout",
     "output_type": "stream",
     "text": [
      "potential next fragments: 48\n",
      "potential next fragments after thresholding of 0.8: 1 ['1.0']\n",
      "totalscore 1.0\n",
      "WARNING: defualt optimization passes will be enlarged to all fuse and elimination passes in the next version\n",
      "current depth: 2\n"
     ]
    },
    {
     "name": "stderr",
     "output_type": "stream",
     "text": [
      "100%|██████████| 6/6 [00:07<00:00,  1.31s/it]\n"
     ]
    },
    {
     "name": "stdout",
     "output_type": "stream",
     "text": [
      "potential next fragments: 48\n",
      "potential next fragments after thresholding of 0.8: 1 ['1.0']\n",
      "totalscore 0.9999998807907104\n",
      "WARNING: defualt optimization passes will be enlarged to all fuse and elimination passes in the next version\n",
      "current depth: 3\n"
     ]
    },
    {
     "name": "stderr",
     "output_type": "stream",
     "text": [
      "100%|██████████| 6/6 [00:08<00:00,  1.44s/it]\n"
     ]
    },
    {
     "name": "stdout",
     "output_type": "stream",
     "text": [
      "potential next fragments: 48\n",
      "potential next fragments after thresholding of 0.8: 1 ['1.0']\n",
      "totalscore 0.9999998807907104\n",
      "WARNING: defualt optimization passes will be enlarged to all fuse and elimination passes in the next version\n",
      "current depth: 4\n"
     ]
    },
    {
     "name": "stderr",
     "output_type": "stream",
     "text": [
      "100%|██████████| 6/6 [00:09<00:00,  1.57s/it]\n"
     ]
    },
    {
     "name": "stdout",
     "output_type": "stream",
     "text": [
      "potential next fragments: 48\n",
      "potential next fragments after thresholding of 0.8: 1 ['1.0']\n",
      "totalscore 0.9999999999999858\n",
      "WARNING: defualt optimization passes will be enlarged to all fuse and elimination passes in the next version\n",
      "current depth: 5\n"
     ]
    },
    {
     "name": "stderr",
     "output_type": "stream",
     "text": [
      "100%|██████████| 6/6 [00:06<00:00,  1.06s/it]\n"
     ]
    },
    {
     "name": "stdout",
     "output_type": "stream",
     "text": [
      "potential next fragments: 48\n",
      "potential next fragments after thresholding of 0.8: 3 ['0.98', '0.82', '0.81']\n",
      "totalscore 0.9825112819671491\n",
      "WARNING: defualt optimization passes will be enlarged to all fuse and elimination passes in the next version\n"
     ]
    },
    {
     "name": "stderr",
     "output_type": "stream",
     "text": [
      "  0%|          | 0/2 [00:00<?, ?it/s]/opt/anaconda3/envs/stitchnet/lib/python3.10/site-packages/onnxruntime/capi/onnxruntime_inference_collection.py:54: UserWarning: Specified provider 'CUDAExecutionProvider' is not in available provider names.Available providers: 'CPUExecutionProvider'\n",
      "  warnings.warn(\n",
      "100%|██████████| 2/2 [00:03<00:00,  1.65s/it]\n"
     ]
    },
    {
     "name": "stdout",
     "output_type": "stream",
     "text": [
      "totalscore 0.8232475519180181\n",
      "WARNING: defualt optimization passes will be enlarged to all fuse and elimination passes in the next version\n"
     ]
    },
    {
     "name": "stderr",
     "output_type": "stream",
     "text": [
      "  0%|          | 0/2 [00:00<?, ?it/s]/opt/anaconda3/envs/stitchnet/lib/python3.10/site-packages/onnxruntime/capi/onnxruntime_inference_collection.py:54: UserWarning: Specified provider 'CUDAExecutionProvider' is not in available provider names.Available providers: 'CPUExecutionProvider'\n",
      "  warnings.warn(\n",
      "100%|██████████| 2/2 [00:03<00:00,  1.68s/it]\n"
     ]
    },
    {
     "name": "stdout",
     "output_type": "stream",
     "text": [
      "totalscore 0.8084328770637398\n",
      "WARNING: defualt optimization passes will be enlarged to all fuse and elimination passes in the next version\n"
     ]
    },
    {
     "name": "stderr",
     "output_type": "stream",
     "text": [
      "  0%|          | 0/2 [00:00<?, ?it/s]/opt/anaconda3/envs/stitchnet/lib/python3.10/site-packages/onnxruntime/capi/onnxruntime_inference_collection.py:54: UserWarning: Specified provider 'CUDAExecutionProvider' is not in available provider names.Available providers: 'CPUExecutionProvider'\n",
      "  warnings.warn(\n",
      "100%|██████████| 2/2 [00:03<00:00,  1.62s/it]\n"
     ]
    },
    {
     "name": "stdout",
     "output_type": "stream",
     "text": [
      "current depth: 1\n"
     ]
    },
    {
     "name": "stderr",
     "output_type": "stream",
     "text": [
      "100%|██████████| 6/6 [00:10<00:00,  1.80s/it]\n"
     ]
    },
    {
     "name": "stdout",
     "output_type": "stream",
     "text": [
      "potential next fragments: 48\n",
      "potential next fragments after thresholding of 0.8: 1 ['1.0']\n",
      "totalscore 0.9999999403953552\n",
      "WARNING: defualt optimization passes will be enlarged to all fuse and elimination passes in the next version\n",
      "current depth: 2\n"
     ]
    },
    {
     "name": "stderr",
     "output_type": "stream",
     "text": [
      "100%|██████████| 6/6 [00:09<00:00,  1.50s/it]\n"
     ]
    },
    {
     "name": "stdout",
     "output_type": "stream",
     "text": [
      "potential next fragments: 48\n",
      "potential next fragments after thresholding of 0.8: 1 ['1.0']\n",
      "totalscore 1.0000000596046377\n",
      "WARNING: defualt optimization passes will be enlarged to all fuse and elimination passes in the next version\n",
      "current depth: 3\n"
     ]
    },
    {
     "name": "stderr",
     "output_type": "stream",
     "text": [
      "100%|██████████| 6/6 [00:13<00:00,  2.28s/it]\n"
     ]
    },
    {
     "name": "stdout",
     "output_type": "stream",
     "text": [
      "potential next fragments: 48\n",
      "potential next fragments after thresholding of 0.8: 1 ['1.0']\n",
      "totalscore 1.0000000596046377\n",
      "WARNING: defualt optimization passes will be enlarged to all fuse and elimination passes in the next version\n",
      "current depth: 4\n"
     ]
    },
    {
     "name": "stderr",
     "output_type": "stream",
     "text": [
      "100%|██████████| 6/6 [00:13<00:00,  2.18s/it]\n"
     ]
    },
    {
     "name": "stdout",
     "output_type": "stream",
     "text": [
      "potential next fragments: 48\n",
      "potential next fragments after thresholding of 0.8: 1 ['1.0']\n",
      "totalscore 1.0000001788139343\n",
      "WARNING: defualt optimization passes will be enlarged to all fuse and elimination passes in the next version\n",
      "current depth: 5\n"
     ]
    },
    {
     "name": "stderr",
     "output_type": "stream",
     "text": [
      "100%|██████████| 6/6 [00:34<00:00,  5.79s/it]\n"
     ]
    },
    {
     "name": "stdout",
     "output_type": "stream",
     "text": [
      "potential next fragments: 48\n",
      "potential next fragments after thresholding of 0.8: 1 ['1.0']\n",
      "totalscore 1.000000119209279\n",
      "WARNING: defualt optimization passes will be enlarged to all fuse and elimination passes in the next version\n",
      "current depth: 6\n"
     ]
    },
    {
     "name": "stderr",
     "output_type": "stream",
     "text": [
      "100%|██████████| 6/6 [00:34<00:00,  5.82s/it]\n"
     ]
    },
    {
     "name": "stdout",
     "output_type": "stream",
     "text": [
      "potential next fragments: 48\n",
      "potential next fragments after thresholding of 0.8: 1 ['1.0']\n",
      "totalscore 0.9999999999999751\n",
      "WARNING: defualt optimization passes will be enlarged to all fuse and elimination passes in the next version\n",
      "current depth: 7\n"
     ]
    },
    {
     "name": "stderr",
     "output_type": "stream",
     "text": [
      "100%|██████████| 6/6 [00:34<00:00,  5.75s/it]\n"
     ]
    },
    {
     "name": "stdout",
     "output_type": "stream",
     "text": [
      "potential next fragments: 48\n",
      "potential next fragments after thresholding of 0.8: 1 ['1.0']\n",
      "totalscore 0.9999999999999751\n",
      "WARNING: defualt optimization passes will be enlarged to all fuse and elimination passes in the next version\n",
      "current depth: 8\n"
     ]
    },
    {
     "name": "stderr",
     "output_type": "stream",
     "text": [
      "100%|██████████| 6/6 [02:12<00:00, 22.02s/it]\n"
     ]
    },
    {
     "name": "stdout",
     "output_type": "stream",
     "text": [
      "potential next fragments: 48\n",
      "potential next fragments after thresholding of 0.8: 1 ['1.0']\n",
      "totalscore 0.9999999999999751\n",
      "WARNING: defualt optimization passes will be enlarged to all fuse and elimination passes in the next version\n",
      "current depth: 9\n"
     ]
    },
    {
     "name": "stderr",
     "output_type": "stream",
     "text": [
      "100%|██████████| 6/6 [02:03<00:00, 20.58s/it]\n"
     ]
    },
    {
     "name": "stdout",
     "output_type": "stream",
     "text": [
      "potential next fragments: 6\n",
      "potential next fragments after thresholding of 0.8: 0 []\n",
      "current depth: 1\n"
     ]
    },
    {
     "name": "stderr",
     "output_type": "stream",
     "text": [
      "100%|██████████| 6/6 [00:34<00:00,  5.82s/it]\n"
     ]
    },
    {
     "name": "stdout",
     "output_type": "stream",
     "text": [
      "potential next fragments: 48\n",
      "potential next fragments after thresholding of 0.8: 1 ['1.0']\n",
      "totalscore 1.0\n",
      "WARNING: defualt optimization passes will be enlarged to all fuse and elimination passes in the next version\n",
      "current depth: 2\n"
     ]
    },
    {
     "name": "stderr",
     "output_type": "stream",
     "text": [
      "100%|██████████| 6/6 [02:03<00:00, 20.54s/it]\n"
     ]
    },
    {
     "name": "stdout",
     "output_type": "stream",
     "text": [
      "potential next fragments: 48\n",
      "potential next fragments after thresholding of 0.8: 1 ['1.0']\n",
      "totalscore 1.0\n",
      "WARNING: defualt optimization passes will be enlarged to all fuse and elimination passes in the next version\n",
      "current depth: 3\n"
     ]
    },
    {
     "name": "stderr",
     "output_type": "stream",
     "text": [
      "100%|██████████| 6/6 [04:52<00:00, 48.76s/it]\n"
     ]
    },
    {
     "name": "stdout",
     "output_type": "stream",
     "text": [
      "potential next fragments: 48\n",
      "potential next fragments after thresholding of 0.8: 1 ['1.0']\n",
      "totalscore 1.0\n",
      "WARNING: defualt optimization passes will be enlarged to all fuse and elimination passes in the next version\n",
      "current depth: 4\n"
     ]
    },
    {
     "name": "stderr",
     "output_type": "stream",
     "text": [
      "100%|██████████| 6/6 [00:06<00:00,  1.15s/it]\n"
     ]
    },
    {
     "name": "stdout",
     "output_type": "stream",
     "text": [
      "potential next fragments: 48\n",
      "potential next fragments after thresholding of 0.8: 6 ['1.0', '0.9', '0.86', '0.85', '0.83', '0.81']\n",
      "totalscore 0.9985286593437195\n",
      "WARNING: defualt optimization passes will be enlarged to all fuse and elimination passes in the next version\n"
     ]
    },
    {
     "name": "stderr",
     "output_type": "stream",
     "text": [
      "  0%|          | 0/2 [00:00<?, ?it/s]/opt/anaconda3/envs/stitchnet/lib/python3.10/site-packages/onnxruntime/capi/onnxruntime_inference_collection.py:54: UserWarning: Specified provider 'CUDAExecutionProvider' is not in available provider names.Available providers: 'CPUExecutionProvider'\n",
      "  warnings.warn(\n",
      "100%|██████████| 2/2 [00:03<00:00,  1.70s/it]\n"
     ]
    },
    {
     "name": "stdout",
     "output_type": "stream",
     "text": [
      "totalscore 0.9045193791389465\n",
      "WARNING: defualt optimization passes will be enlarged to all fuse and elimination passes in the next version\n"
     ]
    },
    {
     "name": "stderr",
     "output_type": "stream",
     "text": [
      "  0%|          | 0/2 [00:00<?, ?it/s]/opt/anaconda3/envs/stitchnet/lib/python3.10/site-packages/onnxruntime/capi/onnxruntime_inference_collection.py:54: UserWarning: Specified provider 'CUDAExecutionProvider' is not in available provider names.Available providers: 'CPUExecutionProvider'\n",
      "  warnings.warn(\n",
      "100%|██████████| 2/2 [00:03<00:00,  1.67s/it]\n"
     ]
    },
    {
     "name": "stdout",
     "output_type": "stream",
     "text": [
      "totalscore 0.8649268746376038\n",
      "WARNING: defualt optimization passes will be enlarged to all fuse and elimination passes in the next version\n"
     ]
    },
    {
     "name": "stderr",
     "output_type": "stream",
     "text": [
      "  0%|          | 0/2 [00:00<?, ?it/s]/opt/anaconda3/envs/stitchnet/lib/python3.10/site-packages/onnxruntime/capi/onnxruntime_inference_collection.py:54: UserWarning: Specified provider 'CUDAExecutionProvider' is not in available provider names.Available providers: 'CPUExecutionProvider'\n",
      "  warnings.warn(\n",
      "100%|██████████| 2/2 [00:03<00:00,  1.66s/it]\n"
     ]
    },
    {
     "name": "stdout",
     "output_type": "stream",
     "text": [
      "totalscore 0.8512093424797058\n",
      "WARNING: defualt optimization passes will be enlarged to all fuse and elimination passes in the next version\n"
     ]
    },
    {
     "name": "stderr",
     "output_type": "stream",
     "text": [
      "  0%|          | 0/2 [00:00<?, ?it/s]/opt/anaconda3/envs/stitchnet/lib/python3.10/site-packages/onnxruntime/capi/onnxruntime_inference_collection.py:54: UserWarning: Specified provider 'CUDAExecutionProvider' is not in available provider names.Available providers: 'CPUExecutionProvider'\n",
      "  warnings.warn(\n",
      "100%|██████████| 2/2 [00:03<00:00,  1.70s/it]\n"
     ]
    },
    {
     "name": "stdout",
     "output_type": "stream",
     "text": [
      "totalscore 0.8278272151947021\n",
      "WARNING: defualt optimization passes will be enlarged to all fuse and elimination passes in the next version\n"
     ]
    },
    {
     "name": "stderr",
     "output_type": "stream",
     "text": [
      "  0%|          | 0/2 [00:00<?, ?it/s]/opt/anaconda3/envs/stitchnet/lib/python3.10/site-packages/onnxruntime/capi/onnxruntime_inference_collection.py:54: UserWarning: Specified provider 'CUDAExecutionProvider' is not in available provider names.Available providers: 'CPUExecutionProvider'\n",
      "  warnings.warn(\n",
      "100%|██████████| 2/2 [00:03<00:00,  1.66s/it]\n"
     ]
    },
    {
     "name": "stdout",
     "output_type": "stream",
     "text": [
      "totalscore 0.8104047179222107\n",
      "WARNING: defualt optimization passes will be enlarged to all fuse and elimination passes in the next version\n",
      "current depth: 5\n"
     ]
    },
    {
     "name": "stderr",
     "output_type": "stream",
     "text": [
      "100%|██████████| 6/6 [00:06<00:00,  1.15s/it]\n"
     ]
    },
    {
     "name": "stdout",
     "output_type": "stream",
     "text": [
      "potential next fragments: 48\n",
      "potential next fragments after thresholding of 0.8: 5 ['0.97', '0.9', '0.86', '0.86', '0.84']\n",
      "totalscore 0.7854391446095832\n",
      "WARNING: defualt optimization passes will be enlarged to all fuse and elimination passes in the next version\n"
     ]
    },
    {
     "name": "stderr",
     "output_type": "stream",
     "text": [
      "  0%|          | 0/2 [00:00<?, ?it/s]/opt/anaconda3/envs/stitchnet/lib/python3.10/site-packages/onnxruntime/capi/onnxruntime_inference_collection.py:54: UserWarning: Specified provider 'CUDAExecutionProvider' is not in available provider names.Available providers: 'CPUExecutionProvider'\n",
      "  warnings.warn(\n",
      "100%|██████████| 2/2 [00:03<00:00,  1.71s/it]\n"
     ]
    },
    {
     "name": "stdout",
     "output_type": "stream",
     "text": [
      "totalscore 0.7269134808820255\n",
      "WARNING: defualt optimization passes will be enlarged to all fuse and elimination passes in the next version\n",
      "current depth: 6\n"
     ]
    },
    {
     "name": "stderr",
     "output_type": "stream",
     "text": [
      "100%|██████████| 6/6 [00:06<00:00,  1.06s/it]\n"
     ]
    },
    {
     "name": "stdout",
     "output_type": "stream",
     "text": [
      "potential next fragments: 48\n",
      "potential next fragments after thresholding of 0.8: 5 ['0.97', '0.91', '0.85', '0.85', '0.84']\n",
      "totalscore 0.703102983980051\n",
      "WARNING: defualt optimization passes will be enlarged to all fuse and elimination passes in the next version\n"
     ]
    },
    {
     "name": "stderr",
     "output_type": "stream",
     "text": [
      "  0%|          | 0/2 [00:00<?, ?it/s]/opt/anaconda3/envs/stitchnet/lib/python3.10/site-packages/onnxruntime/capi/onnxruntime_inference_collection.py:54: UserWarning: Specified provider 'CUDAExecutionProvider' is not in available provider names.Available providers: 'CPUExecutionProvider'\n",
      "  warnings.warn(\n",
      "100%|██████████| 2/2 [00:03<00:00,  1.77s/it]\n"
     ]
    },
    {
     "name": "stdout",
     "output_type": "stream",
     "text": [
      "totalscore 0.6608763405973387\n",
      "WARNING: defualt optimization passes will be enlarged to all fuse and elimination passes in the next version\n",
      "current depth: 7\n"
     ]
    },
    {
     "name": "stderr",
     "output_type": "stream",
     "text": [
      "100%|██████████| 6/6 [00:06<00:00,  1.10s/it]\n"
     ]
    },
    {
     "name": "stdout",
     "output_type": "stream",
     "text": [
      "potential next fragments: 48\n",
      "potential next fragments after thresholding of 0.8: 6 ['0.96', '0.92', '0.86', '0.84', '0.84', '0.81']\n",
      "totalscore 0.6363224830838382\n",
      "WARNING: defualt optimization passes will be enlarged to all fuse and elimination passes in the next version\n"
     ]
    },
    {
     "name": "stderr",
     "output_type": "stream",
     "text": [
      "  0%|          | 0/2 [00:00<?, ?it/s]/opt/anaconda3/envs/stitchnet/lib/python3.10/site-packages/onnxruntime/capi/onnxruntime_inference_collection.py:54: UserWarning: Specified provider 'CUDAExecutionProvider' is not in available provider names.Available providers: 'CPUExecutionProvider'\n",
      "  warnings.warn(\n",
      "100%|██████████| 2/2 [00:03<00:00,  1.87s/it]\n"
     ]
    },
    {
     "name": "stdout",
     "output_type": "stream",
     "text": [
      "totalscore 0.6050179416147954\n",
      "WARNING: defualt optimization passes will be enlarged to all fuse and elimination passes in the next version\n",
      "current depth: 8\n"
     ]
    },
    {
     "name": "stderr",
     "output_type": "stream",
     "text": [
      "100%|██████████| 6/6 [00:06<00:00,  1.14s/it]\n"
     ]
    },
    {
     "name": "stdout",
     "output_type": "stream",
     "text": [
      "potential next fragments: 48\n",
      "potential next fragments after thresholding of 0.8: 5 ['0.97', '0.9', '0.85', '0.84', '0.84']\n",
      "totalscore 0.5854950497900799\n",
      "WARNING: defualt optimization passes will be enlarged to all fuse and elimination passes in the next version\n"
     ]
    },
    {
     "name": "stderr",
     "output_type": "stream",
     "text": [
      "  0%|          | 0/2 [00:00<?, ?it/s]/opt/anaconda3/envs/stitchnet/lib/python3.10/site-packages/onnxruntime/capi/onnxruntime_inference_collection.py:54: UserWarning: Specified provider 'CUDAExecutionProvider' is not in available provider names.Available providers: 'CPUExecutionProvider'\n",
      "  warnings.warn(\n",
      "100%|██████████| 2/2 [00:04<00:00,  2.03s/it]\n"
     ]
    },
    {
     "name": "stdout",
     "output_type": "stream",
     "text": [
      "totalscore 0.5449241010712649\n",
      "WARNING: defualt optimization passes will be enlarged to all fuse and elimination passes in the next version\n",
      "current depth: 9\n"
     ]
    },
    {
     "name": "stderr",
     "output_type": "stream",
     "text": [
      "100%|██████████| 6/6 [00:06<00:00,  1.11s/it]\n"
     ]
    },
    {
     "name": "stdout",
     "output_type": "stream",
     "text": [
      "potential next fragments: 6\n",
      "potential next fragments after thresholding of 0.8: 4 ['0.96', '0.86', '0.85', '0.84']\n",
      "totalscore 0.5245824895105022\n",
      "WARNING: defualt optimization passes will be enlarged to all fuse and elimination passes in the next version\n"
     ]
    },
    {
     "name": "stderr",
     "output_type": "stream",
     "text": [
      "  0%|          | 0/2 [00:00<?, ?it/s]/opt/anaconda3/envs/stitchnet/lib/python3.10/site-packages/onnxruntime/capi/onnxruntime_inference_collection.py:54: UserWarning: Specified provider 'CUDAExecutionProvider' is not in available provider names.Available providers: 'CPUExecutionProvider'\n",
      "  warnings.warn(\n",
      "100%|██████████| 2/2 [00:04<00:00,  2.02s/it]\n"
     ]
    },
    {
     "name": "stdout",
     "output_type": "stream",
     "text": [
      "totalscore 0.5126324189557785\n",
      "WARNING: defualt optimization passes will be enlarged to all fuse and elimination passes in the next version\n"
     ]
    },
    {
     "name": "stderr",
     "output_type": "stream",
     "text": [
      "  0%|          | 0/2 [00:00<?, ?it/s]/opt/anaconda3/envs/stitchnet/lib/python3.10/site-packages/onnxruntime/capi/onnxruntime_inference_collection.py:54: UserWarning: Specified provider 'CUDAExecutionProvider' is not in available provider names.Available providers: 'CPUExecutionProvider'\n",
      "  warnings.warn(\n",
      "100%|██████████| 2/2 [00:03<00:00,  1.92s/it]\n"
     ]
    },
    {
     "name": "stdout",
     "output_type": "stream",
     "text": [
      "totalscore 0.5080863502412918\n",
      "WARNING: defualt optimization passes will be enlarged to all fuse and elimination passes in the next version\n"
     ]
    },
    {
     "name": "stderr",
     "output_type": "stream",
     "text": [
      "  0%|          | 0/2 [00:00<?, ?it/s]/opt/anaconda3/envs/stitchnet/lib/python3.10/site-packages/onnxruntime/capi/onnxruntime_inference_collection.py:54: UserWarning: Specified provider 'CUDAExecutionProvider' is not in available provider names.Available providers: 'CPUExecutionProvider'\n",
      "  warnings.warn(\n",
      "100%|██████████| 2/2 [00:03<00:00,  1.96s/it]\n"
     ]
    },
    {
     "name": "stdout",
     "output_type": "stream",
     "text": [
      "totalscore 0.5079600976011879\n",
      "WARNING: defualt optimization passes will be enlarged to all fuse and elimination passes in the next version\n"
     ]
    },
    {
     "name": "stderr",
     "output_type": "stream",
     "text": [
      "  0%|          | 0/2 [00:00<?, ?it/s]/opt/anaconda3/envs/stitchnet/lib/python3.10/site-packages/onnxruntime/capi/onnxruntime_inference_collection.py:54: UserWarning: Specified provider 'CUDAExecutionProvider' is not in available provider names.Available providers: 'CPUExecutionProvider'\n",
      "  warnings.warn(\n",
      "100%|██████████| 2/2 [00:03<00:00,  1.93s/it]\n"
     ]
    },
    {
     "name": "stdout",
     "output_type": "stream",
     "text": [
      "totalscore 0.5703439077759603\n",
      "WARNING: defualt optimization passes will be enlarged to all fuse and elimination passes in the next version\n"
     ]
    },
    {
     "name": "stderr",
     "output_type": "stream",
     "text": [
      "  0%|          | 0/2 [00:00<?, ?it/s]/opt/anaconda3/envs/stitchnet/lib/python3.10/site-packages/onnxruntime/capi/onnxruntime_inference_collection.py:54: UserWarning: Specified provider 'CUDAExecutionProvider' is not in available provider names.Available providers: 'CPUExecutionProvider'\n",
      "  warnings.warn(\n",
      "100%|██████████| 2/2 [00:03<00:00,  1.85s/it]\n"
     ]
    },
    {
     "name": "stdout",
     "output_type": "stream",
     "text": [
      "totalscore 0.5532577346518973\n",
      "WARNING: defualt optimization passes will be enlarged to all fuse and elimination passes in the next version\n"
     ]
    },
    {
     "name": "stderr",
     "output_type": "stream",
     "text": [
      "  0%|          | 0/2 [00:00<?, ?it/s]/opt/anaconda3/envs/stitchnet/lib/python3.10/site-packages/onnxruntime/capi/onnxruntime_inference_collection.py:54: UserWarning: Specified provider 'CUDAExecutionProvider' is not in available provider names.Available providers: 'CPUExecutionProvider'\n",
      "  warnings.warn(\n",
      "100%|██████████| 2/2 [00:03<00:00,  1.87s/it]\n"
     ]
    },
    {
     "name": "stdout",
     "output_type": "stream",
     "text": [
      "totalscore 0.5528996677392445\n",
      "WARNING: defualt optimization passes will be enlarged to all fuse and elimination passes in the next version\n"
     ]
    },
    {
     "name": "stderr",
     "output_type": "stream",
     "text": [
      "  0%|          | 0/2 [00:00<?, ?it/s]/opt/anaconda3/envs/stitchnet/lib/python3.10/site-packages/onnxruntime/capi/onnxruntime_inference_collection.py:54: UserWarning: Specified provider 'CUDAExecutionProvider' is not in available provider names.Available providers: 'CPUExecutionProvider'\n",
      "  warnings.warn(\n",
      "100%|██████████| 2/2 [00:03<00:00,  1.90s/it]\n"
     ]
    },
    {
     "name": "stdout",
     "output_type": "stream",
     "text": [
      "totalscore 0.5384018969067568\n",
      "WARNING: defualt optimization passes will be enlarged to all fuse and elimination passes in the next version\n"
     ]
    },
    {
     "name": "stderr",
     "output_type": "stream",
     "text": [
      "  0%|          | 0/2 [00:00<?, ?it/s]/opt/anaconda3/envs/stitchnet/lib/python3.10/site-packages/onnxruntime/capi/onnxruntime_inference_collection.py:54: UserWarning: Specified provider 'CUDAExecutionProvider' is not in available provider names.Available providers: 'CPUExecutionProvider'\n",
      "  warnings.warn(\n",
      "100%|██████████| 2/2 [00:03<00:00,  1.85s/it]\n"
     ]
    },
    {
     "name": "stdout",
     "output_type": "stream",
     "text": [
      "totalscore 0.620637819200047\n",
      "WARNING: defualt optimization passes will be enlarged to all fuse and elimination passes in the next version\n"
     ]
    },
    {
     "name": "stderr",
     "output_type": "stream",
     "text": [
      "  0%|          | 0/2 [00:00<?, ?it/s]/opt/anaconda3/envs/stitchnet/lib/python3.10/site-packages/onnxruntime/capi/onnxruntime_inference_collection.py:54: UserWarning: Specified provider 'CUDAExecutionProvider' is not in available provider names.Available providers: 'CPUExecutionProvider'\n",
      "  warnings.warn(\n",
      "100%|██████████| 2/2 [00:03<00:00,  1.75s/it]\n"
     ]
    },
    {
     "name": "stdout",
     "output_type": "stream",
     "text": [
      "totalscore 0.6144065130103328\n",
      "WARNING: defualt optimization passes will be enlarged to all fuse and elimination passes in the next version\n"
     ]
    },
    {
     "name": "stderr",
     "output_type": "stream",
     "text": [
      "  0%|          | 0/2 [00:00<?, ?it/s]/opt/anaconda3/envs/stitchnet/lib/python3.10/site-packages/onnxruntime/capi/onnxruntime_inference_collection.py:54: UserWarning: Specified provider 'CUDAExecutionProvider' is not in available provider names.Available providers: 'CPUExecutionProvider'\n",
      "  warnings.warn(\n",
      "100%|██████████| 2/2 [00:03<00:00,  1.80s/it]\n"
     ]
    },
    {
     "name": "stdout",
     "output_type": "stream",
     "text": [
      "totalscore 0.6127926966046542\n",
      "WARNING: defualt optimization passes will be enlarged to all fuse and elimination passes in the next version\n"
     ]
    },
    {
     "name": "stderr",
     "output_type": "stream",
     "text": [
      "  0%|          | 0/2 [00:00<?, ?it/s]/opt/anaconda3/envs/stitchnet/lib/python3.10/site-packages/onnxruntime/capi/onnxruntime_inference_collection.py:54: UserWarning: Specified provider 'CUDAExecutionProvider' is not in available provider names.Available providers: 'CPUExecutionProvider'\n",
      "  warnings.warn(\n",
      "100%|██████████| 2/2 [00:03<00:00,  1.78s/it]\n"
     ]
    },
    {
     "name": "stdout",
     "output_type": "stream",
     "text": [
      "totalscore 0.7004391840148116\n",
      "WARNING: defualt optimization passes will be enlarged to all fuse and elimination passes in the next version\n"
     ]
    },
    {
     "name": "stderr",
     "output_type": "stream",
     "text": [
      "  0%|          | 0/2 [00:00<?, ?it/s]/opt/anaconda3/envs/stitchnet/lib/python3.10/site-packages/onnxruntime/capi/onnxruntime_inference_collection.py:54: UserWarning: Specified provider 'CUDAExecutionProvider' is not in available provider names.Available providers: 'CPUExecutionProvider'\n",
      "  warnings.warn(\n",
      "100%|██████████| 2/2 [00:03<00:00,  1.69s/it]\n"
     ]
    },
    {
     "name": "stdout",
     "output_type": "stream",
     "text": [
      "totalscore 0.6977810212047686\n",
      "WARNING: defualt optimization passes will be enlarged to all fuse and elimination passes in the next version\n"
     ]
    },
    {
     "name": "stderr",
     "output_type": "stream",
     "text": [
      "  0%|          | 0/2 [00:00<?, ?it/s]/opt/anaconda3/envs/stitchnet/lib/python3.10/site-packages/onnxruntime/capi/onnxruntime_inference_collection.py:54: UserWarning: Specified provider 'CUDAExecutionProvider' is not in available provider names.Available providers: 'CPUExecutionProvider'\n",
      "  warnings.warn(\n",
      "100%|██████████| 2/2 [00:03<00:00,  1.67s/it]\n"
     ]
    },
    {
     "name": "stdout",
     "output_type": "stream",
     "text": [
      "totalscore 0.6779748341887704\n",
      "WARNING: defualt optimization passes will be enlarged to all fuse and elimination passes in the next version\n"
     ]
    },
    {
     "name": "stderr",
     "output_type": "stream",
     "text": [
      "  0%|          | 0/2 [00:00<?, ?it/s]/opt/anaconda3/envs/stitchnet/lib/python3.10/site-packages/onnxruntime/capi/onnxruntime_inference_collection.py:54: UserWarning: Specified provider 'CUDAExecutionProvider' is not in available provider names.Available providers: 'CPUExecutionProvider'\n",
      "  warnings.warn(\n",
      "100%|██████████| 2/2 [00:03<00:00,  1.68s/it]\n"
     ]
    },
    {
     "name": "stdout",
     "output_type": "stream",
     "text": [
      "current depth: 1\n"
     ]
    },
    {
     "name": "stderr",
     "output_type": "stream",
     "text": [
      "100%|██████████| 6/6 [00:08<00:00,  1.48s/it]\n"
     ]
    },
    {
     "name": "stdout",
     "output_type": "stream",
     "text": [
      "potential next fragments: 48\n",
      "potential next fragments after thresholding of 0.8: 1 ['1.0']\n",
      "totalscore 1.0\n",
      "WARNING: defualt optimization passes will be enlarged to all fuse and elimination passes in the next version\n",
      "current depth: 2\n"
     ]
    },
    {
     "name": "stderr",
     "output_type": "stream",
     "text": [
      "100%|██████████| 6/6 [00:20<00:00,  3.48s/it]\n"
     ]
    },
    {
     "name": "stdout",
     "output_type": "stream",
     "text": [
      "potential next fragments: 48\n",
      "potential next fragments after thresholding of 0.8: 1 ['1.0']\n",
      "totalscore 1.0\n",
      "WARNING: defualt optimization passes will be enlarged to all fuse and elimination passes in the next version\n",
      "current depth: 3\n"
     ]
    },
    {
     "name": "stderr",
     "output_type": "stream",
     "text": [
      "100%|██████████| 6/6 [31:41<00:00, 316.96s/it]\n"
     ]
    },
    {
     "name": "stdout",
     "output_type": "stream",
     "text": [
      "potential next fragments: 48\n",
      "potential next fragments after thresholding of 0.8: 1 ['1.0']\n",
      "totalscore 1.0\n",
      "WARNING: defualt optimization passes will be enlarged to all fuse and elimination passes in the next version\n",
      "current depth: 4\n"
     ]
    },
    {
     "name": "stderr",
     "output_type": "stream",
     "text": [
      "100%|██████████| 6/6 [00:34<00:00,  5.79s/it]\n"
     ]
    },
    {
     "name": "stdout",
     "output_type": "stream",
     "text": [
      "potential next fragments: 48\n",
      "potential next fragments after thresholding of 0.8: 1 ['1.0']\n",
      "totalscore 1.0\n",
      "WARNING: defualt optimization passes will be enlarged to all fuse and elimination passes in the next version\n",
      "current depth: 5\n"
     ]
    },
    {
     "name": "stderr",
     "output_type": "stream",
     "text": [
      "100%|██████████| 6/6 [00:25<00:00,  4.17s/it]\n"
     ]
    },
    {
     "name": "stdout",
     "output_type": "stream",
     "text": [
      "potential next fragments: 48\n",
      "potential next fragments after thresholding of 0.8: 5 ['0.93', '0.84', '0.83', '0.83', '0.83']\n",
      "totalscore 0.9318452477455139\n",
      "WARNING: defualt optimization passes will be enlarged to all fuse and elimination passes in the next version\n",
      "current depth: 6\n"
     ]
    },
    {
     "name": "stderr",
     "output_type": "stream",
     "text": [
      "100%|██████████| 6/6 [00:06<00:00,  1.06s/it]\n"
     ]
    },
    {
     "name": "stdout",
     "output_type": "stream",
     "text": [
      "potential next fragments: 48\n",
      "potential next fragments after thresholding of 0.8: 3 ['0.95', '0.88', '0.82']\n",
      "totalscore 0.8827501269028808\n",
      "WARNING: defualt optimization passes will be enlarged to all fuse and elimination passes in the next version\n",
      "current depth: 7\n"
     ]
    },
    {
     "name": "stderr",
     "output_type": "stream",
     "text": [
      "100%|██████████| 6/6 [00:09<00:00,  1.53s/it]\n"
     ]
    },
    {
     "name": "stdout",
     "output_type": "stream",
     "text": [
      "potential next fragments: 48\n",
      "potential next fragments after thresholding of 0.8: 3 ['0.9', '0.87', '0.82']\n",
      "totalscore 0.7966878067556656\n",
      "WARNING: defualt optimization passes will be enlarged to all fuse and elimination passes in the next version\n"
     ]
    },
    {
     "name": "stderr",
     "output_type": "stream",
     "text": [
      "  0%|          | 0/2 [00:00<?, ?it/s]/opt/anaconda3/envs/stitchnet/lib/python3.10/site-packages/onnxruntime/capi/onnxruntime_inference_collection.py:54: UserWarning: Specified provider 'CUDAExecutionProvider' is not in available provider names.Available providers: 'CPUExecutionProvider'\n",
      "  warnings.warn(\n",
      "100%|██████████| 2/2 [00:02<00:00,  1.14s/it]\n"
     ]
    },
    {
     "name": "stdout",
     "output_type": "stream",
     "text": [
      "totalscore 0.7712137666085978\n",
      "WARNING: defualt optimization passes will be enlarged to all fuse and elimination passes in the next version\n",
      "current depth: 8\n"
     ]
    },
    {
     "name": "stderr",
     "output_type": "stream",
     "text": [
      "100%|██████████| 6/6 [00:06<00:00,  1.13s/it]\n"
     ]
    },
    {
     "name": "stdout",
     "output_type": "stream",
     "text": [
      "potential next fragments: 48\n",
      "potential next fragments after thresholding of 0.8: 3 ['0.91', '0.89', '0.84']\n",
      "totalscore 0.7023667815010867\n",
      "WARNING: defualt optimization passes will be enlarged to all fuse and elimination passes in the next version\n"
     ]
    },
    {
     "name": "stderr",
     "output_type": "stream",
     "text": [
      "  0%|          | 0/2 [00:00<?, ?it/s]/opt/anaconda3/envs/stitchnet/lib/python3.10/site-packages/onnxruntime/capi/onnxruntime_inference_collection.py:54: UserWarning: Specified provider 'CUDAExecutionProvider' is not in available provider names.Available providers: 'CPUExecutionProvider'\n",
      "  warnings.warn(\n",
      "100%|██████████| 2/2 [00:02<00:00,  1.02s/it]\n"
     ]
    },
    {
     "name": "stdout",
     "output_type": "stream",
     "text": [
      "totalscore 0.684601834259624\n",
      "WARNING: defualt optimization passes will be enlarged to all fuse and elimination passes in the next version\n",
      "current depth: 9\n"
     ]
    },
    {
     "name": "stderr",
     "output_type": "stream",
     "text": [
      "100%|██████████| 6/6 [00:06<00:00,  1.08s/it]\n"
     ]
    },
    {
     "name": "stdout",
     "output_type": "stream",
     "text": [
      "potential next fragments: 6\n",
      "potential next fragments after thresholding of 0.8: 2 ['0.89', '0.81']\n",
      "totalscore 0.6097996108001305\n",
      "WARNING: defualt optimization passes will be enlarged to all fuse and elimination passes in the next version\n"
     ]
    },
    {
     "name": "stderr",
     "output_type": "stream",
     "text": [
      "  0%|          | 0/2 [00:00<?, ?it/s]/opt/anaconda3/envs/stitchnet/lib/python3.10/site-packages/onnxruntime/capi/onnxruntime_inference_collection.py:54: UserWarning: Specified provider 'CUDAExecutionProvider' is not in available provider names.Available providers: 'CPUExecutionProvider'\n",
      "  warnings.warn(\n",
      "100%|██████████| 2/2 [00:02<00:00,  1.07s/it]\n"
     ]
    },
    {
     "name": "stdout",
     "output_type": "stream",
     "text": [
      "totalscore 0.5513597195600446\n",
      "WARNING: defualt optimization passes will be enlarged to all fuse and elimination passes in the next version\n"
     ]
    },
    {
     "name": "stderr",
     "output_type": "stream",
     "text": [
      "  0%|          | 0/2 [00:00<?, ?it/s]/opt/anaconda3/envs/stitchnet/lib/python3.10/site-packages/onnxruntime/capi/onnxruntime_inference_collection.py:54: UserWarning: Specified provider 'CUDAExecutionProvider' is not in available provider names.Available providers: 'CPUExecutionProvider'\n",
      "  warnings.warn(\n",
      "100%|██████████| 2/2 [00:02<00:00,  1.08s/it]\n"
     ]
    },
    {
     "name": "stdout",
     "output_type": "stream",
     "text": [
      "totalscore 0.6492101193520479\n",
      "WARNING: defualt optimization passes will be enlarged to all fuse and elimination passes in the next version\n"
     ]
    },
    {
     "name": "stderr",
     "output_type": "stream",
     "text": [
      "  0%|          | 0/2 [00:00<?, ?it/s]/opt/anaconda3/envs/stitchnet/lib/python3.10/site-packages/onnxruntime/capi/onnxruntime_inference_collection.py:54: UserWarning: Specified provider 'CUDAExecutionProvider' is not in available provider names.Available providers: 'CPUExecutionProvider'\n",
      "  warnings.warn(\n",
      "100%|██████████| 2/2 [00:01<00:00,  1.06it/s]\n"
     ]
    },
    {
     "name": "stdout",
     "output_type": "stream",
     "text": [
      "totalscore 0.7223550679817966\n",
      "WARNING: defualt optimization passes will be enlarged to all fuse and elimination passes in the next version\n"
     ]
    },
    {
     "name": "stderr",
     "output_type": "stream",
     "text": [
      "  0%|          | 0/2 [00:00<?, ?it/s]/opt/anaconda3/envs/stitchnet/lib/python3.10/site-packages/onnxruntime/capi/onnxruntime_inference_collection.py:54: UserWarning: Specified provider 'CUDAExecutionProvider' is not in available provider names.Available providers: 'CPUExecutionProvider'\n",
      "  warnings.warn(\n",
      "100%|██████████| 2/2 [00:01<00:00,  1.22it/s]\n"
     ]
    },
    {
     "name": "stdout",
     "output_type": "stream",
     "text": [
      "totalscore 0.8210165767318358\n",
      "WARNING: defualt optimization passes will be enlarged to all fuse and elimination passes in the next version\n"
     ]
    },
    {
     "name": "stderr",
     "output_type": "stream",
     "text": [
      "  0%|          | 0/2 [00:00<?, ?it/s]/opt/anaconda3/envs/stitchnet/lib/python3.10/site-packages/onnxruntime/capi/onnxruntime_inference_collection.py:54: UserWarning: Specified provider 'CUDAExecutionProvider' is not in available provider names.Available providers: 'CPUExecutionProvider'\n",
      "  warnings.warn(\n",
      "100%|██████████| 2/2 [00:01<00:00,  1.26it/s]\n"
     ]
    },
    {
     "name": "stdout",
     "output_type": "stream",
     "text": [
      "totalscore 0.7615343783507491\n",
      "WARNING: defualt optimization passes will be enlarged to all fuse and elimination passes in the next version\n",
      "current depth: 7\n"
     ]
    },
    {
     "name": "stderr",
     "output_type": "stream",
     "text": [
      "100%|██████████| 6/6 [00:07<00:00,  1.20s/it]\n"
     ]
    },
    {
     "name": "stdout",
     "output_type": "stream",
     "text": [
      "potential next fragments: 48\n",
      "potential next fragments after thresholding of 0.8: 4 ['0.95', '0.89', '0.82', '0.81']\n",
      "totalscore 0.7215709286265389\n",
      "WARNING: defualt optimization passes will be enlarged to all fuse and elimination passes in the next version\n",
      "current depth: 8\n"
     ]
    },
    {
     "name": "stderr",
     "output_type": "stream",
     "text": [
      "100%|██████████| 6/6 [00:06<00:00,  1.06s/it]\n"
     ]
    },
    {
     "name": "stdout",
     "output_type": "stream",
     "text": [
      "potential next fragments: 48\n",
      "potential next fragments after thresholding of 0.8: 2 ['0.9', '0.88']\n",
      "totalscore 0.6465932037073175\n",
      "WARNING: defualt optimization passes will be enlarged to all fuse and elimination passes in the next version\n",
      "current depth: 9\n"
     ]
    },
    {
     "name": "stderr",
     "output_type": "stream",
     "text": [
      "100%|██████████| 6/6 [00:06<00:00,  1.11s/it]\n"
     ]
    },
    {
     "name": "stdout",
     "output_type": "stream",
     "text": [
      "potential next fragments: 6\n",
      "potential next fragments after thresholding of 0.8: 2 ['0.9', '0.83']\n",
      "totalscore 0.5828703118254601\n",
      "WARNING: defualt optimization passes will be enlarged to all fuse and elimination passes in the next version\n"
     ]
    },
    {
     "name": "stderr",
     "output_type": "stream",
     "text": [
      "  0%|          | 0/2 [00:00<?, ?it/s]/opt/anaconda3/envs/stitchnet/lib/python3.10/site-packages/onnxruntime/capi/onnxruntime_inference_collection.py:54: UserWarning: Specified provider 'CUDAExecutionProvider' is not in available provider names.Available providers: 'CPUExecutionProvider'\n",
      "  warnings.warn(\n",
      "100%|██████████| 2/2 [00:02<00:00,  1.03s/it]\n"
     ]
    },
    {
     "name": "stdout",
     "output_type": "stream",
     "text": [
      "totalscore 0.5343627256696077\n",
      "WARNING: defualt optimization passes will be enlarged to all fuse and elimination passes in the next version\n"
     ]
    },
    {
     "name": "stderr",
     "output_type": "stream",
     "text": [
      "  0%|          | 0/2 [00:00<?, ?it/s]/opt/anaconda3/envs/stitchnet/lib/python3.10/site-packages/onnxruntime/capi/onnxruntime_inference_collection.py:54: UserWarning: Specified provider 'CUDAExecutionProvider' is not in available provider names.Available providers: 'CPUExecutionProvider'\n",
      "  warnings.warn(\n",
      "100%|██████████| 2/2 [00:02<00:00,  1.07s/it]\n"
     ]
    },
    {
     "name": "stdout",
     "output_type": "stream",
     "text": [
      "totalscore 0.6329982375189384\n",
      "WARNING: defualt optimization passes will be enlarged to all fuse and elimination passes in the next version\n"
     ]
    },
    {
     "name": "stderr",
     "output_type": "stream",
     "text": [
      "  0%|          | 0/2 [00:00<?, ?it/s]/opt/anaconda3/envs/stitchnet/lib/python3.10/site-packages/onnxruntime/capi/onnxruntime_inference_collection.py:54: UserWarning: Specified provider 'CUDAExecutionProvider' is not in available provider names.Available providers: 'CPUExecutionProvider'\n",
      "  warnings.warn(\n",
      "100%|██████████| 2/2 [00:02<00:00,  1.09s/it]\n"
     ]
    },
    {
     "name": "stdout",
     "output_type": "stream",
     "text": [
      "totalscore 0.6780018913119971\n",
      "WARNING: defualt optimization passes will be enlarged to all fuse and elimination passes in the next version\n"
     ]
    },
    {
     "name": "stderr",
     "output_type": "stream",
     "text": [
      "  0%|          | 0/2 [00:00<?, ?it/s]/opt/anaconda3/envs/stitchnet/lib/python3.10/site-packages/onnxruntime/capi/onnxruntime_inference_collection.py:54: UserWarning: Specified provider 'CUDAExecutionProvider' is not in available provider names.Available providers: 'CPUExecutionProvider'\n",
      "  warnings.warn(\n",
      "100%|██████████| 2/2 [00:01<00:00,  1.26it/s]\n"
     ]
    },
    {
     "name": "stdout",
     "output_type": "stream",
     "text": [
      "totalscore 0.6272411061588452\n",
      "WARNING: defualt optimization passes will be enlarged to all fuse and elimination passes in the next version\n",
      "current depth: 8\n"
     ]
    },
    {
     "name": "stderr",
     "output_type": "stream",
     "text": [
      "100%|██████████| 6/6 [00:06<00:00,  1.12s/it]\n"
     ]
    },
    {
     "name": "stdout",
     "output_type": "stream",
     "text": [
      "potential next fragments: 48\n",
      "potential next fragments after thresholding of 0.8: 4 ['0.95', '0.88', '0.85', '0.8']\n",
      "totalscore 0.5980498147546806\n",
      "WARNING: defualt optimization passes will be enlarged to all fuse and elimination passes in the next version\n",
      "current depth: 9\n"
     ]
    },
    {
     "name": "stderr",
     "output_type": "stream",
     "text": [
      "100%|██████████| 6/6 [00:06<00:00,  1.09s/it]\n"
     ]
    },
    {
     "name": "stdout",
     "output_type": "stream",
     "text": [
      "potential next fragments: 6\n",
      "potential next fragments after thresholding of 0.8: 1 ['0.88']\n",
      "totalscore 0.5273328763571847\n",
      "WARNING: defualt optimization passes will be enlarged to all fuse and elimination passes in the next version\n"
     ]
    },
    {
     "name": "stderr",
     "output_type": "stream",
     "text": [
      "  0%|          | 0/2 [00:00<?, ?it/s]/opt/anaconda3/envs/stitchnet/lib/python3.10/site-packages/onnxruntime/capi/onnxruntime_inference_collection.py:54: UserWarning: Specified provider 'CUDAExecutionProvider' is not in available provider names.Available providers: 'CPUExecutionProvider'\n",
      "  warnings.warn(\n",
      "100%|██████████| 2/2 [00:02<00:00,  1.05s/it]\n"
     ]
    },
    {
     "name": "stdout",
     "output_type": "stream",
     "text": [
      "totalscore 0.5547179833099015\n",
      "WARNING: defualt optimization passes will be enlarged to all fuse and elimination passes in the next version\n"
     ]
    },
    {
     "name": "stderr",
     "output_type": "stream",
     "text": [
      "  0%|          | 0/2 [00:00<?, ?it/s]/opt/anaconda3/envs/stitchnet/lib/python3.10/site-packages/onnxruntime/capi/onnxruntime_inference_collection.py:54: UserWarning: Specified provider 'CUDAExecutionProvider' is not in available provider names.Available providers: 'CPUExecutionProvider'\n",
      "  warnings.warn(\n",
      "100%|██████████| 2/2 [00:02<00:00,  1.02s/it]\n"
     ]
    },
    {
     "name": "stdout",
     "output_type": "stream",
     "text": [
      "totalscore 0.5312633860659797\n",
      "WARNING: defualt optimization passes will be enlarged to all fuse and elimination passes in the next version\n",
      "current depth: 9\n"
     ]
    },
    {
     "name": "stderr",
     "output_type": "stream",
     "text": [
      "100%|██████████| 6/6 [00:06<00:00,  1.12s/it]\n"
     ]
    },
    {
     "name": "stdout",
     "output_type": "stream",
     "text": [
      "potential next fragments: 6\n",
      "potential next fragments after thresholding of 0.8: 2 ['0.88', '0.81']\n",
      "totalscore 0.5025419305977115\n",
      "WARNING: defualt optimization passes will be enlarged to all fuse and elimination passes in the next version\n"
     ]
    },
    {
     "name": "stderr",
     "output_type": "stream",
     "text": [
      "  0%|          | 0/2 [00:00<?, ?it/s]/opt/anaconda3/envs/stitchnet/lib/python3.10/site-packages/onnxruntime/capi/onnxruntime_inference_collection.py:54: UserWarning: Specified provider 'CUDAExecutionProvider' is not in available provider names.Available providers: 'CPUExecutionProvider'\n",
      "  warnings.warn(\n",
      "100%|██████████| 2/2 [00:01<00:00,  1.06it/s]\n"
     ]
    },
    {
     "name": "stdout",
     "output_type": "stream",
     "text": [
      "totalscore 0.6144371714071226\n",
      "WARNING: defualt optimization passes will be enlarged to all fuse and elimination passes in the next version\n"
     ]
    },
    {
     "name": "stderr",
     "output_type": "stream",
     "text": [
      "  0%|          | 0/2 [00:00<?, ?it/s]/opt/anaconda3/envs/stitchnet/lib/python3.10/site-packages/onnxruntime/capi/onnxruntime_inference_collection.py:54: UserWarning: Specified provider 'CUDAExecutionProvider' is not in available provider names.Available providers: 'CPUExecutionProvider'\n",
      "  warnings.warn(\n",
      "100%|██████████| 2/2 [00:01<00:00,  1.19it/s]\n"
     ]
    },
    {
     "name": "stdout",
     "output_type": "stream",
     "text": [
      "totalscore 0.8422104716300964\n",
      "WARNING: defualt optimization passes will be enlarged to all fuse and elimination passes in the next version\n",
      "current depth: 6\n"
     ]
    },
    {
     "name": "stderr",
     "output_type": "stream",
     "text": [
      "100%|██████████| 6/6 [00:06<00:00,  1.15s/it]\n"
     ]
    },
    {
     "name": "stdout",
     "output_type": "stream",
     "text": [
      "potential next fragments: 48\n",
      "potential next fragments after thresholding of 0.8: 2 ['0.89', '0.89']\n",
      "totalscore 0.7534090371759454\n",
      "WARNING: defualt optimization passes will be enlarged to all fuse and elimination passes in the next version\n"
     ]
    },
    {
     "name": "stderr",
     "output_type": "stream",
     "text": [
      "  0%|          | 0/2 [00:00<?, ?it/s]/opt/anaconda3/envs/stitchnet/lib/python3.10/site-packages/onnxruntime/capi/onnxruntime_inference_collection.py:54: UserWarning: Specified provider 'CUDAExecutionProvider' is not in available provider names.Available providers: 'CPUExecutionProvider'\n",
      "  warnings.warn(\n",
      "100%|██████████| 2/2 [00:01<00:00,  1.31it/s]\n"
     ]
    },
    {
     "name": "stdout",
     "output_type": "stream",
     "text": [
      "totalscore 0.7502866185735151\n",
      "WARNING: defualt optimization passes will be enlarged to all fuse and elimination passes in the next version\n",
      "current depth: 7\n"
     ]
    },
    {
     "name": "stderr",
     "output_type": "stream",
     "text": [
      "100%|██████████| 6/6 [00:06<00:00,  1.12s/it]\n"
     ]
    },
    {
     "name": "stdout",
     "output_type": "stream",
     "text": [
      "potential next fragments: 48\n",
      "potential next fragments after thresholding of 0.8: 3 ['0.92', '0.91', '0.81']\n",
      "totalscore 0.6867052860629818\n",
      "WARNING: defualt optimization passes will be enlarged to all fuse and elimination passes in the next version\n"
     ]
    },
    {
     "name": "stderr",
     "output_type": "stream",
     "text": [
      "  0%|          | 0/2 [00:00<?, ?it/s]/opt/anaconda3/envs/stitchnet/lib/python3.10/site-packages/onnxruntime/capi/onnxruntime_inference_collection.py:54: UserWarning: Specified provider 'CUDAExecutionProvider' is not in available provider names.Available providers: 'CPUExecutionProvider'\n",
      "  warnings.warn(\n",
      "100%|██████████| 2/2 [00:01<00:00,  1.26it/s]\n"
     ]
    },
    {
     "name": "stdout",
     "output_type": "stream",
     "text": [
      "totalscore 0.6807330331716785\n",
      "WARNING: defualt optimization passes will be enlarged to all fuse and elimination passes in the next version\n",
      "current depth: 8\n"
     ]
    },
    {
     "name": "stderr",
     "output_type": "stream",
     "text": [
      "100%|██████████| 6/6 [00:06<00:00,  1.10s/it]\n"
     ]
    },
    {
     "name": "stdout",
     "output_type": "stream",
     "text": [
      "potential next fragments: 48\n",
      "potential next fragments after thresholding of 0.8: 2 ['0.88', '0.87']\n",
      "totalscore 0.5999039949580559\n",
      "WARNING: defualt optimization passes will be enlarged to all fuse and elimination passes in the next version\n",
      "current depth: 9\n"
     ]
    },
    {
     "name": "stderr",
     "output_type": "stream",
     "text": [
      "100%|██████████| 6/6 [00:06<00:00,  1.10s/it]\n"
     ]
    },
    {
     "name": "stdout",
     "output_type": "stream",
     "text": [
      "potential next fragments: 6\n",
      "potential next fragments after thresholding of 0.8: 2 ['0.88', '0.85']\n",
      "totalscore 0.5272449604716027\n",
      "WARNING: defualt optimization passes will be enlarged to all fuse and elimination passes in the next version\n"
     ]
    },
    {
     "name": "stderr",
     "output_type": "stream",
     "text": [
      "  0%|          | 0/2 [00:00<?, ?it/s]/opt/anaconda3/envs/stitchnet/lib/python3.10/site-packages/onnxruntime/capi/onnxruntime_inference_collection.py:54: UserWarning: Specified provider 'CUDAExecutionProvider' is not in available provider names.Available providers: 'CPUExecutionProvider'\n",
      "  warnings.warn(\n",
      "100%|██████████| 2/2 [00:02<00:00,  1.02s/it]\n"
     ]
    },
    {
     "name": "stdout",
     "output_type": "stream",
     "text": [
      "totalscore 0.5083491039695717\n",
      "WARNING: defualt optimization passes will be enlarged to all fuse and elimination passes in the next version\n"
     ]
    },
    {
     "name": "stderr",
     "output_type": "stream",
     "text": [
      "  0%|          | 0/2 [00:00<?, ?it/s]/opt/anaconda3/envs/stitchnet/lib/python3.10/site-packages/onnxruntime/capi/onnxruntime_inference_collection.py:54: UserWarning: Specified provider 'CUDAExecutionProvider' is not in available provider names.Available providers: 'CPUExecutionProvider'\n",
      "  warnings.warn(\n",
      "100%|██████████| 2/2 [00:02<00:00,  1.04s/it]\n"
     ]
    },
    {
     "name": "stdout",
     "output_type": "stream",
     "text": [
      "totalscore 0.5947887641140994\n",
      "WARNING: defualt optimization passes will be enlarged to all fuse and elimination passes in the next version\n"
     ]
    },
    {
     "name": "stderr",
     "output_type": "stream",
     "text": [
      "  0%|          | 0/2 [00:00<?, ?it/s]/opt/anaconda3/envs/stitchnet/lib/python3.10/site-packages/onnxruntime/capi/onnxruntime_inference_collection.py:54: UserWarning: Specified provider 'CUDAExecutionProvider' is not in available provider names.Available providers: 'CPUExecutionProvider'\n",
      "  warnings.warn(\n",
      "100%|██████████| 2/2 [00:01<00:00,  1.09it/s]\n"
     ]
    },
    {
     "name": "stdout",
     "output_type": "stream",
     "text": [
      "totalscore 0.609760240564044\n",
      "WARNING: defualt optimization passes will be enlarged to all fuse and elimination passes in the next version\n"
     ]
    },
    {
     "name": "stderr",
     "output_type": "stream",
     "text": [
      "  0%|          | 0/2 [00:00<?, ?it/s]/opt/anaconda3/envs/stitchnet/lib/python3.10/site-packages/onnxruntime/capi/onnxruntime_inference_collection.py:54: UserWarning: Specified provider 'CUDAExecutionProvider' is not in available provider names.Available providers: 'CPUExecutionProvider'\n",
      "  warnings.warn(\n",
      "100%|██████████| 2/2 [00:01<00:00,  1.15it/s]\n"
     ]
    },
    {
     "name": "stdout",
     "output_type": "stream",
     "text": [
      "totalscore 0.8329172134399414\n",
      "ERROR Input and output must have the same number of spatial dimensions, but got input with with spatial dimensions of [] and output size of (13, 13). Please provide input tensor in (N, C, d1, d2, ...,dK) format and output size in (o1, o2, ...,oK) format.\n",
      "totalscore 0.8303013443946838\n"
     ]
    },
    {
     "name": "stderr",
     "output_type": "stream",
     "text": [
      "Traceback (most recent call last):\n",
      "  File \"/Users/surat/NSTDA/stitchnet/stitchnet/stitchnet/stitchonnx/utils.py\", line 923, in recursive_stitching\n",
      "    newcurr_fragment = stitch_fragments(curr, nextf, data)\n",
      "  File \"/Users/surat/NSTDA/stitchnet/stitchnet/stitchnet/stitchonnx/utils.py\", line 618, in stitch_fragments\n",
      "    nw = adjust_w(tX, tY, w)\n",
      "  File \"/Users/surat/NSTDA/stitchnet/stitchnet/stitchnet/stitchonnx/utils.py\", line 573, in adjust_w\n",
      "    return adjust_w_conv(tX, tY, w)\n",
      "  File \"/Users/surat/NSTDA/stitchnet/stitchnet/stitchnet/stitchonnx/utils.py\", line 552, in adjust_w_conv\n",
      "    tX = up(tX)\n",
      "  File \"/opt/anaconda3/envs/stitchnet/lib/python3.10/site-packages/torch/nn/modules/module.py\", line 1130, in _call_impl\n",
      "    return forward_call(*input, **kwargs)\n",
      "  File \"/opt/anaconda3/envs/stitchnet/lib/python3.10/site-packages/torch/nn/modules/upsampling.py\", line 153, in forward\n",
      "    return F.interpolate(input, self.size, self.scale_factor, self.mode, self.align_corners,\n",
      "  File \"/opt/anaconda3/envs/stitchnet/lib/python3.10/site-packages/torch/nn/functional.py\", line 3854, in interpolate\n",
      "    raise ValueError(\n",
      "ValueError: Input and output must have the same number of spatial dimensions, but got input with with spatial dimensions of [] and output size of (13, 13). Please provide input tensor in (N, C, d1, d2, ...,dK) format and output size in (o1, o2, ...,oK) format.\n"
     ]
    },
    {
     "name": "stdout",
     "output_type": "stream",
     "text": [
      "ERROR Input and output must have the same number of spatial dimensions, but got input with with spatial dimensions of [] and output size of (14, 14). Please provide input tensor in (N, C, d1, d2, ...,dK) format and output size in (o1, o2, ...,oK) format.\n",
      "totalscore 0.8281559944152832\n"
     ]
    },
    {
     "name": "stderr",
     "output_type": "stream",
     "text": [
      "Traceback (most recent call last):\n",
      "  File \"/Users/surat/NSTDA/stitchnet/stitchnet/stitchnet/stitchonnx/utils.py\", line 923, in recursive_stitching\n",
      "    newcurr_fragment = stitch_fragments(curr, nextf, data)\n",
      "  File \"/Users/surat/NSTDA/stitchnet/stitchnet/stitchnet/stitchonnx/utils.py\", line 618, in stitch_fragments\n",
      "    nw = adjust_w(tX, tY, w)\n",
      "  File \"/Users/surat/NSTDA/stitchnet/stitchnet/stitchnet/stitchonnx/utils.py\", line 573, in adjust_w\n",
      "    return adjust_w_conv(tX, tY, w)\n",
      "  File \"/Users/surat/NSTDA/stitchnet/stitchnet/stitchnet/stitchonnx/utils.py\", line 552, in adjust_w_conv\n",
      "    tX = up(tX)\n",
      "  File \"/opt/anaconda3/envs/stitchnet/lib/python3.10/site-packages/torch/nn/modules/module.py\", line 1130, in _call_impl\n",
      "    return forward_call(*input, **kwargs)\n",
      "  File \"/opt/anaconda3/envs/stitchnet/lib/python3.10/site-packages/torch/nn/modules/upsampling.py\", line 153, in forward\n",
      "    return F.interpolate(input, self.size, self.scale_factor, self.mode, self.align_corners,\n",
      "  File \"/opt/anaconda3/envs/stitchnet/lib/python3.10/site-packages/torch/nn/functional.py\", line 3854, in interpolate\n",
      "    raise ValueError(\n",
      "ValueError: Input and output must have the same number of spatial dimensions, but got input with with spatial dimensions of [] and output size of (14, 14). Please provide input tensor in (N, C, d1, d2, ...,dK) format and output size in (o1, o2, ...,oK) format.\n",
      "Traceback (most recent call last):\n",
      "  File \"/Users/surat/NSTDA/stitchnet/stitchnet/stitchnet/stitchonnx/utils.py\", line 923, in recursive_stitching\n",
      "    newcurr_fragment = stitch_fragments(curr, nextf, data)\n",
      "  File \"/Users/surat/NSTDA/stitchnet/stitchnet/stitchnet/stitchonnx/utils.py\", line 618, in stitch_fragments\n",
      "    nw = adjust_w(tX, tY, w)\n",
      "  File \"/Users/surat/NSTDA/stitchnet/stitchnet/stitchnet/stitchonnx/utils.py\", line 573, in adjust_w\n",
      "    return adjust_w_conv(tX, tY, w)\n",
      "  File \"/Users/surat/NSTDA/stitchnet/stitchnet/stitchnet/stitchonnx/utils.py\", line 552, in adjust_w_conv\n",
      "    tX = up(tX)\n",
      "  File \"/opt/anaconda3/envs/stitchnet/lib/python3.10/site-packages/torch/nn/modules/module.py\", line 1130, in _call_impl\n",
      "    return forward_call(*input, **kwargs)\n",
      "  File \"/opt/anaconda3/envs/stitchnet/lib/python3.10/site-packages/torch/nn/modules/upsampling.py\", line 153, in forward\n",
      "    return F.interpolate(input, self.size, self.scale_factor, self.mode, self.align_corners,\n",
      "  File \"/opt/anaconda3/envs/stitchnet/lib/python3.10/site-packages/torch/nn/functional.py\", line 3854, in interpolate\n",
      "    raise ValueError(\n",
      "ValueError: Input and output must have the same number of spatial dimensions, but got input with with spatial dimensions of [] and output size of (14, 14). Please provide input tensor in (N, C, d1, d2, ...,dK) format and output size in (o1, o2, ...,oK) format.\n"
     ]
    },
    {
     "name": "stdout",
     "output_type": "stream",
     "text": [
      "ERROR Input and output must have the same number of spatial dimensions, but got input with with spatial dimensions of [] and output size of (14, 14). Please provide input tensor in (N, C, d1, d2, ...,dK) format and output size in (o1, o2, ...,oK) format.\n",
      "current depth: 1\n"
     ]
    },
    {
     "name": "stderr",
     "output_type": "stream",
     "text": [
      "100%|██████████| 6/6 [00:09<00:00,  1.54s/it]\n"
     ]
    },
    {
     "name": "stdout",
     "output_type": "stream",
     "text": [
      "potential next fragments: 48\n",
      "potential next fragments after thresholding of 0.8: 1 ['1.0']\n",
      "totalscore 1.0000001192092896\n",
      "WARNING: defualt optimization passes will be enlarged to all fuse and elimination passes in the next version\n",
      "current depth: 2\n"
     ]
    },
    {
     "name": "stderr",
     "output_type": "stream",
     "text": [
      "100%|██████████| 6/6 [00:37<00:00,  6.21s/it]\n"
     ]
    },
    {
     "name": "stdout",
     "output_type": "stream",
     "text": [
      "potential next fragments: 48\n",
      "potential next fragments after thresholding of 0.8: 1 ['1.0']\n",
      "totalscore 1.0000001192092896\n",
      "WARNING: defualt optimization passes will be enlarged to all fuse and elimination passes in the next version\n",
      "current depth: 3\n"
     ]
    },
    {
     "name": "stderr",
     "output_type": "stream",
     "text": [
      "100%|██████████| 6/6 [02:02<00:00, 20.40s/it]\n"
     ]
    },
    {
     "name": "stdout",
     "output_type": "stream",
     "text": [
      "potential next fragments: 48\n",
      "potential next fragments after thresholding of 0.8: 1 ['1.0']\n",
      "totalscore 1.0000002384185933\n",
      "WARNING: defualt optimization passes will be enlarged to all fuse and elimination passes in the next version\n",
      "current depth: 4\n"
     ]
    },
    {
     "name": "stderr",
     "output_type": "stream",
     "text": [
      "100%|██████████| 6/6 [04:45<00:00, 47.57s/it]\n"
     ]
    },
    {
     "name": "stdout",
     "output_type": "stream",
     "text": [
      "potential next fragments: 48\n",
      "potential next fragments after thresholding of 0.8: 1 ['1.0']\n",
      "totalscore 1.0000001192092753\n",
      "WARNING: defualt optimization passes will be enlarged to all fuse and elimination passes in the next version\n",
      "current depth: 5\n"
     ]
    },
    {
     "name": "stderr",
     "output_type": "stream",
     "text": [
      "100%|██████████| 6/6 [00:06<00:00,  1.05s/it]\n"
     ]
    },
    {
     "name": "stdout",
     "output_type": "stream",
     "text": [
      "potential next fragments: 48\n",
      "potential next fragments after thresholding of 0.8: 5 ['0.98', '0.91', '0.84', '0.83', '0.81']\n",
      "totalscore 0.9792981719133781\n",
      "WARNING: defualt optimization passes will be enlarged to all fuse and elimination passes in the next version\n"
     ]
    },
    {
     "name": "stderr",
     "output_type": "stream",
     "text": [
      "  0%|          | 0/2 [00:00<?, ?it/s]/opt/anaconda3/envs/stitchnet/lib/python3.10/site-packages/onnxruntime/capi/onnxruntime_inference_collection.py:54: UserWarning: Specified provider 'CUDAExecutionProvider' is not in available provider names.Available providers: 'CPUExecutionProvider'\n",
      "  warnings.warn(\n",
      "100%|██████████| 2/2 [00:04<00:00,  2.22s/it]\n"
     ]
    },
    {
     "name": "stdout",
     "output_type": "stream",
     "text": [
      "totalscore 0.9053279644641576\n",
      "WARNING: defualt optimization passes will be enlarged to all fuse and elimination passes in the next version\n"
     ]
    },
    {
     "name": "stderr",
     "output_type": "stream",
     "text": [
      "  0%|          | 0/2 [00:00<?, ?it/s]/opt/anaconda3/envs/stitchnet/lib/python3.10/site-packages/onnxruntime/capi/onnxruntime_inference_collection.py:54: UserWarning: Specified provider 'CUDAExecutionProvider' is not in available provider names.Available providers: 'CPUExecutionProvider'\n",
      "  warnings.warn(\n",
      "100%|██████████| 2/2 [00:04<00:00,  2.11s/it]\n"
     ]
    },
    {
     "name": "stdout",
     "output_type": "stream",
     "text": [
      "totalscore 0.8423737099615942\n",
      "WARNING: defualt optimization passes will be enlarged to all fuse and elimination passes in the next version\n"
     ]
    },
    {
     "name": "stderr",
     "output_type": "stream",
     "text": [
      "  0%|          | 0/2 [00:00<?, ?it/s]/opt/anaconda3/envs/stitchnet/lib/python3.10/site-packages/onnxruntime/capi/onnxruntime_inference_collection.py:54: UserWarning: Specified provider 'CUDAExecutionProvider' is not in available provider names.Available providers: 'CPUExecutionProvider'\n",
      "  warnings.warn(\n",
      "100%|██████████| 2/2 [00:04<00:00,  2.13s/it]\n"
     ]
    },
    {
     "name": "stdout",
     "output_type": "stream",
     "text": [
      "totalscore 0.8250401407527856\n",
      "WARNING: defualt optimization passes will be enlarged to all fuse and elimination passes in the next version\n"
     ]
    },
    {
     "name": "stderr",
     "output_type": "stream",
     "text": [
      "  0%|          | 0/2 [00:00<?, ?it/s]/opt/anaconda3/envs/stitchnet/lib/python3.10/site-packages/onnxruntime/capi/onnxruntime_inference_collection.py:54: UserWarning: Specified provider 'CUDAExecutionProvider' is not in available provider names.Available providers: 'CPUExecutionProvider'\n",
      "  warnings.warn(\n",
      "100%|██████████| 2/2 [00:04<00:00,  2.29s/it]\n"
     ]
    },
    {
     "name": "stdout",
     "output_type": "stream",
     "text": [
      "totalscore 0.8125636354164412\n",
      "WARNING: defualt optimization passes will be enlarged to all fuse and elimination passes in the next version\n"
     ]
    },
    {
     "name": "stderr",
     "output_type": "stream",
     "text": [
      "  0%|          | 0/2 [00:00<?, ?it/s]/opt/anaconda3/envs/stitchnet/lib/python3.10/site-packages/onnxruntime/capi/onnxruntime_inference_collection.py:54: UserWarning: Specified provider 'CUDAExecutionProvider' is not in available provider names.Available providers: 'CPUExecutionProvider'\n",
      "  warnings.warn(\n",
      "100%|██████████| 2/2 [00:04<00:00,  2.15s/it]\n"
     ]
    }
   ],
   "source": [
    "from tqdm import tqdm\n",
    "\n",
    "scoreMapper = ScoreMapper(nets, data_score)\n",
    "with Report(EVAL_BATCH_SIZE, f'./_results/{RESULT_NAME}.txt', 'a') as report:\n",
    "    # for _ in tqdm(range(50)):\n",
    "    generator = generate_networks(nets, scoreMapper, data_score, \n",
    "                          threshold=THRESOULD, totalThreshold=TOTAL_THRESOULD, \n",
    "                          maxDepth=MAX_DEPTH, sample=False)\n",
    "    for i,(s,net) in enumerate(generator):\n",
    "        netname = f\"_results/{RESULT_NAME}/net{k:03}_{i:03}\"\n",
    "        report.evaluate(nets, net, netname, s, dataset_val)\n",
    "        net.save(netname)\n",
    "        k += 1"
   ]
  },
  {
   "cell_type": "code",
   "execution_count": 6,
   "id": "a6b709d1-3e6c-45b0-aa72-6d21c4d581c0",
   "metadata": {},
   "outputs": [],
   "source": [
    "# import graphviz\n",
    "\n",
    "# ni = graphviz.Graph('ni')  \n",
    "\n",
    "# ni.attr('node', shape='rarrow')\n",
    "# ni.node('1', 'Ni!')\n",
    "# ni.node('2', 'Ni!')\n",
    "\n",
    "# ni.node('3', 'Ni!', shape='egg')\n",
    "\n",
    "# ni.attr('node', shape='star')\n",
    "# ni.node('4', 'Ni!')\n",
    "# ni.node('5', 'Ni!')\n",
    "# ni.format = 'svg'\n",
    "# ni.render(f'test', view=False)"
   ]
  },
  {
   "cell_type": "code",
   "execution_count": 3,
   "id": "4497884a-8b47-4879-9bbf-7ec46c07b094",
   "metadata": {},
   "outputs": [],
   "source": [
    "# !dot"
   ]
  },
  {
   "cell_type": "code",
   "execution_count": 4,
   "id": "a92122d9-bd5c-4e44-9aaa-bc41e76fc66a",
   "metadata": {},
   "outputs": [],
   "source": [
    "# import os\n",
    "# print(os.environ['PATH'])"
   ]
  },
  {
   "cell_type": "code",
   "execution_count": null,
   "id": "23f5379f-6aaa-4d32-85aa-bd0a8a100cd0",
   "metadata": {},
   "outputs": [],
   "source": []
  }
 ],
 "metadata": {
  "kernelspec": {
   "display_name": "stitchnet",
   "language": "python",
   "name": "stitchnet"
  },
  "language_info": {
   "codemirror_mode": {
    "name": "ipython",
    "version": 3
   },
   "file_extension": ".py",
   "mimetype": "text/x-python",
   "name": "python",
   "nbconvert_exporter": "python",
   "pygments_lexer": "ipython3",
   "version": "3.10.4"
  }
 },
 "nbformat": 4,
 "nbformat_minor": 5
}
