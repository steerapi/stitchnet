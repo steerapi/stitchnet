{
 "cells": [
  {
   "cell_type": "code",
   "execution_count": 1,
   "id": "f02463b7-9fb2-4fc9-b3d4-963da1093a32",
   "metadata": {},
   "outputs": [],
   "source": [
    "%load_ext autoreload\n",
    "%autoreload 2"
   ]
  },
  {
   "cell_type": "code",
   "execution_count": 2,
   "id": "46146e10-04f2-4fa4-a001-24fdf1398844",
   "metadata": {
    "tags": []
   },
   "outputs": [
    {
     "name": "stderr",
     "output_type": "stream",
     "text": [
      "/opt/anaconda3/envs/stitchnet/lib/python3.10/site-packages/tqdm/auto.py:22: TqdmWarning: IProgress not found. Please update jupyter and ipywidgets. See https://ipywidgets.readthedocs.io/en/stable/user_install.html\n",
      "  from .autonotebook import tqdm as notebook_tqdm\n"
     ]
    }
   ],
   "source": [
    "from skl2onnx.helpers.onnx_helper import load_onnx_model\n",
    "from stitchnet.stitchonnx.utils import Net\n",
    "from glob import glob\n",
    "from pathlib import Path\n",
    "\n",
    "netsFiles = sorted(glob('_models/fragments/net*'))\n",
    "nets = []\n",
    "for i,netsFile in enumerate(netsFiles):\n",
    "    fragmentFiles = sorted(glob(str(Path(netsFile)/'fragment*.onnx')))\n",
    "    onnxFragments = []\n",
    "    for fragmentFile in fragmentFiles:\n",
    "        onnxFragment = load_onnx_model(fragmentFile)\n",
    "        onnxFragments.append(onnxFragment)\n",
    "    net1 = Net(onnxFragments, i)\n",
    "    nets.append(net1)"
   ]
  },
  {
   "cell_type": "code",
   "execution_count": 9,
   "id": "991aecb8-aee4-4bc0-a464-0b308014566d",
   "metadata": {},
   "outputs": [],
   "source": [
    "from stitchnet.stitchonnx.utils import load_cats_and_dogs_dset,convert_imagenet_to_cat_dog_label\n",
    "from stitchnet.stitchonnx.utils import accuracy_score_model,accuracy_score_net,load_dl\n",
    "from stitchnet.stitchonnx.utils import generate_networks, ScoreMapper\n",
    "from stitchnet.stitchonnx.report import Report\n",
    "from stitchnet.stitchonnx.utils import evalulate_stitchnet\n",
    "\n",
    "from tqdm import tqdm\n",
    "import torch\n",
    "import numpy as np\n",
    "import os\n",
    "from collections import defaultdict\n",
    "import hashlib\n",
    "import random\n",
    "\n",
    "random.seed(51)\n",
    "np.random.seed(24)\n",
    "torch.manual_seed(77)\n",
    "\n",
    "STITCH_BATCH_SIZE = 128 # todo study the effect\n",
    "EVAL_BATCH_SIZE = 64\n",
    "MAX_DEPTH = 10\n",
    "THRESOULD = 0.8\n",
    "TOTAL_THRESOULD = 0.5\n",
    "\n",
    "RESULT_NAME = \"result_paper_128\"\n",
    "\n",
    "dataset_train = load_cats_and_dogs_dset(\"train\")\n",
    "dataset_val = load_cats_and_dogs_dset(\"test\")\n",
    "\n",
    "dl_score = load_dl(dataset_train, STITCH_BATCH_SIZE)\n",
    "data_score,t = next(iter(dl_score))\n",
    "data_score = data_score.numpy()"
   ]
  },
  {
   "cell_type": "code",
   "execution_count": 10,
   "id": "fb5e71f2-1d9c-416f-b0ab-b90f1ebc76ba",
   "metadata": {},
   "outputs": [],
   "source": [
    "# range(1)\n",
    "k = 0\n",
    "if os.path.exists(f'./_results/{RESULT_NAME}.txt'):\n",
    "    with open(f'./_results/{RESULT_NAME}.txt', 'r') as f:\n",
    "        k = len(f.read().split('\\n'))"
   ]
  },
  {
   "cell_type": "code",
   "execution_count": 11,
   "id": "5ef687c5-6b30-4c10-8536-e0eb218da7f0",
   "metadata": {
    "tags": []
   },
   "outputs": [
    {
     "name": "stdout",
     "output_type": "stream",
     "text": [
      "current depth: 1\n"
     ]
    },
    {
     "name": "stderr",
     "output_type": "stream",
     "text": [
      "100%|██████████| 5/5 [00:50<00:00, 10.03s/it]\n"
     ]
    },
    {
     "name": "stdout",
     "output_type": "stream",
     "text": [
      "potential next fragments: 43\n",
      "potential next fragments after thresholding of 0.8: 1 ['1.0']\n",
      "totalscore 1.0\n",
      "WARNING: defualt optimization passes will be enlarged to all fuse and elimination passes in the next version\n",
      "current depth: 2\n"
     ]
    },
    {
     "name": "stderr",
     "output_type": "stream",
     "text": [
      "100%|██████████| 5/5 [00:29<00:00,  5.86s/it]\n"
     ]
    },
    {
     "name": "stdout",
     "output_type": "stream",
     "text": [
      "potential next fragments: 43\n",
      "potential next fragments after thresholding of 0.8: 1 ['1.0']\n",
      "totalscore 1.0\n",
      "WARNING: defualt optimization passes will be enlarged to all fuse and elimination passes in the next version\n",
      "current depth: 3\n"
     ]
    },
    {
     "name": "stderr",
     "output_type": "stream",
     "text": [
      "100%|██████████| 5/5 [01:28<00:00, 17.69s/it]\n"
     ]
    },
    {
     "name": "stdout",
     "output_type": "stream",
     "text": [
      "potential next fragments: 43\n",
      "potential next fragments after thresholding of 0.8: 1 ['1.0']\n",
      "totalscore 1.0\n",
      "WARNING: defualt optimization passes will be enlarged to all fuse and elimination passes in the next version\n",
      "current depth: 4\n"
     ]
    },
    {
     "name": "stderr",
     "output_type": "stream",
     "text": [
      "100%|██████████| 5/5 [00:46<00:00,  9.32s/it]\n"
     ]
    },
    {
     "name": "stdout",
     "output_type": "stream",
     "text": [
      "potential next fragments: 43\n",
      "potential next fragments after thresholding of 0.8: 1 ['1.0']\n",
      "totalscore 1.0\n",
      "WARNING: defualt optimization passes will be enlarged to all fuse and elimination passes in the next version\n",
      "current depth: 5\n"
     ]
    },
    {
     "name": "stderr",
     "output_type": "stream",
     "text": [
      "100%|██████████| 5/5 [00:09<00:00,  1.95s/it]\n"
     ]
    },
    {
     "name": "stdout",
     "output_type": "stream",
     "text": [
      "potential next fragments: 43\n",
      "potential next fragments after thresholding of 0.8: 1 ['0.91']\n",
      "totalscore 0.9124013781547546\n",
      "WARNING: defualt optimization passes will be enlarged to all fuse and elimination passes in the next version\n",
      "current depth: 6\n"
     ]
    },
    {
     "name": "stderr",
     "output_type": "stream",
     "text": [
      "100%|██████████| 5/5 [00:11<00:00,  2.39s/it]\n"
     ]
    },
    {
     "name": "stdout",
     "output_type": "stream",
     "text": [
      "potential next fragments: 43\n",
      "potential next fragments after thresholding of 0.8: 3 ['0.95', '0.87', '0.8']\n",
      "totalscore 0.8685106892195371\n",
      "WARNING: defualt optimization passes will be enlarged to all fuse and elimination passes in the next version\n",
      "current depth: 7\n"
     ]
    },
    {
     "name": "stderr",
     "output_type": "stream",
     "text": [
      "100%|██████████| 5/5 [00:11<00:00,  2.24s/it]\n"
     ]
    },
    {
     "name": "stdout",
     "output_type": "stream",
     "text": [
      "potential next fragments: 43\n",
      "potential next fragments after thresholding of 0.8: 2 ['0.88', '0.87']\n",
      "totalscore 0.76177475541015\n",
      "WARNING: defualt optimization passes will be enlarged to all fuse and elimination passes in the next version\n",
      "current depth: 8\n"
     ]
    },
    {
     "name": "stderr",
     "output_type": "stream",
     "text": [
      "100%|██████████| 5/5 [00:10<00:00,  2.06s/it]\n"
     ]
    },
    {
     "name": "stdout",
     "output_type": "stream",
     "text": [
      "potential next fragments: 43\n",
      "potential next fragments after thresholding of 0.8: 2 ['0.86', '0.84']\n",
      "totalscore 0.6552875802242493\n",
      "WARNING: defualt optimization passes will be enlarged to all fuse and elimination passes in the next version\n",
      "current depth: 9\n"
     ]
    },
    {
     "name": "stderr",
     "output_type": "stream",
     "text": [
      "100%|██████████| 5/5 [00:10<00:00,  2.09s/it]\n"
     ]
    },
    {
     "name": "stdout",
     "output_type": "stream",
     "text": [
      "potential next fragments: 5\n",
      "potential next fragments after thresholding of 0.8: 1 ['0.87']\n",
      "totalscore 0.5722635525844028\n",
      "WARNING: defualt optimization passes will be enlarged to all fuse and elimination passes in the next version\n"
     ]
    },
    {
     "name": "stderr",
     "output_type": "stream",
     "text": [
      "  0%|          | 0/2 [00:00<?, ?it/s]/opt/anaconda3/envs/stitchnet/lib/python3.10/site-packages/onnxruntime/capi/onnxruntime_inference_collection.py:54: UserWarning: Specified provider 'CUDAExecutionProvider' is not in available provider names.Available providers: 'CPUExecutionProvider'\n",
      "  warnings.warn(\n",
      "100%|██████████| 2/2 [00:02<00:00,  1.01s/it]\n"
     ]
    },
    {
     "name": "stdout",
     "output_type": "stream",
     "text": [
      "len(self.fragments) 1\n",
      "saving to _results/result_paper_128/net000_000\n",
      "totalscore 0.6386458970806099\n",
      "WARNING: defualt optimization passes will be enlarged to all fuse and elimination passes in the next version\n"
     ]
    },
    {
     "name": "stderr",
     "output_type": "stream",
     "text": [
      "  0%|          | 0/2 [00:00<?, ?it/s]/opt/anaconda3/envs/stitchnet/lib/python3.10/site-packages/onnxruntime/capi/onnxruntime_inference_collection.py:54: UserWarning: Specified provider 'CUDAExecutionProvider' is not in available provider names.Available providers: 'CPUExecutionProvider'\n",
      "  warnings.warn(\n",
      "100%|██████████| 2/2 [00:02<00:00,  1.03s/it]\n"
     ]
    },
    {
     "name": "stdout",
     "output_type": "stream",
     "text": [
      "len(self.fragments) 1\n",
      "saving to _results/result_paper_128/net001_001\n",
      "totalscore 0.7564407593290481\n",
      "WARNING: defualt optimization passes will be enlarged to all fuse and elimination passes in the next version\n"
     ]
    },
    {
     "name": "stderr",
     "output_type": "stream",
     "text": [
      "  0%|          | 0/2 [00:00<?, ?it/s]/opt/anaconda3/envs/stitchnet/lib/python3.10/site-packages/onnxruntime/capi/onnxruntime_inference_collection.py:54: UserWarning: Specified provider 'CUDAExecutionProvider' is not in available provider names.Available providers: 'CPUExecutionProvider'\n",
      "  warnings.warn(\n",
      "100%|██████████| 2/2 [00:01<00:00,  1.19it/s]\n"
     ]
    },
    {
     "name": "stdout",
     "output_type": "stream",
     "text": [
      "len(self.fragments) 1\n",
      "saving to _results/result_paper_128/net002_002\n",
      "totalscore 0.7936748895225065\n",
      "WARNING: defualt optimization passes will be enlarged to all fuse and elimination passes in the next version\n"
     ]
    },
    {
     "name": "stderr",
     "output_type": "stream",
     "text": [
      "  0%|          | 0/2 [00:00<?, ?it/s]/opt/anaconda3/envs/stitchnet/lib/python3.10/site-packages/onnxruntime/capi/onnxruntime_inference_collection.py:54: UserWarning: Specified provider 'CUDAExecutionProvider' is not in available provider names.Available providers: 'CPUExecutionProvider'\n",
      "  warnings.warn(\n",
      "100%|██████████| 2/2 [00:01<00:00,  1.15it/s]\n"
     ]
    },
    {
     "name": "stdout",
     "output_type": "stream",
     "text": [
      "len(self.fragments) 1\n",
      "saving to _results/result_paper_128/net003_003\n",
      "totalscore 0.7309228005090063\n",
      "WARNING: defualt optimization passes will be enlarged to all fuse and elimination passes in the next version\n",
      "current depth: 7\n"
     ]
    },
    {
     "name": "stderr",
     "output_type": "stream",
     "text": [
      "100%|██████████| 5/5 [00:11<00:00,  2.32s/it]\n"
     ]
    },
    {
     "name": "stdout",
     "output_type": "stream",
     "text": [
      "potential next fragments: 43\n",
      "potential next fragments after thresholding of 0.8: 3 ['0.94', '0.85', '0.81']\n",
      "totalscore 0.6870960974229848\n",
      "WARNING: defualt optimization passes will be enlarged to all fuse and elimination passes in the next version\n",
      "current depth: 8\n"
     ]
    },
    {
     "name": "stderr",
     "output_type": "stream",
     "text": [
      "100%|██████████| 5/5 [00:11<00:00,  2.27s/it]\n"
     ]
    },
    {
     "name": "stdout",
     "output_type": "stream",
     "text": [
      "potential next fragments: 43\n",
      "potential next fragments after thresholding of 0.8: 2 ['0.87', '0.83']\n",
      "totalscore 0.5964652058464741\n",
      "WARNING: defualt optimization passes will be enlarged to all fuse and elimination passes in the next version\n"
     ]
    },
    {
     "name": "stderr",
     "output_type": "stream",
     "text": [
      "  0%|          | 0/2 [00:00<?, ?it/s]/opt/anaconda3/envs/stitchnet/lib/python3.10/site-packages/onnxruntime/capi/onnxruntime_inference_collection.py:54: UserWarning: Specified provider 'CUDAExecutionProvider' is not in available provider names.Available providers: 'CPUExecutionProvider'\n",
      "  warnings.warn(\n",
      "100%|██████████| 2/2 [00:02<00:00,  1.10s/it]\n"
     ]
    },
    {
     "name": "stdout",
     "output_type": "stream",
     "text": [
      "len(self.fragments) 1\n",
      "saving to _results/result_paper_128/net004_004\n",
      "totalscore 0.5729048746507572\n",
      "WARNING: defualt optimization passes will be enlarged to all fuse and elimination passes in the next version\n",
      "current depth: 9\n"
     ]
    },
    {
     "name": "stderr",
     "output_type": "stream",
     "text": [
      "100%|██████████| 5/5 [00:10<00:00,  2.17s/it]\n"
     ]
    },
    {
     "name": "stdout",
     "output_type": "stream",
     "text": [
      "potential next fragments: 5\n",
      "potential next fragments after thresholding of 0.8: 1 ['0.86']\n",
      "totalscore 0.6239500948017058\n",
      "WARNING: defualt optimization passes will be enlarged to all fuse and elimination passes in the next version\n"
     ]
    },
    {
     "name": "stderr",
     "output_type": "stream",
     "text": [
      "  0%|          | 0/2 [00:00<?, ?it/s]/opt/anaconda3/envs/stitchnet/lib/python3.10/site-packages/onnxruntime/capi/onnxruntime_inference_collection.py:54: UserWarning: Specified provider 'CUDAExecutionProvider' is not in available provider names.Available providers: 'CPUExecutionProvider'\n",
      "  warnings.warn(\n",
      "100%|██████████| 2/2 [00:03<00:00,  1.80s/it]\n"
     ]
    },
    {
     "name": "stdout",
     "output_type": "stream",
     "text": [
      "len(self.fragments) 1\n",
      "saving to _results/result_paper_128/net005_005\n",
      "totalscore 0.5887206967516837\n",
      "WARNING: defualt optimization passes will be enlarged to all fuse and elimination passes in the next version\n",
      "current depth: 8\n"
     ]
    },
    {
     "name": "stderr",
     "output_type": "stream",
     "text": [
      "100%|██████████| 5/5 [00:11<00:00,  2.27s/it]\n"
     ]
    },
    {
     "name": "stdout",
     "output_type": "stream",
     "text": [
      "potential next fragments: 43\n",
      "potential next fragments after thresholding of 0.8: 2 ['0.94', '0.88']\n",
      "totalscore 0.5520821567811915\n",
      "WARNING: defualt optimization passes will be enlarged to all fuse and elimination passes in the next version\n",
      "current depth: 9\n"
     ]
    },
    {
     "name": "stderr",
     "output_type": "stream",
     "text": [
      "100%|██████████| 5/5 [00:10<00:00,  2.06s/it]\n"
     ]
    },
    {
     "name": "stdout",
     "output_type": "stream",
     "text": [
      "potential next fragments: 5\n",
      "potential next fragments after thresholding of 0.8: 1 ['0.85']\n",
      "totalscore 0.5157300604642581\n",
      "WARNING: defualt optimization passes will be enlarged to all fuse and elimination passes in the next version\n"
     ]
    },
    {
     "name": "stderr",
     "output_type": "stream",
     "text": [
      "  0%|          | 0/2 [00:00<?, ?it/s]/opt/anaconda3/envs/stitchnet/lib/python3.10/site-packages/onnxruntime/capi/onnxruntime_inference_collection.py:54: UserWarning: Specified provider 'CUDAExecutionProvider' is not in available provider names.Available providers: 'CPUExecutionProvider'\n",
      "  warnings.warn(\n",
      "100%|██████████| 2/2 [00:02<00:00,  1.13s/it]\n"
     ]
    },
    {
     "name": "stdout",
     "output_type": "stream",
     "text": [
      "len(self.fragments) 1\n",
      "saving to _results/result_paper_128/net006_006\n",
      "current depth: 1\n"
     ]
    },
    {
     "name": "stderr",
     "output_type": "stream",
     "text": [
      "100%|██████████| 5/5 [00:51<00:00, 10.40s/it]\n"
     ]
    },
    {
     "name": "stdout",
     "output_type": "stream",
     "text": [
      "potential next fragments: 43\n",
      "potential next fragments after thresholding of 0.8: 1 ['1.0']\n",
      "totalscore 1.0\n",
      "WARNING: defualt optimization passes will be enlarged to all fuse and elimination passes in the next version\n",
      "current depth: 2\n"
     ]
    },
    {
     "name": "stderr",
     "output_type": "stream",
     "text": [
      "100%|██████████| 5/5 [02:35<00:00, 31.04s/it]\n"
     ]
    },
    {
     "name": "stdout",
     "output_type": "stream",
     "text": [
      "potential next fragments: 43\n",
      "potential next fragments after thresholding of 0.8: 1 ['1.0']\n",
      "totalscore 1.0\n",
      "WARNING: defualt optimization passes will be enlarged to all fuse and elimination passes in the next version\n",
      "current depth: 3\n"
     ]
    },
    {
     "name": "stderr",
     "output_type": "stream",
     "text": [
      "100%|██████████| 5/5 [10:25<00:00, 125.14s/it]\n"
     ]
    },
    {
     "name": "stdout",
     "output_type": "stream",
     "text": [
      "potential next fragments: 43\n",
      "potential next fragments after thresholding of 0.8: 1 ['1.0']\n",
      "totalscore 1.0000001192092896\n",
      "WARNING: defualt optimization passes will be enlarged to all fuse and elimination passes in the next version\n",
      "current depth: 4\n"
     ]
    },
    {
     "name": "stderr",
     "output_type": "stream",
     "text": [
      "100%|██████████| 5/5 [00:10<00:00,  2.01s/it]\n"
     ]
    },
    {
     "name": "stdout",
     "output_type": "stream",
     "text": [
      "potential next fragments: 43\n",
      "potential next fragments after thresholding of 0.8: 4 ['1.0', '0.89', '0.85', '0.83']\n",
      "totalscore 0.9980711934651225\n",
      "WARNING: defualt optimization passes will be enlarged to all fuse and elimination passes in the next version\n"
     ]
    },
    {
     "name": "stderr",
     "output_type": "stream",
     "text": [
      "  0%|          | 0/2 [00:00<?, ?it/s]/opt/anaconda3/envs/stitchnet/lib/python3.10/site-packages/onnxruntime/capi/onnxruntime_inference_collection.py:54: UserWarning: Specified provider 'CUDAExecutionProvider' is not in available provider names.Available providers: 'CPUExecutionProvider'\n",
      "  warnings.warn(\n",
      "100%|██████████| 2/2 [00:05<00:00,  2.75s/it]\n"
     ]
    },
    {
     "name": "stdout",
     "output_type": "stream",
     "text": [
      "len(self.fragments) 1\n",
      "saving to _results/result_paper_128/net007_007\n",
      "totalscore 0.8912268747361622\n",
      "WARNING: defualt optimization passes will be enlarged to all fuse and elimination passes in the next version\n"
     ]
    },
    {
     "name": "stderr",
     "output_type": "stream",
     "text": [
      "  0%|          | 0/2 [00:00<?, ?it/s]/opt/anaconda3/envs/stitchnet/lib/python3.10/site-packages/onnxruntime/capi/onnxruntime_inference_collection.py:54: UserWarning: Specified provider 'CUDAExecutionProvider' is not in available provider names.Available providers: 'CPUExecutionProvider'\n",
      "  warnings.warn(\n",
      "100%|██████████| 2/2 [00:06<00:00,  3.24s/it]\n"
     ]
    },
    {
     "name": "stdout",
     "output_type": "stream",
     "text": [
      "len(self.fragments) 1\n",
      "saving to _results/result_paper_128/net008_008\n",
      "totalscore 0.8460736091224561\n",
      "WARNING: defualt optimization passes will be enlarged to all fuse and elimination passes in the next version\n"
     ]
    },
    {
     "name": "stderr",
     "output_type": "stream",
     "text": [
      "  0%|          | 0/2 [00:00<?, ?it/s]/opt/anaconda3/envs/stitchnet/lib/python3.10/site-packages/onnxruntime/capi/onnxruntime_inference_collection.py:54: UserWarning: Specified provider 'CUDAExecutionProvider' is not in available provider names.Available providers: 'CPUExecutionProvider'\n",
      "  warnings.warn(\n",
      "100%|██████████| 2/2 [00:04<00:00,  2.43s/it]\n"
     ]
    },
    {
     "name": "stdout",
     "output_type": "stream",
     "text": [
      "len(self.fragments) 1\n",
      "saving to _results/result_paper_128/net009_009\n",
      "totalscore 0.8332333365956828\n",
      "WARNING: defualt optimization passes will be enlarged to all fuse and elimination passes in the next version\n"
     ]
    },
    {
     "name": "stderr",
     "output_type": "stream",
     "text": [
      "  0%|          | 0/2 [00:00<?, ?it/s]/opt/anaconda3/envs/stitchnet/lib/python3.10/site-packages/onnxruntime/capi/onnxruntime_inference_collection.py:54: UserWarning: Specified provider 'CUDAExecutionProvider' is not in available provider names.Available providers: 'CPUExecutionProvider'\n",
      "  warnings.warn(\n",
      "100%|██████████| 2/2 [00:04<00:00,  2.07s/it]\n"
     ]
    },
    {
     "name": "stdout",
     "output_type": "stream",
     "text": [
      "len(self.fragments) 1\n",
      "saving to _results/result_paper_128/net010_010\n",
      "current depth: 1\n"
     ]
    },
    {
     "name": "stderr",
     "output_type": "stream",
     "text": [
      "100%|██████████| 5/5 [00:19<00:00,  3.95s/it]\n"
     ]
    },
    {
     "name": "stdout",
     "output_type": "stream",
     "text": [
      "potential next fragments: 43\n",
      "potential next fragments after thresholding of 0.8: 2 ['1.0', '0.96']\n",
      "totalscore 1.0000001192092896\n",
      "WARNING: defualt optimization passes will be enlarged to all fuse and elimination passes in the next version\n",
      "current depth: 2\n"
     ]
    },
    {
     "name": "stderr",
     "output_type": "stream",
     "text": [
      "100%|██████████| 5/5 [01:17<00:00, 15.56s/it]\n"
     ]
    },
    {
     "name": "stdout",
     "output_type": "stream",
     "text": [
      "potential next fragments: 43\n",
      "potential next fragments after thresholding of 0.8: 2 ['1.0', '0.89']\n",
      "totalscore 1.0000001192092896\n",
      "WARNING: defualt optimization passes will be enlarged to all fuse and elimination passes in the next version\n",
      "current depth: 3\n"
     ]
    },
    {
     "name": "stderr",
     "output_type": "stream",
     "text": [
      "100%|██████████| 5/5 [00:17<00:00,  3.50s/it]\n"
     ]
    },
    {
     "name": "stdout",
     "output_type": "stream",
     "text": [
      "potential next fragments: 43\n",
      "potential next fragments after thresholding of 0.8: 1 ['1.0']\n",
      "totalscore 1.0000001192092896\n",
      "WARNING: defualt optimization passes will be enlarged to all fuse and elimination passes in the next version\n",
      "current depth: 4\n"
     ]
    },
    {
     "name": "stderr",
     "output_type": "stream",
     "text": [
      "100%|██████████| 5/5 [00:11<00:00,  2.39s/it]\n"
     ]
    },
    {
     "name": "stdout",
     "output_type": "stream",
     "text": [
      "potential next fragments: 43\n",
      "potential next fragments after thresholding of 0.8: 1 ['1.0']\n",
      "totalscore 1.0000002384185933\n",
      "WARNING: defualt optimization passes will be enlarged to all fuse and elimination passes in the next version\n",
      "current depth: 5\n"
     ]
    },
    {
     "name": "stderr",
     "output_type": "stream",
     "text": [
      "100%|██████████| 5/5 [07:49<00:00, 93.90s/it] \n"
     ]
    },
    {
     "name": "stdout",
     "output_type": "stream",
     "text": [
      "potential next fragments: 43\n",
      "potential next fragments after thresholding of 0.8: 1 ['1.0']\n",
      "totalscore 1.0000002384185933\n",
      "WARNING: defualt optimization passes will be enlarged to all fuse and elimination passes in the next version\n",
      "current depth: 6\n"
     ]
    },
    {
     "name": "stderr",
     "output_type": "stream",
     "text": [
      "100%|██████████| 5/5 [00:13<00:00,  2.67s/it]\n"
     ]
    },
    {
     "name": "stdout",
     "output_type": "stream",
     "text": [
      "potential next fragments: 43\n",
      "potential next fragments after thresholding of 0.8: 1 ['1.0']\n",
      "totalscore 1.0000002384185933\n",
      "WARNING: defualt optimization passes will be enlarged to all fuse and elimination passes in the next version\n",
      "current depth: 7\n"
     ]
    },
    {
     "name": "stderr",
     "output_type": "stream",
     "text": [
      "100%|██████████| 5/5 [00:18<00:00,  3.64s/it]\n"
     ]
    },
    {
     "name": "stdout",
     "output_type": "stream",
     "text": [
      "potential next fragments: 43\n",
      "potential next fragments after thresholding of 0.8: 1 ['1.0']\n",
      "totalscore 1.0000002384185933\n",
      "WARNING: defualt optimization passes will be enlarged to all fuse and elimination passes in the next version\n",
      "current depth: 8\n"
     ]
    },
    {
     "name": "stderr",
     "output_type": "stream",
     "text": [
      "100%|██████████| 5/5 [11:04<00:00, 132.87s/it]\n"
     ]
    },
    {
     "name": "stdout",
     "output_type": "stream",
     "text": [
      "potential next fragments: 43\n",
      "potential next fragments after thresholding of 0.8: 1 ['1.0']\n",
      "totalscore 1.0000002384185933\n",
      "WARNING: defualt optimization passes will be enlarged to all fuse and elimination passes in the next version\n",
      "current depth: 9\n"
     ]
    },
    {
     "name": "stderr",
     "output_type": "stream",
     "text": [
      "100%|██████████| 5/5 [01:02<00:00, 12.46s/it]\n"
     ]
    },
    {
     "name": "stdout",
     "output_type": "stream",
     "text": [
      "potential next fragments: 5\n",
      "potential next fragments after thresholding of 0.8: 0 []\n",
      "totalscore 0.8915585150192271\n",
      "WARNING: defualt optimization passes will be enlarged to all fuse and elimination passes in the next version\n",
      "current depth: 3\n"
     ]
    },
    {
     "name": "stderr",
     "output_type": "stream",
     "text": [
      "100%|██████████| 5/5 [00:10<00:00,  2.17s/it]\n"
     ]
    },
    {
     "name": "stdout",
     "output_type": "stream",
     "text": [
      "potential next fragments: 43\n",
      "potential next fragments after thresholding of 0.8: 0 []\n",
      "totalscore 0.9553736448287964\n",
      "WARNING: defualt optimization passes will be enlarged to all fuse and elimination passes in the next version\n",
      "current depth: 2\n"
     ]
    },
    {
     "name": "stderr",
     "output_type": "stream",
     "text": [
      "100%|██████████| 5/5 [00:19<00:00,  3.91s/it]\n"
     ]
    },
    {
     "name": "stdout",
     "output_type": "stream",
     "text": [
      "potential next fragments: 43\n",
      "potential next fragments after thresholding of 0.8: 1 ['0.98']\n",
      "totalscore 0.9321798949444471\n",
      "WARNING: defualt optimization passes will be enlarged to all fuse and elimination passes in the next version\n",
      "current depth: 3\n"
     ]
    },
    {
     "name": "stderr",
     "output_type": "stream",
     "text": [
      "100%|██████████| 5/5 [00:12<00:00,  2.56s/it]\n"
     ]
    },
    {
     "name": "stdout",
     "output_type": "stream",
     "text": [
      "potential next fragments: 43\n",
      "potential next fragments after thresholding of 0.8: 1 ['0.95']\n",
      "totalscore 0.8869606121194156\n",
      "WARNING: defualt optimization passes will be enlarged to all fuse and elimination passes in the next version\n",
      "current depth: 4\n"
     ]
    },
    {
     "name": "stderr",
     "output_type": "stream",
     "text": [
      "100%|██████████| 5/5 [00:22<00:00,  4.51s/it]\n"
     ]
    },
    {
     "name": "stdout",
     "output_type": "stream",
     "text": [
      "potential next fragments: 43\n",
      "potential next fragments after thresholding of 0.8: 1 ['0.96']\n",
      "totalscore 0.855094674547934\n",
      "WARNING: defualt optimization passes will be enlarged to all fuse and elimination passes in the next version\n",
      "current depth: 5\n"
     ]
    },
    {
     "name": "stderr",
     "output_type": "stream",
     "text": [
      "100%|██████████| 5/5 [00:23<00:00,  4.62s/it]\n"
     ]
    },
    {
     "name": "stdout",
     "output_type": "stream",
     "text": [
      "potential next fragments: 43\n",
      "potential next fragments after thresholding of 0.8: 1 ['0.95']\n",
      "totalscore 0.8127254496617744\n",
      "WARNING: defualt optimization passes will be enlarged to all fuse and elimination passes in the next version\n",
      "current depth: 6\n"
     ]
    },
    {
     "name": "stderr",
     "output_type": "stream",
     "text": [
      "100%|██████████| 5/5 [00:25<00:00,  5.12s/it]\n"
     ]
    },
    {
     "name": "stdout",
     "output_type": "stream",
     "text": [
      "potential next fragments: 43\n",
      "potential next fragments after thresholding of 0.8: 1 ['0.95']\n",
      "totalscore 0.7694716894639978\n",
      "WARNING: defualt optimization passes will be enlarged to all fuse and elimination passes in the next version\n",
      "current depth: 7\n"
     ]
    },
    {
     "name": "stderr",
     "output_type": "stream",
     "text": [
      "100%|██████████| 5/5 [00:14<00:00,  2.95s/it]\n"
     ]
    },
    {
     "name": "stdout",
     "output_type": "stream",
     "text": [
      "potential next fragments: 43\n",
      "potential next fragments after thresholding of 0.8: 1 ['0.95']\n",
      "totalscore 0.7314210544256683\n",
      "WARNING: defualt optimization passes will be enlarged to all fuse and elimination passes in the next version\n",
      "current depth: 8\n"
     ]
    },
    {
     "name": "stderr",
     "output_type": "stream",
     "text": [
      "100%|██████████| 5/5 [00:54<00:00, 10.89s/it]\n"
     ]
    },
    {
     "name": "stdout",
     "output_type": "stream",
     "text": [
      "potential next fragments: 43\n",
      "potential next fragments after thresholding of 0.8: 1 ['0.97']\n",
      "totalscore 0.7067660692510448\n",
      "WARNING: defualt optimization passes will be enlarged to all fuse and elimination passes in the next version\n",
      "current depth: 9\n"
     ]
    },
    {
     "name": "stderr",
     "output_type": "stream",
     "text": [
      "100%|██████████| 5/5 [00:15<00:00,  3.09s/it]\n"
     ]
    },
    {
     "name": "stdout",
     "output_type": "stream",
     "text": [
      "potential next fragments: 5\n",
      "potential next fragments after thresholding of 0.8: 0 []\n",
      "current depth: 1\n"
     ]
    },
    {
     "name": "stderr",
     "output_type": "stream",
     "text": [
      "100%|██████████| 5/5 [00:15<00:00,  3.13s/it]\n"
     ]
    },
    {
     "name": "stdout",
     "output_type": "stream",
     "text": [
      "potential next fragments: 43\n",
      "potential next fragments after thresholding of 0.8: 1 ['1.0']\n",
      "totalscore 1.0000001192092896\n",
      "WARNING: defualt optimization passes will be enlarged to all fuse and elimination passes in the next version\n",
      "current depth: 2\n"
     ]
    },
    {
     "name": "stderr",
     "output_type": "stream",
     "text": [
      "100%|██████████| 5/5 [16:47<00:00, 201.47s/it]\n"
     ]
    },
    {
     "name": "stdout",
     "output_type": "stream",
     "text": [
      "potential next fragments: 43\n",
      "potential next fragments after thresholding of 0.8: 1 ['1.0']\n",
      "totalscore 1.0000002384185933\n",
      "WARNING: defualt optimization passes will be enlarged to all fuse and elimination passes in the next version\n",
      "current depth: 3\n"
     ]
    },
    {
     "name": "stderr",
     "output_type": "stream",
     "text": [
      "100%|██████████| 5/5 [22:30<00:00, 270.03s/it]\n"
     ]
    },
    {
     "name": "stdout",
     "output_type": "stream",
     "text": [
      "potential next fragments: 43\n",
      "potential next fragments after thresholding of 0.8: 1 ['1.0']\n",
      "totalscore 1.0000002384185933\n",
      "WARNING: defualt optimization passes will be enlarged to all fuse and elimination passes in the next version\n",
      "current depth: 4\n"
     ]
    },
    {
     "name": "stderr",
     "output_type": "stream",
     "text": [
      "100%|██████████| 5/5 [42:01<00:00, 504.25s/it]\n"
     ]
    },
    {
     "name": "stdout",
     "output_type": "stream",
     "text": [
      "potential next fragments: 43\n",
      "potential next fragments after thresholding of 0.8: 1 ['1.0']\n",
      "totalscore 1.0000002384185933\n",
      "WARNING: defualt optimization passes will be enlarged to all fuse and elimination passes in the next version\n",
      "current depth: 5\n"
     ]
    },
    {
     "name": "stderr",
     "output_type": "stream",
     "text": [
      "100%|██████████| 5/5 [00:13<00:00,  2.66s/it]\n"
     ]
    },
    {
     "name": "stdout",
     "output_type": "stream",
     "text": [
      "potential next fragments: 43\n",
      "potential next fragments after thresholding of 0.8: 4 ['0.98', '0.88', '0.84', '0.81']\n",
      "totalscore 0.9791959474553519\n",
      "WARNING: defualt optimization passes will be enlarged to all fuse and elimination passes in the next version\n"
     ]
    },
    {
     "name": "stderr",
     "output_type": "stream",
     "text": [
      "  0%|          | 0/2 [00:00<?, ?it/s]/opt/anaconda3/envs/stitchnet/lib/python3.10/site-packages/onnxruntime/capi/onnxruntime_inference_collection.py:54: UserWarning: Specified provider 'CUDAExecutionProvider' is not in available provider names.Available providers: 'CPUExecutionProvider'\n",
      "  warnings.warn(\n",
      "100%|██████████| 2/2 [00:09<00:00,  4.90s/it]\n"
     ]
    },
    {
     "name": "stdout",
     "output_type": "stream",
     "text": [
      "len(self.fragments) 1\n",
      "saving to _results/result_paper_128/net011_011\n",
      "totalscore 0.8834066113010534\n",
      "WARNING: defualt optimization passes will be enlarged to all fuse and elimination passes in the next version\n"
     ]
    },
    {
     "name": "stderr",
     "output_type": "stream",
     "text": [
      "  0%|          | 0/2 [00:00<?, ?it/s]/opt/anaconda3/envs/stitchnet/lib/python3.10/site-packages/onnxruntime/capi/onnxruntime_inference_collection.py:54: UserWarning: Specified provider 'CUDAExecutionProvider' is not in available provider names.Available providers: 'CPUExecutionProvider'\n",
      "  warnings.warn(\n",
      "100%|██████████| 2/2 [00:07<00:00,  3.56s/it]\n"
     ]
    },
    {
     "name": "stdout",
     "output_type": "stream",
     "text": [
      "len(self.fragments) 1\n",
      "saving to _results/result_paper_128/net012_012\n",
      "totalscore 0.8417951087462803\n",
      "WARNING: defualt optimization passes will be enlarged to all fuse and elimination passes in the next version\n"
     ]
    },
    {
     "name": "stderr",
     "output_type": "stream",
     "text": [
      "  0%|          | 0/2 [00:00<?, ?it/s]/opt/anaconda3/envs/stitchnet/lib/python3.10/site-packages/onnxruntime/capi/onnxruntime_inference_collection.py:54: UserWarning: Specified provider 'CUDAExecutionProvider' is not in available provider names.Available providers: 'CPUExecutionProvider'\n",
      "  warnings.warn(\n",
      "100%|██████████| 2/2 [00:14<00:00,  7.37s/it]\n"
     ]
    },
    {
     "name": "stdout",
     "output_type": "stream",
     "text": [
      "len(self.fragments) 1\n",
      "saving to _results/result_paper_128/net013_013\n",
      "totalscore 0.8083295365165214\n",
      "WARNING: defualt optimization passes will be enlarged to all fuse and elimination passes in the next version\n"
     ]
    },
    {
     "name": "stderr",
     "output_type": "stream",
     "text": [
      "  0%|          | 0/2 [00:00<?, ?it/s]/opt/anaconda3/envs/stitchnet/lib/python3.10/site-packages/onnxruntime/capi/onnxruntime_inference_collection.py:54: UserWarning: Specified provider 'CUDAExecutionProvider' is not in available provider names.Available providers: 'CPUExecutionProvider'\n",
      "  warnings.warn(\n",
      "100%|██████████| 2/2 [08:36<00:00, 258.28s/it]\n"
     ]
    },
    {
     "name": "stdout",
     "output_type": "stream",
     "text": [
      "len(self.fragments) 1\n",
      "saving to _results/result_paper_128/net014_014\n",
      "current depth: 1\n"
     ]
    },
    {
     "name": "stderr",
     "output_type": "stream",
     "text": [
      "100%|██████████| 5/5 [00:21<00:00,  4.25s/it]\n"
     ]
    },
    {
     "name": "stdout",
     "output_type": "stream",
     "text": [
      "potential next fragments: 43\n",
      "potential next fragments after thresholding of 0.8: 1 ['1.0']\n",
      "totalscore 0.9999998807907104\n",
      "WARNING: defualt optimization passes will be enlarged to all fuse and elimination passes in the next version\n",
      "current depth: 2\n"
     ]
    },
    {
     "name": "stderr",
     "output_type": "stream",
     "text": [
      "100%|██████████| 5/5 [03:28<00:00, 41.67s/it]\n"
     ]
    },
    {
     "name": "stdout",
     "output_type": "stream",
     "text": [
      "potential next fragments: 43\n",
      "potential next fragments after thresholding of 0.8: 1 ['1.0']\n",
      "totalscore 0.9999998807907104\n",
      "WARNING: defualt optimization passes will be enlarged to all fuse and elimination passes in the next version\n",
      "current depth: 3\n"
     ]
    },
    {
     "name": "stderr",
     "output_type": "stream",
     "text": [
      "100%|██████████| 5/5 [00:22<00:00,  4.43s/it]\n"
     ]
    },
    {
     "name": "stdout",
     "output_type": "stream",
     "text": [
      "potential next fragments: 43\n",
      "potential next fragments after thresholding of 0.8: 1 ['1.0']\n",
      "totalscore 0.9999998807907104\n",
      "WARNING: defualt optimization passes will be enlarged to all fuse and elimination passes in the next version\n",
      "current depth: 4\n"
     ]
    },
    {
     "name": "stderr",
     "output_type": "stream",
     "text": [
      "100%|██████████| 5/5 [17:33<00:00, 210.78s/it]\n"
     ]
    },
    {
     "name": "stdout",
     "output_type": "stream",
     "text": [
      "potential next fragments: 43\n",
      "potential next fragments after thresholding of 0.8: 1 ['1.0']\n",
      "totalscore 0.9999998807907104\n",
      "WARNING: defualt optimization passes will be enlarged to all fuse and elimination passes in the next version\n",
      "current depth: 5\n"
     ]
    },
    {
     "name": "stderr",
     "output_type": "stream",
     "text": [
      "100%|██████████| 5/5 [01:07<00:00, 13.46s/it]\n"
     ]
    },
    {
     "name": "stdout",
     "output_type": "stream",
     "text": [
      "potential next fragments: 43\n",
      "potential next fragments after thresholding of 0.8: 1 ['1.0']\n",
      "totalscore 0.9999997019767974\n",
      "WARNING: defualt optimization passes will be enlarged to all fuse and elimination passes in the next version\n",
      "current depth: 6\n"
     ]
    },
    {
     "name": "stderr",
     "output_type": "stream",
     "text": [
      "100%|██████████| 5/5 [01:25<00:00, 17.02s/it]\n"
     ]
    },
    {
     "name": "stdout",
     "output_type": "stream",
     "text": [
      "potential next fragments: 43\n",
      "potential next fragments after thresholding of 0.8: 1 ['1.0']\n",
      "totalscore 0.9999998211860515\n",
      "WARNING: defualt optimization passes will be enlarged to all fuse and elimination passes in the next version\n",
      "current depth: 7\n"
     ]
    },
    {
     "name": "stderr",
     "output_type": "stream",
     "text": [
      "100%|██████████| 5/5 [00:52<00:00, 10.58s/it]\n"
     ]
    },
    {
     "name": "stdout",
     "output_type": "stream",
     "text": [
      "potential next fragments: 43\n",
      "potential next fragments after thresholding of 0.8: 1 ['1.0']\n",
      "totalscore 0.9999997615814173\n",
      "WARNING: defualt optimization passes will be enlarged to all fuse and elimination passes in the next version\n",
      "current depth: 8\n"
     ]
    },
    {
     "name": "stderr",
     "output_type": "stream",
     "text": [
      "100%|██████████| 5/5 [21:47<00:00, 261.54s/it]\n"
     ]
    },
    {
     "name": "stdout",
     "output_type": "stream",
     "text": [
      "potential next fragments: 43\n",
      "potential next fragments after thresholding of 0.8: 1 ['1.0']\n",
      "totalscore 0.9999997615814173\n",
      "WARNING: defualt optimization passes will be enlarged to all fuse and elimination passes in the next version\n",
      "current depth: 9\n"
     ]
    },
    {
     "name": "stderr",
     "output_type": "stream",
     "text": [
      "100%|██████████| 5/5 [18:56<00:00, 227.32s/it]"
     ]
    },
    {
     "name": "stdout",
     "output_type": "stream",
     "text": [
      "potential next fragments: 5\n",
      "potential next fragments after thresholding of 0.8: 0 []\n"
     ]
    },
    {
     "name": "stderr",
     "output_type": "stream",
     "text": [
      "\n"
     ]
    }
   ],
   "source": [
    "from tqdm import tqdm\n",
    "\n",
    "scoreMapper = ScoreMapper(nets, data_score)\n",
    "with Report(EVAL_BATCH_SIZE, f'./_results/{RESULT_NAME}.txt', 'w') as report:\n",
    "    # for _ in tqdm(range(50)):\n",
    "    generator = generate_networks(nets, scoreMapper, data_score, \n",
    "                          threshold=THRESOULD, totalThreshold=TOTAL_THRESOULD, \n",
    "                          maxDepth=MAX_DEPTH, sample=False)\n",
    "    for i,(s,net) in enumerate(generator):\n",
    "        netname = f\"_results/{RESULT_NAME}/net{k:03}_{i:03}\"\n",
    "        report.evaluate(nets, net, netname, s, dataset_val)\n",
    "        net.save(netname)\n",
    "        k += 1"
   ]
  },
  {
   "cell_type": "code",
   "execution_count": null,
   "id": "23f5379f-6aaa-4d32-85aa-bd0a8a100cd0",
   "metadata": {},
   "outputs": [],
   "source": []
  }
 ],
 "metadata": {
  "kernelspec": {
   "display_name": "stitchnet",
   "language": "python",
   "name": "stitchnet"
  },
  "language_info": {
   "codemirror_mode": {
    "name": "ipython",
    "version": 3
   },
   "file_extension": ".py",
   "mimetype": "text/x-python",
   "name": "python",
   "nbconvert_exporter": "python",
   "pygments_lexer": "ipython3",
   "version": "3.10.4"
  }
 },
 "nbformat": 4,
 "nbformat_minor": 5
}
