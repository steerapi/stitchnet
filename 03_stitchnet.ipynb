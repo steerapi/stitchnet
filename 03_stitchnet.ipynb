{
 "cells": [
  {
   "cell_type": "code",
   "execution_count": 1,
   "id": "f02463b7-9fb2-4fc9-b3d4-963da1093a32",
   "metadata": {},
   "outputs": [],
   "source": [
    "%load_ext autoreload\n",
    "%autoreload 2"
   ]
  },
  {
   "cell_type": "code",
   "execution_count": 2,
   "id": "46146e10-04f2-4fa4-a001-24fdf1398844",
   "metadata": {
    "tags": []
   },
   "outputs": [
    {
     "name": "stderr",
     "output_type": "stream",
     "text": [
      "/home/jupyter-steerapi/.conda/envs/stitchnet/lib/python3.10/site-packages/tqdm/auto.py:22: TqdmWarning: IProgress not found. Please update jupyter and ipywidgets. See https://ipywidgets.readthedocs.io/en/stable/user_install.html\n",
      "  from .autonotebook import tqdm as notebook_tqdm\n"
     ]
    }
   ],
   "source": [
    "from skl2onnx.helpers.onnx_helper import load_onnx_model\n",
    "from stitchnet.stitchonnx.utils import Net\n",
    "from glob import glob\n",
    "from pathlib import Path\n",
    "\n",
    "netsFiles = sorted(glob('_models/fragments/net*'))\n",
    "nets = []\n",
    "for i,netsFile in enumerate(netsFiles):\n",
    "    fragmentFiles = sorted(glob(str(Path(netsFile)/'fragment*.onnx')))\n",
    "    onnxFragments = []\n",
    "    for fragmentFile in fragmentFiles:\n",
    "        onnxFragment = load_onnx_model(fragmentFile)\n",
    "        onnxFragments.append(onnxFragment)\n",
    "    net1 = Net(onnxFragments, i)\n",
    "    nets.append(net1)"
   ]
  },
  {
   "cell_type": "code",
   "execution_count": 3,
   "id": "6cd9e874-d12e-4744-8c34-f3ca6aa5e983",
   "metadata": {},
   "outputs": [],
   "source": [
    "# import torch\n",
    "# torch.ones(1,2).cuda()"
   ]
  },
  {
   "cell_type": "code",
   "execution_count": 4,
   "id": "991aecb8-aee4-4bc0-a464-0b308014566d",
   "metadata": {},
   "outputs": [],
   "source": [
    "from stitchnet.stitchonnx.utils import load_cats_and_dogs_dset,convert_imagenet_to_cat_dog_label\n",
    "from stitchnet.stitchonnx.utils import accuracy_score_model,accuracy_score_net,load_dl\n",
    "from stitchnet.stitchonnx.utils import generate_networks, ScoreMapper\n",
    "from stitchnet.stitchonnx.report import Report\n",
    "from stitchnet.stitchonnx.utils import evalulate_stitchnet\n",
    "\n",
    "from tqdm import tqdm\n",
    "import torch\n",
    "import numpy as np\n",
    "import os\n",
    "from collections import defaultdict\n",
    "import hashlib\n",
    "import random\n",
    "\n",
    "random.seed(51)\n",
    "np.random.seed(24)\n",
    "torch.manual_seed(77)\n",
    "\n",
    "STITCH_BATCH_SIZE = 32 # todo study the effect\n",
    "EVAL_BATCH_SIZE = 64\n",
    "MAX_DEPTH = 10\n",
    "THRESOULD = 0.9\n",
    "TOTAL_THRESOULD = 0.7\n",
    "\n",
    "RESULT_NAME = \"result_paper_32\"\n",
    "\n",
    "dataset_train = load_cats_and_dogs_dset(\"train\")\n",
    "dataset_val = load_cats_and_dogs_dset(\"test\")\n",
    "\n",
    "dl_score = load_dl(dataset_train, STITCH_BATCH_SIZE)\n",
    "data_score,t = next(iter(dl_score))\n",
    "data_score = data_score.numpy()"
   ]
  },
  {
   "cell_type": "code",
   "execution_count": 5,
   "id": "fb5e71f2-1d9c-416f-b0ab-b90f1ebc76ba",
   "metadata": {},
   "outputs": [],
   "source": [
    "# range(1)\n",
    "k = 0\n",
    "if os.path.exists(f'./_results/{RESULT_NAME}.txt'):\n",
    "    with open(f'./_results/{RESULT_NAME}.txt', 'r') as f:\n",
    "        k = len(f.read().split('\\n'))"
   ]
  },
  {
   "cell_type": "code",
   "execution_count": null,
   "id": "5ef687c5-6b30-4c10-8536-e0eb218da7f0",
   "metadata": {
    "tags": []
   },
   "outputs": [
    {
     "name": "stderr",
     "output_type": "stream",
     "text": [
      "/home/jupyter-steerapi/.conda/envs/stitchnet/lib/python3.10/site-packages/onnxruntime/capi/onnxruntime_inference_collection.py:54: UserWarning: Specified provider 'CUDAExecutionProvider' is not in available provider names.Available providers: 'CPUExecutionProvider'\n",
      "  warnings.warn(\n"
     ]
    },
    {
     "name": "stdout",
     "output_type": "stream",
     "text": [
      "current depth: 1\n"
     ]
    },
    {
     "name": "stderr",
     "output_type": "stream",
     "text": [
      "100%|██████████| 5/5 [00:13<00:00,  2.73s/it]\n"
     ]
    },
    {
     "name": "stdout",
     "output_type": "stream",
     "text": [
      "potential next fragments: 43\n",
      "potential next fragments after thresholding of 0.9: 1 ['1.0']\n",
      "totalscore 1.0\n",
      "epoch 0 loss 4.740804635007105e-10\n",
      "epoch 1 loss 6.009904279768357e-11\n",
      "epoch 2 loss 1.4016764924475861e-11\n",
      "epoch 3 loss 7.914613923091189e-12\n",
      "epoch 4 loss 6.083193219842852e-12\n",
      "epoch 5 loss 5.152082159770489e-12\n",
      "epoch 6 loss 4.53993493842612e-12\n",
      "epoch 7 loss 4.123908918969719e-12\n",
      "epoch 8 loss 3.84631859208276e-12\n",
      "epoch 9 loss 3.652837748786516e-12\n",
      "WARNING: defualt optimization passes will be enlarged to all fuse and elimination passes in the next version\n",
      "current depth: 2\n"
     ]
    },
    {
     "name": "stderr",
     "output_type": "stream",
     "text": [
      "100%|██████████| 5/5 [00:08<00:00,  1.74s/it]\n"
     ]
    },
    {
     "name": "stdout",
     "output_type": "stream",
     "text": [
      "potential next fragments: 43\n",
      "potential next fragments after thresholding of 0.9: 1 ['1.0']\n",
      "totalscore 0.9999999403953552\n",
      "epoch 0 loss 9.899698134230832e-09\n",
      "epoch 1 loss 5.33259485221407e-09\n",
      "epoch 2 loss 3.6250045069564777e-09\n",
      "epoch 3 loss 2.2535403549813935e-09\n",
      "epoch 4 loss 1.4972160368828684e-09\n",
      "epoch 5 loss 9.97648869499174e-10\n",
      "epoch 6 loss 6.783671218446059e-10\n",
      "epoch 7 loss 4.97422048324323e-10\n",
      "epoch 8 loss 3.811973905499817e-10\n",
      "epoch 9 loss 3.193907203145236e-10\n",
      "WARNING: defualt optimization passes will be enlarged to all fuse and elimination passes in the next version\n",
      "current depth: 3\n"
     ]
    },
    {
     "name": "stderr",
     "output_type": "stream",
     "text": [
      "100%|██████████| 5/5 [00:25<00:00,  5.16s/it]\n"
     ]
    },
    {
     "name": "stdout",
     "output_type": "stream",
     "text": [
      "potential next fragments: 43\n",
      "potential next fragments after thresholding of 0.9: 1 ['1.0']\n",
      "totalscore 1.0000001788139201\n",
      "epoch 0 loss 6.3196581590435655e-09\n",
      "epoch 1 loss 3.666244113032352e-09\n",
      "epoch 2 loss 2.5174365997458766e-09\n",
      "epoch 3 loss 1.7717664600415726e-09\n",
      "epoch 4 loss 1.2951593459773468e-09\n",
      "epoch 5 loss 9.90931549833514e-10\n",
      "epoch 6 loss 8.14984519055564e-10\n",
      "epoch 7 loss 6.969730512650367e-10\n",
      "epoch 8 loss 6.150228045449027e-10\n",
      "epoch 9 loss 5.63779965513056e-10\n",
      "WARNING: defualt optimization passes will be enlarged to all fuse and elimination passes in the next version\n",
      "current depth: 4\n"
     ]
    },
    {
     "name": "stderr",
     "output_type": "stream",
     "text": [
      "100%|██████████| 5/5 [00:12<00:00,  2.60s/it]\n"
     ]
    },
    {
     "name": "stdout",
     "output_type": "stream",
     "text": [
      "potential next fragments: 43\n",
      "potential next fragments after thresholding of 0.9: 1 ['1.0']\n",
      "totalscore 1.0000004172325418\n",
      "epoch 0 loss 2.9518433404368188e-09\n",
      "epoch 1 loss 1.9846056684952155e-09\n",
      "epoch 2 loss 1.5037735369879185e-09\n",
      "epoch 3 loss 1.0696876546927132e-09\n",
      "epoch 4 loss 8.085583852687317e-10\n",
      "epoch 5 loss 6.645151858098477e-10\n",
      "epoch 6 loss 5.826337229900512e-10\n",
      "epoch 7 loss 5.294035295614427e-10\n",
      "epoch 8 loss 4.892845418765496e-10\n",
      "epoch 9 loss 4.614155527088667e-10\n",
      "WARNING: defualt optimization passes will be enlarged to all fuse and elimination passes in the next version\n",
      "current depth: 5\n"
     ]
    },
    {
     "name": "stderr",
     "output_type": "stream",
     "text": [
      "100%|██████████| 5/5 [00:04<00:00,  1.25it/s]\n"
     ]
    },
    {
     "name": "stdout",
     "output_type": "stream",
     "text": [
      "potential next fragments: 43\n",
      "potential next fragments after thresholding of 0.9: 2 ['0.94', '0.9']\n",
      "totalscore 0.9445388085704656\n",
      "epoch 0 loss 0.0\n",
      "WARNING: defualt optimization passes will be enlarged to all fuse and elimination passes in the next version\n",
      "current depth: 6\n"
     ]
    },
    {
     "name": "stderr",
     "output_type": "stream",
     "text": [
      "100%|██████████| 5/5 [00:03<00:00,  1.26it/s]\n"
     ]
    },
    {
     "name": "stdout",
     "output_type": "stream",
     "text": [
      "potential next fragments: 43\n",
      "potential next fragments after thresholding of 0.9: 3 ['0.98', '0.92', '0.91']\n",
      "totalscore 0.9235952236181187\n",
      "epoch 0 loss 0.0\n",
      "WARNING: defualt optimization passes will be enlarged to all fuse and elimination passes in the next version\n",
      "current depth: 7\n"
     ]
    },
    {
     "name": "stderr",
     "output_type": "stream",
     "text": [
      "100%|██████████| 5/5 [00:04<00:00,  1.22it/s]\n"
     ]
    },
    {
     "name": "stdout",
     "output_type": "stream",
     "text": [
      "potential next fragments: 43\n",
      "potential next fragments after thresholding of 0.9: 2 ['0.93', '0.91']\n",
      "totalscore 0.8583600285795862\n",
      "epoch 0 loss 0.0\n",
      "WARNING: defualt optimization passes will be enlarged to all fuse and elimination passes in the next version\n"
     ]
    },
    {
     "name": "stderr",
     "output_type": "stream",
     "text": [
      "  0%|          | 0/80 [00:00<?, ?it/s]/home/jupyter-steerapi/.conda/envs/stitchnet/lib/python3.10/site-packages/onnxruntime/capi/onnxruntime_inference_collection.py:54: UserWarning: Specified provider 'CUDAExecutionProvider' is not in available provider names.Available providers: 'CPUExecutionProvider'\n",
      "  warnings.warn(\n",
      "100%|██████████| 80/80 [01:36<00:00,  1.20s/it]\n"
     ]
    },
    {
     "name": "stdout",
     "output_type": "stream",
     "text": [
      "len(self.fragments) 1\n",
      "saving to _results/result_paper_32/net002_000\n",
      "totalscore 0.8411592592743347\n",
      "epoch 0 loss 0.0\n",
      "WARNING: defualt optimization passes will be enlarged to all fuse and elimination passes in the next version\n",
      "current depth: 8\n"
     ]
    },
    {
     "name": "stderr",
     "output_type": "stream",
     "text": [
      "100%|██████████| 5/5 [00:04<00:00,  1.19it/s]\n"
     ]
    },
    {
     "name": "stdout",
     "output_type": "stream",
     "text": [
      "potential next fragments: 43\n",
      "potential next fragments after thresholding of 0.9: 2 ['0.92', '0.9']\n",
      "totalscore 0.7755337883304582\n",
      "epoch 0 loss 0.0\n",
      "WARNING: defualt optimization passes will be enlarged to all fuse and elimination passes in the next version\n"
     ]
    },
    {
     "name": "stderr",
     "output_type": "stream",
     "text": [
      "  0%|          | 0/80 [00:00<?, ?it/s]/home/jupyter-steerapi/.conda/envs/stitchnet/lib/python3.10/site-packages/onnxruntime/capi/onnxruntime_inference_collection.py:54: UserWarning: Specified provider 'CUDAExecutionProvider' is not in available provider names.Available providers: 'CPUExecutionProvider'\n",
      "  warnings.warn(\n",
      " 78%|███████▊  | 62/80 [01:26<00:25,  1.40s/it]"
     ]
    }
   ],
   "source": [
    "from tqdm import tqdm\n",
    "\n",
    "scoreMapper = ScoreMapper(nets, data_score)\n",
    "with Report(EVAL_BATCH_SIZE, f'./_results/{RESULT_NAME}.txt', 'w') as report:\n",
    "    # for _ in tqdm(range(50)):\n",
    "    generator = generate_networks(nets, scoreMapper, data_score, \n",
    "                          threshold=THRESOULD, totalThreshold=TOTAL_THRESOULD, \n",
    "                          maxDepth=MAX_DEPTH, sample=False)\n",
    "    for i,(s,net) in enumerate(generator):\n",
    "        netname = f\"_results/{RESULT_NAME}/net{k:03}_{i:03}\"\n",
    "        report.evaluate(nets, net, netname, s, dataset_val)\n",
    "        net.save(netname)\n",
    "        k += 1"
   ]
  },
  {
   "cell_type": "code",
   "execution_count": null,
   "id": "23f5379f-6aaa-4d32-85aa-bd0a8a100cd0",
   "metadata": {},
   "outputs": [],
   "source": []
  },
  {
   "cell_type": "code",
   "execution_count": null,
   "id": "8f0e38c8-add9-4b3d-8fe1-726c3c2b20c6",
   "metadata": {},
   "outputs": [],
   "source": []
  }
 ],
 "metadata": {
  "kernelspec": {
   "display_name": "stitchnet",
   "language": "python",
   "name": "stitchnet"
  },
  "language_info": {
   "codemirror_mode": {
    "name": "ipython",
    "version": 3
   },
   "file_extension": ".py",
   "mimetype": "text/x-python",
   "name": "python",
   "nbconvert_exporter": "python",
   "pygments_lexer": "ipython3",
   "version": "3.10.5"
  }
 },
 "nbformat": 4,
 "nbformat_minor": 5
}
