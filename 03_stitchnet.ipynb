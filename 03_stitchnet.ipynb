{
 "cells": [
  {
   "cell_type": "code",
   "execution_count": 1,
   "id": "f02463b7-9fb2-4fc9-b3d4-963da1093a32",
   "metadata": {},
   "outputs": [],
   "source": [
    "%load_ext autoreload\n",
    "%autoreload 2"
   ]
  },
  {
   "cell_type": "code",
   "execution_count": 2,
   "id": "46146e10-04f2-4fa4-a001-24fdf1398844",
   "metadata": {
    "tags": []
   },
   "outputs": [
    {
     "name": "stderr",
     "output_type": "stream",
     "text": [
      "/home/jupyter-steerapi/.conda/envs/stitchnet/lib/python3.10/site-packages/tqdm/auto.py:22: TqdmWarning: IProgress not found. Please update jupyter and ipywidgets. See https://ipywidgets.readthedocs.io/en/stable/user_install.html\n",
      "  from .autonotebook import tqdm as notebook_tqdm\n"
     ]
    }
   ],
   "source": [
    "from skl2onnx.helpers.onnx_helper import load_onnx_model\n",
    "from stitchnet.stitchonnx.utils import Net\n",
    "from glob import glob\n",
    "from pathlib import Path\n",
    "\n",
    "netsFiles = sorted(glob('_models/fragments/net*'))\n",
    "nets = []\n",
    "for i,netsFile in enumerate(netsFiles):\n",
    "    fragmentFiles = sorted(glob(str(Path(netsFile)/'fragment*.onnx')))\n",
    "    onnxFragments = []\n",
    "    for fragmentFile in fragmentFiles:\n",
    "        onnxFragment = load_onnx_model(fragmentFile)\n",
    "        onnxFragments.append(onnxFragment)\n",
    "    net1 = Net(onnxFragments, i)\n",
    "    nets.append(net1)"
   ]
  },
  {
   "cell_type": "code",
   "execution_count": 3,
   "id": "6cd9e874-d12e-4744-8c34-f3ca6aa5e983",
   "metadata": {},
   "outputs": [],
   "source": [
    "# import torch\n",
    "# torch.ones(1,2).cuda()"
   ]
  },
  {
   "cell_type": "code",
   "execution_count": 4,
   "id": "991aecb8-aee4-4bc0-a464-0b308014566d",
   "metadata": {},
   "outputs": [],
   "source": [
    "from stitchnet.stitchonnx.utils import load_cats_and_dogs_dset,convert_imagenet_to_cat_dog_label\n",
    "from stitchnet.stitchonnx.utils import accuracy_score_model,accuracy_score_net,load_dl\n",
    "from stitchnet.stitchonnx.utils import generate_networks, ScoreMapper\n",
    "from stitchnet.stitchonnx.report import Report\n",
    "from stitchnet.stitchonnx.utils import evalulate_stitchnet\n",
    "\n",
    "from tqdm import tqdm\n",
    "import torch\n",
    "import numpy as np\n",
    "import os\n",
    "from collections import defaultdict\n",
    "import hashlib\n",
    "import random\n",
    "import time\n",
    "\n",
    "random.seed(51)\n",
    "np.random.seed(24)\n",
    "torch.manual_seed(77)\n",
    "\n",
    "STITCH_BATCH_SIZE = 32 # todo study the effect\n",
    "MAX_DEPTH = 10\n",
    "THRESOULD = 0.7\n",
    "TOTAL_THRESOULD = 0.5\n",
    "\n",
    "RESULT_NAME = f\"{int(time.time())}_result_BS_{STITCH_BATCH_SIZE}_MD_{MAX_DEPTH}_T_{THRESOULD}_TT_{TOTAL_THRESOULD}\"\n",
    "\n",
    "EVAL_BATCH_SIZE = 64\n",
    "\n",
    "dataset_train = load_cats_and_dogs_dset(\"train\")\n",
    "dataset_val = load_cats_and_dogs_dset(\"test\")\n",
    "\n",
    "dl_score = load_dl(dataset_train, STITCH_BATCH_SIZE)\n",
    "data_score,t = next(iter(dl_score))\n",
    "data_score = data_score.numpy()"
   ]
  },
  {
   "cell_type": "code",
   "execution_count": 5,
   "id": "fb5e71f2-1d9c-416f-b0ab-b90f1ebc76ba",
   "metadata": {},
   "outputs": [],
   "source": [
    "# range(1)\n",
    "k = 0\n",
    "if os.path.exists(f'./_results/{RESULT_NAME}.txt'):\n",
    "    with open(f'./_results/{RESULT_NAME}.txt', 'r') as f:\n",
    "        k = len(f.read().split('\\n'))"
   ]
  },
  {
   "cell_type": "code",
   "execution_count": null,
   "id": "5ef687c5-6b30-4c10-8536-e0eb218da7f0",
   "metadata": {
    "tags": []
   },
   "outputs": [
    {
     "name": "stdout",
     "output_type": "stream",
     "text": [
      "current depth: 1\n",
      "potential next fragments: 43\n",
      "potential next fragments after thresholding of 0.7: 1 ['1.0']\n",
      "totalscore 1.0000001192092896\n",
      "current depth: 2\n",
      "potential next fragments: 43\n",
      "potential next fragments after thresholding of 0.7: 1 ['1.0']\n",
      "totalscore 1.0000001192092896\n",
      "current depth: 3\n",
      "potential next fragments: 43\n",
      "potential next fragments after thresholding of 0.7: 1 ['1.0']\n",
      "totalscore 1.0000001192092896\n",
      "current depth: 4\n",
      "potential next fragments: 43\n",
      "potential next fragments after thresholding of 0.7: 3 ['1.0', '0.7', '0.7']\n",
      "totalscore 1.0000001192092896\n",
      "current depth: 5\n",
      "potential next fragments: 43\n",
      "potential next fragments after thresholding of 0.7: 40 ['0.95', '0.88', '0.88', '0.86', '0.85', '0.84', '0.84', '0.84', '0.83', '0.82', '0.82', '0.82', '0.81', '0.8', '0.8', '0.79', '0.79', '0.79', '0.79', '0.79', '0.79', '0.79', '0.78', '0.78', '0.78', '0.78', '0.77', '0.77', '0.77', '0.76', '0.76', '0.76', '0.75', '0.75', '0.75', '0.74', '0.74', '0.71', '0.71', '0.71']\n",
      "totalscore 0.9490019618274985\n",
      "current depth: 6\n",
      "potential next fragments: 43\n",
      "potential next fragments after thresholding of 0.7: 30 ['0.97', '0.93', '0.89', '0.83', '0.78', '0.76', '0.76', '0.75', '0.75', '0.75', '0.74', '0.74', '0.74', '0.74', '0.74', '0.74', '0.73', '0.73', '0.73', '0.72', '0.72', '0.72', '0.72', '0.71', '0.71', '0.71', '0.71', '0.71', '0.7', '0.7']\n",
      "totalscore 0.9200438879524399\n",
      "current depth: 7\n",
      "potential next fragments: 43\n",
      "potential next fragments after thresholding of 0.7: 26 ['0.91', '0.9', '0.87', '0.85', '0.79', '0.79', '0.79', '0.78', '0.76', '0.75', '0.74', '0.74', '0.74', '0.73', '0.73', '0.73', '0.72', '0.72', '0.72', '0.71', '0.71', '0.71', '0.71', '0.71', '0.7', '0.7']\n",
      "totalscore 0.834959706317367\n",
      "current depth: 8\n",
      "potential next fragments: 43\n",
      "potential next fragments after thresholding of 0.7: 23 ['0.93', '0.92', '0.86', '0.81', '0.78', '0.77', '0.77', '0.77', '0.76', '0.76', '0.75', '0.75', '0.75', '0.75', '0.74', '0.73', '0.72', '0.72', '0.71', '0.71', '0.71', '0.71', '0.71']\n",
      "totalscore 0.7747860990806362\n",
      "current depth: 9\n",
      "potential next fragments: 5\n",
      "potential next fragments after thresholding of 0.7: 4 ['0.91', '0.85', '0.73', '0.7']\n",
      "totalscore 0.7075181952247916\n"
     ]
    },
    {
     "name": "stderr",
     "output_type": "stream",
     "text": [
      "100%|██████████| 80/80 [00:06<00:00, 12.74it/s]\n"
     ]
    },
    {
     "name": "stdout",
     "output_type": "stream",
     "text": [
      "accuracy 0.7581532416502947\n",
      "saving to _results/1660390414_result_BS_32_MD_10_T_0.7_TT_0.5/net000\n",
      "totalscore 0.6589146976100261\n"
     ]
    },
    {
     "name": "stderr",
     "output_type": "stream",
     "text": [
      "100%|██████████| 80/80 [00:06<00:00, 12.13it/s]\n"
     ]
    },
    {
     "name": "stdout",
     "output_type": "stream",
     "text": [
      "accuracy 0.7986247544204322\n",
      "saving to _results/1660390414_result_BS_32_MD_10_T_0.7_TT_0.5/net001\n",
      "totalscore 0.5622431693387102\n"
     ]
    },
    {
     "name": "stderr",
     "output_type": "stream",
     "text": [
      "100%|██████████| 80/80 [00:06<00:00, 12.16it/s]\n"
     ]
    },
    {
     "name": "stdout",
     "output_type": "stream",
     "text": [
      "accuracy 0.756385068762279\n",
      "saving to _results/1660390414_result_BS_32_MD_10_T_0.7_TT_0.5/net002\n",
      "totalscore 0.5455151723278963\n"
     ]
    },
    {
     "name": "stderr",
     "output_type": "stream",
     "text": [
      "100%|██████████| 80/80 [00:06<00:00, 12.07it/s]\n"
     ]
    },
    {
     "name": "stdout",
     "output_type": "stream",
     "text": [
      "accuracy 0.7667976424361493\n",
      "saving to _results/1660390414_result_BS_32_MD_10_T_0.7_TT_0.5/net003\n",
      "totalscore 0.7713653813373575\n"
     ]
    },
    {
     "name": "stderr",
     "output_type": "stream",
     "text": [
      "100%|██████████| 80/80 [00:06<00:00, 11.54it/s]\n"
     ]
    },
    {
     "name": "stdout",
     "output_type": "stream",
     "text": [
      "accuracy 0.7779960707269156\n",
      "saving to _results/1660390414_result_BS_32_MD_10_T_0.7_TT_0.5/net004\n",
      "totalscore 0.7215102143466067\n"
     ]
    },
    {
     "name": "stderr",
     "output_type": "stream",
     "text": [
      "100%|██████████| 80/80 [00:06<00:00, 12.43it/s]\n"
     ]
    },
    {
     "name": "stdout",
     "output_type": "stream",
     "text": [
      "accuracy 0.8131630648330059\n",
      "saving to _results/1660390414_result_BS_32_MD_10_T_0.7_TT_0.5/net005\n",
      "totalscore 0.6785741698735367\n",
      "current depth: 9\n",
      "potential next fragments: 5\n",
      "potential next fragments after thresholding of 0.7: 4 ['0.85', '0.83', '0.71', '0.71']\n",
      "totalscore 0.5786686458005174\n"
     ]
    },
    {
     "name": "stderr",
     "output_type": "stream",
     "text": [
      "100%|██████████| 80/80 [00:06<00:00, 12.02it/s]\n"
     ]
    },
    {
     "name": "stdout",
     "output_type": "stream",
     "text": [
      "accuracy 0.7601178781925344\n",
      "saving to _results/1660390414_result_BS_32_MD_10_T_0.7_TT_0.5/net006\n",
      "totalscore 0.5647749002445445\n"
     ]
    },
    {
     "name": "stderr",
     "output_type": "stream",
     "text": [
      "100%|██████████| 80/80 [00:06<00:00, 11.69it/s]\n"
     ]
    },
    {
     "name": "stdout",
     "output_type": "stream",
     "text": [
      "accuracy 0.7736738703339883\n",
      "saving to _results/1660390414_result_BS_32_MD_10_T_0.7_TT_0.5/net007\n",
      "totalscore 0.6478307590513719\n",
      "ERROR Input and output must have the same number of spatial dimensions, but got input with with spatial dimensions of [] and output size of (28, 28). Please provide input tensor in (N, C, d1, d2, ...,dK) format and output size in (o1, o2, ...,oK) format.\n",
      "totalscore 0.6446547977584881\n"
     ]
    },
    {
     "name": "stderr",
     "output_type": "stream",
     "text": [
      "Traceback (most recent call last):\n",
      "  File \"/home/jupyter-steerapi/stitchnet/stitchnet/stitchonnx/utils.py\", line 1063, in recursive_stitching\n",
      "    newcurr_fragment = stitch_fragments(curr, nextf, data)\n",
      "  File \"/home/jupyter-steerapi/stitchnet/stitchnet/stitchonnx/utils.py\", line 708, in stitch_fragments\n",
      "    nw = adjust_w(tX, tY, w)\n",
      "  File \"/home/jupyter-steerapi/stitchnet/stitchnet/stitchonnx/utils.py\", line 627, in adjust_w\n",
      "    return adjust_w_conv(tX, tY, w)\n",
      "  File \"/home/jupyter-steerapi/stitchnet/stitchnet/stitchonnx/utils.py\", line 599, in adjust_w_conv\n",
      "    tX = up(tX)\n",
      "  File \"/home/jupyter-steerapi/.conda/envs/stitchnet/lib/python3.10/site-packages/torch/nn/modules/module.py\", line 1130, in _call_impl\n",
      "    return forward_call(*input, **kwargs)\n",
      "  File \"/home/jupyter-steerapi/.conda/envs/stitchnet/lib/python3.10/site-packages/torch/nn/modules/upsampling.py\", line 153, in forward\n",
      "    return F.interpolate(input, self.size, self.scale_factor, self.mode, self.align_corners,\n",
      "  File \"/home/jupyter-steerapi/.conda/envs/stitchnet/lib/python3.10/site-packages/torch/nn/functional.py\", line 3854, in interpolate\n",
      "    raise ValueError(\n",
      "ValueError: Input and output must have the same number of spatial dimensions, but got input with with spatial dimensions of [] and output size of (28, 28). Please provide input tensor in (N, C, d1, d2, ...,dK) format and output size in (o1, o2, ...,oK) format.\n"
     ]
    },
    {
     "name": "stdout",
     "output_type": "stream",
     "text": [
      "ERROR Input and output must have the same number of spatial dimensions, but got input with with spatial dimensions of [] and output size of (28, 28). Please provide input tensor in (N, C, d1, d2, ...,dK) format and output size in (o1, o2, ...,oK) format.\n",
      "totalscore 0.6442623314372571\n"
     ]
    },
    {
     "name": "stderr",
     "output_type": "stream",
     "text": [
      "Traceback (most recent call last):\n",
      "  File \"/home/jupyter-steerapi/stitchnet/stitchnet/stitchonnx/utils.py\", line 1063, in recursive_stitching\n",
      "    newcurr_fragment = stitch_fragments(curr, nextf, data)\n",
      "  File \"/home/jupyter-steerapi/stitchnet/stitchnet/stitchonnx/utils.py\", line 708, in stitch_fragments\n",
      "    nw = adjust_w(tX, tY, w)\n",
      "  File \"/home/jupyter-steerapi/stitchnet/stitchnet/stitchonnx/utils.py\", line 627, in adjust_w\n",
      "    return adjust_w_conv(tX, tY, w)\n",
      "  File \"/home/jupyter-steerapi/stitchnet/stitchnet/stitchonnx/utils.py\", line 599, in adjust_w_conv\n",
      "    tX = up(tX)\n",
      "  File \"/home/jupyter-steerapi/.conda/envs/stitchnet/lib/python3.10/site-packages/torch/nn/modules/module.py\", line 1130, in _call_impl\n",
      "    return forward_call(*input, **kwargs)\n",
      "  File \"/home/jupyter-steerapi/.conda/envs/stitchnet/lib/python3.10/site-packages/torch/nn/modules/upsampling.py\", line 153, in forward\n",
      "    return F.interpolate(input, self.size, self.scale_factor, self.mode, self.align_corners,\n",
      "  File \"/home/jupyter-steerapi/.conda/envs/stitchnet/lib/python3.10/site-packages/torch/nn/functional.py\", line 3854, in interpolate\n",
      "    raise ValueError(\n",
      "ValueError: Input and output must have the same number of spatial dimensions, but got input with with spatial dimensions of [] and output size of (28, 28). Please provide input tensor in (N, C, d1, d2, ...,dK) format and output size in (o1, o2, ...,oK) format.\n"
     ]
    },
    {
     "name": "stdout",
     "output_type": "stream",
     "text": [
      "ERROR Input and output must have the same number of spatial dimensions, but got input with with spatial dimensions of [] and output size of (14, 14). Please provide input tensor in (N, C, d1, d2, ...,dK) format and output size in (o1, o2, ...,oK) format.\n",
      "totalscore 0.6413303800826179\n"
     ]
    },
    {
     "name": "stderr",
     "output_type": "stream",
     "text": [
      "Traceback (most recent call last):\n",
      "  File \"/home/jupyter-steerapi/stitchnet/stitchnet/stitchonnx/utils.py\", line 1063, in recursive_stitching\n",
      "    newcurr_fragment = stitch_fragments(curr, nextf, data)\n",
      "  File \"/home/jupyter-steerapi/stitchnet/stitchnet/stitchonnx/utils.py\", line 708, in stitch_fragments\n",
      "    nw = adjust_w(tX, tY, w)\n",
      "  File \"/home/jupyter-steerapi/stitchnet/stitchnet/stitchonnx/utils.py\", line 627, in adjust_w\n",
      "    return adjust_w_conv(tX, tY, w)\n",
      "  File \"/home/jupyter-steerapi/stitchnet/stitchnet/stitchonnx/utils.py\", line 599, in adjust_w_conv\n",
      "    tX = up(tX)\n",
      "  File \"/home/jupyter-steerapi/.conda/envs/stitchnet/lib/python3.10/site-packages/torch/nn/modules/module.py\", line 1130, in _call_impl\n",
      "    return forward_call(*input, **kwargs)\n",
      "  File \"/home/jupyter-steerapi/.conda/envs/stitchnet/lib/python3.10/site-packages/torch/nn/modules/upsampling.py\", line 153, in forward\n",
      "    return F.interpolate(input, self.size, self.scale_factor, self.mode, self.align_corners,\n",
      "  File \"/home/jupyter-steerapi/.conda/envs/stitchnet/lib/python3.10/site-packages/torch/nn/functional.py\", line 3854, in interpolate\n",
      "    raise ValueError(\n",
      "ValueError: Input and output must have the same number of spatial dimensions, but got input with with spatial dimensions of [] and output size of (14, 14). Please provide input tensor in (N, C, d1, d2, ...,dK) format and output size in (o1, o2, ...,oK) format.\n"
     ]
    },
    {
     "name": "stdout",
     "output_type": "stream",
     "text": [
      "current depth: 9\n",
      "potential next fragments: 5\n",
      "potential next fragments after thresholding of 0.7: 5 ['0.98', '0.87', '0.85', '0.83', '0.76']\n",
      "totalscore 0.6282177757650589\n"
     ]
    },
    {
     "name": "stderr",
     "output_type": "stream",
     "text": [
      "100%|██████████| 80/80 [00:06<00:00, 11.71it/s]\n"
     ]
    },
    {
     "name": "stdout",
     "output_type": "stream",
     "text": [
      "accuracy 0.7616895874263261\n",
      "saving to _results/1660390414_result_BS_32_MD_10_T_0.7_TT_0.5/net008\n",
      "totalscore 0.5575532673826773\n"
     ]
    },
    {
     "name": "stderr",
     "output_type": "stream",
     "text": [
      "100%|██████████| 80/80 [00:06<00:00, 11.75it/s]\n"
     ]
    },
    {
     "name": "stdout",
     "output_type": "stream",
     "text": [
      "accuracy 0.7371316306483301\n",
      "saving to _results/1660390414_result_BS_32_MD_10_T_0.7_TT_0.5/net009\n",
      "totalscore 0.5445596232157665\n"
     ]
    },
    {
     "name": "stderr",
     "output_type": "stream",
     "text": [
      "100%|██████████| 80/80 [00:06<00:00, 11.78it/s]\n"
     ]
    },
    {
     "name": "stdout",
     "output_type": "stream",
     "text": [
      "accuracy 0.8265225933202358\n",
      "saving to _results/1660390414_result_BS_32_MD_10_T_0.7_TT_0.5/net010\n",
      "totalscore 0.5320948777134984\n"
     ]
    },
    {
     "name": "stderr",
     "output_type": "stream",
     "text": [
      "100%|██████████| 80/80 [00:07<00:00, 11.17it/s]\n"
     ]
    },
    {
     "name": "stdout",
     "output_type": "stream",
     "text": [
      "accuracy 0.7646365422396857\n",
      "saving to _results/1660390414_result_BS_32_MD_10_T_0.7_TT_0.5/net011\n",
      "totalscore 0.6357725971225014\n"
     ]
    },
    {
     "name": "stderr",
     "output_type": "stream",
     "text": [
      "100%|██████████| 80/80 [00:06<00:00, 11.84it/s]\n"
     ]
    },
    {
     "name": "stdout",
     "output_type": "stream",
     "text": [
      "accuracy 0.7557956777996071\n",
      "saving to _results/1660390414_result_BS_32_MD_10_T_0.7_TT_0.5/net012\n",
      "totalscore 0.6326869140323458\n",
      "ERROR Input and output must have the same number of spatial dimensions, but got input with with spatial dimensions of [] and output size of (13, 13). Please provide input tensor in (N, C, d1, d2, ...,dK) format and output size in (o1, o2, ...,oK) format.\n",
      "totalscore 0.6300391349696454\n"
     ]
    },
    {
     "name": "stderr",
     "output_type": "stream",
     "text": [
      "Traceback (most recent call last):\n",
      "  File \"/home/jupyter-steerapi/stitchnet/stitchnet/stitchonnx/utils.py\", line 1063, in recursive_stitching\n",
      "    newcurr_fragment = stitch_fragments(curr, nextf, data)\n",
      "  File \"/home/jupyter-steerapi/stitchnet/stitchnet/stitchonnx/utils.py\", line 708, in stitch_fragments\n",
      "    nw = adjust_w(tX, tY, w)\n",
      "  File \"/home/jupyter-steerapi/stitchnet/stitchnet/stitchonnx/utils.py\", line 627, in adjust_w\n",
      "    return adjust_w_conv(tX, tY, w)\n",
      "  File \"/home/jupyter-steerapi/stitchnet/stitchnet/stitchonnx/utils.py\", line 599, in adjust_w_conv\n",
      "    tX = up(tX)\n",
      "  File \"/home/jupyter-steerapi/.conda/envs/stitchnet/lib/python3.10/site-packages/torch/nn/modules/module.py\", line 1130, in _call_impl\n",
      "    return forward_call(*input, **kwargs)\n",
      "  File \"/home/jupyter-steerapi/.conda/envs/stitchnet/lib/python3.10/site-packages/torch/nn/modules/upsampling.py\", line 153, in forward\n",
      "    return F.interpolate(input, self.size, self.scale_factor, self.mode, self.align_corners,\n",
      "  File \"/home/jupyter-steerapi/.conda/envs/stitchnet/lib/python3.10/site-packages/torch/nn/functional.py\", line 3854, in interpolate\n",
      "    raise ValueError(\n",
      "ValueError: Input and output must have the same number of spatial dimensions, but got input with with spatial dimensions of [] and output size of (13, 13). Please provide input tensor in (N, C, d1, d2, ...,dK) format and output size in (o1, o2, ...,oK) format.\n"
     ]
    },
    {
     "name": "stdout",
     "output_type": "stream",
     "text": [
      "ERROR Input and output must have the same number of spatial dimensions, but got input with with spatial dimensions of [] and output size of (56, 56). Please provide input tensor in (N, C, d1, d2, ...,dK) format and output size in (o1, o2, ...,oK) format.\n",
      "totalscore 0.6292418102254858\n"
     ]
    },
    {
     "name": "stderr",
     "output_type": "stream",
     "text": [
      "Traceback (most recent call last):\n",
      "  File \"/home/jupyter-steerapi/stitchnet/stitchnet/stitchonnx/utils.py\", line 1063, in recursive_stitching\n",
      "    newcurr_fragment = stitch_fragments(curr, nextf, data)\n",
      "  File \"/home/jupyter-steerapi/stitchnet/stitchnet/stitchonnx/utils.py\", line 708, in stitch_fragments\n",
      "    nw = adjust_w(tX, tY, w)\n",
      "  File \"/home/jupyter-steerapi/stitchnet/stitchnet/stitchonnx/utils.py\", line 627, in adjust_w\n",
      "    return adjust_w_conv(tX, tY, w)\n",
      "  File \"/home/jupyter-steerapi/stitchnet/stitchnet/stitchonnx/utils.py\", line 599, in adjust_w_conv\n",
      "    tX = up(tX)\n",
      "  File \"/home/jupyter-steerapi/.conda/envs/stitchnet/lib/python3.10/site-packages/torch/nn/modules/module.py\", line 1130, in _call_impl\n",
      "    return forward_call(*input, **kwargs)\n",
      "  File \"/home/jupyter-steerapi/.conda/envs/stitchnet/lib/python3.10/site-packages/torch/nn/modules/upsampling.py\", line 153, in forward\n",
      "    return F.interpolate(input, self.size, self.scale_factor, self.mode, self.align_corners,\n",
      "  File \"/home/jupyter-steerapi/.conda/envs/stitchnet/lib/python3.10/site-packages/torch/nn/functional.py\", line 3854, in interpolate\n",
      "    raise ValueError(\n",
      "ValueError: Input and output must have the same number of spatial dimensions, but got input with with spatial dimensions of [] and output size of (56, 56). Please provide input tensor in (N, C, d1, d2, ...,dK) format and output size in (o1, o2, ...,oK) format.\n"
     ]
    },
    {
     "name": "stdout",
     "output_type": "stream",
     "text": [
      "ERROR Input and output must have the same number of spatial dimensions, but got input with with spatial dimensions of [] and output size of (14, 14). Please provide input tensor in (N, C, d1, d2, ...,dK) format and output size in (o1, o2, ...,oK) format.\n",
      "totalscore 0.629166910173057\n"
     ]
    },
    {
     "name": "stderr",
     "output_type": "stream",
     "text": [
      "Traceback (most recent call last):\n",
      "  File \"/home/jupyter-steerapi/stitchnet/stitchnet/stitchonnx/utils.py\", line 1063, in recursive_stitching\n",
      "    newcurr_fragment = stitch_fragments(curr, nextf, data)\n",
      "  File \"/home/jupyter-steerapi/stitchnet/stitchnet/stitchonnx/utils.py\", line 708, in stitch_fragments\n",
      "    nw = adjust_w(tX, tY, w)\n",
      "  File \"/home/jupyter-steerapi/stitchnet/stitchnet/stitchonnx/utils.py\", line 627, in adjust_w\n",
      "    return adjust_w_conv(tX, tY, w)\n",
      "  File \"/home/jupyter-steerapi/stitchnet/stitchnet/stitchonnx/utils.py\", line 599, in adjust_w_conv\n",
      "    tX = up(tX)\n",
      "  File \"/home/jupyter-steerapi/.conda/envs/stitchnet/lib/python3.10/site-packages/torch/nn/modules/module.py\", line 1130, in _call_impl\n",
      "    return forward_call(*input, **kwargs)\n",
      "  File \"/home/jupyter-steerapi/.conda/envs/stitchnet/lib/python3.10/site-packages/torch/nn/modules/upsampling.py\", line 153, in forward\n",
      "    return F.interpolate(input, self.size, self.scale_factor, self.mode, self.align_corners,\n",
      "  File \"/home/jupyter-steerapi/.conda/envs/stitchnet/lib/python3.10/site-packages/torch/nn/functional.py\", line 3854, in interpolate\n",
      "    raise ValueError(\n",
      "ValueError: Input and output must have the same number of spatial dimensions, but got input with with spatial dimensions of [] and output size of (14, 14). Please provide input tensor in (N, C, d1, d2, ...,dK) format and output size in (o1, o2, ...,oK) format.\n"
     ]
    },
    {
     "name": "stdout",
     "output_type": "stream",
     "text": [
      "ERROR Input and output must have the same number of spatial dimensions, but got input with with spatial dimensions of [] and output size of (14, 14). Please provide input tensor in (N, C, d1, d2, ...,dK) format and output size in (o1, o2, ...,oK) format.\n",
      "totalscore 0.6276476086444568\n"
     ]
    },
    {
     "name": "stderr",
     "output_type": "stream",
     "text": [
      "Traceback (most recent call last):\n",
      "  File \"/home/jupyter-steerapi/stitchnet/stitchnet/stitchonnx/utils.py\", line 1063, in recursive_stitching\n",
      "    newcurr_fragment = stitch_fragments(curr, nextf, data)\n",
      "  File \"/home/jupyter-steerapi/stitchnet/stitchnet/stitchonnx/utils.py\", line 708, in stitch_fragments\n",
      "    nw = adjust_w(tX, tY, w)\n",
      "  File \"/home/jupyter-steerapi/stitchnet/stitchnet/stitchonnx/utils.py\", line 627, in adjust_w\n",
      "    return adjust_w_conv(tX, tY, w)\n",
      "  File \"/home/jupyter-steerapi/stitchnet/stitchnet/stitchonnx/utils.py\", line 599, in adjust_w_conv\n",
      "    tX = up(tX)\n",
      "  File \"/home/jupyter-steerapi/.conda/envs/stitchnet/lib/python3.10/site-packages/torch/nn/modules/module.py\", line 1130, in _call_impl\n",
      "    return forward_call(*input, **kwargs)\n",
      "  File \"/home/jupyter-steerapi/.conda/envs/stitchnet/lib/python3.10/site-packages/torch/nn/modules/upsampling.py\", line 153, in forward\n",
      "    return F.interpolate(input, self.size, self.scale_factor, self.mode, self.align_corners,\n",
      "  File \"/home/jupyter-steerapi/.conda/envs/stitchnet/lib/python3.10/site-packages/torch/nn/functional.py\", line 3854, in interpolate\n",
      "    raise ValueError(\n",
      "ValueError: Input and output must have the same number of spatial dimensions, but got input with with spatial dimensions of [] and output size of (14, 14). Please provide input tensor in (N, C, d1, d2, ...,dK) format and output size in (o1, o2, ...,oK) format.\n"
     ]
    },
    {
     "name": "stdout",
     "output_type": "stream",
     "text": [
      "ERROR Input and output must have the same number of spatial dimensions, but got input with with spatial dimensions of [] and output size of (13, 13). Please provide input tensor in (N, C, d1, d2, ...,dK) format and output size in (o1, o2, ...,oK) format.\n",
      "totalscore 0.6144235938064869\n"
     ]
    },
    {
     "name": "stderr",
     "output_type": "stream",
     "text": [
      "Traceback (most recent call last):\n",
      "  File \"/home/jupyter-steerapi/stitchnet/stitchnet/stitchonnx/utils.py\", line 1063, in recursive_stitching\n",
      "    newcurr_fragment = stitch_fragments(curr, nextf, data)\n",
      "  File \"/home/jupyter-steerapi/stitchnet/stitchnet/stitchonnx/utils.py\", line 708, in stitch_fragments\n",
      "    nw = adjust_w(tX, tY, w)\n",
      "  File \"/home/jupyter-steerapi/stitchnet/stitchnet/stitchonnx/utils.py\", line 627, in adjust_w\n",
      "    return adjust_w_conv(tX, tY, w)\n",
      "  File \"/home/jupyter-steerapi/stitchnet/stitchnet/stitchonnx/utils.py\", line 599, in adjust_w_conv\n",
      "    tX = up(tX)\n",
      "  File \"/home/jupyter-steerapi/.conda/envs/stitchnet/lib/python3.10/site-packages/torch/nn/modules/module.py\", line 1130, in _call_impl\n",
      "    return forward_call(*input, **kwargs)\n",
      "  File \"/home/jupyter-steerapi/.conda/envs/stitchnet/lib/python3.10/site-packages/torch/nn/modules/upsampling.py\", line 153, in forward\n",
      "    return F.interpolate(input, self.size, self.scale_factor, self.mode, self.align_corners,\n",
      "  File \"/home/jupyter-steerapi/.conda/envs/stitchnet/lib/python3.10/site-packages/torch/nn/functional.py\", line 3854, in interpolate\n",
      "    raise ValueError(\n",
      "ValueError: Input and output must have the same number of spatial dimensions, but got input with with spatial dimensions of [] and output size of (13, 13). Please provide input tensor in (N, C, d1, d2, ...,dK) format and output size in (o1, o2, ...,oK) format.\n"
     ]
    },
    {
     "name": "stdout",
     "output_type": "stream",
     "text": [
      "ERROR Input and output must have the same number of spatial dimensions, but got input with with spatial dimensions of [] and output size of (7, 7). Please provide input tensor in (N, C, d1, d2, ...,dK) format and output size in (o1, o2, ...,oK) format.\n",
      "totalscore 0.6097392798298763\n"
     ]
    },
    {
     "name": "stderr",
     "output_type": "stream",
     "text": [
      "Traceback (most recent call last):\n",
      "  File \"/home/jupyter-steerapi/stitchnet/stitchnet/stitchonnx/utils.py\", line 1063, in recursive_stitching\n",
      "    newcurr_fragment = stitch_fragments(curr, nextf, data)\n",
      "  File \"/home/jupyter-steerapi/stitchnet/stitchnet/stitchonnx/utils.py\", line 708, in stitch_fragments\n",
      "    nw = adjust_w(tX, tY, w)\n",
      "  File \"/home/jupyter-steerapi/stitchnet/stitchnet/stitchonnx/utils.py\", line 627, in adjust_w\n",
      "    return adjust_w_conv(tX, tY, w)\n",
      "  File \"/home/jupyter-steerapi/stitchnet/stitchnet/stitchonnx/utils.py\", line 599, in adjust_w_conv\n",
      "    tX = up(tX)\n",
      "  File \"/home/jupyter-steerapi/.conda/envs/stitchnet/lib/python3.10/site-packages/torch/nn/modules/module.py\", line 1130, in _call_impl\n",
      "    return forward_call(*input, **kwargs)\n",
      "  File \"/home/jupyter-steerapi/.conda/envs/stitchnet/lib/python3.10/site-packages/torch/nn/modules/upsampling.py\", line 153, in forward\n",
      "    return F.interpolate(input, self.size, self.scale_factor, self.mode, self.align_corners,\n",
      "  File \"/home/jupyter-steerapi/.conda/envs/stitchnet/lib/python3.10/site-packages/torch/nn/functional.py\", line 3854, in interpolate\n",
      "    raise ValueError(\n",
      "ValueError: Input and output must have the same number of spatial dimensions, but got input with with spatial dimensions of [] and output size of (7, 7). Please provide input tensor in (N, C, d1, d2, ...,dK) format and output size in (o1, o2, ...,oK) format.\n"
     ]
    },
    {
     "name": "stdout",
     "output_type": "stream",
     "text": [
      "ERROR Input and output must have the same number of spatial dimensions, but got input with with spatial dimensions of [] and output size of (14, 14). Please provide input tensor in (N, C, d1, d2, ...,dK) format and output size in (o1, o2, ...,oK) format.\n",
      "totalscore 0.6028568359425208\n"
     ]
    },
    {
     "name": "stderr",
     "output_type": "stream",
     "text": [
      "Traceback (most recent call last):\n",
      "  File \"/home/jupyter-steerapi/stitchnet/stitchnet/stitchonnx/utils.py\", line 1063, in recursive_stitching\n",
      "    newcurr_fragment = stitch_fragments(curr, nextf, data)\n",
      "  File \"/home/jupyter-steerapi/stitchnet/stitchnet/stitchonnx/utils.py\", line 708, in stitch_fragments\n",
      "    nw = adjust_w(tX, tY, w)\n",
      "  File \"/home/jupyter-steerapi/stitchnet/stitchnet/stitchonnx/utils.py\", line 627, in adjust_w\n",
      "    return adjust_w_conv(tX, tY, w)\n",
      "  File \"/home/jupyter-steerapi/stitchnet/stitchnet/stitchonnx/utils.py\", line 599, in adjust_w_conv\n",
      "    tX = up(tX)\n",
      "  File \"/home/jupyter-steerapi/.conda/envs/stitchnet/lib/python3.10/site-packages/torch/nn/modules/module.py\", line 1130, in _call_impl\n",
      "    return forward_call(*input, **kwargs)\n",
      "  File \"/home/jupyter-steerapi/.conda/envs/stitchnet/lib/python3.10/site-packages/torch/nn/modules/upsampling.py\", line 153, in forward\n",
      "    return F.interpolate(input, self.size, self.scale_factor, self.mode, self.align_corners,\n",
      "  File \"/home/jupyter-steerapi/.conda/envs/stitchnet/lib/python3.10/site-packages/torch/nn/functional.py\", line 3854, in interpolate\n",
      "    raise ValueError(\n",
      "ValueError: Input and output must have the same number of spatial dimensions, but got input with with spatial dimensions of [] and output size of (14, 14). Please provide input tensor in (N, C, d1, d2, ...,dK) format and output size in (o1, o2, ...,oK) format.\n"
     ]
    },
    {
     "name": "stdout",
     "output_type": "stream",
     "text": [
      "current depth: 9\n",
      "potential next fragments: 5\n",
      "potential next fragments after thresholding of 0.7: 5 ['1.0', '0.85', '0.84', '0.83', '0.83']\n",
      "totalscore 0.6025207898947299\n"
     ]
    },
    {
     "name": "stderr",
     "output_type": "stream",
     "text": [
      "100%|██████████| 80/80 [00:07<00:00, 11.12it/s]\n"
     ]
    },
    {
     "name": "stdout",
     "output_type": "stream",
     "text": [
      "accuracy 0.768172888015717\n",
      "saving to _results/1660390414_result_BS_32_MD_10_T_0.7_TT_0.5/net013\n",
      "totalscore 0.5124478006469855\n"
     ]
    },
    {
     "name": "stderr",
     "output_type": "stream",
     "text": [
      "100%|██████████| 80/80 [00:07<00:00, 10.62it/s]\n"
     ]
    },
    {
     "name": "stdout",
     "output_type": "stream",
     "text": [
      "accuracy 0.7864440078585462\n",
      "saving to _results/1660390414_result_BS_32_MD_10_T_0.7_TT_0.5/net014\n",
      "totalscore 0.5092620108104698\n"
     ]
    },
    {
     "name": "stderr",
     "output_type": "stream",
     "text": [
      "100%|██████████| 80/80 [00:07<00:00, 10.84it/s]\n"
     ]
    },
    {
     "name": "stdout",
     "output_type": "stream",
     "text": [
      "accuracy 0.7856581532416503\n",
      "saving to _results/1660390414_result_BS_32_MD_10_T_0.7_TT_0.5/net015\n",
      "totalscore 0.5014278115556078\n"
     ]
    },
    {
     "name": "stderr",
     "output_type": "stream",
     "text": [
      "100%|██████████| 80/80 [00:07<00:00, 10.84it/s]\n"
     ]
    },
    {
     "name": "stdout",
     "output_type": "stream",
     "text": [
      "accuracy 0.8100196463654225\n",
      "saving to _results/1660390414_result_BS_32_MD_10_T_0.7_TT_0.5/net016\n",
      "totalscore 0.6016121015828569\n",
      "ERROR Input and output must have the same number of spatial dimensions, but got input with with spatial dimensions of [] and output size of (56, 56). Please provide input tensor in (N, C, d1, d2, ...,dK) format and output size in (o1, o2, ...,oK) format.\n",
      "totalscore 0.5965272091863136\n"
     ]
    },
    {
     "name": "stderr",
     "output_type": "stream",
     "text": [
      "Traceback (most recent call last):\n",
      "  File \"/home/jupyter-steerapi/stitchnet/stitchnet/stitchonnx/utils.py\", line 1063, in recursive_stitching\n",
      "    newcurr_fragment = stitch_fragments(curr, nextf, data)\n",
      "  File \"/home/jupyter-steerapi/stitchnet/stitchnet/stitchonnx/utils.py\", line 708, in stitch_fragments\n",
      "    nw = adjust_w(tX, tY, w)\n",
      "  File \"/home/jupyter-steerapi/stitchnet/stitchnet/stitchonnx/utils.py\", line 627, in adjust_w\n",
      "    return adjust_w_conv(tX, tY, w)\n",
      "  File \"/home/jupyter-steerapi/stitchnet/stitchnet/stitchonnx/utils.py\", line 599, in adjust_w_conv\n",
      "    tX = up(tX)\n",
      "  File \"/home/jupyter-steerapi/.conda/envs/stitchnet/lib/python3.10/site-packages/torch/nn/modules/module.py\", line 1130, in _call_impl\n",
      "    return forward_call(*input, **kwargs)\n",
      "  File \"/home/jupyter-steerapi/.conda/envs/stitchnet/lib/python3.10/site-packages/torch/nn/modules/upsampling.py\", line 153, in forward\n",
      "    return F.interpolate(input, self.size, self.scale_factor, self.mode, self.align_corners,\n",
      "  File \"/home/jupyter-steerapi/.conda/envs/stitchnet/lib/python3.10/site-packages/torch/nn/functional.py\", line 3854, in interpolate\n",
      "    raise ValueError(\n",
      "ValueError: Input and output must have the same number of spatial dimensions, but got input with with spatial dimensions of [] and output size of (56, 56). Please provide input tensor in (N, C, d1, d2, ...,dK) format and output size in (o1, o2, ...,oK) format.\n"
     ]
    },
    {
     "name": "stdout",
     "output_type": "stream",
     "text": [
      "ERROR Input and output must have the same number of spatial dimensions, but got input with with spatial dimensions of [] and output size of (14, 14). Please provide input tensor in (N, C, d1, d2, ...,dK) format and output size in (o1, o2, ...,oK) format.\n",
      "totalscore 0.5942892652942114\n"
     ]
    },
    {
     "name": "stderr",
     "output_type": "stream",
     "text": [
      "Traceback (most recent call last):\n",
      "  File \"/home/jupyter-steerapi/stitchnet/stitchnet/stitchonnx/utils.py\", line 1063, in recursive_stitching\n",
      "    newcurr_fragment = stitch_fragments(curr, nextf, data)\n",
      "  File \"/home/jupyter-steerapi/stitchnet/stitchnet/stitchonnx/utils.py\", line 708, in stitch_fragments\n",
      "    nw = adjust_w(tX, tY, w)\n",
      "  File \"/home/jupyter-steerapi/stitchnet/stitchnet/stitchonnx/utils.py\", line 627, in adjust_w\n",
      "    return adjust_w_conv(tX, tY, w)\n",
      "  File \"/home/jupyter-steerapi/stitchnet/stitchnet/stitchonnx/utils.py\", line 599, in adjust_w_conv\n",
      "    tX = up(tX)\n",
      "  File \"/home/jupyter-steerapi/.conda/envs/stitchnet/lib/python3.10/site-packages/torch/nn/modules/module.py\", line 1130, in _call_impl\n",
      "    return forward_call(*input, **kwargs)\n",
      "  File \"/home/jupyter-steerapi/.conda/envs/stitchnet/lib/python3.10/site-packages/torch/nn/modules/upsampling.py\", line 153, in forward\n",
      "    return F.interpolate(input, self.size, self.scale_factor, self.mode, self.align_corners,\n",
      "  File \"/home/jupyter-steerapi/.conda/envs/stitchnet/lib/python3.10/site-packages/torch/nn/functional.py\", line 3854, in interpolate\n",
      "    raise ValueError(\n",
      "ValueError: Input and output must have the same number of spatial dimensions, but got input with with spatial dimensions of [] and output size of (14, 14). Please provide input tensor in (N, C, d1, d2, ...,dK) format and output size in (o1, o2, ...,oK) format.\n"
     ]
    },
    {
     "name": "stdout",
     "output_type": "stream",
     "text": [
      "ERROR Input and output must have the same number of spatial dimensions, but got input with with spatial dimensions of [] and output size of (14, 14). Please provide input tensor in (N, C, d1, d2, ...,dK) format and output size in (o1, o2, ...,oK) format.\n",
      "totalscore 0.5933513474283834\n"
     ]
    },
    {
     "name": "stderr",
     "output_type": "stream",
     "text": [
      "Traceback (most recent call last):\n",
      "  File \"/home/jupyter-steerapi/stitchnet/stitchnet/stitchonnx/utils.py\", line 1063, in recursive_stitching\n",
      "    newcurr_fragment = stitch_fragments(curr, nextf, data)\n",
      "  File \"/home/jupyter-steerapi/stitchnet/stitchnet/stitchonnx/utils.py\", line 708, in stitch_fragments\n",
      "    nw = adjust_w(tX, tY, w)\n",
      "  File \"/home/jupyter-steerapi/stitchnet/stitchnet/stitchonnx/utils.py\", line 627, in adjust_w\n",
      "    return adjust_w_conv(tX, tY, w)\n",
      "  File \"/home/jupyter-steerapi/stitchnet/stitchnet/stitchonnx/utils.py\", line 599, in adjust_w_conv\n",
      "    tX = up(tX)\n",
      "  File \"/home/jupyter-steerapi/.conda/envs/stitchnet/lib/python3.10/site-packages/torch/nn/modules/module.py\", line 1130, in _call_impl\n",
      "    return forward_call(*input, **kwargs)\n",
      "  File \"/home/jupyter-steerapi/.conda/envs/stitchnet/lib/python3.10/site-packages/torch/nn/modules/upsampling.py\", line 153, in forward\n",
      "    return F.interpolate(input, self.size, self.scale_factor, self.mode, self.align_corners,\n",
      "  File \"/home/jupyter-steerapi/.conda/envs/stitchnet/lib/python3.10/site-packages/torch/nn/functional.py\", line 3854, in interpolate\n",
      "    raise ValueError(\n",
      "ValueError: Input and output must have the same number of spatial dimensions, but got input with with spatial dimensions of [] and output size of (14, 14). Please provide input tensor in (N, C, d1, d2, ...,dK) format and output size in (o1, o2, ...,oK) format.\n"
     ]
    },
    {
     "name": "stdout",
     "output_type": "stream",
     "text": [
      "ERROR Input and output must have the same number of spatial dimensions, but got input with with spatial dimensions of [] and output size of (14, 14). Please provide input tensor in (N, C, d1, d2, ...,dK) format and output size in (o1, o2, ...,oK) format.\n",
      "totalscore 0.5914714805311146\n"
     ]
    },
    {
     "name": "stderr",
     "output_type": "stream",
     "text": [
      "Traceback (most recent call last):\n",
      "  File \"/home/jupyter-steerapi/stitchnet/stitchnet/stitchonnx/utils.py\", line 1063, in recursive_stitching\n",
      "    newcurr_fragment = stitch_fragments(curr, nextf, data)\n",
      "  File \"/home/jupyter-steerapi/stitchnet/stitchnet/stitchonnx/utils.py\", line 708, in stitch_fragments\n",
      "    nw = adjust_w(tX, tY, w)\n",
      "  File \"/home/jupyter-steerapi/stitchnet/stitchnet/stitchonnx/utils.py\", line 627, in adjust_w\n",
      "    return adjust_w_conv(tX, tY, w)\n",
      "  File \"/home/jupyter-steerapi/stitchnet/stitchnet/stitchonnx/utils.py\", line 599, in adjust_w_conv\n",
      "    tX = up(tX)\n",
      "  File \"/home/jupyter-steerapi/.conda/envs/stitchnet/lib/python3.10/site-packages/torch/nn/modules/module.py\", line 1130, in _call_impl\n",
      "    return forward_call(*input, **kwargs)\n",
      "  File \"/home/jupyter-steerapi/.conda/envs/stitchnet/lib/python3.10/site-packages/torch/nn/modules/upsampling.py\", line 153, in forward\n",
      "    return F.interpolate(input, self.size, self.scale_factor, self.mode, self.align_corners,\n",
      "  File \"/home/jupyter-steerapi/.conda/envs/stitchnet/lib/python3.10/site-packages/torch/nn/functional.py\", line 3854, in interpolate\n",
      "    raise ValueError(\n",
      "ValueError: Input and output must have the same number of spatial dimensions, but got input with with spatial dimensions of [] and output size of (14, 14). Please provide input tensor in (N, C, d1, d2, ...,dK) format and output size in (o1, o2, ...,oK) format.\n",
      "100%|██████████| 80/80 [00:07<00:00, 10.85it/s]\n"
     ]
    },
    {
     "name": "stdout",
     "output_type": "stream",
     "text": [
      "accuracy 0.7565815324165029\n",
      "saving to _results/1660390414_result_BS_32_MD_10_T_0.7_TT_0.5/net017\n",
      "totalscore 0.5887166018585627\n",
      "current depth: 9\n",
      "potential next fragments: 5\n",
      "potential next fragments after thresholding of 0.7: 5 ['0.92', '0.86', '0.83', '0.8', '0.8']\n",
      "totalscore 0.5422755763673155\n"
     ]
    },
    {
     "name": "stderr",
     "output_type": "stream",
     "text": [
      "100%|██████████| 80/80 [00:07<00:00, 10.66it/s]\n"
     ]
    },
    {
     "name": "stdout",
     "output_type": "stream",
     "text": [
      "accuracy 0.7434184675834971\n",
      "saving to _results/1660390414_result_BS_32_MD_10_T_0.7_TT_0.5/net018\n",
      "totalscore 0.504435625835785\n"
     ]
    },
    {
     "name": "stderr",
     "output_type": "stream",
     "text": [
      "100%|██████████| 80/80 [00:07<00:00, 10.45it/s]\n"
     ]
    },
    {
     "name": "stdout",
     "output_type": "stream",
     "text": [
      "accuracy 0.768958742632613\n",
      "saving to _results/1660390414_result_BS_32_MD_10_T_0.7_TT_0.5/net019\n",
      "totalscore 0.8268602217500215\n"
     ]
    },
    {
     "name": "stderr",
     "output_type": "stream",
     "text": [
      "100%|██████████| 80/80 [00:07<00:00, 11.29it/s]\n"
     ]
    },
    {
     "name": "stdout",
     "output_type": "stream",
     "text": [
      "accuracy 0.8102161100196463\n",
      "saving to _results/1660390414_result_BS_32_MD_10_T_0.7_TT_0.5/net020\n",
      "totalscore 0.8022709025800966\n"
     ]
    },
    {
     "name": "stderr",
     "output_type": "stream",
     "text": [
      "100%|██████████| 80/80 [00:07<00:00, 11.43it/s]\n"
     ]
    },
    {
     "name": "stdout",
     "output_type": "stream",
     "text": [
      "accuracy 0.8241650294695482\n",
      "saving to _results/1660390414_result_BS_32_MD_10_T_0.7_TT_0.5/net021\n",
      "totalscore 0.7799292101196103\n",
      "current depth: 8\n",
      "potential next fragments: 43\n",
      "potential next fragments after thresholding of 0.7: 35 ['0.98', '0.91', '0.91', '0.81', '0.8', '0.79', '0.77', '0.77', '0.77', '0.77', '0.76', '0.75', '0.75', '0.75', '0.73', '0.73', '0.73', '0.72', '0.72', '0.72', '0.72', '0.72', '0.72', '0.72', '0.71', '0.71', '0.71', '0.71', '0.71', '0.7', '0.7', '0.7', '0.7', '0.7', '0.7']\n",
      "totalscore 0.762162561267862\n",
      "current depth: 9\n",
      "potential next fragments: 5\n",
      "potential next fragments after thresholding of 0.7: 4 ['0.92', '0.84', '0.76', '0.75']\n",
      "totalscore 0.7045346005787358\n"
     ]
    },
    {
     "name": "stderr",
     "output_type": "stream",
     "text": [
      "100%|██████████| 80/80 [00:07<00:00, 11.40it/s]\n"
     ]
    },
    {
     "name": "stdout",
     "output_type": "stream",
     "text": [
      "accuracy 0.7840864440078585\n",
      "saving to _results/1660390414_result_BS_32_MD_10_T_0.7_TT_0.5/net022\n",
      "totalscore 0.636662620068873\n"
     ]
    },
    {
     "name": "stderr",
     "output_type": "stream",
     "text": [
      "100%|██████████| 80/80 [00:07<00:00, 11.12it/s]\n"
     ]
    },
    {
     "name": "stdout",
     "output_type": "stream",
     "text": [
      "accuracy 0.8121807465618861\n",
      "saving to _results/1660390414_result_BS_32_MD_10_T_0.7_TT_0.5/net023\n",
      "totalscore 0.5761104314226881\n"
     ]
    },
    {
     "name": "stderr",
     "output_type": "stream",
     "text": [
      "100%|██████████| 80/80 [00:07<00:00, 11.22it/s]\n"
     ]
    },
    {
     "name": "stdout",
     "output_type": "stream",
     "text": [
      "accuracy 0.7524557956777996\n",
      "saving to _results/1660390414_result_BS_32_MD_10_T_0.7_TT_0.5/net024\n",
      "totalscore 0.5744078647709149\n"
     ]
    },
    {
     "name": "stderr",
     "output_type": "stream",
     "text": [
      "100%|██████████| 80/80 [00:07<00:00, 11.24it/s]\n"
     ]
    },
    {
     "name": "stdout",
     "output_type": "stream",
     "text": [
      "accuracy 0.7548133595284873\n",
      "saving to _results/1660390414_result_BS_32_MD_10_T_0.7_TT_0.5/net025\n",
      "totalscore 0.7117967136731306\n",
      "current depth: 9\n",
      "potential next fragments: 5\n",
      "potential next fragments after thresholding of 0.7: 4 ['0.92', '0.82', '0.73', '0.71']\n",
      "totalscore 0.6577105331225771\n"
     ]
    },
    {
     "name": "stderr",
     "output_type": "stream",
     "text": [
      "100%|██████████| 80/80 [00:06<00:00, 11.62it/s]\n"
     ]
    },
    {
     "name": "stdout",
     "output_type": "stream",
     "text": [
      "accuracy 0.781335952848723\n",
      "saving to _results/1660390414_result_BS_32_MD_10_T_0.7_TT_0.5/net026\n",
      "totalscore 0.5810623800635366\n"
     ]
    },
    {
     "name": "stderr",
     "output_type": "stream",
     "text": [
      "100%|██████████| 80/80 [00:06<00:00, 11.46it/s]\n"
     ]
    },
    {
     "name": "stdout",
     "output_type": "stream",
     "text": [
      "accuracy 0.7787819253438114\n",
      "saving to _results/1660390414_result_BS_32_MD_10_T_0.7_TT_0.5/net027\n",
      "totalscore 0.519196514755421\n"
     ]
    },
    {
     "name": "stderr",
     "output_type": "stream",
     "text": [
      "100%|██████████| 80/80 [00:07<00:00, 11.26it/s]\n"
     ]
    },
    {
     "name": "stdout",
     "output_type": "stream",
     "text": [
      "accuracy 0.7449901768172889\n",
      "saving to _results/1660390414_result_BS_32_MD_10_T_0.7_TT_0.5/net028\n",
      "totalscore 0.5082779559400655\n"
     ]
    },
    {
     "name": "stderr",
     "output_type": "stream",
     "text": [
      "100%|██████████| 80/80 [00:07<00:00, 10.93it/s]\n"
     ]
    },
    {
     "name": "stdout",
     "output_type": "stream",
     "text": [
      "accuracy 0.7579567779960708\n",
      "saving to _results/1660390414_result_BS_32_MD_10_T_0.7_TT_0.5/net029\n",
      "totalscore 0.7109021565672119\n"
     ]
    },
    {
     "name": "stderr",
     "output_type": "stream",
     "text": [
      "100%|██████████| 80/80 [00:07<00:00, 10.58it/s]\n"
     ]
    },
    {
     "name": "stdout",
     "output_type": "stream",
     "text": [
      "accuracy 0.7925343811394892\n",
      "saving to _results/1660390414_result_BS_32_MD_10_T_0.7_TT_0.5/net030\n",
      "totalscore 0.6347371016666618\n"
     ]
    },
    {
     "name": "stderr",
     "output_type": "stream",
     "text": [
      "100%|██████████| 80/80 [00:07<00:00, 10.99it/s]\n"
     ]
    },
    {
     "name": "stdout",
     "output_type": "stream",
     "text": [
      "accuracy 0.7962671905697446\n",
      "saving to _results/1660390414_result_BS_32_MD_10_T_0.7_TT_0.5/net031\n",
      "totalscore 0.6237653306376907\n",
      "ERROR Input and output must have the same number of spatial dimensions, but got input with with spatial dimensions of [] and output size of (14, 14). Please provide input tensor in (N, C, d1, d2, ...,dK) format and output size in (o1, o2, ...,oK) format.\n",
      "totalscore 0.6181515117887204\n"
     ]
    },
    {
     "name": "stderr",
     "output_type": "stream",
     "text": [
      "Traceback (most recent call last):\n",
      "  File \"/home/jupyter-steerapi/stitchnet/stitchnet/stitchonnx/utils.py\", line 1063, in recursive_stitching\n",
      "    newcurr_fragment = stitch_fragments(curr, nextf, data)\n",
      "  File \"/home/jupyter-steerapi/stitchnet/stitchnet/stitchonnx/utils.py\", line 708, in stitch_fragments\n",
      "    nw = adjust_w(tX, tY, w)\n",
      "  File \"/home/jupyter-steerapi/stitchnet/stitchnet/stitchonnx/utils.py\", line 627, in adjust_w\n",
      "    return adjust_w_conv(tX, tY, w)\n",
      "  File \"/home/jupyter-steerapi/stitchnet/stitchnet/stitchonnx/utils.py\", line 599, in adjust_w_conv\n",
      "    tX = up(tX)\n",
      "  File \"/home/jupyter-steerapi/.conda/envs/stitchnet/lib/python3.10/site-packages/torch/nn/modules/module.py\", line 1130, in _call_impl\n",
      "    return forward_call(*input, **kwargs)\n",
      "  File \"/home/jupyter-steerapi/.conda/envs/stitchnet/lib/python3.10/site-packages/torch/nn/modules/upsampling.py\", line 153, in forward\n",
      "    return F.interpolate(input, self.size, self.scale_factor, self.mode, self.align_corners,\n",
      "  File \"/home/jupyter-steerapi/.conda/envs/stitchnet/lib/python3.10/site-packages/torch/nn/functional.py\", line 3854, in interpolate\n",
      "    raise ValueError(\n",
      "ValueError: Input and output must have the same number of spatial dimensions, but got input with with spatial dimensions of [] and output size of (14, 14). Please provide input tensor in (N, C, d1, d2, ...,dK) format and output size in (o1, o2, ...,oK) format.\n"
     ]
    },
    {
     "name": "stdout",
     "output_type": "stream",
     "text": [
      "current depth: 9\n",
      "potential next fragments: 5\n",
      "potential next fragments after thresholding of 0.7: 5 ['1.0', '0.87', '0.84', '0.84', '0.82']\n",
      "totalscore 0.6176492079762037\n"
     ]
    },
    {
     "name": "stderr",
     "output_type": "stream",
     "text": [
      "100%|██████████| 80/80 [00:07<00:00, 10.78it/s]\n"
     ]
    },
    {
     "name": "stdout",
     "output_type": "stream",
     "text": [
      "accuracy 0.7603143418467584\n",
      "saving to _results/1660390414_result_BS_32_MD_10_T_0.7_TT_0.5/net032\n",
      "totalscore 0.5392364620961538\n"
     ]
    },
    {
     "name": "stderr",
     "output_type": "stream",
     "text": [
      "100%|██████████| 80/80 [00:07<00:00, 10.78it/s]\n"
     ]
    },
    {
     "name": "stdout",
     "output_type": "stream",
     "text": [
      "accuracy 0.7850687622789784\n",
      "saving to _results/1660390414_result_BS_32_MD_10_T_0.7_TT_0.5/net033\n",
      "totalscore 0.5217366290879721\n"
     ]
    },
    {
     "name": "stderr",
     "output_type": "stream",
     "text": [
      "100%|██████████| 80/80 [00:07<00:00, 10.65it/s]\n"
     ]
    },
    {
     "name": "stdout",
     "output_type": "stream",
     "text": [
      "accuracy 0.7866404715127702\n",
      "saving to _results/1660390414_result_BS_32_MD_10_T_0.7_TT_0.5/net034\n",
      "totalscore 0.5180650546056655\n"
     ]
    },
    {
     "name": "stderr",
     "output_type": "stream",
     "text": [
      "100%|██████████| 80/80 [00:07<00:00, 10.77it/s]\n"
     ]
    },
    {
     "name": "stdout",
     "output_type": "stream",
     "text": [
      "accuracy 0.7893909626719057\n",
      "saving to _results/1660390414_result_BS_32_MD_10_T_0.7_TT_0.5/net035\n",
      "totalscore 0.5076692116061046\n"
     ]
    },
    {
     "name": "stderr",
     "output_type": "stream",
     "text": [
      "100%|██████████| 80/80 [00:07<00:00, 10.66it/s]\n"
     ]
    },
    {
     "name": "stdout",
     "output_type": "stream",
     "text": [
      "accuracy 0.8100196463654225\n",
      "saving to _results/1660390414_result_BS_32_MD_10_T_0.7_TT_0.5/net036\n",
      "totalscore 0.6038475236754981\n",
      "current depth: 9\n",
      "potential next fragments: 5\n",
      "potential next fragments after thresholding of 0.7: 5 ['0.97', '0.87', '0.86', '0.84', '0.75']\n",
      "totalscore 0.5853679829922714\n"
     ]
    },
    {
     "name": "stderr",
     "output_type": "stream",
     "text": [
      "100%|██████████| 80/80 [00:07<00:00, 10.64it/s]\n"
     ]
    },
    {
     "name": "stdout",
     "output_type": "stream",
     "text": [
      "accuracy 0.7530451866404715\n",
      "saving to _results/1660390414_result_BS_32_MD_10_T_0.7_TT_0.5/net037\n",
      "totalscore 0.5236711235972744\n"
     ]
    },
    {
     "name": "stderr",
     "output_type": "stream",
     "text": [
      "100%|██████████| 80/80 [00:07<00:00, 11.27it/s]\n"
     ]
    },
    {
     "name": "stdout",
     "output_type": "stream",
     "text": [
      "accuracy 0.8263261296660118\n",
      "saving to _results/1660390414_result_BS_32_MD_10_T_0.7_TT_0.5/net038\n",
      "totalscore 0.5221223108121971\n"
     ]
    },
    {
     "name": "stderr",
     "output_type": "stream",
     "text": [
      "100%|██████████| 80/80 [00:07<00:00, 11.20it/s]\n"
     ]
    },
    {
     "name": "stdout",
     "output_type": "stream",
     "text": [
      "accuracy 0.7559921414538311\n",
      "saving to _results/1660390414_result_BS_32_MD_10_T_0.7_TT_0.5/net039\n",
      "totalscore 0.5050254073091791\n"
     ]
    },
    {
     "name": "stderr",
     "output_type": "stream",
     "text": [
      "100%|██████████| 80/80 [00:06<00:00, 11.75it/s]\n"
     ]
    },
    {
     "name": "stdout",
     "output_type": "stream",
     "text": [
      "accuracy 0.7744597249508841\n",
      "saving to _results/1660390414_result_BS_32_MD_10_T_0.7_TT_0.5/net040\n",
      "totalscore 0.6000279791401558\n",
      "ERROR Input and output must have the same number of spatial dimensions, but got input with with spatial dimensions of [] and output size of (14, 14). Please provide input tensor in (N, C, d1, d2, ...,dK) format and output size in (o1, o2, ...,oK) format.\n",
      "totalscore 0.5981637877716351\n"
     ]
    },
    {
     "name": "stderr",
     "output_type": "stream",
     "text": [
      "Traceback (most recent call last):\n",
      "  File \"/home/jupyter-steerapi/stitchnet/stitchnet/stitchonnx/utils.py\", line 1063, in recursive_stitching\n",
      "    newcurr_fragment = stitch_fragments(curr, nextf, data)\n",
      "  File \"/home/jupyter-steerapi/stitchnet/stitchnet/stitchonnx/utils.py\", line 708, in stitch_fragments\n",
      "    nw = adjust_w(tX, tY, w)\n",
      "  File \"/home/jupyter-steerapi/stitchnet/stitchnet/stitchonnx/utils.py\", line 627, in adjust_w\n",
      "    return adjust_w_conv(tX, tY, w)\n",
      "  File \"/home/jupyter-steerapi/stitchnet/stitchnet/stitchonnx/utils.py\", line 599, in adjust_w_conv\n",
      "    tX = up(tX)\n",
      "  File \"/home/jupyter-steerapi/.conda/envs/stitchnet/lib/python3.10/site-packages/torch/nn/modules/module.py\", line 1130, in _call_impl\n",
      "    return forward_call(*input, **kwargs)\n",
      "  File \"/home/jupyter-steerapi/.conda/envs/stitchnet/lib/python3.10/site-packages/torch/nn/modules/upsampling.py\", line 153, in forward\n",
      "    return F.interpolate(input, self.size, self.scale_factor, self.mode, self.align_corners,\n",
      "  File \"/home/jupyter-steerapi/.conda/envs/stitchnet/lib/python3.10/site-packages/torch/nn/functional.py\", line 3854, in interpolate\n",
      "    raise ValueError(\n",
      "ValueError: Input and output must have the same number of spatial dimensions, but got input with with spatial dimensions of [] and output size of (14, 14). Please provide input tensor in (N, C, d1, d2, ...,dK) format and output size in (o1, o2, ...,oK) format.\n"
     ]
    },
    {
     "name": "stdout",
     "output_type": "stream",
     "text": [
      "ERROR Input and output must have the same number of spatial dimensions, but got input with with spatial dimensions of [] and output size of (7, 7). Please provide input tensor in (N, C, d1, d2, ...,dK) format and output size in (o1, o2, ...,oK) format.\n",
      "totalscore 0.5975151025429292\n"
     ]
    },
    {
     "name": "stderr",
     "output_type": "stream",
     "text": [
      "Traceback (most recent call last):\n",
      "  File \"/home/jupyter-steerapi/stitchnet/stitchnet/stitchonnx/utils.py\", line 1063, in recursive_stitching\n",
      "    newcurr_fragment = stitch_fragments(curr, nextf, data)\n",
      "  File \"/home/jupyter-steerapi/stitchnet/stitchnet/stitchonnx/utils.py\", line 708, in stitch_fragments\n",
      "    nw = adjust_w(tX, tY, w)\n",
      "  File \"/home/jupyter-steerapi/stitchnet/stitchnet/stitchonnx/utils.py\", line 627, in adjust_w\n",
      "    return adjust_w_conv(tX, tY, w)\n",
      "  File \"/home/jupyter-steerapi/stitchnet/stitchnet/stitchonnx/utils.py\", line 599, in adjust_w_conv\n",
      "    tX = up(tX)\n",
      "  File \"/home/jupyter-steerapi/.conda/envs/stitchnet/lib/python3.10/site-packages/torch/nn/modules/module.py\", line 1130, in _call_impl\n",
      "    return forward_call(*input, **kwargs)\n",
      "  File \"/home/jupyter-steerapi/.conda/envs/stitchnet/lib/python3.10/site-packages/torch/nn/modules/upsampling.py\", line 153, in forward\n",
      "    return F.interpolate(input, self.size, self.scale_factor, self.mode, self.align_corners,\n",
      "  File \"/home/jupyter-steerapi/.conda/envs/stitchnet/lib/python3.10/site-packages/torch/nn/functional.py\", line 3854, in interpolate\n",
      "    raise ValueError(\n",
      "ValueError: Input and output must have the same number of spatial dimensions, but got input with with spatial dimensions of [] and output size of (7, 7). Please provide input tensor in (N, C, d1, d2, ...,dK) format and output size in (o1, o2, ...,oK) format.\n"
     ]
    },
    {
     "name": "stdout",
     "output_type": "stream",
     "text": [
      "ERROR Input and output must have the same number of spatial dimensions, but got input with with spatial dimensions of [] and output size of (13, 13). Please provide input tensor in (N, C, d1, d2, ...,dK) format and output size in (o1, o2, ...,oK) format.\n",
      "totalscore 0.5933169645933271\n"
     ]
    },
    {
     "name": "stderr",
     "output_type": "stream",
     "text": [
      "Traceback (most recent call last):\n",
      "  File \"/home/jupyter-steerapi/stitchnet/stitchnet/stitchonnx/utils.py\", line 1063, in recursive_stitching\n",
      "    newcurr_fragment = stitch_fragments(curr, nextf, data)\n",
      "  File \"/home/jupyter-steerapi/stitchnet/stitchnet/stitchonnx/utils.py\", line 708, in stitch_fragments\n",
      "    nw = adjust_w(tX, tY, w)\n",
      "  File \"/home/jupyter-steerapi/stitchnet/stitchnet/stitchonnx/utils.py\", line 627, in adjust_w\n",
      "    return adjust_w_conv(tX, tY, w)\n",
      "  File \"/home/jupyter-steerapi/stitchnet/stitchnet/stitchonnx/utils.py\", line 599, in adjust_w_conv\n",
      "    tX = up(tX)\n",
      "  File \"/home/jupyter-steerapi/.conda/envs/stitchnet/lib/python3.10/site-packages/torch/nn/modules/module.py\", line 1130, in _call_impl\n",
      "    return forward_call(*input, **kwargs)\n",
      "  File \"/home/jupyter-steerapi/.conda/envs/stitchnet/lib/python3.10/site-packages/torch/nn/modules/upsampling.py\", line 153, in forward\n",
      "    return F.interpolate(input, self.size, self.scale_factor, self.mode, self.align_corners,\n",
      "  File \"/home/jupyter-steerapi/.conda/envs/stitchnet/lib/python3.10/site-packages/torch/nn/functional.py\", line 3854, in interpolate\n",
      "    raise ValueError(\n",
      "ValueError: Input and output must have the same number of spatial dimensions, but got input with with spatial dimensions of [] and output size of (13, 13). Please provide input tensor in (N, C, d1, d2, ...,dK) format and output size in (o1, o2, ...,oK) format.\n"
     ]
    },
    {
     "name": "stdout",
     "output_type": "stream",
     "text": [
      "ERROR Input and output must have the same number of spatial dimensions, but got input with with spatial dimensions of [] and output size of (14, 14). Please provide input tensor in (N, C, d1, d2, ...,dK) format and output size in (o1, o2, ...,oK) format.\n",
      "totalscore 0.5881983295666428\n"
     ]
    },
    {
     "name": "stderr",
     "output_type": "stream",
     "text": [
      "Traceback (most recent call last):\n",
      "  File \"/home/jupyter-steerapi/stitchnet/stitchnet/stitchonnx/utils.py\", line 1063, in recursive_stitching\n",
      "    newcurr_fragment = stitch_fragments(curr, nextf, data)\n",
      "  File \"/home/jupyter-steerapi/stitchnet/stitchnet/stitchonnx/utils.py\", line 708, in stitch_fragments\n",
      "    nw = adjust_w(tX, tY, w)\n",
      "  File \"/home/jupyter-steerapi/stitchnet/stitchnet/stitchonnx/utils.py\", line 627, in adjust_w\n",
      "    return adjust_w_conv(tX, tY, w)\n",
      "  File \"/home/jupyter-steerapi/stitchnet/stitchnet/stitchonnx/utils.py\", line 599, in adjust_w_conv\n",
      "    tX = up(tX)\n",
      "  File \"/home/jupyter-steerapi/.conda/envs/stitchnet/lib/python3.10/site-packages/torch/nn/modules/module.py\", line 1130, in _call_impl\n",
      "    return forward_call(*input, **kwargs)\n",
      "  File \"/home/jupyter-steerapi/.conda/envs/stitchnet/lib/python3.10/site-packages/torch/nn/modules/upsampling.py\", line 153, in forward\n",
      "    return F.interpolate(input, self.size, self.scale_factor, self.mode, self.align_corners,\n",
      "  File \"/home/jupyter-steerapi/.conda/envs/stitchnet/lib/python3.10/site-packages/torch/nn/functional.py\", line 3854, in interpolate\n",
      "    raise ValueError(\n",
      "ValueError: Input and output must have the same number of spatial dimensions, but got input with with spatial dimensions of [] and output size of (14, 14). Please provide input tensor in (N, C, d1, d2, ...,dK) format and output size in (o1, o2, ...,oK) format.\n"
     ]
    },
    {
     "name": "stdout",
     "output_type": "stream",
     "text": [
      "current depth: 9\n",
      "potential next fragments: 5\n",
      "potential next fragments after thresholding of 0.7: 5 ['0.95', '0.86', '0.81', '0.81', '0.77']\n",
      "totalscore 0.555908630862805\n"
     ]
    },
    {
     "name": "stderr",
     "output_type": "stream",
     "text": [
      "100%|██████████| 80/80 [00:07<00:00, 11.08it/s]\n"
     ]
    },
    {
     "name": "stdout",
     "output_type": "stream",
     "text": [
      "accuracy 0.7379174852652259\n",
      "saving to _results/1660390414_result_BS_32_MD_10_T_0.7_TT_0.5/net041\n",
      "totalscore 0.504065244434643\n"
     ]
    },
    {
     "name": "stderr",
     "output_type": "stream",
     "text": [
      "100%|██████████| 80/80 [00:07<00:00, 10.61it/s]\n"
     ]
    },
    {
     "name": "stdout",
     "output_type": "stream",
     "text": [
      "accuracy 0.7795677799607073\n",
      "saving to _results/1660390414_result_BS_32_MD_10_T_0.7_TT_0.5/net042\n",
      "totalscore 0.5836540464104372\n",
      "ERROR Input and output must have the same number of spatial dimensions, but got input with with spatial dimensions of [] and output size of (28, 28). Please provide input tensor in (N, C, d1, d2, ...,dK) format and output size in (o1, o2, ...,oK) format.\n",
      "totalscore 0.5816035335286118\n"
     ]
    },
    {
     "name": "stderr",
     "output_type": "stream",
     "text": [
      "Traceback (most recent call last):\n",
      "  File \"/home/jupyter-steerapi/stitchnet/stitchnet/stitchonnx/utils.py\", line 1063, in recursive_stitching\n",
      "    newcurr_fragment = stitch_fragments(curr, nextf, data)\n",
      "  File \"/home/jupyter-steerapi/stitchnet/stitchnet/stitchonnx/utils.py\", line 708, in stitch_fragments\n",
      "    nw = adjust_w(tX, tY, w)\n",
      "  File \"/home/jupyter-steerapi/stitchnet/stitchnet/stitchonnx/utils.py\", line 627, in adjust_w\n",
      "    return adjust_w_conv(tX, tY, w)\n",
      "  File \"/home/jupyter-steerapi/stitchnet/stitchnet/stitchonnx/utils.py\", line 599, in adjust_w_conv\n",
      "    tX = up(tX)\n",
      "  File \"/home/jupyter-steerapi/.conda/envs/stitchnet/lib/python3.10/site-packages/torch/nn/modules/module.py\", line 1130, in _call_impl\n",
      "    return forward_call(*input, **kwargs)\n",
      "  File \"/home/jupyter-steerapi/.conda/envs/stitchnet/lib/python3.10/site-packages/torch/nn/modules/upsampling.py\", line 153, in forward\n",
      "    return F.interpolate(input, self.size, self.scale_factor, self.mode, self.align_corners,\n",
      "  File \"/home/jupyter-steerapi/.conda/envs/stitchnet/lib/python3.10/site-packages/torch/nn/functional.py\", line 3854, in interpolate\n",
      "    raise ValueError(\n",
      "ValueError: Input and output must have the same number of spatial dimensions, but got input with with spatial dimensions of [] and output size of (28, 28). Please provide input tensor in (N, C, d1, d2, ...,dK) format and output size in (o1, o2, ...,oK) format.\n"
     ]
    },
    {
     "name": "stdout",
     "output_type": "stream",
     "text": [
      "ERROR Input and output must have the same number of spatial dimensions, but got input with with spatial dimensions of [] and output size of (112, 112). Please provide input tensor in (N, C, d1, d2, ...,dK) format and output size in (o1, o2, ...,oK) format.\n",
      "totalscore 0.568856036660017\n"
     ]
    },
    {
     "name": "stderr",
     "output_type": "stream",
     "text": [
      "Traceback (most recent call last):\n",
      "  File \"/home/jupyter-steerapi/stitchnet/stitchnet/stitchonnx/utils.py\", line 1063, in recursive_stitching\n",
      "    newcurr_fragment = stitch_fragments(curr, nextf, data)\n",
      "  File \"/home/jupyter-steerapi/stitchnet/stitchnet/stitchonnx/utils.py\", line 708, in stitch_fragments\n",
      "    nw = adjust_w(tX, tY, w)\n",
      "  File \"/home/jupyter-steerapi/stitchnet/stitchnet/stitchonnx/utils.py\", line 627, in adjust_w\n",
      "    return adjust_w_conv(tX, tY, w)\n",
      "  File \"/home/jupyter-steerapi/stitchnet/stitchnet/stitchonnx/utils.py\", line 599, in adjust_w_conv\n",
      "    tX = up(tX)\n",
      "  File \"/home/jupyter-steerapi/.conda/envs/stitchnet/lib/python3.10/site-packages/torch/nn/modules/module.py\", line 1130, in _call_impl\n",
      "    return forward_call(*input, **kwargs)\n",
      "  File \"/home/jupyter-steerapi/.conda/envs/stitchnet/lib/python3.10/site-packages/torch/nn/modules/upsampling.py\", line 153, in forward\n",
      "    return F.interpolate(input, self.size, self.scale_factor, self.mode, self.align_corners,\n",
      "  File \"/home/jupyter-steerapi/.conda/envs/stitchnet/lib/python3.10/site-packages/torch/nn/functional.py\", line 3854, in interpolate\n",
      "    raise ValueError(\n",
      "ValueError: Input and output must have the same number of spatial dimensions, but got input with with spatial dimensions of [] and output size of (112, 112). Please provide input tensor in (N, C, d1, d2, ...,dK) format and output size in (o1, o2, ...,oK) format.\n"
     ]
    },
    {
     "name": "stdout",
     "output_type": "stream",
     "text": [
      "ERROR Input and output must have the same number of spatial dimensions, but got input with with spatial dimensions of [] and output size of (28, 28). Please provide input tensor in (N, C, d1, d2, ...,dK) format and output size in (o1, o2, ...,oK) format.\n",
      "totalscore 0.5687558098180298\n"
     ]
    },
    {
     "name": "stderr",
     "output_type": "stream",
     "text": [
      "Traceback (most recent call last):\n",
      "  File \"/home/jupyter-steerapi/stitchnet/stitchnet/stitchonnx/utils.py\", line 1063, in recursive_stitching\n",
      "    newcurr_fragment = stitch_fragments(curr, nextf, data)\n",
      "  File \"/home/jupyter-steerapi/stitchnet/stitchnet/stitchonnx/utils.py\", line 708, in stitch_fragments\n",
      "    nw = adjust_w(tX, tY, w)\n",
      "  File \"/home/jupyter-steerapi/stitchnet/stitchnet/stitchonnx/utils.py\", line 627, in adjust_w\n",
      "    return adjust_w_conv(tX, tY, w)\n",
      "  File \"/home/jupyter-steerapi/stitchnet/stitchnet/stitchonnx/utils.py\", line 599, in adjust_w_conv\n",
      "    tX = up(tX)\n",
      "  File \"/home/jupyter-steerapi/.conda/envs/stitchnet/lib/python3.10/site-packages/torch/nn/modules/module.py\", line 1130, in _call_impl\n",
      "    return forward_call(*input, **kwargs)\n",
      "  File \"/home/jupyter-steerapi/.conda/envs/stitchnet/lib/python3.10/site-packages/torch/nn/modules/upsampling.py\", line 153, in forward\n",
      "    return F.interpolate(input, self.size, self.scale_factor, self.mode, self.align_corners,\n",
      "  File \"/home/jupyter-steerapi/.conda/envs/stitchnet/lib/python3.10/site-packages/torch/nn/functional.py\", line 3854, in interpolate\n",
      "    raise ValueError(\n",
      "ValueError: Input and output must have the same number of spatial dimensions, but got input with with spatial dimensions of [] and output size of (28, 28). Please provide input tensor in (N, C, d1, d2, ...,dK) format and output size in (o1, o2, ...,oK) format.\n"
     ]
    },
    {
     "name": "stdout",
     "output_type": "stream",
     "text": [
      "ERROR Input and output must have the same number of spatial dimensions, but got input with with spatial dimensions of [] and output size of (56, 56). Please provide input tensor in (N, C, d1, d2, ...,dK) format and output size in (o1, o2, ...,oK) format.\n",
      "totalscore 0.568193823596887\n"
     ]
    },
    {
     "name": "stderr",
     "output_type": "stream",
     "text": [
      "Traceback (most recent call last):\n",
      "  File \"/home/jupyter-steerapi/stitchnet/stitchnet/stitchonnx/utils.py\", line 1063, in recursive_stitching\n",
      "    newcurr_fragment = stitch_fragments(curr, nextf, data)\n",
      "  File \"/home/jupyter-steerapi/stitchnet/stitchnet/stitchonnx/utils.py\", line 708, in stitch_fragments\n",
      "    nw = adjust_w(tX, tY, w)\n",
      "  File \"/home/jupyter-steerapi/stitchnet/stitchnet/stitchonnx/utils.py\", line 627, in adjust_w\n",
      "    return adjust_w_conv(tX, tY, w)\n",
      "  File \"/home/jupyter-steerapi/stitchnet/stitchnet/stitchonnx/utils.py\", line 599, in adjust_w_conv\n",
      "    tX = up(tX)\n",
      "  File \"/home/jupyter-steerapi/.conda/envs/stitchnet/lib/python3.10/site-packages/torch/nn/modules/module.py\", line 1130, in _call_impl\n",
      "    return forward_call(*input, **kwargs)\n",
      "  File \"/home/jupyter-steerapi/.conda/envs/stitchnet/lib/python3.10/site-packages/torch/nn/modules/upsampling.py\", line 153, in forward\n",
      "    return F.interpolate(input, self.size, self.scale_factor, self.mode, self.align_corners,\n",
      "  File \"/home/jupyter-steerapi/.conda/envs/stitchnet/lib/python3.10/site-packages/torch/nn/functional.py\", line 3854, in interpolate\n",
      "    raise ValueError(\n",
      "ValueError: Input and output must have the same number of spatial dimensions, but got input with with spatial dimensions of [] and output size of (56, 56). Please provide input tensor in (N, C, d1, d2, ...,dK) format and output size in (o1, o2, ...,oK) format.\n"
     ]
    },
    {
     "name": "stdout",
     "output_type": "stream",
     "text": [
      "ERROR Input and output must have the same number of spatial dimensions, but got input with with spatial dimensions of [] and output size of (56, 56). Please provide input tensor in (N, C, d1, d2, ...,dK) format and output size in (o1, o2, ...,oK) format.\n",
      "totalscore 0.56268255596008\n"
     ]
    },
    {
     "name": "stderr",
     "output_type": "stream",
     "text": [
      "Traceback (most recent call last):\n",
      "  File \"/home/jupyter-steerapi/stitchnet/stitchnet/stitchonnx/utils.py\", line 1063, in recursive_stitching\n",
      "    newcurr_fragment = stitch_fragments(curr, nextf, data)\n",
      "  File \"/home/jupyter-steerapi/stitchnet/stitchnet/stitchonnx/utils.py\", line 708, in stitch_fragments\n",
      "    nw = adjust_w(tX, tY, w)\n",
      "  File \"/home/jupyter-steerapi/stitchnet/stitchnet/stitchonnx/utils.py\", line 627, in adjust_w\n",
      "    return adjust_w_conv(tX, tY, w)\n",
      "  File \"/home/jupyter-steerapi/stitchnet/stitchnet/stitchonnx/utils.py\", line 599, in adjust_w_conv\n",
      "    tX = up(tX)\n",
      "  File \"/home/jupyter-steerapi/.conda/envs/stitchnet/lib/python3.10/site-packages/torch/nn/modules/module.py\", line 1130, in _call_impl\n",
      "    return forward_call(*input, **kwargs)\n",
      "  File \"/home/jupyter-steerapi/.conda/envs/stitchnet/lib/python3.10/site-packages/torch/nn/modules/upsampling.py\", line 153, in forward\n",
      "    return F.interpolate(input, self.size, self.scale_factor, self.mode, self.align_corners,\n",
      "  File \"/home/jupyter-steerapi/.conda/envs/stitchnet/lib/python3.10/site-packages/torch/nn/functional.py\", line 3854, in interpolate\n",
      "    raise ValueError(\n",
      "ValueError: Input and output must have the same number of spatial dimensions, but got input with with spatial dimensions of [] and output size of (56, 56). Please provide input tensor in (N, C, d1, d2, ...,dK) format and output size in (o1, o2, ...,oK) format.\n"
     ]
    },
    {
     "name": "stdout",
     "output_type": "stream",
     "text": [
      "ERROR Input and output must have the same number of spatial dimensions, but got input with with spatial dimensions of [] and output size of (14, 14). Please provide input tensor in (N, C, d1, d2, ...,dK) format and output size in (o1, o2, ...,oK) format.\n",
      "totalscore 0.5614292090738008\n"
     ]
    },
    {
     "name": "stderr",
     "output_type": "stream",
     "text": [
      "Traceback (most recent call last):\n",
      "  File \"/home/jupyter-steerapi/stitchnet/stitchnet/stitchonnx/utils.py\", line 1063, in recursive_stitching\n",
      "    newcurr_fragment = stitch_fragments(curr, nextf, data)\n",
      "  File \"/home/jupyter-steerapi/stitchnet/stitchnet/stitchonnx/utils.py\", line 708, in stitch_fragments\n",
      "    nw = adjust_w(tX, tY, w)\n",
      "  File \"/home/jupyter-steerapi/stitchnet/stitchnet/stitchonnx/utils.py\", line 627, in adjust_w\n",
      "    return adjust_w_conv(tX, tY, w)\n",
      "  File \"/home/jupyter-steerapi/stitchnet/stitchnet/stitchonnx/utils.py\", line 599, in adjust_w_conv\n",
      "    tX = up(tX)\n",
      "  File \"/home/jupyter-steerapi/.conda/envs/stitchnet/lib/python3.10/site-packages/torch/nn/modules/module.py\", line 1130, in _call_impl\n",
      "    return forward_call(*input, **kwargs)\n",
      "  File \"/home/jupyter-steerapi/.conda/envs/stitchnet/lib/python3.10/site-packages/torch/nn/modules/upsampling.py\", line 153, in forward\n",
      "    return F.interpolate(input, self.size, self.scale_factor, self.mode, self.align_corners,\n",
      "  File \"/home/jupyter-steerapi/.conda/envs/stitchnet/lib/python3.10/site-packages/torch/nn/functional.py\", line 3854, in interpolate\n",
      "    raise ValueError(\n",
      "ValueError: Input and output must have the same number of spatial dimensions, but got input with with spatial dimensions of [] and output size of (14, 14). Please provide input tensor in (N, C, d1, d2, ...,dK) format and output size in (o1, o2, ...,oK) format.\n"
     ]
    },
    {
     "name": "stdout",
     "output_type": "stream",
     "text": [
      "ERROR Input and output must have the same number of spatial dimensions, but got input with with spatial dimensions of [] and output size of (14, 14). Please provide input tensor in (N, C, d1, d2, ...,dK) format and output size in (o1, o2, ...,oK) format.\n",
      "totalscore 0.5614137752558324\n"
     ]
    },
    {
     "name": "stderr",
     "output_type": "stream",
     "text": [
      "Traceback (most recent call last):\n",
      "  File \"/home/jupyter-steerapi/stitchnet/stitchnet/stitchonnx/utils.py\", line 1063, in recursive_stitching\n",
      "    newcurr_fragment = stitch_fragments(curr, nextf, data)\n",
      "  File \"/home/jupyter-steerapi/stitchnet/stitchnet/stitchonnx/utils.py\", line 708, in stitch_fragments\n",
      "    nw = adjust_w(tX, tY, w)\n",
      "  File \"/home/jupyter-steerapi/stitchnet/stitchnet/stitchonnx/utils.py\", line 627, in adjust_w\n",
      "    return adjust_w_conv(tX, tY, w)\n",
      "  File \"/home/jupyter-steerapi/stitchnet/stitchnet/stitchonnx/utils.py\", line 599, in adjust_w_conv\n",
      "    tX = up(tX)\n",
      "  File \"/home/jupyter-steerapi/.conda/envs/stitchnet/lib/python3.10/site-packages/torch/nn/modules/module.py\", line 1130, in _call_impl\n",
      "    return forward_call(*input, **kwargs)\n",
      "  File \"/home/jupyter-steerapi/.conda/envs/stitchnet/lib/python3.10/site-packages/torch/nn/modules/upsampling.py\", line 153, in forward\n",
      "    return F.interpolate(input, self.size, self.scale_factor, self.mode, self.align_corners,\n",
      "  File \"/home/jupyter-steerapi/.conda/envs/stitchnet/lib/python3.10/site-packages/torch/nn/functional.py\", line 3854, in interpolate\n",
      "    raise ValueError(\n",
      "ValueError: Input and output must have the same number of spatial dimensions, but got input with with spatial dimensions of [] and output size of (14, 14). Please provide input tensor in (N, C, d1, d2, ...,dK) format and output size in (o1, o2, ...,oK) format.\n"
     ]
    },
    {
     "name": "stdout",
     "output_type": "stream",
     "text": [
      "ERROR Input and output must have the same number of spatial dimensions, but got input with with spatial dimensions of [] and output size of (13, 13). Please provide input tensor in (N, C, d1, d2, ...,dK) format and output size in (o1, o2, ...,oK) format.\n",
      "totalscore 0.559367911114359\n"
     ]
    },
    {
     "name": "stderr",
     "output_type": "stream",
     "text": [
      "Traceback (most recent call last):\n",
      "  File \"/home/jupyter-steerapi/stitchnet/stitchnet/stitchonnx/utils.py\", line 1063, in recursive_stitching\n",
      "    newcurr_fragment = stitch_fragments(curr, nextf, data)\n",
      "  File \"/home/jupyter-steerapi/stitchnet/stitchnet/stitchonnx/utils.py\", line 708, in stitch_fragments\n",
      "    nw = adjust_w(tX, tY, w)\n",
      "  File \"/home/jupyter-steerapi/stitchnet/stitchnet/stitchonnx/utils.py\", line 627, in adjust_w\n",
      "    return adjust_w_conv(tX, tY, w)\n",
      "  File \"/home/jupyter-steerapi/stitchnet/stitchnet/stitchonnx/utils.py\", line 599, in adjust_w_conv\n",
      "    tX = up(tX)\n",
      "  File \"/home/jupyter-steerapi/.conda/envs/stitchnet/lib/python3.10/site-packages/torch/nn/modules/module.py\", line 1130, in _call_impl\n",
      "    return forward_call(*input, **kwargs)\n",
      "  File \"/home/jupyter-steerapi/.conda/envs/stitchnet/lib/python3.10/site-packages/torch/nn/modules/upsampling.py\", line 153, in forward\n",
      "    return F.interpolate(input, self.size, self.scale_factor, self.mode, self.align_corners,\n",
      "  File \"/home/jupyter-steerapi/.conda/envs/stitchnet/lib/python3.10/site-packages/torch/nn/functional.py\", line 3854, in interpolate\n",
      "    raise ValueError(\n",
      "ValueError: Input and output must have the same number of spatial dimensions, but got input with with spatial dimensions of [] and output size of (13, 13). Please provide input tensor in (N, C, d1, d2, ...,dK) format and output size in (o1, o2, ...,oK) format.\n"
     ]
    },
    {
     "name": "stdout",
     "output_type": "stream",
     "text": [
      "ERROR Input and output must have the same number of spatial dimensions, but got input with with spatial dimensions of [] and output size of (14, 14). Please provide input tensor in (N, C, d1, d2, ...,dK) format and output size in (o1, o2, ...,oK) format.\n",
      "totalscore 0.5590589093431674\n"
     ]
    },
    {
     "name": "stderr",
     "output_type": "stream",
     "text": [
      "Traceback (most recent call last):\n",
      "  File \"/home/jupyter-steerapi/stitchnet/stitchnet/stitchonnx/utils.py\", line 1063, in recursive_stitching\n",
      "    newcurr_fragment = stitch_fragments(curr, nextf, data)\n",
      "  File \"/home/jupyter-steerapi/stitchnet/stitchnet/stitchonnx/utils.py\", line 708, in stitch_fragments\n",
      "    nw = adjust_w(tX, tY, w)\n",
      "  File \"/home/jupyter-steerapi/stitchnet/stitchnet/stitchonnx/utils.py\", line 627, in adjust_w\n",
      "    return adjust_w_conv(tX, tY, w)\n",
      "  File \"/home/jupyter-steerapi/stitchnet/stitchnet/stitchonnx/utils.py\", line 599, in adjust_w_conv\n",
      "    tX = up(tX)\n",
      "  File \"/home/jupyter-steerapi/.conda/envs/stitchnet/lib/python3.10/site-packages/torch/nn/modules/module.py\", line 1130, in _call_impl\n",
      "    return forward_call(*input, **kwargs)\n",
      "  File \"/home/jupyter-steerapi/.conda/envs/stitchnet/lib/python3.10/site-packages/torch/nn/modules/upsampling.py\", line 153, in forward\n",
      "    return F.interpolate(input, self.size, self.scale_factor, self.mode, self.align_corners,\n",
      "  File \"/home/jupyter-steerapi/.conda/envs/stitchnet/lib/python3.10/site-packages/torch/nn/functional.py\", line 3854, in interpolate\n",
      "    raise ValueError(\n",
      "ValueError: Input and output must have the same number of spatial dimensions, but got input with with spatial dimensions of [] and output size of (14, 14). Please provide input tensor in (N, C, d1, d2, ...,dK) format and output size in (o1, o2, ...,oK) format.\n"
     ]
    },
    {
     "name": "stdout",
     "output_type": "stream",
     "text": [
      "ERROR Input and output must have the same number of spatial dimensions, but got input with with spatial dimensions of [] and output size of (28, 28). Please provide input tensor in (N, C, d1, d2, ...,dK) format and output size in (o1, o2, ...,oK) format.\n",
      "totalscore 0.5583065107172102\n"
     ]
    },
    {
     "name": "stderr",
     "output_type": "stream",
     "text": [
      "Traceback (most recent call last):\n",
      "  File \"/home/jupyter-steerapi/stitchnet/stitchnet/stitchonnx/utils.py\", line 1063, in recursive_stitching\n",
      "    newcurr_fragment = stitch_fragments(curr, nextf, data)\n",
      "  File \"/home/jupyter-steerapi/stitchnet/stitchnet/stitchonnx/utils.py\", line 708, in stitch_fragments\n",
      "    nw = adjust_w(tX, tY, w)\n",
      "  File \"/home/jupyter-steerapi/stitchnet/stitchnet/stitchonnx/utils.py\", line 627, in adjust_w\n",
      "    return adjust_w_conv(tX, tY, w)\n",
      "  File \"/home/jupyter-steerapi/stitchnet/stitchnet/stitchonnx/utils.py\", line 599, in adjust_w_conv\n",
      "    tX = up(tX)\n",
      "  File \"/home/jupyter-steerapi/.conda/envs/stitchnet/lib/python3.10/site-packages/torch/nn/modules/module.py\", line 1130, in _call_impl\n",
      "    return forward_call(*input, **kwargs)\n",
      "  File \"/home/jupyter-steerapi/.conda/envs/stitchnet/lib/python3.10/site-packages/torch/nn/modules/upsampling.py\", line 153, in forward\n",
      "    return F.interpolate(input, self.size, self.scale_factor, self.mode, self.align_corners,\n",
      "  File \"/home/jupyter-steerapi/.conda/envs/stitchnet/lib/python3.10/site-packages/torch/nn/functional.py\", line 3854, in interpolate\n",
      "    raise ValueError(\n",
      "ValueError: Input and output must have the same number of spatial dimensions, but got input with with spatial dimensions of [] and output size of (28, 28). Please provide input tensor in (N, C, d1, d2, ...,dK) format and output size in (o1, o2, ...,oK) format.\n"
     ]
    },
    {
     "name": "stdout",
     "output_type": "stream",
     "text": [
      "ERROR Input and output must have the same number of spatial dimensions, but got input with with spatial dimensions of [] and output size of (14, 14). Please provide input tensor in (N, C, d1, d2, ...,dK) format and output size in (o1, o2, ...,oK) format.\n",
      "totalscore 0.5576702376252439\n"
     ]
    },
    {
     "name": "stderr",
     "output_type": "stream",
     "text": [
      "Traceback (most recent call last):\n",
      "  File \"/home/jupyter-steerapi/stitchnet/stitchnet/stitchonnx/utils.py\", line 1063, in recursive_stitching\n",
      "    newcurr_fragment = stitch_fragments(curr, nextf, data)\n",
      "  File \"/home/jupyter-steerapi/stitchnet/stitchnet/stitchonnx/utils.py\", line 708, in stitch_fragments\n",
      "    nw = adjust_w(tX, tY, w)\n",
      "  File \"/home/jupyter-steerapi/stitchnet/stitchnet/stitchonnx/utils.py\", line 627, in adjust_w\n",
      "    return adjust_w_conv(tX, tY, w)\n",
      "  File \"/home/jupyter-steerapi/stitchnet/stitchnet/stitchonnx/utils.py\", line 599, in adjust_w_conv\n",
      "    tX = up(tX)\n",
      "  File \"/home/jupyter-steerapi/.conda/envs/stitchnet/lib/python3.10/site-packages/torch/nn/modules/module.py\", line 1130, in _call_impl\n",
      "    return forward_call(*input, **kwargs)\n",
      "  File \"/home/jupyter-steerapi/.conda/envs/stitchnet/lib/python3.10/site-packages/torch/nn/modules/upsampling.py\", line 153, in forward\n",
      "    return F.interpolate(input, self.size, self.scale_factor, self.mode, self.align_corners,\n",
      "  File \"/home/jupyter-steerapi/.conda/envs/stitchnet/lib/python3.10/site-packages/torch/nn/functional.py\", line 3854, in interpolate\n",
      "    raise ValueError(\n",
      "ValueError: Input and output must have the same number of spatial dimensions, but got input with with spatial dimensions of [] and output size of (14, 14). Please provide input tensor in (N, C, d1, d2, ...,dK) format and output size in (o1, o2, ...,oK) format.\n"
     ]
    },
    {
     "name": "stdout",
     "output_type": "stream",
     "text": [
      "ERROR Input and output must have the same number of spatial dimensions, but got input with with spatial dimensions of [] and output size of (28, 28). Please provide input tensor in (N, C, d1, d2, ...,dK) format and output size in (o1, o2, ...,oK) format.\n",
      "totalscore 0.5568619146528533\n"
     ]
    },
    {
     "name": "stderr",
     "output_type": "stream",
     "text": [
      "Traceback (most recent call last):\n",
      "  File \"/home/jupyter-steerapi/stitchnet/stitchnet/stitchonnx/utils.py\", line 1063, in recursive_stitching\n",
      "    newcurr_fragment = stitch_fragments(curr, nextf, data)\n",
      "  File \"/home/jupyter-steerapi/stitchnet/stitchnet/stitchonnx/utils.py\", line 708, in stitch_fragments\n",
      "    nw = adjust_w(tX, tY, w)\n",
      "  File \"/home/jupyter-steerapi/stitchnet/stitchnet/stitchonnx/utils.py\", line 627, in adjust_w\n",
      "    return adjust_w_conv(tX, tY, w)\n",
      "  File \"/home/jupyter-steerapi/stitchnet/stitchnet/stitchonnx/utils.py\", line 599, in adjust_w_conv\n",
      "    tX = up(tX)\n",
      "  File \"/home/jupyter-steerapi/.conda/envs/stitchnet/lib/python3.10/site-packages/torch/nn/modules/module.py\", line 1130, in _call_impl\n",
      "    return forward_call(*input, **kwargs)\n",
      "  File \"/home/jupyter-steerapi/.conda/envs/stitchnet/lib/python3.10/site-packages/torch/nn/modules/upsampling.py\", line 153, in forward\n",
      "    return F.interpolate(input, self.size, self.scale_factor, self.mode, self.align_corners,\n",
      "  File \"/home/jupyter-steerapi/.conda/envs/stitchnet/lib/python3.10/site-packages/torch/nn/functional.py\", line 3854, in interpolate\n",
      "    raise ValueError(\n",
      "ValueError: Input and output must have the same number of spatial dimensions, but got input with with spatial dimensions of [] and output size of (28, 28). Please provide input tensor in (N, C, d1, d2, ...,dK) format and output size in (o1, o2, ...,oK) format.\n",
      "100%|██████████| 80/80 [00:07<00:00, 10.52it/s]\n"
     ]
    },
    {
     "name": "stdout",
     "output_type": "stream",
     "text": [
      "accuracy 0.7467583497053045\n",
      "saving to _results/1660390414_result_BS_32_MD_10_T_0.7_TT_0.5/net043\n",
      "totalscore 0.5527609818640097\n",
      "ERROR Input and output must have the same number of spatial dimensions, but got input with with spatial dimensions of [] and output size of (28, 28). Please provide input tensor in (N, C, d1, d2, ...,dK) format and output size in (o1, o2, ...,oK) format.\n",
      "totalscore 0.5521493935833119\n"
     ]
    },
    {
     "name": "stderr",
     "output_type": "stream",
     "text": [
      "Traceback (most recent call last):\n",
      "  File \"/home/jupyter-steerapi/stitchnet/stitchnet/stitchonnx/utils.py\", line 1063, in recursive_stitching\n",
      "    newcurr_fragment = stitch_fragments(curr, nextf, data)\n",
      "  File \"/home/jupyter-steerapi/stitchnet/stitchnet/stitchonnx/utils.py\", line 708, in stitch_fragments\n",
      "    nw = adjust_w(tX, tY, w)\n",
      "  File \"/home/jupyter-steerapi/stitchnet/stitchnet/stitchonnx/utils.py\", line 627, in adjust_w\n",
      "    return adjust_w_conv(tX, tY, w)\n",
      "  File \"/home/jupyter-steerapi/stitchnet/stitchnet/stitchonnx/utils.py\", line 599, in adjust_w_conv\n",
      "    tX = up(tX)\n",
      "  File \"/home/jupyter-steerapi/.conda/envs/stitchnet/lib/python3.10/site-packages/torch/nn/modules/module.py\", line 1130, in _call_impl\n",
      "    return forward_call(*input, **kwargs)\n",
      "  File \"/home/jupyter-steerapi/.conda/envs/stitchnet/lib/python3.10/site-packages/torch/nn/modules/upsampling.py\", line 153, in forward\n",
      "    return F.interpolate(input, self.size, self.scale_factor, self.mode, self.align_corners,\n",
      "  File \"/home/jupyter-steerapi/.conda/envs/stitchnet/lib/python3.10/site-packages/torch/nn/functional.py\", line 3854, in interpolate\n",
      "    raise ValueError(\n",
      "ValueError: Input and output must have the same number of spatial dimensions, but got input with with spatial dimensions of [] and output size of (28, 28). Please provide input tensor in (N, C, d1, d2, ...,dK) format and output size in (o1, o2, ...,oK) format.\n"
     ]
    },
    {
     "name": "stdout",
     "output_type": "stream",
     "text": [
      "ERROR Input and output must have the same number of spatial dimensions, but got input with with spatial dimensions of [] and output size of (28, 28). Please provide input tensor in (N, C, d1, d2, ...,dK) format and output size in (o1, o2, ...,oK) format.\n",
      "totalscore 0.5518036667633401\n"
     ]
    },
    {
     "name": "stderr",
     "output_type": "stream",
     "text": [
      "Traceback (most recent call last):\n",
      "  File \"/home/jupyter-steerapi/stitchnet/stitchnet/stitchonnx/utils.py\", line 1063, in recursive_stitching\n",
      "    newcurr_fragment = stitch_fragments(curr, nextf, data)\n",
      "  File \"/home/jupyter-steerapi/stitchnet/stitchnet/stitchonnx/utils.py\", line 708, in stitch_fragments\n",
      "    nw = adjust_w(tX, tY, w)\n",
      "  File \"/home/jupyter-steerapi/stitchnet/stitchnet/stitchonnx/utils.py\", line 627, in adjust_w\n",
      "    return adjust_w_conv(tX, tY, w)\n",
      "  File \"/home/jupyter-steerapi/stitchnet/stitchnet/stitchonnx/utils.py\", line 599, in adjust_w_conv\n",
      "    tX = up(tX)\n",
      "  File \"/home/jupyter-steerapi/.conda/envs/stitchnet/lib/python3.10/site-packages/torch/nn/modules/module.py\", line 1130, in _call_impl\n",
      "    return forward_call(*input, **kwargs)\n",
      "  File \"/home/jupyter-steerapi/.conda/envs/stitchnet/lib/python3.10/site-packages/torch/nn/modules/upsampling.py\", line 153, in forward\n",
      "    return F.interpolate(input, self.size, self.scale_factor, self.mode, self.align_corners,\n",
      "  File \"/home/jupyter-steerapi/.conda/envs/stitchnet/lib/python3.10/site-packages/torch/nn/functional.py\", line 3854, in interpolate\n",
      "    raise ValueError(\n",
      "ValueError: Input and output must have the same number of spatial dimensions, but got input with with spatial dimensions of [] and output size of (28, 28). Please provide input tensor in (N, C, d1, d2, ...,dK) format and output size in (o1, o2, ...,oK) format.\n"
     ]
    },
    {
     "name": "stdout",
     "output_type": "stream",
     "text": [
      "ERROR Input and output must have the same number of spatial dimensions, but got input with with spatial dimensions of [] and output size of (56, 56). Please provide input tensor in (N, C, d1, d2, ...,dK) format and output size in (o1, o2, ...,oK) format.\n",
      "totalscore 0.5509588976665906\n"
     ]
    },
    {
     "name": "stderr",
     "output_type": "stream",
     "text": [
      "Traceback (most recent call last):\n",
      "  File \"/home/jupyter-steerapi/stitchnet/stitchnet/stitchonnx/utils.py\", line 1063, in recursive_stitching\n",
      "    newcurr_fragment = stitch_fragments(curr, nextf, data)\n",
      "  File \"/home/jupyter-steerapi/stitchnet/stitchnet/stitchonnx/utils.py\", line 708, in stitch_fragments\n",
      "    nw = adjust_w(tX, tY, w)\n",
      "  File \"/home/jupyter-steerapi/stitchnet/stitchnet/stitchonnx/utils.py\", line 627, in adjust_w\n",
      "    return adjust_w_conv(tX, tY, w)\n",
      "  File \"/home/jupyter-steerapi/stitchnet/stitchnet/stitchonnx/utils.py\", line 599, in adjust_w_conv\n",
      "    tX = up(tX)\n",
      "  File \"/home/jupyter-steerapi/.conda/envs/stitchnet/lib/python3.10/site-packages/torch/nn/modules/module.py\", line 1130, in _call_impl\n",
      "    return forward_call(*input, **kwargs)\n",
      "  File \"/home/jupyter-steerapi/.conda/envs/stitchnet/lib/python3.10/site-packages/torch/nn/modules/upsampling.py\", line 153, in forward\n",
      "    return F.interpolate(input, self.size, self.scale_factor, self.mode, self.align_corners,\n",
      "  File \"/home/jupyter-steerapi/.conda/envs/stitchnet/lib/python3.10/site-packages/torch/nn/functional.py\", line 3854, in interpolate\n",
      "    raise ValueError(\n",
      "ValueError: Input and output must have the same number of spatial dimensions, but got input with with spatial dimensions of [] and output size of (56, 56). Please provide input tensor in (N, C, d1, d2, ...,dK) format and output size in (o1, o2, ...,oK) format.\n",
      "100%|██████████| 80/80 [00:07<00:00, 10.40it/s]\n"
     ]
    },
    {
     "name": "stdout",
     "output_type": "stream",
     "text": [
      "accuracy 0.7614931237721022\n",
      "saving to _results/1660390414_result_BS_32_MD_10_T_0.7_TT_0.5/net044\n",
      "totalscore 0.5497773273313448\n",
      "ERROR Input and output must have the same number of spatial dimensions, but got input with with spatial dimensions of [] and output size of (56, 56). Please provide input tensor in (N, C, d1, d2, ...,dK) format and output size in (o1, o2, ...,oK) format.\n",
      "totalscore 0.5493379748806855\n"
     ]
    },
    {
     "name": "stderr",
     "output_type": "stream",
     "text": [
      "Traceback (most recent call last):\n",
      "  File \"/home/jupyter-steerapi/stitchnet/stitchnet/stitchonnx/utils.py\", line 1063, in recursive_stitching\n",
      "    newcurr_fragment = stitch_fragments(curr, nextf, data)\n",
      "  File \"/home/jupyter-steerapi/stitchnet/stitchnet/stitchonnx/utils.py\", line 708, in stitch_fragments\n",
      "    nw = adjust_w(tX, tY, w)\n",
      "  File \"/home/jupyter-steerapi/stitchnet/stitchnet/stitchonnx/utils.py\", line 627, in adjust_w\n",
      "    return adjust_w_conv(tX, tY, w)\n",
      "  File \"/home/jupyter-steerapi/stitchnet/stitchnet/stitchonnx/utils.py\", line 599, in adjust_w_conv\n",
      "    tX = up(tX)\n",
      "  File \"/home/jupyter-steerapi/.conda/envs/stitchnet/lib/python3.10/site-packages/torch/nn/modules/module.py\", line 1130, in _call_impl\n",
      "    return forward_call(*input, **kwargs)\n",
      "  File \"/home/jupyter-steerapi/.conda/envs/stitchnet/lib/python3.10/site-packages/torch/nn/modules/upsampling.py\", line 153, in forward\n",
      "    return F.interpolate(input, self.size, self.scale_factor, self.mode, self.align_corners,\n",
      "  File \"/home/jupyter-steerapi/.conda/envs/stitchnet/lib/python3.10/site-packages/torch/nn/functional.py\", line 3854, in interpolate\n",
      "    raise ValueError(\n",
      "ValueError: Input and output must have the same number of spatial dimensions, but got input with with spatial dimensions of [] and output size of (56, 56). Please provide input tensor in (N, C, d1, d2, ...,dK) format and output size in (o1, o2, ...,oK) format.\n"
     ]
    },
    {
     "name": "stdout",
     "output_type": "stream",
     "text": [
      "ERROR Input and output must have the same number of spatial dimensions, but got input with with spatial dimensions of [] and output size of (112, 112). Please provide input tensor in (N, C, d1, d2, ...,dK) format and output size in (o1, o2, ...,oK) format.\n",
      "totalscore 0.549127758841972\n"
     ]
    },
    {
     "name": "stderr",
     "output_type": "stream",
     "text": [
      "Traceback (most recent call last):\n",
      "  File \"/home/jupyter-steerapi/stitchnet/stitchnet/stitchonnx/utils.py\", line 1063, in recursive_stitching\n",
      "    newcurr_fragment = stitch_fragments(curr, nextf, data)\n",
      "  File \"/home/jupyter-steerapi/stitchnet/stitchnet/stitchonnx/utils.py\", line 708, in stitch_fragments\n",
      "    nw = adjust_w(tX, tY, w)\n",
      "  File \"/home/jupyter-steerapi/stitchnet/stitchnet/stitchonnx/utils.py\", line 627, in adjust_w\n",
      "    return adjust_w_conv(tX, tY, w)\n",
      "  File \"/home/jupyter-steerapi/stitchnet/stitchnet/stitchonnx/utils.py\", line 599, in adjust_w_conv\n",
      "    tX = up(tX)\n",
      "  File \"/home/jupyter-steerapi/.conda/envs/stitchnet/lib/python3.10/site-packages/torch/nn/modules/module.py\", line 1130, in _call_impl\n",
      "    return forward_call(*input, **kwargs)\n",
      "  File \"/home/jupyter-steerapi/.conda/envs/stitchnet/lib/python3.10/site-packages/torch/nn/modules/upsampling.py\", line 153, in forward\n",
      "    return F.interpolate(input, self.size, self.scale_factor, self.mode, self.align_corners,\n",
      "  File \"/home/jupyter-steerapi/.conda/envs/stitchnet/lib/python3.10/site-packages/torch/nn/functional.py\", line 3854, in interpolate\n",
      "    raise ValueError(\n",
      "ValueError: Input and output must have the same number of spatial dimensions, but got input with with spatial dimensions of [] and output size of (112, 112). Please provide input tensor in (N, C, d1, d2, ...,dK) format and output size in (o1, o2, ...,oK) format.\n"
     ]
    },
    {
     "name": "stdout",
     "output_type": "stream",
     "text": [
      "ERROR Input and output must have the same number of spatial dimensions, but got input with with spatial dimensions of [] and output size of (14, 14). Please provide input tensor in (N, C, d1, d2, ...,dK) format and output size in (o1, o2, ...,oK) format.\n",
      "totalscore 0.5485256539915923\n"
     ]
    },
    {
     "name": "stderr",
     "output_type": "stream",
     "text": [
      "Traceback (most recent call last):\n",
      "  File \"/home/jupyter-steerapi/stitchnet/stitchnet/stitchonnx/utils.py\", line 1063, in recursive_stitching\n",
      "    newcurr_fragment = stitch_fragments(curr, nextf, data)\n",
      "  File \"/home/jupyter-steerapi/stitchnet/stitchnet/stitchonnx/utils.py\", line 708, in stitch_fragments\n",
      "    nw = adjust_w(tX, tY, w)\n",
      "  File \"/home/jupyter-steerapi/stitchnet/stitchnet/stitchonnx/utils.py\", line 627, in adjust_w\n",
      "    return adjust_w_conv(tX, tY, w)\n",
      "  File \"/home/jupyter-steerapi/stitchnet/stitchnet/stitchonnx/utils.py\", line 599, in adjust_w_conv\n",
      "    tX = up(tX)\n",
      "  File \"/home/jupyter-steerapi/.conda/envs/stitchnet/lib/python3.10/site-packages/torch/nn/modules/module.py\", line 1130, in _call_impl\n",
      "    return forward_call(*input, **kwargs)\n",
      "  File \"/home/jupyter-steerapi/.conda/envs/stitchnet/lib/python3.10/site-packages/torch/nn/modules/upsampling.py\", line 153, in forward\n",
      "    return F.interpolate(input, self.size, self.scale_factor, self.mode, self.align_corners,\n",
      "  File \"/home/jupyter-steerapi/.conda/envs/stitchnet/lib/python3.10/site-packages/torch/nn/functional.py\", line 3854, in interpolate\n",
      "    raise ValueError(\n",
      "ValueError: Input and output must have the same number of spatial dimensions, but got input with with spatial dimensions of [] and output size of (14, 14). Please provide input tensor in (N, C, d1, d2, ...,dK) format and output size in (o1, o2, ...,oK) format.\n"
     ]
    },
    {
     "name": "stdout",
     "output_type": "stream",
     "text": [
      "ERROR Input and output must have the same number of spatial dimensions, but got input with with spatial dimensions of [] and output size of (28, 28). Please provide input tensor in (N, C, d1, d2, ...,dK) format and output size in (o1, o2, ...,oK) format.\n",
      "totalscore 0.5472190790282835\n"
     ]
    },
    {
     "name": "stderr",
     "output_type": "stream",
     "text": [
      "Traceback (most recent call last):\n",
      "  File \"/home/jupyter-steerapi/stitchnet/stitchnet/stitchonnx/utils.py\", line 1063, in recursive_stitching\n",
      "    newcurr_fragment = stitch_fragments(curr, nextf, data)\n",
      "  File \"/home/jupyter-steerapi/stitchnet/stitchnet/stitchonnx/utils.py\", line 708, in stitch_fragments\n",
      "    nw = adjust_w(tX, tY, w)\n",
      "  File \"/home/jupyter-steerapi/stitchnet/stitchnet/stitchonnx/utils.py\", line 627, in adjust_w\n",
      "    return adjust_w_conv(tX, tY, w)\n",
      "  File \"/home/jupyter-steerapi/stitchnet/stitchnet/stitchonnx/utils.py\", line 599, in adjust_w_conv\n",
      "    tX = up(tX)\n",
      "  File \"/home/jupyter-steerapi/.conda/envs/stitchnet/lib/python3.10/site-packages/torch/nn/modules/module.py\", line 1130, in _call_impl\n",
      "    return forward_call(*input, **kwargs)\n",
      "  File \"/home/jupyter-steerapi/.conda/envs/stitchnet/lib/python3.10/site-packages/torch/nn/modules/upsampling.py\", line 153, in forward\n",
      "    return F.interpolate(input, self.size, self.scale_factor, self.mode, self.align_corners,\n",
      "  File \"/home/jupyter-steerapi/.conda/envs/stitchnet/lib/python3.10/site-packages/torch/nn/functional.py\", line 3854, in interpolate\n",
      "    raise ValueError(\n",
      "ValueError: Input and output must have the same number of spatial dimensions, but got input with with spatial dimensions of [] and output size of (28, 28). Please provide input tensor in (N, C, d1, d2, ...,dK) format and output size in (o1, o2, ...,oK) format.\n"
     ]
    },
    {
     "name": "stdout",
     "output_type": "stream",
     "text": [
      "ERROR Input and output must have the same number of spatial dimensions, but got input with with spatial dimensions of [] and output size of (56, 56). Please provide input tensor in (N, C, d1, d2, ...,dK) format and output size in (o1, o2, ...,oK) format.\n",
      "totalscore 0.5470094673258158\n"
     ]
    },
    {
     "name": "stderr",
     "output_type": "stream",
     "text": [
      "Traceback (most recent call last):\n",
      "  File \"/home/jupyter-steerapi/stitchnet/stitchnet/stitchonnx/utils.py\", line 1063, in recursive_stitching\n",
      "    newcurr_fragment = stitch_fragments(curr, nextf, data)\n",
      "  File \"/home/jupyter-steerapi/stitchnet/stitchnet/stitchonnx/utils.py\", line 708, in stitch_fragments\n",
      "    nw = adjust_w(tX, tY, w)\n",
      "  File \"/home/jupyter-steerapi/stitchnet/stitchnet/stitchonnx/utils.py\", line 627, in adjust_w\n",
      "    return adjust_w_conv(tX, tY, w)\n",
      "  File \"/home/jupyter-steerapi/stitchnet/stitchnet/stitchonnx/utils.py\", line 599, in adjust_w_conv\n",
      "    tX = up(tX)\n",
      "  File \"/home/jupyter-steerapi/.conda/envs/stitchnet/lib/python3.10/site-packages/torch/nn/modules/module.py\", line 1130, in _call_impl\n",
      "    return forward_call(*input, **kwargs)\n",
      "  File \"/home/jupyter-steerapi/.conda/envs/stitchnet/lib/python3.10/site-packages/torch/nn/modules/upsampling.py\", line 153, in forward\n",
      "    return F.interpolate(input, self.size, self.scale_factor, self.mode, self.align_corners,\n",
      "  File \"/home/jupyter-steerapi/.conda/envs/stitchnet/lib/python3.10/site-packages/torch/nn/functional.py\", line 3854, in interpolate\n",
      "    raise ValueError(\n",
      "ValueError: Input and output must have the same number of spatial dimensions, but got input with with spatial dimensions of [] and output size of (56, 56). Please provide input tensor in (N, C, d1, d2, ...,dK) format and output size in (o1, o2, ...,oK) format.\n"
     ]
    },
    {
     "name": "stdout",
     "output_type": "stream",
     "text": [
      "ERROR Input and output must have the same number of spatial dimensions, but got input with with spatial dimensions of [] and output size of (56, 56). Please provide input tensor in (N, C, d1, d2, ...,dK) format and output size in (o1, o2, ...,oK) format.\n",
      "totalscore 0.7270836597810286\n"
     ]
    },
    {
     "name": "stderr",
     "output_type": "stream",
     "text": [
      "Traceback (most recent call last):\n",
      "  File \"/home/jupyter-steerapi/stitchnet/stitchnet/stitchonnx/utils.py\", line 1063, in recursive_stitching\n",
      "    newcurr_fragment = stitch_fragments(curr, nextf, data)\n",
      "  File \"/home/jupyter-steerapi/stitchnet/stitchnet/stitchonnx/utils.py\", line 708, in stitch_fragments\n",
      "    nw = adjust_w(tX, tY, w)\n",
      "  File \"/home/jupyter-steerapi/stitchnet/stitchnet/stitchonnx/utils.py\", line 627, in adjust_w\n",
      "    return adjust_w_conv(tX, tY, w)\n",
      "  File \"/home/jupyter-steerapi/stitchnet/stitchnet/stitchonnx/utils.py\", line 599, in adjust_w_conv\n",
      "    tX = up(tX)\n",
      "  File \"/home/jupyter-steerapi/.conda/envs/stitchnet/lib/python3.10/site-packages/torch/nn/modules/module.py\", line 1130, in _call_impl\n",
      "    return forward_call(*input, **kwargs)\n",
      "  File \"/home/jupyter-steerapi/.conda/envs/stitchnet/lib/python3.10/site-packages/torch/nn/modules/upsampling.py\", line 153, in forward\n",
      "    return F.interpolate(input, self.size, self.scale_factor, self.mode, self.align_corners,\n",
      "  File \"/home/jupyter-steerapi/.conda/envs/stitchnet/lib/python3.10/site-packages/torch/nn/functional.py\", line 3854, in interpolate\n",
      "    raise ValueError(\n",
      "ValueError: Input and output must have the same number of spatial dimensions, but got input with with spatial dimensions of [] and output size of (56, 56). Please provide input tensor in (N, C, d1, d2, ...,dK) format and output size in (o1, o2, ...,oK) format.\n"
     ]
    },
    {
     "name": "stdout",
     "output_type": "stream",
     "text": [
      "ERROR Input and output must have the same number of spatial dimensions, but got input with with spatial dimensions of [] and output size of (28, 28). Please provide input tensor in (N, C, d1, d2, ...,dK) format and output size in (o1, o2, ...,oK) format.\n",
      "totalscore 0.7263723445502638\n"
     ]
    },
    {
     "name": "stderr",
     "output_type": "stream",
     "text": [
      "Traceback (most recent call last):\n",
      "  File \"/home/jupyter-steerapi/stitchnet/stitchnet/stitchonnx/utils.py\", line 1063, in recursive_stitching\n",
      "    newcurr_fragment = stitch_fragments(curr, nextf, data)\n",
      "  File \"/home/jupyter-steerapi/stitchnet/stitchnet/stitchonnx/utils.py\", line 708, in stitch_fragments\n",
      "    nw = adjust_w(tX, tY, w)\n",
      "  File \"/home/jupyter-steerapi/stitchnet/stitchnet/stitchonnx/utils.py\", line 627, in adjust_w\n",
      "    return adjust_w_conv(tX, tY, w)\n",
      "  File \"/home/jupyter-steerapi/stitchnet/stitchnet/stitchonnx/utils.py\", line 599, in adjust_w_conv\n",
      "    tX = up(tX)\n",
      "  File \"/home/jupyter-steerapi/.conda/envs/stitchnet/lib/python3.10/site-packages/torch/nn/modules/module.py\", line 1130, in _call_impl\n",
      "    return forward_call(*input, **kwargs)\n",
      "  File \"/home/jupyter-steerapi/.conda/envs/stitchnet/lib/python3.10/site-packages/torch/nn/modules/upsampling.py\", line 153, in forward\n",
      "    return F.interpolate(input, self.size, self.scale_factor, self.mode, self.align_corners,\n",
      "  File \"/home/jupyter-steerapi/.conda/envs/stitchnet/lib/python3.10/site-packages/torch/nn/functional.py\", line 3854, in interpolate\n",
      "    raise ValueError(\n",
      "ValueError: Input and output must have the same number of spatial dimensions, but got input with with spatial dimensions of [] and output size of (28, 28). Please provide input tensor in (N, C, d1, d2, ...,dK) format and output size in (o1, o2, ...,oK) format.\n"
     ]
    },
    {
     "name": "stdout",
     "output_type": "stream",
     "text": [
      "current depth: 8\n",
      "potential next fragments: 43\n",
      "potential next fragments after thresholding of 0.7: 10 ['0.98', '0.94', '0.88', '0.87', '0.85', '0.79', '0.77', '0.76', '0.73', '0.7']\n",
      "totalscore 0.7084951212582723\n"
     ]
    },
    {
     "name": "stderr",
     "output_type": "stream",
     "text": [
      "100%|██████████| 80/80 [00:07<00:00, 10.43it/s]\n"
     ]
    },
    {
     "name": "stdout",
     "output_type": "stream",
     "text": [
      "accuracy 0.7642436149312377\n",
      "saving to _results/1660390414_result_BS_32_MD_10_T_0.7_TT_0.5/net045\n",
      "totalscore 0.683230054208311\n",
      "current depth: 9\n",
      "potential next fragments: 5\n",
      "potential next fragments after thresholding of 0.7: 5 ['0.97', '0.86', '0.86', '0.85', '0.8']\n",
      "totalscore 0.6659607277588195\n"
     ]
    },
    {
     "name": "stderr",
     "output_type": "stream",
     "text": [
      "100%|██████████| 80/80 [00:07<00:00, 10.69it/s]\n"
     ]
    },
    {
     "name": "stdout",
     "output_type": "stream",
     "text": [
      "accuracy 0.7669941060903733\n",
      "saving to _results/1660390414_result_BS_32_MD_10_T_0.7_TT_0.5/net046\n",
      "totalscore 0.5886086542994762\n"
     ]
    },
    {
     "name": "stderr",
     "output_type": "stream",
     "text": [
      "100%|██████████| 80/80 [00:07<00:00, 10.64it/s]\n"
     ]
    },
    {
     "name": "stdout",
     "output_type": "stream",
     "text": [
      "accuracy 0.8259332023575638\n",
      "saving to _results/1660390414_result_BS_32_MD_10_T_0.7_TT_0.5/net047\n",
      "totalscore 0.5851782947203757\n"
     ]
    },
    {
     "name": "stderr",
     "output_type": "stream",
     "text": [
      "100%|██████████| 80/80 [00:07<00:00, 11.27it/s]\n"
     ]
    },
    {
     "name": "stdout",
     "output_type": "stream",
     "text": [
      "accuracy 0.7304518664047152\n",
      "saving to _results/1660390414_result_BS_32_MD_10_T_0.7_TT_0.5/net048\n",
      "totalscore 0.5778371582539936\n"
     ]
    },
    {
     "name": "stderr",
     "output_type": "stream",
     "text": [
      "100%|██████████| 80/80 [00:07<00:00, 11.14it/s]\n"
     ]
    },
    {
     "name": "stdout",
     "output_type": "stream",
     "text": [
      "accuracy 0.762278978388998\n",
      "saving to _results/1660390414_result_BS_32_MD_10_T_0.7_TT_0.5/net049\n",
      "totalscore 0.5434126538431715\n"
     ]
    },
    {
     "name": "stderr",
     "output_type": "stream",
     "text": [
      "100%|██████████| 80/80 [00:07<00:00, 11.05it/s]\n"
     ]
    },
    {
     "name": "stdout",
     "output_type": "stream",
     "text": [
      "accuracy 0.793516699410609\n",
      "saving to _results/1660390414_result_BS_32_MD_10_T_0.7_TT_0.5/net050\n",
      "totalscore 0.6386438700945457\n"
     ]
    },
    {
     "name": "stderr",
     "output_type": "stream",
     "text": [
      "100%|██████████| 80/80 [00:07<00:00, 10.96it/s]\n"
     ]
    },
    {
     "name": "stdout",
     "output_type": "stream",
     "text": [
      "accuracy 0.8257367387033399\n",
      "saving to _results/1660390414_result_BS_32_MD_10_T_0.7_TT_0.5/net051\n",
      "totalscore 0.6348714324327966\n"
     ]
    },
    {
     "name": "stderr",
     "output_type": "stream",
     "text": [
      "100%|██████████| 80/80 [00:07<00:00, 10.99it/s]\n"
     ]
    },
    {
     "name": "stdout",
     "output_type": "stream",
     "text": [
      "accuracy 0.7508840864440078\n",
      "saving to _results/1660390414_result_BS_32_MD_10_T_0.7_TT_0.5/net052\n",
      "totalscore 0.6202841221822589\n"
     ]
    },
    {
     "name": "stderr",
     "output_type": "stream",
     "text": [
      "100%|██████████| 80/80 [00:07<00:00, 10.72it/s]\n"
     ]
    },
    {
     "name": "stdout",
     "output_type": "stream",
     "text": [
      "accuracy 0.7772102161100196\n",
      "saving to _results/1660390414_result_BS_32_MD_10_T_0.7_TT_0.5/net053\n",
      "totalscore 0.5730986695082378\n",
      "current depth: 9\n",
      "potential next fragments: 5\n",
      "potential next fragments after thresholding of 0.7: 5 ['1.0', '0.88', '0.86', '0.85', '0.82']\n",
      "totalscore 0.572783412935223\n"
     ]
    },
    {
     "name": "stderr",
     "output_type": "stream",
     "text": [
      "100%|██████████| 80/80 [00:07<00:00, 10.57it/s]\n"
     ]
    },
    {
     "name": "stdout",
     "output_type": "stream",
     "text": [
      "accuracy 0.7854616895874263\n",
      "saving to _results/1660390414_result_BS_32_MD_10_T_0.7_TT_0.5/net054\n",
      "totalscore 0.5021011403069299\n"
     ]
    },
    {
     "name": "stderr",
     "output_type": "stream",
     "text": [
      "100%|██████████| 80/80 [00:06<00:00, 11.66it/s]\n"
     ]
    },
    {
     "name": "stdout",
     "output_type": "stream",
     "text": [
      "accuracy 0.7921414538310413\n",
      "saving to _results/1660390414_result_BS_32_MD_10_T_0.7_TT_0.5/net055\n",
      "totalscore 0.5609839461634933\n"
     ]
    },
    {
     "name": "stderr",
     "output_type": "stream",
     "text": [
      "100%|██████████| 80/80 [00:07<00:00, 11.32it/s]\n"
     ]
    },
    {
     "name": "stdout",
     "output_type": "stream",
     "text": [
      "accuracy 0.7915520628683693\n",
      "saving to _results/1660390414_result_BS_32_MD_10_T_0.7_TT_0.5/net056\n",
      "totalscore 0.5506015489835991\n",
      "current depth: 9\n",
      "potential next fragments: 5\n",
      "potential next fragments after thresholding of 0.7: 5 ['0.93', '0.88', '0.82', '0.81', '0.77']\n",
      "totalscore 0.5141994017184593\n"
     ]
    },
    {
     "name": "stderr",
     "output_type": "stream",
     "text": [
      "100%|██████████| 80/80 [00:07<00:00, 11.33it/s]\n"
     ]
    },
    {
     "name": "stdout",
     "output_type": "stream",
     "text": [
      "accuracy 0.7422396856581532\n",
      "saving to _results/1660390414_result_BS_32_MD_10_T_0.7_TT_0.5/net057\n",
      "totalscore 0.5338732927955464\n",
      "current depth: 9\n",
      "potential next fragments: 5\n",
      "potential next fragments after thresholding of 0.7: 4 ['0.91', '0.82', '0.77', '0.76']\n",
      "totalscore 0.5112767232755898\n",
      "ERROR Input and output must have the same number of spatial dimensions, but got input with with spatial dimensions of [] and output size of (13, 13). Please provide input tensor in (N, C, d1, d2, ...,dK) format and output size in (o1, o2, ...,oK) format.\n",
      "totalscore 0.7258895429704586\n"
     ]
    },
    {
     "name": "stderr",
     "output_type": "stream",
     "text": [
      "Traceback (most recent call last):\n",
      "  File \"/home/jupyter-steerapi/stitchnet/stitchnet/stitchonnx/utils.py\", line 1063, in recursive_stitching\n",
      "    newcurr_fragment = stitch_fragments(curr, nextf, data)\n",
      "  File \"/home/jupyter-steerapi/stitchnet/stitchnet/stitchonnx/utils.py\", line 708, in stitch_fragments\n",
      "    nw = adjust_w(tX, tY, w)\n",
      "  File \"/home/jupyter-steerapi/stitchnet/stitchnet/stitchonnx/utils.py\", line 627, in adjust_w\n",
      "    return adjust_w_conv(tX, tY, w)\n",
      "  File \"/home/jupyter-steerapi/stitchnet/stitchnet/stitchonnx/utils.py\", line 599, in adjust_w_conv\n",
      "    tX = up(tX)\n",
      "  File \"/home/jupyter-steerapi/.conda/envs/stitchnet/lib/python3.10/site-packages/torch/nn/modules/module.py\", line 1130, in _call_impl\n",
      "    return forward_call(*input, **kwargs)\n",
      "  File \"/home/jupyter-steerapi/.conda/envs/stitchnet/lib/python3.10/site-packages/torch/nn/modules/upsampling.py\", line 153, in forward\n",
      "    return F.interpolate(input, self.size, self.scale_factor, self.mode, self.align_corners,\n",
      "  File \"/home/jupyter-steerapi/.conda/envs/stitchnet/lib/python3.10/site-packages/torch/nn/functional.py\", line 3854, in interpolate\n",
      "    raise ValueError(\n",
      "ValueError: Input and output must have the same number of spatial dimensions, but got input with with spatial dimensions of [] and output size of (13, 13). Please provide input tensor in (N, C, d1, d2, ...,dK) format and output size in (o1, o2, ...,oK) format.\n"
     ]
    },
    {
     "name": "stdout",
     "output_type": "stream",
     "text": [
      "ERROR Input and output must have the same number of spatial dimensions, but got input with with spatial dimensions of [] and output size of (56, 56). Please provide input tensor in (N, C, d1, d2, ...,dK) format and output size in (o1, o2, ...,oK) format.\n",
      "totalscore 0.7135404283686008\n"
     ]
    },
    {
     "name": "stderr",
     "output_type": "stream",
     "text": [
      "Traceback (most recent call last):\n",
      "  File \"/home/jupyter-steerapi/stitchnet/stitchnet/stitchonnx/utils.py\", line 1063, in recursive_stitching\n",
      "    newcurr_fragment = stitch_fragments(curr, nextf, data)\n",
      "  File \"/home/jupyter-steerapi/stitchnet/stitchnet/stitchonnx/utils.py\", line 708, in stitch_fragments\n",
      "    nw = adjust_w(tX, tY, w)\n",
      "  File \"/home/jupyter-steerapi/stitchnet/stitchnet/stitchonnx/utils.py\", line 627, in adjust_w\n",
      "    return adjust_w_conv(tX, tY, w)\n",
      "  File \"/home/jupyter-steerapi/stitchnet/stitchnet/stitchonnx/utils.py\", line 599, in adjust_w_conv\n",
      "    tX = up(tX)\n",
      "  File \"/home/jupyter-steerapi/.conda/envs/stitchnet/lib/python3.10/site-packages/torch/nn/modules/module.py\", line 1130, in _call_impl\n",
      "    return forward_call(*input, **kwargs)\n",
      "  File \"/home/jupyter-steerapi/.conda/envs/stitchnet/lib/python3.10/site-packages/torch/nn/modules/upsampling.py\", line 153, in forward\n",
      "    return F.interpolate(input, self.size, self.scale_factor, self.mode, self.align_corners,\n",
      "  File \"/home/jupyter-steerapi/.conda/envs/stitchnet/lib/python3.10/site-packages/torch/nn/functional.py\", line 3854, in interpolate\n",
      "    raise ValueError(\n",
      "ValueError: Input and output must have the same number of spatial dimensions, but got input with with spatial dimensions of [] and output size of (56, 56). Please provide input tensor in (N, C, d1, d2, ...,dK) format and output size in (o1, o2, ...,oK) format.\n"
     ]
    },
    {
     "name": "stdout",
     "output_type": "stream",
     "text": [
      "ERROR Input and output must have the same number of spatial dimensions, but got input with with spatial dimensions of [] and output size of (14, 14). Please provide input tensor in (N, C, d1, d2, ...,dK) format and output size in (o1, o2, ...,oK) format.\n",
      "totalscore 0.6966529021421293\n"
     ]
    },
    {
     "name": "stderr",
     "output_type": "stream",
     "text": [
      "Traceback (most recent call last):\n",
      "  File \"/home/jupyter-steerapi/stitchnet/stitchnet/stitchonnx/utils.py\", line 1063, in recursive_stitching\n",
      "    newcurr_fragment = stitch_fragments(curr, nextf, data)\n",
      "  File \"/home/jupyter-steerapi/stitchnet/stitchnet/stitchonnx/utils.py\", line 708, in stitch_fragments\n",
      "    nw = adjust_w(tX, tY, w)\n",
      "  File \"/home/jupyter-steerapi/stitchnet/stitchnet/stitchonnx/utils.py\", line 627, in adjust_w\n",
      "    return adjust_w_conv(tX, tY, w)\n",
      "  File \"/home/jupyter-steerapi/stitchnet/stitchnet/stitchonnx/utils.py\", line 599, in adjust_w_conv\n",
      "    tX = up(tX)\n",
      "  File \"/home/jupyter-steerapi/.conda/envs/stitchnet/lib/python3.10/site-packages/torch/nn/modules/module.py\", line 1130, in _call_impl\n",
      "    return forward_call(*input, **kwargs)\n",
      "  File \"/home/jupyter-steerapi/.conda/envs/stitchnet/lib/python3.10/site-packages/torch/nn/modules/upsampling.py\", line 153, in forward\n",
      "    return F.interpolate(input, self.size, self.scale_factor, self.mode, self.align_corners,\n",
      "  File \"/home/jupyter-steerapi/.conda/envs/stitchnet/lib/python3.10/site-packages/torch/nn/functional.py\", line 3854, in interpolate\n",
      "    raise ValueError(\n",
      "ValueError: Input and output must have the same number of spatial dimensions, but got input with with spatial dimensions of [] and output size of (14, 14). Please provide input tensor in (N, C, d1, d2, ...,dK) format and output size in (o1, o2, ...,oK) format.\n",
      "100%|██████████| 80/80 [00:07<00:00, 11.19it/s]\n"
     ]
    },
    {
     "name": "stdout",
     "output_type": "stream",
     "text": [
      "accuracy 0.7721021611001965\n",
      "saving to _results/1660390414_result_BS_32_MD_10_T_0.7_TT_0.5/net058\n",
      "totalscore 0.6910723871075839\n",
      "ERROR Input and output must have the same number of spatial dimensions, but got input with with spatial dimensions of [] and output size of (14, 14). Please provide input tensor in (N, C, d1, d2, ...,dK) format and output size in (o1, o2, ...,oK) format.\n",
      "totalscore 0.6841391063562466\n"
     ]
    },
    {
     "name": "stderr",
     "output_type": "stream",
     "text": [
      "Traceback (most recent call last):\n",
      "  File \"/home/jupyter-steerapi/stitchnet/stitchnet/stitchonnx/utils.py\", line 1063, in recursive_stitching\n",
      "    newcurr_fragment = stitch_fragments(curr, nextf, data)\n",
      "  File \"/home/jupyter-steerapi/stitchnet/stitchnet/stitchonnx/utils.py\", line 708, in stitch_fragments\n",
      "    nw = adjust_w(tX, tY, w)\n",
      "  File \"/home/jupyter-steerapi/stitchnet/stitchnet/stitchonnx/utils.py\", line 627, in adjust_w\n",
      "    return adjust_w_conv(tX, tY, w)\n",
      "  File \"/home/jupyter-steerapi/stitchnet/stitchnet/stitchonnx/utils.py\", line 599, in adjust_w_conv\n",
      "    tX = up(tX)\n",
      "  File \"/home/jupyter-steerapi/.conda/envs/stitchnet/lib/python3.10/site-packages/torch/nn/modules/module.py\", line 1130, in _call_impl\n",
      "    return forward_call(*input, **kwargs)\n",
      "  File \"/home/jupyter-steerapi/.conda/envs/stitchnet/lib/python3.10/site-packages/torch/nn/modules/upsampling.py\", line 153, in forward\n",
      "    return F.interpolate(input, self.size, self.scale_factor, self.mode, self.align_corners,\n",
      "  File \"/home/jupyter-steerapi/.conda/envs/stitchnet/lib/python3.10/site-packages/torch/nn/functional.py\", line 3854, in interpolate\n",
      "    raise ValueError(\n",
      "ValueError: Input and output must have the same number of spatial dimensions, but got input with with spatial dimensions of [] and output size of (14, 14). Please provide input tensor in (N, C, d1, d2, ...,dK) format and output size in (o1, o2, ...,oK) format.\n"
     ]
    },
    {
     "name": "stdout",
     "output_type": "stream",
     "text": [
      "current depth: 8\n",
      "potential next fragments: 43\n",
      "potential next fragments after thresholding of 0.7: 35 ['1.0', '0.93', '0.87', '0.86', '0.84', '0.83', '0.81', '0.81', '0.79', '0.75', '0.74', '0.74', '0.74', '0.73', '0.73', '0.73', '0.73', '0.72', '0.72', '0.72', '0.72', '0.72', '0.72', '0.72', '0.72', '0.71', '0.71', '0.71', '0.71', '0.71', '0.71', '0.71', '0.7', '0.7', '0.7']\n",
      "totalscore 0.6837885390215146\n"
     ]
    },
    {
     "name": "stderr",
     "output_type": "stream",
     "text": [
      "100%|██████████| 80/80 [00:07<00:00, 10.95it/s]\n"
     ]
    },
    {
     "name": "stdout",
     "output_type": "stream",
     "text": [
      "accuracy 0.8031434184675835\n",
      "saving to _results/1660390414_result_BS_32_MD_10_T_0.7_TT_0.5/net059\n",
      "totalscore 0.6374119916109287\n",
      "current depth: 9\n",
      "potential next fragments: 5\n",
      "potential next fragments after thresholding of 0.7: 5 ['1.0', '0.86', '0.84', '0.83', '0.81']\n",
      "totalscore 0.6367458653329505\n"
     ]
    },
    {
     "name": "stderr",
     "output_type": "stream",
     "text": [
      "100%|██████████| 80/80 [00:07<00:00, 11.40it/s]\n"
     ]
    },
    {
     "name": "stdout",
     "output_type": "stream",
     "text": [
      "accuracy 0.7852652259332024\n",
      "saving to _results/1660390414_result_BS_32_MD_10_T_0.7_TT_0.5/net060\n",
      "totalscore 0.5465972062973565\n"
     ]
    },
    {
     "name": "stderr",
     "output_type": "stream",
     "text": [
      "100%|██████████| 80/80 [00:07<00:00, 10.70it/s]\n"
     ]
    },
    {
     "name": "stdout",
     "output_type": "stream",
     "text": [
      "accuracy 0.8072691552062868\n",
      "saving to _results/1660390414_result_BS_32_MD_10_T_0.7_TT_0.5/net061\n",
      "totalscore 0.5362394042862887\n"
     ]
    },
    {
     "name": "stderr",
     "output_type": "stream",
     "text": [
      "100%|██████████| 80/80 [00:07<00:00, 10.88it/s]\n"
     ]
    },
    {
     "name": "stdout",
     "output_type": "stream",
     "text": [
      "accuracy 0.7948919449901768\n",
      "saving to _results/1660390414_result_BS_32_MD_10_T_0.7_TT_0.5/net062\n",
      "totalscore 0.5299642614724629\n"
     ]
    },
    {
     "name": "stderr",
     "output_type": "stream",
     "text": [
      "100%|██████████| 80/80 [00:07<00:00, 10.83it/s]\n"
     ]
    },
    {
     "name": "stdout",
     "output_type": "stream",
     "text": [
      "accuracy 0.7777996070726916\n",
      "saving to _results/1660390414_result_BS_32_MD_10_T_0.7_TT_0.5/net063\n",
      "totalscore 0.5171691507871892\n"
     ]
    },
    {
     "name": "stderr",
     "output_type": "stream",
     "text": [
      "100%|██████████| 80/80 [00:07<00:00, 10.53it/s]\n"
     ]
    },
    {
     "name": "stdout",
     "output_type": "stream",
     "text": [
      "accuracy 0.8298624754420432\n",
      "saving to _results/1660390414_result_BS_32_MD_10_T_0.7_TT_0.5/net064\n",
      "totalscore 0.5938279126291498\n"
     ]
    },
    {
     "name": "stderr",
     "output_type": "stream",
     "text": [
      "100%|██████████| 80/80 [00:07<00:00, 10.78it/s]\n"
     ]
    },
    {
     "name": "stdout",
     "output_type": "stream",
     "text": [
      "accuracy 0.7923379174852653\n",
      "saving to _results/1660390414_result_BS_32_MD_10_T_0.7_TT_0.5/net065\n",
      "totalscore 0.5870286108502467\n",
      "current depth: 9\n",
      "potential next fragments: 5\n",
      "potential next fragments after thresholding of 0.7: 5 ['0.96', '0.87', '0.86', '0.81', '0.81']\n",
      "totalscore 0.5646213905895041\n"
     ]
    },
    {
     "name": "stderr",
     "output_type": "stream",
     "text": [
      "100%|██████████| 80/80 [00:07<00:00, 10.70it/s]\n"
     ]
    },
    {
     "name": "stdout",
     "output_type": "stream",
     "text": [
      "accuracy 0.7866404715127702\n",
      "saving to _results/1660390414_result_BS_32_MD_10_T_0.7_TT_0.5/net066\n",
      "totalscore 0.5113963872978963\n"
     ]
    },
    {
     "name": "stderr",
     "output_type": "stream",
     "text": [
      "100%|██████████| 80/80 [00:07<00:00, 10.53it/s]\n"
     ]
    },
    {
     "name": "stdout",
     "output_type": "stream",
     "text": [
      "accuracy 0.8159135559921414\n",
      "saving to _results/1660390414_result_BS_32_MD_10_T_0.7_TT_0.5/net067\n",
      "totalscore 0.5022033513913221\n"
     ]
    },
    {
     "name": "stderr",
     "output_type": "stream",
     "text": [
      "100%|██████████| 80/80 [00:07<00:00, 10.70it/s]\n"
     ]
    },
    {
     "name": "stdout",
     "output_type": "stream",
     "text": [
      "accuracy 0.8412573673870334\n",
      "saving to _results/1660390414_result_BS_32_MD_10_T_0.7_TT_0.5/net068\n",
      "totalscore 0.5777593120259333\n"
     ]
    },
    {
     "name": "stderr",
     "output_type": "stream",
     "text": [
      "100%|██████████| 80/80 [00:07<00:00, 10.31it/s]\n"
     ]
    },
    {
     "name": "stdout",
     "output_type": "stream",
     "text": [
      "accuracy 0.806483300589391\n",
      "saving to _results/1660390414_result_BS_32_MD_10_T_0.7_TT_0.5/net069\n",
      "totalscore 0.5699221319402255\n"
     ]
    },
    {
     "name": "stderr",
     "output_type": "stream",
     "text": [
      "100%|██████████| 80/80 [00:07<00:00, 10.24it/s]\n"
     ]
    },
    {
     "name": "stdout",
     "output_type": "stream",
     "text": [
      "accuracy 0.8227897838899804\n",
      "saving to _results/1660390414_result_BS_32_MD_10_T_0.7_TT_0.5/net070\n",
      "totalscore 0.5542564574547814\n"
     ]
    },
    {
     "name": "stderr",
     "output_type": "stream",
     "text": [
      "100%|██████████| 80/80 [00:07<00:00, 10.16it/s]\n"
     ]
    },
    {
     "name": "stdout",
     "output_type": "stream",
     "text": [
      "accuracy 0.8055009823182712\n",
      "saving to _results/1660390414_result_BS_32_MD_10_T_0.7_TT_0.5/net071\n",
      "totalscore 0.553272365156411\n",
      "current depth: 9\n",
      "potential next fragments: 5\n",
      "potential next fragments after thresholding of 0.7: 4 ['0.92', '0.87', '0.73', '0.72']\n",
      "totalscore 0.5108636296559541\n"
     ]
    },
    {
     "name": "stderr",
     "output_type": "stream",
     "text": [
      "100%|██████████| 80/80 [00:07<00:00, 10.52it/s]\n"
     ]
    },
    {
     "name": "stdout",
     "output_type": "stream",
     "text": [
      "accuracy 0.8231827111984283\n",
      "saving to _results/1660390414_result_BS_32_MD_10_T_0.7_TT_0.5/net072\n",
      "totalscore 0.5378890366318468\n",
      "ERROR Input and output must have the same number of spatial dimensions, but got input with with spatial dimensions of [] and output size of (7, 7). Please provide input tensor in (N, C, d1, d2, ...,dK) format and output size in (o1, o2, ...,oK) format.\n",
      "totalscore 0.510536017281035\n"
     ]
    },
    {
     "name": "stderr",
     "output_type": "stream",
     "text": [
      "Traceback (most recent call last):\n",
      "  File \"/home/jupyter-steerapi/stitchnet/stitchnet/stitchonnx/utils.py\", line 1063, in recursive_stitching\n",
      "    newcurr_fragment = stitch_fragments(curr, nextf, data)\n",
      "  File \"/home/jupyter-steerapi/stitchnet/stitchnet/stitchonnx/utils.py\", line 708, in stitch_fragments\n",
      "    nw = adjust_w(tX, tY, w)\n",
      "  File \"/home/jupyter-steerapi/stitchnet/stitchnet/stitchonnx/utils.py\", line 627, in adjust_w\n",
      "    return adjust_w_conv(tX, tY, w)\n",
      "  File \"/home/jupyter-steerapi/stitchnet/stitchnet/stitchonnx/utils.py\", line 599, in adjust_w_conv\n",
      "    tX = up(tX)\n",
      "  File \"/home/jupyter-steerapi/.conda/envs/stitchnet/lib/python3.10/site-packages/torch/nn/modules/module.py\", line 1130, in _call_impl\n",
      "    return forward_call(*input, **kwargs)\n",
      "  File \"/home/jupyter-steerapi/.conda/envs/stitchnet/lib/python3.10/site-packages/torch/nn/modules/upsampling.py\", line 153, in forward\n",
      "    return F.interpolate(input, self.size, self.scale_factor, self.mode, self.align_corners,\n",
      "  File \"/home/jupyter-steerapi/.conda/envs/stitchnet/lib/python3.10/site-packages/torch/nn/functional.py\", line 3854, in interpolate\n",
      "    raise ValueError(\n",
      "ValueError: Input and output must have the same number of spatial dimensions, but got input with with spatial dimensions of [] and output size of (7, 7). Please provide input tensor in (N, C, d1, d2, ...,dK) format and output size in (o1, o2, ...,oK) format.\n"
     ]
    },
    {
     "name": "stdout",
     "output_type": "stream",
     "text": [
      "current depth: 9\n",
      "potential next fragments: 5\n",
      "potential next fragments after thresholding of 0.7: 4 ['0.9', '0.79', '0.72', '0.72']\n",
      "totalscore 0.5040479729717156\n",
      "ERROR Input and output must have the same number of spatial dimensions, but got input with with spatial dimensions of [] and output size of (7, 7). Please provide input tensor in (N, C, d1, d2, ...,dK) format and output size in (o1, o2, ...,oK) format.\n",
      "totalscore 0.5030141724517518\n"
     ]
    },
    {
     "name": "stderr",
     "output_type": "stream",
     "text": [
      "Traceback (most recent call last):\n",
      "  File \"/home/jupyter-steerapi/stitchnet/stitchnet/stitchonnx/utils.py\", line 1063, in recursive_stitching\n",
      "    newcurr_fragment = stitch_fragments(curr, nextf, data)\n",
      "  File \"/home/jupyter-steerapi/stitchnet/stitchnet/stitchonnx/utils.py\", line 708, in stitch_fragments\n",
      "    nw = adjust_w(tX, tY, w)\n",
      "  File \"/home/jupyter-steerapi/stitchnet/stitchnet/stitchonnx/utils.py\", line 627, in adjust_w\n",
      "    return adjust_w_conv(tX, tY, w)\n",
      "  File \"/home/jupyter-steerapi/stitchnet/stitchnet/stitchonnx/utils.py\", line 599, in adjust_w_conv\n",
      "    tX = up(tX)\n",
      "  File \"/home/jupyter-steerapi/.conda/envs/stitchnet/lib/python3.10/site-packages/torch/nn/modules/module.py\", line 1130, in _call_impl\n",
      "    return forward_call(*input, **kwargs)\n",
      "  File \"/home/jupyter-steerapi/.conda/envs/stitchnet/lib/python3.10/site-packages/torch/nn/modules/upsampling.py\", line 153, in forward\n",
      "    return F.interpolate(input, self.size, self.scale_factor, self.mode, self.align_corners,\n",
      "  File \"/home/jupyter-steerapi/.conda/envs/stitchnet/lib/python3.10/site-packages/torch/nn/functional.py\", line 3854, in interpolate\n",
      "    raise ValueError(\n",
      "ValueError: Input and output must have the same number of spatial dimensions, but got input with with spatial dimensions of [] and output size of (7, 7). Please provide input tensor in (N, C, d1, d2, ...,dK) format and output size in (o1, o2, ...,oK) format.\n"
     ]
    },
    {
     "name": "stdout",
     "output_type": "stream",
     "text": [
      "ERROR Input and output must have the same number of spatial dimensions, but got input with with spatial dimensions of [] and output size of (14, 14). Please provide input tensor in (N, C, d1, d2, ...,dK) format and output size in (o1, o2, ...,oK) format.\n",
      "totalscore 0.5029342070517973\n"
     ]
    },
    {
     "name": "stderr",
     "output_type": "stream",
     "text": [
      "Traceback (most recent call last):\n",
      "  File \"/home/jupyter-steerapi/stitchnet/stitchnet/stitchonnx/utils.py\", line 1063, in recursive_stitching\n",
      "    newcurr_fragment = stitch_fragments(curr, nextf, data)\n",
      "  File \"/home/jupyter-steerapi/stitchnet/stitchnet/stitchonnx/utils.py\", line 708, in stitch_fragments\n",
      "    nw = adjust_w(tX, tY, w)\n",
      "  File \"/home/jupyter-steerapi/stitchnet/stitchnet/stitchonnx/utils.py\", line 627, in adjust_w\n",
      "    return adjust_w_conv(tX, tY, w)\n",
      "  File \"/home/jupyter-steerapi/stitchnet/stitchnet/stitchonnx/utils.py\", line 599, in adjust_w_conv\n",
      "    tX = up(tX)\n",
      "  File \"/home/jupyter-steerapi/.conda/envs/stitchnet/lib/python3.10/site-packages/torch/nn/modules/module.py\", line 1130, in _call_impl\n",
      "    return forward_call(*input, **kwargs)\n",
      "  File \"/home/jupyter-steerapi/.conda/envs/stitchnet/lib/python3.10/site-packages/torch/nn/modules/upsampling.py\", line 153, in forward\n",
      "    return F.interpolate(input, self.size, self.scale_factor, self.mode, self.align_corners,\n",
      "  File \"/home/jupyter-steerapi/.conda/envs/stitchnet/lib/python3.10/site-packages/torch/nn/functional.py\", line 3854, in interpolate\n",
      "    raise ValueError(\n",
      "ValueError: Input and output must have the same number of spatial dimensions, but got input with with spatial dimensions of [] and output size of (14, 14). Please provide input tensor in (N, C, d1, d2, ...,dK) format and output size in (o1, o2, ...,oK) format.\n"
     ]
    },
    {
     "name": "stdout",
     "output_type": "stream",
     "text": [
      "ERROR Input and output must have the same number of spatial dimensions, but got input with with spatial dimensions of [] and output size of (56, 56). Please provide input tensor in (N, C, d1, d2, ...,dK) format and output size in (o1, o2, ...,oK) format.\n",
      "totalscore 0.5027109890001137\n"
     ]
    },
    {
     "name": "stderr",
     "output_type": "stream",
     "text": [
      "Traceback (most recent call last):\n",
      "  File \"/home/jupyter-steerapi/stitchnet/stitchnet/stitchonnx/utils.py\", line 1063, in recursive_stitching\n",
      "    newcurr_fragment = stitch_fragments(curr, nextf, data)\n",
      "  File \"/home/jupyter-steerapi/stitchnet/stitchnet/stitchonnx/utils.py\", line 708, in stitch_fragments\n",
      "    nw = adjust_w(tX, tY, w)\n",
      "  File \"/home/jupyter-steerapi/stitchnet/stitchnet/stitchonnx/utils.py\", line 627, in adjust_w\n",
      "    return adjust_w_conv(tX, tY, w)\n",
      "  File \"/home/jupyter-steerapi/stitchnet/stitchnet/stitchonnx/utils.py\", line 599, in adjust_w_conv\n",
      "    tX = up(tX)\n",
      "  File \"/home/jupyter-steerapi/.conda/envs/stitchnet/lib/python3.10/site-packages/torch/nn/modules/module.py\", line 1130, in _call_impl\n",
      "    return forward_call(*input, **kwargs)\n",
      "  File \"/home/jupyter-steerapi/.conda/envs/stitchnet/lib/python3.10/site-packages/torch/nn/modules/upsampling.py\", line 153, in forward\n",
      "    return F.interpolate(input, self.size, self.scale_factor, self.mode, self.align_corners,\n",
      "  File \"/home/jupyter-steerapi/.conda/envs/stitchnet/lib/python3.10/site-packages/torch/nn/functional.py\", line 3854, in interpolate\n",
      "    raise ValueError(\n",
      "ValueError: Input and output must have the same number of spatial dimensions, but got input with with spatial dimensions of [] and output size of (56, 56). Please provide input tensor in (N, C, d1, d2, ...,dK) format and output size in (o1, o2, ...,oK) format.\n"
     ]
    },
    {
     "name": "stdout",
     "output_type": "stream",
     "text": [
      "current depth: 9\n",
      "potential next fragments: 5\n",
      "potential next fragments after thresholding of 0.7: 5 ['0.95', '0.85', '0.81', '0.8', '0.77']\n",
      "totalscore 0.6832555421747585\n",
      "ERROR Input and output must have the same number of spatial dimensions, but got input with with spatial dimensions of [] and output size of (28, 28). Please provide input tensor in (N, C, d1, d2, ...,dK) format and output size in (o1, o2, ...,oK) format.\n",
      "totalscore 0.6822049935759025\n"
     ]
    },
    {
     "name": "stderr",
     "output_type": "stream",
     "text": [
      "Traceback (most recent call last):\n",
      "  File \"/home/jupyter-steerapi/stitchnet/stitchnet/stitchonnx/utils.py\", line 1063, in recursive_stitching\n",
      "    newcurr_fragment = stitch_fragments(curr, nextf, data)\n",
      "  File \"/home/jupyter-steerapi/stitchnet/stitchnet/stitchonnx/utils.py\", line 708, in stitch_fragments\n",
      "    nw = adjust_w(tX, tY, w)\n",
      "  File \"/home/jupyter-steerapi/stitchnet/stitchnet/stitchonnx/utils.py\", line 627, in adjust_w\n",
      "    return adjust_w_conv(tX, tY, w)\n",
      "  File \"/home/jupyter-steerapi/stitchnet/stitchnet/stitchonnx/utils.py\", line 599, in adjust_w_conv\n",
      "    tX = up(tX)\n",
      "  File \"/home/jupyter-steerapi/.conda/envs/stitchnet/lib/python3.10/site-packages/torch/nn/modules/module.py\", line 1130, in _call_impl\n",
      "    return forward_call(*input, **kwargs)\n",
      "  File \"/home/jupyter-steerapi/.conda/envs/stitchnet/lib/python3.10/site-packages/torch/nn/modules/upsampling.py\", line 153, in forward\n",
      "    return F.interpolate(input, self.size, self.scale_factor, self.mode, self.align_corners,\n",
      "  File \"/home/jupyter-steerapi/.conda/envs/stitchnet/lib/python3.10/site-packages/torch/nn/functional.py\", line 3854, in interpolate\n",
      "    raise ValueError(\n",
      "ValueError: Input and output must have the same number of spatial dimensions, but got input with with spatial dimensions of [] and output size of (28, 28). Please provide input tensor in (N, C, d1, d2, ...,dK) format and output size in (o1, o2, ...,oK) format.\n"
     ]
    },
    {
     "name": "stdout",
     "output_type": "stream",
     "text": [
      "ERROR Input and output must have the same number of spatial dimensions, but got input with with spatial dimensions of [] and output size of (14, 14). Please provide input tensor in (N, C, d1, d2, ...,dK) format and output size in (o1, o2, ...,oK) format.\n",
      "totalscore 0.6759778731997528\n"
     ]
    },
    {
     "name": "stderr",
     "output_type": "stream",
     "text": [
      "Traceback (most recent call last):\n",
      "  File \"/home/jupyter-steerapi/stitchnet/stitchnet/stitchonnx/utils.py\", line 1063, in recursive_stitching\n",
      "    newcurr_fragment = stitch_fragments(curr, nextf, data)\n",
      "  File \"/home/jupyter-steerapi/stitchnet/stitchnet/stitchonnx/utils.py\", line 708, in stitch_fragments\n",
      "    nw = adjust_w(tX, tY, w)\n",
      "  File \"/home/jupyter-steerapi/stitchnet/stitchnet/stitchonnx/utils.py\", line 627, in adjust_w\n",
      "    return adjust_w_conv(tX, tY, w)\n",
      "  File \"/home/jupyter-steerapi/stitchnet/stitchnet/stitchonnx/utils.py\", line 599, in adjust_w_conv\n",
      "    tX = up(tX)\n",
      "  File \"/home/jupyter-steerapi/.conda/envs/stitchnet/lib/python3.10/site-packages/torch/nn/modules/module.py\", line 1130, in _call_impl\n",
      "    return forward_call(*input, **kwargs)\n",
      "  File \"/home/jupyter-steerapi/.conda/envs/stitchnet/lib/python3.10/site-packages/torch/nn/modules/upsampling.py\", line 153, in forward\n",
      "    return F.interpolate(input, self.size, self.scale_factor, self.mode, self.align_corners,\n",
      "  File \"/home/jupyter-steerapi/.conda/envs/stitchnet/lib/python3.10/site-packages/torch/nn/functional.py\", line 3854, in interpolate\n",
      "    raise ValueError(\n",
      "ValueError: Input and output must have the same number of spatial dimensions, but got input with with spatial dimensions of [] and output size of (14, 14). Please provide input tensor in (N, C, d1, d2, ...,dK) format and output size in (o1, o2, ...,oK) format.\n"
     ]
    },
    {
     "name": "stdout",
     "output_type": "stream",
     "text": [
      "ERROR Input and output must have the same number of spatial dimensions, but got input with with spatial dimensions of [] and output size of (56, 56). Please provide input tensor in (N, C, d1, d2, ...,dK) format and output size in (o1, o2, ...,oK) format.\n",
      "totalscore 0.6694121226832923\n"
     ]
    },
    {
     "name": "stderr",
     "output_type": "stream",
     "text": [
      "Traceback (most recent call last):\n",
      "  File \"/home/jupyter-steerapi/stitchnet/stitchnet/stitchonnx/utils.py\", line 1063, in recursive_stitching\n",
      "    newcurr_fragment = stitch_fragments(curr, nextf, data)\n",
      "  File \"/home/jupyter-steerapi/stitchnet/stitchnet/stitchonnx/utils.py\", line 708, in stitch_fragments\n",
      "    nw = adjust_w(tX, tY, w)\n",
      "  File \"/home/jupyter-steerapi/stitchnet/stitchnet/stitchonnx/utils.py\", line 627, in adjust_w\n",
      "    return adjust_w_conv(tX, tY, w)\n",
      "  File \"/home/jupyter-steerapi/stitchnet/stitchnet/stitchonnx/utils.py\", line 599, in adjust_w_conv\n",
      "    tX = up(tX)\n",
      "  File \"/home/jupyter-steerapi/.conda/envs/stitchnet/lib/python3.10/site-packages/torch/nn/modules/module.py\", line 1130, in _call_impl\n",
      "    return forward_call(*input, **kwargs)\n",
      "  File \"/home/jupyter-steerapi/.conda/envs/stitchnet/lib/python3.10/site-packages/torch/nn/modules/upsampling.py\", line 153, in forward\n",
      "    return F.interpolate(input, self.size, self.scale_factor, self.mode, self.align_corners,\n",
      "  File \"/home/jupyter-steerapi/.conda/envs/stitchnet/lib/python3.10/site-packages/torch/nn/functional.py\", line 3854, in interpolate\n",
      "    raise ValueError(\n",
      "ValueError: Input and output must have the same number of spatial dimensions, but got input with with spatial dimensions of [] and output size of (56, 56). Please provide input tensor in (N, C, d1, d2, ...,dK) format and output size in (o1, o2, ...,oK) format.\n",
      "100%|██████████| 80/80 [00:07<00:00, 10.57it/s]\n"
     ]
    },
    {
     "name": "stdout",
     "output_type": "stream",
     "text": [
      "accuracy 0.7585461689587426\n",
      "saving to _results/1660390414_result_BS_32_MD_10_T_0.7_TT_0.5/net073\n",
      "totalscore 0.6691355153265752\n",
      "ERROR Input and output must have the same number of spatial dimensions, but got input with with spatial dimensions of [] and output size of (13, 13). Please provide input tensor in (N, C, d1, d2, ...,dK) format and output size in (o1, o2, ...,oK) format.\n",
      "totalscore 0.6651841540099822\n"
     ]
    },
    {
     "name": "stderr",
     "output_type": "stream",
     "text": [
      "Traceback (most recent call last):\n",
      "  File \"/home/jupyter-steerapi/stitchnet/stitchnet/stitchonnx/utils.py\", line 1063, in recursive_stitching\n",
      "    newcurr_fragment = stitch_fragments(curr, nextf, data)\n",
      "  File \"/home/jupyter-steerapi/stitchnet/stitchnet/stitchonnx/utils.py\", line 708, in stitch_fragments\n",
      "    nw = adjust_w(tX, tY, w)\n",
      "  File \"/home/jupyter-steerapi/stitchnet/stitchnet/stitchonnx/utils.py\", line 627, in adjust_w\n",
      "    return adjust_w_conv(tX, tY, w)\n",
      "  File \"/home/jupyter-steerapi/stitchnet/stitchnet/stitchonnx/utils.py\", line 599, in adjust_w_conv\n",
      "    tX = up(tX)\n",
      "  File \"/home/jupyter-steerapi/.conda/envs/stitchnet/lib/python3.10/site-packages/torch/nn/modules/module.py\", line 1130, in _call_impl\n",
      "    return forward_call(*input, **kwargs)\n",
      "  File \"/home/jupyter-steerapi/.conda/envs/stitchnet/lib/python3.10/site-packages/torch/nn/modules/upsampling.py\", line 153, in forward\n",
      "    return F.interpolate(input, self.size, self.scale_factor, self.mode, self.align_corners,\n",
      "  File \"/home/jupyter-steerapi/.conda/envs/stitchnet/lib/python3.10/site-packages/torch/nn/functional.py\", line 3854, in interpolate\n",
      "    raise ValueError(\n",
      "ValueError: Input and output must have the same number of spatial dimensions, but got input with with spatial dimensions of [] and output size of (13, 13). Please provide input tensor in (N, C, d1, d2, ...,dK) format and output size in (o1, o2, ...,oK) format.\n"
     ]
    },
    {
     "name": "stdout",
     "output_type": "stream",
     "text": [
      "ERROR Input and output must have the same number of spatial dimensions, but got input with with spatial dimensions of [] and output size of (56, 56). Please provide input tensor in (N, C, d1, d2, ...,dK) format and output size in (o1, o2, ...,oK) format.\n",
      "totalscore 0.6618641528238183\n"
     ]
    },
    {
     "name": "stderr",
     "output_type": "stream",
     "text": [
      "Traceback (most recent call last):\n",
      "  File \"/home/jupyter-steerapi/stitchnet/stitchnet/stitchonnx/utils.py\", line 1063, in recursive_stitching\n",
      "    newcurr_fragment = stitch_fragments(curr, nextf, data)\n",
      "  File \"/home/jupyter-steerapi/stitchnet/stitchnet/stitchonnx/utils.py\", line 708, in stitch_fragments\n",
      "    nw = adjust_w(tX, tY, w)\n",
      "  File \"/home/jupyter-steerapi/stitchnet/stitchnet/stitchonnx/utils.py\", line 627, in adjust_w\n",
      "    return adjust_w_conv(tX, tY, w)\n",
      "  File \"/home/jupyter-steerapi/stitchnet/stitchnet/stitchonnx/utils.py\", line 599, in adjust_w_conv\n",
      "    tX = up(tX)\n",
      "  File \"/home/jupyter-steerapi/.conda/envs/stitchnet/lib/python3.10/site-packages/torch/nn/modules/module.py\", line 1130, in _call_impl\n",
      "    return forward_call(*input, **kwargs)\n",
      "  File \"/home/jupyter-steerapi/.conda/envs/stitchnet/lib/python3.10/site-packages/torch/nn/modules/upsampling.py\", line 153, in forward\n",
      "    return F.interpolate(input, self.size, self.scale_factor, self.mode, self.align_corners,\n",
      "  File \"/home/jupyter-steerapi/.conda/envs/stitchnet/lib/python3.10/site-packages/torch/nn/functional.py\", line 3854, in interpolate\n",
      "    raise ValueError(\n",
      "ValueError: Input and output must have the same number of spatial dimensions, but got input with with spatial dimensions of [] and output size of (56, 56). Please provide input tensor in (N, C, d1, d2, ...,dK) format and output size in (o1, o2, ...,oK) format.\n"
     ]
    },
    {
     "name": "stdout",
     "output_type": "stream",
     "text": [
      "ERROR Input and output must have the same number of spatial dimensions, but got input with with spatial dimensions of [] and output size of (7, 7). Please provide input tensor in (N, C, d1, d2, ...,dK) format and output size in (o1, o2, ...,oK) format.\n",
      "totalscore 0.6608121784138451\n"
     ]
    },
    {
     "name": "stderr",
     "output_type": "stream",
     "text": [
      "Traceback (most recent call last):\n",
      "  File \"/home/jupyter-steerapi/stitchnet/stitchnet/stitchonnx/utils.py\", line 1063, in recursive_stitching\n",
      "    newcurr_fragment = stitch_fragments(curr, nextf, data)\n",
      "  File \"/home/jupyter-steerapi/stitchnet/stitchnet/stitchonnx/utils.py\", line 708, in stitch_fragments\n",
      "    nw = adjust_w(tX, tY, w)\n",
      "  File \"/home/jupyter-steerapi/stitchnet/stitchnet/stitchonnx/utils.py\", line 627, in adjust_w\n",
      "    return adjust_w_conv(tX, tY, w)\n",
      "  File \"/home/jupyter-steerapi/stitchnet/stitchnet/stitchonnx/utils.py\", line 599, in adjust_w_conv\n",
      "    tX = up(tX)\n",
      "  File \"/home/jupyter-steerapi/.conda/envs/stitchnet/lib/python3.10/site-packages/torch/nn/modules/module.py\", line 1130, in _call_impl\n",
      "    return forward_call(*input, **kwargs)\n",
      "  File \"/home/jupyter-steerapi/.conda/envs/stitchnet/lib/python3.10/site-packages/torch/nn/modules/upsampling.py\", line 153, in forward\n",
      "    return F.interpolate(input, self.size, self.scale_factor, self.mode, self.align_corners,\n",
      "  File \"/home/jupyter-steerapi/.conda/envs/stitchnet/lib/python3.10/site-packages/torch/nn/functional.py\", line 3854, in interpolate\n",
      "    raise ValueError(\n",
      "ValueError: Input and output must have the same number of spatial dimensions, but got input with with spatial dimensions of [] and output size of (7, 7). Please provide input tensor in (N, C, d1, d2, ...,dK) format and output size in (o1, o2, ...,oK) format.\n"
     ]
    },
    {
     "name": "stdout",
     "output_type": "stream",
     "text": [
      "current depth: 8\n",
      "potential next fragments: 43\n",
      "potential next fragments after thresholding of 0.7: 35 ['0.96', '0.92', '0.85', '0.83', '0.83', '0.81', '0.78', '0.77', '0.77', '0.77', '0.76', '0.76', '0.76', '0.75', '0.75', '0.75', '0.74', '0.74', '0.74', '0.74', '0.74', '0.73', '0.73', '0.73', '0.73', '0.72', '0.72', '0.72', '0.72', '0.72', '0.72', '0.72', '0.71', '0.71', '0.71']\n",
      "totalscore 0.6371224633178755\n",
      "current depth: 9\n",
      "potential next fragments: 5\n",
      "potential next fragments after thresholding of 0.7: 5 ['0.97', '0.88', '0.86', '0.84', '0.74']\n",
      "totalscore 0.6199076185272414\n"
     ]
    },
    {
     "name": "stderr",
     "output_type": "stream",
     "text": [
      "100%|██████████| 80/80 [00:07<00:00, 11.21it/s]\n"
     ]
    },
    {
     "name": "stdout",
     "output_type": "stream",
     "text": [
      "accuracy 0.7616895874263261\n",
      "saving to _results/1660390414_result_BS_32_MD_10_T_0.7_TT_0.5/net074\n",
      "totalscore 0.5605401291670046\n"
     ]
    },
    {
     "name": "stderr",
     "output_type": "stream",
     "text": [
      "100%|██████████| 80/80 [00:07<00:00, 11.06it/s]\n"
     ]
    },
    {
     "name": "stdout",
     "output_type": "stream",
     "text": [
      "accuracy 0.7707269155206287\n",
      "saving to _results/1660390414_result_BS_32_MD_10_T_0.7_TT_0.5/net075\n",
      "totalscore 0.5492761905631756\n"
     ]
    },
    {
     "name": "stderr",
     "output_type": "stream",
     "text": [
      "100%|██████████| 80/80 [00:07<00:00, 10.78it/s]\n"
     ]
    },
    {
     "name": "stdout",
     "output_type": "stream",
     "text": [
      "accuracy 0.8361493123772102\n",
      "saving to _results/1660390414_result_BS_32_MD_10_T_0.7_TT_0.5/net076\n",
      "totalscore 0.5320149397627378\n"
     ]
    },
    {
     "name": "stderr",
     "output_type": "stream",
     "text": [
      "100%|██████████| 80/80 [00:07<00:00, 10.31it/s]\n"
     ]
    },
    {
     "name": "stdout",
     "output_type": "stream",
     "text": [
      "accuracy 0.7976424361493124\n",
      "saving to _results/1660390414_result_BS_32_MD_10_T_0.7_TT_0.5/net077\n",
      "totalscore 0.6094846658745326\n"
     ]
    },
    {
     "name": "stderr",
     "output_type": "stream",
     "text": [
      "100%|██████████| 80/80 [00:07<00:00, 10.91it/s]\n"
     ]
    },
    {
     "name": "stdout",
     "output_type": "stream",
     "text": [
      "accuracy 0.7469548133595285\n",
      "saving to _results/1660390414_result_BS_32_MD_10_T_0.7_TT_0.5/net078\n",
      "totalscore 0.5623561338993475\n"
     ]
    },
    {
     "name": "stderr",
     "output_type": "stream",
     "text": [
      "100%|██████████| 80/80 [00:07<00:00, 10.43it/s]\n"
     ]
    },
    {
     "name": "stdout",
     "output_type": "stream",
     "text": [
      "accuracy 0.7990176817288801\n",
      "saving to _results/1660390414_result_BS_32_MD_10_T_0.7_TT_0.5/net079\n",
      "totalscore 0.5509680332070279\n"
     ]
    },
    {
     "name": "stderr",
     "output_type": "stream",
     "text": [
      "100%|██████████| 80/80 [00:07<00:00, 10.33it/s]\n"
     ]
    },
    {
     "name": "stdout",
     "output_type": "stream",
     "text": [
      "accuracy 0.7640471512770137\n",
      "saving to _results/1660390414_result_BS_32_MD_10_T_0.7_TT_0.5/net080\n",
      "totalscore 0.5489693945551053\n",
      "current depth: 9\n",
      "potential next fragments: 5\n",
      "potential next fragments after thresholding of 0.7: 5 ['0.94', '0.86', '0.83', '0.8', '0.73']\n",
      "totalscore 0.5156409647060738\n"
     ]
    },
    {
     "name": "stderr",
     "output_type": "stream",
     "text": [
      "100%|██████████| 80/80 [00:08<00:00,  9.99it/s]\n"
     ]
    },
    {
     "name": "stdout",
     "output_type": "stream",
     "text": [
      "accuracy 0.7326129666011788\n",
      "saving to _results/1660390414_result_BS_32_MD_10_T_0.7_TT_0.5/net081\n",
      "totalscore 0.5340935329375794\n"
     ]
    },
    {
     "name": "stderr",
     "output_type": "stream",
     "text": [
      "100%|██████████| 80/80 [00:07<00:00, 10.06it/s]\n"
     ]
    },
    {
     "name": "stdout",
     "output_type": "stream",
     "text": [
      "accuracy 0.7976424361493124\n",
      "saving to _results/1660390414_result_BS_32_MD_10_T_0.7_TT_0.5/net082\n",
      "totalscore 0.5180532593919691\n",
      "current depth: 9\n",
      "potential next fragments: 5\n",
      "potential next fragments after thresholding of 0.7: 5 ['1.0', '0.85', '0.85', '0.84', '0.83']\n",
      "totalscore 0.5177976172798031\n"
     ]
    },
    {
     "name": "stderr",
     "output_type": "stream",
     "text": [
      "100%|██████████| 80/80 [00:08<00:00,  9.93it/s]\n"
     ]
    },
    {
     "name": "stdout",
     "output_type": "stream",
     "text": [
      "accuracy 0.7516699410609037\n",
      "saving to _results/1660390414_result_BS_32_MD_10_T_0.7_TT_0.5/net083\n",
      "totalscore 0.5107256922885979\n"
     ]
    },
    {
     "name": "stderr",
     "output_type": "stream",
     "text": [
      "100%|██████████| 80/80 [00:08<00:00,  9.79it/s]\n"
     ]
    },
    {
     "name": "stdout",
     "output_type": "stream",
     "text": [
      "accuracy 0.7944990176817289\n",
      "saving to _results/1660390414_result_BS_32_MD_10_T_0.7_TT_0.5/net084\n",
      "totalscore 0.5083930478473387\n",
      "ERROR Input and output must have the same number of spatial dimensions, but got input with with spatial dimensions of [] and output size of (7, 7). Please provide input tensor in (N, C, d1, d2, ...,dK) format and output size in (o1, o2, ...,oK) format.\n",
      "totalscore 0.5068892734332964\n"
     ]
    },
    {
     "name": "stderr",
     "output_type": "stream",
     "text": [
      "Traceback (most recent call last):\n",
      "  File \"/home/jupyter-steerapi/stitchnet/stitchnet/stitchonnx/utils.py\", line 1063, in recursive_stitching\n",
      "    newcurr_fragment = stitch_fragments(curr, nextf, data)\n",
      "  File \"/home/jupyter-steerapi/stitchnet/stitchnet/stitchonnx/utils.py\", line 708, in stitch_fragments\n",
      "    nw = adjust_w(tX, tY, w)\n",
      "  File \"/home/jupyter-steerapi/stitchnet/stitchnet/stitchonnx/utils.py\", line 627, in adjust_w\n",
      "    return adjust_w_conv(tX, tY, w)\n",
      "  File \"/home/jupyter-steerapi/stitchnet/stitchnet/stitchonnx/utils.py\", line 599, in adjust_w_conv\n",
      "    tX = up(tX)\n",
      "  File \"/home/jupyter-steerapi/.conda/envs/stitchnet/lib/python3.10/site-packages/torch/nn/modules/module.py\", line 1130, in _call_impl\n",
      "    return forward_call(*input, **kwargs)\n",
      "  File \"/home/jupyter-steerapi/.conda/envs/stitchnet/lib/python3.10/site-packages/torch/nn/modules/upsampling.py\", line 153, in forward\n",
      "    return F.interpolate(input, self.size, self.scale_factor, self.mode, self.align_corners,\n",
      "  File \"/home/jupyter-steerapi/.conda/envs/stitchnet/lib/python3.10/site-packages/torch/nn/functional.py\", line 3854, in interpolate\n",
      "    raise ValueError(\n",
      "ValueError: Input and output must have the same number of spatial dimensions, but got input with with spatial dimensions of [] and output size of (7, 7). Please provide input tensor in (N, C, d1, d2, ...,dK) format and output size in (o1, o2, ...,oK) format.\n"
     ]
    },
    {
     "name": "stdout",
     "output_type": "stream",
     "text": [
      "ERROR Input and output must have the same number of spatial dimensions, but got input with with spatial dimensions of [] and output size of (14, 14). Please provide input tensor in (N, C, d1, d2, ...,dK) format and output size in (o1, o2, ...,oK) format.\n",
      "totalscore 0.5027734004417517\n"
     ]
    },
    {
     "name": "stderr",
     "output_type": "stream",
     "text": [
      "Traceback (most recent call last):\n",
      "  File \"/home/jupyter-steerapi/stitchnet/stitchnet/stitchonnx/utils.py\", line 1063, in recursive_stitching\n",
      "    newcurr_fragment = stitch_fragments(curr, nextf, data)\n",
      "  File \"/home/jupyter-steerapi/stitchnet/stitchnet/stitchonnx/utils.py\", line 708, in stitch_fragments\n",
      "    nw = adjust_w(tX, tY, w)\n",
      "  File \"/home/jupyter-steerapi/stitchnet/stitchnet/stitchonnx/utils.py\", line 627, in adjust_w\n",
      "    return adjust_w_conv(tX, tY, w)\n",
      "  File \"/home/jupyter-steerapi/stitchnet/stitchnet/stitchonnx/utils.py\", line 599, in adjust_w_conv\n",
      "    tX = up(tX)\n",
      "  File \"/home/jupyter-steerapi/.conda/envs/stitchnet/lib/python3.10/site-packages/torch/nn/modules/module.py\", line 1130, in _call_impl\n",
      "    return forward_call(*input, **kwargs)\n",
      "  File \"/home/jupyter-steerapi/.conda/envs/stitchnet/lib/python3.10/site-packages/torch/nn/modules/upsampling.py\", line 153, in forward\n",
      "    return F.interpolate(input, self.size, self.scale_factor, self.mode, self.align_corners,\n",
      "  File \"/home/jupyter-steerapi/.conda/envs/stitchnet/lib/python3.10/site-packages/torch/nn/functional.py\", line 3854, in interpolate\n",
      "    raise ValueError(\n",
      "ValueError: Input and output must have the same number of spatial dimensions, but got input with with spatial dimensions of [] and output size of (14, 14). Please provide input tensor in (N, C, d1, d2, ...,dK) format and output size in (o1, o2, ...,oK) format.\n"
     ]
    },
    {
     "name": "stdout",
     "output_type": "stream",
     "text": [
      "ERROR Input and output must have the same number of spatial dimensions, but got input with with spatial dimensions of [] and output size of (14, 14). Please provide input tensor in (N, C, d1, d2, ...,dK) format and output size in (o1, o2, ...,oK) format.\n",
      "totalscore 0.5011134153012342\n"
     ]
    },
    {
     "name": "stderr",
     "output_type": "stream",
     "text": [
      "Traceback (most recent call last):\n",
      "  File \"/home/jupyter-steerapi/stitchnet/stitchnet/stitchonnx/utils.py\", line 1063, in recursive_stitching\n",
      "    newcurr_fragment = stitch_fragments(curr, nextf, data)\n",
      "  File \"/home/jupyter-steerapi/stitchnet/stitchnet/stitchonnx/utils.py\", line 708, in stitch_fragments\n",
      "    nw = adjust_w(tX, tY, w)\n",
      "  File \"/home/jupyter-steerapi/stitchnet/stitchnet/stitchonnx/utils.py\", line 627, in adjust_w\n",
      "    return adjust_w_conv(tX, tY, w)\n",
      "  File \"/home/jupyter-steerapi/stitchnet/stitchnet/stitchonnx/utils.py\", line 599, in adjust_w_conv\n",
      "    tX = up(tX)\n",
      "  File \"/home/jupyter-steerapi/.conda/envs/stitchnet/lib/python3.10/site-packages/torch/nn/modules/module.py\", line 1130, in _call_impl\n",
      "    return forward_call(*input, **kwargs)\n",
      "  File \"/home/jupyter-steerapi/.conda/envs/stitchnet/lib/python3.10/site-packages/torch/nn/modules/upsampling.py\", line 153, in forward\n",
      "    return F.interpolate(input, self.size, self.scale_factor, self.mode, self.align_corners,\n",
      "  File \"/home/jupyter-steerapi/.conda/envs/stitchnet/lib/python3.10/site-packages/torch/nn/functional.py\", line 3854, in interpolate\n",
      "    raise ValueError(\n",
      "ValueError: Input and output must have the same number of spatial dimensions, but got input with with spatial dimensions of [] and output size of (14, 14). Please provide input tensor in (N, C, d1, d2, ...,dK) format and output size in (o1, o2, ...,oK) format.\n"
     ]
    },
    {
     "name": "stdout",
     "output_type": "stream",
     "text": [
      "ERROR Input and output must have the same number of spatial dimensions, but got input with with spatial dimensions of [] and output size of (28, 28). Please provide input tensor in (N, C, d1, d2, ...,dK) format and output size in (o1, o2, ...,oK) format.\n",
      "totalscore 0.6551243985121826\n"
     ]
    },
    {
     "name": "stderr",
     "output_type": "stream",
     "text": [
      "Traceback (most recent call last):\n",
      "  File \"/home/jupyter-steerapi/stitchnet/stitchnet/stitchonnx/utils.py\", line 1063, in recursive_stitching\n",
      "    newcurr_fragment = stitch_fragments(curr, nextf, data)\n",
      "  File \"/home/jupyter-steerapi/stitchnet/stitchnet/stitchonnx/utils.py\", line 708, in stitch_fragments\n",
      "    nw = adjust_w(tX, tY, w)\n",
      "  File \"/home/jupyter-steerapi/stitchnet/stitchnet/stitchonnx/utils.py\", line 627, in adjust_w\n",
      "    return adjust_w_conv(tX, tY, w)\n",
      "  File \"/home/jupyter-steerapi/stitchnet/stitchnet/stitchonnx/utils.py\", line 599, in adjust_w_conv\n",
      "    tX = up(tX)\n",
      "  File \"/home/jupyter-steerapi/.conda/envs/stitchnet/lib/python3.10/site-packages/torch/nn/modules/module.py\", line 1130, in _call_impl\n",
      "    return forward_call(*input, **kwargs)\n",
      "  File \"/home/jupyter-steerapi/.conda/envs/stitchnet/lib/python3.10/site-packages/torch/nn/modules/upsampling.py\", line 153, in forward\n",
      "    return F.interpolate(input, self.size, self.scale_factor, self.mode, self.align_corners,\n",
      "  File \"/home/jupyter-steerapi/.conda/envs/stitchnet/lib/python3.10/site-packages/torch/nn/functional.py\", line 3854, in interpolate\n",
      "    raise ValueError(\n",
      "ValueError: Input and output must have the same number of spatial dimensions, but got input with with spatial dimensions of [] and output size of (28, 28). Please provide input tensor in (N, C, d1, d2, ...,dK) format and output size in (o1, o2, ...,oK) format.\n"
     ]
    },
    {
     "name": "stdout",
     "output_type": "stream",
     "text": [
      "ERROR Input and output must have the same number of spatial dimensions, but got input with with spatial dimensions of [] and output size of (14, 14). Please provide input tensor in (N, C, d1, d2, ...,dK) format and output size in (o1, o2, ...,oK) format.\n",
      "totalscore 0.6530628401535254\n"
     ]
    },
    {
     "name": "stderr",
     "output_type": "stream",
     "text": [
      "Traceback (most recent call last):\n",
      "  File \"/home/jupyter-steerapi/stitchnet/stitchnet/stitchonnx/utils.py\", line 1063, in recursive_stitching\n",
      "    newcurr_fragment = stitch_fragments(curr, nextf, data)\n",
      "  File \"/home/jupyter-steerapi/stitchnet/stitchnet/stitchonnx/utils.py\", line 708, in stitch_fragments\n",
      "    nw = adjust_w(tX, tY, w)\n",
      "  File \"/home/jupyter-steerapi/stitchnet/stitchnet/stitchonnx/utils.py\", line 627, in adjust_w\n",
      "    return adjust_w_conv(tX, tY, w)\n",
      "  File \"/home/jupyter-steerapi/stitchnet/stitchnet/stitchonnx/utils.py\", line 599, in adjust_w_conv\n",
      "    tX = up(tX)\n",
      "  File \"/home/jupyter-steerapi/.conda/envs/stitchnet/lib/python3.10/site-packages/torch/nn/modules/module.py\", line 1130, in _call_impl\n",
      "    return forward_call(*input, **kwargs)\n",
      "  File \"/home/jupyter-steerapi/.conda/envs/stitchnet/lib/python3.10/site-packages/torch/nn/modules/upsampling.py\", line 153, in forward\n",
      "    return F.interpolate(input, self.size, self.scale_factor, self.mode, self.align_corners,\n",
      "  File \"/home/jupyter-steerapi/.conda/envs/stitchnet/lib/python3.10/site-packages/torch/nn/functional.py\", line 3854, in interpolate\n",
      "    raise ValueError(\n",
      "ValueError: Input and output must have the same number of spatial dimensions, but got input with with spatial dimensions of [] and output size of (14, 14). Please provide input tensor in (N, C, d1, d2, ...,dK) format and output size in (o1, o2, ...,oK) format.\n"
     ]
    },
    {
     "name": "stdout",
     "output_type": "stream",
     "text": [
      "ERROR Input and output must have the same number of spatial dimensions, but got input with with spatial dimensions of [] and output size of (112, 112). Please provide input tensor in (N, C, d1, d2, ...,dK) format and output size in (o1, o2, ...,oK) format.\n",
      "totalscore 0.6523317280837886\n"
     ]
    },
    {
     "name": "stderr",
     "output_type": "stream",
     "text": [
      "Traceback (most recent call last):\n",
      "  File \"/home/jupyter-steerapi/stitchnet/stitchnet/stitchonnx/utils.py\", line 1063, in recursive_stitching\n",
      "    newcurr_fragment = stitch_fragments(curr, nextf, data)\n",
      "  File \"/home/jupyter-steerapi/stitchnet/stitchnet/stitchonnx/utils.py\", line 708, in stitch_fragments\n",
      "    nw = adjust_w(tX, tY, w)\n",
      "  File \"/home/jupyter-steerapi/stitchnet/stitchnet/stitchonnx/utils.py\", line 627, in adjust_w\n",
      "    return adjust_w_conv(tX, tY, w)\n",
      "  File \"/home/jupyter-steerapi/stitchnet/stitchnet/stitchonnx/utils.py\", line 599, in adjust_w_conv\n",
      "    tX = up(tX)\n",
      "  File \"/home/jupyter-steerapi/.conda/envs/stitchnet/lib/python3.10/site-packages/torch/nn/modules/module.py\", line 1130, in _call_impl\n",
      "    return forward_call(*input, **kwargs)\n",
      "  File \"/home/jupyter-steerapi/.conda/envs/stitchnet/lib/python3.10/site-packages/torch/nn/modules/upsampling.py\", line 153, in forward\n",
      "    return F.interpolate(input, self.size, self.scale_factor, self.mode, self.align_corners,\n",
      "  File \"/home/jupyter-steerapi/.conda/envs/stitchnet/lib/python3.10/site-packages/torch/nn/functional.py\", line 3854, in interpolate\n",
      "    raise ValueError(\n",
      "ValueError: Input and output must have the same number of spatial dimensions, but got input with with spatial dimensions of [] and output size of (112, 112). Please provide input tensor in (N, C, d1, d2, ...,dK) format and output size in (o1, o2, ...,oK) format.\n"
     ]
    },
    {
     "name": "stdout",
     "output_type": "stream",
     "text": [
      "ERROR Input and output must have the same number of spatial dimensions, but got input with with spatial dimensions of [] and output size of (7, 7). Please provide input tensor in (N, C, d1, d2, ...,dK) format and output size in (o1, o2, ...,oK) format.\n",
      "totalscore 0.6507858746384082\n"
     ]
    },
    {
     "name": "stderr",
     "output_type": "stream",
     "text": [
      "Traceback (most recent call last):\n",
      "  File \"/home/jupyter-steerapi/stitchnet/stitchnet/stitchonnx/utils.py\", line 1063, in recursive_stitching\n",
      "    newcurr_fragment = stitch_fragments(curr, nextf, data)\n",
      "  File \"/home/jupyter-steerapi/stitchnet/stitchnet/stitchonnx/utils.py\", line 708, in stitch_fragments\n",
      "    nw = adjust_w(tX, tY, w)\n",
      "  File \"/home/jupyter-steerapi/stitchnet/stitchnet/stitchonnx/utils.py\", line 627, in adjust_w\n",
      "    return adjust_w_conv(tX, tY, w)\n",
      "  File \"/home/jupyter-steerapi/stitchnet/stitchnet/stitchonnx/utils.py\", line 599, in adjust_w_conv\n",
      "    tX = up(tX)\n",
      "  File \"/home/jupyter-steerapi/.conda/envs/stitchnet/lib/python3.10/site-packages/torch/nn/modules/module.py\", line 1130, in _call_impl\n",
      "    return forward_call(*input, **kwargs)\n",
      "  File \"/home/jupyter-steerapi/.conda/envs/stitchnet/lib/python3.10/site-packages/torch/nn/modules/upsampling.py\", line 153, in forward\n",
      "    return F.interpolate(input, self.size, self.scale_factor, self.mode, self.align_corners,\n",
      "  File \"/home/jupyter-steerapi/.conda/envs/stitchnet/lib/python3.10/site-packages/torch/nn/functional.py\", line 3854, in interpolate\n",
      "    raise ValueError(\n",
      "ValueError: Input and output must have the same number of spatial dimensions, but got input with with spatial dimensions of [] and output size of (7, 7). Please provide input tensor in (N, C, d1, d2, ...,dK) format and output size in (o1, o2, ...,oK) format.\n",
      "100%|██████████| 80/80 [00:08<00:00,  9.95it/s]\n"
     ]
    },
    {
     "name": "stdout",
     "output_type": "stream",
     "text": [
      "accuracy 0.7913555992141453\n",
      "saving to _results/1660390414_result_BS_32_MD_10_T_0.7_TT_0.5/net085\n",
      "totalscore 0.6489222846694713\n",
      "ERROR Input and output must have the same number of spatial dimensions, but got input with with spatial dimensions of [] and output size of (28, 28). Please provide input tensor in (N, C, d1, d2, ...,dK) format and output size in (o1, o2, ...,oK) format.\n",
      "totalscore 0.6454966637828639\n"
     ]
    },
    {
     "name": "stderr",
     "output_type": "stream",
     "text": [
      "Traceback (most recent call last):\n",
      "  File \"/home/jupyter-steerapi/stitchnet/stitchnet/stitchonnx/utils.py\", line 1063, in recursive_stitching\n",
      "    newcurr_fragment = stitch_fragments(curr, nextf, data)\n",
      "  File \"/home/jupyter-steerapi/stitchnet/stitchnet/stitchonnx/utils.py\", line 708, in stitch_fragments\n",
      "    nw = adjust_w(tX, tY, w)\n",
      "  File \"/home/jupyter-steerapi/stitchnet/stitchnet/stitchonnx/utils.py\", line 627, in adjust_w\n",
      "    return adjust_w_conv(tX, tY, w)\n",
      "  File \"/home/jupyter-steerapi/stitchnet/stitchnet/stitchonnx/utils.py\", line 599, in adjust_w_conv\n",
      "    tX = up(tX)\n",
      "  File \"/home/jupyter-steerapi/.conda/envs/stitchnet/lib/python3.10/site-packages/torch/nn/modules/module.py\", line 1130, in _call_impl\n",
      "    return forward_call(*input, **kwargs)\n",
      "  File \"/home/jupyter-steerapi/.conda/envs/stitchnet/lib/python3.10/site-packages/torch/nn/modules/upsampling.py\", line 153, in forward\n",
      "    return F.interpolate(input, self.size, self.scale_factor, self.mode, self.align_corners,\n",
      "  File \"/home/jupyter-steerapi/.conda/envs/stitchnet/lib/python3.10/site-packages/torch/nn/functional.py\", line 3854, in interpolate\n",
      "    raise ValueError(\n",
      "ValueError: Input and output must have the same number of spatial dimensions, but got input with with spatial dimensions of [] and output size of (28, 28). Please provide input tensor in (N, C, d1, d2, ...,dK) format and output size in (o1, o2, ...,oK) format.\n"
     ]
    },
    {
     "name": "stdout",
     "output_type": "stream",
     "text": [
      "ERROR Input and output must have the same number of spatial dimensions, but got input with with spatial dimensions of [] and output size of (224, 224). Please provide input tensor in (N, C, d1, d2, ...,dK) format and output size in (o1, o2, ...,oK) format.\n",
      "totalscore 0.6447469064908264\n"
     ]
    },
    {
     "name": "stderr",
     "output_type": "stream",
     "text": [
      "Traceback (most recent call last):\n",
      "  File \"/home/jupyter-steerapi/stitchnet/stitchnet/stitchonnx/utils.py\", line 1063, in recursive_stitching\n",
      "    newcurr_fragment = stitch_fragments(curr, nextf, data)\n",
      "  File \"/home/jupyter-steerapi/stitchnet/stitchnet/stitchonnx/utils.py\", line 708, in stitch_fragments\n",
      "    nw = adjust_w(tX, tY, w)\n",
      "  File \"/home/jupyter-steerapi/stitchnet/stitchnet/stitchonnx/utils.py\", line 627, in adjust_w\n",
      "    return adjust_w_conv(tX, tY, w)\n",
      "  File \"/home/jupyter-steerapi/stitchnet/stitchnet/stitchonnx/utils.py\", line 599, in adjust_w_conv\n",
      "    tX = up(tX)\n",
      "  File \"/home/jupyter-steerapi/.conda/envs/stitchnet/lib/python3.10/site-packages/torch/nn/modules/module.py\", line 1130, in _call_impl\n",
      "    return forward_call(*input, **kwargs)\n",
      "  File \"/home/jupyter-steerapi/.conda/envs/stitchnet/lib/python3.10/site-packages/torch/nn/modules/upsampling.py\", line 153, in forward\n",
      "    return F.interpolate(input, self.size, self.scale_factor, self.mode, self.align_corners,\n",
      "  File \"/home/jupyter-steerapi/.conda/envs/stitchnet/lib/python3.10/site-packages/torch/nn/functional.py\", line 3854, in interpolate\n",
      "    raise ValueError(\n",
      "ValueError: Input and output must have the same number of spatial dimensions, but got input with with spatial dimensions of [] and output size of (224, 224). Please provide input tensor in (N, C, d1, d2, ...,dK) format and output size in (o1, o2, ...,oK) format.\n"
     ]
    },
    {
     "name": "stdout",
     "output_type": "stream",
     "text": [
      "ERROR Input and output must have the same number of spatial dimensions, but got input with with spatial dimensions of [] and output size of (28, 28). Please provide input tensor in (N, C, d1, d2, ...,dK) format and output size in (o1, o2, ...,oK) format.\n",
      "totalscore 0.8789615183954281\n"
     ]
    },
    {
     "name": "stderr",
     "output_type": "stream",
     "text": [
      "Traceback (most recent call last):\n",
      "  File \"/home/jupyter-steerapi/stitchnet/stitchnet/stitchonnx/utils.py\", line 1063, in recursive_stitching\n",
      "    newcurr_fragment = stitch_fragments(curr, nextf, data)\n",
      "  File \"/home/jupyter-steerapi/stitchnet/stitchnet/stitchonnx/utils.py\", line 708, in stitch_fragments\n",
      "    nw = adjust_w(tX, tY, w)\n",
      "  File \"/home/jupyter-steerapi/stitchnet/stitchnet/stitchonnx/utils.py\", line 627, in adjust_w\n",
      "    return adjust_w_conv(tX, tY, w)\n",
      "  File \"/home/jupyter-steerapi/stitchnet/stitchnet/stitchonnx/utils.py\", line 599, in adjust_w_conv\n",
      "    tX = up(tX)\n",
      "  File \"/home/jupyter-steerapi/.conda/envs/stitchnet/lib/python3.10/site-packages/torch/nn/modules/module.py\", line 1130, in _call_impl\n",
      "    return forward_call(*input, **kwargs)\n",
      "  File \"/home/jupyter-steerapi/.conda/envs/stitchnet/lib/python3.10/site-packages/torch/nn/modules/upsampling.py\", line 153, in forward\n",
      "    return F.interpolate(input, self.size, self.scale_factor, self.mode, self.align_corners,\n",
      "  File \"/home/jupyter-steerapi/.conda/envs/stitchnet/lib/python3.10/site-packages/torch/nn/functional.py\", line 3854, in interpolate\n",
      "    raise ValueError(\n",
      "ValueError: Input and output must have the same number of spatial dimensions, but got input with with spatial dimensions of [] and output size of (28, 28). Please provide input tensor in (N, C, d1, d2, ...,dK) format and output size in (o1, o2, ...,oK) format.\n",
      "100%|██████████| 80/80 [00:08<00:00,  9.82it/s]\n"
     ]
    },
    {
     "name": "stdout",
     "output_type": "stream",
     "text": [
      "accuracy 0.8357563850687623\n",
      "saving to _results/1660390414_result_BS_32_MD_10_T_0.7_TT_0.5/net086\n",
      "totalscore 0.8436837282941984\n",
      "current depth: 7\n",
      "potential next fragments: 43\n",
      "potential next fragments after thresholding of 0.7: 27 ['0.97', '0.92', '0.89', '0.82', '0.78', '0.78', '0.77', '0.77', '0.75', '0.74', '0.74', '0.74', '0.74', '0.73', '0.73', '0.73', '0.73', '0.72', '0.72', '0.72', '0.72', '0.71', '0.71', '0.71', '0.71', '0.71', '0.7']\n",
      "totalscore 0.8161669784590901\n",
      "current depth: 8\n",
      "potential next fragments: 43\n",
      "potential next fragments after thresholding of 0.7: 23 ['0.92', '0.88', '0.87', '0.86', '0.81', '0.79', '0.77', '0.76', '0.76', '0.75', '0.74', '0.74', '0.74', '0.73', '0.73', '0.73', '0.73', '0.72', '0.71', '0.71', '0.71', '0.71', '0.71']\n",
      "totalscore 0.7526963524447156\n",
      "current depth: 9\n",
      "potential next fragments: 5\n",
      "potential next fragments after thresholding of 0.7: 4 ['0.89', '0.84', '0.75', '0.72']\n",
      "totalscore 0.6696042672956772\n"
     ]
    },
    {
     "name": "stderr",
     "output_type": "stream",
     "text": [
      "100%|██████████| 80/80 [00:08<00:00,  9.76it/s]\n"
     ]
    },
    {
     "name": "stdout",
     "output_type": "stream",
     "text": [
      "accuracy 0.7834970530451867\n",
      "saving to _results/1660390414_result_BS_32_MD_10_T_0.7_TT_0.5/net087\n",
      "totalscore 0.6312018591248517\n"
     ]
    },
    {
     "name": "stderr",
     "output_type": "stream",
     "text": [
      "100%|██████████| 80/80 [00:08<00:00,  9.59it/s]\n"
     ]
    },
    {
     "name": "stdout",
     "output_type": "stream",
     "text": [
      "accuracy 0.8220039292730845\n",
      "saving to _results/1660390414_result_BS_32_MD_10_T_0.7_TT_0.5/net088\n",
      "totalscore 0.5624193896115454\n"
     ]
    },
    {
     "name": "stderr",
     "output_type": "stream",
     "text": [
      "100%|██████████| 80/80 [00:07<00:00, 10.33it/s]\n"
     ]
    },
    {
     "name": "stdout",
     "output_type": "stream",
     "text": [
      "accuracy 0.7620825147347741\n",
      "saving to _results/1660390414_result_BS_32_MD_10_T_0.7_TT_0.5/net089\n",
      "totalscore 0.5404082958966515\n"
     ]
    },
    {
     "name": "stderr",
     "output_type": "stream",
     "text": [
      "100%|██████████| 80/80 [00:07<00:00, 10.16it/s]\n"
     ]
    },
    {
     "name": "stdout",
     "output_type": "stream",
     "text": [
      "accuracy 0.7567779960707269\n",
      "saving to _results/1660390414_result_BS_32_MD_10_T_0.7_TT_0.5/net090\n",
      "totalscore 0.7182275695676686\n"
     ]
    },
    {
     "name": "stderr",
     "output_type": "stream",
     "text": [
      "100%|██████████| 80/80 [00:07<00:00, 10.06it/s]\n"
     ]
    },
    {
     "name": "stdout",
     "output_type": "stream",
     "text": [
      "accuracy 0.8113948919449901\n",
      "saving to _results/1660390414_result_BS_32_MD_10_T_0.7_TT_0.5/net091\n",
      "totalscore 0.7071253702820437\n"
     ]
    },
    {
     "name": "stderr",
     "output_type": "stream",
     "text": [
      "100%|██████████| 80/80 [00:07<00:00, 10.08it/s]\n"
     ]
    },
    {
     "name": "stdout",
     "output_type": "stream",
     "text": [
      "accuracy 0.8306483300589391\n",
      "saving to _results/1660390414_result_BS_32_MD_10_T_0.7_TT_0.5/net092\n",
      "totalscore 0.7007744596757884\n",
      "current depth: 9\n",
      "potential next fragments: 5\n",
      "potential next fragments after thresholding of 0.7: 3 ['0.9', '0.79', '0.7']\n",
      "totalscore 0.6324242875253429\n"
     ]
    },
    {
     "name": "stderr",
     "output_type": "stream",
     "text": [
      "100%|██████████| 80/80 [00:08<00:00,  9.66it/s]\n"
     ]
    },
    {
     "name": "stdout",
     "output_type": "stream",
     "text": [
      "accuracy 0.7907662082514735\n",
      "saving to _results/1660390414_result_BS_32_MD_10_T_0.7_TT_0.5/net093\n",
      "totalscore 0.5543608472900549\n"
     ]
    },
    {
     "name": "stderr",
     "output_type": "stream",
     "text": [
      "100%|██████████| 80/80 [00:08<00:00,  9.70it/s]\n"
     ]
    },
    {
     "name": "stdout",
     "output_type": "stream",
     "text": [
      "accuracy 0.7992141453831041\n",
      "saving to _results/1660390414_result_BS_32_MD_10_T_0.7_TT_0.5/net094\n",
      "totalscore 0.6638798284012577\n",
      "current depth: 9\n",
      "potential next fragments: 5\n",
      "potential next fragments after thresholding of 0.7: 5 ['0.96', '0.87', '0.87', '0.86', '0.75']\n",
      "totalscore 0.6405888955386382\n"
     ]
    },
    {
     "name": "stderr",
     "output_type": "stream",
     "text": [
      "100%|██████████| 80/80 [00:07<00:00, 10.25it/s]\n"
     ]
    },
    {
     "name": "stdout",
     "output_type": "stream",
     "text": [
      "accuracy 0.7593320235756386\n",
      "saving to _results/1660390414_result_BS_32_MD_10_T_0.7_TT_0.5/net095\n",
      "totalscore 0.5783697885054075\n"
     ]
    },
    {
     "name": "stderr",
     "output_type": "stream",
     "text": [
      "100%|██████████| 80/80 [00:07<00:00, 10.03it/s]\n"
     ]
    },
    {
     "name": "stdout",
     "output_type": "stream",
     "text": [
      "accuracy 0.7785854616895874\n",
      "saving to _results/1660390414_result_BS_32_MD_10_T_0.7_TT_0.5/net096\n",
      "totalscore 0.5771018762688581\n"
     ]
    },
    {
     "name": "stderr",
     "output_type": "stream",
     "text": [
      "100%|██████████| 80/80 [00:08<00:00,  9.52it/s]\n"
     ]
    },
    {
     "name": "stdout",
     "output_type": "stream",
     "text": [
      "accuracy 0.7579567779960708\n",
      "saving to _results/1660390414_result_BS_32_MD_10_T_0.7_TT_0.5/net097\n",
      "totalscore 0.5721100406608141\n"
     ]
    },
    {
     "name": "stderr",
     "output_type": "stream",
     "text": [
      "100%|██████████| 80/80 [00:08<00:00,  9.83it/s]\n"
     ]
    },
    {
     "name": "stdout",
     "output_type": "stream",
     "text": [
      "accuracy 0.8332023575638506\n",
      "saving to _results/1660390414_result_BS_32_MD_10_T_0.7_TT_0.5/net098\n",
      "totalscore 0.5000152102481255\n"
     ]
    },
    {
     "name": "stderr",
     "output_type": "stream",
     "text": [
      "100%|██████████| 80/80 [00:08<00:00,  9.80it/s]\n"
     ]
    },
    {
     "name": "stdout",
     "output_type": "stream",
     "text": [
      "accuracy 0.7988212180746562\n",
      "saving to _results/1660390414_result_BS_32_MD_10_T_0.7_TT_0.5/net099\n",
      "totalscore 0.644159849628257\n"
     ]
    },
    {
     "name": "stderr",
     "output_type": "stream",
     "text": [
      "100%|██████████| 80/80 [00:08<00:00,  9.62it/s]\n"
     ]
    },
    {
     "name": "stdout",
     "output_type": "stream",
     "text": [
      "accuracy 0.7581532416502947\n",
      "saving to _results/1660390414_result_BS_32_MD_10_T_0.7_TT_0.5/net100\n",
      "totalscore 0.626435579447451\n",
      "current depth: 9\n",
      "potential next fragments: 5\n",
      "potential next fragments after thresholding of 0.7: 5 ['1.0', '0.88', '0.84', '0.83', '0.82']\n",
      "totalscore 0.6260885183670569\n"
     ]
    },
    {
     "name": "stderr",
     "output_type": "stream",
     "text": [
      "100%|██████████| 80/80 [00:08<00:00,  9.74it/s]\n"
     ]
    },
    {
     "name": "stdout",
     "output_type": "stream",
     "text": [
      "accuracy 0.8015717092337917\n",
      "saving to _results/1660390414_result_BS_32_MD_10_T_0.7_TT_0.5/net101\n",
      "totalscore 0.5520212405330179\n"
     ]
    },
    {
     "name": "stderr",
     "output_type": "stream",
     "text": [
      "100%|██████████| 80/80 [00:08<00:00,  9.68it/s]\n"
     ]
    },
    {
     "name": "stdout",
     "output_type": "stream",
     "text": [
      "accuracy 0.787229862475442\n",
      "saving to _results/1660390414_result_BS_32_MD_10_T_0.7_TT_0.5/net102\n",
      "totalscore 0.5293357302319399\n"
     ]
    },
    {
     "name": "stderr",
     "output_type": "stream",
     "text": [
      "100%|██████████| 80/80 [00:08<00:00,  9.15it/s]\n"
     ]
    },
    {
     "name": "stdout",
     "output_type": "stream",
     "text": [
      "accuracy 0.8096267190569745\n",
      "saving to _results/1660390414_result_BS_32_MD_10_T_0.7_TT_0.5/net103\n",
      "totalscore 0.517337498237257\n"
     ]
    },
    {
     "name": "stderr",
     "output_type": "stream",
     "text": [
      "100%|██████████| 80/80 [00:08<00:00,  9.29it/s]\n"
     ]
    },
    {
     "name": "stdout",
     "output_type": "stream",
     "text": [
      "accuracy 0.8084479371316307\n",
      "saving to _results/1660390414_result_BS_32_MD_10_T_0.7_TT_0.5/net104\n",
      "totalscore 0.5114154301731478\n"
     ]
    },
    {
     "name": "stderr",
     "output_type": "stream",
     "text": [
      "100%|██████████| 80/80 [00:08<00:00,  9.63it/s]\n"
     ]
    },
    {
     "name": "stdout",
     "output_type": "stream",
     "text": [
      "accuracy 0.8229862475442044\n",
      "saving to _results/1660390414_result_BS_32_MD_10_T_0.7_TT_0.5/net105\n",
      "totalscore 0.616734861461371\n",
      "ERROR Input and output must have the same number of spatial dimensions, but got input with with spatial dimensions of [] and output size of (28, 28). Please provide input tensor in (N, C, d1, d2, ...,dK) format and output size in (o1, o2, ...,oK) format.\n",
      "totalscore 0.6166900086112831\n"
     ]
    },
    {
     "name": "stderr",
     "output_type": "stream",
     "text": [
      "Traceback (most recent call last):\n",
      "  File \"/home/jupyter-steerapi/stitchnet/stitchnet/stitchonnx/utils.py\", line 1063, in recursive_stitching\n",
      "    newcurr_fragment = stitch_fragments(curr, nextf, data)\n",
      "  File \"/home/jupyter-steerapi/stitchnet/stitchnet/stitchonnx/utils.py\", line 708, in stitch_fragments\n",
      "    nw = adjust_w(tX, tY, w)\n",
      "  File \"/home/jupyter-steerapi/stitchnet/stitchnet/stitchonnx/utils.py\", line 627, in adjust_w\n",
      "    return adjust_w_conv(tX, tY, w)\n",
      "  File \"/home/jupyter-steerapi/stitchnet/stitchnet/stitchonnx/utils.py\", line 599, in adjust_w_conv\n",
      "    tX = up(tX)\n",
      "  File \"/home/jupyter-steerapi/.conda/envs/stitchnet/lib/python3.10/site-packages/torch/nn/modules/module.py\", line 1130, in _call_impl\n",
      "    return forward_call(*input, **kwargs)\n",
      "  File \"/home/jupyter-steerapi/.conda/envs/stitchnet/lib/python3.10/site-packages/torch/nn/modules/upsampling.py\", line 153, in forward\n",
      "    return F.interpolate(input, self.size, self.scale_factor, self.mode, self.align_corners,\n",
      "  File \"/home/jupyter-steerapi/.conda/envs/stitchnet/lib/python3.10/site-packages/torch/nn/functional.py\", line 3854, in interpolate\n",
      "    raise ValueError(\n",
      "ValueError: Input and output must have the same number of spatial dimensions, but got input with with spatial dimensions of [] and output size of (28, 28). Please provide input tensor in (N, C, d1, d2, ...,dK) format and output size in (o1, o2, ...,oK) format.\n"
     ]
    },
    {
     "name": "stdout",
     "output_type": "stream",
     "text": [
      "ERROR Input and output must have the same number of spatial dimensions, but got input with with spatial dimensions of [] and output size of (7, 7). Please provide input tensor in (N, C, d1, d2, ...,dK) format and output size in (o1, o2, ...,oK) format.\n",
      "totalscore 0.6123007534572427\n"
     ]
    },
    {
     "name": "stderr",
     "output_type": "stream",
     "text": [
      "Traceback (most recent call last):\n",
      "  File \"/home/jupyter-steerapi/stitchnet/stitchnet/stitchonnx/utils.py\", line 1063, in recursive_stitching\n",
      "    newcurr_fragment = stitch_fragments(curr, nextf, data)\n",
      "  File \"/home/jupyter-steerapi/stitchnet/stitchnet/stitchonnx/utils.py\", line 708, in stitch_fragments\n",
      "    nw = adjust_w(tX, tY, w)\n",
      "  File \"/home/jupyter-steerapi/stitchnet/stitchnet/stitchonnx/utils.py\", line 627, in adjust_w\n",
      "    return adjust_w_conv(tX, tY, w)\n",
      "  File \"/home/jupyter-steerapi/stitchnet/stitchnet/stitchonnx/utils.py\", line 599, in adjust_w_conv\n",
      "    tX = up(tX)\n",
      "  File \"/home/jupyter-steerapi/.conda/envs/stitchnet/lib/python3.10/site-packages/torch/nn/modules/module.py\", line 1130, in _call_impl\n",
      "    return forward_call(*input, **kwargs)\n",
      "  File \"/home/jupyter-steerapi/.conda/envs/stitchnet/lib/python3.10/site-packages/torch/nn/modules/upsampling.py\", line 153, in forward\n",
      "    return F.interpolate(input, self.size, self.scale_factor, self.mode, self.align_corners,\n",
      "  File \"/home/jupyter-steerapi/.conda/envs/stitchnet/lib/python3.10/site-packages/torch/nn/functional.py\", line 3854, in interpolate\n",
      "    raise ValueError(\n",
      "ValueError: Input and output must have the same number of spatial dimensions, but got input with with spatial dimensions of [] and output size of (7, 7). Please provide input tensor in (N, C, d1, d2, ...,dK) format and output size in (o1, o2, ...,oK) format.\n",
      "100%|██████████| 80/80 [00:08<00:00,  9.82it/s]\n"
     ]
    },
    {
     "name": "stdout",
     "output_type": "stream",
     "text": [
      "accuracy 0.781139489194499\n",
      "saving to _results/1660390414_result_BS_32_MD_10_T_0.7_TT_0.5/net106\n",
      "totalscore 0.6060931092756173\n",
      "ERROR Input and output must have the same number of spatial dimensions, but got input with with spatial dimensions of [] and output size of (14, 14). Please provide input tensor in (N, C, d1, d2, ...,dK) format and output size in (o1, o2, ...,oK) format.\n",
      "totalscore 0.6040784282197196\n"
     ]
    },
    {
     "name": "stderr",
     "output_type": "stream",
     "text": [
      "Traceback (most recent call last):\n",
      "  File \"/home/jupyter-steerapi/stitchnet/stitchnet/stitchonnx/utils.py\", line 1063, in recursive_stitching\n",
      "    newcurr_fragment = stitch_fragments(curr, nextf, data)\n",
      "  File \"/home/jupyter-steerapi/stitchnet/stitchnet/stitchonnx/utils.py\", line 708, in stitch_fragments\n",
      "    nw = adjust_w(tX, tY, w)\n",
      "  File \"/home/jupyter-steerapi/stitchnet/stitchnet/stitchonnx/utils.py\", line 627, in adjust_w\n",
      "    return adjust_w_conv(tX, tY, w)\n",
      "  File \"/home/jupyter-steerapi/stitchnet/stitchnet/stitchonnx/utils.py\", line 599, in adjust_w_conv\n",
      "    tX = up(tX)\n",
      "  File \"/home/jupyter-steerapi/.conda/envs/stitchnet/lib/python3.10/site-packages/torch/nn/modules/module.py\", line 1130, in _call_impl\n",
      "    return forward_call(*input, **kwargs)\n",
      "  File \"/home/jupyter-steerapi/.conda/envs/stitchnet/lib/python3.10/site-packages/torch/nn/modules/upsampling.py\", line 153, in forward\n",
      "    return F.interpolate(input, self.size, self.scale_factor, self.mode, self.align_corners,\n",
      "  File \"/home/jupyter-steerapi/.conda/envs/stitchnet/lib/python3.10/site-packages/torch/nn/functional.py\", line 3854, in interpolate\n",
      "    raise ValueError(\n",
      "ValueError: Input and output must have the same number of spatial dimensions, but got input with with spatial dimensions of [] and output size of (14, 14). Please provide input tensor in (N, C, d1, d2, ...,dK) format and output size in (o1, o2, ...,oK) format.\n",
      "100%|██████████| 80/80 [00:08<00:00,  9.96it/s]\n"
     ]
    },
    {
     "name": "stdout",
     "output_type": "stream",
     "text": [
      "accuracy 0.793713163064833\n",
      "saving to _results/1660390414_result_BS_32_MD_10_T_0.7_TT_0.5/net107\n",
      "totalscore 0.6034333644538142\n",
      "ERROR Input and output must have the same number of spatial dimensions, but got input with with spatial dimensions of [] and output size of (7, 7). Please provide input tensor in (N, C, d1, d2, ...,dK) format and output size in (o1, o2, ...,oK) format.\n",
      "totalscore 0.5996372177035383\n"
     ]
    },
    {
     "name": "stderr",
     "output_type": "stream",
     "text": [
      "Traceback (most recent call last):\n",
      "  File \"/home/jupyter-steerapi/stitchnet/stitchnet/stitchonnx/utils.py\", line 1063, in recursive_stitching\n",
      "    newcurr_fragment = stitch_fragments(curr, nextf, data)\n",
      "  File \"/home/jupyter-steerapi/stitchnet/stitchnet/stitchonnx/utils.py\", line 708, in stitch_fragments\n",
      "    nw = adjust_w(tX, tY, w)\n",
      "  File \"/home/jupyter-steerapi/stitchnet/stitchnet/stitchonnx/utils.py\", line 627, in adjust_w\n",
      "    return adjust_w_conv(tX, tY, w)\n",
      "  File \"/home/jupyter-steerapi/stitchnet/stitchnet/stitchonnx/utils.py\", line 599, in adjust_w_conv\n",
      "    tX = up(tX)\n",
      "  File \"/home/jupyter-steerapi/.conda/envs/stitchnet/lib/python3.10/site-packages/torch/nn/modules/module.py\", line 1130, in _call_impl\n",
      "    return forward_call(*input, **kwargs)\n",
      "  File \"/home/jupyter-steerapi/.conda/envs/stitchnet/lib/python3.10/site-packages/torch/nn/modules/upsampling.py\", line 153, in forward\n",
      "    return F.interpolate(input, self.size, self.scale_factor, self.mode, self.align_corners,\n",
      "  File \"/home/jupyter-steerapi/.conda/envs/stitchnet/lib/python3.10/site-packages/torch/nn/functional.py\", line 3854, in interpolate\n",
      "    raise ValueError(\n",
      "ValueError: Input and output must have the same number of spatial dimensions, but got input with with spatial dimensions of [] and output size of (7, 7). Please provide input tensor in (N, C, d1, d2, ...,dK) format and output size in (o1, o2, ...,oK) format.\n"
     ]
    },
    {
     "name": "stdout",
     "output_type": "stream",
     "text": [
      "ERROR Input and output must have the same number of spatial dimensions, but got input with with spatial dimensions of [] and output size of (14, 14). Please provide input tensor in (N, C, d1, d2, ...,dK) format and output size in (o1, o2, ...,oK) format.\n",
      "totalscore 0.5981213665010036\n"
     ]
    },
    {
     "name": "stderr",
     "output_type": "stream",
     "text": [
      "Traceback (most recent call last):\n",
      "  File \"/home/jupyter-steerapi/stitchnet/stitchnet/stitchonnx/utils.py\", line 1063, in recursive_stitching\n",
      "    newcurr_fragment = stitch_fragments(curr, nextf, data)\n",
      "  File \"/home/jupyter-steerapi/stitchnet/stitchnet/stitchonnx/utils.py\", line 708, in stitch_fragments\n",
      "    nw = adjust_w(tX, tY, w)\n",
      "  File \"/home/jupyter-steerapi/stitchnet/stitchnet/stitchonnx/utils.py\", line 627, in adjust_w\n",
      "    return adjust_w_conv(tX, tY, w)\n",
      "  File \"/home/jupyter-steerapi/stitchnet/stitchnet/stitchonnx/utils.py\", line 599, in adjust_w_conv\n",
      "    tX = up(tX)\n",
      "  File \"/home/jupyter-steerapi/.conda/envs/stitchnet/lib/python3.10/site-packages/torch/nn/modules/module.py\", line 1130, in _call_impl\n",
      "    return forward_call(*input, **kwargs)\n",
      "  File \"/home/jupyter-steerapi/.conda/envs/stitchnet/lib/python3.10/site-packages/torch/nn/modules/upsampling.py\", line 153, in forward\n",
      "    return F.interpolate(input, self.size, self.scale_factor, self.mode, self.align_corners,\n",
      "  File \"/home/jupyter-steerapi/.conda/envs/stitchnet/lib/python3.10/site-packages/torch/nn/functional.py\", line 3854, in interpolate\n",
      "    raise ValueError(\n",
      "ValueError: Input and output must have the same number of spatial dimensions, but got input with with spatial dimensions of [] and output size of (14, 14). Please provide input tensor in (N, C, d1, d2, ...,dK) format and output size in (o1, o2, ...,oK) format.\n"
     ]
    },
    {
     "name": "stdout",
     "output_type": "stream",
     "text": [
      "ERROR Input and output must have the same number of spatial dimensions, but got input with with spatial dimensions of [] and output size of (112, 112). Please provide input tensor in (N, C, d1, d2, ...,dK) format and output size in (o1, o2, ...,oK) format.\n",
      "totalscore 0.596298064091793\n"
     ]
    },
    {
     "name": "stderr",
     "output_type": "stream",
     "text": [
      "Traceback (most recent call last):\n",
      "  File \"/home/jupyter-steerapi/stitchnet/stitchnet/stitchonnx/utils.py\", line 1063, in recursive_stitching\n",
      "    newcurr_fragment = stitch_fragments(curr, nextf, data)\n",
      "  File \"/home/jupyter-steerapi/stitchnet/stitchnet/stitchonnx/utils.py\", line 708, in stitch_fragments\n",
      "    nw = adjust_w(tX, tY, w)\n",
      "  File \"/home/jupyter-steerapi/stitchnet/stitchnet/stitchonnx/utils.py\", line 627, in adjust_w\n",
      "    return adjust_w_conv(tX, tY, w)\n",
      "  File \"/home/jupyter-steerapi/stitchnet/stitchnet/stitchonnx/utils.py\", line 599, in adjust_w_conv\n",
      "    tX = up(tX)\n",
      "  File \"/home/jupyter-steerapi/.conda/envs/stitchnet/lib/python3.10/site-packages/torch/nn/modules/module.py\", line 1130, in _call_impl\n",
      "    return forward_call(*input, **kwargs)\n",
      "  File \"/home/jupyter-steerapi/.conda/envs/stitchnet/lib/python3.10/site-packages/torch/nn/modules/upsampling.py\", line 153, in forward\n",
      "    return F.interpolate(input, self.size, self.scale_factor, self.mode, self.align_corners,\n",
      "  File \"/home/jupyter-steerapi/.conda/envs/stitchnet/lib/python3.10/site-packages/torch/nn/functional.py\", line 3854, in interpolate\n",
      "    raise ValueError(\n",
      "ValueError: Input and output must have the same number of spatial dimensions, but got input with with spatial dimensions of [] and output size of (112, 112). Please provide input tensor in (N, C, d1, d2, ...,dK) format and output size in (o1, o2, ...,oK) format.\n"
     ]
    },
    {
     "name": "stdout",
     "output_type": "stream",
     "text": [
      "ERROR Input and output must have the same number of spatial dimensions, but got input with with spatial dimensions of [] and output size of (56, 56). Please provide input tensor in (N, C, d1, d2, ...,dK) format and output size in (o1, o2, ...,oK) format.\n",
      "totalscore 0.5928882258909178\n"
     ]
    },
    {
     "name": "stderr",
     "output_type": "stream",
     "text": [
      "Traceback (most recent call last):\n",
      "  File \"/home/jupyter-steerapi/stitchnet/stitchnet/stitchonnx/utils.py\", line 1063, in recursive_stitching\n",
      "    newcurr_fragment = stitch_fragments(curr, nextf, data)\n",
      "  File \"/home/jupyter-steerapi/stitchnet/stitchnet/stitchonnx/utils.py\", line 708, in stitch_fragments\n",
      "    nw = adjust_w(tX, tY, w)\n",
      "  File \"/home/jupyter-steerapi/stitchnet/stitchnet/stitchonnx/utils.py\", line 627, in adjust_w\n",
      "    return adjust_w_conv(tX, tY, w)\n",
      "  File \"/home/jupyter-steerapi/stitchnet/stitchnet/stitchonnx/utils.py\", line 599, in adjust_w_conv\n",
      "    tX = up(tX)\n",
      "  File \"/home/jupyter-steerapi/.conda/envs/stitchnet/lib/python3.10/site-packages/torch/nn/modules/module.py\", line 1130, in _call_impl\n",
      "    return forward_call(*input, **kwargs)\n",
      "  File \"/home/jupyter-steerapi/.conda/envs/stitchnet/lib/python3.10/site-packages/torch/nn/modules/upsampling.py\", line 153, in forward\n",
      "    return F.interpolate(input, self.size, self.scale_factor, self.mode, self.align_corners,\n",
      "  File \"/home/jupyter-steerapi/.conda/envs/stitchnet/lib/python3.10/site-packages/torch/nn/functional.py\", line 3854, in interpolate\n",
      "    raise ValueError(\n",
      "ValueError: Input and output must have the same number of spatial dimensions, but got input with with spatial dimensions of [] and output size of (56, 56). Please provide input tensor in (N, C, d1, d2, ...,dK) format and output size in (o1, o2, ...,oK) format.\n"
     ]
    },
    {
     "name": "stdout",
     "output_type": "stream",
     "text": [
      "ERROR Input and output must have the same number of spatial dimensions, but got input with with spatial dimensions of [] and output size of (28, 28). Please provide input tensor in (N, C, d1, d2, ...,dK) format and output size in (o1, o2, ...,oK) format.\n",
      "totalscore 0.5860083727260889\n"
     ]
    },
    {
     "name": "stderr",
     "output_type": "stream",
     "text": [
      "Traceback (most recent call last):\n",
      "  File \"/home/jupyter-steerapi/stitchnet/stitchnet/stitchonnx/utils.py\", line 1063, in recursive_stitching\n",
      "    newcurr_fragment = stitch_fragments(curr, nextf, data)\n",
      "  File \"/home/jupyter-steerapi/stitchnet/stitchnet/stitchonnx/utils.py\", line 708, in stitch_fragments\n",
      "    nw = adjust_w(tX, tY, w)\n",
      "  File \"/home/jupyter-steerapi/stitchnet/stitchnet/stitchonnx/utils.py\", line 627, in adjust_w\n",
      "    return adjust_w_conv(tX, tY, w)\n",
      "  File \"/home/jupyter-steerapi/stitchnet/stitchnet/stitchonnx/utils.py\", line 599, in adjust_w_conv\n",
      "    tX = up(tX)\n",
      "  File \"/home/jupyter-steerapi/.conda/envs/stitchnet/lib/python3.10/site-packages/torch/nn/modules/module.py\", line 1130, in _call_impl\n",
      "    return forward_call(*input, **kwargs)\n",
      "  File \"/home/jupyter-steerapi/.conda/envs/stitchnet/lib/python3.10/site-packages/torch/nn/modules/upsampling.py\", line 153, in forward\n",
      "    return F.interpolate(input, self.size, self.scale_factor, self.mode, self.align_corners,\n",
      "  File \"/home/jupyter-steerapi/.conda/envs/stitchnet/lib/python3.10/site-packages/torch/nn/functional.py\", line 3854, in interpolate\n",
      "    raise ValueError(\n",
      "ValueError: Input and output must have the same number of spatial dimensions, but got input with with spatial dimensions of [] and output size of (28, 28). Please provide input tensor in (N, C, d1, d2, ...,dK) format and output size in (o1, o2, ...,oK) format.\n"
     ]
    },
    {
     "name": "stdout",
     "output_type": "stream",
     "text": [
      "ERROR Input and output must have the same number of spatial dimensions, but got input with with spatial dimensions of [] and output size of (14, 14). Please provide input tensor in (N, C, d1, d2, ...,dK) format and output size in (o1, o2, ...,oK) format.\n",
      "totalscore 0.5828288796935065\n"
     ]
    },
    {
     "name": "stderr",
     "output_type": "stream",
     "text": [
      "Traceback (most recent call last):\n",
      "  File \"/home/jupyter-steerapi/stitchnet/stitchnet/stitchonnx/utils.py\", line 1063, in recursive_stitching\n",
      "    newcurr_fragment = stitch_fragments(curr, nextf, data)\n",
      "  File \"/home/jupyter-steerapi/stitchnet/stitchnet/stitchonnx/utils.py\", line 708, in stitch_fragments\n",
      "    nw = adjust_w(tX, tY, w)\n",
      "  File \"/home/jupyter-steerapi/stitchnet/stitchnet/stitchonnx/utils.py\", line 627, in adjust_w\n",
      "    return adjust_w_conv(tX, tY, w)\n",
      "  File \"/home/jupyter-steerapi/stitchnet/stitchnet/stitchonnx/utils.py\", line 599, in adjust_w_conv\n",
      "    tX = up(tX)\n",
      "  File \"/home/jupyter-steerapi/.conda/envs/stitchnet/lib/python3.10/site-packages/torch/nn/modules/module.py\", line 1130, in _call_impl\n",
      "    return forward_call(*input, **kwargs)\n",
      "  File \"/home/jupyter-steerapi/.conda/envs/stitchnet/lib/python3.10/site-packages/torch/nn/modules/upsampling.py\", line 153, in forward\n",
      "    return F.interpolate(input, self.size, self.scale_factor, self.mode, self.align_corners,\n",
      "  File \"/home/jupyter-steerapi/.conda/envs/stitchnet/lib/python3.10/site-packages/torch/nn/functional.py\", line 3854, in interpolate\n",
      "    raise ValueError(\n",
      "ValueError: Input and output must have the same number of spatial dimensions, but got input with with spatial dimensions of [] and output size of (14, 14). Please provide input tensor in (N, C, d1, d2, ...,dK) format and output size in (o1, o2, ...,oK) format.\n"
     ]
    },
    {
     "name": "stdout",
     "output_type": "stream",
     "text": [
      "current depth: 9\n",
      "potential next fragments: 5\n",
      "potential next fragments after thresholding of 0.7: 5 ['0.94', '0.87', '0.83', '0.79', '0.76']\n",
      "totalscore 0.5493283403505955\n"
     ]
    },
    {
     "name": "stderr",
     "output_type": "stream",
     "text": [
      "100%|██████████| 80/80 [00:07<00:00, 10.31it/s]\n"
     ]
    },
    {
     "name": "stdout",
     "output_type": "stream",
     "text": [
      "accuracy 0.7442043222003929\n",
      "saving to _results/1660390414_result_BS_32_MD_10_T_0.7_TT_0.5/net108\n",
      "totalscore 0.5046625178289228\n"
     ]
    },
    {
     "name": "stderr",
     "output_type": "stream",
     "text": [
      "100%|██████████| 80/80 [00:08<00:00,  9.85it/s]\n"
     ]
    },
    {
     "name": "stdout",
     "output_type": "stream",
     "text": [
      "accuracy 0.7958742632612966\n",
      "saving to _results/1660390414_result_BS_32_MD_10_T_0.7_TT_0.5/net109\n",
      "totalscore 0.5798177551144534\n",
      "ERROR Input and output must have the same number of spatial dimensions, but got input with with spatial dimensions of [] and output size of (13, 13). Please provide input tensor in (N, C, d1, d2, ...,dK) format and output size in (o1, o2, ...,oK) format.\n",
      "totalscore 0.5796664618782569\n"
     ]
    },
    {
     "name": "stderr",
     "output_type": "stream",
     "text": [
      "Traceback (most recent call last):\n",
      "  File \"/home/jupyter-steerapi/stitchnet/stitchnet/stitchonnx/utils.py\", line 1063, in recursive_stitching\n",
      "    newcurr_fragment = stitch_fragments(curr, nextf, data)\n",
      "  File \"/home/jupyter-steerapi/stitchnet/stitchnet/stitchonnx/utils.py\", line 708, in stitch_fragments\n",
      "    nw = adjust_w(tX, tY, w)\n",
      "  File \"/home/jupyter-steerapi/stitchnet/stitchnet/stitchonnx/utils.py\", line 627, in adjust_w\n",
      "    return adjust_w_conv(tX, tY, w)\n",
      "  File \"/home/jupyter-steerapi/stitchnet/stitchnet/stitchonnx/utils.py\", line 599, in adjust_w_conv\n",
      "    tX = up(tX)\n",
      "  File \"/home/jupyter-steerapi/.conda/envs/stitchnet/lib/python3.10/site-packages/torch/nn/modules/module.py\", line 1130, in _call_impl\n",
      "    return forward_call(*input, **kwargs)\n",
      "  File \"/home/jupyter-steerapi/.conda/envs/stitchnet/lib/python3.10/site-packages/torch/nn/modules/upsampling.py\", line 153, in forward\n",
      "    return F.interpolate(input, self.size, self.scale_factor, self.mode, self.align_corners,\n",
      "  File \"/home/jupyter-steerapi/.conda/envs/stitchnet/lib/python3.10/site-packages/torch/nn/functional.py\", line 3854, in interpolate\n",
      "    raise ValueError(\n",
      "ValueError: Input and output must have the same number of spatial dimensions, but got input with with spatial dimensions of [] and output size of (13, 13). Please provide input tensor in (N, C, d1, d2, ...,dK) format and output size in (o1, o2, ...,oK) format.\n"
     ]
    },
    {
     "name": "stdout",
     "output_type": "stream",
     "text": [
      "ERROR Input and output must have the same number of spatial dimensions, but got input with with spatial dimensions of [] and output size of (14, 14). Please provide input tensor in (N, C, d1, d2, ...,dK) format and output size in (o1, o2, ...,oK) format.\n",
      "totalscore 0.578268629129424\n"
     ]
    },
    {
     "name": "stderr",
     "output_type": "stream",
     "text": [
      "Traceback (most recent call last):\n",
      "  File \"/home/jupyter-steerapi/stitchnet/stitchnet/stitchonnx/utils.py\", line 1063, in recursive_stitching\n",
      "    newcurr_fragment = stitch_fragments(curr, nextf, data)\n",
      "  File \"/home/jupyter-steerapi/stitchnet/stitchnet/stitchonnx/utils.py\", line 708, in stitch_fragments\n",
      "    nw = adjust_w(tX, tY, w)\n",
      "  File \"/home/jupyter-steerapi/stitchnet/stitchnet/stitchonnx/utils.py\", line 627, in adjust_w\n",
      "    return adjust_w_conv(tX, tY, w)\n",
      "  File \"/home/jupyter-steerapi/stitchnet/stitchnet/stitchonnx/utils.py\", line 599, in adjust_w_conv\n",
      "    tX = up(tX)\n",
      "  File \"/home/jupyter-steerapi/.conda/envs/stitchnet/lib/python3.10/site-packages/torch/nn/modules/module.py\", line 1130, in _call_impl\n",
      "    return forward_call(*input, **kwargs)\n",
      "  File \"/home/jupyter-steerapi/.conda/envs/stitchnet/lib/python3.10/site-packages/torch/nn/modules/upsampling.py\", line 153, in forward\n",
      "    return F.interpolate(input, self.size, self.scale_factor, self.mode, self.align_corners,\n",
      "  File \"/home/jupyter-steerapi/.conda/envs/stitchnet/lib/python3.10/site-packages/torch/nn/functional.py\", line 3854, in interpolate\n",
      "    raise ValueError(\n",
      "ValueError: Input and output must have the same number of spatial dimensions, but got input with with spatial dimensions of [] and output size of (14, 14). Please provide input tensor in (N, C, d1, d2, ...,dK) format and output size in (o1, o2, ...,oK) format.\n"
     ]
    },
    {
     "name": "stdout",
     "output_type": "stream",
     "text": [
      "ERROR Input and output must have the same number of spatial dimensions, but got input with with spatial dimensions of [] and output size of (14, 14). Please provide input tensor in (N, C, d1, d2, ...,dK) format and output size in (o1, o2, ...,oK) format.\n",
      "totalscore 0.5754755419409281\n"
     ]
    },
    {
     "name": "stderr",
     "output_type": "stream",
     "text": [
      "Traceback (most recent call last):\n",
      "  File \"/home/jupyter-steerapi/stitchnet/stitchnet/stitchonnx/utils.py\", line 1063, in recursive_stitching\n",
      "    newcurr_fragment = stitch_fragments(curr, nextf, data)\n",
      "  File \"/home/jupyter-steerapi/stitchnet/stitchnet/stitchonnx/utils.py\", line 708, in stitch_fragments\n",
      "    nw = adjust_w(tX, tY, w)\n",
      "  File \"/home/jupyter-steerapi/stitchnet/stitchnet/stitchonnx/utils.py\", line 627, in adjust_w\n",
      "    return adjust_w_conv(tX, tY, w)\n",
      "  File \"/home/jupyter-steerapi/stitchnet/stitchnet/stitchonnx/utils.py\", line 599, in adjust_w_conv\n",
      "    tX = up(tX)\n",
      "  File \"/home/jupyter-steerapi/.conda/envs/stitchnet/lib/python3.10/site-packages/torch/nn/modules/module.py\", line 1130, in _call_impl\n",
      "    return forward_call(*input, **kwargs)\n",
      "  File \"/home/jupyter-steerapi/.conda/envs/stitchnet/lib/python3.10/site-packages/torch/nn/modules/upsampling.py\", line 153, in forward\n",
      "    return F.interpolate(input, self.size, self.scale_factor, self.mode, self.align_corners,\n",
      "  File \"/home/jupyter-steerapi/.conda/envs/stitchnet/lib/python3.10/site-packages/torch/nn/functional.py\", line 3854, in interpolate\n",
      "    raise ValueError(\n",
      "ValueError: Input and output must have the same number of spatial dimensions, but got input with with spatial dimensions of [] and output size of (14, 14). Please provide input tensor in (N, C, d1, d2, ...,dK) format and output size in (o1, o2, ...,oK) format.\n"
     ]
    },
    {
     "name": "stdout",
     "output_type": "stream",
     "text": [
      "ERROR Input and output must have the same number of spatial dimensions, but got input with with spatial dimensions of [] and output size of (28, 28). Please provide input tensor in (N, C, d1, d2, ...,dK) format and output size in (o1, o2, ...,oK) format.\n",
      "totalscore 0.7771081481807464\n"
     ]
    },
    {
     "name": "stderr",
     "output_type": "stream",
     "text": [
      "Traceback (most recent call last):\n",
      "  File \"/home/jupyter-steerapi/stitchnet/stitchnet/stitchonnx/utils.py\", line 1063, in recursive_stitching\n",
      "    newcurr_fragment = stitch_fragments(curr, nextf, data)\n",
      "  File \"/home/jupyter-steerapi/stitchnet/stitchnet/stitchonnx/utils.py\", line 708, in stitch_fragments\n",
      "    nw = adjust_w(tX, tY, w)\n",
      "  File \"/home/jupyter-steerapi/stitchnet/stitchnet/stitchonnx/utils.py\", line 627, in adjust_w\n",
      "    return adjust_w_conv(tX, tY, w)\n",
      "  File \"/home/jupyter-steerapi/stitchnet/stitchnet/stitchonnx/utils.py\", line 599, in adjust_w_conv\n",
      "    tX = up(tX)\n",
      "  File \"/home/jupyter-steerapi/.conda/envs/stitchnet/lib/python3.10/site-packages/torch/nn/modules/module.py\", line 1130, in _call_impl\n",
      "    return forward_call(*input, **kwargs)\n",
      "  File \"/home/jupyter-steerapi/.conda/envs/stitchnet/lib/python3.10/site-packages/torch/nn/modules/upsampling.py\", line 153, in forward\n",
      "    return F.interpolate(input, self.size, self.scale_factor, self.mode, self.align_corners,\n",
      "  File \"/home/jupyter-steerapi/.conda/envs/stitchnet/lib/python3.10/site-packages/torch/nn/functional.py\", line 3854, in interpolate\n",
      "    raise ValueError(\n",
      "ValueError: Input and output must have the same number of spatial dimensions, but got input with with spatial dimensions of [] and output size of (28, 28). Please provide input tensor in (N, C, d1, d2, ...,dK) format and output size in (o1, o2, ...,oK) format.\n",
      "100%|██████████| 80/80 [00:08<00:00,  9.87it/s]\n"
     ]
    },
    {
     "name": "stdout",
     "output_type": "stream",
     "text": [
      "accuracy 0.8265225933202358\n",
      "saving to _results/1660390414_result_BS_32_MD_10_T_0.7_TT_0.5/net110\n",
      "totalscore 0.7500135616472866\n",
      "current depth: 8\n",
      "potential next fragments: 43\n",
      "potential next fragments after thresholding of 0.7: 27 ['0.97', '0.9', '0.88', '0.81', '0.79', '0.78', '0.78', '0.77', '0.76', '0.76', '0.76', '0.76', '0.75', '0.74', '0.73', '0.73', '0.73', '0.72', '0.72', '0.71', '0.71', '0.71', '0.71', '0.7', '0.7', '0.7', '0.7']\n",
      "totalscore 0.7307477552977065\n",
      "current depth: 9\n",
      "potential next fragments: 5\n",
      "potential next fragments after thresholding of 0.7: 5 ['0.93', '0.83', '0.79', '0.76', '0.7']\n",
      "totalscore 0.6796949865789994\n"
     ]
    },
    {
     "name": "stderr",
     "output_type": "stream",
     "text": [
      "100%|██████████| 80/80 [00:08<00:00,  9.46it/s]\n"
     ]
    },
    {
     "name": "stdout",
     "output_type": "stream",
     "text": [
      "accuracy 0.8088408644400786\n",
      "saving to _results/1660390414_result_BS_32_MD_10_T_0.7_TT_0.5/net111\n",
      "totalscore 0.604279409204375\n"
     ]
    },
    {
     "name": "stderr",
     "output_type": "stream",
     "text": [
      "100%|██████████| 80/80 [00:08<00:00,  9.31it/s]\n"
     ]
    },
    {
     "name": "stdout",
     "output_type": "stream",
     "text": [
      "accuracy 0.8288801571709233\n",
      "saving to _results/1660390414_result_BS_32_MD_10_T_0.7_TT_0.5/net112\n",
      "totalscore 0.5790589401327148\n"
     ]
    },
    {
     "name": "stderr",
     "output_type": "stream",
     "text": [
      "100%|██████████| 80/80 [00:08<00:00,  9.39it/s]\n"
     ]
    },
    {
     "name": "stdout",
     "output_type": "stream",
     "text": [
      "accuracy 0.756385068762279\n",
      "saving to _results/1660390414_result_BS_32_MD_10_T_0.7_TT_0.5/net113\n",
      "totalscore 0.5548748415822157\n"
     ]
    },
    {
     "name": "stderr",
     "output_type": "stream",
     "text": [
      "100%|██████████| 80/80 [00:08<00:00,  9.46it/s]\n"
     ]
    },
    {
     "name": "stdout",
     "output_type": "stream",
     "text": [
      "accuracy 0.7829076620825147\n",
      "saving to _results/1660390414_result_BS_32_MD_10_T_0.7_TT_0.5/net114\n",
      "totalscore 0.512675649372961\n"
     ]
    },
    {
     "name": "stderr",
     "output_type": "stream",
     "text": [
      "100%|██████████| 80/80 [00:08<00:00,  9.28it/s]\n"
     ]
    },
    {
     "name": "stdout",
     "output_type": "stream",
     "text": [
      "accuracy 0.7919449901768173\n",
      "saving to _results/1660390414_result_BS_32_MD_10_T_0.7_TT_0.5/net115\n",
      "totalscore 0.6744586143540118\n"
     ]
    },
    {
     "name": "stderr",
     "output_type": "stream",
     "text": [
      "100%|██████████| 80/80 [00:08<00:00,  9.45it/s]\n"
     ]
    },
    {
     "name": "stdout",
     "output_type": "stream",
     "text": [
      "accuracy 0.8180746561886051\n",
      "saving to _results/1660390414_result_BS_32_MD_10_T_0.7_TT_0.5/net116\n",
      "totalscore 0.6621931424845666\n",
      "current depth: 9\n",
      "potential next fragments: 5\n",
      "potential next fragments after thresholding of 0.7: 3 ['0.92', '0.81', '0.72']\n",
      "totalscore 0.6091066341566379\n"
     ]
    },
    {
     "name": "stderr",
     "output_type": "stream",
     "text": [
      "100%|██████████| 80/80 [00:07<00:00, 10.16it/s]\n"
     ]
    },
    {
     "name": "stdout",
     "output_type": "stream",
     "text": [
      "accuracy 0.8078585461689587\n",
      "saving to _results/1660390414_result_BS_32_MD_10_T_0.7_TT_0.5/net117\n",
      "totalscore 0.5363713553887635\n"
     ]
    },
    {
     "name": "stderr",
     "output_type": "stream",
     "text": [
      "100%|██████████| 80/80 [00:08<00:00,  9.79it/s]\n"
     ]
    },
    {
     "name": "stdout",
     "output_type": "stream",
     "text": [
      "accuracy 0.7946954813359528\n",
      "saving to _results/1660390414_result_BS_32_MD_10_T_0.7_TT_0.5/net118\n",
      "totalscore 0.6106418965112927\n"
     ]
    },
    {
     "name": "stderr",
     "output_type": "stream",
     "text": [
      "100%|██████████| 80/80 [00:08<00:00,  9.79it/s]\n"
     ]
    },
    {
     "name": "stdout",
     "output_type": "stream",
     "text": [
      "accuracy 0.8098231827111985\n",
      "saving to _results/1660390414_result_BS_32_MD_10_T_0.7_TT_0.5/net119\n",
      "totalscore 0.5906100821196856\n",
      "ERROR Input and output must have the same number of spatial dimensions, but got input with with spatial dimensions of [] and output size of (14, 14). Please provide input tensor in (N, C, d1, d2, ...,dK) format and output size in (o1, o2, ...,oK) format.\n",
      "totalscore 0.5880669890653057\n"
     ]
    },
    {
     "name": "stderr",
     "output_type": "stream",
     "text": [
      "Traceback (most recent call last):\n",
      "  File \"/home/jupyter-steerapi/stitchnet/stitchnet/stitchonnx/utils.py\", line 1063, in recursive_stitching\n",
      "    newcurr_fragment = stitch_fragments(curr, nextf, data)\n",
      "  File \"/home/jupyter-steerapi/stitchnet/stitchnet/stitchonnx/utils.py\", line 708, in stitch_fragments\n",
      "    nw = adjust_w(tX, tY, w)\n",
      "  File \"/home/jupyter-steerapi/stitchnet/stitchnet/stitchonnx/utils.py\", line 627, in adjust_w\n",
      "    return adjust_w_conv(tX, tY, w)\n",
      "  File \"/home/jupyter-steerapi/stitchnet/stitchnet/stitchonnx/utils.py\", line 599, in adjust_w_conv\n",
      "    tX = up(tX)\n",
      "  File \"/home/jupyter-steerapi/.conda/envs/stitchnet/lib/python3.10/site-packages/torch/nn/modules/module.py\", line 1130, in _call_impl\n",
      "    return forward_call(*input, **kwargs)\n",
      "  File \"/home/jupyter-steerapi/.conda/envs/stitchnet/lib/python3.10/site-packages/torch/nn/modules/upsampling.py\", line 153, in forward\n",
      "    return F.interpolate(input, self.size, self.scale_factor, self.mode, self.align_corners,\n",
      "  File \"/home/jupyter-steerapi/.conda/envs/stitchnet/lib/python3.10/site-packages/torch/nn/functional.py\", line 3854, in interpolate\n",
      "    raise ValueError(\n",
      "ValueError: Input and output must have the same number of spatial dimensions, but got input with with spatial dimensions of [] and output size of (14, 14). Please provide input tensor in (N, C, d1, d2, ...,dK) format and output size in (o1, o2, ...,oK) format.\n"
     ]
    },
    {
     "name": "stdout",
     "output_type": "stream",
     "text": [
      "ERROR Input and output must have the same number of spatial dimensions, but got input with with spatial dimensions of [] and output size of (14, 14). Please provide input tensor in (N, C, d1, d2, ...,dK) format and output size in (o1, o2, ...,oK) format.\n",
      "totalscore 0.5812847221211503\n"
     ]
    },
    {
     "name": "stderr",
     "output_type": "stream",
     "text": [
      "Traceback (most recent call last):\n",
      "  File \"/home/jupyter-steerapi/stitchnet/stitchnet/stitchonnx/utils.py\", line 1063, in recursive_stitching\n",
      "    newcurr_fragment = stitch_fragments(curr, nextf, data)\n",
      "  File \"/home/jupyter-steerapi/stitchnet/stitchnet/stitchonnx/utils.py\", line 708, in stitch_fragments\n",
      "    nw = adjust_w(tX, tY, w)\n",
      "  File \"/home/jupyter-steerapi/stitchnet/stitchnet/stitchonnx/utils.py\", line 627, in adjust_w\n",
      "    return adjust_w_conv(tX, tY, w)\n",
      "  File \"/home/jupyter-steerapi/stitchnet/stitchnet/stitchonnx/utils.py\", line 599, in adjust_w_conv\n",
      "    tX = up(tX)\n",
      "  File \"/home/jupyter-steerapi/.conda/envs/stitchnet/lib/python3.10/site-packages/torch/nn/modules/module.py\", line 1130, in _call_impl\n",
      "    return forward_call(*input, **kwargs)\n",
      "  File \"/home/jupyter-steerapi/.conda/envs/stitchnet/lib/python3.10/site-packages/torch/nn/modules/upsampling.py\", line 153, in forward\n",
      "    return F.interpolate(input, self.size, self.scale_factor, self.mode, self.align_corners,\n",
      "  File \"/home/jupyter-steerapi/.conda/envs/stitchnet/lib/python3.10/site-packages/torch/nn/functional.py\", line 3854, in interpolate\n",
      "    raise ValueError(\n",
      "ValueError: Input and output must have the same number of spatial dimensions, but got input with with spatial dimensions of [] and output size of (14, 14). Please provide input tensor in (N, C, d1, d2, ...,dK) format and output size in (o1, o2, ...,oK) format.\n"
     ]
    },
    {
     "name": "stdout",
     "output_type": "stream",
     "text": [
      "current depth: 9\n",
      "potential next fragments: 5\n",
      "potential next fragments after thresholding of 0.7: 5 ['0.93', '0.85', '0.84', '0.82', '0.8']\n",
      "totalscore 0.5384368252045652\n"
     ]
    },
    {
     "name": "stderr",
     "output_type": "stream",
     "text": [
      "100%|██████████| 80/80 [00:08<00:00,  9.46it/s]\n"
     ]
    },
    {
     "name": "stdout",
     "output_type": "stream",
     "text": [
      "accuracy 0.7392927308447937\n",
      "saving to _results/1660390414_result_BS_32_MD_10_T_0.7_TT_0.5/net120\n",
      "totalscore 0.5742528264109207\n",
      "current depth: 9\n",
      "potential next fragments: 5\n",
      "potential next fragments after thresholding of 0.7: 5 ['1.0', '0.88', '0.87', '0.85', '0.8']\n",
      "totalscore 0.5737232829230497\n"
     ]
    },
    {
     "name": "stderr",
     "output_type": "stream",
     "text": [
      "100%|██████████| 80/80 [00:08<00:00,  9.15it/s]\n"
     ]
    },
    {
     "name": "stdout",
     "output_type": "stream",
     "text": [
      "accuracy 0.7911591355599215\n",
      "saving to _results/1660390414_result_BS_32_MD_10_T_0.7_TT_0.5/net121\n",
      "totalscore 0.5032216065291532\n"
     ]
    },
    {
     "name": "stderr",
     "output_type": "stream",
     "text": [
      "100%|██████████| 80/80 [00:08<00:00,  9.17it/s]\n"
     ]
    },
    {
     "name": "stdout",
     "output_type": "stream",
     "text": [
      "accuracy 0.8068762278978389\n",
      "saving to _results/1660390414_result_BS_32_MD_10_T_0.7_TT_0.5/net122\n",
      "totalscore 0.5000016631166732\n"
     ]
    },
    {
     "name": "stderr",
     "output_type": "stream",
     "text": [
      "100%|██████████| 80/80 [00:07<00:00, 10.07it/s]\n"
     ]
    },
    {
     "name": "stdout",
     "output_type": "stream",
     "text": [
      "accuracy 0.7866404715127702\n",
      "saving to _results/1660390414_result_BS_32_MD_10_T_0.7_TT_0.5/net123\n",
      "totalscore 0.571929678472781\n",
      "ERROR Input and output must have the same number of spatial dimensions, but got input with with spatial dimensions of [] and output size of (14, 14). Please provide input tensor in (N, C, d1, d2, ...,dK) format and output size in (o1, o2, ...,oK) format.\n",
      "totalscore 0.5716750875303039\n"
     ]
    },
    {
     "name": "stderr",
     "output_type": "stream",
     "text": [
      "Traceback (most recent call last):\n",
      "  File \"/home/jupyter-steerapi/stitchnet/stitchnet/stitchonnx/utils.py\", line 1063, in recursive_stitching\n",
      "    newcurr_fragment = stitch_fragments(curr, nextf, data)\n",
      "  File \"/home/jupyter-steerapi/stitchnet/stitchnet/stitchonnx/utils.py\", line 708, in stitch_fragments\n",
      "    nw = adjust_w(tX, tY, w)\n",
      "  File \"/home/jupyter-steerapi/stitchnet/stitchnet/stitchonnx/utils.py\", line 627, in adjust_w\n",
      "    return adjust_w_conv(tX, tY, w)\n",
      "  File \"/home/jupyter-steerapi/stitchnet/stitchnet/stitchonnx/utils.py\", line 599, in adjust_w_conv\n",
      "    tX = up(tX)\n",
      "  File \"/home/jupyter-steerapi/.conda/envs/stitchnet/lib/python3.10/site-packages/torch/nn/modules/module.py\", line 1130, in _call_impl\n",
      "    return forward_call(*input, **kwargs)\n",
      "  File \"/home/jupyter-steerapi/.conda/envs/stitchnet/lib/python3.10/site-packages/torch/nn/modules/upsampling.py\", line 153, in forward\n",
      "    return F.interpolate(input, self.size, self.scale_factor, self.mode, self.align_corners,\n",
      "  File \"/home/jupyter-steerapi/.conda/envs/stitchnet/lib/python3.10/site-packages/torch/nn/functional.py\", line 3854, in interpolate\n",
      "    raise ValueError(\n",
      "ValueError: Input and output must have the same number of spatial dimensions, but got input with with spatial dimensions of [] and output size of (14, 14). Please provide input tensor in (N, C, d1, d2, ...,dK) format and output size in (o1, o2, ...,oK) format.\n"
     ]
    },
    {
     "name": "stdout",
     "output_type": "stream",
     "text": [
      "ERROR Input and output must have the same number of spatial dimensions, but got input with with spatial dimensions of [] and output size of (7, 7). Please provide input tensor in (N, C, d1, d2, ...,dK) format and output size in (o1, o2, ...,oK) format.\n",
      "totalscore 0.5688328780586961\n"
     ]
    },
    {
     "name": "stderr",
     "output_type": "stream",
     "text": [
      "Traceback (most recent call last):\n",
      "  File \"/home/jupyter-steerapi/stitchnet/stitchnet/stitchonnx/utils.py\", line 1063, in recursive_stitching\n",
      "    newcurr_fragment = stitch_fragments(curr, nextf, data)\n",
      "  File \"/home/jupyter-steerapi/stitchnet/stitchnet/stitchonnx/utils.py\", line 708, in stitch_fragments\n",
      "    nw = adjust_w(tX, tY, w)\n",
      "  File \"/home/jupyter-steerapi/stitchnet/stitchnet/stitchonnx/utils.py\", line 627, in adjust_w\n",
      "    return adjust_w_conv(tX, tY, w)\n",
      "  File \"/home/jupyter-steerapi/stitchnet/stitchnet/stitchonnx/utils.py\", line 599, in adjust_w_conv\n",
      "    tX = up(tX)\n",
      "  File \"/home/jupyter-steerapi/.conda/envs/stitchnet/lib/python3.10/site-packages/torch/nn/modules/module.py\", line 1130, in _call_impl\n",
      "    return forward_call(*input, **kwargs)\n",
      "  File \"/home/jupyter-steerapi/.conda/envs/stitchnet/lib/python3.10/site-packages/torch/nn/modules/upsampling.py\", line 153, in forward\n",
      "    return F.interpolate(input, self.size, self.scale_factor, self.mode, self.align_corners,\n",
      "  File \"/home/jupyter-steerapi/.conda/envs/stitchnet/lib/python3.10/site-packages/torch/nn/functional.py\", line 3854, in interpolate\n",
      "    raise ValueError(\n",
      "ValueError: Input and output must have the same number of spatial dimensions, but got input with with spatial dimensions of [] and output size of (7, 7). Please provide input tensor in (N, C, d1, d2, ...,dK) format and output size in (o1, o2, ...,oK) format.\n"
     ]
    },
    {
     "name": "stdout",
     "output_type": "stream",
     "text": [
      "current depth: 9\n",
      "potential next fragments: 5\n",
      "potential next fragments after thresholding of 0.7: 5 ['0.97', '0.86', '0.86', '0.83', '0.74']\n",
      "totalscore 0.5541557411755594\n"
     ]
    },
    {
     "name": "stderr",
     "output_type": "stream",
     "text": [
      "100%|██████████| 80/80 [00:08<00:00,  9.60it/s]\n"
     ]
    },
    {
     "name": "stdout",
     "output_type": "stream",
     "text": [
      "accuracy 0.7550098231827111\n",
      "saving to _results/1660390414_result_BS_32_MD_10_T_0.7_TT_0.5/net124\n",
      "totalscore 0.5676759756881318\n",
      "ERROR Input and output must have the same number of spatial dimensions, but got input with with spatial dimensions of [] and output size of (13, 13). Please provide input tensor in (N, C, d1, d2, ...,dK) format and output size in (o1, o2, ...,oK) format.\n",
      "totalscore 0.5612264874930192\n"
     ]
    },
    {
     "name": "stderr",
     "output_type": "stream",
     "text": [
      "Traceback (most recent call last):\n",
      "  File \"/home/jupyter-steerapi/stitchnet/stitchnet/stitchonnx/utils.py\", line 1063, in recursive_stitching\n",
      "    newcurr_fragment = stitch_fragments(curr, nextf, data)\n",
      "  File \"/home/jupyter-steerapi/stitchnet/stitchnet/stitchonnx/utils.py\", line 708, in stitch_fragments\n",
      "    nw = adjust_w(tX, tY, w)\n",
      "  File \"/home/jupyter-steerapi/stitchnet/stitchnet/stitchonnx/utils.py\", line 627, in adjust_w\n",
      "    return adjust_w_conv(tX, tY, w)\n",
      "  File \"/home/jupyter-steerapi/stitchnet/stitchnet/stitchonnx/utils.py\", line 599, in adjust_w_conv\n",
      "    tX = up(tX)\n",
      "  File \"/home/jupyter-steerapi/.conda/envs/stitchnet/lib/python3.10/site-packages/torch/nn/modules/module.py\", line 1130, in _call_impl\n",
      "    return forward_call(*input, **kwargs)\n",
      "  File \"/home/jupyter-steerapi/.conda/envs/stitchnet/lib/python3.10/site-packages/torch/nn/modules/upsampling.py\", line 153, in forward\n",
      "    return F.interpolate(input, self.size, self.scale_factor, self.mode, self.align_corners,\n",
      "  File \"/home/jupyter-steerapi/.conda/envs/stitchnet/lib/python3.10/site-packages/torch/nn/functional.py\", line 3854, in interpolate\n",
      "    raise ValueError(\n",
      "ValueError: Input and output must have the same number of spatial dimensions, but got input with with spatial dimensions of [] and output size of (13, 13). Please provide input tensor in (N, C, d1, d2, ...,dK) format and output size in (o1, o2, ...,oK) format.\n"
     ]
    },
    {
     "name": "stdout",
     "output_type": "stream",
     "text": [
      "ERROR Input and output must have the same number of spatial dimensions, but got input with with spatial dimensions of [] and output size of (28, 28). Please provide input tensor in (N, C, d1, d2, ...,dK) format and output size in (o1, o2, ...,oK) format.\n",
      "totalscore 0.5577758973126895\n"
     ]
    },
    {
     "name": "stderr",
     "output_type": "stream",
     "text": [
      "Traceback (most recent call last):\n",
      "  File \"/home/jupyter-steerapi/stitchnet/stitchnet/stitchonnx/utils.py\", line 1063, in recursive_stitching\n",
      "    newcurr_fragment = stitch_fragments(curr, nextf, data)\n",
      "  File \"/home/jupyter-steerapi/stitchnet/stitchnet/stitchonnx/utils.py\", line 708, in stitch_fragments\n",
      "    nw = adjust_w(tX, tY, w)\n",
      "  File \"/home/jupyter-steerapi/stitchnet/stitchnet/stitchonnx/utils.py\", line 627, in adjust_w\n",
      "    return adjust_w_conv(tX, tY, w)\n",
      "  File \"/home/jupyter-steerapi/stitchnet/stitchnet/stitchonnx/utils.py\", line 599, in adjust_w_conv\n",
      "    tX = up(tX)\n",
      "  File \"/home/jupyter-steerapi/.conda/envs/stitchnet/lib/python3.10/site-packages/torch/nn/modules/module.py\", line 1130, in _call_impl\n",
      "    return forward_call(*input, **kwargs)\n",
      "  File \"/home/jupyter-steerapi/.conda/envs/stitchnet/lib/python3.10/site-packages/torch/nn/modules/upsampling.py\", line 153, in forward\n",
      "    return F.interpolate(input, self.size, self.scale_factor, self.mode, self.align_corners,\n",
      "  File \"/home/jupyter-steerapi/.conda/envs/stitchnet/lib/python3.10/site-packages/torch/nn/functional.py\", line 3854, in interpolate\n",
      "    raise ValueError(\n",
      "ValueError: Input and output must have the same number of spatial dimensions, but got input with with spatial dimensions of [] and output size of (28, 28). Please provide input tensor in (N, C, d1, d2, ...,dK) format and output size in (o1, o2, ...,oK) format.\n"
     ]
    },
    {
     "name": "stdout",
     "output_type": "stream",
     "text": [
      "ERROR Input and output must have the same number of spatial dimensions, but got input with with spatial dimensions of [] and output size of (28, 28). Please provide input tensor in (N, C, d1, d2, ...,dK) format and output size in (o1, o2, ...,oK) format.\n",
      "totalscore 0.5486620333192217\n"
     ]
    },
    {
     "name": "stderr",
     "output_type": "stream",
     "text": [
      "Traceback (most recent call last):\n",
      "  File \"/home/jupyter-steerapi/stitchnet/stitchnet/stitchonnx/utils.py\", line 1063, in recursive_stitching\n",
      "    newcurr_fragment = stitch_fragments(curr, nextf, data)\n",
      "  File \"/home/jupyter-steerapi/stitchnet/stitchnet/stitchonnx/utils.py\", line 708, in stitch_fragments\n",
      "    nw = adjust_w(tX, tY, w)\n",
      "  File \"/home/jupyter-steerapi/stitchnet/stitchnet/stitchonnx/utils.py\", line 627, in adjust_w\n",
      "    return adjust_w_conv(tX, tY, w)\n",
      "  File \"/home/jupyter-steerapi/stitchnet/stitchnet/stitchonnx/utils.py\", line 599, in adjust_w_conv\n",
      "    tX = up(tX)\n",
      "  File \"/home/jupyter-steerapi/.conda/envs/stitchnet/lib/python3.10/site-packages/torch/nn/modules/module.py\", line 1130, in _call_impl\n",
      "    return forward_call(*input, **kwargs)\n",
      "  File \"/home/jupyter-steerapi/.conda/envs/stitchnet/lib/python3.10/site-packages/torch/nn/modules/upsampling.py\", line 153, in forward\n",
      "    return F.interpolate(input, self.size, self.scale_factor, self.mode, self.align_corners,\n",
      "  File \"/home/jupyter-steerapi/.conda/envs/stitchnet/lib/python3.10/site-packages/torch/nn/functional.py\", line 3854, in interpolate\n",
      "    raise ValueError(\n",
      "ValueError: Input and output must have the same number of spatial dimensions, but got input with with spatial dimensions of [] and output size of (28, 28). Please provide input tensor in (N, C, d1, d2, ...,dK) format and output size in (o1, o2, ...,oK) format.\n"
     ]
    },
    {
     "name": "stdout",
     "output_type": "stream",
     "text": [
      "ERROR Input and output must have the same number of spatial dimensions, but got input with with spatial dimensions of [] and output size of (28, 28). Please provide input tensor in (N, C, d1, d2, ...,dK) format and output size in (o1, o2, ...,oK) format.\n",
      "totalscore 0.5466763133764844\n"
     ]
    },
    {
     "name": "stderr",
     "output_type": "stream",
     "text": [
      "Traceback (most recent call last):\n",
      "  File \"/home/jupyter-steerapi/stitchnet/stitchnet/stitchonnx/utils.py\", line 1063, in recursive_stitching\n",
      "    newcurr_fragment = stitch_fragments(curr, nextf, data)\n",
      "  File \"/home/jupyter-steerapi/stitchnet/stitchnet/stitchonnx/utils.py\", line 708, in stitch_fragments\n",
      "    nw = adjust_w(tX, tY, w)\n",
      "  File \"/home/jupyter-steerapi/stitchnet/stitchnet/stitchonnx/utils.py\", line 627, in adjust_w\n",
      "    return adjust_w_conv(tX, tY, w)\n",
      "  File \"/home/jupyter-steerapi/stitchnet/stitchnet/stitchonnx/utils.py\", line 599, in adjust_w_conv\n",
      "    tX = up(tX)\n",
      "  File \"/home/jupyter-steerapi/.conda/envs/stitchnet/lib/python3.10/site-packages/torch/nn/modules/module.py\", line 1130, in _call_impl\n",
      "    return forward_call(*input, **kwargs)\n",
      "  File \"/home/jupyter-steerapi/.conda/envs/stitchnet/lib/python3.10/site-packages/torch/nn/modules/upsampling.py\", line 153, in forward\n",
      "    return F.interpolate(input, self.size, self.scale_factor, self.mode, self.align_corners,\n",
      "  File \"/home/jupyter-steerapi/.conda/envs/stitchnet/lib/python3.10/site-packages/torch/nn/functional.py\", line 3854, in interpolate\n",
      "    raise ValueError(\n",
      "ValueError: Input and output must have the same number of spatial dimensions, but got input with with spatial dimensions of [] and output size of (28, 28). Please provide input tensor in (N, C, d1, d2, ...,dK) format and output size in (o1, o2, ...,oK) format.\n"
     ]
    },
    {
     "name": "stdout",
     "output_type": "stream",
     "text": [
      "ERROR Input and output must have the same number of spatial dimensions, but got input with with spatial dimensions of [] and output size of (56, 56). Please provide input tensor in (N, C, d1, d2, ...,dK) format and output size in (o1, o2, ...,oK) format.\n",
      "totalscore 0.5462881907140461\n"
     ]
    },
    {
     "name": "stderr",
     "output_type": "stream",
     "text": [
      "Traceback (most recent call last):\n",
      "  File \"/home/jupyter-steerapi/stitchnet/stitchnet/stitchonnx/utils.py\", line 1063, in recursive_stitching\n",
      "    newcurr_fragment = stitch_fragments(curr, nextf, data)\n",
      "  File \"/home/jupyter-steerapi/stitchnet/stitchnet/stitchonnx/utils.py\", line 708, in stitch_fragments\n",
      "    nw = adjust_w(tX, tY, w)\n",
      "  File \"/home/jupyter-steerapi/stitchnet/stitchnet/stitchonnx/utils.py\", line 627, in adjust_w\n",
      "    return adjust_w_conv(tX, tY, w)\n",
      "  File \"/home/jupyter-steerapi/stitchnet/stitchnet/stitchonnx/utils.py\", line 599, in adjust_w_conv\n",
      "    tX = up(tX)\n",
      "  File \"/home/jupyter-steerapi/.conda/envs/stitchnet/lib/python3.10/site-packages/torch/nn/modules/module.py\", line 1130, in _call_impl\n",
      "    return forward_call(*input, **kwargs)\n",
      "  File \"/home/jupyter-steerapi/.conda/envs/stitchnet/lib/python3.10/site-packages/torch/nn/modules/upsampling.py\", line 153, in forward\n",
      "    return F.interpolate(input, self.size, self.scale_factor, self.mode, self.align_corners,\n",
      "  File \"/home/jupyter-steerapi/.conda/envs/stitchnet/lib/python3.10/site-packages/torch/nn/functional.py\", line 3854, in interpolate\n",
      "    raise ValueError(\n",
      "ValueError: Input and output must have the same number of spatial dimensions, but got input with with spatial dimensions of [] and output size of (56, 56). Please provide input tensor in (N, C, d1, d2, ...,dK) format and output size in (o1, o2, ...,oK) format.\n",
      "100%|██████████| 80/80 [00:08<00:00,  9.67it/s]\n"
     ]
    },
    {
     "name": "stdout",
     "output_type": "stream",
     "text": [
      "accuracy 0.750098231827112\n",
      "saving to _results/1660390414_result_BS_32_MD_10_T_0.7_TT_0.5/net125\n",
      "totalscore 0.5418097594539215\n",
      "ERROR Input and output must have the same number of spatial dimensions, but got input with with spatial dimensions of [] and output size of (56, 56). Please provide input tensor in (N, C, d1, d2, ...,dK) format and output size in (o1, o2, ...,oK) format.\n",
      "totalscore 0.5369354269845648\n"
     ]
    },
    {
     "name": "stderr",
     "output_type": "stream",
     "text": [
      "Traceback (most recent call last):\n",
      "  File \"/home/jupyter-steerapi/stitchnet/stitchnet/stitchonnx/utils.py\", line 1063, in recursive_stitching\n",
      "    newcurr_fragment = stitch_fragments(curr, nextf, data)\n",
      "  File \"/home/jupyter-steerapi/stitchnet/stitchnet/stitchonnx/utils.py\", line 708, in stitch_fragments\n",
      "    nw = adjust_w(tX, tY, w)\n",
      "  File \"/home/jupyter-steerapi/stitchnet/stitchnet/stitchonnx/utils.py\", line 627, in adjust_w\n",
      "    return adjust_w_conv(tX, tY, w)\n",
      "  File \"/home/jupyter-steerapi/stitchnet/stitchnet/stitchonnx/utils.py\", line 599, in adjust_w_conv\n",
      "    tX = up(tX)\n",
      "  File \"/home/jupyter-steerapi/.conda/envs/stitchnet/lib/python3.10/site-packages/torch/nn/modules/module.py\", line 1130, in _call_impl\n",
      "    return forward_call(*input, **kwargs)\n",
      "  File \"/home/jupyter-steerapi/.conda/envs/stitchnet/lib/python3.10/site-packages/torch/nn/modules/upsampling.py\", line 153, in forward\n",
      "    return F.interpolate(input, self.size, self.scale_factor, self.mode, self.align_corners,\n",
      "  File \"/home/jupyter-steerapi/.conda/envs/stitchnet/lib/python3.10/site-packages/torch/nn/functional.py\", line 3854, in interpolate\n",
      "    raise ValueError(\n",
      "ValueError: Input and output must have the same number of spatial dimensions, but got input with with spatial dimensions of [] and output size of (56, 56). Please provide input tensor in (N, C, d1, d2, ...,dK) format and output size in (o1, o2, ...,oK) format.\n"
     ]
    },
    {
     "name": "stdout",
     "output_type": "stream",
     "text": [
      "ERROR Input and output must have the same number of spatial dimensions, but got input with with spatial dimensions of [] and output size of (13, 13). Please provide input tensor in (N, C, d1, d2, ...,dK) format and output size in (o1, o2, ...,oK) format.\n",
      "totalscore 0.5356476304472624\n"
     ]
    },
    {
     "name": "stderr",
     "output_type": "stream",
     "text": [
      "Traceback (most recent call last):\n",
      "  File \"/home/jupyter-steerapi/stitchnet/stitchnet/stitchonnx/utils.py\", line 1063, in recursive_stitching\n",
      "    newcurr_fragment = stitch_fragments(curr, nextf, data)\n",
      "  File \"/home/jupyter-steerapi/stitchnet/stitchnet/stitchonnx/utils.py\", line 708, in stitch_fragments\n",
      "    nw = adjust_w(tX, tY, w)\n",
      "  File \"/home/jupyter-steerapi/stitchnet/stitchnet/stitchonnx/utils.py\", line 627, in adjust_w\n",
      "    return adjust_w_conv(tX, tY, w)\n",
      "  File \"/home/jupyter-steerapi/stitchnet/stitchnet/stitchonnx/utils.py\", line 599, in adjust_w_conv\n",
      "    tX = up(tX)\n",
      "  File \"/home/jupyter-steerapi/.conda/envs/stitchnet/lib/python3.10/site-packages/torch/nn/modules/module.py\", line 1130, in _call_impl\n",
      "    return forward_call(*input, **kwargs)\n",
      "  File \"/home/jupyter-steerapi/.conda/envs/stitchnet/lib/python3.10/site-packages/torch/nn/modules/upsampling.py\", line 153, in forward\n",
      "    return F.interpolate(input, self.size, self.scale_factor, self.mode, self.align_corners,\n",
      "  File \"/home/jupyter-steerapi/.conda/envs/stitchnet/lib/python3.10/site-packages/torch/nn/functional.py\", line 3854, in interpolate\n",
      "    raise ValueError(\n",
      "ValueError: Input and output must have the same number of spatial dimensions, but got input with with spatial dimensions of [] and output size of (13, 13). Please provide input tensor in (N, C, d1, d2, ...,dK) format and output size in (o1, o2, ...,oK) format.\n"
     ]
    },
    {
     "name": "stdout",
     "output_type": "stream",
     "text": [
      "ERROR Input and output must have the same number of spatial dimensions, but got input with with spatial dimensions of [] and output size of (28, 28). Please provide input tensor in (N, C, d1, d2, ...,dK) format and output size in (o1, o2, ...,oK) format.\n",
      "totalscore 0.5324413939265604\n"
     ]
    },
    {
     "name": "stderr",
     "output_type": "stream",
     "text": [
      "Traceback (most recent call last):\n",
      "  File \"/home/jupyter-steerapi/stitchnet/stitchnet/stitchonnx/utils.py\", line 1063, in recursive_stitching\n",
      "    newcurr_fragment = stitch_fragments(curr, nextf, data)\n",
      "  File \"/home/jupyter-steerapi/stitchnet/stitchnet/stitchonnx/utils.py\", line 708, in stitch_fragments\n",
      "    nw = adjust_w(tX, tY, w)\n",
      "  File \"/home/jupyter-steerapi/stitchnet/stitchnet/stitchonnx/utils.py\", line 627, in adjust_w\n",
      "    return adjust_w_conv(tX, tY, w)\n",
      "  File \"/home/jupyter-steerapi/stitchnet/stitchnet/stitchonnx/utils.py\", line 599, in adjust_w_conv\n",
      "    tX = up(tX)\n",
      "  File \"/home/jupyter-steerapi/.conda/envs/stitchnet/lib/python3.10/site-packages/torch/nn/modules/module.py\", line 1130, in _call_impl\n",
      "    return forward_call(*input, **kwargs)\n",
      "  File \"/home/jupyter-steerapi/.conda/envs/stitchnet/lib/python3.10/site-packages/torch/nn/modules/upsampling.py\", line 153, in forward\n",
      "    return F.interpolate(input, self.size, self.scale_factor, self.mode, self.align_corners,\n",
      "  File \"/home/jupyter-steerapi/.conda/envs/stitchnet/lib/python3.10/site-packages/torch/nn/functional.py\", line 3854, in interpolate\n",
      "    raise ValueError(\n",
      "ValueError: Input and output must have the same number of spatial dimensions, but got input with with spatial dimensions of [] and output size of (28, 28). Please provide input tensor in (N, C, d1, d2, ...,dK) format and output size in (o1, o2, ...,oK) format.\n"
     ]
    },
    {
     "name": "stdout",
     "output_type": "stream",
     "text": [
      "ERROR Input and output must have the same number of spatial dimensions, but got input with with spatial dimensions of [] and output size of (112, 112). Please provide input tensor in (N, C, d1, d2, ...,dK) format and output size in (o1, o2, ...,oK) format.\n",
      "totalscore 0.5323535499929402\n"
     ]
    },
    {
     "name": "stderr",
     "output_type": "stream",
     "text": [
      "Traceback (most recent call last):\n",
      "  File \"/home/jupyter-steerapi/stitchnet/stitchnet/stitchonnx/utils.py\", line 1063, in recursive_stitching\n",
      "    newcurr_fragment = stitch_fragments(curr, nextf, data)\n",
      "  File \"/home/jupyter-steerapi/stitchnet/stitchnet/stitchonnx/utils.py\", line 708, in stitch_fragments\n",
      "    nw = adjust_w(tX, tY, w)\n",
      "  File \"/home/jupyter-steerapi/stitchnet/stitchnet/stitchonnx/utils.py\", line 627, in adjust_w\n",
      "    return adjust_w_conv(tX, tY, w)\n",
      "  File \"/home/jupyter-steerapi/stitchnet/stitchnet/stitchonnx/utils.py\", line 599, in adjust_w_conv\n",
      "    tX = up(tX)\n",
      "  File \"/home/jupyter-steerapi/.conda/envs/stitchnet/lib/python3.10/site-packages/torch/nn/modules/module.py\", line 1130, in _call_impl\n",
      "    return forward_call(*input, **kwargs)\n",
      "  File \"/home/jupyter-steerapi/.conda/envs/stitchnet/lib/python3.10/site-packages/torch/nn/modules/upsampling.py\", line 153, in forward\n",
      "    return F.interpolate(input, self.size, self.scale_factor, self.mode, self.align_corners,\n",
      "  File \"/home/jupyter-steerapi/.conda/envs/stitchnet/lib/python3.10/site-packages/torch/nn/functional.py\", line 3854, in interpolate\n",
      "    raise ValueError(\n",
      "ValueError: Input and output must have the same number of spatial dimensions, but got input with with spatial dimensions of [] and output size of (112, 112). Please provide input tensor in (N, C, d1, d2, ...,dK) format and output size in (o1, o2, ...,oK) format.\n"
     ]
    },
    {
     "name": "stdout",
     "output_type": "stream",
     "text": [
      "ERROR Input and output must have the same number of spatial dimensions, but got input with with spatial dimensions of [] and output size of (14, 14). Please provide input tensor in (N, C, d1, d2, ...,dK) format and output size in (o1, o2, ...,oK) format.\n",
      "totalscore 0.5291329186902404\n"
     ]
    },
    {
     "name": "stderr",
     "output_type": "stream",
     "text": [
      "Traceback (most recent call last):\n",
      "  File \"/home/jupyter-steerapi/stitchnet/stitchnet/stitchonnx/utils.py\", line 1063, in recursive_stitching\n",
      "    newcurr_fragment = stitch_fragments(curr, nextf, data)\n",
      "  File \"/home/jupyter-steerapi/stitchnet/stitchnet/stitchonnx/utils.py\", line 708, in stitch_fragments\n",
      "    nw = adjust_w(tX, tY, w)\n",
      "  File \"/home/jupyter-steerapi/stitchnet/stitchnet/stitchonnx/utils.py\", line 627, in adjust_w\n",
      "    return adjust_w_conv(tX, tY, w)\n",
      "  File \"/home/jupyter-steerapi/stitchnet/stitchnet/stitchonnx/utils.py\", line 599, in adjust_w_conv\n",
      "    tX = up(tX)\n",
      "  File \"/home/jupyter-steerapi/.conda/envs/stitchnet/lib/python3.10/site-packages/torch/nn/modules/module.py\", line 1130, in _call_impl\n",
      "    return forward_call(*input, **kwargs)\n",
      "  File \"/home/jupyter-steerapi/.conda/envs/stitchnet/lib/python3.10/site-packages/torch/nn/modules/upsampling.py\", line 153, in forward\n",
      "    return F.interpolate(input, self.size, self.scale_factor, self.mode, self.align_corners,\n",
      "  File \"/home/jupyter-steerapi/.conda/envs/stitchnet/lib/python3.10/site-packages/torch/nn/functional.py\", line 3854, in interpolate\n",
      "    raise ValueError(\n",
      "ValueError: Input and output must have the same number of spatial dimensions, but got input with with spatial dimensions of [] and output size of (14, 14). Please provide input tensor in (N, C, d1, d2, ...,dK) format and output size in (o1, o2, ...,oK) format.\n"
     ]
    },
    {
     "name": "stdout",
     "output_type": "stream",
     "text": [
      "ERROR Input and output must have the same number of spatial dimensions, but got input with with spatial dimensions of [] and output size of (14, 14). Please provide input tensor in (N, C, d1, d2, ...,dK) format and output size in (o1, o2, ...,oK) format.\n",
      "totalscore 0.5281390528723036\n"
     ]
    },
    {
     "name": "stderr",
     "output_type": "stream",
     "text": [
      "Traceback (most recent call last):\n",
      "  File \"/home/jupyter-steerapi/stitchnet/stitchnet/stitchonnx/utils.py\", line 1063, in recursive_stitching\n",
      "    newcurr_fragment = stitch_fragments(curr, nextf, data)\n",
      "  File \"/home/jupyter-steerapi/stitchnet/stitchnet/stitchonnx/utils.py\", line 708, in stitch_fragments\n",
      "    nw = adjust_w(tX, tY, w)\n",
      "  File \"/home/jupyter-steerapi/stitchnet/stitchnet/stitchonnx/utils.py\", line 627, in adjust_w\n",
      "    return adjust_w_conv(tX, tY, w)\n",
      "  File \"/home/jupyter-steerapi/stitchnet/stitchnet/stitchonnx/utils.py\", line 599, in adjust_w_conv\n",
      "    tX = up(tX)\n",
      "  File \"/home/jupyter-steerapi/.conda/envs/stitchnet/lib/python3.10/site-packages/torch/nn/modules/module.py\", line 1130, in _call_impl\n",
      "    return forward_call(*input, **kwargs)\n",
      "  File \"/home/jupyter-steerapi/.conda/envs/stitchnet/lib/python3.10/site-packages/torch/nn/modules/upsampling.py\", line 153, in forward\n",
      "    return F.interpolate(input, self.size, self.scale_factor, self.mode, self.align_corners,\n",
      "  File \"/home/jupyter-steerapi/.conda/envs/stitchnet/lib/python3.10/site-packages/torch/nn/functional.py\", line 3854, in interpolate\n",
      "    raise ValueError(\n",
      "ValueError: Input and output must have the same number of spatial dimensions, but got input with with spatial dimensions of [] and output size of (14, 14). Please provide input tensor in (N, C, d1, d2, ...,dK) format and output size in (o1, o2, ...,oK) format.\n"
     ]
    },
    {
     "name": "stdout",
     "output_type": "stream",
     "text": [
      "ERROR Input and output must have the same number of spatial dimensions, but got input with with spatial dimensions of [] and output size of (7, 7). Please provide input tensor in (N, C, d1, d2, ...,dK) format and output size in (o1, o2, ...,oK) format.\n",
      "totalscore 0.5275987120958822\n"
     ]
    },
    {
     "name": "stderr",
     "output_type": "stream",
     "text": [
      "Traceback (most recent call last):\n",
      "  File \"/home/jupyter-steerapi/stitchnet/stitchnet/stitchonnx/utils.py\", line 1063, in recursive_stitching\n",
      "    newcurr_fragment = stitch_fragments(curr, nextf, data)\n",
      "  File \"/home/jupyter-steerapi/stitchnet/stitchnet/stitchonnx/utils.py\", line 708, in stitch_fragments\n",
      "    nw = adjust_w(tX, tY, w)\n",
      "  File \"/home/jupyter-steerapi/stitchnet/stitchnet/stitchonnx/utils.py\", line 627, in adjust_w\n",
      "    return adjust_w_conv(tX, tY, w)\n",
      "  File \"/home/jupyter-steerapi/stitchnet/stitchnet/stitchonnx/utils.py\", line 599, in adjust_w_conv\n",
      "    tX = up(tX)\n",
      "  File \"/home/jupyter-steerapi/.conda/envs/stitchnet/lib/python3.10/site-packages/torch/nn/modules/module.py\", line 1130, in _call_impl\n",
      "    return forward_call(*input, **kwargs)\n",
      "  File \"/home/jupyter-steerapi/.conda/envs/stitchnet/lib/python3.10/site-packages/torch/nn/modules/upsampling.py\", line 153, in forward\n",
      "    return F.interpolate(input, self.size, self.scale_factor, self.mode, self.align_corners,\n",
      "  File \"/home/jupyter-steerapi/.conda/envs/stitchnet/lib/python3.10/site-packages/torch/nn/functional.py\", line 3854, in interpolate\n",
      "    raise ValueError(\n",
      "ValueError: Input and output must have the same number of spatial dimensions, but got input with with spatial dimensions of [] and output size of (7, 7). Please provide input tensor in (N, C, d1, d2, ...,dK) format and output size in (o1, o2, ...,oK) format.\n"
     ]
    },
    {
     "name": "stdout",
     "output_type": "stream",
     "text": [
      "ERROR Input and output must have the same number of spatial dimensions, but got input with with spatial dimensions of [] and output size of (14, 14). Please provide input tensor in (N, C, d1, d2, ...,dK) format and output size in (o1, o2, ...,oK) format.\n",
      "totalscore 0.5269123671020541\n"
     ]
    },
    {
     "name": "stderr",
     "output_type": "stream",
     "text": [
      "Traceback (most recent call last):\n",
      "  File \"/home/jupyter-steerapi/stitchnet/stitchnet/stitchonnx/utils.py\", line 1063, in recursive_stitching\n",
      "    newcurr_fragment = stitch_fragments(curr, nextf, data)\n",
      "  File \"/home/jupyter-steerapi/stitchnet/stitchnet/stitchonnx/utils.py\", line 708, in stitch_fragments\n",
      "    nw = adjust_w(tX, tY, w)\n",
      "  File \"/home/jupyter-steerapi/stitchnet/stitchnet/stitchonnx/utils.py\", line 627, in adjust_w\n",
      "    return adjust_w_conv(tX, tY, w)\n",
      "  File \"/home/jupyter-steerapi/stitchnet/stitchnet/stitchonnx/utils.py\", line 599, in adjust_w_conv\n",
      "    tX = up(tX)\n",
      "  File \"/home/jupyter-steerapi/.conda/envs/stitchnet/lib/python3.10/site-packages/torch/nn/modules/module.py\", line 1130, in _call_impl\n",
      "    return forward_call(*input, **kwargs)\n",
      "  File \"/home/jupyter-steerapi/.conda/envs/stitchnet/lib/python3.10/site-packages/torch/nn/modules/upsampling.py\", line 153, in forward\n",
      "    return F.interpolate(input, self.size, self.scale_factor, self.mode, self.align_corners,\n",
      "  File \"/home/jupyter-steerapi/.conda/envs/stitchnet/lib/python3.10/site-packages/torch/nn/functional.py\", line 3854, in interpolate\n",
      "    raise ValueError(\n",
      "ValueError: Input and output must have the same number of spatial dimensions, but got input with with spatial dimensions of [] and output size of (14, 14). Please provide input tensor in (N, C, d1, d2, ...,dK) format and output size in (o1, o2, ...,oK) format.\n"
     ]
    },
    {
     "name": "stdout",
     "output_type": "stream",
     "text": [
      "ERROR Input and output must have the same number of spatial dimensions, but got input with with spatial dimensions of [] and output size of (56, 56). Please provide input tensor in (N, C, d1, d2, ...,dK) format and output size in (o1, o2, ...,oK) format.\n",
      "totalscore 0.5260758603916712\n"
     ]
    },
    {
     "name": "stderr",
     "output_type": "stream",
     "text": [
      "Traceback (most recent call last):\n",
      "  File \"/home/jupyter-steerapi/stitchnet/stitchnet/stitchonnx/utils.py\", line 1063, in recursive_stitching\n",
      "    newcurr_fragment = stitch_fragments(curr, nextf, data)\n",
      "  File \"/home/jupyter-steerapi/stitchnet/stitchnet/stitchonnx/utils.py\", line 708, in stitch_fragments\n",
      "    nw = adjust_w(tX, tY, w)\n",
      "  File \"/home/jupyter-steerapi/stitchnet/stitchnet/stitchonnx/utils.py\", line 627, in adjust_w\n",
      "    return adjust_w_conv(tX, tY, w)\n",
      "  File \"/home/jupyter-steerapi/stitchnet/stitchnet/stitchonnx/utils.py\", line 599, in adjust_w_conv\n",
      "    tX = up(tX)\n",
      "  File \"/home/jupyter-steerapi/.conda/envs/stitchnet/lib/python3.10/site-packages/torch/nn/modules/module.py\", line 1130, in _call_impl\n",
      "    return forward_call(*input, **kwargs)\n",
      "  File \"/home/jupyter-steerapi/.conda/envs/stitchnet/lib/python3.10/site-packages/torch/nn/modules/upsampling.py\", line 153, in forward\n",
      "    return F.interpolate(input, self.size, self.scale_factor, self.mode, self.align_corners,\n",
      "  File \"/home/jupyter-steerapi/.conda/envs/stitchnet/lib/python3.10/site-packages/torch/nn/functional.py\", line 3854, in interpolate\n",
      "    raise ValueError(\n",
      "ValueError: Input and output must have the same number of spatial dimensions, but got input with with spatial dimensions of [] and output size of (56, 56). Please provide input tensor in (N, C, d1, d2, ...,dK) format and output size in (o1, o2, ...,oK) format.\n"
     ]
    },
    {
     "name": "stdout",
     "output_type": "stream",
     "text": [
      "ERROR Input and output must have the same number of spatial dimensions, but got input with with spatial dimensions of [] and output size of (28, 28). Please provide input tensor in (N, C, d1, d2, ...,dK) format and output size in (o1, o2, ...,oK) format.\n",
      "totalscore 0.6939007923189429\n"
     ]
    },
    {
     "name": "stderr",
     "output_type": "stream",
     "text": [
      "Traceback (most recent call last):\n",
      "  File \"/home/jupyter-steerapi/stitchnet/stitchnet/stitchonnx/utils.py\", line 1063, in recursive_stitching\n",
      "    newcurr_fragment = stitch_fragments(curr, nextf, data)\n",
      "  File \"/home/jupyter-steerapi/stitchnet/stitchnet/stitchonnx/utils.py\", line 708, in stitch_fragments\n",
      "    nw = adjust_w(tX, tY, w)\n",
      "  File \"/home/jupyter-steerapi/stitchnet/stitchnet/stitchonnx/utils.py\", line 627, in adjust_w\n",
      "    return adjust_w_conv(tX, tY, w)\n",
      "  File \"/home/jupyter-steerapi/stitchnet/stitchnet/stitchonnx/utils.py\", line 599, in adjust_w_conv\n",
      "    tX = up(tX)\n",
      "  File \"/home/jupyter-steerapi/.conda/envs/stitchnet/lib/python3.10/site-packages/torch/nn/modules/module.py\", line 1130, in _call_impl\n",
      "    return forward_call(*input, **kwargs)\n",
      "  File \"/home/jupyter-steerapi/.conda/envs/stitchnet/lib/python3.10/site-packages/torch/nn/modules/upsampling.py\", line 153, in forward\n",
      "    return F.interpolate(input, self.size, self.scale_factor, self.mode, self.align_corners,\n",
      "  File \"/home/jupyter-steerapi/.conda/envs/stitchnet/lib/python3.10/site-packages/torch/nn/functional.py\", line 3854, in interpolate\n",
      "    raise ValueError(\n",
      "ValueError: Input and output must have the same number of spatial dimensions, but got input with with spatial dimensions of [] and output size of (28, 28). Please provide input tensor in (N, C, d1, d2, ...,dK) format and output size in (o1, o2, ...,oK) format.\n",
      "100%|██████████| 80/80 [00:07<00:00, 10.08it/s]\n"
     ]
    },
    {
     "name": "stdout",
     "output_type": "stream",
     "text": [
      "accuracy 0.8070726915520628\n",
      "saving to _results/1660390414_result_BS_32_MD_10_T_0.7_TT_0.5/net126\n",
      "totalscore 0.6598025694129772\n",
      "ERROR Input and output must have the same number of spatial dimensions, but got input with with spatial dimensions of [] and output size of (7, 7). Please provide input tensor in (N, C, d1, d2, ...,dK) format and output size in (o1, o2, ...,oK) format.\n",
      "totalscore 0.6589101679893853\n"
     ]
    },
    {
     "name": "stderr",
     "output_type": "stream",
     "text": [
      "Traceback (most recent call last):\n",
      "  File \"/home/jupyter-steerapi/stitchnet/stitchnet/stitchonnx/utils.py\", line 1063, in recursive_stitching\n",
      "    newcurr_fragment = stitch_fragments(curr, nextf, data)\n",
      "  File \"/home/jupyter-steerapi/stitchnet/stitchnet/stitchonnx/utils.py\", line 708, in stitch_fragments\n",
      "    nw = adjust_w(tX, tY, w)\n",
      "  File \"/home/jupyter-steerapi/stitchnet/stitchnet/stitchonnx/utils.py\", line 627, in adjust_w\n",
      "    return adjust_w_conv(tX, tY, w)\n",
      "  File \"/home/jupyter-steerapi/stitchnet/stitchnet/stitchonnx/utils.py\", line 599, in adjust_w_conv\n",
      "    tX = up(tX)\n",
      "  File \"/home/jupyter-steerapi/.conda/envs/stitchnet/lib/python3.10/site-packages/torch/nn/modules/module.py\", line 1130, in _call_impl\n",
      "    return forward_call(*input, **kwargs)\n",
      "  File \"/home/jupyter-steerapi/.conda/envs/stitchnet/lib/python3.10/site-packages/torch/nn/modules/upsampling.py\", line 153, in forward\n",
      "    return F.interpolate(input, self.size, self.scale_factor, self.mode, self.align_corners,\n",
      "  File \"/home/jupyter-steerapi/.conda/envs/stitchnet/lib/python3.10/site-packages/torch/nn/functional.py\", line 3854, in interpolate\n",
      "    raise ValueError(\n",
      "ValueError: Input and output must have the same number of spatial dimensions, but got input with with spatial dimensions of [] and output size of (7, 7). Please provide input tensor in (N, C, d1, d2, ...,dK) format and output size in (o1, o2, ...,oK) format.\n"
     ]
    },
    {
     "name": "stdout",
     "output_type": "stream",
     "text": [
      "current depth: 8\n",
      "potential next fragments: 43\n",
      "potential next fragments after thresholding of 0.7: 34 ['1.0', '0.93', '0.86', '0.84', '0.84', '0.84', '0.81', '0.8', '0.79', '0.77', '0.76', '0.74', '0.74', '0.73', '0.73', '0.73', '0.73', '0.72', '0.72', '0.72', '0.72', '0.72', '0.72', '0.72', '0.72', '0.72', '0.72', '0.71', '0.71', '0.71', '0.71', '0.71', '0.71', '0.7']\n",
      "totalscore 0.658582661215266\n"
     ]
    },
    {
     "name": "stderr",
     "output_type": "stream",
     "text": [
      "100%|██████████| 80/80 [00:08<00:00,  9.43it/s]\n"
     ]
    },
    {
     "name": "stdout",
     "output_type": "stream",
     "text": [
      "accuracy 0.8086444007858546\n",
      "saving to _results/1660390414_result_BS_32_MD_10_T_0.7_TT_0.5/net127\n",
      "totalscore 0.6153753707695199\n",
      "current depth: 9\n",
      "potential next fragments: 5\n",
      "potential next fragments after thresholding of 0.7: 5 ['1.0', '0.88', '0.86', '0.84', '0.81']\n",
      "totalscore 0.615081753530342\n"
     ]
    },
    {
     "name": "stderr",
     "output_type": "stream",
     "text": [
      "100%|██████████| 80/80 [00:08<00:00,  9.32it/s]\n"
     ]
    },
    {
     "name": "stdout",
     "output_type": "stream",
     "text": [
      "accuracy 0.7978388998035364\n",
      "saving to _results/1660390414_result_BS_32_MD_10_T_0.7_TT_0.5/net128\n",
      "totalscore 0.541727951036117\n"
     ]
    },
    {
     "name": "stderr",
     "output_type": "stream",
     "text": [
      "100%|██████████| 80/80 [00:08<00:00,  9.63it/s]\n"
     ]
    },
    {
     "name": "stdout",
     "output_type": "stream",
     "text": [
      "accuracy 0.8139489194499018\n",
      "saving to _results/1660390414_result_BS_32_MD_10_T_0.7_TT_0.5/net129\n",
      "totalscore 0.5305956945786295\n"
     ]
    },
    {
     "name": "stderr",
     "output_type": "stream",
     "text": [
      "100%|██████████| 80/80 [00:08<00:00,  9.78it/s]\n"
     ]
    },
    {
     "name": "stdout",
     "output_type": "stream",
     "text": [
      "accuracy 0.7815324165029469\n",
      "saving to _results/1660390414_result_BS_32_MD_10_T_0.7_TT_0.5/net130\n",
      "totalscore 0.5190553450039538\n"
     ]
    },
    {
     "name": "stderr",
     "output_type": "stream",
     "text": [
      "100%|██████████| 80/80 [00:08<00:00,  9.65it/s]\n"
     ]
    },
    {
     "name": "stdout",
     "output_type": "stream",
     "text": [
      "accuracy 0.7998035363457761\n",
      "saving to _results/1660390414_result_BS_32_MD_10_T_0.7_TT_0.5/net131\n",
      "totalscore 0.5654500873101977\n"
     ]
    },
    {
     "name": "stderr",
     "output_type": "stream",
     "text": [
      "100%|██████████| 80/80 [00:08<00:00,  9.40it/s]\n"
     ]
    },
    {
     "name": "stdout",
     "output_type": "stream",
     "text": [
      "accuracy 0.7933202357563851\n",
      "saving to _results/1660390414_result_BS_32_MD_10_T_0.7_TT_0.5/net132\n",
      "totalscore 0.5563926143205165\n"
     ]
    },
    {
     "name": "stderr",
     "output_type": "stream",
     "text": [
      "100%|██████████| 80/80 [00:08<00:00,  9.23it/s]\n"
     ]
    },
    {
     "name": "stdout",
     "output_type": "stream",
     "text": [
      "accuracy 0.8113948919449901\n",
      "saving to _results/1660390414_result_BS_32_MD_10_T_0.7_TT_0.5/net133\n",
      "totalscore 0.5549136692919744\n",
      "current depth: 9\n",
      "potential next fragments: 5\n",
      "potential next fragments after thresholding of 0.7: 5 ['0.98', '0.86', '0.85', '0.84', '0.77']\n",
      "totalscore 0.5424272306033928\n"
     ]
    },
    {
     "name": "stderr",
     "output_type": "stream",
     "text": [
      "100%|██████████| 80/80 [00:08<00:00,  9.77it/s]\n"
     ]
    },
    {
     "name": "stdout",
     "output_type": "stream",
     "text": [
      "accuracy 0.7943025540275049\n",
      "saving to _results/1660390414_result_BS_32_MD_10_T_0.7_TT_0.5/net134\n",
      "totalscore 0.5513671782007463\n"
     ]
    },
    {
     "name": "stderr",
     "output_type": "stream",
     "text": [
      "100%|██████████| 80/80 [00:08<00:00,  9.79it/s]\n"
     ]
    },
    {
     "name": "stdout",
     "output_type": "stream",
     "text": [
      "accuracy 0.8174852652259332\n",
      "saving to _results/1660390414_result_BS_32_MD_10_T_0.7_TT_0.5/net135\n",
      "totalscore 0.5339183603417625\n"
     ]
    },
    {
     "name": "stderr",
     "output_type": "stream",
     "text": [
      "100%|██████████| 80/80 [00:08<00:00,  9.74it/s]\n"
     ]
    },
    {
     "name": "stdout",
     "output_type": "stream",
     "text": [
      "accuracy 0.8143418467583498\n",
      "saving to _results/1660390414_result_BS_32_MD_10_T_0.7_TT_0.5/net136\n",
      "totalscore 0.5289552915031175\n",
      "ERROR Input and output must have the same number of spatial dimensions, but got input with with spatial dimensions of [] and output size of (7, 7). Please provide input tensor in (N, C, d1, d2, ...,dK) format and output size in (o1, o2, ...,oK) format.\n",
      "totalscore 0.5232909442187744\n"
     ]
    },
    {
     "name": "stderr",
     "output_type": "stream",
     "text": [
      "Traceback (most recent call last):\n",
      "  File \"/home/jupyter-steerapi/stitchnet/stitchnet/stitchonnx/utils.py\", line 1063, in recursive_stitching\n",
      "    newcurr_fragment = stitch_fragments(curr, nextf, data)\n",
      "  File \"/home/jupyter-steerapi/stitchnet/stitchnet/stitchonnx/utils.py\", line 708, in stitch_fragments\n",
      "    nw = adjust_w(tX, tY, w)\n",
      "  File \"/home/jupyter-steerapi/stitchnet/stitchnet/stitchonnx/utils.py\", line 627, in adjust_w\n",
      "    return adjust_w_conv(tX, tY, w)\n",
      "  File \"/home/jupyter-steerapi/stitchnet/stitchnet/stitchonnx/utils.py\", line 599, in adjust_w_conv\n",
      "    tX = up(tX)\n",
      "  File \"/home/jupyter-steerapi/.conda/envs/stitchnet/lib/python3.10/site-packages/torch/nn/modules/module.py\", line 1130, in _call_impl\n",
      "    return forward_call(*input, **kwargs)\n",
      "  File \"/home/jupyter-steerapi/.conda/envs/stitchnet/lib/python3.10/site-packages/torch/nn/modules/upsampling.py\", line 153, in forward\n",
      "    return F.interpolate(input, self.size, self.scale_factor, self.mode, self.align_corners,\n",
      "  File \"/home/jupyter-steerapi/.conda/envs/stitchnet/lib/python3.10/site-packages/torch/nn/functional.py\", line 3854, in interpolate\n",
      "    raise ValueError(\n",
      "ValueError: Input and output must have the same number of spatial dimensions, but got input with with spatial dimensions of [] and output size of (7, 7). Please provide input tensor in (N, C, d1, d2, ...,dK) format and output size in (o1, o2, ...,oK) format.\n"
     ]
    },
    {
     "name": "stdout",
     "output_type": "stream",
     "text": [
      "current depth: 9\n",
      "potential next fragments: 5\n",
      "potential next fragments after thresholding of 0.7: 5 ['0.9', '0.84', '0.77', '0.72', '0.72']\n",
      "totalscore 0.5091612989225857\n",
      "current depth: 9\n",
      "potential next fragments: 5\n",
      "potential next fragments after thresholding of 0.7: 2 ['0.92', '0.83']\n",
      "totalscore 0.5015822996721685\n",
      "current depth: 9\n",
      "potential next fragments: 5\n",
      "potential next fragments after thresholding of 0.7: 5 ['0.94', '0.85', '0.82', '0.78', '0.77']\n",
      "totalscore 0.6483386859839242\n",
      "ERROR Input and output must have the same number of spatial dimensions, but got input with with spatial dimensions of [] and output size of (14, 14). Please provide input tensor in (N, C, d1, d2, ...,dK) format and output size in (o1, o2, ...,oK) format.\n",
      "totalscore 0.6472950198537976\n"
     ]
    },
    {
     "name": "stderr",
     "output_type": "stream",
     "text": [
      "Traceback (most recent call last):\n",
      "  File \"/home/jupyter-steerapi/stitchnet/stitchnet/stitchonnx/utils.py\", line 1063, in recursive_stitching\n",
      "    newcurr_fragment = stitch_fragments(curr, nextf, data)\n",
      "  File \"/home/jupyter-steerapi/stitchnet/stitchnet/stitchonnx/utils.py\", line 708, in stitch_fragments\n",
      "    nw = adjust_w(tX, tY, w)\n",
      "  File \"/home/jupyter-steerapi/stitchnet/stitchnet/stitchonnx/utils.py\", line 627, in adjust_w\n",
      "    return adjust_w_conv(tX, tY, w)\n",
      "  File \"/home/jupyter-steerapi/stitchnet/stitchnet/stitchonnx/utils.py\", line 599, in adjust_w_conv\n",
      "    tX = up(tX)\n",
      "  File \"/home/jupyter-steerapi/.conda/envs/stitchnet/lib/python3.10/site-packages/torch/nn/modules/module.py\", line 1130, in _call_impl\n",
      "    return forward_call(*input, **kwargs)\n",
      "  File \"/home/jupyter-steerapi/.conda/envs/stitchnet/lib/python3.10/site-packages/torch/nn/modules/upsampling.py\", line 153, in forward\n",
      "    return F.interpolate(input, self.size, self.scale_factor, self.mode, self.align_corners,\n",
      "  File \"/home/jupyter-steerapi/.conda/envs/stitchnet/lib/python3.10/site-packages/torch/nn/functional.py\", line 3854, in interpolate\n",
      "    raise ValueError(\n",
      "ValueError: Input and output must have the same number of spatial dimensions, but got input with with spatial dimensions of [] and output size of (14, 14). Please provide input tensor in (N, C, d1, d2, ...,dK) format and output size in (o1, o2, ...,oK) format.\n"
     ]
    },
    {
     "name": "stdout",
     "output_type": "stream",
     "text": [
      "ERROR Input and output must have the same number of spatial dimensions, but got input with with spatial dimensions of [] and output size of (14, 14). Please provide input tensor in (N, C, d1, d2, ...,dK) format and output size in (o1, o2, ...,oK) format.\n",
      "totalscore 0.6332390185513946\n"
     ]
    },
    {
     "name": "stderr",
     "output_type": "stream",
     "text": [
      "Traceback (most recent call last):\n",
      "  File \"/home/jupyter-steerapi/stitchnet/stitchnet/stitchonnx/utils.py\", line 1063, in recursive_stitching\n",
      "    newcurr_fragment = stitch_fragments(curr, nextf, data)\n",
      "  File \"/home/jupyter-steerapi/stitchnet/stitchnet/stitchonnx/utils.py\", line 708, in stitch_fragments\n",
      "    nw = adjust_w(tX, tY, w)\n",
      "  File \"/home/jupyter-steerapi/stitchnet/stitchnet/stitchonnx/utils.py\", line 627, in adjust_w\n",
      "    return adjust_w_conv(tX, tY, w)\n",
      "  File \"/home/jupyter-steerapi/stitchnet/stitchnet/stitchonnx/utils.py\", line 599, in adjust_w_conv\n",
      "    tX = up(tX)\n",
      "  File \"/home/jupyter-steerapi/.conda/envs/stitchnet/lib/python3.10/site-packages/torch/nn/modules/module.py\", line 1130, in _call_impl\n",
      "    return forward_call(*input, **kwargs)\n",
      "  File \"/home/jupyter-steerapi/.conda/envs/stitchnet/lib/python3.10/site-packages/torch/nn/modules/upsampling.py\", line 153, in forward\n",
      "    return F.interpolate(input, self.size, self.scale_factor, self.mode, self.align_corners,\n",
      "  File \"/home/jupyter-steerapi/.conda/envs/stitchnet/lib/python3.10/site-packages/torch/nn/functional.py\", line 3854, in interpolate\n",
      "    raise ValueError(\n",
      "ValueError: Input and output must have the same number of spatial dimensions, but got input with with spatial dimensions of [] and output size of (14, 14). Please provide input tensor in (N, C, d1, d2, ...,dK) format and output size in (o1, o2, ...,oK) format.\n"
     ]
    },
    {
     "name": "stdout",
     "output_type": "stream",
     "text": [
      "ERROR Input and output must have the same number of spatial dimensions, but got input with with spatial dimensions of [] and output size of (13, 13). Please provide input tensor in (N, C, d1, d2, ...,dK) format and output size in (o1, o2, ...,oK) format.\n",
      "totalscore 0.6241948172647382\n"
     ]
    },
    {
     "name": "stderr",
     "output_type": "stream",
     "text": [
      "Traceback (most recent call last):\n",
      "  File \"/home/jupyter-steerapi/stitchnet/stitchnet/stitchonnx/utils.py\", line 1063, in recursive_stitching\n",
      "    newcurr_fragment = stitch_fragments(curr, nextf, data)\n",
      "  File \"/home/jupyter-steerapi/stitchnet/stitchnet/stitchonnx/utils.py\", line 708, in stitch_fragments\n",
      "    nw = adjust_w(tX, tY, w)\n",
      "  File \"/home/jupyter-steerapi/stitchnet/stitchnet/stitchonnx/utils.py\", line 627, in adjust_w\n",
      "    return adjust_w_conv(tX, tY, w)\n",
      "  File \"/home/jupyter-steerapi/stitchnet/stitchnet/stitchonnx/utils.py\", line 599, in adjust_w_conv\n",
      "    tX = up(tX)\n",
      "  File \"/home/jupyter-steerapi/.conda/envs/stitchnet/lib/python3.10/site-packages/torch/nn/modules/module.py\", line 1130, in _call_impl\n",
      "    return forward_call(*input, **kwargs)\n",
      "  File \"/home/jupyter-steerapi/.conda/envs/stitchnet/lib/python3.10/site-packages/torch/nn/modules/upsampling.py\", line 153, in forward\n",
      "    return F.interpolate(input, self.size, self.scale_factor, self.mode, self.align_corners,\n",
      "  File \"/home/jupyter-steerapi/.conda/envs/stitchnet/lib/python3.10/site-packages/torch/nn/functional.py\", line 3854, in interpolate\n",
      "    raise ValueError(\n",
      "ValueError: Input and output must have the same number of spatial dimensions, but got input with with spatial dimensions of [] and output size of (13, 13). Please provide input tensor in (N, C, d1, d2, ...,dK) format and output size in (o1, o2, ...,oK) format.\n"
     ]
    },
    {
     "name": "stdout",
     "output_type": "stream",
     "text": [
      "ERROR Input and output must have the same number of spatial dimensions, but got input with with spatial dimensions of [] and output size of (28, 28). Please provide input tensor in (N, C, d1, d2, ...,dK) format and output size in (o1, o2, ...,oK) format.\n",
      "totalscore 0.6228651160113506\n"
     ]
    },
    {
     "name": "stderr",
     "output_type": "stream",
     "text": [
      "Traceback (most recent call last):\n",
      "  File \"/home/jupyter-steerapi/stitchnet/stitchnet/stitchonnx/utils.py\", line 1063, in recursive_stitching\n",
      "    newcurr_fragment = stitch_fragments(curr, nextf, data)\n",
      "  File \"/home/jupyter-steerapi/stitchnet/stitchnet/stitchonnx/utils.py\", line 708, in stitch_fragments\n",
      "    nw = adjust_w(tX, tY, w)\n",
      "  File \"/home/jupyter-steerapi/stitchnet/stitchnet/stitchonnx/utils.py\", line 627, in adjust_w\n",
      "    return adjust_w_conv(tX, tY, w)\n",
      "  File \"/home/jupyter-steerapi/stitchnet/stitchnet/stitchonnx/utils.py\", line 599, in adjust_w_conv\n",
      "    tX = up(tX)\n",
      "  File \"/home/jupyter-steerapi/.conda/envs/stitchnet/lib/python3.10/site-packages/torch/nn/modules/module.py\", line 1130, in _call_impl\n",
      "    return forward_call(*input, **kwargs)\n",
      "  File \"/home/jupyter-steerapi/.conda/envs/stitchnet/lib/python3.10/site-packages/torch/nn/modules/upsampling.py\", line 153, in forward\n",
      "    return F.interpolate(input, self.size, self.scale_factor, self.mode, self.align_corners,\n",
      "  File \"/home/jupyter-steerapi/.conda/envs/stitchnet/lib/python3.10/site-packages/torch/nn/functional.py\", line 3854, in interpolate\n",
      "    raise ValueError(\n",
      "ValueError: Input and output must have the same number of spatial dimensions, but got input with with spatial dimensions of [] and output size of (28, 28). Please provide input tensor in (N, C, d1, d2, ...,dK) format and output size in (o1, o2, ...,oK) format.\n"
     ]
    },
    {
     "name": "stdout",
     "output_type": "stream",
     "text": [
      "ERROR Input and output must have the same number of spatial dimensions, but got input with with spatial dimensions of [] and output size of (7, 7). Please provide input tensor in (N, C, d1, d2, ...,dK) format and output size in (o1, o2, ...,oK) format.\n",
      "totalscore 0.6222038357949506\n"
     ]
    },
    {
     "name": "stderr",
     "output_type": "stream",
     "text": [
      "Traceback (most recent call last):\n",
      "  File \"/home/jupyter-steerapi/stitchnet/stitchnet/stitchonnx/utils.py\", line 1063, in recursive_stitching\n",
      "    newcurr_fragment = stitch_fragments(curr, nextf, data)\n",
      "  File \"/home/jupyter-steerapi/stitchnet/stitchnet/stitchonnx/utils.py\", line 708, in stitch_fragments\n",
      "    nw = adjust_w(tX, tY, w)\n",
      "  File \"/home/jupyter-steerapi/stitchnet/stitchnet/stitchonnx/utils.py\", line 627, in adjust_w\n",
      "    return adjust_w_conv(tX, tY, w)\n",
      "  File \"/home/jupyter-steerapi/stitchnet/stitchnet/stitchonnx/utils.py\", line 599, in adjust_w_conv\n",
      "    tX = up(tX)\n",
      "  File \"/home/jupyter-steerapi/.conda/envs/stitchnet/lib/python3.10/site-packages/torch/nn/modules/module.py\", line 1130, in _call_impl\n",
      "    return forward_call(*input, **kwargs)\n",
      "  File \"/home/jupyter-steerapi/.conda/envs/stitchnet/lib/python3.10/site-packages/torch/nn/modules/upsampling.py\", line 153, in forward\n",
      "    return F.interpolate(input, self.size, self.scale_factor, self.mode, self.align_corners,\n",
      "  File \"/home/jupyter-steerapi/.conda/envs/stitchnet/lib/python3.10/site-packages/torch/nn/functional.py\", line 3854, in interpolate\n",
      "    raise ValueError(\n",
      "ValueError: Input and output must have the same number of spatial dimensions, but got input with with spatial dimensions of [] and output size of (7, 7). Please provide input tensor in (N, C, d1, d2, ...,dK) format and output size in (o1, o2, ...,oK) format.\n"
     ]
    },
    {
     "name": "stdout",
     "output_type": "stream",
     "text": [
      "current depth: 8\n",
      "potential next fragments: 43\n",
      "potential next fragments after thresholding of 0.7: 11 ['0.96', '0.94', '0.88', '0.86', '0.86', '0.8', '0.78', '0.76', '0.72', '0.72', '0.71']\n",
      "totalscore 0.5964030137661424\n"
     ]
    },
    {
     "name": "stderr",
     "output_type": "stream",
     "text": [
      "100%|██████████| 80/80 [00:08<00:00,  9.63it/s]\n"
     ]
    },
    {
     "name": "stdout",
     "output_type": "stream",
     "text": [
      "accuracy 0.7579567779960708\n",
      "saving to _results/1660390414_result_BS_32_MD_10_T_0.7_TT_0.5/net137\n",
      "totalscore 0.5866083527179311\n",
      "current depth: 9\n",
      "potential next fragments: 5\n",
      "potential next fragments after thresholding of 0.7: 5 ['0.97', '0.87', '0.85', '0.84', '0.73']\n",
      "totalscore 0.5701737751891103\n"
     ]
    },
    {
     "name": "stderr",
     "output_type": "stream",
     "text": [
      "100%|██████████| 80/80 [00:08<00:00,  9.16it/s]\n"
     ]
    },
    {
     "name": "stdout",
     "output_type": "stream",
     "text": [
      "accuracy 0.7577603143418468\n",
      "saving to _results/1660390414_result_BS_32_MD_10_T_0.7_TT_0.5/net138\n",
      "totalscore 0.5121145615023213\n"
     ]
    },
    {
     "name": "stderr",
     "output_type": "stream",
     "text": [
      "100%|██████████| 80/80 [00:08<00:00,  9.35it/s]\n"
     ]
    },
    {
     "name": "stdout",
     "output_type": "stream",
     "text": [
      "accuracy 0.743614931237721\n",
      "saving to _results/1660390414_result_BS_32_MD_10_T_0.7_TT_0.5/net139\n",
      "totalscore 0.5458006213216454\n"
     ]
    },
    {
     "name": "stderr",
     "output_type": "stream",
     "text": [
      "100%|██████████| 80/80 [00:07<00:00, 10.09it/s]\n"
     ]
    },
    {
     "name": "stdout",
     "output_type": "stream",
     "text": [
      "accuracy 0.7795677799607073\n",
      "saving to _results/1660390414_result_BS_32_MD_10_T_0.7_TT_0.5/net140\n",
      "totalscore 0.535517794114605\n"
     ]
    },
    {
     "name": "stderr",
     "output_type": "stream",
     "text": [
      "100%|██████████| 80/80 [00:08<00:00,  9.82it/s]\n"
     ]
    },
    {
     "name": "stdout",
     "output_type": "stream",
     "text": [
      "accuracy 0.8280943025540275\n",
      "saving to _results/1660390414_result_BS_32_MD_10_T_0.7_TT_0.5/net141\n",
      "totalscore 0.5329037705861479\n"
     ]
    },
    {
     "name": "stderr",
     "output_type": "stream",
     "text": [
      "100%|██████████| 80/80 [00:08<00:00,  9.86it/s]\n"
     ]
    },
    {
     "name": "stdout",
     "output_type": "stream",
     "text": [
      "accuracy 0.7650294695481336\n",
      "saving to _results/1660390414_result_BS_32_MD_10_T_0.7_TT_0.5/net142\n",
      "totalscore 0.6202867266170179\n",
      "ERROR Input and output must have the same number of spatial dimensions, but got input with with spatial dimensions of [] and output size of (56, 56). Please provide input tensor in (N, C, d1, d2, ...,dK) format and output size in (o1, o2, ...,oK) format.\n",
      "totalscore 0.6195503672095088\n"
     ]
    },
    {
     "name": "stderr",
     "output_type": "stream",
     "text": [
      "Traceback (most recent call last):\n",
      "  File \"/home/jupyter-steerapi/stitchnet/stitchnet/stitchonnx/utils.py\", line 1063, in recursive_stitching\n",
      "    newcurr_fragment = stitch_fragments(curr, nextf, data)\n",
      "  File \"/home/jupyter-steerapi/stitchnet/stitchnet/stitchonnx/utils.py\", line 708, in stitch_fragments\n",
      "    nw = adjust_w(tX, tY, w)\n",
      "  File \"/home/jupyter-steerapi/stitchnet/stitchnet/stitchonnx/utils.py\", line 627, in adjust_w\n",
      "    return adjust_w_conv(tX, tY, w)\n",
      "  File \"/home/jupyter-steerapi/stitchnet/stitchnet/stitchonnx/utils.py\", line 599, in adjust_w_conv\n",
      "    tX = up(tX)\n",
      "  File \"/home/jupyter-steerapi/.conda/envs/stitchnet/lib/python3.10/site-packages/torch/nn/modules/module.py\", line 1130, in _call_impl\n",
      "    return forward_call(*input, **kwargs)\n",
      "  File \"/home/jupyter-steerapi/.conda/envs/stitchnet/lib/python3.10/site-packages/torch/nn/modules/upsampling.py\", line 153, in forward\n",
      "    return F.interpolate(input, self.size, self.scale_factor, self.mode, self.align_corners,\n",
      "  File \"/home/jupyter-steerapi/.conda/envs/stitchnet/lib/python3.10/site-packages/torch/nn/functional.py\", line 3854, in interpolate\n",
      "    raise ValueError(\n",
      "ValueError: Input and output must have the same number of spatial dimensions, but got input with with spatial dimensions of [] and output size of (56, 56). Please provide input tensor in (N, C, d1, d2, ...,dK) format and output size in (o1, o2, ...,oK) format.\n"
     ]
    },
    {
     "name": "stdout",
     "output_type": "stream",
     "text": [
      "ERROR Input and output must have the same number of spatial dimensions, but got input with with spatial dimensions of [] and output size of (14, 14). Please provide input tensor in (N, C, d1, d2, ...,dK) format and output size in (o1, o2, ...,oK) format.\n",
      "totalscore 0.6143579346053737\n"
     ]
    },
    {
     "name": "stderr",
     "output_type": "stream",
     "text": [
      "Traceback (most recent call last):\n",
      "  File \"/home/jupyter-steerapi/stitchnet/stitchnet/stitchonnx/utils.py\", line 1063, in recursive_stitching\n",
      "    newcurr_fragment = stitch_fragments(curr, nextf, data)\n",
      "  File \"/home/jupyter-steerapi/stitchnet/stitchnet/stitchonnx/utils.py\", line 708, in stitch_fragments\n",
      "    nw = adjust_w(tX, tY, w)\n",
      "  File \"/home/jupyter-steerapi/stitchnet/stitchnet/stitchonnx/utils.py\", line 627, in adjust_w\n",
      "    return adjust_w_conv(tX, tY, w)\n",
      "  File \"/home/jupyter-steerapi/stitchnet/stitchnet/stitchonnx/utils.py\", line 599, in adjust_w_conv\n",
      "    tX = up(tX)\n",
      "  File \"/home/jupyter-steerapi/.conda/envs/stitchnet/lib/python3.10/site-packages/torch/nn/modules/module.py\", line 1130, in _call_impl\n",
      "    return forward_call(*input, **kwargs)\n",
      "  File \"/home/jupyter-steerapi/.conda/envs/stitchnet/lib/python3.10/site-packages/torch/nn/modules/upsampling.py\", line 153, in forward\n",
      "    return F.interpolate(input, self.size, self.scale_factor, self.mode, self.align_corners,\n",
      "  File \"/home/jupyter-steerapi/.conda/envs/stitchnet/lib/python3.10/site-packages/torch/nn/functional.py\", line 3854, in interpolate\n",
      "    raise ValueError(\n",
      "ValueError: Input and output must have the same number of spatial dimensions, but got input with with spatial dimensions of [] and output size of (14, 14). Please provide input tensor in (N, C, d1, d2, ...,dK) format and output size in (o1, o2, ...,oK) format.\n"
     ]
    },
    {
     "name": "stdout",
     "output_type": "stream",
     "text": [
      "ERROR Input and output must have the same number of spatial dimensions, but got input with with spatial dimensions of [] and output size of (14, 14). Please provide input tensor in (N, C, d1, d2, ...,dK) format and output size in (o1, o2, ...,oK) format.\n",
      "totalscore 0.6137018339982733\n"
     ]
    },
    {
     "name": "stderr",
     "output_type": "stream",
     "text": [
      "Traceback (most recent call last):\n",
      "  File \"/home/jupyter-steerapi/stitchnet/stitchnet/stitchonnx/utils.py\", line 1063, in recursive_stitching\n",
      "    newcurr_fragment = stitch_fragments(curr, nextf, data)\n",
      "  File \"/home/jupyter-steerapi/stitchnet/stitchnet/stitchonnx/utils.py\", line 708, in stitch_fragments\n",
      "    nw = adjust_w(tX, tY, w)\n",
      "  File \"/home/jupyter-steerapi/stitchnet/stitchnet/stitchonnx/utils.py\", line 627, in adjust_w\n",
      "    return adjust_w_conv(tX, tY, w)\n",
      "  File \"/home/jupyter-steerapi/stitchnet/stitchnet/stitchonnx/utils.py\", line 599, in adjust_w_conv\n",
      "    tX = up(tX)\n",
      "  File \"/home/jupyter-steerapi/.conda/envs/stitchnet/lib/python3.10/site-packages/torch/nn/modules/module.py\", line 1130, in _call_impl\n",
      "    return forward_call(*input, **kwargs)\n",
      "  File \"/home/jupyter-steerapi/.conda/envs/stitchnet/lib/python3.10/site-packages/torch/nn/modules/upsampling.py\", line 153, in forward\n",
      "    return F.interpolate(input, self.size, self.scale_factor, self.mode, self.align_corners,\n",
      "  File \"/home/jupyter-steerapi/.conda/envs/stitchnet/lib/python3.10/site-packages/torch/nn/functional.py\", line 3854, in interpolate\n",
      "    raise ValueError(\n",
      "ValueError: Input and output must have the same number of spatial dimensions, but got input with with spatial dimensions of [] and output size of (14, 14). Please provide input tensor in (N, C, d1, d2, ...,dK) format and output size in (o1, o2, ...,oK) format.\n",
      "100%|██████████| 80/80 [00:07<00:00, 10.03it/s]\n"
     ]
    },
    {
     "name": "stdout",
     "output_type": "stream",
     "text": [
      "accuracy 0.7597249508840864\n",
      "saving to _results/1660390414_result_BS_32_MD_10_T_0.7_TT_0.5/net143\n",
      "totalscore 0.6132881692788736\n",
      "ERROR Input and output must have the same number of spatial dimensions, but got input with with spatial dimensions of [] and output size of (28, 28). Please provide input tensor in (N, C, d1, d2, ...,dK) format and output size in (o1, o2, ...,oK) format.\n",
      "totalscore 0.6100344191768412\n"
     ]
    },
    {
     "name": "stderr",
     "output_type": "stream",
     "text": [
      "Traceback (most recent call last):\n",
      "  File \"/home/jupyter-steerapi/stitchnet/stitchnet/stitchonnx/utils.py\", line 1063, in recursive_stitching\n",
      "    newcurr_fragment = stitch_fragments(curr, nextf, data)\n",
      "  File \"/home/jupyter-steerapi/stitchnet/stitchnet/stitchonnx/utils.py\", line 708, in stitch_fragments\n",
      "    nw = adjust_w(tX, tY, w)\n",
      "  File \"/home/jupyter-steerapi/stitchnet/stitchnet/stitchonnx/utils.py\", line 627, in adjust_w\n",
      "    return adjust_w_conv(tX, tY, w)\n",
      "  File \"/home/jupyter-steerapi/stitchnet/stitchnet/stitchonnx/utils.py\", line 599, in adjust_w_conv\n",
      "    tX = up(tX)\n",
      "  File \"/home/jupyter-steerapi/.conda/envs/stitchnet/lib/python3.10/site-packages/torch/nn/modules/module.py\", line 1130, in _call_impl\n",
      "    return forward_call(*input, **kwargs)\n",
      "  File \"/home/jupyter-steerapi/.conda/envs/stitchnet/lib/python3.10/site-packages/torch/nn/modules/upsampling.py\", line 153, in forward\n",
      "    return F.interpolate(input, self.size, self.scale_factor, self.mode, self.align_corners,\n",
      "  File \"/home/jupyter-steerapi/.conda/envs/stitchnet/lib/python3.10/site-packages/torch/nn/functional.py\", line 3854, in interpolate\n",
      "    raise ValueError(\n",
      "ValueError: Input and output must have the same number of spatial dimensions, but got input with with spatial dimensions of [] and output size of (28, 28). Please provide input tensor in (N, C, d1, d2, ...,dK) format and output size in (o1, o2, ...,oK) format.\n"
     ]
    },
    {
     "name": "stdout",
     "output_type": "stream",
     "text": [
      "ERROR Input and output must have the same number of spatial dimensions, but got input with with spatial dimensions of [] and output size of (14, 14). Please provide input tensor in (N, C, d1, d2, ...,dK) format and output size in (o1, o2, ...,oK) format.\n",
      "totalscore 0.6082473031060868\n"
     ]
    },
    {
     "name": "stderr",
     "output_type": "stream",
     "text": [
      "Traceback (most recent call last):\n",
      "  File \"/home/jupyter-steerapi/stitchnet/stitchnet/stitchonnx/utils.py\", line 1063, in recursive_stitching\n",
      "    newcurr_fragment = stitch_fragments(curr, nextf, data)\n",
      "  File \"/home/jupyter-steerapi/stitchnet/stitchnet/stitchonnx/utils.py\", line 708, in stitch_fragments\n",
      "    nw = adjust_w(tX, tY, w)\n",
      "  File \"/home/jupyter-steerapi/stitchnet/stitchnet/stitchonnx/utils.py\", line 627, in adjust_w\n",
      "    return adjust_w_conv(tX, tY, w)\n",
      "  File \"/home/jupyter-steerapi/stitchnet/stitchnet/stitchonnx/utils.py\", line 599, in adjust_w_conv\n",
      "    tX = up(tX)\n",
      "  File \"/home/jupyter-steerapi/.conda/envs/stitchnet/lib/python3.10/site-packages/torch/nn/modules/module.py\", line 1130, in _call_impl\n",
      "    return forward_call(*input, **kwargs)\n",
      "  File \"/home/jupyter-steerapi/.conda/envs/stitchnet/lib/python3.10/site-packages/torch/nn/modules/upsampling.py\", line 153, in forward\n",
      "    return F.interpolate(input, self.size, self.scale_factor, self.mode, self.align_corners,\n",
      "  File \"/home/jupyter-steerapi/.conda/envs/stitchnet/lib/python3.10/site-packages/torch/nn/functional.py\", line 3854, in interpolate\n",
      "    raise ValueError(\n",
      "ValueError: Input and output must have the same number of spatial dimensions, but got input with with spatial dimensions of [] and output size of (14, 14). Please provide input tensor in (N, C, d1, d2, ...,dK) format and output size in (o1, o2, ...,oK) format.\n"
     ]
    },
    {
     "name": "stdout",
     "output_type": "stream",
     "text": [
      "current depth: 8\n",
      "potential next fragments: 43\n",
      "potential next fragments after thresholding of 0.7: 32 ['0.97', '0.94', '0.86', '0.86', '0.84', '0.79', '0.79', '0.77', '0.77', '0.76', '0.76', '0.75', '0.75', '0.74', '0.74', '0.74', '0.74', '0.73', '0.73', '0.73', '0.73', '0.73', '0.72', '0.72', '0.72', '0.72', '0.72', '0.72', '0.71', '0.71', '0.7', '0.7']\n",
      "totalscore 0.5892640828343811\n",
      "current depth: 9\n",
      "potential next fragments: 5\n",
      "potential next fragments after thresholding of 0.7: 5 ['0.98', '0.86', '0.86', '0.85', '0.77']\n",
      "totalscore 0.5758553979498766\n"
     ]
    },
    {
     "name": "stderr",
     "output_type": "stream",
     "text": [
      "100%|██████████| 80/80 [00:08<00:00,  9.88it/s]\n"
     ]
    },
    {
     "name": "stdout",
     "output_type": "stream",
     "text": [
      "accuracy 0.7593320235756386\n",
      "saving to _results/1660390414_result_BS_32_MD_10_T_0.7_TT_0.5/net144\n",
      "totalscore 0.5085388580409633\n"
     ]
    },
    {
     "name": "stderr",
     "output_type": "stream",
     "text": [
      "100%|██████████| 80/80 [00:08<00:00,  9.93it/s]\n"
     ]
    },
    {
     "name": "stdout",
     "output_type": "stream",
     "text": [
      "accuracy 0.8408644400785854\n",
      "saving to _results/1660390414_result_BS_32_MD_10_T_0.7_TT_0.5/net145\n",
      "totalscore 0.5051087228150899\n"
     ]
    },
    {
     "name": "stderr",
     "output_type": "stream",
     "text": [
      "100%|██████████| 80/80 [00:07<00:00, 10.05it/s]\n"
     ]
    },
    {
     "name": "stdout",
     "output_type": "stream",
     "text": [
      "accuracy 0.7838899803536346\n",
      "saving to _results/1660390414_result_BS_32_MD_10_T_0.7_TT_0.5/net146\n",
      "totalscore 0.569228833415436\n"
     ]
    },
    {
     "name": "stderr",
     "output_type": "stream",
     "text": [
      "100%|██████████| 80/80 [00:08<00:00,  9.78it/s]\n"
     ]
    },
    {
     "name": "stdout",
     "output_type": "stream",
     "text": [
      "accuracy 0.7457760314341847\n",
      "saving to _results/1660390414_result_BS_32_MD_10_T_0.7_TT_0.5/net147\n",
      "totalscore 0.5213595857347249\n",
      "current depth: 9\n",
      "potential next fragments: 5\n",
      "potential next fragments after thresholding of 0.7: 5 ['0.94', '0.86', '0.81', '0.8', '0.8']\n",
      "totalscore 0.5208984664734477\n"
     ]
    },
    {
     "name": "stderr",
     "output_type": "stream",
     "text": [
      "100%|██████████| 80/80 [00:08<00:00,  9.76it/s]\n"
     ]
    },
    {
     "name": "stdout",
     "output_type": "stream",
     "text": [
      "accuracy 0.8159135559921414\n",
      "saving to _results/1660390414_result_BS_32_MD_10_T_0.7_TT_0.5/net148\n",
      "totalscore 0.5095772798362702\n"
     ]
    },
    {
     "name": "stderr",
     "output_type": "stream",
     "text": [
      "100%|██████████| 80/80 [00:08<00:00,  9.64it/s]\n"
     ]
    },
    {
     "name": "stdout",
     "output_type": "stream",
     "text": [
      "accuracy 0.7833005893909627\n",
      "saving to _results/1660390414_result_BS_32_MD_10_T_0.7_TT_0.5/net149\n",
      "totalscore 0.6073302105352513\n",
      "ERROR Input and output must have the same number of spatial dimensions, but got input with with spatial dimensions of [] and output size of (56, 56). Please provide input tensor in (N, C, d1, d2, ...,dK) format and output size in (o1, o2, ...,oK) format.\n",
      "totalscore 0.6039021137784464\n"
     ]
    },
    {
     "name": "stderr",
     "output_type": "stream",
     "text": [
      "Traceback (most recent call last):\n",
      "  File \"/home/jupyter-steerapi/stitchnet/stitchnet/stitchonnx/utils.py\", line 1063, in recursive_stitching\n",
      "    newcurr_fragment = stitch_fragments(curr, nextf, data)\n",
      "  File \"/home/jupyter-steerapi/stitchnet/stitchnet/stitchonnx/utils.py\", line 708, in stitch_fragments\n",
      "    nw = adjust_w(tX, tY, w)\n",
      "  File \"/home/jupyter-steerapi/stitchnet/stitchnet/stitchonnx/utils.py\", line 627, in adjust_w\n",
      "    return adjust_w_conv(tX, tY, w)\n",
      "  File \"/home/jupyter-steerapi/stitchnet/stitchnet/stitchonnx/utils.py\", line 599, in adjust_w_conv\n",
      "    tX = up(tX)\n",
      "  File \"/home/jupyter-steerapi/.conda/envs/stitchnet/lib/python3.10/site-packages/torch/nn/modules/module.py\", line 1130, in _call_impl\n",
      "    return forward_call(*input, **kwargs)\n",
      "  File \"/home/jupyter-steerapi/.conda/envs/stitchnet/lib/python3.10/site-packages/torch/nn/modules/upsampling.py\", line 153, in forward\n",
      "    return F.interpolate(input, self.size, self.scale_factor, self.mode, self.align_corners,\n",
      "  File \"/home/jupyter-steerapi/.conda/envs/stitchnet/lib/python3.10/site-packages/torch/nn/functional.py\", line 3854, in interpolate\n",
      "    raise ValueError(\n",
      "ValueError: Input and output must have the same number of spatial dimensions, but got input with with spatial dimensions of [] and output size of (56, 56). Please provide input tensor in (N, C, d1, d2, ...,dK) format and output size in (o1, o2, ...,oK) format.\n"
     ]
    },
    {
     "name": "stdout",
     "output_type": "stream",
     "text": [
      "ERROR Input and output must have the same number of spatial dimensions, but got input with with spatial dimensions of [] and output size of (28, 28). Please provide input tensor in (N, C, d1, d2, ...,dK) format and output size in (o1, o2, ...,oK) format.\n",
      "totalscore 0.6020419803028089\n"
     ]
    },
    {
     "name": "stderr",
     "output_type": "stream",
     "text": [
      "Traceback (most recent call last):\n",
      "  File \"/home/jupyter-steerapi/stitchnet/stitchnet/stitchonnx/utils.py\", line 1063, in recursive_stitching\n",
      "    newcurr_fragment = stitch_fragments(curr, nextf, data)\n",
      "  File \"/home/jupyter-steerapi/stitchnet/stitchnet/stitchonnx/utils.py\", line 708, in stitch_fragments\n",
      "    nw = adjust_w(tX, tY, w)\n",
      "  File \"/home/jupyter-steerapi/stitchnet/stitchnet/stitchonnx/utils.py\", line 627, in adjust_w\n",
      "    return adjust_w_conv(tX, tY, w)\n",
      "  File \"/home/jupyter-steerapi/stitchnet/stitchnet/stitchonnx/utils.py\", line 599, in adjust_w_conv\n",
      "    tX = up(tX)\n",
      "  File \"/home/jupyter-steerapi/.conda/envs/stitchnet/lib/python3.10/site-packages/torch/nn/modules/module.py\", line 1130, in _call_impl\n",
      "    return forward_call(*input, **kwargs)\n",
      "  File \"/home/jupyter-steerapi/.conda/envs/stitchnet/lib/python3.10/site-packages/torch/nn/modules/upsampling.py\", line 153, in forward\n",
      "    return F.interpolate(input, self.size, self.scale_factor, self.mode, self.align_corners,\n",
      "  File \"/home/jupyter-steerapi/.conda/envs/stitchnet/lib/python3.10/site-packages/torch/nn/functional.py\", line 3854, in interpolate\n",
      "    raise ValueError(\n",
      "ValueError: Input and output must have the same number of spatial dimensions, but got input with with spatial dimensions of [] and output size of (28, 28). Please provide input tensor in (N, C, d1, d2, ...,dK) format and output size in (o1, o2, ...,oK) format.\n"
     ]
    },
    {
     "name": "stdout",
     "output_type": "stream",
     "text": [
      "ERROR Input and output must have the same number of spatial dimensions, but got input with with spatial dimensions of [] and output size of (14, 14). Please provide input tensor in (N, C, d1, d2, ...,dK) format and output size in (o1, o2, ...,oK) format.\n",
      "totalscore 0.6009537091877434\n"
     ]
    },
    {
     "name": "stderr",
     "output_type": "stream",
     "text": [
      "Traceback (most recent call last):\n",
      "  File \"/home/jupyter-steerapi/stitchnet/stitchnet/stitchonnx/utils.py\", line 1063, in recursive_stitching\n",
      "    newcurr_fragment = stitch_fragments(curr, nextf, data)\n",
      "  File \"/home/jupyter-steerapi/stitchnet/stitchnet/stitchonnx/utils.py\", line 708, in stitch_fragments\n",
      "    nw = adjust_w(tX, tY, w)\n",
      "  File \"/home/jupyter-steerapi/stitchnet/stitchnet/stitchonnx/utils.py\", line 627, in adjust_w\n",
      "    return adjust_w_conv(tX, tY, w)\n",
      "  File \"/home/jupyter-steerapi/stitchnet/stitchnet/stitchonnx/utils.py\", line 599, in adjust_w_conv\n",
      "    tX = up(tX)\n",
      "  File \"/home/jupyter-steerapi/.conda/envs/stitchnet/lib/python3.10/site-packages/torch/nn/modules/module.py\", line 1130, in _call_impl\n",
      "    return forward_call(*input, **kwargs)\n",
      "  File \"/home/jupyter-steerapi/.conda/envs/stitchnet/lib/python3.10/site-packages/torch/nn/modules/upsampling.py\", line 153, in forward\n",
      "    return F.interpolate(input, self.size, self.scale_factor, self.mode, self.align_corners,\n",
      "  File \"/home/jupyter-steerapi/.conda/envs/stitchnet/lib/python3.10/site-packages/torch/nn/functional.py\", line 3854, in interpolate\n",
      "    raise ValueError(\n",
      "ValueError: Input and output must have the same number of spatial dimensions, but got input with with spatial dimensions of [] and output size of (14, 14). Please provide input tensor in (N, C, d1, d2, ...,dK) format and output size in (o1, o2, ...,oK) format.\n"
     ]
    },
    {
     "name": "stdout",
     "output_type": "stream",
     "text": [
      "ERROR Input and output must have the same number of spatial dimensions, but got input with with spatial dimensions of [] and output size of (56, 56). Please provide input tensor in (N, C, d1, d2, ...,dK) format and output size in (o1, o2, ...,oK) format.\n",
      "totalscore 0.5995710552295748\n"
     ]
    },
    {
     "name": "stderr",
     "output_type": "stream",
     "text": [
      "Traceback (most recent call last):\n",
      "  File \"/home/jupyter-steerapi/stitchnet/stitchnet/stitchonnx/utils.py\", line 1063, in recursive_stitching\n",
      "    newcurr_fragment = stitch_fragments(curr, nextf, data)\n",
      "  File \"/home/jupyter-steerapi/stitchnet/stitchnet/stitchonnx/utils.py\", line 708, in stitch_fragments\n",
      "    nw = adjust_w(tX, tY, w)\n",
      "  File \"/home/jupyter-steerapi/stitchnet/stitchnet/stitchonnx/utils.py\", line 627, in adjust_w\n",
      "    return adjust_w_conv(tX, tY, w)\n",
      "  File \"/home/jupyter-steerapi/stitchnet/stitchnet/stitchonnx/utils.py\", line 599, in adjust_w_conv\n",
      "    tX = up(tX)\n",
      "  File \"/home/jupyter-steerapi/.conda/envs/stitchnet/lib/python3.10/site-packages/torch/nn/modules/module.py\", line 1130, in _call_impl\n",
      "    return forward_call(*input, **kwargs)\n",
      "  File \"/home/jupyter-steerapi/.conda/envs/stitchnet/lib/python3.10/site-packages/torch/nn/modules/upsampling.py\", line 153, in forward\n",
      "    return F.interpolate(input, self.size, self.scale_factor, self.mode, self.align_corners,\n",
      "  File \"/home/jupyter-steerapi/.conda/envs/stitchnet/lib/python3.10/site-packages/torch/nn/functional.py\", line 3854, in interpolate\n",
      "    raise ValueError(\n",
      "ValueError: Input and output must have the same number of spatial dimensions, but got input with with spatial dimensions of [] and output size of (56, 56). Please provide input tensor in (N, C, d1, d2, ...,dK) format and output size in (o1, o2, ...,oK) format.\n"
     ]
    },
    {
     "name": "stdout",
     "output_type": "stream",
     "text": [
      "ERROR Input and output must have the same number of spatial dimensions, but got input with with spatial dimensions of [] and output size of (56, 56). Please provide input tensor in (N, C, d1, d2, ...,dK) format and output size in (o1, o2, ...,oK) format.\n",
      "totalscore 0.5988876988143155\n"
     ]
    },
    {
     "name": "stderr",
     "output_type": "stream",
     "text": [
      "Traceback (most recent call last):\n",
      "  File \"/home/jupyter-steerapi/stitchnet/stitchnet/stitchonnx/utils.py\", line 1063, in recursive_stitching\n",
      "    newcurr_fragment = stitch_fragments(curr, nextf, data)\n",
      "  File \"/home/jupyter-steerapi/stitchnet/stitchnet/stitchonnx/utils.py\", line 708, in stitch_fragments\n",
      "    nw = adjust_w(tX, tY, w)\n",
      "  File \"/home/jupyter-steerapi/stitchnet/stitchnet/stitchonnx/utils.py\", line 627, in adjust_w\n",
      "    return adjust_w_conv(tX, tY, w)\n",
      "  File \"/home/jupyter-steerapi/stitchnet/stitchnet/stitchonnx/utils.py\", line 599, in adjust_w_conv\n",
      "    tX = up(tX)\n",
      "  File \"/home/jupyter-steerapi/.conda/envs/stitchnet/lib/python3.10/site-packages/torch/nn/modules/module.py\", line 1130, in _call_impl\n",
      "    return forward_call(*input, **kwargs)\n",
      "  File \"/home/jupyter-steerapi/.conda/envs/stitchnet/lib/python3.10/site-packages/torch/nn/modules/upsampling.py\", line 153, in forward\n",
      "    return F.interpolate(input, self.size, self.scale_factor, self.mode, self.align_corners,\n",
      "  File \"/home/jupyter-steerapi/.conda/envs/stitchnet/lib/python3.10/site-packages/torch/nn/functional.py\", line 3854, in interpolate\n",
      "    raise ValueError(\n",
      "ValueError: Input and output must have the same number of spatial dimensions, but got input with with spatial dimensions of [] and output size of (56, 56). Please provide input tensor in (N, C, d1, d2, ...,dK) format and output size in (o1, o2, ...,oK) format.\n"
     ]
    },
    {
     "name": "stdout",
     "output_type": "stream",
     "text": [
      "ERROR Input and output must have the same number of spatial dimensions, but got input with with spatial dimensions of [] and output size of (112, 112). Please provide input tensor in (N, C, d1, d2, ...,dK) format and output size in (o1, o2, ...,oK) format.\n",
      "totalscore 0.5956605507833459\n"
     ]
    },
    {
     "name": "stderr",
     "output_type": "stream",
     "text": [
      "Traceback (most recent call last):\n",
      "  File \"/home/jupyter-steerapi/stitchnet/stitchnet/stitchonnx/utils.py\", line 1063, in recursive_stitching\n",
      "    newcurr_fragment = stitch_fragments(curr, nextf, data)\n",
      "  File \"/home/jupyter-steerapi/stitchnet/stitchnet/stitchonnx/utils.py\", line 708, in stitch_fragments\n",
      "    nw = adjust_w(tX, tY, w)\n",
      "  File \"/home/jupyter-steerapi/stitchnet/stitchnet/stitchonnx/utils.py\", line 627, in adjust_w\n",
      "    return adjust_w_conv(tX, tY, w)\n",
      "  File \"/home/jupyter-steerapi/stitchnet/stitchnet/stitchonnx/utils.py\", line 599, in adjust_w_conv\n",
      "    tX = up(tX)\n",
      "  File \"/home/jupyter-steerapi/.conda/envs/stitchnet/lib/python3.10/site-packages/torch/nn/modules/module.py\", line 1130, in _call_impl\n",
      "    return forward_call(*input, **kwargs)\n",
      "  File \"/home/jupyter-steerapi/.conda/envs/stitchnet/lib/python3.10/site-packages/torch/nn/modules/upsampling.py\", line 153, in forward\n",
      "    return F.interpolate(input, self.size, self.scale_factor, self.mode, self.align_corners,\n",
      "  File \"/home/jupyter-steerapi/.conda/envs/stitchnet/lib/python3.10/site-packages/torch/nn/functional.py\", line 3854, in interpolate\n",
      "    raise ValueError(\n",
      "ValueError: Input and output must have the same number of spatial dimensions, but got input with with spatial dimensions of [] and output size of (112, 112). Please provide input tensor in (N, C, d1, d2, ...,dK) format and output size in (o1, o2, ...,oK) format.\n"
     ]
    },
    {
     "name": "stdout",
     "output_type": "stream",
     "text": [
      "ERROR Input and output must have the same number of spatial dimensions, but got input with with spatial dimensions of [] and output size of (56, 56). Please provide input tensor in (N, C, d1, d2, ...,dK) format and output size in (o1, o2, ...,oK) format.\n",
      "totalscore 0.5938336573246695\n"
     ]
    },
    {
     "name": "stderr",
     "output_type": "stream",
     "text": [
      "Traceback (most recent call last):\n",
      "  File \"/home/jupyter-steerapi/stitchnet/stitchnet/stitchonnx/utils.py\", line 1063, in recursive_stitching\n",
      "    newcurr_fragment = stitch_fragments(curr, nextf, data)\n",
      "  File \"/home/jupyter-steerapi/stitchnet/stitchnet/stitchonnx/utils.py\", line 708, in stitch_fragments\n",
      "    nw = adjust_w(tX, tY, w)\n",
      "  File \"/home/jupyter-steerapi/stitchnet/stitchnet/stitchonnx/utils.py\", line 627, in adjust_w\n",
      "    return adjust_w_conv(tX, tY, w)\n",
      "  File \"/home/jupyter-steerapi/stitchnet/stitchnet/stitchonnx/utils.py\", line 599, in adjust_w_conv\n",
      "    tX = up(tX)\n",
      "  File \"/home/jupyter-steerapi/.conda/envs/stitchnet/lib/python3.10/site-packages/torch/nn/modules/module.py\", line 1130, in _call_impl\n",
      "    return forward_call(*input, **kwargs)\n",
      "  File \"/home/jupyter-steerapi/.conda/envs/stitchnet/lib/python3.10/site-packages/torch/nn/modules/upsampling.py\", line 153, in forward\n",
      "    return F.interpolate(input, self.size, self.scale_factor, self.mode, self.align_corners,\n",
      "  File \"/home/jupyter-steerapi/.conda/envs/stitchnet/lib/python3.10/site-packages/torch/nn/functional.py\", line 3854, in interpolate\n",
      "    raise ValueError(\n",
      "ValueError: Input and output must have the same number of spatial dimensions, but got input with with spatial dimensions of [] and output size of (56, 56). Please provide input tensor in (N, C, d1, d2, ...,dK) format and output size in (o1, o2, ...,oK) format.\n"
     ]
    },
    {
     "name": "stdout",
     "output_type": "stream",
     "text": [
      "ERROR Input and output must have the same number of spatial dimensions, but got input with with spatial dimensions of [] and output size of (14, 14). Please provide input tensor in (N, C, d1, d2, ...,dK) format and output size in (o1, o2, ...,oK) format.\n",
      "totalscore 0.7855016688324745\n"
     ]
    },
    {
     "name": "stderr",
     "output_type": "stream",
     "text": [
      "Traceback (most recent call last):\n",
      "  File \"/home/jupyter-steerapi/stitchnet/stitchnet/stitchonnx/utils.py\", line 1063, in recursive_stitching\n",
      "    newcurr_fragment = stitch_fragments(curr, nextf, data)\n",
      "  File \"/home/jupyter-steerapi/stitchnet/stitchnet/stitchonnx/utils.py\", line 708, in stitch_fragments\n",
      "    nw = adjust_w(tX, tY, w)\n",
      "  File \"/home/jupyter-steerapi/stitchnet/stitchnet/stitchonnx/utils.py\", line 627, in adjust_w\n",
      "    return adjust_w_conv(tX, tY, w)\n",
      "  File \"/home/jupyter-steerapi/stitchnet/stitchnet/stitchonnx/utils.py\", line 599, in adjust_w_conv\n",
      "    tX = up(tX)\n",
      "  File \"/home/jupyter-steerapi/.conda/envs/stitchnet/lib/python3.10/site-packages/torch/nn/modules/module.py\", line 1130, in _call_impl\n",
      "    return forward_call(*input, **kwargs)\n",
      "  File \"/home/jupyter-steerapi/.conda/envs/stitchnet/lib/python3.10/site-packages/torch/nn/modules/upsampling.py\", line 153, in forward\n",
      "    return F.interpolate(input, self.size, self.scale_factor, self.mode, self.align_corners,\n",
      "  File \"/home/jupyter-steerapi/.conda/envs/stitchnet/lib/python3.10/site-packages/torch/nn/functional.py\", line 3854, in interpolate\n",
      "    raise ValueError(\n",
      "ValueError: Input and output must have the same number of spatial dimensions, but got input with with spatial dimensions of [] and output size of (14, 14). Please provide input tensor in (N, C, d1, d2, ...,dK) format and output size in (o1, o2, ...,oK) format.\n",
      "100%|██████████| 80/80 [00:08<00:00,  9.60it/s]\n"
     ]
    },
    {
     "name": "stdout",
     "output_type": "stream",
     "text": [
      "accuracy 0.793909626719057\n",
      "saving to _results/1660390414_result_BS_32_MD_10_T_0.7_TT_0.5/net150\n",
      "totalscore 0.7370939718157373\n",
      "current depth: 7\n",
      "potential next fragments: 43\n",
      "potential next fragments after thresholding of 0.7: 34 ['1.0', '0.94', '0.87', '0.86', '0.85', '0.83', '0.81', '0.81', '0.79', '0.76', '0.76', '0.74', '0.74', '0.73', '0.73', '0.73', '0.73', '0.73', '0.73', '0.72', '0.72', '0.72', '0.72', '0.72', '0.72', '0.72', '0.72', '0.72', '0.71', '0.71', '0.71', '0.71', '0.71', '0.71']\n",
      "totalscore 0.7366619665876433\n"
     ]
    },
    {
     "name": "stderr",
     "output_type": "stream",
     "text": [
      "100%|██████████| 80/80 [00:08<00:00,  9.45it/s]\n"
     ]
    },
    {
     "name": "stdout",
     "output_type": "stream",
     "text": [
      "accuracy 0.8053045186640472\n",
      "saving to _results/1660390414_result_BS_32_MD_10_T_0.7_TT_0.5/net151\n",
      "totalscore 0.696360882914617\n",
      "current depth: 8\n",
      "potential next fragments: 43\n",
      "potential next fragments after thresholding of 0.7: 34 ['1.0', '0.94', '0.86', '0.85', '0.85', '0.84', '0.84', '0.82', '0.8', '0.77', '0.77', '0.74', '0.74', '0.73', '0.73', '0.73', '0.73', '0.73', '0.73', '0.72', '0.72', '0.72', '0.72', '0.72', '0.72', '0.72', '0.72', '0.72', '0.72', '0.71', '0.71', '0.71', '0.71', '0.71']\n",
      "totalscore 0.6957722814636603\n"
     ]
    },
    {
     "name": "stderr",
     "output_type": "stream",
     "text": [
      "100%|██████████| 80/80 [00:08<00:00,  9.62it/s]\n"
     ]
    },
    {
     "name": "stdout",
     "output_type": "stream",
     "text": [
      "accuracy 0.8113948919449901\n",
      "saving to _results/1660390414_result_BS_32_MD_10_T_0.7_TT_0.5/net152\n",
      "totalscore 0.6535052931591103\n",
      "current depth: 9\n",
      "potential next fragments: 5\n",
      "potential next fragments after thresholding of 0.7: 5 ['1.0', '0.86', '0.84', '0.84', '0.81']\n",
      "totalscore 0.65320232488534\n"
     ]
    },
    {
     "name": "stderr",
     "output_type": "stream",
     "text": [
      "100%|██████████| 80/80 [00:08<00:00,  9.40it/s]\n"
     ]
    },
    {
     "name": "stdout",
     "output_type": "stream",
     "text": [
      "accuracy 0.8178781925343811\n",
      "saving to _results/1660390414_result_BS_32_MD_10_T_0.7_TT_0.5/net153\n",
      "totalscore 0.5623886949532902\n"
     ]
    },
    {
     "name": "stderr",
     "output_type": "stream",
     "text": [
      "100%|██████████| 80/80 [00:08<00:00,  9.72it/s]\n"
     ]
    },
    {
     "name": "stdout",
     "output_type": "stream",
     "text": [
      "accuracy 0.8322200392927308\n",
      "saving to _results/1660390414_result_BS_32_MD_10_T_0.7_TT_0.5/net154\n",
      "totalscore 0.5516551343269246\n"
     ]
    },
    {
     "name": "stderr",
     "output_type": "stream",
     "text": [
      "100%|██████████| 80/80 [00:08<00:00,  9.49it/s]\n"
     ]
    },
    {
     "name": "stdout",
     "output_type": "stream",
     "text": [
      "accuracy 0.7787819253438114\n",
      "saving to _results/1660390414_result_BS_32_MD_10_T_0.7_TT_0.5/net155\n",
      "totalscore 0.5497444242815074\n"
     ]
    },
    {
     "name": "stderr",
     "output_type": "stream",
     "text": [
      "100%|██████████| 80/80 [00:08<00:00,  9.43it/s]\n"
     ]
    },
    {
     "name": "stdout",
     "output_type": "stream",
     "text": [
      "accuracy 0.8196463654223969\n",
      "saving to _results/1660390414_result_BS_32_MD_10_T_0.7_TT_0.5/net156\n",
      "totalscore 0.5274933171138655\n"
     ]
    },
    {
     "name": "stderr",
     "output_type": "stream",
     "text": [
      "100%|██████████| 80/80 [00:08<00:00,  9.41it/s]\n"
     ]
    },
    {
     "name": "stdout",
     "output_type": "stream",
     "text": [
      "accuracy 0.8326129666011788\n",
      "saving to _results/1660390414_result_BS_32_MD_10_T_0.7_TT_0.5/net157\n",
      "totalscore 0.5973885513144506\n"
     ]
    },
    {
     "name": "stderr",
     "output_type": "stream",
     "text": [
      "100%|██████████| 80/80 [00:08<00:00,  9.84it/s]\n"
     ]
    },
    {
     "name": "stdout",
     "output_type": "stream",
     "text": [
      "accuracy 0.8102161100196463\n",
      "saving to _results/1660390414_result_BS_32_MD_10_T_0.7_TT_0.5/net158\n",
      "totalscore 0.5931705522135013\n",
      "current depth: 9\n",
      "potential next fragments: 5\n",
      "potential next fragments after thresholding of 0.7: 5 ['0.98', '0.89', '0.86', '0.84', '0.81']\n",
      "totalscore 0.5796063655697723\n"
     ]
    },
    {
     "name": "stderr",
     "output_type": "stream",
     "text": [
      "100%|██████████| 80/80 [00:08<00:00,  9.97it/s]\n"
     ]
    },
    {
     "name": "stdout",
     "output_type": "stream",
     "text": [
      "accuracy 0.8137524557956778\n",
      "saving to _results/1660390414_result_BS_32_MD_10_T_0.7_TT_0.5/net159\n",
      "totalscore 0.5254289925863815\n"
     ]
    },
    {
     "name": "stderr",
     "output_type": "stream",
     "text": [
      "100%|██████████| 80/80 [00:08<00:00,  9.82it/s]\n"
     ]
    },
    {
     "name": "stdout",
     "output_type": "stream",
     "text": [
      "accuracy 0.8296660117878193\n",
      "saving to _results/1660390414_result_BS_32_MD_10_T_0.7_TT_0.5/net160\n",
      "totalscore 0.5082985451720531\n"
     ]
    },
    {
     "name": "stderr",
     "output_type": "stream",
     "text": [
      "100%|██████████| 80/80 [00:07<00:00, 10.01it/s]\n"
     ]
    },
    {
     "name": "stdout",
     "output_type": "stream",
     "text": [
      "accuracy 0.8518664047151278\n",
      "saving to _results/1660390414_result_BS_32_MD_10_T_0.7_TT_0.5/net161\n",
      "totalscore 0.5907639729364466\n"
     ]
    },
    {
     "name": "stderr",
     "output_type": "stream",
     "text": [
      "100%|██████████| 80/80 [00:08<00:00,  9.95it/s]\n"
     ]
    },
    {
     "name": "stdout",
     "output_type": "stream",
     "text": [
      "accuracy 0.8184675834970531\n",
      "saving to _results/1660390414_result_BS_32_MD_10_T_0.7_TT_0.5/net162\n",
      "totalscore 0.5873701652896715\n"
     ]
    },
    {
     "name": "stderr",
     "output_type": "stream",
     "text": [
      "100%|██████████| 80/80 [00:07<00:00, 10.01it/s]\n"
     ]
    },
    {
     "name": "stdout",
     "output_type": "stream",
     "text": [
      "accuracy 0.824557956777996\n",
      "saving to _results/1660390414_result_BS_32_MD_10_T_0.7_TT_0.5/net163\n",
      "totalscore 0.5826247865937815\n",
      "current depth: 9\n",
      "potential next fragments: 5\n",
      "potential next fragments after thresholding of 0.7: 4 ['0.92', '0.86', '0.73', '0.73']\n",
      "totalscore 0.5374501556826347\n"
     ]
    },
    {
     "name": "stderr",
     "output_type": "stream",
     "text": [
      "100%|██████████| 80/80 [00:07<00:00, 10.05it/s]\n"
     ]
    },
    {
     "name": "stdout",
     "output_type": "stream",
     "text": [
      "accuracy 0.8455795677799607\n",
      "saving to _results/1660390414_result_BS_32_MD_10_T_0.7_TT_0.5/net164\n",
      "totalscore 0.5694128195211564\n"
     ]
    },
    {
     "name": "stderr",
     "output_type": "stream",
     "text": [
      "100%|██████████| 80/80 [00:08<00:00,  9.71it/s]\n"
     ]
    },
    {
     "name": "stdout",
     "output_type": "stream",
     "text": [
      "accuracy 0.8280943025540275\n",
      "saving to _results/1660390414_result_BS_32_MD_10_T_0.7_TT_0.5/net165\n",
      "totalscore 0.5557766161160987\n",
      "ERROR Input and output must have the same number of spatial dimensions, but got input with with spatial dimensions of [] and output size of (7, 7). Please provide input tensor in (N, C, d1, d2, ...,dK) format and output size in (o1, o2, ...,oK) format.\n",
      "totalscore 0.5393330896917266\n"
     ]
    },
    {
     "name": "stderr",
     "output_type": "stream",
     "text": [
      "Traceback (most recent call last):\n",
      "  File \"/home/jupyter-steerapi/stitchnet/stitchnet/stitchonnx/utils.py\", line 1063, in recursive_stitching\n",
      "    newcurr_fragment = stitch_fragments(curr, nextf, data)\n",
      "  File \"/home/jupyter-steerapi/stitchnet/stitchnet/stitchonnx/utils.py\", line 708, in stitch_fragments\n",
      "    nw = adjust_w(tX, tY, w)\n",
      "  File \"/home/jupyter-steerapi/stitchnet/stitchnet/stitchonnx/utils.py\", line 627, in adjust_w\n",
      "    return adjust_w_conv(tX, tY, w)\n",
      "  File \"/home/jupyter-steerapi/stitchnet/stitchnet/stitchonnx/utils.py\", line 599, in adjust_w_conv\n",
      "    tX = up(tX)\n",
      "  File \"/home/jupyter-steerapi/.conda/envs/stitchnet/lib/python3.10/site-packages/torch/nn/modules/module.py\", line 1130, in _call_impl\n",
      "    return forward_call(*input, **kwargs)\n",
      "  File \"/home/jupyter-steerapi/.conda/envs/stitchnet/lib/python3.10/site-packages/torch/nn/modules/upsampling.py\", line 153, in forward\n",
      "    return F.interpolate(input, self.size, self.scale_factor, self.mode, self.align_corners,\n",
      "  File \"/home/jupyter-steerapi/.conda/envs/stitchnet/lib/python3.10/site-packages/torch/nn/functional.py\", line 3854, in interpolate\n",
      "    raise ValueError(\n",
      "ValueError: Input and output must have the same number of spatial dimensions, but got input with with spatial dimensions of [] and output size of (7, 7). Please provide input tensor in (N, C, d1, d2, ...,dK) format and output size in (o1, o2, ...,oK) format.\n"
     ]
    },
    {
     "name": "stdout",
     "output_type": "stream",
     "text": [
      "current depth: 9\n",
      "potential next fragments: 5\n",
      "potential next fragments after thresholding of 0.7: 5 ['0.96', '0.84', '0.83', '0.82', '0.73']\n",
      "totalscore 0.5169513600272453\n"
     ]
    },
    {
     "name": "stderr",
     "output_type": "stream",
     "text": [
      "100%|██████████| 80/80 [00:08<00:00,  9.74it/s]\n"
     ]
    },
    {
     "name": "stdout",
     "output_type": "stream",
     "text": [
      "accuracy 0.8003929273084479\n",
      "saving to _results/1660390414_result_BS_32_MD_10_T_0.7_TT_0.5/net166\n",
      "totalscore 0.5347947031286847\n",
      "current depth: 9\n",
      "potential next fragments: 5\n",
      "potential next fragments after thresholding of 0.7: 4 ['0.92', '0.81', '0.73', '0.71']\n",
      "totalscore 0.5163984692886363\n",
      "ERROR Input and output must have the same number of spatial dimensions, but got input with with spatial dimensions of [] and output size of (14, 14). Please provide input tensor in (N, C, d1, d2, ...,dK) format and output size in (o1, o2, ...,oK) format.\n",
      "totalscore 0.5122098566785747\n"
     ]
    },
    {
     "name": "stderr",
     "output_type": "stream",
     "text": [
      "Traceback (most recent call last):\n",
      "  File \"/home/jupyter-steerapi/stitchnet/stitchnet/stitchonnx/utils.py\", line 1063, in recursive_stitching\n",
      "    newcurr_fragment = stitch_fragments(curr, nextf, data)\n",
      "  File \"/home/jupyter-steerapi/stitchnet/stitchnet/stitchonnx/utils.py\", line 708, in stitch_fragments\n",
      "    nw = adjust_w(tX, tY, w)\n",
      "  File \"/home/jupyter-steerapi/stitchnet/stitchnet/stitchonnx/utils.py\", line 627, in adjust_w\n",
      "    return adjust_w_conv(tX, tY, w)\n",
      "  File \"/home/jupyter-steerapi/stitchnet/stitchnet/stitchonnx/utils.py\", line 599, in adjust_w_conv\n",
      "    tX = up(tX)\n",
      "  File \"/home/jupyter-steerapi/.conda/envs/stitchnet/lib/python3.10/site-packages/torch/nn/modules/module.py\", line 1130, in _call_impl\n",
      "    return forward_call(*input, **kwargs)\n",
      "  File \"/home/jupyter-steerapi/.conda/envs/stitchnet/lib/python3.10/site-packages/torch/nn/modules/upsampling.py\", line 153, in forward\n",
      "    return F.interpolate(input, self.size, self.scale_factor, self.mode, self.align_corners,\n",
      "  File \"/home/jupyter-steerapi/.conda/envs/stitchnet/lib/python3.10/site-packages/torch/nn/functional.py\", line 3854, in interpolate\n",
      "    raise ValueError(\n",
      "ValueError: Input and output must have the same number of spatial dimensions, but got input with with spatial dimensions of [] and output size of (14, 14). Please provide input tensor in (N, C, d1, d2, ...,dK) format and output size in (o1, o2, ...,oK) format.\n"
     ]
    },
    {
     "name": "stdout",
     "output_type": "stream",
     "text": [
      "ERROR Input and output must have the same number of spatial dimensions, but got input with with spatial dimensions of [] and output size of (14, 14). Please provide input tensor in (N, C, d1, d2, ...,dK) format and output size in (o1, o2, ...,oK) format.\n",
      "totalscore 0.5108101797778513\n"
     ]
    },
    {
     "name": "stderr",
     "output_type": "stream",
     "text": [
      "Traceback (most recent call last):\n",
      "  File \"/home/jupyter-steerapi/stitchnet/stitchnet/stitchonnx/utils.py\", line 1063, in recursive_stitching\n",
      "    newcurr_fragment = stitch_fragments(curr, nextf, data)\n",
      "  File \"/home/jupyter-steerapi/stitchnet/stitchnet/stitchonnx/utils.py\", line 708, in stitch_fragments\n",
      "    nw = adjust_w(tX, tY, w)\n",
      "  File \"/home/jupyter-steerapi/stitchnet/stitchnet/stitchonnx/utils.py\", line 627, in adjust_w\n",
      "    return adjust_w_conv(tX, tY, w)\n",
      "  File \"/home/jupyter-steerapi/stitchnet/stitchnet/stitchonnx/utils.py\", line 599, in adjust_w_conv\n",
      "    tX = up(tX)\n",
      "  File \"/home/jupyter-steerapi/.conda/envs/stitchnet/lib/python3.10/site-packages/torch/nn/modules/module.py\", line 1130, in _call_impl\n",
      "    return forward_call(*input, **kwargs)\n",
      "  File \"/home/jupyter-steerapi/.conda/envs/stitchnet/lib/python3.10/site-packages/torch/nn/modules/upsampling.py\", line 153, in forward\n",
      "    return F.interpolate(input, self.size, self.scale_factor, self.mode, self.align_corners,\n",
      "  File \"/home/jupyter-steerapi/.conda/envs/stitchnet/lib/python3.10/site-packages/torch/nn/functional.py\", line 3854, in interpolate\n",
      "    raise ValueError(\n",
      "ValueError: Input and output must have the same number of spatial dimensions, but got input with with spatial dimensions of [] and output size of (14, 14). Please provide input tensor in (N, C, d1, d2, ...,dK) format and output size in (o1, o2, ...,oK) format.\n"
     ]
    },
    {
     "name": "stdout",
     "output_type": "stream",
     "text": [
      "ERROR Input and output must have the same number of spatial dimensions, but got input with with spatial dimensions of [] and output size of (7, 7). Please provide input tensor in (N, C, d1, d2, ...,dK) format and output size in (o1, o2, ...,oK) format.\n",
      "totalscore 0.5107428149830623\n"
     ]
    },
    {
     "name": "stderr",
     "output_type": "stream",
     "text": [
      "Traceback (most recent call last):\n",
      "  File \"/home/jupyter-steerapi/stitchnet/stitchnet/stitchonnx/utils.py\", line 1063, in recursive_stitching\n",
      "    newcurr_fragment = stitch_fragments(curr, nextf, data)\n",
      "  File \"/home/jupyter-steerapi/stitchnet/stitchnet/stitchonnx/utils.py\", line 708, in stitch_fragments\n",
      "    nw = adjust_w(tX, tY, w)\n",
      "  File \"/home/jupyter-steerapi/stitchnet/stitchnet/stitchonnx/utils.py\", line 627, in adjust_w\n",
      "    return adjust_w_conv(tX, tY, w)\n",
      "  File \"/home/jupyter-steerapi/stitchnet/stitchnet/stitchonnx/utils.py\", line 599, in adjust_w_conv\n",
      "    tX = up(tX)\n",
      "  File \"/home/jupyter-steerapi/.conda/envs/stitchnet/lib/python3.10/site-packages/torch/nn/modules/module.py\", line 1130, in _call_impl\n",
      "    return forward_call(*input, **kwargs)\n",
      "  File \"/home/jupyter-steerapi/.conda/envs/stitchnet/lib/python3.10/site-packages/torch/nn/modules/upsampling.py\", line 153, in forward\n",
      "    return F.interpolate(input, self.size, self.scale_factor, self.mode, self.align_corners,\n",
      "  File \"/home/jupyter-steerapi/.conda/envs/stitchnet/lib/python3.10/site-packages/torch/nn/functional.py\", line 3854, in interpolate\n",
      "    raise ValueError(\n",
      "ValueError: Input and output must have the same number of spatial dimensions, but got input with with spatial dimensions of [] and output size of (7, 7). Please provide input tensor in (N, C, d1, d2, ...,dK) format and output size in (o1, o2, ...,oK) format.\n"
     ]
    },
    {
     "name": "stdout",
     "output_type": "stream",
     "text": [
      "ERROR Input and output must have the same number of spatial dimensions, but got input with with spatial dimensions of [] and output size of (14, 14). Please provide input tensor in (N, C, d1, d2, ...,dK) format and output size in (o1, o2, ...,oK) format.\n",
      "totalscore 0.5079782850034442\n"
     ]
    },
    {
     "name": "stderr",
     "output_type": "stream",
     "text": [
      "Traceback (most recent call last):\n",
      "  File \"/home/jupyter-steerapi/stitchnet/stitchnet/stitchonnx/utils.py\", line 1063, in recursive_stitching\n",
      "    newcurr_fragment = stitch_fragments(curr, nextf, data)\n",
      "  File \"/home/jupyter-steerapi/stitchnet/stitchnet/stitchonnx/utils.py\", line 708, in stitch_fragments\n",
      "    nw = adjust_w(tX, tY, w)\n",
      "  File \"/home/jupyter-steerapi/stitchnet/stitchnet/stitchonnx/utils.py\", line 627, in adjust_w\n",
      "    return adjust_w_conv(tX, tY, w)\n",
      "  File \"/home/jupyter-steerapi/stitchnet/stitchnet/stitchonnx/utils.py\", line 599, in adjust_w_conv\n",
      "    tX = up(tX)\n",
      "  File \"/home/jupyter-steerapi/.conda/envs/stitchnet/lib/python3.10/site-packages/torch/nn/modules/module.py\", line 1130, in _call_impl\n",
      "    return forward_call(*input, **kwargs)\n",
      "  File \"/home/jupyter-steerapi/.conda/envs/stitchnet/lib/python3.10/site-packages/torch/nn/modules/upsampling.py\", line 153, in forward\n",
      "    return F.interpolate(input, self.size, self.scale_factor, self.mode, self.align_corners,\n",
      "  File \"/home/jupyter-steerapi/.conda/envs/stitchnet/lib/python3.10/site-packages/torch/nn/functional.py\", line 3854, in interpolate\n",
      "    raise ValueError(\n",
      "ValueError: Input and output must have the same number of spatial dimensions, but got input with with spatial dimensions of [] and output size of (14, 14). Please provide input tensor in (N, C, d1, d2, ...,dK) format and output size in (o1, o2, ...,oK) format.\n"
     ]
    },
    {
     "name": "stdout",
     "output_type": "stream",
     "text": [
      "ERROR Input and output must have the same number of spatial dimensions, but got input with with spatial dimensions of [] and output size of (56, 56). Please provide input tensor in (N, C, d1, d2, ...,dK) format and output size in (o1, o2, ...,oK) format.\n",
      "totalscore 0.5069409169713055\n"
     ]
    },
    {
     "name": "stderr",
     "output_type": "stream",
     "text": [
      "Traceback (most recent call last):\n",
      "  File \"/home/jupyter-steerapi/stitchnet/stitchnet/stitchonnx/utils.py\", line 1063, in recursive_stitching\n",
      "    newcurr_fragment = stitch_fragments(curr, nextf, data)\n",
      "  File \"/home/jupyter-steerapi/stitchnet/stitchnet/stitchonnx/utils.py\", line 708, in stitch_fragments\n",
      "    nw = adjust_w(tX, tY, w)\n",
      "  File \"/home/jupyter-steerapi/stitchnet/stitchnet/stitchonnx/utils.py\", line 627, in adjust_w\n",
      "    return adjust_w_conv(tX, tY, w)\n",
      "  File \"/home/jupyter-steerapi/stitchnet/stitchnet/stitchonnx/utils.py\", line 599, in adjust_w_conv\n",
      "    tX = up(tX)\n",
      "  File \"/home/jupyter-steerapi/.conda/envs/stitchnet/lib/python3.10/site-packages/torch/nn/modules/module.py\", line 1130, in _call_impl\n",
      "    return forward_call(*input, **kwargs)\n",
      "  File \"/home/jupyter-steerapi/.conda/envs/stitchnet/lib/python3.10/site-packages/torch/nn/modules/upsampling.py\", line 153, in forward\n",
      "    return F.interpolate(input, self.size, self.scale_factor, self.mode, self.align_corners,\n",
      "  File \"/home/jupyter-steerapi/.conda/envs/stitchnet/lib/python3.10/site-packages/torch/nn/functional.py\", line 3854, in interpolate\n",
      "    raise ValueError(\n",
      "ValueError: Input and output must have the same number of spatial dimensions, but got input with with spatial dimensions of [] and output size of (56, 56). Please provide input tensor in (N, C, d1, d2, ...,dK) format and output size in (o1, o2, ...,oK) format.\n"
     ]
    },
    {
     "name": "stdout",
     "output_type": "stream",
     "text": [
      "ERROR Input and output must have the same number of spatial dimensions, but got input with with spatial dimensions of [] and output size of (14, 14). Please provide input tensor in (N, C, d1, d2, ...,dK) format and output size in (o1, o2, ...,oK) format.\n",
      "totalscore 0.5068860040794351\n"
     ]
    },
    {
     "name": "stderr",
     "output_type": "stream",
     "text": [
      "Traceback (most recent call last):\n",
      "  File \"/home/jupyter-steerapi/stitchnet/stitchnet/stitchonnx/utils.py\", line 1063, in recursive_stitching\n",
      "    newcurr_fragment = stitch_fragments(curr, nextf, data)\n",
      "  File \"/home/jupyter-steerapi/stitchnet/stitchnet/stitchonnx/utils.py\", line 708, in stitch_fragments\n",
      "    nw = adjust_w(tX, tY, w)\n",
      "  File \"/home/jupyter-steerapi/stitchnet/stitchnet/stitchonnx/utils.py\", line 627, in adjust_w\n",
      "    return adjust_w_conv(tX, tY, w)\n",
      "  File \"/home/jupyter-steerapi/stitchnet/stitchnet/stitchonnx/utils.py\", line 599, in adjust_w_conv\n",
      "    tX = up(tX)\n",
      "  File \"/home/jupyter-steerapi/.conda/envs/stitchnet/lib/python3.10/site-packages/torch/nn/modules/module.py\", line 1130, in _call_impl\n",
      "    return forward_call(*input, **kwargs)\n",
      "  File \"/home/jupyter-steerapi/.conda/envs/stitchnet/lib/python3.10/site-packages/torch/nn/modules/upsampling.py\", line 153, in forward\n",
      "    return F.interpolate(input, self.size, self.scale_factor, self.mode, self.align_corners,\n",
      "  File \"/home/jupyter-steerapi/.conda/envs/stitchnet/lib/python3.10/site-packages/torch/nn/functional.py\", line 3854, in interpolate\n",
      "    raise ValueError(\n",
      "ValueError: Input and output must have the same number of spatial dimensions, but got input with with spatial dimensions of [] and output size of (14, 14). Please provide input tensor in (N, C, d1, d2, ...,dK) format and output size in (o1, o2, ...,oK) format.\n"
     ]
    },
    {
     "name": "stdout",
     "output_type": "stream",
     "text": [
      "ERROR Input and output must have the same number of spatial dimensions, but got input with with spatial dimensions of [] and output size of (13, 13). Please provide input tensor in (N, C, d1, d2, ...,dK) format and output size in (o1, o2, ...,oK) format.\n",
      "totalscore 0.5065857471937274\n"
     ]
    },
    {
     "name": "stderr",
     "output_type": "stream",
     "text": [
      "Traceback (most recent call last):\n",
      "  File \"/home/jupyter-steerapi/stitchnet/stitchnet/stitchonnx/utils.py\", line 1063, in recursive_stitching\n",
      "    newcurr_fragment = stitch_fragments(curr, nextf, data)\n",
      "  File \"/home/jupyter-steerapi/stitchnet/stitchnet/stitchonnx/utils.py\", line 708, in stitch_fragments\n",
      "    nw = adjust_w(tX, tY, w)\n",
      "  File \"/home/jupyter-steerapi/stitchnet/stitchnet/stitchonnx/utils.py\", line 627, in adjust_w\n",
      "    return adjust_w_conv(tX, tY, w)\n",
      "  File \"/home/jupyter-steerapi/stitchnet/stitchnet/stitchonnx/utils.py\", line 599, in adjust_w_conv\n",
      "    tX = up(tX)\n",
      "  File \"/home/jupyter-steerapi/.conda/envs/stitchnet/lib/python3.10/site-packages/torch/nn/modules/module.py\", line 1130, in _call_impl\n",
      "    return forward_call(*input, **kwargs)\n",
      "  File \"/home/jupyter-steerapi/.conda/envs/stitchnet/lib/python3.10/site-packages/torch/nn/modules/upsampling.py\", line 153, in forward\n",
      "    return F.interpolate(input, self.size, self.scale_factor, self.mode, self.align_corners,\n",
      "  File \"/home/jupyter-steerapi/.conda/envs/stitchnet/lib/python3.10/site-packages/torch/nn/functional.py\", line 3854, in interpolate\n",
      "    raise ValueError(\n",
      "ValueError: Input and output must have the same number of spatial dimensions, but got input with with spatial dimensions of [] and output size of (13, 13). Please provide input tensor in (N, C, d1, d2, ...,dK) format and output size in (o1, o2, ...,oK) format.\n"
     ]
    },
    {
     "name": "stdout",
     "output_type": "stream",
     "text": [
      "ERROR Input and output must have the same number of spatial dimensions, but got input with with spatial dimensions of [] and output size of (56, 56). Please provide input tensor in (N, C, d1, d2, ...,dK) format and output size in (o1, o2, ...,oK) format.\n",
      "totalscore 0.5047839983477662\n"
     ]
    },
    {
     "name": "stderr",
     "output_type": "stream",
     "text": [
      "Traceback (most recent call last):\n",
      "  File \"/home/jupyter-steerapi/stitchnet/stitchnet/stitchonnx/utils.py\", line 1063, in recursive_stitching\n",
      "    newcurr_fragment = stitch_fragments(curr, nextf, data)\n",
      "  File \"/home/jupyter-steerapi/stitchnet/stitchnet/stitchonnx/utils.py\", line 708, in stitch_fragments\n",
      "    nw = adjust_w(tX, tY, w)\n",
      "  File \"/home/jupyter-steerapi/stitchnet/stitchnet/stitchonnx/utils.py\", line 627, in adjust_w\n",
      "    return adjust_w_conv(tX, tY, w)\n",
      "  File \"/home/jupyter-steerapi/stitchnet/stitchnet/stitchonnx/utils.py\", line 599, in adjust_w_conv\n",
      "    tX = up(tX)\n",
      "  File \"/home/jupyter-steerapi/.conda/envs/stitchnet/lib/python3.10/site-packages/torch/nn/modules/module.py\", line 1130, in _call_impl\n",
      "    return forward_call(*input, **kwargs)\n",
      "  File \"/home/jupyter-steerapi/.conda/envs/stitchnet/lib/python3.10/site-packages/torch/nn/modules/upsampling.py\", line 153, in forward\n",
      "    return F.interpolate(input, self.size, self.scale_factor, self.mode, self.align_corners,\n",
      "  File \"/home/jupyter-steerapi/.conda/envs/stitchnet/lib/python3.10/site-packages/torch/nn/functional.py\", line 3854, in interpolate\n",
      "    raise ValueError(\n",
      "ValueError: Input and output must have the same number of spatial dimensions, but got input with with spatial dimensions of [] and output size of (56, 56). Please provide input tensor in (N, C, d1, d2, ...,dK) format and output size in (o1, o2, ...,oK) format.\n"
     ]
    },
    {
     "name": "stdout",
     "output_type": "stream",
     "text": [
      "ERROR Input and output must have the same number of spatial dimensions, but got input with with spatial dimensions of [] and output size of (28, 28). Please provide input tensor in (N, C, d1, d2, ...,dK) format and output size in (o1, o2, ...,oK) format.\n",
      "totalscore 0.5036827935599989\n"
     ]
    },
    {
     "name": "stderr",
     "output_type": "stream",
     "text": [
      "Traceback (most recent call last):\n",
      "  File \"/home/jupyter-steerapi/stitchnet/stitchnet/stitchonnx/utils.py\", line 1063, in recursive_stitching\n",
      "    newcurr_fragment = stitch_fragments(curr, nextf, data)\n",
      "  File \"/home/jupyter-steerapi/stitchnet/stitchnet/stitchonnx/utils.py\", line 708, in stitch_fragments\n",
      "    nw = adjust_w(tX, tY, w)\n",
      "  File \"/home/jupyter-steerapi/stitchnet/stitchnet/stitchonnx/utils.py\", line 627, in adjust_w\n",
      "    return adjust_w_conv(tX, tY, w)\n",
      "  File \"/home/jupyter-steerapi/stitchnet/stitchnet/stitchonnx/utils.py\", line 599, in adjust_w_conv\n",
      "    tX = up(tX)\n",
      "  File \"/home/jupyter-steerapi/.conda/envs/stitchnet/lib/python3.10/site-packages/torch/nn/modules/module.py\", line 1130, in _call_impl\n",
      "    return forward_call(*input, **kwargs)\n",
      "  File \"/home/jupyter-steerapi/.conda/envs/stitchnet/lib/python3.10/site-packages/torch/nn/modules/upsampling.py\", line 153, in forward\n",
      "    return F.interpolate(input, self.size, self.scale_factor, self.mode, self.align_corners,\n",
      "  File \"/home/jupyter-steerapi/.conda/envs/stitchnet/lib/python3.10/site-packages/torch/nn/functional.py\", line 3854, in interpolate\n",
      "    raise ValueError(\n",
      "ValueError: Input and output must have the same number of spatial dimensions, but got input with with spatial dimensions of [] and output size of (28, 28). Please provide input tensor in (N, C, d1, d2, ...,dK) format and output size in (o1, o2, ...,oK) format.\n"
     ]
    },
    {
     "name": "stdout",
     "output_type": "stream",
     "text": [
      "ERROR Input and output must have the same number of spatial dimensions, but got input with with spatial dimensions of [] and output size of (28, 28). Please provide input tensor in (N, C, d1, d2, ...,dK) format and output size in (o1, o2, ...,oK) format.\n",
      "totalscore 0.5035899853769131\n"
     ]
    },
    {
     "name": "stderr",
     "output_type": "stream",
     "text": [
      "Traceback (most recent call last):\n",
      "  File \"/home/jupyter-steerapi/stitchnet/stitchnet/stitchonnx/utils.py\", line 1063, in recursive_stitching\n",
      "    newcurr_fragment = stitch_fragments(curr, nextf, data)\n",
      "  File \"/home/jupyter-steerapi/stitchnet/stitchnet/stitchonnx/utils.py\", line 708, in stitch_fragments\n",
      "    nw = adjust_w(tX, tY, w)\n",
      "  File \"/home/jupyter-steerapi/stitchnet/stitchnet/stitchonnx/utils.py\", line 627, in adjust_w\n",
      "    return adjust_w_conv(tX, tY, w)\n",
      "  File \"/home/jupyter-steerapi/stitchnet/stitchnet/stitchonnx/utils.py\", line 599, in adjust_w_conv\n",
      "    tX = up(tX)\n",
      "  File \"/home/jupyter-steerapi/.conda/envs/stitchnet/lib/python3.10/site-packages/torch/nn/modules/module.py\", line 1130, in _call_impl\n",
      "    return forward_call(*input, **kwargs)\n",
      "  File \"/home/jupyter-steerapi/.conda/envs/stitchnet/lib/python3.10/site-packages/torch/nn/modules/upsampling.py\", line 153, in forward\n",
      "    return F.interpolate(input, self.size, self.scale_factor, self.mode, self.align_corners,\n",
      "  File \"/home/jupyter-steerapi/.conda/envs/stitchnet/lib/python3.10/site-packages/torch/nn/functional.py\", line 3854, in interpolate\n",
      "    raise ValueError(\n",
      "ValueError: Input and output must have the same number of spatial dimensions, but got input with with spatial dimensions of [] and output size of (28, 28). Please provide input tensor in (N, C, d1, d2, ...,dK) format and output size in (o1, o2, ...,oK) format.\n"
     ]
    },
    {
     "name": "stdout",
     "output_type": "stream",
     "text": [
      "ERROR Input and output must have the same number of spatial dimensions, but got input with with spatial dimensions of [] and output size of (14, 14). Please provide input tensor in (N, C, d1, d2, ...,dK) format and output size in (o1, o2, ...,oK) format.\n",
      "totalscore 0.5026404862730359\n"
     ]
    },
    {
     "name": "stderr",
     "output_type": "stream",
     "text": [
      "Traceback (most recent call last):\n",
      "  File \"/home/jupyter-steerapi/stitchnet/stitchnet/stitchonnx/utils.py\", line 1063, in recursive_stitching\n",
      "    newcurr_fragment = stitch_fragments(curr, nextf, data)\n",
      "  File \"/home/jupyter-steerapi/stitchnet/stitchnet/stitchonnx/utils.py\", line 708, in stitch_fragments\n",
      "    nw = adjust_w(tX, tY, w)\n",
      "  File \"/home/jupyter-steerapi/stitchnet/stitchnet/stitchonnx/utils.py\", line 627, in adjust_w\n",
      "    return adjust_w_conv(tX, tY, w)\n",
      "  File \"/home/jupyter-steerapi/stitchnet/stitchnet/stitchonnx/utils.py\", line 599, in adjust_w_conv\n",
      "    tX = up(tX)\n",
      "  File \"/home/jupyter-steerapi/.conda/envs/stitchnet/lib/python3.10/site-packages/torch/nn/modules/module.py\", line 1130, in _call_impl\n",
      "    return forward_call(*input, **kwargs)\n",
      "  File \"/home/jupyter-steerapi/.conda/envs/stitchnet/lib/python3.10/site-packages/torch/nn/modules/upsampling.py\", line 153, in forward\n",
      "    return F.interpolate(input, self.size, self.scale_factor, self.mode, self.align_corners,\n",
      "  File \"/home/jupyter-steerapi/.conda/envs/stitchnet/lib/python3.10/site-packages/torch/nn/functional.py\", line 3854, in interpolate\n",
      "    raise ValueError(\n",
      "ValueError: Input and output must have the same number of spatial dimensions, but got input with with spatial dimensions of [] and output size of (14, 14). Please provide input tensor in (N, C, d1, d2, ...,dK) format and output size in (o1, o2, ...,oK) format.\n"
     ]
    },
    {
     "name": "stdout",
     "output_type": "stream",
     "text": [
      "ERROR Input and output must have the same number of spatial dimensions, but got input with with spatial dimensions of [] and output size of (56, 56). Please provide input tensor in (N, C, d1, d2, ...,dK) format and output size in (o1, o2, ...,oK) format.\n",
      "totalscore 0.5009365678776709\n"
     ]
    },
    {
     "name": "stderr",
     "output_type": "stream",
     "text": [
      "Traceback (most recent call last):\n",
      "  File \"/home/jupyter-steerapi/stitchnet/stitchnet/stitchonnx/utils.py\", line 1063, in recursive_stitching\n",
      "    newcurr_fragment = stitch_fragments(curr, nextf, data)\n",
      "  File \"/home/jupyter-steerapi/stitchnet/stitchnet/stitchonnx/utils.py\", line 708, in stitch_fragments\n",
      "    nw = adjust_w(tX, tY, w)\n",
      "  File \"/home/jupyter-steerapi/stitchnet/stitchnet/stitchonnx/utils.py\", line 627, in adjust_w\n",
      "    return adjust_w_conv(tX, tY, w)\n",
      "  File \"/home/jupyter-steerapi/stitchnet/stitchnet/stitchonnx/utils.py\", line 599, in adjust_w_conv\n",
      "    tX = up(tX)\n",
      "  File \"/home/jupyter-steerapi/.conda/envs/stitchnet/lib/python3.10/site-packages/torch/nn/modules/module.py\", line 1130, in _call_impl\n",
      "    return forward_call(*input, **kwargs)\n",
      "  File \"/home/jupyter-steerapi/.conda/envs/stitchnet/lib/python3.10/site-packages/torch/nn/modules/upsampling.py\", line 153, in forward\n",
      "    return F.interpolate(input, self.size, self.scale_factor, self.mode, self.align_corners,\n",
      "  File \"/home/jupyter-steerapi/.conda/envs/stitchnet/lib/python3.10/site-packages/torch/nn/functional.py\", line 3854, in interpolate\n",
      "    raise ValueError(\n",
      "ValueError: Input and output must have the same number of spatial dimensions, but got input with with spatial dimensions of [] and output size of (56, 56). Please provide input tensor in (N, C, d1, d2, ...,dK) format and output size in (o1, o2, ...,oK) format.\n"
     ]
    },
    {
     "name": "stdout",
     "output_type": "stream",
     "text": [
      "ERROR Input and output must have the same number of spatial dimensions, but got input with with spatial dimensions of [] and output size of (14, 14). Please provide input tensor in (N, C, d1, d2, ...,dK) format and output size in (o1, o2, ...,oK) format.\n",
      "totalscore 0.5001024149011619\n"
     ]
    },
    {
     "name": "stderr",
     "output_type": "stream",
     "text": [
      "Traceback (most recent call last):\n",
      "  File \"/home/jupyter-steerapi/stitchnet/stitchnet/stitchonnx/utils.py\", line 1063, in recursive_stitching\n",
      "    newcurr_fragment = stitch_fragments(curr, nextf, data)\n",
      "  File \"/home/jupyter-steerapi/stitchnet/stitchnet/stitchonnx/utils.py\", line 708, in stitch_fragments\n",
      "    nw = adjust_w(tX, tY, w)\n",
      "  File \"/home/jupyter-steerapi/stitchnet/stitchnet/stitchonnx/utils.py\", line 627, in adjust_w\n",
      "    return adjust_w_conv(tX, tY, w)\n",
      "  File \"/home/jupyter-steerapi/stitchnet/stitchnet/stitchonnx/utils.py\", line 599, in adjust_w_conv\n",
      "    tX = up(tX)\n",
      "  File \"/home/jupyter-steerapi/.conda/envs/stitchnet/lib/python3.10/site-packages/torch/nn/modules/module.py\", line 1130, in _call_impl\n",
      "    return forward_call(*input, **kwargs)\n",
      "  File \"/home/jupyter-steerapi/.conda/envs/stitchnet/lib/python3.10/site-packages/torch/nn/modules/upsampling.py\", line 153, in forward\n",
      "    return F.interpolate(input, self.size, self.scale_factor, self.mode, self.align_corners,\n",
      "  File \"/home/jupyter-steerapi/.conda/envs/stitchnet/lib/python3.10/site-packages/torch/nn/functional.py\", line 3854, in interpolate\n",
      "    raise ValueError(\n",
      "ValueError: Input and output must have the same number of spatial dimensions, but got input with with spatial dimensions of [] and output size of (14, 14). Please provide input tensor in (N, C, d1, d2, ...,dK) format and output size in (o1, o2, ...,oK) format.\n"
     ]
    },
    {
     "name": "stdout",
     "output_type": "stream",
     "text": [
      "ERROR Input and output must have the same number of spatial dimensions, but got input with with spatial dimensions of [] and output size of (28, 28). Please provide input tensor in (N, C, d1, d2, ...,dK) format and output size in (o1, o2, ...,oK) format.\n",
      "totalscore 0.5000413175641752\n"
     ]
    },
    {
     "name": "stderr",
     "output_type": "stream",
     "text": [
      "Traceback (most recent call last):\n",
      "  File \"/home/jupyter-steerapi/stitchnet/stitchnet/stitchonnx/utils.py\", line 1063, in recursive_stitching\n",
      "    newcurr_fragment = stitch_fragments(curr, nextf, data)\n",
      "  File \"/home/jupyter-steerapi/stitchnet/stitchnet/stitchonnx/utils.py\", line 708, in stitch_fragments\n",
      "    nw = adjust_w(tX, tY, w)\n",
      "  File \"/home/jupyter-steerapi/stitchnet/stitchnet/stitchonnx/utils.py\", line 627, in adjust_w\n",
      "    return adjust_w_conv(tX, tY, w)\n",
      "  File \"/home/jupyter-steerapi/stitchnet/stitchnet/stitchonnx/utils.py\", line 599, in adjust_w_conv\n",
      "    tX = up(tX)\n",
      "  File \"/home/jupyter-steerapi/.conda/envs/stitchnet/lib/python3.10/site-packages/torch/nn/modules/module.py\", line 1130, in _call_impl\n",
      "    return forward_call(*input, **kwargs)\n",
      "  File \"/home/jupyter-steerapi/.conda/envs/stitchnet/lib/python3.10/site-packages/torch/nn/modules/upsampling.py\", line 153, in forward\n",
      "    return F.interpolate(input, self.size, self.scale_factor, self.mode, self.align_corners,\n",
      "  File \"/home/jupyter-steerapi/.conda/envs/stitchnet/lib/python3.10/site-packages/torch/nn/functional.py\", line 3854, in interpolate\n",
      "    raise ValueError(\n",
      "ValueError: Input and output must have the same number of spatial dimensions, but got input with with spatial dimensions of [] and output size of (28, 28). Please provide input tensor in (N, C, d1, d2, ...,dK) format and output size in (o1, o2, ...,oK) format.\n"
     ]
    },
    {
     "name": "stdout",
     "output_type": "stream",
     "text": [
      "ERROR Input and output must have the same number of spatial dimensions, but got input with with spatial dimensions of [] and output size of (28, 28). Please provide input tensor in (N, C, d1, d2, ...,dK) format and output size in (o1, o2, ...,oK) format.\n",
      "totalscore 0.6415511367271103\n"
     ]
    },
    {
     "name": "stderr",
     "output_type": "stream",
     "text": [
      "Traceback (most recent call last):\n",
      "  File \"/home/jupyter-steerapi/stitchnet/stitchnet/stitchonnx/utils.py\", line 1063, in recursive_stitching\n",
      "    newcurr_fragment = stitch_fragments(curr, nextf, data)\n",
      "  File \"/home/jupyter-steerapi/stitchnet/stitchnet/stitchonnx/utils.py\", line 708, in stitch_fragments\n",
      "    nw = adjust_w(tX, tY, w)\n",
      "  File \"/home/jupyter-steerapi/stitchnet/stitchnet/stitchonnx/utils.py\", line 627, in adjust_w\n",
      "    return adjust_w_conv(tX, tY, w)\n",
      "  File \"/home/jupyter-steerapi/stitchnet/stitchnet/stitchonnx/utils.py\", line 599, in adjust_w_conv\n",
      "    tX = up(tX)\n",
      "  File \"/home/jupyter-steerapi/.conda/envs/stitchnet/lib/python3.10/site-packages/torch/nn/modules/module.py\", line 1130, in _call_impl\n",
      "    return forward_call(*input, **kwargs)\n",
      "  File \"/home/jupyter-steerapi/.conda/envs/stitchnet/lib/python3.10/site-packages/torch/nn/modules/upsampling.py\", line 153, in forward\n",
      "    return F.interpolate(input, self.size, self.scale_factor, self.mode, self.align_corners,\n",
      "  File \"/home/jupyter-steerapi/.conda/envs/stitchnet/lib/python3.10/site-packages/torch/nn/functional.py\", line 3854, in interpolate\n",
      "    raise ValueError(\n",
      "ValueError: Input and output must have the same number of spatial dimensions, but got input with with spatial dimensions of [] and output size of (28, 28). Please provide input tensor in (N, C, d1, d2, ...,dK) format and output size in (o1, o2, ...,oK) format.\n",
      "100%|██████████| 80/80 [00:08<00:00,  9.91it/s]\n"
     ]
    },
    {
     "name": "stdout",
     "output_type": "stream",
     "text": [
      "accuracy 0.7925343811394892\n",
      "saving to _results/1660390414_result_BS_32_MD_10_T_0.7_TT_0.5/net167\n",
      "totalscore 0.632475951541429\n",
      "current depth: 8\n",
      "potential next fragments: 43\n",
      "potential next fragments after thresholding of 0.7: 9 ['0.98', '0.94', '0.86', '0.86', '0.86', '0.79', '0.78', '0.72', '0.71']\n",
      "totalscore 0.6167335084774378\n"
     ]
    },
    {
     "name": "stderr",
     "output_type": "stream",
     "text": [
      "100%|██████████| 80/80 [00:08<00:00,  9.70it/s]\n"
     ]
    },
    {
     "name": "stdout",
     "output_type": "stream",
     "text": [
      "accuracy 0.7848722986247544\n",
      "saving to _results/1660390414_result_BS_32_MD_10_T_0.7_TT_0.5/net168\n",
      "totalscore 0.5969783235074042\n",
      "current depth: 9\n",
      "potential next fragments: 5\n",
      "potential next fragments after thresholding of 0.7: 4 ['0.96', '0.88', '0.87', '0.86']\n",
      "totalscore 0.5758255583514451\n"
     ]
    },
    {
     "name": "stderr",
     "output_type": "stream",
     "text": [
      "100%|██████████| 80/80 [00:08<00:00,  9.65it/s]\n"
     ]
    },
    {
     "name": "stdout",
     "output_type": "stream",
     "text": [
      "accuracy 0.7774066797642436\n",
      "saving to _results/1660390414_result_BS_32_MD_10_T_0.7_TT_0.5/net169\n",
      "totalscore 0.5228383563087309\n"
     ]
    },
    {
     "name": "stderr",
     "output_type": "stream",
     "text": [
      "100%|██████████| 80/80 [00:08<00:00,  9.35it/s]\n"
     ]
    },
    {
     "name": "stdout",
     "output_type": "stream",
     "text": [
      "accuracy 0.8298624754420432\n",
      "saving to _results/1660390414_result_BS_32_MD_10_T_0.7_TT_0.5/net170\n",
      "totalscore 0.5165527824737983\n"
     ]
    },
    {
     "name": "stderr",
     "output_type": "stream",
     "text": [
      "100%|██████████| 80/80 [00:08<00:00,  9.55it/s]\n"
     ]
    },
    {
     "name": "stdout",
     "output_type": "stream",
     "text": [
      "accuracy 0.7994106090373281\n",
      "saving to _results/1660390414_result_BS_32_MD_10_T_0.7_TT_0.5/net171\n",
      "totalscore 0.5137750560711412\n"
     ]
    },
    {
     "name": "stderr",
     "output_type": "stream",
     "text": [
      "100%|██████████| 80/80 [00:08<00:00,  9.36it/s]\n"
     ]
    },
    {
     "name": "stdout",
     "output_type": "stream",
     "text": [
      "accuracy 0.7783889980353634\n",
      "saving to _results/1660390414_result_BS_32_MD_10_T_0.7_TT_0.5/net172\n",
      "totalscore 0.5460223106401975\n"
     ]
    },
    {
     "name": "stderr",
     "output_type": "stream",
     "text": [
      "100%|██████████| 80/80 [00:08<00:00,  9.21it/s]\n"
     ]
    },
    {
     "name": "stdout",
     "output_type": "stream",
     "text": [
      "accuracy 0.7988212180746562\n",
      "saving to _results/1660390414_result_BS_32_MD_10_T_0.7_TT_0.5/net173\n",
      "totalscore 0.5453190450402311\n"
     ]
    },
    {
     "name": "stderr",
     "output_type": "stream",
     "text": [
      "100%|██████████| 80/80 [00:08<00:00,  9.24it/s]\n"
     ]
    },
    {
     "name": "stdout",
     "output_type": "stream",
     "text": [
      "accuracy 0.8330058939096268\n",
      "saving to _results/1660390414_result_BS_32_MD_10_T_0.7_TT_0.5/net174\n",
      "totalscore 0.5443608998518771\n"
     ]
    },
    {
     "name": "stderr",
     "output_type": "stream",
     "text": [
      "100%|██████████| 80/80 [00:08<00:00,  9.67it/s]\n"
     ]
    },
    {
     "name": "stdout",
     "output_type": "stream",
     "text": [
      "accuracy 0.8074656188605108\n",
      "saving to _results/1660390414_result_BS_32_MD_10_T_0.7_TT_0.5/net175\n",
      "totalscore 0.5001550680907104\n",
      "current depth: 9\n",
      "potential next fragments: 5\n",
      "potential next fragments after thresholding of 0.7: 5 ['1.0', '0.86', '0.86', '0.85', '0.82']\n",
      "totalscore 0.6234718079965317\n"
     ]
    },
    {
     "name": "stderr",
     "output_type": "stream",
     "text": [
      "100%|██████████| 80/80 [00:08<00:00,  9.45it/s]\n"
     ]
    },
    {
     "name": "stdout",
     "output_type": "stream",
     "text": [
      "accuracy 0.806090373280943\n",
      "saving to _results/1660390414_result_BS_32_MD_10_T_0.7_TT_0.5/net176\n",
      "totalscore 0.609184046762114\n"
     ]
    },
    {
     "name": "stderr",
     "output_type": "stream",
     "text": [
      "100%|██████████| 80/80 [00:08<00:00,  9.66it/s]\n"
     ]
    },
    {
     "name": "stdout",
     "output_type": "stream",
     "text": [
      "accuracy 0.8294695481335953\n",
      "saving to _results/1660390414_result_BS_32_MD_10_T_0.7_TT_0.5/net177\n",
      "totalscore 0.5998967471412412\n"
     ]
    },
    {
     "name": "stderr",
     "output_type": "stream",
     "text": [
      "100%|██████████| 80/80 [00:08<00:00,  9.59it/s]\n"
     ]
    },
    {
     "name": "stdout",
     "output_type": "stream",
     "text": [
      "accuracy 0.8078585461689587\n",
      "saving to _results/1660390414_result_BS_32_MD_10_T_0.7_TT_0.5/net178\n",
      "totalscore 0.5935801919028832\n",
      "current depth: 8\n",
      "potential next fragments: 43\n",
      "potential next fragments after thresholding of 0.7: 25 ['0.91', '0.9', '0.86', '0.81', '0.79', '0.79', '0.78', '0.77', '0.76', '0.76', '0.76', '0.76', '0.75', '0.75', '0.74', '0.73', '0.73', '0.73', '0.72', '0.72', '0.71', '0.71', '0.71', '0.7', '0.7']\n",
      "totalscore 0.5402299180163559\n",
      "current depth: 9\n",
      "potential next fragments: 5\n",
      "potential next fragments after thresholding of 0.7: 4 ['0.93', '0.82', '0.72', '0.71']\n",
      "totalscore 0.5008689580308214\n"
     ]
    },
    {
     "name": "stderr",
     "output_type": "stream",
     "text": [
      "100%|██████████| 80/80 [00:08<00:00,  9.59it/s]\n"
     ]
    },
    {
     "name": "stdout",
     "output_type": "stream",
     "text": [
      "accuracy 0.806679764243615\n",
      "saving to _results/1660390414_result_BS_32_MD_10_T_0.7_TT_0.5/net179\n",
      "totalscore 0.5328770765316886\n"
     ]
    },
    {
     "name": "stderr",
     "output_type": "stream",
     "text": [
      "100%|██████████| 80/80 [00:08<00:00,  9.65it/s]\n"
     ]
    },
    {
     "name": "stdout",
     "output_type": "stream",
     "text": [
      "accuracy 0.8339882121807466\n",
      "saving to _results/1660390414_result_BS_32_MD_10_T_0.7_TT_0.5/net180\n",
      "totalscore 0.5114164056239945\n"
     ]
    },
    {
     "name": "stderr",
     "output_type": "stream",
     "text": [
      "100%|██████████| 80/80 [00:08<00:00,  9.46it/s]\n"
     ]
    },
    {
     "name": "stdout",
     "output_type": "stream",
     "text": [
      "accuracy 0.8418467583497053\n",
      "saving to _results/1660390414_result_BS_32_MD_10_T_0.7_TT_0.5/net181\n",
      "totalscore 0.5827378843451485\n",
      "ERROR Input and output must have the same number of spatial dimensions, but got input with with spatial dimensions of [] and output size of (7, 7). Please provide input tensor in (N, C, d1, d2, ...,dK) format and output size in (o1, o2, ...,oK) format.\n",
      "totalscore 0.5606546100778714\n"
     ]
    },
    {
     "name": "stderr",
     "output_type": "stream",
     "text": [
      "Traceback (most recent call last):\n",
      "  File \"/home/jupyter-steerapi/stitchnet/stitchnet/stitchonnx/utils.py\", line 1063, in recursive_stitching\n",
      "    newcurr_fragment = stitch_fragments(curr, nextf, data)\n",
      "  File \"/home/jupyter-steerapi/stitchnet/stitchnet/stitchonnx/utils.py\", line 708, in stitch_fragments\n",
      "    nw = adjust_w(tX, tY, w)\n",
      "  File \"/home/jupyter-steerapi/stitchnet/stitchnet/stitchonnx/utils.py\", line 627, in adjust_w\n",
      "    return adjust_w_conv(tX, tY, w)\n",
      "  File \"/home/jupyter-steerapi/stitchnet/stitchnet/stitchonnx/utils.py\", line 599, in adjust_w_conv\n",
      "    tX = up(tX)\n",
      "  File \"/home/jupyter-steerapi/.conda/envs/stitchnet/lib/python3.10/site-packages/torch/nn/modules/module.py\", line 1130, in _call_impl\n",
      "    return forward_call(*input, **kwargs)\n",
      "  File \"/home/jupyter-steerapi/.conda/envs/stitchnet/lib/python3.10/site-packages/torch/nn/modules/upsampling.py\", line 153, in forward\n",
      "    return F.interpolate(input, self.size, self.scale_factor, self.mode, self.align_corners,\n",
      "  File \"/home/jupyter-steerapi/.conda/envs/stitchnet/lib/python3.10/site-packages/torch/nn/functional.py\", line 3854, in interpolate\n",
      "    raise ValueError(\n",
      "ValueError: Input and output must have the same number of spatial dimensions, but got input with with spatial dimensions of [] and output size of (7, 7). Please provide input tensor in (N, C, d1, d2, ...,dK) format and output size in (o1, o2, ...,oK) format.\n"
     ]
    },
    {
     "name": "stdout",
     "output_type": "stream",
     "text": [
      "current depth: 8\n",
      "potential next fragments: 43\n",
      "potential next fragments after thresholding of 0.7: 37 ['0.96', '0.93', '0.84', '0.84', '0.82', '0.8', '0.8', '0.8', '0.78', '0.78', '0.76', '0.75', '0.75', '0.75', '0.75', '0.74', '0.74', '0.74', '0.74', '0.74', '0.74', '0.73', '0.73', '0.73', '0.72', '0.72', '0.72', '0.72', '0.72', '0.72', '0.72', '0.71', '0.71', '0.71', '0.7', '0.7', '0.7']\n",
      "totalscore 0.5401315136217476\n",
      "current depth: 9\n",
      "potential next fragments: 5\n",
      "potential next fragments after thresholding of 0.7: 5 ['0.96', '0.87', '0.86', '0.85', '0.8']\n",
      "totalscore 0.5191055787612033\n"
     ]
    },
    {
     "name": "stderr",
     "output_type": "stream",
     "text": [
      "100%|██████████| 80/80 [00:08<00:00,  9.61it/s]\n"
     ]
    },
    {
     "name": "stdout",
     "output_type": "stream",
     "text": [
      "accuracy 0.7640471512770137\n",
      "saving to _results/1660390414_result_BS_32_MD_10_T_0.7_TT_0.5/net182\n",
      "totalscore 0.5222143899207634\n"
     ]
    },
    {
     "name": "stderr",
     "output_type": "stream",
     "text": [
      "100%|██████████| 80/80 [00:08<00:00,  9.37it/s]\n"
     ]
    },
    {
     "name": "stdout",
     "output_type": "stream",
     "text": [
      "accuracy 0.7707269155206287\n",
      "saving to _results/1660390414_result_BS_32_MD_10_T_0.7_TT_0.5/net183\n",
      "totalscore 0.5592239359959374\n",
      "current depth: 8\n",
      "potential next fragments: 43\n",
      "potential next fragments after thresholding of 0.7: 27 ['0.97', '0.93', '0.88', '0.81', '0.8', '0.79', '0.77', '0.77', '0.77', '0.76', '0.76', '0.76', '0.75', '0.75', '0.74', '0.72', '0.72', '0.72', '0.72', '0.72', '0.71', '0.71', '0.71', '0.71', '0.71', '0.7', '0.7']\n",
      "totalscore 0.543611899349208\n",
      "current depth: 9\n",
      "potential next fragments: 5\n",
      "potential next fragments after thresholding of 0.7: 4 ['0.91', '0.82', '0.77', '0.77']\n",
      "totalscore 0.5198881367856137\n"
     ]
    },
    {
     "name": "stderr",
     "output_type": "stream",
     "text": [
      " 78%|███████▊  | 62/80 [00:06<00:01, 13.87it/s]"
     ]
    }
   ],
   "source": [
    "from tqdm import tqdm\n",
    "\n",
    "scoreMapper = ScoreMapper(nets, data_score)\n",
    "with Report(EVAL_BATCH_SIZE, f'./_results/{RESULT_NAME}.txt', 'w') as report:\n",
    "    # for _ in tqdm(range(50)):\n",
    "    generator = generate_networks(nets, scoreMapper, data_score, \n",
    "                          threshold=THRESOULD, totalThreshold=TOTAL_THRESOULD, \n",
    "                          maxDepth=MAX_DEPTH, sample=False)\n",
    "    for i,(s,net) in enumerate(generator):\n",
    "        try:\n",
    "            netname = f\"_results/{RESULT_NAME}/net{k:03}\"\n",
    "            report.evaluate(nets, net, netname, s, dataset_val)\n",
    "            net.save(netname)\n",
    "            k += 1\n",
    "        except Exception as e:\n",
    "            print('ERROR', e)\n",
    "            pass"
   ]
  },
  {
   "cell_type": "code",
   "execution_count": null,
   "id": "8f0e38c8-add9-4b3d-8fe1-726c3c2b20c6",
   "metadata": {},
   "outputs": [],
   "source": [
    "# dataset_val"
   ]
  },
  {
   "cell_type": "code",
   "execution_count": null,
   "id": "d0062065-28d9-4d1d-84c8-e337735b9ada",
   "metadata": {},
   "outputs": [],
   "source": []
  }
 ],
 "metadata": {
  "kernelspec": {
   "display_name": "stitchnet",
   "language": "python",
   "name": "stitchnet"
  },
  "language_info": {
   "codemirror_mode": {
    "name": "ipython",
    "version": 3
   },
   "file_extension": ".py",
   "mimetype": "text/x-python",
   "name": "python",
   "nbconvert_exporter": "python",
   "pygments_lexer": "ipython3",
   "version": "3.10.5"
  }
 },
 "nbformat": 4,
 "nbformat_minor": 5
}
